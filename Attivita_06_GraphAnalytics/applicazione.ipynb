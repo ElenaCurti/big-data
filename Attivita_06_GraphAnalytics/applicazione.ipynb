{
 "cells": [
  {
   "attachments": {},
   "cell_type": "markdown",
   "metadata": {},
   "source": [
    "<center>Progetto realizzato da Elena Curti (matr. 185431)\n",
    "\n",
    "# Crimes Database\n",
    "</center>\n",
    "\n",
    "## Introduzione\n",
    "Lo scopo di questo progetto è di rispondere a dei research \n",
    "\n",
    "## Requisiti\n"
   ]
  },
  {
   "attachments": {},
   "cell_type": "markdown",
   "metadata": {},
   "source": [
    "## Operazioni iniziali\n",
    "Creare un database ..."
   ]
  },
  {
   "cell_type": "code",
   "execution_count": 1,
   "metadata": {},
   "outputs": [
    {
     "name": "stdout",
     "output_type": "stream",
     "text": [
      "Connessione al database eseguita correttamente!\n"
     ]
    }
   ],
   "source": [
    "from py2neo import Graph\n",
    "graph = Graph(\"bolt://localhost:7687\",  auth=(\"neo4j\", \"password1234\"))\n",
    "print(\"Connessione al database eseguita correttamente!\")"
   ]
  },
  {
   "attachments": {},
   "cell_type": "markdown",
   "metadata": {},
   "source": [
    "## Descrizione del database"
   ]
  },
  {
   "attachments": {},
   "cell_type": "markdown",
   "metadata": {},
   "source": [
    "## 1. Quali sono gli agenti di polizia più importanti?\n"
   ]
  },
  {
   "attachments": {},
   "cell_type": "markdown",
   "metadata": {},
   "source": [
    "### 1A. Numero dei crimini (cypher query) \n",
    "1A. In base al numero dei crimini in cui hanno investigato (usando le cypher query) "
   ]
  },
  {
   "cell_type": "code",
   "execution_count": 2,
   "metadata": {},
   "outputs": [
    {
     "data": {
      "text/html": [
       "<table><tr><th>badge_number</th><th>nome</th><th>cognome</th><th>rango</th><th>num_invest</th></tr><tr><td style=\"text-align:left\">48-0216838</td><td style=\"text-align:left\">Madelon</td><td style=\"text-align:left\">DeSousa</td><td style=\"text-align:left\">Sergeant</td><td style=\"text-align:right\">50</td></tr><tr><td style=\"text-align:left\">04-5664884</td><td style=\"text-align:left\">Cloe</td><td style=\"text-align:left\">Ings</td><td style=\"text-align:left\">Police Constable</td><td style=\"text-align:right\">47</td></tr><tr><td style=\"text-align:left\">58-9758255</td><td style=\"text-align:left\">Kania</td><td style=\"text-align:left\">Notti</td><td style=\"text-align:left\">Sergeant</td><td style=\"text-align:right\">46</td></tr><tr><td style=\"text-align:left\">27-2227814</td><td style=\"text-align:left\">Worthy</td><td style=\"text-align:left\">Nettles</td><td style=\"text-align:left\">Inspector</td><td style=\"text-align:right\">45</td></tr><tr><td style=\"text-align:left\">86-7588000</td><td style=\"text-align:left\">Ricca</td><td style=\"text-align:left\">Miskimmon</td><td style=\"text-align:left\">Inspector</td><td style=\"text-align:right\">44</td></tr><tr><td style=\"text-align:left\">79-9843712</td><td style=\"text-align:left\">Olenolin</td><td style=\"text-align:left\">Klehyn</td><td style=\"text-align:left\">Sergeant</td><td style=\"text-align:right\">44</td></tr><tr><td style=\"text-align:left\">41-5548000</td><td style=\"text-align:left\">Winonah</td><td style=\"text-align:left\">Skynner</td><td style=\"text-align:left\">Inspector</td><td style=\"text-align:right\">44</td></tr><tr><td style=\"text-align:left\">36-7678091</td><td style=\"text-align:left\">Simmonds</td><td style=\"text-align:left\">Greensall</td><td style=\"text-align:left\">Police Constable</td><td style=\"text-align:right\">43</td></tr><tr><td style=\"text-align:left\">34-6222792</td><td style=\"text-align:left\">Hollyanne</td><td style=\"text-align:left\">Orcott</td><td style=\"text-align:left\">Inspector</td><td style=\"text-align:right\">43</td></tr><tr><td style=\"text-align:left\">73-9322216</td><td style=\"text-align:left\">Hedy</td><td style=\"text-align:left\">Vinson</td><td style=\"text-align:left\">Police Constable</td><td style=\"text-align:right\">43</td></tr></table>"
      ],
      "text/plain": [
       " badge_number | nome      | cognome   | rango            | num_invest \n",
       "--------------|-----------|-----------|------------------|------------\n",
       " 48-0216838   | Madelon   | DeSousa   | Sergeant         |         50 \n",
       " 04-5664884   | Cloe      | Ings      | Police Constable |         47 \n",
       " 58-9758255   | Kania     | Notti     | Sergeant         |         46 \n",
       " 27-2227814   | Worthy    | Nettles   | Inspector        |         45 \n",
       " 86-7588000   | Ricca     | Miskimmon | Inspector        |         44 \n",
       " 79-9843712   | Olenolin  | Klehyn    | Sergeant         |         44 \n",
       " 41-5548000   | Winonah   | Skynner   | Inspector        |         44 \n",
       " 36-7678091   | Simmonds  | Greensall | Police Constable |         43 \n",
       " 34-6222792   | Hollyanne | Orcott    | Inspector        |         43 \n",
       " 73-9322216   | Hedy      | Vinson    | Police Constable |         43 "
      ]
     },
     "metadata": {},
     "output_type": "display_data"
    }
   ],
   "source": [
    "def print_n_results(cq, n=100):\n",
    "    ris = graph.run(cq)\n",
    "    ris.sample_size = n\n",
    "    display(ris)\n",
    "\n",
    "cq = \"\"\" \n",
    "MATCH (o:Officer)<-[:INVESTIGATED_BY]-(c:Crime) \n",
    "WITH o, count(c) as num_invest\n",
    "RETURN o.badge_no as badge_number, o.name as nome, o.surname as cognome, o.rank as rango, num_invest\n",
    "ORDER BY num_invest DESC\n",
    "LIMIT 10 ;\n",
    "\"\"\"\n",
    "print_n_results(cq)\n",
    "\n",
    "\n",
    "# TODO questo si può rimuovere, usarlo solo per capire come cambiano i risultati\n",
    "ris1 = [i[\"badge_number\"] + \" \" + i[\"nome\"] +\" \" + i[\"cognome\"] for i in graph.run(cq).data()] \n",
    "def check_results(cq):\n",
    "    res = [i[\"badge_number\"] + \" \" + i[\"nome\"] +\" \" + i[\"cognome\"] for i in graph.run(cq).data()] \n",
    "    return res == ris1\n",
    "\n"
   ]
  },
  {
   "attachments": {},
   "cell_type": "markdown",
   "metadata": {},
   "source": [
    "### 1B. Numero dei crimini (Page Rank e Betweenness Centrality)"
   ]
  },
  {
   "cell_type": "code",
   "execution_count": 3,
   "metadata": {},
   "outputs": [
    {
     "data": {
      "text/html": [
       "<table><tr><th>nodeProjection</th><th>relationshipProjection</th><th>graphName</th><th>nodeCount</th><th>relationshipCount</th><th>projectMillis</th></tr><tr><td style=\"text-align:left\">{Crime: {label: &#039;Crime&#039;, properties: {}}, Officer: {label: &#039;Officer&#039;, properties: {}}}</td><td style=\"text-align:left\">{INVESTIGATED_BY: {orientation: &#039;UNDIRECTED&#039;, aggregation: &#039;DEFAULT&#039;, type: &#039;INVESTIGATED_BY&#039;, properties: {}}}</td><td style=\"text-align:left\">officers</td><td style=\"text-align:right\">29762</td><td style=\"text-align:right\">57524</td><td style=\"text-align:right\">10</td></tr></table>"
      ],
      "text/plain": [
       " nodeProjection                                                                         | relationshipProjection                                                                                          | graphName | nodeCount | relationshipCount | projectMillis \n",
       "----------------------------------------------------------------------------------------|-----------------------------------------------------------------------------------------------------------------|-----------|-----------|-------------------|---------------\n",
       " {Crime: {label: 'Crime', properties: {}}, Officer: {label: 'Officer', properties: {}}} | {INVESTIGATED_BY: {orientation: 'UNDIRECTED', aggregation: 'DEFAULT', type: 'INVESTIGATED_BY', properties: {}}} | officers  |     29762 |             57524 |            10 "
      ]
     },
     "execution_count": 3,
     "metadata": {},
     "output_type": "execute_result"
    }
   ],
   "source": [
    "# Creo la proiezione\n",
    "if graph.run(\"call gds.graph.exists('officers')\").data()[0][\"exists\"]:\n",
    "  graph.run('call gds.graph.drop(\"officers\")')\n",
    "\n",
    "cq = \"\"\"\n",
    "CALL gds.graph.project(\n",
    "  'officers',    \n",
    "  ['Officer', 'Crime'],\n",
    "  {INVESTIGATED_BY: {orientation: 'UNDIRECTED'} }\n",
    ") ;\n",
    "\"\"\"\n",
    "\n",
    "graph.run(cq)"
   ]
  },
  {
   "cell_type": "code",
   "execution_count": 4,
   "metadata": {},
   "outputs": [
    {
     "data": {
      "text/html": [
       "<table><tr><th>algoritmo</th><th>nodeCount</th><th>relationshipCount</th><th>bytesMin</th><th>bytesMax</th><th>requiredMemory</th></tr><tr><td style=\"text-align:left\">Page Rank</td><td style=\"text-align:right\">29762</td><td style=\"text-align:right\">57524</td><td style=\"text-align:right\">718808</td><td style=\"text-align:right\">718808</td><td style=\"text-align:left\">701 KiB</td></tr><tr><td style=\"text-align:left\">Betweenness</td><td style=\"text-align:right\">29762</td><td style=\"text-align:right\">57524</td><td style=\"text-align:right\">8335024</td><td style=\"text-align:right\">8335024</td><td style=\"text-align:left\">8139 KiB</td></tr></table>"
      ],
      "text/plain": [
       " algoritmo   | nodeCount | relationshipCount | bytesMin | bytesMax | requiredMemory \n",
       "-------------|-----------|-------------------|----------|----------|----------------\n",
       " Page Rank   |     29762 |             57524 |   718808 |   718808 | 701 KiB        \n",
       " Betweenness |     29762 |             57524 |  8335024 |  8335024 | 8139 KiB       "
      ]
     },
     "execution_count": 4,
     "metadata": {},
     "output_type": "execute_result"
    }
   ],
   "source": [
    "# Memory estimation\n",
    "graph.run(\"\"\" \n",
    "CALL gds.pageRank.write.estimate('officers', { writeProperty: 'pageRank' })\n",
    "YIELD nodeCount, relationshipCount, bytesMin, bytesMax, requiredMemory\n",
    "RETURN \"Page Rank\" as algoritmo, nodeCount, relationshipCount, bytesMin, bytesMax, requiredMemory\n",
    "\n",
    "UNION ALL\n",
    "\n",
    "CALL gds.betweenness.write.estimate('officers', { writeProperty: 'betweenness' })\n",
    "YIELD  nodeCount, relationshipCount, bytesMin, bytesMax, requiredMemory\n",
    "RETURN \"Betweenness\" as algoritmo, nodeCount, relationshipCount, bytesMin, bytesMax, requiredMemory ; \n",
    "\"\"\" )"
   ]
  },
  {
   "cell_type": "code",
   "execution_count": 5,
   "metadata": {},
   "outputs": [
    {
     "name": "stdout",
     "output_type": "stream",
     "text": [
      "Page Rank: \n"
     ]
    },
    {
     "data": {
      "text/html": [
       "<table><tr><th>badge_number</th><th>nome</th><th>cognome</th><th>rango</th><th>pageRank</th></tr><tr><td style=\"text-align:left\">48-0216838</td><td style=\"text-align:left\">Madelon</td><td style=\"text-align:left\">DeSousa</td><td style=\"text-align:left\">Sergeant</td><td style=\"text-align:right\">22.602140755580333</td></tr><tr><td style=\"text-align:left\">04-5664884</td><td style=\"text-align:left\">Cloe</td><td style=\"text-align:left\">Ings</td><td style=\"text-align:left\">Police Constable</td><td style=\"text-align:right\">21.27718767680494</td></tr><tr><td style=\"text-align:left\">58-9758255</td><td style=\"text-align:left\">Kania</td><td style=\"text-align:left\">Notti</td><td style=\"text-align:left\">Sergeant</td><td style=\"text-align:right\">20.835536650546473</td></tr><tr><td style=\"text-align:left\">27-2227814</td><td style=\"text-align:left\">Worthy</td><td style=\"text-align:left\">Nettles</td><td style=\"text-align:left\">Inspector</td><td style=\"text-align:right\">20.39388562428801</td></tr><tr><td style=\"text-align:left\">79-9843712</td><td style=\"text-align:left\">Olenolin</td><td style=\"text-align:left\">Klehyn</td><td style=\"text-align:left\">Sergeant</td><td style=\"text-align:right\">19.952234598029545</td></tr><tr><td style=\"text-align:left\">86-7588000</td><td style=\"text-align:left\">Ricca</td><td style=\"text-align:left\">Miskimmon</td><td style=\"text-align:left\">Inspector</td><td style=\"text-align:right\">19.952234598029545</td></tr><tr><td style=\"text-align:left\">41-5548000</td><td style=\"text-align:left\">Winonah</td><td style=\"text-align:left\">Skynner</td><td style=\"text-align:left\">Inspector</td><td style=\"text-align:right\">19.952234598029545</td></tr><tr><td style=\"text-align:left\">36-7678091</td><td style=\"text-align:left\">Simmonds</td><td style=\"text-align:left\">Greensall</td><td style=\"text-align:left\">Police Constable</td><td style=\"text-align:right\">19.510583571771075</td></tr><tr><td style=\"text-align:left\">34-6222792</td><td style=\"text-align:left\">Hollyanne</td><td style=\"text-align:left\">Orcott</td><td style=\"text-align:left\">Inspector</td><td style=\"text-align:right\">19.510583571771075</td></tr><tr><td style=\"text-align:left\">73-9322216</td><td style=\"text-align:left\">Hedy</td><td style=\"text-align:left\">Vinson</td><td style=\"text-align:left\">Police Constable</td><td style=\"text-align:right\">19.510583571771075</td></tr></table>"
      ],
      "text/plain": [
       " badge_number | nome      | cognome   | rango            |           pageRank \n",
       "--------------|-----------|-----------|------------------|--------------------\n",
       " 48-0216838   | Madelon   | DeSousa   | Sergeant         | 22.602140755580333 \n",
       " 04-5664884   | Cloe      | Ings      | Police Constable |  21.27718767680494 \n",
       " 58-9758255   | Kania     | Notti     | Sergeant         | 20.835536650546473 \n",
       " 27-2227814   | Worthy    | Nettles   | Inspector        |  20.39388562428801 \n",
       " 79-9843712   | Olenolin  | Klehyn    | Sergeant         | 19.952234598029545 \n",
       " 86-7588000   | Ricca     | Miskimmon | Inspector        | 19.952234598029545 \n",
       " 41-5548000   | Winonah   | Skynner   | Inspector        | 19.952234598029545 \n",
       " 36-7678091   | Simmonds  | Greensall | Police Constable | 19.510583571771075 \n",
       " 34-6222792   | Hollyanne | Orcott    | Inspector        | 19.510583571771075 \n",
       " 73-9322216   | Hedy      | Vinson    | Police Constable | 19.510583571771075 "
      ]
     },
     "metadata": {},
     "output_type": "display_data"
    },
    {
     "name": "stdout",
     "output_type": "stream",
     "text": [
      "Betweenness Centrality: \n"
     ]
    },
    {
     "data": {
      "text/html": [
       "<table><tr><th>badge_number</th><th>nome</th><th>cognome</th><th>rango</th><th>pageRank</th></tr><tr><td style=\"text-align:left\">48-0216838</td><td style=\"text-align:left\">Madelon</td><td style=\"text-align:left\">DeSousa</td><td style=\"text-align:left\">Sergeant</td><td style=\"text-align:right\">1225.0</td></tr><tr><td style=\"text-align:left\">04-5664884</td><td style=\"text-align:left\">Cloe</td><td style=\"text-align:left\">Ings</td><td style=\"text-align:left\">Police Constable</td><td style=\"text-align:right\">1081.0</td></tr><tr><td style=\"text-align:left\">58-9758255</td><td style=\"text-align:left\">Kania</td><td style=\"text-align:left\">Notti</td><td style=\"text-align:left\">Sergeant</td><td style=\"text-align:right\">1035.0</td></tr><tr><td style=\"text-align:left\">27-2227814</td><td style=\"text-align:left\">Worthy</td><td style=\"text-align:left\">Nettles</td><td style=\"text-align:left\">Inspector</td><td style=\"text-align:right\">990.0</td></tr><tr><td style=\"text-align:left\">41-5548000</td><td style=\"text-align:left\">Winonah</td><td style=\"text-align:left\">Skynner</td><td style=\"text-align:left\">Inspector</td><td style=\"text-align:right\">946.0</td></tr><tr><td style=\"text-align:left\">86-7588000</td><td style=\"text-align:left\">Ricca</td><td style=\"text-align:left\">Miskimmon</td><td style=\"text-align:left\">Inspector</td><td style=\"text-align:right\">946.0</td></tr><tr><td style=\"text-align:left\">79-9843712</td><td style=\"text-align:left\">Olenolin</td><td style=\"text-align:left\">Klehyn</td><td style=\"text-align:left\">Sergeant</td><td style=\"text-align:right\">946.0</td></tr><tr><td style=\"text-align:left\">36-7678091</td><td style=\"text-align:left\">Simmonds</td><td style=\"text-align:left\">Greensall</td><td style=\"text-align:left\">Police Constable</td><td style=\"text-align:right\">903.0</td></tr><tr><td style=\"text-align:left\">34-6222792</td><td style=\"text-align:left\">Hollyanne</td><td style=\"text-align:left\">Orcott</td><td style=\"text-align:left\">Inspector</td><td style=\"text-align:right\">903.0</td></tr><tr><td style=\"text-align:left\">73-9322216</td><td style=\"text-align:left\">Hedy</td><td style=\"text-align:left\">Vinson</td><td style=\"text-align:left\">Police Constable</td><td style=\"text-align:right\">903.0</td></tr></table>"
      ],
      "text/plain": [
       " badge_number | nome      | cognome   | rango            | pageRank \n",
       "--------------|-----------|-----------|------------------|----------\n",
       " 48-0216838   | Madelon   | DeSousa   | Sergeant         |   1225.0 \n",
       " 04-5664884   | Cloe      | Ings      | Police Constable |   1081.0 \n",
       " 58-9758255   | Kania     | Notti     | Sergeant         |   1035.0 \n",
       " 27-2227814   | Worthy    | Nettles   | Inspector        |    990.0 \n",
       " 41-5548000   | Winonah   | Skynner   | Inspector        |    946.0 \n",
       " 86-7588000   | Ricca     | Miskimmon | Inspector        |    946.0 \n",
       " 79-9843712   | Olenolin  | Klehyn    | Sergeant         |    946.0 \n",
       " 36-7678091   | Simmonds  | Greensall | Police Constable |    903.0 \n",
       " 34-6222792   | Hollyanne | Orcott    | Inspector        |    903.0 \n",
       " 73-9322216   | Hedy      | Vinson    | Police Constable |    903.0 "
      ]
     },
     "metadata": {},
     "output_type": "display_data"
    }
   ],
   "source": [
    "# Risultati\n",
    "print(\"Page Rank: \")\n",
    "cq=\"\"\" \n",
    "CALL gds.pageRank.stream('officers')\n",
    "YIELD nodeId, score\n",
    "WITH gds.util.asNode(nodeId) AS n, score AS pageRank\n",
    "RETURN n.badge_no as badge_number, n.name as nome, n.surname as cognome, n.rank as rango,pageRank\n",
    "ORDER BY pageRank DESC\n",
    "LIMIT 10 ;\n",
    "\"\"\"\n",
    "print_n_results(cq)\n",
    "\n",
    "\n",
    "print(\"Betweenness Centrality: \")\n",
    "cq=\"\"\" \n",
    "CALL gds.betweenness.stream('officers')\n",
    "YIELD nodeId, score\n",
    "WITH gds.util.asNode(nodeId) AS n, score AS pageRank\n",
    "RETURN n.badge_no as badge_number, n.name as nome, n.surname as cognome, n.rank as rango,pageRank\n",
    "ORDER BY pageRank DESC\n",
    "LIMIT 10 ;\n",
    "\"\"\"\n",
    "print_n_results(cq)"
   ]
  },
  {
   "attachments": {},
   "cell_type": "markdown",
   "metadata": {},
   "source": [
    "### 1C. Solo gli agenti che hanno arrestato almeno una persona (Degree centrality)"
   ]
  },
  {
   "cell_type": "code",
   "execution_count": 6,
   "metadata": {},
   "outputs": [
    {
     "data": {
      "text/html": [
       "<table><tr><th>nodeQuery</th><th>relationshipQuery</th><th>graphName</th><th>nodeCount</th><th>relationshipCount</th><th>projectMillis</th></tr><tr><td style=\"text-align:left\">MATCH (o:Officer|Crime)  RETURN DISTINCT id(o) as id</td><td style=\"text-align:left\">MATCH (o:Officer)&lt;--(c:Crime)&lt;--(:Person) RETURN  id(o) AS source, id(c) as target, &quot;INVESTIGATED_BY&quot; as type</td><td style=\"text-align:left\">officers-crime-con-persone</td><td style=\"text-align:right\">29762</td><td style=\"text-align:right\">55</td><td style=\"text-align:right\">46</td></tr></table>"
      ],
      "text/plain": [
       " nodeQuery                                            | relationshipQuery                                                                                             | graphName                  | nodeCount | relationshipCount | projectMillis \n",
       "------------------------------------------------------|---------------------------------------------------------------------------------------------------------------|----------------------------|-----------|-------------------|---------------\n",
       " MATCH (o:Officer|Crime)  RETURN DISTINCT id(o) as id | MATCH (o:Officer)<--(c:Crime)<--(:Person) RETURN  id(o) AS source, id(c) as target, \"INVESTIGATED_BY\" as type | officers-crime-con-persone |     29762 |                55 |            46 "
      ]
     },
     "execution_count": 6,
     "metadata": {},
     "output_type": "execute_result"
    }
   ],
   "source": [
    "# Creo la proiezione\n",
    "if graph.run(\"call gds.graph.exists('officers-crime-con-persone')\").data()[0][\"exists\"]:\n",
    "  graph.run('call gds.graph.drop(\"officers-crime-con-persone\")')\n",
    "\n",
    "cq=\"\"\" \n",
    "CALL gds.graph.project.cypher('officers-crime-con-persone',\n",
    "  'MATCH (o:Officer|Crime)  RETURN DISTINCT id(o) as id',\n",
    "  'MATCH (o:Officer)<--(c:Crime)<--(:Person) RETURN  id(o) AS source, id(c) as target, \"INVESTIGATED_BY\" as type',\n",
    "{validateRelationships:false}\n",
    ");\"\"\" \n",
    "\n",
    "graph.run(cq)"
   ]
  },
  {
   "cell_type": "code",
   "execution_count": 7,
   "metadata": {},
   "outputs": [
    {
     "data": {
      "text/html": [
       "<table><tr><th>nodeCount</th><th>relationshipCount</th><th>bytesMin</th><th>bytesMax</th><th>requiredMemory</th></tr><tr><td style=\"text-align:right\">29762</td><td style=\"text-align:right\">55</td><td style=\"text-align:right\">56</td><td style=\"text-align:right\">56</td><td style=\"text-align:left\">56 Bytes</td></tr></table>"
      ],
      "text/plain": [
       " nodeCount | relationshipCount | bytesMin | bytesMax | requiredMemory \n",
       "-----------|-------------------|----------|----------|----------------\n",
       "     29762 |                55 |       56 |       56 | 56 Bytes       "
      ]
     },
     "execution_count": 7,
     "metadata": {},
     "output_type": "execute_result"
    }
   ],
   "source": [
    "# Memory estimation\n",
    "graph.run(\"\"\" \n",
    "CALL gds.degree.write.estimate('officers-crime-con-persone', { writeProperty: 'betweenness' })\n",
    "YIELD  nodeCount, relationshipCount, bytesMin, bytesMax, requiredMemory\n",
    "RETURN nodeCount, relationshipCount, bytesMin, bytesMax, requiredMemory ; \n",
    "\"\"\" )"
   ]
  },
  {
   "cell_type": "code",
   "execution_count": 8,
   "metadata": {},
   "outputs": [
    {
     "data": {
      "text/html": [
       "<table><tr><th>badge_number</th><th>nome</th><th>cognome</th><th>rango</th><th>score</th></tr><tr><td style=\"text-align:left\">26-5234182</td><td style=\"text-align:left\">Devy</td><td style=\"text-align:left\">Larive</td><td style=\"text-align:left\">Police Constable</td><td style=\"text-align:right\">3.0</td></tr><tr><td style=\"text-align:left\">27-0802784</td><td style=\"text-align:left\">Lilian</td><td style=\"text-align:left\">Dubbin</td><td style=\"text-align:left\">Sergeant</td><td style=\"text-align:right\">1.0</td></tr><tr><td style=\"text-align:left\">74-2393363</td><td style=\"text-align:left\">Paolina</td><td style=\"text-align:left\">Hellwig</td><td style=\"text-align:left\">Police Constable</td><td style=\"text-align:right\">1.0</td></tr><tr><td style=\"text-align:left\">69-8126297</td><td style=\"text-align:left\">Pauline</td><td style=\"text-align:left\">Petrasso</td><td style=\"text-align:left\">Police Constable</td><td style=\"text-align:right\">1.0</td></tr><tr><td style=\"text-align:left\">53-7043460</td><td style=\"text-align:left\">Edithe</td><td style=\"text-align:left\">Thackray</td><td style=\"text-align:left\">Inspector</td><td style=\"text-align:right\">1.0</td></tr><tr><td style=\"text-align:left\">30-2717379</td><td style=\"text-align:left\">Dorothea</td><td style=\"text-align:left\">Blann</td><td style=\"text-align:left\">Police Constable</td><td style=\"text-align:right\">1.0</td></tr><tr><td style=\"text-align:left\">04-6245275</td><td style=\"text-align:left\">Von</td><td style=\"text-align:left\">Death</td><td style=\"text-align:left\">Police Constable</td><td style=\"text-align:right\">1.0</td></tr><tr><td style=\"text-align:left\">54-9607307</td><td style=\"text-align:left\">Gregorius</td><td style=\"text-align:left\">Shakesby</td><td style=\"text-align:left\">Police Constable</td><td style=\"text-align:right\">1.0</td></tr><tr><td style=\"text-align:left\">80-2249206</td><td style=\"text-align:left\">Shepperd</td><td style=\"text-align:left\">Meller</td><td style=\"text-align:left\">Sergeant</td><td style=\"text-align:right\">1.0</td></tr><tr><td style=\"text-align:left\">92-0932678</td><td style=\"text-align:left\">Mada</td><td style=\"text-align:left\">Filisov</td><td style=\"text-align:left\">Police Constable</td><td style=\"text-align:right\">1.0</td></tr></table>"
      ],
      "text/plain": [
       " badge_number | nome      | cognome  | rango            | score \n",
       "--------------|-----------|----------|------------------|-------\n",
       " 26-5234182   | Devy      | Larive   | Police Constable |   3.0 \n",
       " 27-0802784   | Lilian    | Dubbin   | Sergeant         |   1.0 \n",
       " 74-2393363   | Paolina   | Hellwig  | Police Constable |   1.0 \n",
       " 69-8126297   | Pauline   | Petrasso | Police Constable |   1.0 \n",
       " 53-7043460   | Edithe    | Thackray | Inspector        |   1.0 \n",
       " 30-2717379   | Dorothea  | Blann    | Police Constable |   1.0 \n",
       " 04-6245275   | Von       | Death    | Police Constable |   1.0 \n",
       " 54-9607307   | Gregorius | Shakesby | Police Constable |   1.0 \n",
       " 80-2249206   | Shepperd  | Meller   | Sergeant         |   1.0 \n",
       " 92-0932678   | Mada      | Filisov  | Police Constable |   1.0 "
      ]
     },
     "metadata": {},
     "output_type": "display_data"
    }
   ],
   "source": [
    "# Seleziono solo gli agenti che hanno arrestato una persona\n",
    "cq=\"\"\" \n",
    "CALL gds.degree.stream('officers-crime-con-persone')\n",
    "YIELD nodeId, score\n",
    "WITH gds.util.asNode(nodeId) AS n, score\n",
    "RETURN n.badge_no as badge_number, n.name as nome, n.surname as cognome, n.rank as rango,score\n",
    "ORDER BY score DESC\n",
    "LIMIT 10 ;\n",
    "\"\"\"\n",
    "print_n_results(cq)"
   ]
  },
  {
   "attachments": {},
   "cell_type": "markdown",
   "metadata": {},
   "source": [
    "### 1D. In base al numero di persone arrestate (HITS)"
   ]
  },
  {
   "cell_type": "code",
   "execution_count": 9,
   "metadata": {},
   "outputs": [
    {
     "data": {
      "text/html": [
       "<table><tr><th>nodeQuery</th><th>relationshipQuery</th><th>graphName</th><th>nodeCount</th><th>relationshipCount</th><th>projectMillis</th></tr><tr><td style=\"text-align:left\">MATCH (o:Officer|Person)  RETURN DISTINCT id(o) as id</td><td style=\"text-align:left\">MATCH (o:Officer)&lt;--(c:Crime)&lt;--(p:Person) RETURN distinct id(p) as source, id(o) as target</td><td style=\"text-align:left\">officers-arresti</td><td style=\"text-align:right\">1369</td><td style=\"text-align:right\">54</td><td style=\"text-align:right\">9</td></tr></table>"
      ],
      "text/plain": [
       " nodeQuery                                             | relationshipQuery                                                                           | graphName        | nodeCount | relationshipCount | projectMillis \n",
       "-------------------------------------------------------|---------------------------------------------------------------------------------------------|------------------|-----------|-------------------|---------------\n",
       " MATCH (o:Officer|Person)  RETURN DISTINCT id(o) as id | MATCH (o:Officer)<--(c:Crime)<--(p:Person) RETURN distinct id(p) as source, id(o) as target | officers-arresti |      1369 |                54 |             9 "
      ]
     },
     "execution_count": 9,
     "metadata": {},
     "output_type": "execute_result"
    }
   ],
   "source": [
    "# Creo la proiezione\n",
    "if graph.run(\"call gds.graph.exists('officers-arresti')\").data()[0][\"exists\"]:\n",
    "  graph.run('call gds.graph.drop(\"officers-arresti\")')\n",
    "\n",
    "cq=\"\"\" \n",
    "CALL gds.graph.project.cypher('officers-arresti',\n",
    "  'MATCH (o:Officer|Person)  RETURN DISTINCT id(o) as id',\n",
    "  'MATCH (o:Officer)<--(c:Crime)<--(p:Person) RETURN distinct id(p) as source, id(o) as target',\n",
    "{validateRelationships:false}\n",
    ");\"\"\" \n",
    "\n",
    "graph.run(cq)"
   ]
  },
  {
   "cell_type": "code",
   "execution_count": 10,
   "metadata": {},
   "outputs": [
    {
     "data": {
      "text/html": [
       "<table><tr><th>badge_number</th><th>nome</th><th>cognome</th><th>rango</th><th>score</th></tr><tr><td style=\"text-align:left\">26-5234182</td><td style=\"text-align:left\">Devy</td><td style=\"text-align:left\">Larive</td><td style=\"text-align:left\">Police Constable</td><td style=\"text-align:left\">{hub: 0.0, auth: 0.2672612419124244}</td></tr><tr><td style=\"text-align:left\">53-7043460</td><td style=\"text-align:left\">Edithe</td><td style=\"text-align:left\">Thackray</td><td style=\"text-align:left\">Inspector</td><td style=\"text-align:left\">{hub: 0.0, auth: 0.1336306209562122}</td></tr><tr><td style=\"text-align:left\">54-9607307</td><td style=\"text-align:left\">Gregorius</td><td style=\"text-align:left\">Shakesby</td><td style=\"text-align:left\">Police Constable</td><td style=\"text-align:left\">{hub: 0.0, auth: 0.1336306209562122}</td></tr><tr><td style=\"text-align:left\">80-2249206</td><td style=\"text-align:left\">Shepperd</td><td style=\"text-align:left\">Meller</td><td style=\"text-align:left\">Sergeant</td><td style=\"text-align:left\">{hub: 0.0, auth: 0.1336306209562122}</td></tr><tr><td style=\"text-align:left\">04-6245275</td><td style=\"text-align:left\">Von</td><td style=\"text-align:left\">Death</td><td style=\"text-align:left\">Police Constable</td><td style=\"text-align:left\">{hub: 0.0, auth: 0.1336306209562122}</td></tr><tr><td style=\"text-align:left\">30-2717379</td><td style=\"text-align:left\">Dorothea</td><td style=\"text-align:left\">Blann</td><td style=\"text-align:left\">Police Constable</td><td style=\"text-align:left\">{hub: 0.0, auth: 0.1336306209562122}</td></tr><tr><td style=\"text-align:left\">27-0802784</td><td style=\"text-align:left\">Lilian</td><td style=\"text-align:left\">Dubbin</td><td style=\"text-align:left\">Sergeant</td><td style=\"text-align:left\">{hub: 0.0, auth: 0.1336306209562122}</td></tr><tr><td style=\"text-align:left\">69-8126297</td><td style=\"text-align:left\">Pauline</td><td style=\"text-align:left\">Petrasso</td><td style=\"text-align:left\">Police Constable</td><td style=\"text-align:left\">{hub: 0.0, auth: 0.1336306209562122}</td></tr><tr><td style=\"text-align:left\">74-2393363</td><td style=\"text-align:left\">Paolina</td><td style=\"text-align:left\">Hellwig</td><td style=\"text-align:left\">Police Constable</td><td style=\"text-align:left\">{hub: 0.0, auth: 0.1336306209562122}</td></tr><tr><td style=\"text-align:left\">92-0932678</td><td style=\"text-align:left\">Mada</td><td style=\"text-align:left\">Filisov</td><td style=\"text-align:left\">Police Constable</td><td style=\"text-align:left\">{hub: 0.0, auth: 0.1336306209562122}</td></tr></table>"
      ],
      "text/plain": [
       " badge_number | nome      | cognome  | rango            | score                                \n",
       "--------------|-----------|----------|------------------|--------------------------------------\n",
       " 26-5234182   | Devy      | Larive   | Police Constable | {hub: 0.0, auth: 0.2672612419124244} \n",
       " 53-7043460   | Edithe    | Thackray | Inspector        | {hub: 0.0, auth: 0.1336306209562122} \n",
       " 54-9607307   | Gregorius | Shakesby | Police Constable | {hub: 0.0, auth: 0.1336306209562122} \n",
       " 80-2249206   | Shepperd  | Meller   | Sergeant         | {hub: 0.0, auth: 0.1336306209562122} \n",
       " 04-6245275   | Von       | Death    | Police Constable | {hub: 0.0, auth: 0.1336306209562122} \n",
       " 30-2717379   | Dorothea  | Blann    | Police Constable | {hub: 0.0, auth: 0.1336306209562122} \n",
       " 27-0802784   | Lilian    | Dubbin   | Sergeant         | {hub: 0.0, auth: 0.1336306209562122} \n",
       " 69-8126297   | Pauline   | Petrasso | Police Constable | {hub: 0.0, auth: 0.1336306209562122} \n",
       " 74-2393363   | Paolina   | Hellwig  | Police Constable | {hub: 0.0, auth: 0.1336306209562122} \n",
       " 92-0932678   | Mada      | Filisov  | Police Constable | {hub: 0.0, auth: 0.1336306209562122} "
      ]
     },
     "metadata": {},
     "output_type": "display_data"
    }
   ],
   "source": [
    "# In base al numero di persone arrestate\n",
    "cq=\"\"\" \n",
    "CALL gds.alpha.hits.stream('officers-arresti',  {hitsIterations: 1})\n",
    "YIELD nodeId, values\n",
    "WITH gds.util.asNode(nodeId) AS n, values as score\n",
    "RETURN n.badge_no as badge_number, n.name as nome, n.surname as cognome, n.rank as rango,score\n",
    "ORDER BY score DESC\n",
    "LIMIT 10 ;\n",
    "\"\"\"\n",
    "print_n_results(cq)"
   ]
  },
  {
   "attachments": {},
   "cell_type": "markdown",
   "metadata": {},
   "source": [
    "### 1E. Solo gli agenti di rango maggiore (Degree Centrality)"
   ]
  },
  {
   "cell_type": "code",
   "execution_count": 33,
   "metadata": {},
   "outputs": [
    {
     "data": {
      "text/html": [
       "<table><tr><th>tutti_i_ranghi</th></tr><tr><td style=\"text-align:left\">[&#039;Chief Inspector&#039;, &#039;Inspector&#039;, &#039;Police Constable&#039;, &#039;Sergeant&#039;]</td></tr></table>"
      ],
      "text/plain": [
       " tutti_i_ranghi                                                   \n",
       "------------------------------------------------------------------\n",
       " ['Chief Inspector', 'Inspector', 'Police Constable', 'Sergeant'] "
      ]
     },
     "execution_count": 33,
     "metadata": {},
     "output_type": "execute_result"
    }
   ],
   "source": [
    "graph.run(\"MATCH (o:Officer) RETURN COLLECT(DISTINCT o.rank) AS tutti_i_ranghi\")"
   ]
  },
  {
   "cell_type": "code",
   "execution_count": 11,
   "metadata": {},
   "outputs": [
    {
     "data": {
      "text/html": [
       "<table><tr><th>nodeQuery</th><th>relationshipQuery</th><th>graphName</th><th>nodeCount</th><th>relationshipCount</th><th>projectMillis</th></tr><tr><td style=\"text-align:left\">MATCH (o:Officer|Crime) WHERE o.rank=&quot;Chief Inspector&quot; OR o.rank IS NULL RETURN DISTINCT id(o) as id</td><td style=\"text-align:left\">MATCH (o:Officer)&lt;--(c:Crime) RETURN  id(o) AS source, id(c) as target</td><td style=\"text-align:left\">officers-chief</td><td style=\"text-align:right\">28852</td><td style=\"text-align:right\">2500</td><td style=\"text-align:right\">31</td></tr></table>"
      ],
      "text/plain": [
       " nodeQuery                                                                                            | relationshipQuery                                                      | graphName      | nodeCount | relationshipCount | projectMillis \n",
       "------------------------------------------------------------------------------------------------------|------------------------------------------------------------------------|----------------|-----------|-------------------|---------------\n",
       " MATCH (o:Officer|Crime) WHERE o.rank=\"Chief Inspector\" OR o.rank IS NULL RETURN DISTINCT id(o) as id | MATCH (o:Officer)<--(c:Crime) RETURN  id(o) AS source, id(c) as target | officers-chief |     28852 |              2500 |            31 "
      ]
     },
     "execution_count": 11,
     "metadata": {},
     "output_type": "execute_result"
    }
   ],
   "source": [
    "if graph.run(\"call gds.graph.exists('officers-chief')\").data()[0][\"exists\"]:\n",
    "  graph.run('call gds.graph.drop(\"officers-chief\")')\n",
    "\n",
    "cq = \"\"\" \n",
    "CALL gds.graph.project.cypher('officers-chief',\n",
    "  'MATCH (o:Officer|Crime) WHERE o.rank=\"Chief Inspector\" OR o.rank IS NULL RETURN DISTINCT id(o) as id',\n",
    "  'MATCH (o:Officer)<--(c:Crime) RETURN  id(o) AS source, id(c) as target',\n",
    "  {validateRelationships:false}\n",
    ");\n",
    "\"\"\"\n",
    "\n",
    "graph.run(cq)"
   ]
  },
  {
   "cell_type": "code",
   "execution_count": 12,
   "metadata": {},
   "outputs": [
    {
     "data": {
      "text/html": [
       "<table><tr><th>nodeCount</th><th>relationshipCount</th><th>bytesMin</th><th>bytesMax</th><th>requiredMemory</th></tr><tr><td style=\"text-align:right\">28852</td><td style=\"text-align:right\">2500</td><td style=\"text-align:right\">56</td><td style=\"text-align:right\">56</td><td style=\"text-align:left\">56 Bytes</td></tr></table>"
      ],
      "text/plain": [
       " nodeCount | relationshipCount | bytesMin | bytesMax | requiredMemory \n",
       "-----------|-------------------|----------|----------|----------------\n",
       "     28852 |              2500 |       56 |       56 | 56 Bytes       "
      ]
     },
     "execution_count": 12,
     "metadata": {},
     "output_type": "execute_result"
    }
   ],
   "source": [
    "# Memory estimation\n",
    "graph.run(\"\"\" \n",
    "CALL gds.degree.write.estimate('officers-chief', { writeProperty: 'betweenness' })\n",
    "YIELD  nodeCount, relationshipCount, bytesMin, bytesMax, requiredMemory\n",
    "RETURN nodeCount, relationshipCount, bytesMin, bytesMax, requiredMemory ; \n",
    "\"\"\" )"
   ]
  },
  {
   "cell_type": "code",
   "execution_count": 13,
   "metadata": {},
   "outputs": [
    {
     "data": {
      "text/html": [
       "<table><tr><th>badge_number</th><th>nome</th><th>cognome</th><th>rango</th><th>score</th></tr><tr><td style=\"text-align:left\">71-6459623</td><td style=\"text-align:left\">Kort</td><td style=\"text-align:left\">Monelli</td><td style=\"text-align:left\">Chief Inspector</td><td style=\"text-align:right\">40.0</td></tr><tr><td style=\"text-align:left\">14-3562764</td><td style=\"text-align:left\">Urban</td><td style=\"text-align:left\">Stave</td><td style=\"text-align:left\">Chief Inspector</td><td style=\"text-align:right\">39.0</td></tr><tr><td style=\"text-align:left\">49-5476687</td><td style=\"text-align:left\">Roberto</td><td style=\"text-align:left\">Febry</td><td style=\"text-align:left\">Chief Inspector</td><td style=\"text-align:right\">38.0</td></tr><tr><td style=\"text-align:left\">34-1935189</td><td style=\"text-align:left\">Esma</td><td style=\"text-align:left\">Gorrie</td><td style=\"text-align:left\">Chief Inspector</td><td style=\"text-align:right\">37.0</td></tr><tr><td style=\"text-align:left\">97-6686521</td><td style=\"text-align:left\">Whitney</td><td style=\"text-align:left\">Jeandot</td><td style=\"text-align:left\">Chief Inspector</td><td style=\"text-align:right\">37.0</td></tr><tr><td style=\"text-align:left\">75-9485265</td><td style=\"text-align:left\">Evey</td><td style=\"text-align:left\">Rahlof</td><td style=\"text-align:left\">Chief Inspector</td><td style=\"text-align:right\">37.0</td></tr><tr><td style=\"text-align:left\">19-8319581</td><td style=\"text-align:left\">Dottie</td><td style=\"text-align:left\">Syddie</td><td style=\"text-align:left\">Chief Inspector</td><td style=\"text-align:right\">37.0</td></tr><tr><td style=\"text-align:left\">45-7784686</td><td style=\"text-align:left\">Reinold</td><td style=\"text-align:left\">Fley</td><td style=\"text-align:left\">Chief Inspector</td><td style=\"text-align:right\">36.0</td></tr><tr><td style=\"text-align:left\">29-1687505</td><td style=\"text-align:left\">Kerwin</td><td style=\"text-align:left\">Gilluley</td><td style=\"text-align:left\">Chief Inspector</td><td style=\"text-align:right\">36.0</td></tr><tr><td style=\"text-align:left\">30-0611369</td><td style=\"text-align:left\">Helenka</td><td style=\"text-align:left\">Stutard</td><td style=\"text-align:left\">Chief Inspector</td><td style=\"text-align:right\">35.0</td></tr></table>"
      ],
      "text/plain": [
       " badge_number | nome    | cognome  | rango           | score \n",
       "--------------|---------|----------|-----------------|-------\n",
       " 71-6459623   | Kort    | Monelli  | Chief Inspector |  40.0 \n",
       " 14-3562764   | Urban   | Stave    | Chief Inspector |  39.0 \n",
       " 49-5476687   | Roberto | Febry    | Chief Inspector |  38.0 \n",
       " 34-1935189   | Esma    | Gorrie   | Chief Inspector |  37.0 \n",
       " 97-6686521   | Whitney | Jeandot  | Chief Inspector |  37.0 \n",
       " 75-9485265   | Evey    | Rahlof   | Chief Inspector |  37.0 \n",
       " 19-8319581   | Dottie  | Syddie   | Chief Inspector |  37.0 \n",
       " 45-7784686   | Reinold | Fley     | Chief Inspector |  36.0 \n",
       " 29-1687505   | Kerwin  | Gilluley | Chief Inspector |  36.0 \n",
       " 30-0611369   | Helenka | Stutard  | Chief Inspector |  35.0 "
      ]
     },
     "metadata": {},
     "output_type": "display_data"
    }
   ],
   "source": [
    "# Agenti di polizia con il rango maggiore (Chief Inspector) che hanno investigato in più crimini\n",
    "cq=\"\"\" \n",
    "CALL gds.degree.stream('officers-chief')\n",
    "YIELD nodeId, score \n",
    "WITH gds.util.asNode(nodeId) AS n, score \n",
    "RETURN n.badge_no as badge_number, n.name as nome, n.surname as cognome,n.rank as rango, score\n",
    "ORDER BY score DESC\n",
    "LIMIT 10 ;\n",
    "\"\"\"\n",
    "print_n_results(cq)\n",
    "\n"
   ]
  },
  {
   "attachments": {},
   "cell_type": "markdown",
   "metadata": {},
   "source": [
    "### Conclusioni\n",
    "..."
   ]
  },
  {
   "attachments": {},
   "cell_type": "markdown",
   "metadata": {},
   "source": [
    "## 2. Trovare i gruppi di criminali"
   ]
  },
  {
   "cell_type": "code",
   "execution_count": 14,
   "metadata": {},
   "outputs": [],
   "source": [
    "\n",
    "def print_in_columns(my_list):\n",
    "    columns = 2  #if len(my_list)>10 else 3\n",
    "    len_max = str(max([len(i) for i in my_list]) + 4)\n",
    "    for i in range(0, len(my_list), columns):\n",
    "        print(\"  \", end=\"\")\n",
    "        [eval('print(f\"{i:'+len_max+'}\", end=\"\")') for i in my_list[i:i+columns]]\n",
    "        print(\"\")\n",
    "\n",
    "def print_id_gruppo(query_results):\n",
    "  for (communityId, gruppo) in query_results:\n",
    "      print(\"---------- Gruppo \"+str(communityId)+\" ----------\")\n",
    "      # print(gruppo)\n",
    "      print_in_columns(gruppo)\n",
    "      print(\"\")\n"
   ]
  },
  {
   "attachments": {},
   "cell_type": "markdown",
   "metadata": {},
   "source": [
    "### 2A. Con le conoscenze generiche (Algoritmo di Louvain)\n"
   ]
  },
  {
   "cell_type": "code",
   "execution_count": 15,
   "metadata": {},
   "outputs": [
    {
     "data": {
      "text/html": [
       "<table><tr><th>nodeQuery</th><th>relationshipQuery</th><th>graphName</th><th>nodeCount</th><th>relationshipCount</th><th>projectMillis</th></tr><tr><td style=\"text-align:left\">MATCH (p:Person)--&gt;(:Crime) RETURN id(p) as id</td><td style=\"text-align:left\">MATCH (criminal:Person)-[:KNOWS]-(conoscente:Person) RETURN DISTINCT id(conoscente) as target, id(criminal) as source</td><td style=\"text-align:left\">criminals-knows</td><td style=\"text-align:right\">29</td><td style=\"text-align:right\">30</td><td style=\"text-align:right\">24</td></tr></table>"
      ],
      "text/plain": [
       " nodeQuery                                      | relationshipQuery                                                                                                     | graphName       | nodeCount | relationshipCount | projectMillis \n",
       "------------------------------------------------|-----------------------------------------------------------------------------------------------------------------------|-----------------|-----------|-------------------|---------------\n",
       " MATCH (p:Person)-->(:Crime) RETURN id(p) as id | MATCH (criminal:Person)-[:KNOWS]-(conoscente:Person) RETURN DISTINCT id(conoscente) as target, id(criminal) as source | criminals-knows |        29 |                30 |            24 "
      ]
     },
     "execution_count": 15,
     "metadata": {},
     "output_type": "execute_result"
    }
   ],
   "source": [
    "## Creo la proiezione\n",
    "NOME_GRAPH_CRIMINALS = \"criminals-knows\"\n",
    "if graph.run(\"call gds.graph.exists('criminals-knows')\").data()[0][\"exists\"]:\n",
    "  graph.run('call gds.graph.drop(\"criminals-knows\")')\n",
    "\n",
    "cq = \"\"\" \n",
    "  CALL gds.graph.project.cypher('criminals-knows',\n",
    "  'MATCH (p:Person)-->(:Crime) RETURN id(p) as id',\n",
    "  'MATCH (criminal:Person)-[:KNOWS]-(conoscente:Person) RETURN DISTINCT id(conoscente) as target, id(criminal) as source',\n",
    "  {validateRelationships:false}\n",
    "); \n",
    "\"\"\"\n",
    "graph.run(cq)"
   ]
  },
  {
   "cell_type": "code",
   "execution_count": 16,
   "metadata": {},
   "outputs": [
    {
     "data": {
      "text/html": [
       "<table><tr><th>nodeCount</th><th>relationshipCount</th><th>bytesMin</th><th>bytesMax</th><th>requiredMemory</th></tr><tr><td style=\"text-align:right\">29</td><td style=\"text-align:right\">30</td><td style=\"text-align:right\">7153</td><td style=\"text-align:right\">566272</td><td style=\"text-align:left\">[7153 Bytes ... 553 KiB]</td></tr></table>"
      ],
      "text/plain": [
       " nodeCount | relationshipCount | bytesMin | bytesMax | requiredMemory           \n",
       "-----------|-------------------|----------|----------|--------------------------\n",
       "        29 |                30 |     7153 |   566272 | [7153 Bytes ... 553 KiB] "
      ]
     },
     "execution_count": 16,
     "metadata": {},
     "output_type": "execute_result"
    }
   ],
   "source": [
    "graph.run(\"\"\"CALL gds.louvain.write.estimate('criminals-knows', { writeProperty: 'community' })\n",
    "YIELD nodeCount, relationshipCount, bytesMin, bytesMax, requiredMemory\n",
    "RETURN nodeCount, relationshipCount, bytesMin, bytesMax, requiredMemory ;\n",
    "\"\"\")"
   ]
  },
  {
   "cell_type": "code",
   "execution_count": 17,
   "metadata": {},
   "outputs": [
    {
     "name": "stdout",
     "output_type": "stream",
     "text": [
      "---------- Gruppo 27 ----------\n",
      "  Diana Murray (900-41-3309)          Jessica Kelly (311-75-6483)         \n",
      "  Kathleen Peters (250-75-5238)       Phillip Williamson (337-28-4424)    \n",
      "  Raymond Walker (879-22-8665)        \n",
      "\n",
      "---------- Gruppo 17 ----------\n",
      "  Alan Ward (881-20-2396)        Brian Morales (335-71-7747)    \n",
      "  Jack Powell (249-54-6589)      \n",
      "\n",
      "---------- Gruppo 24 ----------\n",
      "  Billy Moore (846-48-9238)         Lillian Martinez (397-28-4474)    \n",
      "\n",
      "---------- Gruppo 25 ----------\n",
      "  Andrea Montgomery (351-83-4608)    Donald Robinson (873-28-7561)      \n",
      "\n"
     ]
    }
   ],
   "source": [
    "cq = \"\"\" \n",
    "CALL gds.louvain.stream('criminals-knows')\n",
    "  YIELD nodeId, communityId\n",
    "WITH gds.util.asNode(nodeId) AS node, communityId\n",
    "WITH communityId, apoc.coll.sort(collect(node.name + \" \" + node.surname + \" (\" + node.nhs_no+\")\")) AS gruppo\n",
    "WHERE size(gruppo)>1  \n",
    "RETURN *\n",
    "\"\"\"\n",
    "print_id_gruppo(graph.run(cq))"
   ]
  },
  {
   "attachments": {},
   "cell_type": "markdown",
   "metadata": {},
   "source": [
    "### 2B. Dando un peso al tipo di conoscenze (Modularity Optimization)"
   ]
  },
  {
   "cell_type": "code",
   "execution_count": 18,
   "metadata": {},
   "outputs": [
    {
     "data": {
      "text/html": [
       "<table><tr><th>nodeQuery</th><th>relationshipQuery</th><th>graphName</th><th>nodeCount</th><th>relationshipCount</th><th>projectMillis</th></tr><tr><td style=\"text-align:left\">MATCH (p:Person)--&gt;(:Crime) RETURN id(p) as id</td><td style=\"text-align:left\">MATCH (criminal:Person)-[]-(conoscente:Person)\n",
       "    RETURN id(conoscente) as target,\n",
       "    CASE\n",
       "        WHEN EXISTS ( (conoscente)-[:KNOWS_LW]-(criminal) ) THEN 10\n",
       "        WHEN EXISTS ( (conoscente)-[:FAMILY_REL]-(criminal) ) THEN 8\n",
       "        WHEN EXISTS ( (conoscente)-[:KNOWS_PHONE]-(criminal) ) THEN 4\n",
       "        WHEN EXISTS ( (conoscente)-[:KNOWS_SN]-(criminal) ) THEN 3\n",
       "    END AS peso, id(criminal) as source</td><td style=\"text-align:left\">criminals-knows-pesate</td><td style=\"text-align:right\">29</td><td style=\"text-align:right\">60</td><td style=\"text-align:right\">30</td></tr></table>"
      ],
      "text/plain": [
       " nodeQuery                                      | relationshipQuery                                                     | graphName              | nodeCount | relationshipCount | projectMillis \n",
       "------------------------------------------------|-----------------------------------------------------------------------|------------------------|-----------|-------------------|---------------\n",
       " MATCH (p:Person)-->(:Crime) RETURN id(p) as id | MATCH (criminal:Person)-[]-(conoscente:Person)                        | criminals-knows-pesate |        29 |                60 |            30 \n",
       "                                                |     RETURN id(conoscente) as target,                                  |                        |           |                   |               \n",
       "                                                |     CASE                                                              |                        |           |                   |               \n",
       "                                                |         WHEN EXISTS ( (conoscente)-[:KNOWS_LW]-(criminal) ) THEN 10   |                        |           |                   |               \n",
       "                                                |         WHEN EXISTS ( (conoscente)-[:FAMILY_REL]-(criminal) ) THEN 8  |                        |           |                   |               \n",
       "                                                |         WHEN EXISTS ( (conoscente)-[:KNOWS_PHONE]-(criminal) ) THEN 4 |                        |           |                   |               \n",
       "                                                |         WHEN EXISTS ( (conoscente)-[:KNOWS_SN]-(criminal) ) THEN 3    |                        |           |                   |               \n",
       "                                                |     END AS peso, id(criminal) as source                               |                        |           |                   |               "
      ]
     },
     "execution_count": 18,
     "metadata": {},
     "output_type": "execute_result"
    }
   ],
   "source": [
    "## Creo il project\n",
    "if graph.run(\"call gds.graph.exists('criminals-knows-pesate')\").data()[0][\"exists\"]:\n",
    "  graph.run('call gds.graph.drop(\"criminals-knows-pesate\")')\n",
    "\n",
    "cq = \"\"\" \n",
    "  CALL gds.graph.project.cypher('criminals-knows-pesate',\n",
    "   'MATCH (p:Person)-->(:Crime) RETURN id(p) as id',\n",
    "   'MATCH (criminal:Person)-[]-(conoscente:Person)\n",
    "    RETURN id(conoscente) as target,\n",
    "    CASE\n",
    "        WHEN EXISTS ( (conoscente)-[:KNOWS_LW]-(criminal) ) THEN 10\n",
    "        WHEN EXISTS ( (conoscente)-[:FAMILY_REL]-(criminal) ) THEN 8\n",
    "        WHEN EXISTS ( (conoscente)-[:KNOWS_PHONE]-(criminal) ) THEN 4\n",
    "        WHEN EXISTS ( (conoscente)-[:KNOWS_SN]-(criminal) ) THEN 3\n",
    "    END AS peso, id(criminal) as source',\n",
    "  {validateRelationships:false}\n",
    "); \n",
    "\"\"\"\n",
    "graph.run(cq)"
   ]
  },
  {
   "cell_type": "code",
   "execution_count": 19,
   "metadata": {},
   "outputs": [
    {
     "name": "stdout",
     "output_type": "stream",
     "text": [
      "---------- Gruppo 14 ----------\n",
      "  Diana Murray (900-41-3309)       Kathleen Peters (250-75-5238)    \n",
      "  Raymond Walker (879-22-8665)     \n",
      "\n",
      "---------- Gruppo 17 ----------\n",
      "  Alan Ward (881-20-2396)        Brian Morales (335-71-7747)    \n",
      "  Jack Powell (249-54-6589)      \n",
      "\n",
      "---------- Gruppo 24 ----------\n",
      "  Billy Moore (846-48-9238)         Lillian Martinez (397-28-4474)    \n",
      "\n",
      "---------- Gruppo 25 ----------\n",
      "  Andrea Montgomery (351-83-4608)    Donald Robinson (873-28-7561)      \n",
      "\n",
      "---------- Gruppo 28 ----------\n",
      "  Jessica Kelly (311-75-6483)         Phillip Williamson (337-28-4424)    \n",
      "\n"
     ]
    }
   ],
   "source": [
    "cq = \"\"\" \n",
    "CALL gds.beta.modularityOptimization.stream('criminals-knows-pesate', {relationshipWeightProperty: 'peso' })\n",
    "  YIELD nodeId, communityId\n",
    "WITH gds.util.asNode(nodeId) AS node, communityId\n",
    "WITH communityId, apoc.coll.sort(collect(node.name + \" \" + node.surname + \" (\" + node.nhs_no+\")\")) AS gruppo\n",
    "WHERE size(gruppo)>1  \n",
    "RETURN *\n",
    "\"\"\"\n",
    "print_id_gruppo(graph.run(cq))"
   ]
  },
  {
   "attachments": {},
   "cell_type": "markdown",
   "metadata": {},
   "source": [
    "### 2C. Includendo i conoscenti dei criminali (Strongly Connected Components)"
   ]
  },
  {
   "cell_type": "code",
   "execution_count": 20,
   "metadata": {},
   "outputs": [
    {
     "name": "stdout",
     "output_type": "stream",
     "text": [
      "Proiezione crata correttamente!\n"
     ]
    }
   ],
   "source": [
    "## Creo il project\n",
    "if graph.run(\"call gds.graph.exists('criminals-conoscenti')\").data()[0][\"exists\"]:\n",
    "  graph.run('call gds.graph.drop(\"criminals-conoscenti\")')\n",
    "\n",
    "cq = \"\"\" \n",
    "  CALL gds.graph.project.cypher('criminals-conoscenti',\n",
    "  ' MATCH (p:Person) \n",
    "    WHERE \n",
    "        EXISTS ( (p)-[:PARTY_TO]->(:Crime) )                    // Persone che hanno preso parte a un crimine\n",
    "        OR EXISTS ( (p)-[]-(:Person)-[:PARTY_TO]->(:Crime) )   // Conoscenti dei criminali\n",
    "    RETURN id(p) as id',\n",
    "  \n",
    "  'MATCH (criminal)-[:KNOWS]-(conoscente:Person) RETURN DISTINCT id(conoscente) as target, id(criminal) as source',\n",
    "  {validateRelationships:false}\n",
    "); \n",
    "\"\"\"\n",
    "graph.run(cq)\n",
    "print(\"Proiezione crata correttamente!\")"
   ]
  },
  {
   "cell_type": "code",
   "execution_count": 21,
   "metadata": {},
   "outputs": [
    {
     "name": "stdout",
     "output_type": "stream",
     "text": [
      "---------- Gruppo 0 ----------\n",
      "  Alan Ward (881-20-2396)                Amanda Robertson (455-19-0708)         \n",
      "  Amy Bailey (276-19-9235)               Amy Murphy (367-54-3328)               \n",
      "  Andrea George (800-46-2184)            Andrea Montgomery (351-83-4608)        \n",
      "  Andrea Moreno (240-77-5251)            Ann Fox (576-99-9244)                  \n",
      "  Anna Chapman (878-32-2595)             Anne Freeman (804-54-6976)             \n",
      "  Annie Duncan (863-96-9468)             Annie George (575-05-6519)             \n",
      "  Arthur Willis (271-78-8919)            Ashley Robertson (554-93-4466)         \n",
      "  Billy Moore (846-48-9238)              Bobby Russell (680-93-7668)            \n",
      "  Bonnie Gilbert (622-53-3302)           Brandon Martin (853-69-5350)           \n",
      "  Brenda Edwards (778-24-6852)           Brian Morales (335-71-7747)            \n",
      "  Carl Fuller (358-70-5810)              Carl Lawrence (271-53-9609)            \n",
      "  Carlos Black (859-81-0332)             Carlos Matthews (896-25-8370)          \n",
      "  Catherine White (270-75-5897)          Charles Alexander (820-74-9970)        \n",
      "  Christopher Patterson (256-31-7892)    Craig Marshall (890-58-5813)           \n",
      "  David Mills (589-69-0106)              Denise Brown (335-36-7489)             \n",
      "  Dennis Bradley (817-89-6264)           Dennis Mcdonald (442-54-3651)          \n",
      "  Diana Murray (900-41-3309)             Diane Bradley (338-31-6051)            \n",
      "  Donald Robinson (873-28-7561)          Ernest Clark (205-52-5697)             \n",
      "  Ernest Thompson (918-23-4923)          Evelyn Wood (484-38-1830)              \n",
      "  Fred Williamson (468-82-3915)          Gary Vasquez (679-81-5309)             \n",
      "  Harry Lopez (915-75-5600)              Henry Coleman (706-24-9599)            \n",
      "  Henry Jacobs (348-63-8190)             Howard Day (806-49-7942)               \n",
      "  Jack Powell (249-54-6589)              James Hudson (899-42-6637)             \n",
      "  Janet Cunningham (358-19-2542)         Jennifer Murray (653-64-4372)          \n",
      "  Jennifer Rogers (534-62-8298)          Jessica Kelly (311-75-6483)            \n",
      "  Joan Flores (247-72-6304)              Jose Green (383-26-3713)               \n",
      "  Justin Payne (438-49-1893)             Kathleen Peters (250-75-5238)          \n",
      "  Kathryn Allen (883-98-9193)            Kathy Wheeler (218-31-0921)            \n",
      "  Kelly Peterson (434-76-7869)           Kelly Robertson (585-01-6112)          \n",
      "  Kenneth Carroll (252-29-4929)          Lillian Martinez (397-28-4474)         \n",
      "  Linda Baker (675-57-0293)              Linda Boyd (696-28-4220)               \n",
      "  Lois Larson (691-51-9612)              Louis Richards (362-49-5861)           \n",
      "  Maria Hughes (678-06-9352)             Mary Murray (258-98-0727)              \n",
      "  Mary Young (791-62-3536)               Matthew Howell (302-08-4754)           \n",
      "  Matthew Phillips (569-73-6017)         Melissa Gibson (537-30-3032)           \n",
      "  Melissa Mills (383-09-0127)            Melissa Warren (520-24-8922)           \n",
      "  Michael Martin (318-22-2828)           Michelle Patterson (600-92-0643)       \n",
      "  Nicholas Mason (506-14-4016)           Norma Payne (699-85-1673)              \n",
      "  Pamela Gibson (838-11-7607)            Patricia Butler (895-45-1258)          \n",
      "  Paul Arnold (633-71-2217)              Philip Gardner (775-75-2532)           \n",
      "  Philip Scott (660-62-5107)             Phillip Williamson (337-28-4424)       \n",
      "  Rachel Hunter (568-22-7686)            Raymond Walker (879-22-8665)           \n",
      "  Raymond Williamson (452-95-4283)       Rebecca Lee (450-68-4090)              \n",
      "  Rebecca Long (785-79-1645)             Roger Brooks (288-59-8593)             \n",
      "  Rose Crawford (673-28-6979)            Rose Parker (545-33-7212)              \n",
      "  Ryan Smith (867-78-8919)               Sandra Ruiz (640-26-0925)              \n",
      "  Sean Myers (917-80-4656)               Stephanie Hughes (821-11-2735)         \n",
      "  Theresa Powell (260-95-0836)           Victor Harper (220-62-1837)            \n",
      "  Virginia Allen (910-33-1979)           Virginia Gibson (314-45-9119)          \n",
      "  Walter James (329-25-8167)             Wanda Weaver (543-43-9738)             \n",
      "  William Dixon (763-27-9872)            \n",
      "\n"
     ]
    }
   ],
   "source": [
    "cq = \"\"\" \n",
    "CALL gds.alpha.scc.stream('criminals-conoscenti')\n",
    "YIELD nodeId, componentId\n",
    "WITH gds.util.asNode(nodeId) AS node, componentId\n",
    "WITH componentId, apoc.coll.sort(collect(node.name + \" \" + node.surname + \" (\" + node.nhs_no+\")\")) AS gruppo\n",
    "WHERE size(gruppo)>1  \n",
    "RETURN *\n",
    "\"\"\"\n",
    "print_id_gruppo(graph.run(cq))"
   ]
  },
  {
   "attachments": {},
   "cell_type": "markdown",
   "metadata": {},
   "source": [
    "### 2D. Aggiungo i \"vicini\" (Weakly Connected Components)"
   ]
  },
  {
   "attachments": {},
   "cell_type": "markdown",
   "metadata": {},
   "source": [
    "Come si può vedere dalla prossima query, esistono persone senza un legame di conoscenza che però abitano vicine. "
   ]
  },
  {
   "cell_type": "code",
   "execution_count": 22,
   "metadata": {},
   "outputs": [
    {
     "data": {
      "text/html": [
       "<table><tr><th>n</th></tr><tr><td style=\"text-align:right\">1800</td></tr></table>"
      ],
      "text/plain": [
       "    n \n",
       "------\n",
       " 1800 "
      ]
     },
     "metadata": {},
     "output_type": "display_data"
    }
   ],
   "source": [
    "display(graph.run(\"\"\" \n",
    "MATCH (p1:Person)-->(:Location)-->(:Area)<--(:Location)<--(p2:Person) \n",
    "WHERE NOT EXISTS ( (p1)-[]-(p2))\n",
    "RETURN COUNT(*) AS n \"\"\"))\n"
   ]
  },
  {
   "attachments": {},
   "cell_type": "markdown",
   "metadata": {},
   "source": [
    "Aggiungo quindi questa possibile conoscenza, tra le conoscenze già presenti, con un peso basso"
   ]
  },
  {
   "cell_type": "code",
   "execution_count": 23,
   "metadata": {},
   "outputs": [
    {
     "data": {
      "text/html": [
       "<table><tr><th>nodeQuery</th><th>relationshipQuery</th><th>graphName</th><th>nodeCount</th><th>relationshipCount</th><th>projectMillis</th></tr><tr><td style=\"text-align:left\">MATCH (p:Person)--&gt;(:Crime) RETURN id(p) as id</td><td style=\"text-align:left\">MATCH (criminal:Person),(conoscente:Person)\n",
       "    WHERE criminal&lt;&gt;conoscente\n",
       "    RETURN id(conoscente) as target,\n",
       "    CASE\n",
       "        WHEN EXISTS ( (conoscente)-[:KNOWS_LW]-(criminal) ) THEN 10\n",
       "        WHEN EXISTS ( (conoscente)-[:FAMILY_REL]-(criminal) ) THEN 8\n",
       "        WHEN EXISTS ( (conoscente)-[:KNOWS_PHONE]-(criminal) ) THEN 4\n",
       "        WHEN EXISTS ( (conoscente)-[:KNOWS_SN]-(criminal) ) THEN 3\n",
       "        WHEN EXISTS ((criminal)--&gt;(:Location)--&gt;(:Area)&lt;--(:Location)&lt;--(conoscente) ) THEN 1\n",
       "    END AS peso, id(criminal) as source</td><td style=\"text-align:left\">criminals-knows-pesate-con-vicini</td><td style=\"text-align:right\">29</td><td style=\"text-align:right\">812</td><td style=\"text-align:right\">1660</td></tr></table>"
      ],
      "text/plain": [
       " nodeQuery                                      | relationshipQuery                                                                             | graphName                         | nodeCount | relationshipCount | projectMillis \n",
       "------------------------------------------------|-----------------------------------------------------------------------------------------------|-----------------------------------|-----------|-------------------|---------------\n",
       " MATCH (p:Person)-->(:Crime) RETURN id(p) as id | MATCH (criminal:Person),(conoscente:Person)                                                   | criminals-knows-pesate-con-vicini |        29 |               812 |          1660 \n",
       "                                                |     WHERE criminal<>conoscente                                                                |                                   |           |                   |               \n",
       "                                                |     RETURN id(conoscente) as target,                                                          |                                   |           |                   |               \n",
       "                                                |     CASE                                                                                      |                                   |           |                   |               \n",
       "                                                |         WHEN EXISTS ( (conoscente)-[:KNOWS_LW]-(criminal) ) THEN 10                           |                                   |           |                   |               \n",
       "                                                |         WHEN EXISTS ( (conoscente)-[:FAMILY_REL]-(criminal) ) THEN 8                          |                                   |           |                   |               \n",
       "                                                |         WHEN EXISTS ( (conoscente)-[:KNOWS_PHONE]-(criminal) ) THEN 4                         |                                   |           |                   |               \n",
       "                                                |         WHEN EXISTS ( (conoscente)-[:KNOWS_SN]-(criminal) ) THEN 3                            |                                   |           |                   |               \n",
       "                                                |         WHEN EXISTS ((criminal)-->(:Location)-->(:Area)<--(:Location)<--(conoscente) ) THEN 1 |                                   |           |                   |               \n",
       "                                                |     END AS peso, id(criminal) as source                                                       |                                   |           |                   |               "
      ]
     },
     "execution_count": 23,
     "metadata": {},
     "output_type": "execute_result"
    }
   ],
   "source": [
    "# Creo il project\n",
    "if graph.run(\"call gds.graph.exists('criminals-knows-pesate-con-vicini')\").data()[0][\"exists\"]:\n",
    "  graph.run('call gds.graph.drop(\"criminals-knows-pesate-con-vicini\")')\n",
    "\n",
    "cq = \"\"\" \n",
    "  CALL gds.graph.project.cypher('criminals-knows-pesate-con-vicini',\n",
    "   'MATCH (p:Person)-->(:Crime) RETURN id(p) as id',\n",
    "   'MATCH (criminal:Person),(conoscente:Person)\n",
    "    WHERE criminal<>conoscente\n",
    "    RETURN id(conoscente) as target,\n",
    "    CASE\n",
    "        WHEN EXISTS ( (conoscente)-[:KNOWS_LW]-(criminal) ) THEN 10\n",
    "        WHEN EXISTS ( (conoscente)-[:FAMILY_REL]-(criminal) ) THEN 8\n",
    "        WHEN EXISTS ( (conoscente)-[:KNOWS_PHONE]-(criminal) ) THEN 4\n",
    "        WHEN EXISTS ( (conoscente)-[:KNOWS_SN]-(criminal) ) THEN 3\n",
    "        WHEN EXISTS ((criminal)-->(:Location)-->(:Area)<--(:Location)<--(conoscente) ) THEN 1\n",
    "    END AS peso, id(criminal) as source',\n",
    "  {validateRelationships:false}\n",
    "); \n",
    "\"\"\"\n",
    "graph.run(cq)"
   ]
  },
  {
   "cell_type": "code",
   "execution_count": 24,
   "metadata": {},
   "outputs": [
    {
     "data": {
      "text/html": [
       "<table><tr><th>nodeCount</th><th>relationshipCount</th><th>bytesMin</th><th>bytesMax</th><th>requiredMemory</th></tr><tr><td style=\"text-align:right\">29</td><td style=\"text-align:right\">812</td><td style=\"text-align:right\">328</td><td style=\"text-align:right\">328</td><td style=\"text-align:left\">328 Bytes</td></tr></table>"
      ],
      "text/plain": [
       " nodeCount | relationshipCount | bytesMin | bytesMax | requiredMemory \n",
       "-----------|-------------------|----------|----------|----------------\n",
       "        29 |               812 |      328 |      328 | 328 Bytes      "
      ]
     },
     "execution_count": 24,
     "metadata": {},
     "output_type": "execute_result"
    }
   ],
   "source": [
    "graph.run(\"\"\" \n",
    "CALL gds.wcc.write.estimate('criminals-knows-pesate-con-vicini', { writeProperty: 'component' })\n",
    "YIELD nodeCount, relationshipCount, bytesMin, bytesMax, requiredMemory\n",
    "RETURN nodeCount, relationshipCount, bytesMin, bytesMax, requiredMemory\n",
    "\"\"\")"
   ]
  },
  {
   "cell_type": "code",
   "execution_count": 25,
   "metadata": {},
   "outputs": [
    {
     "name": "stdout",
     "output_type": "stream",
     "text": [
      "---------- Gruppo 0 ----------\n",
      "  Alan Ward (881-20-2396)             Amanda Robertson (455-19-0708)      \n",
      "  Amy Bailey (276-19-9235)            Andrea Montgomery (351-83-4608)     \n",
      "  Annie George (575-05-6519)          Billy Moore (846-48-9238)           \n",
      "  Brian Morales (335-71-7747)         Carlos Black (859-81-0332)          \n",
      "  Craig Marshall (890-58-5813)        David Mills (589-69-0106)           \n",
      "  Diana Murray (900-41-3309)          Donald Robinson (873-28-7561)       \n",
      "  Ernest Clark (205-52-5697)          Fred Williamson (468-82-3915)       \n",
      "  Gary Vasquez (679-81-5309)          Jack Powell (249-54-6589)           \n",
      "  Jessica Kelly (311-75-6483)         Joan Flores (247-72-6304)           \n",
      "  Kathleen Peters (250-75-5238)       Kenneth Carroll (252-29-4929)       \n",
      "  Lillian Martinez (397-28-4474)      Maria Hughes (678-06-9352)          \n",
      "  Michelle Patterson (600-92-0643)    Norma Payne (699-85-1673)           \n",
      "  Phillip Williamson (337-28-4424)    Raymond Walker (879-22-8665)        \n",
      "  Rebecca Long (785-79-1645)          Stephanie Hughes (821-11-2735)      \n",
      "  Victor Harper (220-62-1837)         \n",
      "\n"
     ]
    }
   ],
   "source": [
    "cq = \"\"\" \n",
    "CALL gds.wcc.stream('criminals-knows-pesate-con-vicini', { relationshipWeightProperty: 'peso' })\n",
    "YIELD nodeId, componentId\n",
    "WITH gds.util.asNode(nodeId) AS node, componentId\n",
    "WITH componentId, apoc.coll.sort(collect(node.name + \" \" + node.surname + \" (\" + node.nhs_no+\")\")) AS gruppo\n",
    "WHERE size(gruppo)>1  \n",
    "RETURN *\n",
    "\"\"\"\n",
    "print_id_gruppo(graph.run(cq))"
   ]
  },
  {
   "attachments": {},
   "cell_type": "markdown",
   "metadata": {},
   "source": [
    "### Conclusioni\n",
    "..."
   ]
  },
  {
   "attachments": {},
   "cell_type": "markdown",
   "metadata": {},
   "source": [
    "## 3. Shortest path tra persone con precedenti di spaccio\n",
    "Fare lo shortest path per cercare possibili connessioni e raggruppare in base alla posizione geografica"
   ]
  },
  {
   "attachments": {},
   "cell_type": "markdown",
   "metadata": {},
   "source": [
    "Prendo due persone: una coinvolta in un crimine di tipo Drugs e l'altra pregiudicata ma che non abbia mai compiuto un crimine Drugs. Queste due persone inoltre non devono conoscersi direttamente:"
   ]
  },
  {
   "cell_type": "code",
   "execution_count": 26,
   "metadata": {},
   "outputs": [
    {
     "data": {
      "text/html": [
       "<table><tr><th>spacciatore_nhs_no</th><th>spacciatore_name</th><th>pregiudicato_nhs_no</th><th>pregiudicato_name</th></tr><tr><td style=\"text-align:left\">879-22-8665</td><td style=\"text-align:left\">Raymond</td><td style=\"text-align:left\">821-11-2735</td><td style=\"text-align:left\">Stephanie</td></tr></table>"
      ],
      "text/plain": [
       " spacciatore_nhs_no | spacciatore_name | pregiudicato_nhs_no | pregiudicato_name \n",
       "--------------------|------------------|---------------------|-------------------\n",
       " 879-22-8665        | Raymond          | 821-11-2735         | Stephanie         "
      ]
     },
     "metadata": {},
     "output_type": "display_data"
    }
   ],
   "source": [
    "cq = \"\"\" \n",
    "MATCH (p1:Person)-->(c1:Crime {type:\"Drugs\"}), (p2:Person)-->(c2:Crime)\n",
    "WHERE \n",
    "    NOT EXISTS ( (p2)-->(:Crime {type:\"Drugs\"} )) \n",
    "    AND NOT EXISTS ( (p1)-[]-(p2)) \n",
    "    AND NOT EXISTS ((p1)-->(:Location)-->(:Area)<--(:Location)<--(p2) )\n",
    "RETURN p1.nhs_no AS spacciatore_nhs_no, p1.name AS spacciatore_name, p2.nhs_no AS pregiudicato_nhs_no, p2.name AS pregiudicato_name\n",
    "LIMIT 1\n",
    "\"\"\"\n",
    "display(graph.run(cq))\n",
    "\n",
    "\n",
    "data = graph.run(cq).data()[0]\n",
    "spacciatore_nhs_no = data[\"spacciatore_nhs_no\"]\n",
    "pregiudicato_nhs_no = data[\"pregiudicato_nhs_no\"]"
   ]
  },
  {
   "attachments": {},
   "cell_type": "markdown",
   "metadata": {},
   "source": [
    "Creo la proiezione:"
   ]
  },
  {
   "cell_type": "code",
   "execution_count": 27,
   "metadata": {},
   "outputs": [
    {
     "data": {
      "text/html": [
       "<table><tr><th>nodeQuery</th><th>relationshipQuery</th><th>graphName</th><th>nodeCount</th><th>relationshipCount</th><th>projectMillis</th></tr><tr><td style=\"text-align:left\">MATCH (p) RETURN id(p) as id</td><td style=\"text-align:left\">MATCH (a)-[r]-(b)\n",
       "     RETURN id(a) as source, id(b) as target, \n",
       "      CASE\n",
       "        WHEN EXISTS ( (a)-[:CURRENT_ADDRESS]-(b) ) THEN 1\n",
       "        WHEN EXISTS ( (a)-[:HAS_PHONE]-(b) ) THEN 5\n",
       "        WHEN EXISTS ( (a)-[:HAS_POSTCODE]-(b) ) THEN 2\n",
       "        WHEN EXISTS ( (a)-[:POSTCODE_IN_AREA]-(b) ) THEN 3\n",
       "        WHEN EXISTS ( (a)-[:LOCATION_IN_AREA]-(b) ) THEN 3\n",
       "        WHEN EXISTS ( (a)-[:CALLER]-(b) ) THEN 1\n",
       "        WHEN EXISTS ( (a)-[:CALLED]-(b) ) THEN 1\n",
       "        WHEN EXISTS ( (a)-[:OCCURRED_AT]-(b) ) THEN 1\n",
       "        WHEN EXISTS ( (a)-[:INVOLVED_IN]-(b) ) THEN 1\n",
       "        WHEN EXISTS ( (a)-[:PARTY_TO]-(b) ) THEN 1        \n",
       "        WHEN EXISTS ( (a)-[:KNOWS_LW]-(b) ) THEN 1\n",
       "        WHEN EXISTS ( (a)-[:FAMILY_REL]-(b) ) THEN 2\n",
       "        WHEN EXISTS ( (a)-[:KNOWS_PHONE]-(b) ) THEN 7\n",
       "        WHEN EXISTS ( (a)-[:KNOWS_SN]-(b) ) THEN 9\n",
       "        ELSE 1000\n",
       "      END AS peso, type(r) AS type</td><td style=\"text-align:left\">drugs-groups</td><td style=\"text-align:right\">61521</td><td style=\"text-align:right\">211680</td><td style=\"text-align:right\">2840</td></tr></table>"
      ],
      "text/plain": [
       " nodeQuery                    | relationshipQuery                                          | graphName    | nodeCount | relationshipCount | projectMillis \n",
       "------------------------------|------------------------------------------------------------|--------------|-----------|-------------------|---------------\n",
       " MATCH (p) RETURN id(p) as id | MATCH (a)-[r]-(b)                                          | drugs-groups |     61521 |            211680 |          2840 \n",
       "                              |      RETURN id(a) as source, id(b) as target,              |              |           |                   |               \n",
       "                              |       CASE                                                 |              |           |                   |               \n",
       "                              |         WHEN EXISTS ( (a)-[:CURRENT_ADDRESS]-(b) ) THEN 1  |              |           |                   |               \n",
       "                              |         WHEN EXISTS ( (a)-[:HAS_PHONE]-(b) ) THEN 5        |              |           |                   |               \n",
       "                              |         WHEN EXISTS ( (a)-[:HAS_POSTCODE]-(b) ) THEN 2     |              |           |                   |               \n",
       "                              |         WHEN EXISTS ( (a)-[:POSTCODE_IN_AREA]-(b) ) THEN 3 |              |           |                   |               \n",
       "                              |         WHEN EXISTS ( (a)-[:LOCATION_IN_AREA]-(b) ) THEN 3 |              |           |                   |               \n",
       "                              |         WHEN EXISTS ( (a)-[:CALLER]-(b) ) THEN 1           |              |           |                   |               \n",
       "                              |         WHEN EXISTS ( (a)-[:CALLED]-(b) ) THEN 1           |              |           |                   |               \n",
       "                              |         WHEN EXISTS ( (a)-[:OCCURRED_AT]-(b) ) THEN 1      |              |           |                   |               \n",
       "                              |         WHEN EXISTS ( (a)-[:INVOLVED_IN]-(b) ) THEN 1      |              |           |                   |               \n",
       "                              |         WHEN EXISTS ( (a)-[:PARTY_TO]-(b) ) THEN 1         |              |           |                   |               \n",
       "                              |         WHEN EXISTS ( (a)-[:KNOWS_LW]-(b) ) THEN 1         |              |           |                   |               \n",
       "                              |         WHEN EXISTS ( (a)-[:FAMILY_REL]-(b) ) THEN 2       |              |           |                   |               \n",
       "                              |         WHEN EXISTS ( (a)-[:KNOWS_PHONE]-(b) ) THEN 7      |              |           |                   |               \n",
       "                              |         WHEN EXISTS ( (a)-[:KNOWS_SN]-(b) ) THEN 9         |              |           |                   |               \n",
       "                              |         ELSE 1000                                          |              |           |                   |               \n",
       "                              |       END AS peso, type(r) AS type                         |              |           |                   |               "
      ]
     },
     "execution_count": 27,
     "metadata": {},
     "output_type": "execute_result"
    }
   ],
   "source": [
    "NOME_GRAPH_DRUGS = \"drugs-groups\"\n",
    "if graph.run(\"call gds.graph.exists('\"+NOME_GRAPH_DRUGS+\"')\").data()[0][\"exists\"]:\n",
    "  graph.run('call gds.graph.drop(\"'+NOME_GRAPH_DRUGS+'\")')\n",
    "\n",
    "\n",
    "cq = \"\"\" \n",
    "  CALL gds.graph.project.cypher(\n",
    "    '\"\"\"+NOME_GRAPH_DRUGS+\"\"\"',\n",
    "    'MATCH (p) RETURN id(p) as id',\n",
    "    'MATCH (a)-[r]-(b)\n",
    "     RETURN id(a) as source, id(b) as target, \n",
    "      CASE\n",
    "        WHEN EXISTS ( (a)-[:CURRENT_ADDRESS]-(b) ) THEN 1\n",
    "        WHEN EXISTS ( (a)-[:HAS_PHONE]-(b) ) THEN 5\n",
    "        WHEN EXISTS ( (a)-[:HAS_POSTCODE]-(b) ) THEN 2\n",
    "        WHEN EXISTS ( (a)-[:POSTCODE_IN_AREA]-(b) ) THEN 3\n",
    "        WHEN EXISTS ( (a)-[:LOCATION_IN_AREA]-(b) ) THEN 3\n",
    "        WHEN EXISTS ( (a)-[:CALLER]-(b) ) THEN 1\n",
    "        WHEN EXISTS ( (a)-[:CALLED]-(b) ) THEN 1\n",
    "        WHEN EXISTS ( (a)-[:OCCURRED_AT]-(b) ) THEN 1\n",
    "        WHEN EXISTS ( (a)-[:INVOLVED_IN]-(b) ) THEN 1\n",
    "        WHEN EXISTS ( (a)-[:PARTY_TO]-(b) ) THEN 1        \n",
    "        WHEN EXISTS ( (a)-[:KNOWS_LW]-(b) ) THEN 1\n",
    "        WHEN EXISTS ( (a)-[:FAMILY_REL]-(b) ) THEN 2\n",
    "        WHEN EXISTS ( (a)-[:KNOWS_PHONE]-(b) ) THEN 7\n",
    "        WHEN EXISTS ( (a)-[:KNOWS_SN]-(b) ) THEN 9\n",
    "        ELSE 1000\n",
    "      END AS peso, type(r) AS type',\n",
    "    {validateRelationships:false}\n",
    ");  \n",
    "\"\"\"\n",
    "graph.run(cq)"
   ]
  },
  {
   "attachments": {},
   "cell_type": "markdown",
   "metadata": {},
   "source": [
    "### Memory estimation"
   ]
  },
  {
   "cell_type": "code",
   "execution_count": 28,
   "metadata": {},
   "outputs": [
    {
     "data": {
      "text/html": [
       "<table><tr><th>algoritmo</th><th>nodeCount</th><th>relationshipCount</th><th>bytesMin</th><th>bytesMax</th><th>requiredMemory</th></tr><tr><td style=\"text-align:left\">Dijkstra senza pesi</td><td style=\"text-align:right\">61521</td><td style=\"text-align:right\">211680</td><td style=\"text-align:right\">1984768</td><td style=\"text-align:right\">1984768</td><td style=\"text-align:left\">1938 KiB</td></tr><tr><td style=\"text-align:left\">All Shortest Paths con pesi</td><td style=\"text-align:right\">61521</td><td style=\"text-align:right\">211680</td><td style=\"text-align:right\">1599856</td><td style=\"text-align:right\">4646760</td><td style=\"text-align:left\">[1562 KiB ... 4537 KiB]</td></tr></table>"
      ],
      "text/plain": [
       " algoritmo                   | nodeCount | relationshipCount | bytesMin | bytesMax | requiredMemory          \n",
       "-----------------------------|-----------|-------------------|----------|----------|-------------------------\n",
       " Dijkstra senza pesi         |     61521 |            211680 |  1984768 |  1984768 | 1938 KiB                \n",
       " All Shortest Paths con pesi |     61521 |            211680 |  1599856 |  4646760 | [1562 KiB ... 4537 KiB] "
      ]
     },
     "metadata": {},
     "output_type": "display_data"
    }
   ],
   "source": [
    "print_n_results(\"\"\" \n",
    "MATCH (source:Person {nhs_no: '\"\"\"+spacciatore_nhs_no+\"\"\"'}), (target:Person {nhs_no: '\"\"\"+pregiudicato_nhs_no+\"\"\"'})\n",
    "CALL gds.shortestPath.dijkstra.write.estimate('\"\"\" + NOME_GRAPH_DRUGS + \"\"\"', {sourceNode: source, targetNode: target, writeRelationshipType: 'PATH'})\n",
    "YIELD nodeCount, relationshipCount, bytesMin, bytesMax, requiredMemory\n",
    "RETURN \"Dijkstra senza pesi\" as algoritmo, nodeCount, relationshipCount, bytesMin, bytesMax, requiredMemory\n",
    "\n",
    "UNION ALL\n",
    "\n",
    "MATCH (source:Person {nhs_no: '\"\"\"+spacciatore_nhs_no+\"\"\"'})\n",
    "CALL gds.allShortestPaths.delta.write.estimate('\"\"\" + NOME_GRAPH_DRUGS + \"\"\"', {sourceNode: source, relationshipWeightProperty: 'peso', writeRelationshipType: 'PATH' })\n",
    "YIELD nodeCount, relationshipCount, bytesMin, bytesMax, requiredMemory\n",
    "RETURN \"All Shortest Paths con pesi\" as algoritmo, nodeCount, relationshipCount, bytesMin, bytesMax, requiredMemory\n",
    "\n",
    "\"\"\" )\n"
   ]
  },
  {
   "attachments": {},
   "cell_type": "markdown",
   "metadata": {},
   "source": [
    "### Dijkstra senza pesi"
   ]
  },
  {
   "cell_type": "code",
   "execution_count": 29,
   "metadata": {},
   "outputs": [
    {
     "name": "stdout",
     "output_type": "stream",
     "text": [
      "Costo totale: 7.0\n",
      "Costo ad ogni nodo: [0.0, 1.0, 2.0, 3.0, 4.0, 5.0, 6.0, 7.0]\n",
      "Shortest Path:\n",
      "\t Raymond Walker (879-22-8665)\n",
      "\t Phillip Williamson (337-28-4424)\n",
      "\t Brian Morales (335-71-7747)\n",
      "\t Brenda Edwards (778-24-6852)\n",
      "\t Ashley Bennett (508-10-3584)\n",
      "\t Diane Bradley (338-31-6051)\n",
      "\t Pamela Gibson (838-11-7607)\n",
      "\t Stephanie Hughes (821-11-2735)\n"
     ]
    }
   ],
   "source": [
    "\n",
    "def print_results_shortest_path(cq):\n",
    "    \"\"\" Funzione che stampa i risultati dello shortest path in modo piu' leggibile \"\"\"\n",
    "    data = graph.run(cq).data()[0]\n",
    "    print(\"Costo totale:\", data[\"totalCost\"])\n",
    "    print(\"Costo ad ogni nodo:\", data[\"costs\"])\n",
    "    print(\"Shortest Path:\")\n",
    "\n",
    "    ordine_nodi = data[\"ordine_nodi\"]\n",
    "    from pprint import pprint \n",
    "    for nodo in ordine_nodi:\n",
    "        text = \"\"\n",
    "        tipo_nodo = str(nodo.labels)[1:]\n",
    "        diz = dict(nodo)\n",
    "        if tipo_nodo == \"Person\":\n",
    "            text = diz[\"name\"]+ \" \" + diz[\"surname\"] + \" (\" +diz[\"nhs_no\"]+\")\"\n",
    "        elif tipo_nodo == \"Crime\":\n",
    "            text = \"Reato del \" + diz[\"date\"] + \". Tipo: \"+diz[\"type\"]+\". Esito: \"+ diz[\"last_outcome\"] \n",
    "        elif tipo_nodo == \"Location\" or tipo_nodo == \"Area\":\n",
    "            text = tipo_nodo + \" = \" +  str(diz)[1:-1].replace(\"'\", \"\", -1)\n",
    "        else:\n",
    "            text = nodo\n",
    "        print(\"\\t\", text)\n",
    "\n",
    "cq = \"\"\" \n",
    "MATCH (source:Person {nhs_no: '\"\"\"+spacciatore_nhs_no+\"\"\"'}), (target:Person {nhs_no: '\"\"\"+pregiudicato_nhs_no+\"\"\"'})\n",
    "CALL gds.shortestPath.dijkstra.stream( '\"\"\"+NOME_GRAPH_DRUGS+ \"\"\"', {sourceNode: source, targetNode: target})\n",
    "YIELD index, sourceNode, targetNode, totalCost, nodeIds, costs, path\n",
    "WITH totalCost, [nodeId IN nodeIds | gds.util.asNode(nodeId)] AS ordine_nodi, costs \n",
    "RETURN totalCost, ordine_nodi, costs; \n",
    "\"\"\"\n",
    "print_results_shortest_path(cq)\n",
    "    "
   ]
  },
  {
   "attachments": {},
   "cell_type": "markdown",
   "metadata": {},
   "source": [
    "![Dijkstra_senza_pesi](Dijkstra_senza_pesi.png)"
   ]
  },
  {
   "attachments": {},
   "cell_type": "markdown",
   "metadata": {},
   "source": [
    "### All Shortest Path con pesi\n"
   ]
  },
  {
   "cell_type": "code",
   "execution_count": 30,
   "metadata": {},
   "outputs": [
    {
     "name": "stdout",
     "output_type": "stream",
     "text": [
      "Costo totale: 12.0\n",
      "Costo ad ogni nodo: [0.0, 2.0, 3.0, 4.0, 7.0, 10.0, 11.0, 12.0]\n",
      "Shortest Path:\n",
      "\t Raymond Walker (879-22-8665)\n",
      "\t Kathleen Peters (250-75-5238)\n",
      "\t Reato del 31/08/2017. Tipo: Vehicle crime. Esito: Investigation complete; no suspect identified\n",
      "\t Location = postcode: BL7 9DW, address: 103 Threadfold Way, latitude: 53.614334, longitude: -2.426834\n",
      "\t Area = areaCode: BL7\n",
      "\t Location = postcode: BL7 9YT, address: 60 Deakins Mill Way, latitude: 53.62624, longitude: -2.442588\n",
      "\t Reato del 16/08/2017. Tipo: Violence and sexual offences. Esito: Unable to prosecute suspect\n",
      "\t Stephanie Hughes (821-11-2735)\n"
     ]
    }
   ],
   "source": [
    "cq = \"\"\" \n",
    "MATCH (source:Person {nhs_no: '\"\"\"+spacciatore_nhs_no+\"\"\"'}), (target:Person {nhs_no: '\"\"\"+pregiudicato_nhs_no+\"\"\"'})\n",
    "CALL gds.allShortestPaths.delta.stream( '\"\"\"+NOME_GRAPH_DRUGS+ \"\"\"', {sourceNode: source, relationshipWeightProperty: 'peso'})\n",
    "YIELD index, sourceNode, targetNode, totalCost, nodeIds, costs, path\n",
    "WITH targetNode, totalCost, [nodeId IN nodeIds | gds.util.asNode(nodeId)] AS ordine_nodi, costs\n",
    "WHERE targetNode = id(target)\n",
    "RETURN totalCost, ordine_nodi, costs; \n",
    "\"\"\"\n",
    "# print(cq)\n",
    "print_results_shortest_path(cq)"
   ]
  },
  {
   "attachments": {},
   "cell_type": "markdown",
   "metadata": {},
   "source": [
    "![All_shortest_path_con_pesi](All_shortest_path_con_pesi.png)"
   ]
  },
  {
   "attachments": {},
   "cell_type": "markdown",
   "metadata": {},
   "source": [
    "### Conclusioni\n",
    "..."
   ]
  }
 ],
 "metadata": {
  "kernelspec": {
   "display_name": "Python 3",
   "language": "python",
   "name": "python3"
  },
  "language_info": {
   "codemirror_mode": {
    "name": "ipython",
    "version": 3
   },
   "file_extension": ".py",
   "mimetype": "text/x-python",
   "name": "python",
   "nbconvert_exporter": "python",
   "pygments_lexer": "ipython3",
   "version": "3.11.0"
  },
  "orig_nbformat": 4,
  "vscode": {
   "interpreter": {
    "hash": "a29d3b88d3d770f4c6b76b3f467a825cd9493448f3062cde152f1e267121f11d"
   }
  }
 },
 "nbformat": 4,
 "nbformat_minor": 2
}

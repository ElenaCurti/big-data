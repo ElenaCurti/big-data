{
 "cells": [
  {
   "attachments": {},
   "cell_type": "markdown",
   "metadata": {},
   "source": [
    "<center>Progetto realizzato da Elena Curti (matr. 185431)\n",
    "\n",
    "# Crimes\n",
    "</center>\n",
    "\n",
    "## Introduzione\n",
    "\n",
    "## Requisiti\n"
   ]
  },
  {
   "attachments": {},
   "cell_type": "markdown",
   "metadata": {},
   "source": [
    "## Operazioni iniziali"
   ]
  },
  {
   "cell_type": "code",
   "execution_count": 1,
   "metadata": {},
   "outputs": [
    {
     "name": "stdout",
     "output_type": "stream",
     "text": [
      "Connessione al database eseguita correttamente!\n"
     ]
    }
   ],
   "source": [
    "from py2neo import Graph\n",
    "graph = Graph(\"bolt://localhost:7687\",  auth=(\"neo4j\", \"password1234\"))\n",
    "print(\"Connessione al database eseguita correttamente!\")\n"
   ]
  },
  {
   "attachments": {},
   "cell_type": "markdown",
   "metadata": {},
   "source": [
    "## Descrizione del database"
   ]
  },
  {
   "attachments": {},
   "cell_type": "markdown",
   "metadata": {},
   "source": [
    "## 1. Trovare i gruppi di criminali"
   ]
  },
  {
   "cell_type": "code",
   "execution_count": 2,
   "metadata": {},
   "outputs": [
    {
     "name": "stdout",
     "output_type": "stream",
     "text": [
      "Proiezione crata correttamente!\n"
     ]
    }
   ],
   "source": [
    "## Creo il project\n",
    "NOME_GRAPH_PROJECT = \"criminals\"\n",
    "if graph.run(\"call gds.graph.exists('\"+NOME_GRAPH_PROJECT+\"')\").data()[0][\"exists\"]:\n",
    "  graph.run('call gds.graph.drop(\"'+NOME_GRAPH_PROJECT+'\")')\n",
    "\n",
    "cq = \"\"\" \n",
    "  CALL gds.graph.project.cypher('\"\"\" + NOME_GRAPH_PROJECT+ \"\"\"',\n",
    "  ' MATCH (p:Person) WHERE \n",
    "        EXISTS ( (p)-[:PARTY_TO]->(:Crime) )                          // Persone che hanno preso parte a un crimine\n",
    "        //OR EXISTS ( (p)-[:KNOWS]-(:Person)-[:PARTY_TO]->(:Crime) )    // Conoscenti dei criminali\n",
    "    RETURN id(p) as id',\n",
    "  'MATCH (s:Person)-[:KNOWS]-(t:Person) RETURN id(s) AS source, id(t) AS target',\n",
    "  {validateRelationships:false}\n",
    "); \n",
    "\"\"\"\n",
    "graph.run(cq)\n",
    "print(\"Proiezione crata correttamente!\")"
   ]
  },
  {
   "attachments": {},
   "cell_type": "markdown",
   "metadata": {},
   "source": [
    "### Algoritmo di Louvain"
   ]
  },
  {
   "cell_type": "code",
   "execution_count": 3,
   "metadata": {},
   "outputs": [
    {
     "data": {
      "text/html": [
       "<table><tr><th>nodeCount</th><th>relationshipCount</th><th>bytesMin</th><th>bytesMax</th><th>requiredMemory</th></tr><tr><td style=\"text-align:right\">29</td><td style=\"text-align:right\">30</td><td style=\"text-align:right\">7153</td><td style=\"text-align:right\">566272</td><td style=\"text-align:left\">[7153 Bytes ... 553 KiB]</td></tr></table>"
      ],
      "text/plain": [
       " nodeCount | relationshipCount | bytesMin | bytesMax | requiredMemory           \n",
       "-----------|-------------------|----------|----------|--------------------------\n",
       "        29 |                30 |     7153 |   566272 | [7153 Bytes ... 553 KiB] "
      ]
     },
     "execution_count": 3,
     "metadata": {},
     "output_type": "execute_result"
    }
   ],
   "source": [
    "# Memory estimation\n",
    "graph.run(\"\"\" \n",
    "CALL gds.louvain.write.estimate('\"\"\" + NOME_GRAPH_PROJECT+ \"\"\"', { writeProperty: 'community' })\n",
    "YIELD nodeCount, relationshipCount, bytesMin, bytesMax, requiredMemory ; \"\"\" \n",
    ")"
   ]
  },
  {
   "cell_type": "code",
   "execution_count": 4,
   "metadata": {},
   "outputs": [
    {
     "name": "stdout",
     "output_type": "stream",
     "text": [
      "---------- Gruppo 27 ----------\n",
      "  Raymond Walker (879-22-8665)        Kathleen Peters (250-75-5238)       Diana Murray (900-41-3309)          Phillip Williamson (337-28-4424)    Jessica Kelly (311-75-6483)         \n",
      "\n",
      "---------- Gruppo 17 ----------\n",
      "  Alan Ward (881-20-2396)        Jack Powell (249-54-6589)      Brian Morales (335-71-7747)    \n",
      "\n",
      "---------- Gruppo 24 ----------\n",
      "  Billy Moore (846-48-9238)         Lillian Martinez (397-28-4474)    \n",
      "\n",
      "---------- Gruppo 25 ----------\n",
      "  Donald Robinson (873-28-7561)      Andrea Montgomery (351-83-4608)    \n",
      "\n"
     ]
    }
   ],
   "source": [
    "cq = \"\"\" \n",
    "CALL gds.louvain.stream('\"\"\" + NOME_GRAPH_PROJECT+ \"\"\"')\n",
    "  YIELD nodeId, communityId\n",
    "WITH gds.util.asNode(nodeId) AS node, communityId\n",
    "WITH communityId, collect(node.name + \" \" + node.surname + \" (\" + node.nhs_no+\")\") AS gruppo\n",
    "WHERE size(gruppo)>1\n",
    "RETURN *\n",
    "\"\"\"\n",
    "def print_in_columns(my_list):\n",
    "    columns = 5 #if len(my_list)>10 else 3\n",
    "    len_max = str(max([len(i) for i in my_list]) + 4)\n",
    "    for i in range(0, len(my_list), columns):\n",
    "        print(\"  \", end=\"\")\n",
    "        [eval('print(f\"{i:'+len_max+'}\", end=\"\")') for i in my_list[i:i+columns]]\n",
    "        print(\"\")\n",
    "\n",
    "def print_id_gruppo(query_results):\n",
    "  for (communityId, gruppo) in query_results:\n",
    "      print(\"---------- Gruppo \"+str(communityId)+\" ----------\")\n",
    "      print_in_columns(gruppo)\n",
    "      print(\"\")\n",
    "\n",
    "\n",
    "print_id_gruppo(graph.run(cq))"
   ]
  },
  {
   "attachments": {},
   "cell_type": "markdown",
   "metadata": {},
   "source": [
    "### Label Propagation\n"
   ]
  },
  {
   "cell_type": "code",
   "execution_count": 5,
   "metadata": {},
   "outputs": [
    {
     "data": {
      "text/html": [
       "<table><tr><th>nodeCount</th><th>relationshipCount</th><th>bytesMin</th><th>bytesMax</th><th>requiredMemory</th></tr><tr><td style=\"text-align:right\">29</td><td style=\"text-align:right\">30</td><td style=\"text-align:right\">2288</td><td style=\"text-align:right\">5872</td><td style=\"text-align:left\">[2288 Bytes ... 5872 Bytes]</td></tr></table>"
      ],
      "text/plain": [
       " nodeCount | relationshipCount | bytesMin | bytesMax | requiredMemory              \n",
       "-----------|-------------------|----------|----------|-----------------------------\n",
       "        29 |                30 |     2288 |     5872 | [2288 Bytes ... 5872 Bytes] "
      ]
     },
     "execution_count": 5,
     "metadata": {},
     "output_type": "execute_result"
    }
   ],
   "source": [
    "graph.run(\"\"\" \n",
    "CALL gds.labelPropagation.write.estimate('\"\"\" + NOME_GRAPH_PROJECT+ \"\"\"', { writeProperty: 'community' })\n",
    "YIELD nodeCount, relationshipCount, bytesMin, bytesMax, requiredMemory\n",
    "\"\"\" )"
   ]
  },
  {
   "cell_type": "code",
   "execution_count": 6,
   "metadata": {},
   "outputs": [
    {
     "name": "stdout",
     "output_type": "stream",
     "text": [
      "---------- Gruppo 863 ----------\n",
      "  Raymond Walker (879-22-8665)        Kathleen Peters (250-75-5238)       Diana Murray (900-41-3309)          Alan Ward (881-20-2396)             Jack Powell (249-54-6589)           \n",
      "  Phillip Williamson (337-28-4424)    Jessica Kelly (311-75-6483)         Brian Morales (335-71-7747)         \n",
      "\n",
      "---------- Gruppo 1144 ----------\n",
      "  Billy Moore (846-48-9238)         Lillian Martinez (397-28-4474)    \n",
      "\n",
      "---------- Gruppo 1198 ----------\n",
      "  Donald Robinson (873-28-7561)      Andrea Montgomery (351-83-4608)    \n",
      "\n"
     ]
    }
   ],
   "source": [
    "cq = \"\"\" \n",
    "CALL gds.labelPropagation.stream('\"\"\" + NOME_GRAPH_PROJECT+ \"\"\"')\n",
    "YIELD nodeId, communityId\n",
    "WITH gds.util.asNode(nodeId) as node, communityId\n",
    "WITH communityId, collect(node.name + \" \" + node.surname + \" (\" + node.nhs_no+\")\") AS gruppo\n",
    "WHERE size(gruppo)>1\n",
    "RETURN *\n",
    "\"\"\"\n",
    "print_id_gruppo(graph.run(cq))"
   ]
  },
  {
   "attachments": {},
   "cell_type": "markdown",
   "metadata": {},
   "source": [
    "### Weakly Connected Components"
   ]
  },
  {
   "cell_type": "code",
   "execution_count": 7,
   "metadata": {},
   "outputs": [
    {
     "name": "stdout",
     "output_type": "stream",
     "text": [
      "---------- Gruppo 14 ----------\n",
      "  Raymond Walker (879-22-8665)        Kathleen Peters (250-75-5238)       Phillip Williamson (337-28-4424)    \n",
      "\n",
      "---------- Gruppo 27 ----------\n",
      "  Diana Murray (900-41-3309)     Jessica Kelly (311-75-6483)    \n",
      "\n",
      "---------- Gruppo 17 ----------\n",
      "  Alan Ward (881-20-2396)        Jack Powell (249-54-6589)      Brian Morales (335-71-7747)    \n",
      "\n",
      "---------- Gruppo 24 ----------\n",
      "  Billy Moore (846-48-9238)         Lillian Martinez (397-28-4474)    \n",
      "\n",
      "---------- Gruppo 25 ----------\n",
      "  Donald Robinson (873-28-7561)      Andrea Montgomery (351-83-4608)    \n",
      "\n"
     ]
    }
   ],
   "source": [
    "cq = \"\"\" \n",
    "CALL gds.beta.modularityOptimization.stream('\"\"\" + NOME_GRAPH_PROJECT+ \"\"\"')\n",
    "YIELD nodeId, communityId\n",
    "WITH gds.util.asNode(nodeId) as node, communityId\n",
    "WITH communityId, collect(node.name + \" \" + node.surname + \" (\" + node.nhs_no+\")\") AS gruppo\n",
    "WHERE size(gruppo)>1\n",
    "RETURN *\n",
    "\"\"\"\n",
    "print_id_gruppo(graph.run(cq))"
   ]
  },
  {
   "attachments": {},
   "cell_type": "markdown",
   "metadata": {},
   "source": [
    "### K-1 Coloring"
   ]
  },
  {
   "cell_type": "code",
   "execution_count": 8,
   "metadata": {},
   "outputs": [
    {
     "name": "stdout",
     "output_type": "stream",
     "text": [
      "---------- Gruppo 0 ----------\n",
      "  Stephanie Hughes (821-11-2735)      Maria Hughes (678-06-9352)          David Mills (589-69-0106)           Rebecca Long (785-79-1645)          Annie George (575-05-6519)          \n",
      "  Michelle Patterson (600-92-0643)    Norma Payne (699-85-1673)           Amanda Robertson (455-19-0708)      Gary Vasquez (679-81-5309)          Fred Williamson (468-82-3915)       \n",
      "  Carlos Black (859-81-0332)          Ernest Clark (205-52-5697)          Amy Bailey (276-19-9235)            Raymond Walker (879-22-8665)        Diana Murray (900-41-3309)          \n",
      "  Alan Ward (881-20-2396)             Kenneth Carroll (252-29-4929)       Billy Moore (846-48-9238)           Donald Robinson (873-28-7561)       Joan Flores (247-72-6304)           \n",
      "  Victor Harper (220-62-1837)         Craig Marshall (890-58-5813)        \n",
      "\n",
      "---------- Gruppo 1 ----------\n",
      "  Kathleen Peters (250-75-5238)      Jack Powell (249-54-6589)          Lillian Martinez (397-28-4474)     Andrea Montgomery (351-83-4608)    Jessica Kelly (311-75-6483)        \n",
      "\n"
     ]
    }
   ],
   "source": [
    "cq = \"\"\" \n",
    "CALL gds.beta.k1coloring.stream('\"\"\" + NOME_GRAPH_PROJECT+ \"\"\"')\n",
    "YIELD nodeId, color\n",
    "WITH gds.util.asNode(nodeId) as node, color\n",
    "WITH color, collect(node.name + \" \" + node.surname + \" (\" + node.nhs_no+\")\") AS gruppo\n",
    "WHERE size(gruppo)>1\n",
    "RETURN *\n",
    "\"\"\"\n",
    "print_id_gruppo(graph.run(cq))"
   ]
  },
  {
   "attachments": {},
   "cell_type": "markdown",
   "metadata": {},
   "source": [
    "### Conclusioni\n",
    "..."
   ]
  },
  {
   "attachments": {},
   "cell_type": "markdown",
   "metadata": {},
   "source": [
    "## 2. Quali sono gli agenti di polizia più importanti?\n"
   ]
  },
  {
   "attachments": {},
   "cell_type": "markdown",
   "metadata": {},
   "source": [
    "### Cypher query"
   ]
  },
  {
   "cell_type": "code",
   "execution_count": 17,
   "metadata": {},
   "outputs": [
    {
     "data": {
      "text/html": [
       "<table><tr><th>nome</th><th>cognome</th><th>num_invest</th></tr><tr><td style=\"text-align:left\">Madelon</td><td style=\"text-align:left\">DeSousa</td><td style=\"text-align:right\">50</td></tr><tr><td style=\"text-align:left\">Cloe</td><td style=\"text-align:left\">Ings</td><td style=\"text-align:right\">47</td></tr><tr><td style=\"text-align:left\">Kania</td><td style=\"text-align:left\">Notti</td><td style=\"text-align:right\">46</td></tr><tr><td style=\"text-align:left\">Worthy</td><td style=\"text-align:left\">Nettles</td><td style=\"text-align:right\">45</td></tr><tr><td style=\"text-align:left\">Ricca</td><td style=\"text-align:left\">Miskimmon</td><td style=\"text-align:right\">44</td></tr><tr><td style=\"text-align:left\">Olenolin</td><td style=\"text-align:left\">Klehyn</td><td style=\"text-align:right\">44</td></tr><tr><td style=\"text-align:left\">Winonah</td><td style=\"text-align:left\">Skynner</td><td style=\"text-align:right\">44</td></tr><tr><td style=\"text-align:left\">Simmonds</td><td style=\"text-align:left\">Greensall</td><td style=\"text-align:right\">43</td></tr><tr><td style=\"text-align:left\">Hollyanne</td><td style=\"text-align:left\">Orcott</td><td style=\"text-align:right\">43</td></tr><tr><td style=\"text-align:left\">Hedy</td><td style=\"text-align:left\">Vinson</td><td style=\"text-align:right\">43</td></tr></table>"
      ],
      "text/plain": [
       " nome      | cognome   | num_invest \n",
       "-----------|-----------|------------\n",
       " Madelon   | DeSousa   |         50 \n",
       " Cloe      | Ings      |         47 \n",
       " Kania     | Notti     |         46 \n",
       " Worthy    | Nettles   |         45 \n",
       " Ricca     | Miskimmon |         44 \n",
       " Olenolin  | Klehyn    |         44 \n",
       " Winonah   | Skynner   |         44 \n",
       " Simmonds  | Greensall |         43 \n",
       " Hollyanne | Orcott    |         43 \n",
       " Hedy      | Vinson    |         43 "
      ]
     },
     "metadata": {},
     "output_type": "display_data"
    }
   ],
   "source": [
    "def print_n_results(cq, n=100):\n",
    "    ris = graph.run(cq)\n",
    "    ris.sample_size = n\n",
    "    display(ris)\n",
    "\n",
    "cq = \"\"\" \n",
    "MATCH (o:Officer)<-[:INVESTIGATED_BY]-(c:Crime) \n",
    "WITH o, count(c) as num_invest\n",
    "RETURN o.name as nome, o.surname as cognome, num_invest\n",
    "ORDER BY num_invest DESC\n",
    "LIMIT 10 ;\n",
    "\"\"\"\n",
    "print_n_results(cq)"
   ]
  },
  {
   "attachments": {},
   "cell_type": "markdown",
   "metadata": {},
   "source": [
    "### PageRank"
   ]
  },
  {
   "cell_type": "code",
   "execution_count": 20,
   "metadata": {},
   "outputs": [
    {
     "data": {
      "text/html": [
       "<table><tr><th>nome</th><th>cognome</th><th>pageRank</th></tr><tr><td style=\"text-align:left\">Madelon</td><td style=\"text-align:left\">DeSousa</td><td style=\"text-align:right\">6.525000000000007</td></tr><tr><td style=\"text-align:left\">Cloe</td><td style=\"text-align:left\">Ings</td><td style=\"text-align:right\">6.142500000000005</td></tr><tr><td style=\"text-align:left\">Kania</td><td style=\"text-align:left\">Notti</td><td style=\"text-align:right\">6.015000000000005</td></tr><tr><td style=\"text-align:left\">Worthy</td><td style=\"text-align:left\">Nettles</td><td style=\"text-align:right\">5.887500000000005</td></tr><tr><td style=\"text-align:left\">Winonah</td><td style=\"text-align:left\">Skynner</td><td style=\"text-align:right\">5.760000000000004</td></tr><tr><td style=\"text-align:left\">Ricca</td><td style=\"text-align:left\">Miskimmon</td><td style=\"text-align:right\">5.760000000000004</td></tr><tr><td style=\"text-align:left\">Olenolin</td><td style=\"text-align:left\">Klehyn</td><td style=\"text-align:right\">5.760000000000004</td></tr><tr><td style=\"text-align:left\">Simmonds</td><td style=\"text-align:left\">Greensall</td><td style=\"text-align:right\">5.632500000000004</td></tr><tr><td style=\"text-align:left\">Hollyanne</td><td style=\"text-align:left\">Orcott</td><td style=\"text-align:right\">5.632500000000004</td></tr><tr><td style=\"text-align:left\">Hedy</td><td style=\"text-align:left\">Vinson</td><td style=\"text-align:right\">5.632500000000004</td></tr></table>"
      ],
      "text/plain": [
       " nome      | cognome   |          pageRank \n",
       "-----------|-----------|-------------------\n",
       " Madelon   | DeSousa   | 6.525000000000007 \n",
       " Cloe      | Ings      | 6.142500000000005 \n",
       " Kania     | Notti     | 6.015000000000005 \n",
       " Worthy    | Nettles   | 5.887500000000005 \n",
       " Winonah   | Skynner   | 5.760000000000004 \n",
       " Ricca     | Miskimmon | 5.760000000000004 \n",
       " Olenolin  | Klehyn    | 5.760000000000004 \n",
       " Simmonds  | Greensall | 5.632500000000004 \n",
       " Hollyanne | Orcott    | 5.632500000000004 \n",
       " Hedy      | Vinson    | 5.632500000000004 "
      ]
     },
     "metadata": {},
     "output_type": "display_data"
    }
   ],
   "source": [
    "cq=\"\"\" \n",
    "CALL gds.pageRank.stream('officerss')\n",
    "YIELD nodeId, score\n",
    "WITH gds.util.asNode(nodeId) AS n, score AS pageRank\n",
    "RETURN n.name as nome, n.surname as cognome, pageRank\n",
    "ORDER BY pageRank DESC\n",
    "LIMIT 10 ;\n",
    "\"\"\"\n",
    "print_n_results(cq)"
   ]
  }
 ],
 "metadata": {
  "kernelspec": {
   "display_name": "Python 3",
   "language": "python",
   "name": "python3"
  },
  "language_info": {
   "codemirror_mode": {
    "name": "ipython",
    "version": 3
   },
   "file_extension": ".py",
   "mimetype": "text/x-python",
   "name": "python",
   "nbconvert_exporter": "python",
   "pygments_lexer": "ipython3",
   "version": "3.11.0"
  },
  "orig_nbformat": 4,
  "vscode": {
   "interpreter": {
    "hash": "a29d3b88d3d770f4c6b76b3f467a825cd9493448f3062cde152f1e267121f11d"
   }
  }
 },
 "nbformat": 4,
 "nbformat_minor": 2
}

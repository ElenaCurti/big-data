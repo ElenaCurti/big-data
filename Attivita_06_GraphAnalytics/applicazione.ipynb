{
 "cells": [
  {
   "attachments": {},
   "cell_type": "markdown",
   "metadata": {},
   "source": [
    "<center>Progetto realizzato da Elena Curti (matr. 185431)\n",
    "\n",
    "# Crimes Database\n",
    "</center>\n",
    "\n",
    "## Introduzione\n",
    "\n",
    "## Requisiti\n"
   ]
  },
  {
   "attachments": {},
   "cell_type": "markdown",
   "metadata": {},
   "source": [
    "## Operazioni iniziali\n",
    "Creare un database ..."
   ]
  },
  {
   "cell_type": "code",
   "execution_count": 1,
   "metadata": {},
   "outputs": [
    {
     "name": "stdout",
     "output_type": "stream",
     "text": [
      "Connessione al database eseguita correttamente!\n"
     ]
    }
   ],
   "source": [
    "from py2neo import Graph\n",
    "graph = Graph(\"bolt://localhost:7687\",  auth=(\"neo4j\", \"password1234\"))\n",
    "print(\"Connessione al database eseguita correttamente!\")"
   ]
  },
  {
   "attachments": {},
   "cell_type": "markdown",
   "metadata": {},
   "source": [
    "## Descrizione del database"
   ]
  },
  {
   "attachments": {},
   "cell_type": "markdown",
   "metadata": {},
   "source": [
    "## 1. Quali sono gli agenti di polizia più importanti?\n"
   ]
  },
  {
   "attachments": {},
   "cell_type": "markdown",
   "metadata": {},
   "source": [
    "### Cypher query"
   ]
  },
  {
   "cell_type": "code",
   "execution_count": 2,
   "metadata": {},
   "outputs": [
    {
     "data": {
      "text/html": [
       "<table><tr><th>badge_number</th><th>nome</th><th>cognome</th><th>num_invest</th></tr><tr><td style=\"text-align:left\">48-0216838</td><td style=\"text-align:left\">Madelon</td><td style=\"text-align:left\">DeSousa</td><td style=\"text-align:right\">50</td></tr><tr><td style=\"text-align:left\">04-5664884</td><td style=\"text-align:left\">Cloe</td><td style=\"text-align:left\">Ings</td><td style=\"text-align:right\">47</td></tr><tr><td style=\"text-align:left\">58-9758255</td><td style=\"text-align:left\">Kania</td><td style=\"text-align:left\">Notti</td><td style=\"text-align:right\">46</td></tr><tr><td style=\"text-align:left\">27-2227814</td><td style=\"text-align:left\">Worthy</td><td style=\"text-align:left\">Nettles</td><td style=\"text-align:right\">45</td></tr><tr><td style=\"text-align:left\">86-7588000</td><td style=\"text-align:left\">Ricca</td><td style=\"text-align:left\">Miskimmon</td><td style=\"text-align:right\">44</td></tr><tr><td style=\"text-align:left\">79-9843712</td><td style=\"text-align:left\">Olenolin</td><td style=\"text-align:left\">Klehyn</td><td style=\"text-align:right\">44</td></tr><tr><td style=\"text-align:left\">41-5548000</td><td style=\"text-align:left\">Winonah</td><td style=\"text-align:left\">Skynner</td><td style=\"text-align:right\">44</td></tr><tr><td style=\"text-align:left\">36-7678091</td><td style=\"text-align:left\">Simmonds</td><td style=\"text-align:left\">Greensall</td><td style=\"text-align:right\">43</td></tr><tr><td style=\"text-align:left\">34-6222792</td><td style=\"text-align:left\">Hollyanne</td><td style=\"text-align:left\">Orcott</td><td style=\"text-align:right\">43</td></tr><tr><td style=\"text-align:left\">73-9322216</td><td style=\"text-align:left\">Hedy</td><td style=\"text-align:left\">Vinson</td><td style=\"text-align:right\">43</td></tr></table>"
      ],
      "text/plain": [
       " badge_number | nome      | cognome   | num_invest \n",
       "--------------|-----------|-----------|------------\n",
       " 48-0216838   | Madelon   | DeSousa   |         50 \n",
       " 04-5664884   | Cloe      | Ings      |         47 \n",
       " 58-9758255   | Kania     | Notti     |         46 \n",
       " 27-2227814   | Worthy    | Nettles   |         45 \n",
       " 86-7588000   | Ricca     | Miskimmon |         44 \n",
       " 79-9843712   | Olenolin  | Klehyn    |         44 \n",
       " 41-5548000   | Winonah   | Skynner   |         44 \n",
       " 36-7678091   | Simmonds  | Greensall |         43 \n",
       " 34-6222792   | Hollyanne | Orcott    |         43 \n",
       " 73-9322216   | Hedy      | Vinson    |         43 "
      ]
     },
     "metadata": {},
     "output_type": "display_data"
    }
   ],
   "source": [
    "def print_n_results(cq, n=100):\n",
    "    ris = graph.run(cq)\n",
    "    ris.sample_size = n\n",
    "    display(ris)\n",
    "\n",
    "cq = \"\"\" \n",
    "MATCH (o:Officer)<-[:INVESTIGATED_BY]-(c:Crime) \n",
    "WITH o, count(c) as num_invest\n",
    "RETURN o.badge_no as badge_number, o.name as nome, o.surname as cognome, num_invest\n",
    "ORDER BY num_invest DESC\n",
    "LIMIT 10 ;\n",
    "\"\"\"\n",
    "print_n_results(cq)\n",
    "\n",
    "\n",
    "# TODO questo si può rimuovere, usarlo solo per capire come cambiano i risultati\n",
    "ris1 = [i[\"badge_number\"] + \" \" + i[\"nome\"] +\" \" + i[\"cognome\"] for i in graph.run(cq).data()] \n",
    "def check_results(cq):\n",
    "    res = [i[\"badge_number\"] + \" \" + i[\"nome\"] +\" \" + i[\"cognome\"] for i in graph.run(cq).data()] \n",
    "    return res == ris1\n",
    "\n"
   ]
  },
  {
   "attachments": {},
   "cell_type": "markdown",
   "metadata": {},
   "source": [
    "### Creazione della proiezione"
   ]
  },
  {
   "cell_type": "code",
   "execution_count": 3,
   "metadata": {},
   "outputs": [
    {
     "name": "stdout",
     "output_type": "stream",
     "text": [
      "Proiezione creata correttamente!\n"
     ]
    }
   ],
   "source": [
    "NOME_GRAPH_OFFICERS = \"officers\"\n",
    "\n",
    "if graph.run(\"call gds.graph.exists('\"+NOME_GRAPH_OFFICERS+\"')\").data()[0][\"exists\"]:\n",
    "  graph.run('call gds.graph.drop(\"'+NOME_GRAPH_OFFICERS+'\")')\n",
    "\n",
    "cq = \"\"\"\n",
    "CALL gds.graph.project(\n",
    "  '\"\"\"+NOME_GRAPH_OFFICERS+ \"\"\"',    \n",
    "  ['Officer', 'Crime'],   \n",
    "  {INVESTIGATED_BY: {orientation: 'UNDIRECTED'} }\n",
    ") \"\"\"\n",
    "\n",
    "graph.run(cq)\n",
    "print(\"Proiezione creata correttamente!\")"
   ]
  },
  {
   "attachments": {},
   "cell_type": "markdown",
   "metadata": {},
   "source": [
    "### Memory estimation"
   ]
  },
  {
   "cell_type": "code",
   "execution_count": 4,
   "metadata": {},
   "outputs": [
    {
     "data": {
      "text/html": [
       "<table><tr><th>algoritmo</th><th>nodeCount</th><th>relationshipCount</th><th>bytesMin</th><th>bytesMax</th><th>requiredMemory</th></tr><tr><td style=\"text-align:left\">Page Rank</td><td style=\"text-align:right\">29762</td><td style=\"text-align:right\">57524</td><td style=\"text-align:right\">718808</td><td style=\"text-align:right\">718808</td><td style=\"text-align:left\">701 KiB</td></tr><tr><td style=\"text-align:left\">Degree Centrality</td><td style=\"text-align:right\">29762</td><td style=\"text-align:right\">57524</td><td style=\"text-align:right\">56</td><td style=\"text-align:right\">56</td><td style=\"text-align:left\">56 Bytes</td></tr></table>"
      ],
      "text/plain": [
       " algoritmo         | nodeCount | relationshipCount | bytesMin | bytesMax | requiredMemory \n",
       "-------------------|-----------|-------------------|----------|----------|----------------\n",
       " Page Rank         |     29762 |             57524 |   718808 |   718808 | 701 KiB        \n",
       " Degree Centrality |     29762 |             57524 |       56 |       56 | 56 Bytes       "
      ]
     },
     "execution_count": 4,
     "metadata": {},
     "output_type": "execute_result"
    }
   ],
   "source": [
    "graph.run(\"\"\" \n",
    "CALL gds.pageRank.write.estimate('\"\"\" +NOME_GRAPH_OFFICERS+\"\"\"', { writeProperty: 'pageRank' })\n",
    "YIELD nodeCount, relationshipCount, bytesMin, bytesMax, requiredMemory\n",
    "RETURN \"Page Rank\" as algoritmo, nodeCount, relationshipCount, bytesMin, bytesMax, requiredMemory\n",
    "\n",
    "UNION ALL\n",
    "\n",
    "CALL gds.degree.write.estimate('\"\"\" +NOME_GRAPH_OFFICERS+\"\"\"', { writeProperty: 'degree' })\n",
    "YIELD  nodeCount, relationshipCount, bytesMin, bytesMax, requiredMemory\n",
    "RETURN \"Degree Centrality\" as algoritmo, nodeCount, relationshipCount, bytesMin, bytesMax, requiredMemory\n",
    "\"\"\" )\n"
   ]
  },
  {
   "attachments": {},
   "cell_type": "markdown",
   "metadata": {},
   "source": [
    "### PageRank"
   ]
  },
  {
   "cell_type": "code",
   "execution_count": 5,
   "metadata": {},
   "outputs": [
    {
     "data": {
      "text/html": [
       "<table><tr><th>badge_number</th><th>nome</th><th>cognome</th><th>pageRank</th></tr><tr><td style=\"text-align:left\">48-0216838</td><td style=\"text-align:left\">Madelon</td><td style=\"text-align:left\">DeSousa</td><td style=\"text-align:right\">22.602140755580333</td></tr><tr><td style=\"text-align:left\">04-5664884</td><td style=\"text-align:left\">Cloe</td><td style=\"text-align:left\">Ings</td><td style=\"text-align:right\">21.27718767680494</td></tr><tr><td style=\"text-align:left\">58-9758255</td><td style=\"text-align:left\">Kania</td><td style=\"text-align:left\">Notti</td><td style=\"text-align:right\">20.835536650546473</td></tr><tr><td style=\"text-align:left\">27-2227814</td><td style=\"text-align:left\">Worthy</td><td style=\"text-align:left\">Nettles</td><td style=\"text-align:right\">20.39388562428801</td></tr><tr><td style=\"text-align:left\">79-9843712</td><td style=\"text-align:left\">Olenolin</td><td style=\"text-align:left\">Klehyn</td><td style=\"text-align:right\">19.952234598029545</td></tr><tr><td style=\"text-align:left\">86-7588000</td><td style=\"text-align:left\">Ricca</td><td style=\"text-align:left\">Miskimmon</td><td style=\"text-align:right\">19.952234598029545</td></tr><tr><td style=\"text-align:left\">41-5548000</td><td style=\"text-align:left\">Winonah</td><td style=\"text-align:left\">Skynner</td><td style=\"text-align:right\">19.952234598029545</td></tr><tr><td style=\"text-align:left\">36-7678091</td><td style=\"text-align:left\">Simmonds</td><td style=\"text-align:left\">Greensall</td><td style=\"text-align:right\">19.510583571771075</td></tr><tr><td style=\"text-align:left\">34-6222792</td><td style=\"text-align:left\">Hollyanne</td><td style=\"text-align:left\">Orcott</td><td style=\"text-align:right\">19.510583571771075</td></tr><tr><td style=\"text-align:left\">73-9322216</td><td style=\"text-align:left\">Hedy</td><td style=\"text-align:left\">Vinson</td><td style=\"text-align:right\">19.510583571771075</td></tr></table>"
      ],
      "text/plain": [
       " badge_number | nome      | cognome   |           pageRank \n",
       "--------------|-----------|-----------|--------------------\n",
       " 48-0216838   | Madelon   | DeSousa   | 22.602140755580333 \n",
       " 04-5664884   | Cloe      | Ings      |  21.27718767680494 \n",
       " 58-9758255   | Kania     | Notti     | 20.835536650546473 \n",
       " 27-2227814   | Worthy    | Nettles   |  20.39388562428801 \n",
       " 79-9843712   | Olenolin  | Klehyn    | 19.952234598029545 \n",
       " 86-7588000   | Ricca     | Miskimmon | 19.952234598029545 \n",
       " 41-5548000   | Winonah   | Skynner   | 19.952234598029545 \n",
       " 36-7678091   | Simmonds  | Greensall | 19.510583571771075 \n",
       " 34-6222792   | Hollyanne | Orcott    | 19.510583571771075 \n",
       " 73-9322216   | Hedy      | Vinson    | 19.510583571771075 "
      ]
     },
     "metadata": {},
     "output_type": "display_data"
    }
   ],
   "source": [
    "cq=\"\"\" \n",
    "CALL gds.pageRank.stream('\"\"\"+NOME_GRAPH_OFFICERS+ \"\"\"')\n",
    "YIELD nodeId, score\n",
    "WITH gds.util.asNode(nodeId) AS n, score AS pageRank\n",
    "RETURN n.badge_no as badge_number, n.name as nome, n.surname as cognome, pageRank\n",
    "ORDER BY pageRank DESC\n",
    "LIMIT 10 ;\n",
    "\"\"\"\n",
    "print_n_results(cq)"
   ]
  },
  {
   "attachments": {},
   "cell_type": "markdown",
   "metadata": {},
   "source": [
    "### Degree centrality"
   ]
  },
  {
   "cell_type": "code",
   "execution_count": 6,
   "metadata": {},
   "outputs": [
    {
     "data": {
      "text/html": [
       "<table><tr><th>badge_number</th><th>nome</th><th>cognome</th><th>score</th></tr><tr><td style=\"text-align:left\">48-0216838</td><td style=\"text-align:left\">Madelon</td><td style=\"text-align:left\">DeSousa</td><td style=\"text-align:right\">50.0</td></tr><tr><td style=\"text-align:left\">04-5664884</td><td style=\"text-align:left\">Cloe</td><td style=\"text-align:left\">Ings</td><td style=\"text-align:right\">47.0</td></tr><tr><td style=\"text-align:left\">58-9758255</td><td style=\"text-align:left\">Kania</td><td style=\"text-align:left\">Notti</td><td style=\"text-align:right\">46.0</td></tr><tr><td style=\"text-align:left\">27-2227814</td><td style=\"text-align:left\">Worthy</td><td style=\"text-align:left\">Nettles</td><td style=\"text-align:right\">45.0</td></tr><tr><td style=\"text-align:left\">41-5548000</td><td style=\"text-align:left\">Winonah</td><td style=\"text-align:left\">Skynner</td><td style=\"text-align:right\">44.0</td></tr><tr><td style=\"text-align:left\">86-7588000</td><td style=\"text-align:left\">Ricca</td><td style=\"text-align:left\">Miskimmon</td><td style=\"text-align:right\">44.0</td></tr><tr><td style=\"text-align:left\">79-9843712</td><td style=\"text-align:left\">Olenolin</td><td style=\"text-align:left\">Klehyn</td><td style=\"text-align:right\">44.0</td></tr><tr><td style=\"text-align:left\">36-7678091</td><td style=\"text-align:left\">Simmonds</td><td style=\"text-align:left\">Greensall</td><td style=\"text-align:right\">43.0</td></tr><tr><td style=\"text-align:left\">34-6222792</td><td style=\"text-align:left\">Hollyanne</td><td style=\"text-align:left\">Orcott</td><td style=\"text-align:right\">43.0</td></tr><tr><td style=\"text-align:left\">73-9322216</td><td style=\"text-align:left\">Hedy</td><td style=\"text-align:left\">Vinson</td><td style=\"text-align:right\">43.0</td></tr></table>"
      ],
      "text/plain": [
       " badge_number | nome      | cognome   | score \n",
       "--------------|-----------|-----------|-------\n",
       " 48-0216838   | Madelon   | DeSousa   |  50.0 \n",
       " 04-5664884   | Cloe      | Ings      |  47.0 \n",
       " 58-9758255   | Kania     | Notti     |  46.0 \n",
       " 27-2227814   | Worthy    | Nettles   |  45.0 \n",
       " 41-5548000   | Winonah   | Skynner   |  44.0 \n",
       " 86-7588000   | Ricca     | Miskimmon |  44.0 \n",
       " 79-9843712   | Olenolin  | Klehyn    |  44.0 \n",
       " 36-7678091   | Simmonds  | Greensall |  43.0 \n",
       " 34-6222792   | Hollyanne | Orcott    |  43.0 \n",
       " 73-9322216   | Hedy      | Vinson    |  43.0 "
      ]
     },
     "metadata": {},
     "output_type": "display_data"
    }
   ],
   "source": [
    "cq=\"\"\" \n",
    "CALL gds.degree.stream('\"\"\"+NOME_GRAPH_OFFICERS+ \"\"\"')\n",
    "YIELD nodeId, score\n",
    "WITH gds.util.asNode(nodeId) AS n, score\n",
    "RETURN n.badge_no as badge_number, n.name as nome, n.surname as cognome, score\n",
    "ORDER BY score DESC\n",
    "LIMIT 10 ;\n",
    "\"\"\"\n",
    "print_n_results(cq)"
   ]
  },
  {
   "attachments": {},
   "cell_type": "markdown",
   "metadata": {},
   "source": [
    "### Closeness"
   ]
  },
  {
   "cell_type": "code",
   "execution_count": 7,
   "metadata": {},
   "outputs": [
    {
     "data": {
      "text/html": [
       "<table><tr><th>badge_number</th><th>nome</th><th>cognome</th><th>centrality</th></tr><tr><td style=\"text-align:left\">48-0216838</td><td style=\"text-align:left\">Madelon</td><td style=\"text-align:left\">DeSousa</td><td style=\"text-align:right\">0.001680051073552636</td></tr><tr><td style=\"text-align:left\">04-5664884</td><td style=\"text-align:left\">Cloe</td><td style=\"text-align:left\">Ings</td><td style=\"text-align:right\">0.001579248009139478</td></tr><tr><td style=\"text-align:left\">58-9758255</td><td style=\"text-align:left\">Kania</td><td style=\"text-align:left\">Notti</td><td style=\"text-align:right\">0.001545646987668425</td></tr><tr><td style=\"text-align:left\">27-2227814</td><td style=\"text-align:left\">Worthy</td><td style=\"text-align:left\">Nettles</td><td style=\"text-align:right\">0.0015120459661973724</td></tr><tr><td style=\"text-align:left\">86-7588000</td><td style=\"text-align:left\">Ricca</td><td style=\"text-align:left\">Miskimmon</td><td style=\"text-align:right\">0.0014784449447263197</td></tr><tr><td style=\"text-align:left\">41-5548000</td><td style=\"text-align:left\">Winonah</td><td style=\"text-align:left\">Skynner</td><td style=\"text-align:right\">0.0014784449447263197</td></tr><tr><td style=\"text-align:left\">79-9843712</td><td style=\"text-align:left\">Olenolin</td><td style=\"text-align:left\">Klehyn</td><td style=\"text-align:right\">0.0014784449447263197</td></tr><tr><td style=\"text-align:left\">36-7678091</td><td style=\"text-align:left\">Simmonds</td><td style=\"text-align:left\">Greensall</td><td style=\"text-align:right\">0.001444843923255267</td></tr><tr><td style=\"text-align:left\">34-6222792</td><td style=\"text-align:left\">Hollyanne</td><td style=\"text-align:left\">Orcott</td><td style=\"text-align:right\">0.001444843923255267</td></tr><tr><td style=\"text-align:left\">73-9322216</td><td style=\"text-align:left\">Hedy</td><td style=\"text-align:left\">Vinson</td><td style=\"text-align:right\">0.001444843923255267</td></tr></table>"
      ],
      "text/plain": [
       " badge_number | nome      | cognome   |            centrality \n",
       "--------------|-----------|-----------|-----------------------\n",
       " 48-0216838   | Madelon   | DeSousa   |  0.001680051073552636 \n",
       " 04-5664884   | Cloe      | Ings      |  0.001579248009139478 \n",
       " 58-9758255   | Kania     | Notti     |  0.001545646987668425 \n",
       " 27-2227814   | Worthy    | Nettles   | 0.0015120459661973724 \n",
       " 86-7588000   | Ricca     | Miskimmon | 0.0014784449447263197 \n",
       " 41-5548000   | Winonah   | Skynner   | 0.0014784449447263197 \n",
       " 79-9843712   | Olenolin  | Klehyn    | 0.0014784449447263197 \n",
       " 36-7678091   | Simmonds  | Greensall |  0.001444843923255267 \n",
       " 34-6222792   | Hollyanne | Orcott    |  0.001444843923255267 \n",
       " 73-9322216   | Hedy      | Vinson    |  0.001444843923255267 "
      ]
     },
     "metadata": {},
     "output_type": "display_data"
    }
   ],
   "source": [
    "cq=\"\"\" \n",
    "CALL gds.alpha.closeness.harmonic.stream('\"\"\"+NOME_GRAPH_OFFICERS+ \"\"\"')\n",
    "YIELD nodeId, centrality \n",
    "WITH gds.util.asNode(nodeId) AS n, centrality \n",
    "RETURN n.badge_no as badge_number, n.name as nome, n.surname as cognome, centrality\n",
    "ORDER BY centrality DESC\n",
    "LIMIT 10 ;\n",
    "\"\"\"\n",
    "print_n_results(cq)\n",
    "\n"
   ]
  },
  {
   "attachments": {},
   "cell_type": "markdown",
   "metadata": {},
   "source": [
    "### Hits"
   ]
  },
  {
   "cell_type": "code",
   "execution_count": 8,
   "metadata": {},
   "outputs": [
    {
     "data": {
      "text/html": [
       "<table><tr><th>badge_number</th><th>nome</th><th>cognome</th><th>values</th></tr><tr><td style=\"text-align:left\">48-0216838</td><td style=\"text-align:left\">Madelon</td><td style=\"text-align:left\">DeSousa</td><td style=\"text-align:left\">{hub: 0.009576619680387082, auth: 0.05312791339882031}</td></tr><tr><td style=\"text-align:left\">04-5664884</td><td style=\"text-align:left\">Cloe</td><td style=\"text-align:left\">Ings</td><td style=\"text-align:left\">{hub: 0.009002022499563857, auth: 0.04994023859489109}</td></tr><tr><td style=\"text-align:left\">58-9758255</td><td style=\"text-align:left\">Kania</td><td style=\"text-align:left\">Notti</td><td style=\"text-align:left\">{hub: 0.008810490105956116, auth: 0.04887768032691469}</td></tr><tr><td style=\"text-align:left\">27-2227814</td><td style=\"text-align:left\">Worthy</td><td style=\"text-align:left\">Nettles</td><td style=\"text-align:left\">{hub: 0.008618957712348375, auth: 0.04781512205893828}</td></tr><tr><td style=\"text-align:left\">86-7588000</td><td style=\"text-align:left\">Ricca</td><td style=\"text-align:left\">Miskimmon</td><td style=\"text-align:left\">{hub: 0.008427425318740633, auth: 0.046752563790961876}</td></tr><tr><td style=\"text-align:left\">41-5548000</td><td style=\"text-align:left\">Winonah</td><td style=\"text-align:left\">Skynner</td><td style=\"text-align:left\">{hub: 0.008427425318740633, auth: 0.046752563790961876}</td></tr><tr><td style=\"text-align:left\">79-9843712</td><td style=\"text-align:left\">Olenolin</td><td style=\"text-align:left\">Klehyn</td><td style=\"text-align:left\">{hub: 0.008427425318740633, auth: 0.046752563790961876}</td></tr><tr><td style=\"text-align:left\">36-7678091</td><td style=\"text-align:left\">Simmonds</td><td style=\"text-align:left\">Greensall</td><td style=\"text-align:left\">{hub: 0.008235892925132892, auth: 0.045690005522985466}</td></tr><tr><td style=\"text-align:left\">34-6222792</td><td style=\"text-align:left\">Hollyanne</td><td style=\"text-align:left\">Orcott</td><td style=\"text-align:left\">{hub: 0.008235892925132892, auth: 0.045690005522985466}</td></tr><tr><td style=\"text-align:left\">73-9322216</td><td style=\"text-align:left\">Hedy</td><td style=\"text-align:left\">Vinson</td><td style=\"text-align:left\">{hub: 0.008235892925132892, auth: 0.045690005522985466}</td></tr></table>"
      ],
      "text/plain": [
       " badge_number | nome      | cognome   | values                                                  \n",
       "--------------|-----------|-----------|---------------------------------------------------------\n",
       " 48-0216838   | Madelon   | DeSousa   | {hub: 0.009576619680387082, auth: 0.05312791339882031}  \n",
       " 04-5664884   | Cloe      | Ings      | {hub: 0.009002022499563857, auth: 0.04994023859489109}  \n",
       " 58-9758255   | Kania     | Notti     | {hub: 0.008810490105956116, auth: 0.04887768032691469}  \n",
       " 27-2227814   | Worthy    | Nettles   | {hub: 0.008618957712348375, auth: 0.04781512205893828}  \n",
       " 86-7588000   | Ricca     | Miskimmon | {hub: 0.008427425318740633, auth: 0.046752563790961876} \n",
       " 41-5548000   | Winonah   | Skynner   | {hub: 0.008427425318740633, auth: 0.046752563790961876} \n",
       " 79-9843712   | Olenolin  | Klehyn    | {hub: 0.008427425318740633, auth: 0.046752563790961876} \n",
       " 36-7678091   | Simmonds  | Greensall | {hub: 0.008235892925132892, auth: 0.045690005522985466} \n",
       " 34-6222792   | Hollyanne | Orcott    | {hub: 0.008235892925132892, auth: 0.045690005522985466} \n",
       " 73-9322216   | Hedy      | Vinson    | {hub: 0.008235892925132892, auth: 0.045690005522985466} "
      ]
     },
     "metadata": {},
     "output_type": "display_data"
    }
   ],
   "source": [
    "cq=\"\"\" \n",
    "CALL gds.alpha.hits.stream('\"\"\"+NOME_GRAPH_OFFICERS+ \"\"\"',  {hitsIterations: 1})\n",
    "YIELD nodeId, values \n",
    "WITH gds.util.asNode(nodeId) AS n, values \n",
    "RETURN n.badge_no as badge_number, n.name as nome, n.surname as cognome, values\n",
    "ORDER BY values DESC\n",
    "LIMIT 10 ;\n",
    "\"\"\"\n",
    "print_n_results(cq)"
   ]
  },
  {
   "cell_type": "code",
   "execution_count": 9,
   "metadata": {},
   "outputs": [
    {
     "data": {
      "text/html": [
       "<table><tr><th>badge_number</th><th>nome</th><th>cognome</th><th>score</th></tr><tr><td style=\"text-align:left\">48-0216838</td><td style=\"text-align:left\">Madelon</td><td style=\"text-align:left\">DeSousa</td><td style=\"text-align:right\">1225.0</td></tr><tr><td style=\"text-align:left\">04-5664884</td><td style=\"text-align:left\">Cloe</td><td style=\"text-align:left\">Ings</td><td style=\"text-align:right\">1081.0</td></tr><tr><td style=\"text-align:left\">58-9758255</td><td style=\"text-align:left\">Kania</td><td style=\"text-align:left\">Notti</td><td style=\"text-align:right\">1035.0</td></tr><tr><td style=\"text-align:left\">27-2227814</td><td style=\"text-align:left\">Worthy</td><td style=\"text-align:left\">Nettles</td><td style=\"text-align:right\">990.0</td></tr><tr><td style=\"text-align:left\">41-5548000</td><td style=\"text-align:left\">Winonah</td><td style=\"text-align:left\">Skynner</td><td style=\"text-align:right\">946.0</td></tr><tr><td style=\"text-align:left\">86-7588000</td><td style=\"text-align:left\">Ricca</td><td style=\"text-align:left\">Miskimmon</td><td style=\"text-align:right\">946.0</td></tr><tr><td style=\"text-align:left\">79-9843712</td><td style=\"text-align:left\">Olenolin</td><td style=\"text-align:left\">Klehyn</td><td style=\"text-align:right\">946.0</td></tr><tr><td style=\"text-align:left\">36-7678091</td><td style=\"text-align:left\">Simmonds</td><td style=\"text-align:left\">Greensall</td><td style=\"text-align:right\">903.0</td></tr><tr><td style=\"text-align:left\">34-6222792</td><td style=\"text-align:left\">Hollyanne</td><td style=\"text-align:left\">Orcott</td><td style=\"text-align:right\">903.0</td></tr><tr><td style=\"text-align:left\">73-9322216</td><td style=\"text-align:left\">Hedy</td><td style=\"text-align:left\">Vinson</td><td style=\"text-align:right\">903.0</td></tr></table>"
      ],
      "text/plain": [
       " badge_number | nome      | cognome   |  score \n",
       "--------------|-----------|-----------|--------\n",
       " 48-0216838   | Madelon   | DeSousa   | 1225.0 \n",
       " 04-5664884   | Cloe      | Ings      | 1081.0 \n",
       " 58-9758255   | Kania     | Notti     | 1035.0 \n",
       " 27-2227814   | Worthy    | Nettles   |  990.0 \n",
       " 41-5548000   | Winonah   | Skynner   |  946.0 \n",
       " 86-7588000   | Ricca     | Miskimmon |  946.0 \n",
       " 79-9843712   | Olenolin  | Klehyn    |  946.0 \n",
       " 36-7678091   | Simmonds  | Greensall |  903.0 \n",
       " 34-6222792   | Hollyanne | Orcott    |  903.0 \n",
       " 73-9322216   | Hedy      | Vinson    |  903.0 "
      ]
     },
     "metadata": {},
     "output_type": "display_data"
    }
   ],
   "source": [
    "cq=\"\"\" \n",
    "CALL gds.betweenness.stream('\"\"\"+NOME_GRAPH_OFFICERS+ \"\"\"')\n",
    "YIELD nodeId, score \n",
    "WITH gds.util.asNode(nodeId) AS n, score \n",
    "RETURN n.badge_no as badge_number, n.name as nome, n.surname as cognome, score\n",
    "ORDER BY score DESC\n",
    "LIMIT 10 ;\n",
    "\"\"\"\n",
    "print_n_results(cq)\n"
   ]
  },
  {
   "attachments": {},
   "cell_type": "markdown",
   "metadata": {},
   "source": [
    "### Conclusioni\n",
    "..."
   ]
  },
  {
   "attachments": {},
   "cell_type": "markdown",
   "metadata": {},
   "source": [
    "## 2. Trovare i gruppi di criminali"
   ]
  },
  {
   "cell_type": "code",
   "execution_count": 10,
   "metadata": {},
   "outputs": [
    {
     "name": "stdout",
     "output_type": "stream",
     "text": [
      "Proiezione crata correttamente!\n"
     ]
    }
   ],
   "source": [
    "## Creo il project\n",
    "NOME_GRAPH_CRIMINALS = \"criminals-groups\"\n",
    "includi_conoscenti = False\n",
    "if graph.run(\"call gds.graph.exists('\"+NOME_GRAPH_CRIMINALS+\"')\").data()[0][\"exists\"]:\n",
    "  graph.run('call gds.graph.drop(\"'+NOME_GRAPH_CRIMINALS+'\")')\n",
    "\n",
    "cq = \"\"\" \n",
    "  CALL gds.graph.project.cypher('\"\"\" + NOME_GRAPH_CRIMINALS+ \"\"\"',\n",
    "  ' MATCH (p:Person) \n",
    "    WHERE \n",
    "        EXISTS ( (p)-[:PARTY_TO]->(:Crime) )                    // Persone che hanno preso parte a un crimine\n",
    "        \"\"\" +  ( \"\" if includi_conoscenti else \"//\") + \"\"\" OR EXISTS ( (p)-[]-(:Person)-[:PARTY_TO]->(:Crime) )  // Conoscenti dei criminali\n",
    "    RETURN id(p) as id',\n",
    "  \n",
    "  'MATCH (criminal)-[]-(conoscente:Person)\n",
    "    RETURN DISTINCT id(conoscente) as target,\n",
    "    CASE\n",
    "        WHEN EXISTS ( (conoscente)-[:KNOWS_LW]-(criminal) ) THEN 10\n",
    "        WHEN EXISTS ( (conoscente)-[:FAMILY_REL]-(criminal) ) THEN 8\n",
    "        // WHEN EXISTS ( (conoscente)-[:KNOWS]-(criminal) ) THEN 5\n",
    "        WHEN EXISTS ( (conoscente)-[:KNOWS_PHONE]-(criminal) ) THEN 4\n",
    "        WHEN EXISTS ( (conoscente)-[:KNOWS_SN]-(criminal) ) THEN 3\n",
    "    END AS peso, id(criminal) as source',\n",
    "  {validateRelationships:false}\n",
    "); \n",
    "\"\"\"\n",
    "graph.run(cq)\n",
    "print(\"Proiezione crata correttamente!\")"
   ]
  },
  {
   "attachments": {},
   "cell_type": "markdown",
   "metadata": {},
   "source": [
    "### Memory estimation"
   ]
  },
  {
   "cell_type": "code",
   "execution_count": 11,
   "metadata": {},
   "outputs": [
    {
     "data": {
      "text/html": [
       "<table><tr><th>algoritmo</th><th>nodeCount</th><th>relationshipCount</th><th>bytesMin</th><th>bytesMax</th><th>requiredMemory</th></tr><tr><td style=\"text-align:left\">Louvain</td><td style=\"text-align:right\">29</td><td style=\"text-align:right\">30</td><td style=\"text-align:right\">7153</td><td style=\"text-align:right\">566272</td><td style=\"text-align:left\">[7153 Bytes ... 553 KiB]</td></tr><tr><td style=\"text-align:left\">Weakly Connected Components</td><td style=\"text-align:right\">29</td><td style=\"text-align:right\">30</td><td style=\"text-align:right\">328</td><td style=\"text-align:right\">328</td><td style=\"text-align:left\">328 Bytes</td></tr></table>"
      ],
      "text/plain": [
       " algoritmo                   | nodeCount | relationshipCount | bytesMin | bytesMax | requiredMemory           \n",
       "-----------------------------|-----------|-------------------|----------|----------|--------------------------\n",
       " Louvain                     |        29 |                30 |     7153 |   566272 | [7153 Bytes ... 553 KiB] \n",
       " Weakly Connected Components |        29 |                30 |      328 |      328 | 328 Bytes                "
      ]
     },
     "execution_count": 11,
     "metadata": {},
     "output_type": "execute_result"
    }
   ],
   "source": [
    "graph.run(\"\"\" \n",
    "CALL gds.louvain.write.estimate('\"\"\" + NOME_GRAPH_CRIMINALS+ \"\"\"', { writeProperty: 'community' })\n",
    "YIELD nodeCount, relationshipCount, bytesMin, bytesMax, requiredMemory\n",
    "RETURN \"Louvain\" as algoritmo, nodeCount, relationshipCount, bytesMin, bytesMax, requiredMemory\n",
    "\n",
    "UNION ALL\n",
    "\n",
    "CALL gds.wcc.write.estimate('\"\"\" + NOME_GRAPH_CRIMINALS+ \"\"\"', { writeProperty: 'component' })\n",
    "YIELD nodeCount, relationshipCount, bytesMin, bytesMax, requiredMemory\n",
    "RETURN \"Weakly Connected Components\" as algoritmo, nodeCount, relationshipCount, bytesMin, bytesMax, requiredMemory\n",
    "\n",
    "\"\"\" )\n"
   ]
  },
  {
   "attachments": {},
   "cell_type": "markdown",
   "metadata": {},
   "source": [
    "### Algoritmo di Louvain"
   ]
  },
  {
   "cell_type": "code",
   "execution_count": 12,
   "metadata": {},
   "outputs": [],
   "source": [
    "\n",
    "def print_in_columns(my_list):\n",
    "    columns = 2  #if len(my_list)>10 else 3\n",
    "    len_max = str(max([len(i) for i in my_list]) + 4)\n",
    "    for i in range(0, len(my_list), columns):\n",
    "        print(\"  \", end=\"\")\n",
    "        [eval('print(f\"{i:'+len_max+'}\", end=\"\")') for i in my_list[i:i+columns]]\n",
    "        print(\"\")\n",
    "\n",
    "def print_id_gruppo(query_results):\n",
    "  for (communityId, gruppo) in query_results:\n",
    "      print(\"---------- Gruppo \"+str(communityId)+\" ----------\")\n",
    "      # print(gruppo)\n",
    "      print_in_columns(gruppo)\n",
    "      print(\"\")\n"
   ]
  },
  {
   "cell_type": "code",
   "execution_count": 13,
   "metadata": {},
   "outputs": [
    {
     "name": "stdout",
     "output_type": "stream",
     "text": [
      "---------- Gruppo 28 ----------\n",
      "  Diana Murray (900-41-3309)          Jessica Kelly (311-75-6483)         \n",
      "  Kathleen Peters (250-75-5238)       Phillip Williamson (337-28-4424)    \n",
      "  Raymond Walker (879-22-8665)        \n",
      "\n",
      "---------- Gruppo 17 ----------\n",
      "  Alan Ward (881-20-2396)        Brian Morales (335-71-7747)    \n",
      "  Jack Powell (249-54-6589)      \n",
      "\n",
      "---------- Gruppo 24 ----------\n",
      "  Billy Moore (846-48-9238)         Lillian Martinez (397-28-4474)    \n",
      "\n",
      "---------- Gruppo 25 ----------\n",
      "  Andrea Montgomery (351-83-4608)    Donald Robinson (873-28-7561)      \n",
      "\n"
     ]
    }
   ],
   "source": [
    "cq = \"\"\" \n",
    "CALL gds.louvain.stream('\"\"\" + NOME_GRAPH_CRIMINALS + \"\"\"', {relationshipWeightProperty: 'peso' })\n",
    "  YIELD nodeId, communityId\n",
    "WITH gds.util.asNode(nodeId) AS node, communityId\n",
    "WITH communityId, apoc.coll.sort(collect(node.name + \" \" + node.surname + \" (\" + node.nhs_no+\")\")) AS gruppo\n",
    "WHERE size(gruppo)>1  \n",
    "RETURN *\n",
    "\"\"\"\n",
    "print_id_gruppo(graph.run(cq))"
   ]
  },
  {
   "attachments": {},
   "cell_type": "markdown",
   "metadata": {},
   "source": [
    "### Modularity Optimization"
   ]
  },
  {
   "cell_type": "code",
   "execution_count": 14,
   "metadata": {},
   "outputs": [
    {
     "name": "stdout",
     "output_type": "stream",
     "text": [
      "---------- Gruppo 14 ----------\n",
      "  Diana Murray (900-41-3309)       Kathleen Peters (250-75-5238)    \n",
      "  Raymond Walker (879-22-8665)     \n",
      "\n",
      "---------- Gruppo 17 ----------\n",
      "  Alan Ward (881-20-2396)        Brian Morales (335-71-7747)    \n",
      "  Jack Powell (249-54-6589)      \n",
      "\n",
      "---------- Gruppo 24 ----------\n",
      "  Billy Moore (846-48-9238)         Lillian Martinez (397-28-4474)    \n",
      "\n",
      "---------- Gruppo 25 ----------\n",
      "  Andrea Montgomery (351-83-4608)    Donald Robinson (873-28-7561)      \n",
      "\n",
      "---------- Gruppo 28 ----------\n",
      "  Jessica Kelly (311-75-6483)         Phillip Williamson (337-28-4424)    \n",
      "\n"
     ]
    }
   ],
   "source": [
    "cq = \"\"\" \n",
    "CALL gds.beta.modularityOptimization.stream('\"\"\" + NOME_GRAPH_CRIMINALS + \"\"\"', {relationshipWeightProperty: 'peso' })\n",
    "  YIELD nodeId, communityId\n",
    "WITH gds.util.asNode(nodeId) AS node, communityId\n",
    "WITH communityId, apoc.coll.sort(collect(node.name + \" \" + node.surname + \" (\" + node.nhs_no+\")\")) AS gruppo\n",
    "WHERE size(gruppo)>1  \n",
    "RETURN *\n",
    "\"\"\"\n",
    "print_id_gruppo(graph.run(cq))"
   ]
  },
  {
   "attachments": {},
   "cell_type": "markdown",
   "metadata": {},
   "source": [
    "### Weakly Connected Components"
   ]
  },
  {
   "cell_type": "code",
   "execution_count": 15,
   "metadata": {},
   "outputs": [
    {
     "name": "stdout",
     "output_type": "stream",
     "text": [
      "---------- Gruppo 13 ----------\n",
      "  Alan Ward (881-20-2396)             Brian Morales (335-71-7747)         \n",
      "  Diana Murray (900-41-3309)          Jack Powell (249-54-6589)           \n",
      "  Jessica Kelly (311-75-6483)         Kathleen Peters (250-75-5238)       \n",
      "  Phillip Williamson (337-28-4424)    Raymond Walker (879-22-8665)        \n",
      "\n",
      "---------- Gruppo 19 ----------\n",
      "  Billy Moore (846-48-9238)         Lillian Martinez (397-28-4474)    \n",
      "\n",
      "---------- Gruppo 20 ----------\n",
      "  Andrea Montgomery (351-83-4608)    Donald Robinson (873-28-7561)      \n",
      "\n"
     ]
    }
   ],
   "source": [
    "cq = \"\"\" \n",
    "CALL gds.wcc.stream('\"\"\" + NOME_GRAPH_CRIMINALS + \"\"\"', {relationshipWeightProperty: 'peso' })\n",
    "  YIELD nodeId, componentId\n",
    "WITH gds.util.asNode(nodeId) AS node, componentId\n",
    "WITH componentId, apoc.coll.sort(collect(node.name + \" \" + node.surname + \" (\" + node.nhs_no+\")\")) AS gruppo\n",
    "WHERE size(gruppo)>1  \n",
    "RETURN *\n",
    "\"\"\"\n",
    "print_id_gruppo(graph.run(cq))"
   ]
  },
  {
   "attachments": {},
   "cell_type": "markdown",
   "metadata": {},
   "source": [
    "### Strongly Connected Components \n"
   ]
  },
  {
   "cell_type": "code",
   "execution_count": 16,
   "metadata": {},
   "outputs": [
    {
     "name": "stdout",
     "output_type": "stream",
     "text": [
      "---------- Gruppo 13 ----------\n",
      "  Alan Ward (881-20-2396)             Brian Morales (335-71-7747)         \n",
      "  Diana Murray (900-41-3309)          Jack Powell (249-54-6589)           \n",
      "  Jessica Kelly (311-75-6483)         Kathleen Peters (250-75-5238)       \n",
      "  Phillip Williamson (337-28-4424)    Raymond Walker (879-22-8665)        \n",
      "\n",
      "---------- Gruppo 19 ----------\n",
      "  Billy Moore (846-48-9238)         Lillian Martinez (397-28-4474)    \n",
      "\n",
      "---------- Gruppo 20 ----------\n",
      "  Andrea Montgomery (351-83-4608)    Donald Robinson (873-28-7561)      \n",
      "\n"
     ]
    }
   ],
   "source": [
    "cq = \"\"\" \n",
    "CALL gds.alpha.scc.stream('\"\"\" + NOME_GRAPH_CRIMINALS + \"\"\"')\n",
    "  YIELD nodeId, componentId\n",
    "WITH gds.util.asNode(nodeId) AS node, componentId\n",
    "WITH componentId, apoc.coll.sort(collect(node.name + \" \" + node.surname + \" (\" + node.nhs_no+\")\")) AS gruppo\n",
    "WHERE size(gruppo)>1  \n",
    "RETURN *\n",
    "\"\"\"\n",
    "print_id_gruppo(graph.run(cq))"
   ]
  },
  {
   "attachments": {},
   "cell_type": "markdown",
   "metadata": {},
   "source": [
    "### Conclusioni\n",
    "..."
   ]
  },
  {
   "attachments": {},
   "cell_type": "markdown",
   "metadata": {},
   "source": [
    "## 3. Shortest path tra persone con precedenti di spaccio o possesso di armi\n",
    "Fare lo shortest path per cercare possibili connessioni e raggruppare in base alla posizione geografica"
   ]
  },
  {
   "attachments": {},
   "cell_type": "markdown",
   "metadata": {},
   "source": [
    "Prendo due persone: una coinvolta in un crimine di tipo Drugs e l'altra pregiudicata ma che non abbia mai compiuto un crimine Drugs. Queste due persone inoltre non devono conoscersi direttamente:"
   ]
  },
  {
   "cell_type": "code",
   "execution_count": 17,
   "metadata": {},
   "outputs": [
    {
     "data": {
      "text/html": [
       "<table><tr><th>spacciatore_nhs_no</th><th>spacciatore_name</th><th>pregiudicato_nhs_no</th><th>pregiudicato_name</th></tr><tr><td style=\"text-align:left\">879-22-8665</td><td style=\"text-align:left\">Raymond</td><td style=\"text-align:left\">821-11-2735</td><td style=\"text-align:left\">Stephanie</td></tr></table>"
      ],
      "text/plain": [
       " spacciatore_nhs_no | spacciatore_name | pregiudicato_nhs_no | pregiudicato_name \n",
       "--------------------|------------------|---------------------|-------------------\n",
       " 879-22-8665        | Raymond          | 821-11-2735         | Stephanie         "
      ]
     },
     "metadata": {},
     "output_type": "display_data"
    }
   ],
   "source": [
    "cq = \"\"\" \n",
    "MATCH (p1:Person)-->(c1:Crime {type:\"Drugs\"}), (p2:Person)-->(c2:Crime)\n",
    "WHERE NOT EXISTS ( (p2)-->(:Crime {type:\"Drugs\"} )) AND NOT EXISTS ( (p1)-[]-(p2))\n",
    "RETURN p1.nhs_no AS spacciatore_nhs_no, p1.name AS spacciatore_name, p2.nhs_no AS pregiudicato_nhs_no, p2.name AS pregiudicato_name\n",
    "LIMIT 1\n",
    "\"\"\"\n",
    "display(graph.run(cq))\n",
    "\n",
    "\n",
    "data = graph.run(cq).data()[0]\n",
    "spacciatore_nhs_no = data[\"spacciatore_nhs_no\"]\n",
    "pregiudicato_nhs_no = data[\"pregiudicato_nhs_no\"]"
   ]
  },
  {
   "attachments": {},
   "cell_type": "markdown",
   "metadata": {},
   "source": [
    "Creo la proiezione:"
   ]
  },
  {
   "cell_type": "code",
   "execution_count": 18,
   "metadata": {},
   "outputs": [
    {
     "data": {
      "text/html": [
       "<table><tr><th>nodeQuery</th><th>relationshipQuery</th><th>graphName</th><th>nodeCount</th><th>relationshipCount</th><th>projectMillis</th></tr><tr><td style=\"text-align:left\">MATCH (p) RETURN id(p) as id</td><td style=\"text-align:left\">MATCH (a)-[r]-(b)\n",
       "     RETURN id(a) as source, id(b) as target, \n",
       "      CASE\n",
       "        WHEN EXISTS ( (a)-[:CURRENT_ADDRESS]-(b) ) THEN 1\n",
       "        WHEN EXISTS ( (a)-[:HAS_PHONE]-(b) ) THEN 5\n",
       "        WHEN EXISTS ( (a)-[:HAS_POSTCODE]-(b) ) THEN 2\n",
       "        WHEN EXISTS ( (a)-[:POSTCODE_IN_AREA]-(b) ) THEN 3\n",
       "        WHEN EXISTS ( (a)-[:LOCATION_IN_AREA]-(b) ) THEN 3\n",
       "        WHEN EXISTS ( (a)-[:CALLER]-(b) ) THEN 1\n",
       "        WHEN EXISTS ( (a)-[:CALLED]-(b) ) THEN 1\n",
       "        WHEN EXISTS ( (a)-[:OCCURRED_AT]-(b) ) THEN 1\n",
       "        WHEN EXISTS ( (a)-[:INVOLVED_IN]-(b) ) THEN 1\n",
       "        WHEN EXISTS ( (a)-[:PARTY_TO]-(b) ) THEN 1        \n",
       "        WHEN EXISTS ( (a)-[:KNOWS_LW]-(b) ) THEN 1\n",
       "        WHEN EXISTS ( (a)-[:FAMILY_REL]-(b) ) THEN 2\n",
       "        WHEN EXISTS ( (a)-[:KNOWS_PHONE]-(b) ) THEN 7\n",
       "        WHEN EXISTS ( (a)-[:KNOWS_SN]-(b) ) THEN 9\n",
       "        ELSE 1000\n",
       "      END AS peso, type(r) AS type</td><td style=\"text-align:left\">drugs-groups</td><td style=\"text-align:right\">61521</td><td style=\"text-align:right\">211680</td><td style=\"text-align:right\">3334</td></tr></table>"
      ],
      "text/plain": [
       " nodeQuery                    | relationshipQuery                                          | graphName    | nodeCount | relationshipCount | projectMillis \n",
       "------------------------------|------------------------------------------------------------|--------------|-----------|-------------------|---------------\n",
       " MATCH (p) RETURN id(p) as id | MATCH (a)-[r]-(b)                                          | drugs-groups |     61521 |            211680 |          3334 \n",
       "                              |      RETURN id(a) as source, id(b) as target,              |              |           |                   |               \n",
       "                              |       CASE                                                 |              |           |                   |               \n",
       "                              |         WHEN EXISTS ( (a)-[:CURRENT_ADDRESS]-(b) ) THEN 1  |              |           |                   |               \n",
       "                              |         WHEN EXISTS ( (a)-[:HAS_PHONE]-(b) ) THEN 5        |              |           |                   |               \n",
       "                              |         WHEN EXISTS ( (a)-[:HAS_POSTCODE]-(b) ) THEN 2     |              |           |                   |               \n",
       "                              |         WHEN EXISTS ( (a)-[:POSTCODE_IN_AREA]-(b) ) THEN 3 |              |           |                   |               \n",
       "                              |         WHEN EXISTS ( (a)-[:LOCATION_IN_AREA]-(b) ) THEN 3 |              |           |                   |               \n",
       "                              |         WHEN EXISTS ( (a)-[:CALLER]-(b) ) THEN 1           |              |           |                   |               \n",
       "                              |         WHEN EXISTS ( (a)-[:CALLED]-(b) ) THEN 1           |              |           |                   |               \n",
       "                              |         WHEN EXISTS ( (a)-[:OCCURRED_AT]-(b) ) THEN 1      |              |           |                   |               \n",
       "                              |         WHEN EXISTS ( (a)-[:INVOLVED_IN]-(b) ) THEN 1      |              |           |                   |               \n",
       "                              |         WHEN EXISTS ( (a)-[:PARTY_TO]-(b) ) THEN 1         |              |           |                   |               \n",
       "                              |         WHEN EXISTS ( (a)-[:KNOWS_LW]-(b) ) THEN 1         |              |           |                   |               \n",
       "                              |         WHEN EXISTS ( (a)-[:FAMILY_REL]-(b) ) THEN 2       |              |           |                   |               \n",
       "                              |         WHEN EXISTS ( (a)-[:KNOWS_PHONE]-(b) ) THEN 7      |              |           |                   |               \n",
       "                              |         WHEN EXISTS ( (a)-[:KNOWS_SN]-(b) ) THEN 9         |              |           |                   |               \n",
       "                              |         ELSE 1000                                          |              |           |                   |               \n",
       "                              |       END AS peso, type(r) AS type                         |              |           |                   |               "
      ]
     },
     "execution_count": 18,
     "metadata": {},
     "output_type": "execute_result"
    }
   ],
   "source": [
    "NOME_GRAPH_DRUGS = \"drugs-groups\"\n",
    "if graph.run(\"call gds.graph.exists('\"+NOME_GRAPH_DRUGS+\"')\").data()[0][\"exists\"]:\n",
    "  graph.run('call gds.graph.drop(\"'+NOME_GRAPH_DRUGS+'\")')\n",
    "\n",
    "\n",
    "cq = \"\"\" \n",
    "  CALL gds.graph.project.cypher(\n",
    "    '\"\"\"+NOME_GRAPH_DRUGS+\"\"\"',\n",
    "    'MATCH (p) RETURN id(p) as id',\n",
    "    'MATCH (a)-[r]-(b)\n",
    "     RETURN id(a) as source, id(b) as target, \n",
    "      CASE\n",
    "        WHEN EXISTS ( (a)-[:CURRENT_ADDRESS]-(b) ) THEN 1\n",
    "        WHEN EXISTS ( (a)-[:HAS_PHONE]-(b) ) THEN 5\n",
    "        WHEN EXISTS ( (a)-[:HAS_POSTCODE]-(b) ) THEN 2\n",
    "        WHEN EXISTS ( (a)-[:POSTCODE_IN_AREA]-(b) ) THEN 3\n",
    "        WHEN EXISTS ( (a)-[:LOCATION_IN_AREA]-(b) ) THEN 3\n",
    "        WHEN EXISTS ( (a)-[:CALLER]-(b) ) THEN 1\n",
    "        WHEN EXISTS ( (a)-[:CALLED]-(b) ) THEN 1\n",
    "        WHEN EXISTS ( (a)-[:OCCURRED_AT]-(b) ) THEN 1\n",
    "        WHEN EXISTS ( (a)-[:INVOLVED_IN]-(b) ) THEN 1\n",
    "        WHEN EXISTS ( (a)-[:PARTY_TO]-(b) ) THEN 1        \n",
    "        WHEN EXISTS ( (a)-[:KNOWS_LW]-(b) ) THEN 1\n",
    "        WHEN EXISTS ( (a)-[:FAMILY_REL]-(b) ) THEN 2\n",
    "        WHEN EXISTS ( (a)-[:KNOWS_PHONE]-(b) ) THEN 7\n",
    "        WHEN EXISTS ( (a)-[:KNOWS_SN]-(b) ) THEN 9\n",
    "        ELSE 1000\n",
    "      END AS peso, type(r) AS type',\n",
    "    {validateRelationships:false}\n",
    ");  \n",
    "\"\"\"\n",
    "graph.run(cq)"
   ]
  },
  {
   "attachments": {},
   "cell_type": "markdown",
   "metadata": {},
   "source": [
    "### Memory estimation"
   ]
  },
  {
   "cell_type": "code",
   "execution_count": 19,
   "metadata": {},
   "outputs": [
    {
     "data": {
      "text/html": [
       "<table><tr><th>algoritmo</th><th>nodeCount</th><th>relationshipCount</th><th>bytesMin</th><th>bytesMax</th><th>requiredMemory</th></tr><tr><td style=\"text-align:left\">Dijkstra con pesi</td><td style=\"text-align:right\">61521</td><td style=\"text-align:right\">211680</td><td style=\"text-align:right\">1984768</td><td style=\"text-align:right\">1984768</td><td style=\"text-align:left\">1938 KiB</td></tr><tr><td style=\"text-align:left\">All Shortest Paths con pesi</td><td style=\"text-align:right\">61521</td><td style=\"text-align:right\">211680</td><td style=\"text-align:right\">1599856</td><td style=\"text-align:right\">4646760</td><td style=\"text-align:left\">[1562 KiB ... 4537 KiB]</td></tr><tr><td style=\"text-align:left\">Dijkstra senza pesi</td><td style=\"text-align:right\">61521</td><td style=\"text-align:right\">211680</td><td style=\"text-align:right\">1984768</td><td style=\"text-align:right\">1984768</td><td style=\"text-align:left\">1938 KiB</td></tr><tr><td style=\"text-align:left\">All Shortest Paths senza pesi</td><td style=\"text-align:right\">61521</td><td style=\"text-align:right\">211680</td><td style=\"text-align:right\">1599856</td><td style=\"text-align:right\">4646760</td><td style=\"text-align:left\">[1562 KiB ... 4537 KiB]</td></tr></table>"
      ],
      "text/plain": [
       " algoritmo                     | nodeCount | relationshipCount | bytesMin | bytesMax | requiredMemory          \n",
       "-------------------------------|-----------|-------------------|----------|----------|-------------------------\n",
       " Dijkstra con pesi             |     61521 |            211680 |  1984768 |  1984768 | 1938 KiB                \n",
       " All Shortest Paths con pesi   |     61521 |            211680 |  1599856 |  4646760 | [1562 KiB ... 4537 KiB] \n",
       " Dijkstra senza pesi           |     61521 |            211680 |  1984768 |  1984768 | 1938 KiB                \n",
       " All Shortest Paths senza pesi |     61521 |            211680 |  1599856 |  4646760 | [1562 KiB ... 4537 KiB] "
      ]
     },
     "metadata": {},
     "output_type": "display_data"
    }
   ],
   "source": [
    "print_n_results(\"\"\" \n",
    "MATCH (source:Person {nhs_no: '\"\"\"+spacciatore_nhs_no+\"\"\"'}), (target:Person {nhs_no: '\"\"\"+pregiudicato_nhs_no+\"\"\"'})\n",
    "CALL gds.shortestPath.dijkstra.write.estimate('\"\"\" + NOME_GRAPH_DRUGS + \"\"\"', {sourceNode: source, targetNode: target, relationshipWeightProperty: 'peso', writeRelationshipType: 'PATH'})\n",
    "YIELD nodeCount, relationshipCount, bytesMin, bytesMax, requiredMemory\n",
    "RETURN \"Dijkstra con pesi\" as algoritmo, nodeCount, relationshipCount, bytesMin, bytesMax, requiredMemory\n",
    "\n",
    "UNION ALL\n",
    "\n",
    "MATCH (source:Person {nhs_no: '\"\"\"+spacciatore_nhs_no+\"\"\"'})\n",
    "CALL gds.allShortestPaths.delta.write.estimate('\"\"\" + NOME_GRAPH_DRUGS + \"\"\"', {sourceNode: source, relationshipWeightProperty: 'peso', writeRelationshipType: 'PATH' })\n",
    "YIELD nodeCount, relationshipCount, bytesMin, bytesMax, requiredMemory\n",
    "RETURN \"All Shortest Paths con pesi\" as algoritmo, nodeCount, relationshipCount, bytesMin, bytesMax, requiredMemory\n",
    "\n",
    "UNION ALL\n",
    "\n",
    "MATCH (source:Person {nhs_no: '\"\"\"+spacciatore_nhs_no+\"\"\"'}), (target:Person {nhs_no: '\"\"\"+pregiudicato_nhs_no+\"\"\"'})\n",
    "CALL gds.shortestPath.dijkstra.write.estimate('\"\"\" + NOME_GRAPH_DRUGS + \"\"\"', {sourceNode: source, targetNode: target, writeRelationshipType: 'PATH'})\n",
    "YIELD nodeCount, relationshipCount, bytesMin, bytesMax, requiredMemory\n",
    "RETURN \"Dijkstra senza pesi\" as algoritmo, nodeCount, relationshipCount, bytesMin, bytesMax, requiredMemory\n",
    "\n",
    "UNION ALL\n",
    "\n",
    "MATCH (source:Person {nhs_no: '\"\"\"+spacciatore_nhs_no+\"\"\"'})\n",
    "CALL gds.allShortestPaths.delta.write.estimate('\"\"\" + NOME_GRAPH_DRUGS + \"\"\"', {sourceNode: source, writeRelationshipType: 'PATH'})\n",
    "YIELD nodeCount, relationshipCount, bytesMin, bytesMax, requiredMemory\n",
    "RETURN \"All Shortest Paths senza pesi\" as algoritmo, nodeCount, relationshipCount, bytesMin, bytesMax, requiredMemory;\n",
    "\n",
    "\"\"\" )\n"
   ]
  },
  {
   "attachments": {},
   "cell_type": "markdown",
   "metadata": {},
   "source": [
    "### Dijkstra con pesi"
   ]
  },
  {
   "cell_type": "code",
   "execution_count": 20,
   "metadata": {},
   "outputs": [
    {
     "name": "stdout",
     "output_type": "stream",
     "text": [
      "Costo totale: 12.0\n",
      "Costo ad ogni nodo: [0.0, 2.0, 3.0, 4.0, 7.0, 10.0, 11.0, 12.0]\n",
      "Shortest Path:\n",
      "\t Raymond Walker (879-22-8665)\n",
      "\t Phillip Williamson (337-28-4424)\n",
      "\t Reato del 26/08/2017. Tipo: Vehicle crime. Esito: Investigation complete; no suspect identified\n",
      "\t Location = postcode: BL7 9AR, address: 46 High Meadows, latitude: 53.619804, longitude: -2.415218\n",
      "\t Area = areaCode: BL7\n",
      "\t Location = postcode: BL7 9YT, address: 60 Deakins Mill Way, latitude: 53.62624, longitude: -2.442588\n",
      "\t Reato del 16/08/2017. Tipo: Violence and sexual offences. Esito: Unable to prosecute suspect\n",
      "\t Stephanie Hughes (821-11-2735)\n"
     ]
    }
   ],
   "source": [
    "\n",
    "def print_results_shortest_path(cq):\n",
    "    \"\"\" Funzione che stampa i risultati dello shortest path in modo piu' leggibile \"\"\"\n",
    "    data = graph.run(cq).data()[0]\n",
    "    print(\"Costo totale:\", data[\"totalCost\"])\n",
    "    print(\"Costo ad ogni nodo:\", data[\"costs\"])\n",
    "    print(\"Shortest Path:\")\n",
    "\n",
    "    ordine_nodi = data[\"ordine_nodi\"]\n",
    "    from pprint import pprint \n",
    "    for nodo in ordine_nodi:\n",
    "        text = \"\"\n",
    "        tipo_nodo = str(nodo.labels)[1:]\n",
    "        diz = dict(nodo)\n",
    "        if tipo_nodo == \"Person\":\n",
    "            text = diz[\"name\"]+ \" \" + diz[\"surname\"] + \" (\" +diz[\"nhs_no\"]+\")\"\n",
    "        elif tipo_nodo == \"Crime\":\n",
    "            text = \"Reato del \" + diz[\"date\"] + \". Tipo: \"+diz[\"type\"]+\". Esito: \"+ diz[\"last_outcome\"] \n",
    "        elif tipo_nodo == \"Location\" or tipo_nodo == \"Area\":\n",
    "            text = tipo_nodo + \" = \" +  str(diz)[1:-1].replace(\"'\", \"\", -1)\n",
    "        else:\n",
    "            text = nodo\n",
    "        print(\"\\t\", text)\n",
    "\n",
    "\n",
    "cq = \"\"\" \n",
    "MATCH (source:Person {nhs_no: '\"\"\"+spacciatore_nhs_no+\"\"\"'}), (target:Person {nhs_no: '\"\"\"+pregiudicato_nhs_no+\"\"\"'})\n",
    "CALL gds.shortestPath.dijkstra.stream( '\"\"\"+NOME_GRAPH_DRUGS+ \"\"\"', {sourceNode: source, targetNode: target, relationshipWeightProperty: 'peso'})\n",
    "YIELD index, sourceNode, targetNode, totalCost, nodeIds, costs, path\n",
    "WITH totalCost, [nodeId IN nodeIds | gds.util.asNode(nodeId)] AS ordine_nodi, costs\n",
    "RETURN totalCost, ordine_nodi, costs ;\n",
    "\"\"\" \n",
    "\n",
    "print_results_shortest_path(cq)\n",
    "    "
   ]
  },
  {
   "attachments": {},
   "cell_type": "markdown",
   "metadata": {},
   "source": [
    "![Dijkstra_con_pesi](Dijkstra_con_pesi.png)"
   ]
  },
  {
   "attachments": {},
   "cell_type": "markdown",
   "metadata": {},
   "source": [
    "### All Shortest Path con pesi\n"
   ]
  },
  {
   "cell_type": "code",
   "execution_count": 21,
   "metadata": {},
   "outputs": [
    {
     "name": "stdout",
     "output_type": "stream",
     "text": [
      "Costo totale: 12.0\n",
      "Costo ad ogni nodo: [0.0, 2.0, 3.0, 4.0, 7.0, 10.0, 11.0, 12.0]\n",
      "Shortest Path:\n",
      "\t Raymond Walker (879-22-8665)\n",
      "\t Kathleen Peters (250-75-5238)\n",
      "\t Reato del 31/08/2017. Tipo: Vehicle crime. Esito: Investigation complete; no suspect identified\n",
      "\t Location = postcode: BL7 9DW, address: 103 Threadfold Way, latitude: 53.614334, longitude: -2.426834\n",
      "\t Area = areaCode: BL7\n",
      "\t Location = postcode: BL7 9YT, address: 60 Deakins Mill Way, latitude: 53.62624, longitude: -2.442588\n",
      "\t Reato del 16/08/2017. Tipo: Violence and sexual offences. Esito: Unable to prosecute suspect\n",
      "\t Stephanie Hughes (821-11-2735)\n"
     ]
    }
   ],
   "source": [
    "cq = \"\"\" \n",
    "MATCH (source:Person {nhs_no: '\"\"\"+spacciatore_nhs_no+\"\"\"'}), (target:Person {nhs_no: '\"\"\"+pregiudicato_nhs_no+\"\"\"'})\n",
    "CALL gds.allShortestPaths.delta.stream( '\"\"\"+NOME_GRAPH_DRUGS+ \"\"\"', {sourceNode: source, relationshipWeightProperty: 'peso'})\n",
    "YIELD index, sourceNode, targetNode, totalCost, nodeIds, costs, path\n",
    "WITH targetNode, totalCost, [nodeId IN nodeIds | gds.util.asNode(nodeId)] AS ordine_nodi, costs\n",
    "WHERE targetNode = id(target)\n",
    "RETURN totalCost, ordine_nodi, costs; \n",
    "\"\"\"\n",
    "# print(cq)\n",
    "print_results_shortest_path(cq)\n",
    "\n",
    "\n",
    "\n"
   ]
  },
  {
   "attachments": {},
   "cell_type": "markdown",
   "metadata": {},
   "source": [
    "![All_shortest_path_con_pesi](All_shortest_path_con_pesi.png)"
   ]
  },
  {
   "attachments": {},
   "cell_type": "markdown",
   "metadata": {},
   "source": [
    "### Dijkstra senza pesi"
   ]
  },
  {
   "cell_type": "code",
   "execution_count": 22,
   "metadata": {},
   "outputs": [
    {
     "name": "stdout",
     "output_type": "stream",
     "text": [
      "Costo totale: 7.0\n",
      "Costo ad ogni nodo: [0.0, 1.0, 2.0, 3.0, 4.0, 5.0, 6.0, 7.0]\n",
      "Shortest Path:\n",
      "\t Raymond Walker (879-22-8665)\n",
      "\t Phillip Williamson (337-28-4424)\n",
      "\t Brian Morales (335-71-7747)\n",
      "\t Brenda Edwards (778-24-6852)\n",
      "\t Ashley Bennett (508-10-3584)\n",
      "\t Diane Bradley (338-31-6051)\n",
      "\t Pamela Gibson (838-11-7607)\n",
      "\t Stephanie Hughes (821-11-2735)\n"
     ]
    }
   ],
   "source": [
    "cq = \"\"\" \n",
    "MATCH (source:Person {nhs_no: '\"\"\"+spacciatore_nhs_no+\"\"\"'}), (target:Person {nhs_no: '\"\"\"+pregiudicato_nhs_no+\"\"\"'})\n",
    "CALL gds.shortestPath.dijkstra.stream( '\"\"\"+NOME_GRAPH_DRUGS+ \"\"\"', {sourceNode: source, targetNode: target})\n",
    "YIELD index, sourceNode, targetNode, totalCost, nodeIds, costs, path\n",
    "WITH totalCost, [nodeId IN nodeIds | gds.util.asNode(nodeId)] AS ordine_nodi, costs \n",
    "RETURN totalCost, ordine_nodi, costs; \n",
    "\"\"\"\n",
    "# print(cq)\n",
    "print_results_shortest_path(cq)\n"
   ]
  },
  {
   "attachments": {},
   "cell_type": "markdown",
   "metadata": {},
   "source": [
    "![Dijkstra_senza_pesi](Dijkstra_senza_pesi.png)"
   ]
  },
  {
   "attachments": {},
   "cell_type": "markdown",
   "metadata": {},
   "source": [
    "### All Shortest Path (senza pesi)"
   ]
  },
  {
   "cell_type": "code",
   "execution_count": 27,
   "metadata": {},
   "outputs": [
    {
     "name": "stdout",
     "output_type": "stream",
     "text": [
      "Costo totale: 7.0\n",
      "Costo ad ogni nodo: [0.0, 1.0, 2.0, 3.0, 4.0, 5.0, 6.0, 7.0]\n",
      "Shortest Path:\n",
      "\t Raymond Walker (879-22-8665)\n",
      "\t Kathleen Peters (250-75-5238)\n",
      "\t Alan Ward (881-20-2396)\n",
      "\t Philip Gardner (775-75-2532)\n",
      "\t Ashley Bennett (508-10-3584)\n",
      "\t Diane Bradley (338-31-6051)\n",
      "\t Pamela Gibson (838-11-7607)\n",
      "\t Stephanie Hughes (821-11-2735)\n"
     ]
    }
   ],
   "source": [
    "# TODO controllare che i risultati siano coerenti con le immagini!\n",
    "cq = \"\"\" \n",
    "MATCH (source:Person {nhs_no: '\"\"\"+spacciatore_nhs_no+\"\"\"'}), (target:Person {nhs_no: '\"\"\"+pregiudicato_nhs_no+\"\"\"'})\n",
    "CALL gds.allShortestPaths.delta.stream( '\"\"\"+NOME_GRAPH_DRUGS+ \"\"\"', {sourceNode: source})\n",
    "YIELD index, sourceNode, targetNode, totalCost, nodeIds, costs, path\n",
    "WITH targetNode, totalCost, [nodeId IN nodeIds | gds.util.asNode(nodeId)] AS ordine_nodi, costs\n",
    "WHERE targetNode = id(target)\n",
    "RETURN totalCost, ordine_nodi, costs; \n",
    "\"\"\"\n",
    "print_results_shortest_path(cq)\n"
   ]
  },
  {
   "attachments": {},
   "cell_type": "markdown",
   "metadata": {},
   "source": [
    "![All_shortest_path_senza_pesi](All_shortest_path_senza_pesi.png)"
   ]
  },
  {
   "attachments": {},
   "cell_type": "markdown",
   "metadata": {},
   "source": [
    "### Conclusioni\n",
    "..."
   ]
  }
 ],
 "metadata": {
  "kernelspec": {
   "display_name": "Python 3",
   "language": "python",
   "name": "python3"
  },
  "language_info": {
   "codemirror_mode": {
    "name": "ipython",
    "version": 3
   },
   "file_extension": ".py",
   "mimetype": "text/x-python",
   "name": "python",
   "nbconvert_exporter": "python",
   "pygments_lexer": "ipython3",
   "version": "3.11.0"
  },
  "orig_nbformat": 4,
  "vscode": {
   "interpreter": {
    "hash": "a29d3b88d3d770f4c6b76b3f467a825cd9493448f3062cde152f1e267121f11d"
   }
  }
 },
 "nbformat": 4,
 "nbformat_minor": 2
}

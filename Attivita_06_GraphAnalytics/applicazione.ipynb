{
 "cells": [
  {
   "attachments": {},
   "cell_type": "markdown",
   "metadata": {},
   "source": [
    "<center>Progetto realizzato da Elena Curti (matr. 185431)\n",
    "\n",
    "# Crimes\n",
    "</center>\n",
    "\n",
    "## Introduzione\n",
    "\n",
    "## Requisiti\n"
   ]
  },
  {
   "attachments": {},
   "cell_type": "markdown",
   "metadata": {},
   "source": [
    "## Operazioni iniziali\n",
    "Creare un database ..."
   ]
  },
  {
   "cell_type": "code",
   "execution_count": 1,
   "metadata": {},
   "outputs": [
    {
     "name": "stdout",
     "output_type": "stream",
     "text": [
      "Connessione al database eseguita correttamente!\n"
     ]
    }
   ],
   "source": [
    "from py2neo import Graph\n",
    "graph = Graph(\"bolt://localhost:7687\",  auth=(\"neo4j\", \"password1234\"))\n",
    "print(\"Connessione al database eseguita correttamente!\")\n"
   ]
  },
  {
   "attachments": {},
   "cell_type": "markdown",
   "metadata": {},
   "source": [
    "## Descrizione del database"
   ]
  },
  {
   "attachments": {},
   "cell_type": "markdown",
   "metadata": {},
   "source": [
    "## 1. Quali sono gli agenti di polizia più importanti?\n"
   ]
  },
  {
   "attachments": {},
   "cell_type": "markdown",
   "metadata": {},
   "source": [
    "### Cypher query"
   ]
  },
  {
   "cell_type": "code",
   "execution_count": 2,
   "metadata": {},
   "outputs": [
    {
     "data": {
      "text/html": [
       "<table><tr><th>badge_number</th><th>nome</th><th>cognome</th><th>num_invest</th></tr><tr><td style=\"text-align:left\">48-0216838</td><td style=\"text-align:left\">Madelon</td><td style=\"text-align:left\">DeSousa</td><td style=\"text-align:right\">50</td></tr><tr><td style=\"text-align:left\">04-5664884</td><td style=\"text-align:left\">Cloe</td><td style=\"text-align:left\">Ings</td><td style=\"text-align:right\">47</td></tr><tr><td style=\"text-align:left\">58-9758255</td><td style=\"text-align:left\">Kania</td><td style=\"text-align:left\">Notti</td><td style=\"text-align:right\">46</td></tr><tr><td style=\"text-align:left\">27-2227814</td><td style=\"text-align:left\">Worthy</td><td style=\"text-align:left\">Nettles</td><td style=\"text-align:right\">45</td></tr><tr><td style=\"text-align:left\">86-7588000</td><td style=\"text-align:left\">Ricca</td><td style=\"text-align:left\">Miskimmon</td><td style=\"text-align:right\">44</td></tr><tr><td style=\"text-align:left\">79-9843712</td><td style=\"text-align:left\">Olenolin</td><td style=\"text-align:left\">Klehyn</td><td style=\"text-align:right\">44</td></tr><tr><td style=\"text-align:left\">41-5548000</td><td style=\"text-align:left\">Winonah</td><td style=\"text-align:left\">Skynner</td><td style=\"text-align:right\">44</td></tr><tr><td style=\"text-align:left\">36-7678091</td><td style=\"text-align:left\">Simmonds</td><td style=\"text-align:left\">Greensall</td><td style=\"text-align:right\">43</td></tr><tr><td style=\"text-align:left\">34-6222792</td><td style=\"text-align:left\">Hollyanne</td><td style=\"text-align:left\">Orcott</td><td style=\"text-align:right\">43</td></tr><tr><td style=\"text-align:left\">73-9322216</td><td style=\"text-align:left\">Hedy</td><td style=\"text-align:left\">Vinson</td><td style=\"text-align:right\">43</td></tr></table>"
      ],
      "text/plain": [
       " badge_number | nome      | cognome   | num_invest \n",
       "--------------|-----------|-----------|------------\n",
       " 48-0216838   | Madelon   | DeSousa   |         50 \n",
       " 04-5664884   | Cloe      | Ings      |         47 \n",
       " 58-9758255   | Kania     | Notti     |         46 \n",
       " 27-2227814   | Worthy    | Nettles   |         45 \n",
       " 86-7588000   | Ricca     | Miskimmon |         44 \n",
       " 79-9843712   | Olenolin  | Klehyn    |         44 \n",
       " 41-5548000   | Winonah   | Skynner   |         44 \n",
       " 36-7678091   | Simmonds  | Greensall |         43 \n",
       " 34-6222792   | Hollyanne | Orcott    |         43 \n",
       " 73-9322216   | Hedy      | Vinson    |         43 "
      ]
     },
     "metadata": {},
     "output_type": "display_data"
    }
   ],
   "source": [
    "def print_n_results(cq, n=100):\n",
    "    ris = graph.run(cq)\n",
    "    ris.sample_size = n\n",
    "    display(ris)\n",
    "\n",
    "cq = \"\"\" \n",
    "MATCH (o:Officer)<-[:INVESTIGATED_BY]-(c:Crime) \n",
    "WITH o, count(c) as num_invest\n",
    "RETURN o.badge_no as badge_number, o.name as nome, o.surname as cognome, num_invest\n",
    "ORDER BY num_invest DESC\n",
    "LIMIT 10 ;\n",
    "\"\"\"\n",
    "print_n_results(cq)\n",
    "\n",
    "\n",
    "# TODO questo si può rimuovere, usarlo solo per capire come cambiano i risultati\n",
    "ris1 = [i[\"badge_number\"] + \" \" + i[\"nome\"] +\" \" + i[\"cognome\"] for i in graph.run(cq).data()] \n",
    "def check_results(cq):\n",
    "    res = [i[\"badge_number\"] + \" \" + i[\"nome\"] +\" \" + i[\"cognome\"] for i in graph.run(cq).data()] \n",
    "    return res == ris1\n",
    "\n"
   ]
  },
  {
   "attachments": {},
   "cell_type": "markdown",
   "metadata": {},
   "source": [
    "### PageRank"
   ]
  },
  {
   "cell_type": "code",
   "execution_count": 3,
   "metadata": {},
   "outputs": [
    {
     "name": "stdout",
     "output_type": "stream",
     "text": [
      "Proiezione creata correttamente!\n"
     ]
    }
   ],
   "source": [
    "NOME_GRAPH_OFFICERS = \"officers\"\n",
    "\n",
    "if graph.run(\"call gds.graph.exists('\"+NOME_GRAPH_OFFICERS+\"')\").data()[0][\"exists\"]:\n",
    "  graph.run('call gds.graph.drop(\"'+NOME_GRAPH_OFFICERS+'\")')\n",
    "\n",
    "cq = \"\"\"\n",
    "CALL gds.graph.project(\n",
    "  '\"\"\"+NOME_GRAPH_OFFICERS+ \"\"\"',    \n",
    "  ['Officer', 'Crime'],   \n",
    "  {INVESTIGATED_BY: {orientation: 'UNDIRECTED'} }\n",
    ") \"\"\"\n",
    "\n",
    "graph.run(cq)\n",
    "print(\"Proiezione creata correttamente!\")"
   ]
  },
  {
   "cell_type": "code",
   "execution_count": 4,
   "metadata": {},
   "outputs": [
    {
     "data": {
      "text/html": [
       "<table><tr><th>badge_number</th><th>nome</th><th>cognome</th><th>pageRank</th></tr><tr><td style=\"text-align:left\">48-0216838</td><td style=\"text-align:left\">Madelon</td><td style=\"text-align:left\">DeSousa</td><td style=\"text-align:right\">22.602140755580333</td></tr><tr><td style=\"text-align:left\">04-5664884</td><td style=\"text-align:left\">Cloe</td><td style=\"text-align:left\">Ings</td><td style=\"text-align:right\">21.27718767680494</td></tr><tr><td style=\"text-align:left\">58-9758255</td><td style=\"text-align:left\">Kania</td><td style=\"text-align:left\">Notti</td><td style=\"text-align:right\">20.835536650546473</td></tr><tr><td style=\"text-align:left\">27-2227814</td><td style=\"text-align:left\">Worthy</td><td style=\"text-align:left\">Nettles</td><td style=\"text-align:right\">20.39388562428801</td></tr><tr><td style=\"text-align:left\">79-9843712</td><td style=\"text-align:left\">Olenolin</td><td style=\"text-align:left\">Klehyn</td><td style=\"text-align:right\">19.952234598029545</td></tr><tr><td style=\"text-align:left\">86-7588000</td><td style=\"text-align:left\">Ricca</td><td style=\"text-align:left\">Miskimmon</td><td style=\"text-align:right\">19.952234598029545</td></tr><tr><td style=\"text-align:left\">41-5548000</td><td style=\"text-align:left\">Winonah</td><td style=\"text-align:left\">Skynner</td><td style=\"text-align:right\">19.952234598029545</td></tr><tr><td style=\"text-align:left\">36-7678091</td><td style=\"text-align:left\">Simmonds</td><td style=\"text-align:left\">Greensall</td><td style=\"text-align:right\">19.510583571771075</td></tr><tr><td style=\"text-align:left\">34-6222792</td><td style=\"text-align:left\">Hollyanne</td><td style=\"text-align:left\">Orcott</td><td style=\"text-align:right\">19.510583571771075</td></tr><tr><td style=\"text-align:left\">73-9322216</td><td style=\"text-align:left\">Hedy</td><td style=\"text-align:left\">Vinson</td><td style=\"text-align:right\">19.510583571771075</td></tr></table>"
      ],
      "text/plain": [
       " badge_number | nome      | cognome   |           pageRank \n",
       "--------------|-----------|-----------|--------------------\n",
       " 48-0216838   | Madelon   | DeSousa   | 22.602140755580333 \n",
       " 04-5664884   | Cloe      | Ings      |  21.27718767680494 \n",
       " 58-9758255   | Kania     | Notti     | 20.835536650546473 \n",
       " 27-2227814   | Worthy    | Nettles   |  20.39388562428801 \n",
       " 79-9843712   | Olenolin  | Klehyn    | 19.952234598029545 \n",
       " 86-7588000   | Ricca     | Miskimmon | 19.952234598029545 \n",
       " 41-5548000   | Winonah   | Skynner   | 19.952234598029545 \n",
       " 36-7678091   | Simmonds  | Greensall | 19.510583571771075 \n",
       " 34-6222792   | Hollyanne | Orcott    | 19.510583571771075 \n",
       " 73-9322216   | Hedy      | Vinson    | 19.510583571771075 "
      ]
     },
     "metadata": {},
     "output_type": "display_data"
    },
    {
     "data": {
      "text/plain": [
       "False"
      ]
     },
     "execution_count": 4,
     "metadata": {},
     "output_type": "execute_result"
    }
   ],
   "source": [
    "cq=\"\"\" \n",
    "CALL gds.pageRank.stream('\"\"\"+NOME_GRAPH_OFFICERS+ \"\"\"')\n",
    "YIELD nodeId, score\n",
    "WITH gds.util.asNode(nodeId) AS n, score AS pageRank\n",
    "RETURN n.badge_no as badge_number, n.name as nome, n.surname as cognome, pageRank\n",
    "ORDER BY pageRank DESC\n",
    "LIMIT 10 ;\n",
    "\"\"\"\n",
    "print_n_results(cq)\n",
    "check_results(cq)"
   ]
  },
  {
   "attachments": {},
   "cell_type": "markdown",
   "metadata": {},
   "source": [
    "### Degree centrality"
   ]
  },
  {
   "cell_type": "code",
   "execution_count": 5,
   "metadata": {},
   "outputs": [
    {
     "data": {
      "text/html": [
       "<table><tr><th>badge_number</th><th>nome</th><th>cognome</th><th>score</th></tr><tr><td style=\"text-align:left\">48-0216838</td><td style=\"text-align:left\">Madelon</td><td style=\"text-align:left\">DeSousa</td><td style=\"text-align:right\">50.0</td></tr><tr><td style=\"text-align:left\">04-5664884</td><td style=\"text-align:left\">Cloe</td><td style=\"text-align:left\">Ings</td><td style=\"text-align:right\">47.0</td></tr><tr><td style=\"text-align:left\">58-9758255</td><td style=\"text-align:left\">Kania</td><td style=\"text-align:left\">Notti</td><td style=\"text-align:right\">46.0</td></tr><tr><td style=\"text-align:left\">27-2227814</td><td style=\"text-align:left\">Worthy</td><td style=\"text-align:left\">Nettles</td><td style=\"text-align:right\">45.0</td></tr><tr><td style=\"text-align:left\">41-5548000</td><td style=\"text-align:left\">Winonah</td><td style=\"text-align:left\">Skynner</td><td style=\"text-align:right\">44.0</td></tr><tr><td style=\"text-align:left\">86-7588000</td><td style=\"text-align:left\">Ricca</td><td style=\"text-align:left\">Miskimmon</td><td style=\"text-align:right\">44.0</td></tr><tr><td style=\"text-align:left\">79-9843712</td><td style=\"text-align:left\">Olenolin</td><td style=\"text-align:left\">Klehyn</td><td style=\"text-align:right\">44.0</td></tr><tr><td style=\"text-align:left\">36-7678091</td><td style=\"text-align:left\">Simmonds</td><td style=\"text-align:left\">Greensall</td><td style=\"text-align:right\">43.0</td></tr><tr><td style=\"text-align:left\">34-6222792</td><td style=\"text-align:left\">Hollyanne</td><td style=\"text-align:left\">Orcott</td><td style=\"text-align:right\">43.0</td></tr><tr><td style=\"text-align:left\">73-9322216</td><td style=\"text-align:left\">Hedy</td><td style=\"text-align:left\">Vinson</td><td style=\"text-align:right\">43.0</td></tr></table>"
      ],
      "text/plain": [
       " badge_number | nome      | cognome   | score \n",
       "--------------|-----------|-----------|-------\n",
       " 48-0216838   | Madelon   | DeSousa   |  50.0 \n",
       " 04-5664884   | Cloe      | Ings      |  47.0 \n",
       " 58-9758255   | Kania     | Notti     |  46.0 \n",
       " 27-2227814   | Worthy    | Nettles   |  45.0 \n",
       " 41-5548000   | Winonah   | Skynner   |  44.0 \n",
       " 86-7588000   | Ricca     | Miskimmon |  44.0 \n",
       " 79-9843712   | Olenolin  | Klehyn    |  44.0 \n",
       " 36-7678091   | Simmonds  | Greensall |  43.0 \n",
       " 34-6222792   | Hollyanne | Orcott    |  43.0 \n",
       " 73-9322216   | Hedy      | Vinson    |  43.0 "
      ]
     },
     "metadata": {},
     "output_type": "display_data"
    }
   ],
   "source": [
    "cq=\"\"\" \n",
    "CALL gds.degree.stream('\"\"\"+NOME_GRAPH_OFFICERS+ \"\"\"')\n",
    "YIELD nodeId, score\n",
    "WITH gds.util.asNode(nodeId) AS n, score\n",
    "RETURN n.badge_no as badge_number, n.name as nome, n.surname as cognome, score\n",
    "ORDER BY score DESC\n",
    "LIMIT 10 ;\n",
    "\"\"\"\n",
    "print_n_results(cq)"
   ]
  },
  {
   "attachments": {},
   "cell_type": "markdown",
   "metadata": {},
   "source": [
    "### Closeness"
   ]
  },
  {
   "cell_type": "code",
   "execution_count": 6,
   "metadata": {},
   "outputs": [
    {
     "data": {
      "text/html": [
       "<table><tr><th>badge_number</th><th>nome</th><th>cognome</th><th>centrality</th></tr><tr><td style=\"text-align:left\">48-0216838</td><td style=\"text-align:left\">Madelon</td><td style=\"text-align:left\">DeSousa</td><td style=\"text-align:right\">0.001680051073552636</td></tr><tr><td style=\"text-align:left\">04-5664884</td><td style=\"text-align:left\">Cloe</td><td style=\"text-align:left\">Ings</td><td style=\"text-align:right\">0.001579248009139478</td></tr><tr><td style=\"text-align:left\">58-9758255</td><td style=\"text-align:left\">Kania</td><td style=\"text-align:left\">Notti</td><td style=\"text-align:right\">0.001545646987668425</td></tr><tr><td style=\"text-align:left\">27-2227814</td><td style=\"text-align:left\">Worthy</td><td style=\"text-align:left\">Nettles</td><td style=\"text-align:right\">0.0015120459661973724</td></tr><tr><td style=\"text-align:left\">86-7588000</td><td style=\"text-align:left\">Ricca</td><td style=\"text-align:left\">Miskimmon</td><td style=\"text-align:right\">0.0014784449447263197</td></tr><tr><td style=\"text-align:left\">41-5548000</td><td style=\"text-align:left\">Winonah</td><td style=\"text-align:left\">Skynner</td><td style=\"text-align:right\">0.0014784449447263197</td></tr><tr><td style=\"text-align:left\">79-9843712</td><td style=\"text-align:left\">Olenolin</td><td style=\"text-align:left\">Klehyn</td><td style=\"text-align:right\">0.0014784449447263197</td></tr><tr><td style=\"text-align:left\">36-7678091</td><td style=\"text-align:left\">Simmonds</td><td style=\"text-align:left\">Greensall</td><td style=\"text-align:right\">0.001444843923255267</td></tr><tr><td style=\"text-align:left\">34-6222792</td><td style=\"text-align:left\">Hollyanne</td><td style=\"text-align:left\">Orcott</td><td style=\"text-align:right\">0.001444843923255267</td></tr><tr><td style=\"text-align:left\">73-9322216</td><td style=\"text-align:left\">Hedy</td><td style=\"text-align:left\">Vinson</td><td style=\"text-align:right\">0.001444843923255267</td></tr></table>"
      ],
      "text/plain": [
       " badge_number | nome      | cognome   |            centrality \n",
       "--------------|-----------|-----------|-----------------------\n",
       " 48-0216838   | Madelon   | DeSousa   |  0.001680051073552636 \n",
       " 04-5664884   | Cloe      | Ings      |  0.001579248009139478 \n",
       " 58-9758255   | Kania     | Notti     |  0.001545646987668425 \n",
       " 27-2227814   | Worthy    | Nettles   | 0.0015120459661973724 \n",
       " 86-7588000   | Ricca     | Miskimmon | 0.0014784449447263197 \n",
       " 41-5548000   | Winonah   | Skynner   | 0.0014784449447263197 \n",
       " 79-9843712   | Olenolin  | Klehyn    | 0.0014784449447263197 \n",
       " 36-7678091   | Simmonds  | Greensall |  0.001444843923255267 \n",
       " 34-6222792   | Hollyanne | Orcott    |  0.001444843923255267 \n",
       " 73-9322216   | Hedy      | Vinson    |  0.001444843923255267 "
      ]
     },
     "metadata": {},
     "output_type": "display_data"
    }
   ],
   "source": [
    "cq=\"\"\" \n",
    "CALL gds.alpha.closeness.harmonic.stream('\"\"\"+NOME_GRAPH_OFFICERS+ \"\"\"')\n",
    "YIELD nodeId, centrality \n",
    "WITH gds.util.asNode(nodeId) AS n, centrality \n",
    "RETURN n.badge_no as badge_number, n.name as nome, n.surname as cognome, centrality\n",
    "ORDER BY centrality DESC\n",
    "LIMIT 10 ;\n",
    "\"\"\"\n",
    "print_n_results(cq)\n",
    "\n"
   ]
  },
  {
   "attachments": {},
   "cell_type": "markdown",
   "metadata": {},
   "source": [
    "### Hits"
   ]
  },
  {
   "cell_type": "code",
   "execution_count": 7,
   "metadata": {},
   "outputs": [
    {
     "data": {
      "text/html": [
       "<table><tr><th>badge_number</th><th>nome</th><th>cognome</th><th>values</th></tr><tr><td style=\"text-align:left\">48-0216838</td><td style=\"text-align:left\">Madelon</td><td style=\"text-align:left\">DeSousa</td><td style=\"text-align:left\">{hub: 0.009576619680386747, auth: 0.05312791339882031}</td></tr><tr><td style=\"text-align:left\">04-5664884</td><td style=\"text-align:left\">Cloe</td><td style=\"text-align:left\">Ings</td><td style=\"text-align:left\">{hub: 0.009002022499563543, auth: 0.04994023859489109}</td></tr><tr><td style=\"text-align:left\">58-9758255</td><td style=\"text-align:left\">Kania</td><td style=\"text-align:left\">Notti</td><td style=\"text-align:left\">{hub: 0.008810490105955809, auth: 0.04887768032691469}</td></tr><tr><td style=\"text-align:left\">27-2227814</td><td style=\"text-align:left\">Worthy</td><td style=\"text-align:left\">Nettles</td><td style=\"text-align:left\">{hub: 0.008618957712348075, auth: 0.04781512205893828}</td></tr><tr><td style=\"text-align:left\">86-7588000</td><td style=\"text-align:left\">Ricca</td><td style=\"text-align:left\">Miskimmon</td><td style=\"text-align:left\">{hub: 0.008427425318740338, auth: 0.046752563790961876}</td></tr><tr><td style=\"text-align:left\">41-5548000</td><td style=\"text-align:left\">Winonah</td><td style=\"text-align:left\">Skynner</td><td style=\"text-align:left\">{hub: 0.008427425318740338, auth: 0.046752563790961876}</td></tr><tr><td style=\"text-align:left\">79-9843712</td><td style=\"text-align:left\">Olenolin</td><td style=\"text-align:left\">Klehyn</td><td style=\"text-align:left\">{hub: 0.008427425318740338, auth: 0.046752563790961876}</td></tr><tr><td style=\"text-align:left\">36-7678091</td><td style=\"text-align:left\">Simmonds</td><td style=\"text-align:left\">Greensall</td><td style=\"text-align:left\">{hub: 0.008235892925132604, auth: 0.045690005522985466}</td></tr><tr><td style=\"text-align:left\">34-6222792</td><td style=\"text-align:left\">Hollyanne</td><td style=\"text-align:left\">Orcott</td><td style=\"text-align:left\">{hub: 0.008235892925132604, auth: 0.045690005522985466}</td></tr><tr><td style=\"text-align:left\">73-9322216</td><td style=\"text-align:left\">Hedy</td><td style=\"text-align:left\">Vinson</td><td style=\"text-align:left\">{hub: 0.008235892925132604, auth: 0.045690005522985466}</td></tr></table>"
      ],
      "text/plain": [
       " badge_number | nome      | cognome   | values                                                  \n",
       "--------------|-----------|-----------|---------------------------------------------------------\n",
       " 48-0216838   | Madelon   | DeSousa   | {hub: 0.009576619680386747, auth: 0.05312791339882031}  \n",
       " 04-5664884   | Cloe      | Ings      | {hub: 0.009002022499563543, auth: 0.04994023859489109}  \n",
       " 58-9758255   | Kania     | Notti     | {hub: 0.008810490105955809, auth: 0.04887768032691469}  \n",
       " 27-2227814   | Worthy    | Nettles   | {hub: 0.008618957712348075, auth: 0.04781512205893828}  \n",
       " 86-7588000   | Ricca     | Miskimmon | {hub: 0.008427425318740338, auth: 0.046752563790961876} \n",
       " 41-5548000   | Winonah   | Skynner   | {hub: 0.008427425318740338, auth: 0.046752563790961876} \n",
       " 79-9843712   | Olenolin  | Klehyn    | {hub: 0.008427425318740338, auth: 0.046752563790961876} \n",
       " 36-7678091   | Simmonds  | Greensall | {hub: 0.008235892925132604, auth: 0.045690005522985466} \n",
       " 34-6222792   | Hollyanne | Orcott    | {hub: 0.008235892925132604, auth: 0.045690005522985466} \n",
       " 73-9322216   | Hedy      | Vinson    | {hub: 0.008235892925132604, auth: 0.045690005522985466} "
      ]
     },
     "metadata": {},
     "output_type": "display_data"
    }
   ],
   "source": [
    "cq=\"\"\" \n",
    "CALL gds.alpha.hits.stream('\"\"\"+NOME_GRAPH_OFFICERS+ \"\"\"',  {hitsIterations: 1})\n",
    "YIELD nodeId, values \n",
    "WITH gds.util.asNode(nodeId) AS n, values \n",
    "RETURN n.badge_no as badge_number, n.name as nome, n.surname as cognome, values\n",
    "ORDER BY values DESC\n",
    "LIMIT 10 ;\n",
    "\"\"\"\n",
    "print_n_results(cq)"
   ]
  },
  {
   "cell_type": "code",
   "execution_count": 8,
   "metadata": {},
   "outputs": [
    {
     "data": {
      "text/html": [
       "<table><tr><th>badge_number</th><th>nome</th><th>cognome</th><th>score</th></tr><tr><td style=\"text-align:left\">48-0216838</td><td style=\"text-align:left\">Madelon</td><td style=\"text-align:left\">DeSousa</td><td style=\"text-align:right\">1225.0</td></tr><tr><td style=\"text-align:left\">04-5664884</td><td style=\"text-align:left\">Cloe</td><td style=\"text-align:left\">Ings</td><td style=\"text-align:right\">1081.0</td></tr><tr><td style=\"text-align:left\">58-9758255</td><td style=\"text-align:left\">Kania</td><td style=\"text-align:left\">Notti</td><td style=\"text-align:right\">1035.0</td></tr><tr><td style=\"text-align:left\">27-2227814</td><td style=\"text-align:left\">Worthy</td><td style=\"text-align:left\">Nettles</td><td style=\"text-align:right\">990.0</td></tr><tr><td style=\"text-align:left\">41-5548000</td><td style=\"text-align:left\">Winonah</td><td style=\"text-align:left\">Skynner</td><td style=\"text-align:right\">946.0</td></tr><tr><td style=\"text-align:left\">86-7588000</td><td style=\"text-align:left\">Ricca</td><td style=\"text-align:left\">Miskimmon</td><td style=\"text-align:right\">946.0</td></tr><tr><td style=\"text-align:left\">79-9843712</td><td style=\"text-align:left\">Olenolin</td><td style=\"text-align:left\">Klehyn</td><td style=\"text-align:right\">946.0</td></tr><tr><td style=\"text-align:left\">36-7678091</td><td style=\"text-align:left\">Simmonds</td><td style=\"text-align:left\">Greensall</td><td style=\"text-align:right\">903.0</td></tr><tr><td style=\"text-align:left\">34-6222792</td><td style=\"text-align:left\">Hollyanne</td><td style=\"text-align:left\">Orcott</td><td style=\"text-align:right\">903.0</td></tr><tr><td style=\"text-align:left\">73-9322216</td><td style=\"text-align:left\">Hedy</td><td style=\"text-align:left\">Vinson</td><td style=\"text-align:right\">903.0</td></tr></table>"
      ],
      "text/plain": [
       " badge_number | nome      | cognome   |  score \n",
       "--------------|-----------|-----------|--------\n",
       " 48-0216838   | Madelon   | DeSousa   | 1225.0 \n",
       " 04-5664884   | Cloe      | Ings      | 1081.0 \n",
       " 58-9758255   | Kania     | Notti     | 1035.0 \n",
       " 27-2227814   | Worthy    | Nettles   |  990.0 \n",
       " 41-5548000   | Winonah   | Skynner   |  946.0 \n",
       " 86-7588000   | Ricca     | Miskimmon |  946.0 \n",
       " 79-9843712   | Olenolin  | Klehyn    |  946.0 \n",
       " 36-7678091   | Simmonds  | Greensall |  903.0 \n",
       " 34-6222792   | Hollyanne | Orcott    |  903.0 \n",
       " 73-9322216   | Hedy      | Vinson    |  903.0 "
      ]
     },
     "metadata": {},
     "output_type": "display_data"
    }
   ],
   "source": [
    "cq=\"\"\" \n",
    "CALL gds.betweenness.stream('\"\"\"+NOME_GRAPH_OFFICERS+ \"\"\"')\n",
    "YIELD nodeId, score \n",
    "WITH gds.util.asNode(nodeId) AS n, score \n",
    "RETURN n.badge_no as badge_number, n.name as nome, n.surname as cognome, score\n",
    "ORDER BY score DESC\n",
    "LIMIT 10 ;\n",
    "\"\"\"\n",
    "print_n_results(cq)\n"
   ]
  },
  {
   "attachments": {},
   "cell_type": "markdown",
   "metadata": {},
   "source": [
    "## 2. Trovare i gruppi di criminali"
   ]
  },
  {
   "cell_type": "code",
   "execution_count": 23,
   "metadata": {},
   "outputs": [
    {
     "name": "stdout",
     "output_type": "stream",
     "text": [
      "Proiezione crata correttamente!\n"
     ]
    }
   ],
   "source": [
    "## Creo il project\n",
    "NOME_GRAPH_CRIMINALS = \"criminals\"\n",
    "includi_conoscenti = False\n",
    "if graph.run(\"call gds.graph.exists('\"+NOME_GRAPH_CRIMINALS+\"')\").data()[0][\"exists\"]:\n",
    "  graph.run('call gds.graph.drop(\"'+NOME_GRAPH_CRIMINALS+'\")')\n",
    "\n",
    "cq = \"\"\" \n",
    "  CALL gds.graph.project.cypher('\"\"\" + NOME_GRAPH_CRIMINALS+ \"\"\"',\n",
    "  ' MATCH (p:Person) \n",
    "    WHERE \n",
    "        EXISTS ( (p)-[:PARTY_TO]->(:Crime) )                    // Persone che hanno preso parte a un crimine\n",
    "        \"\"\" +  ( \"\" if includi_conoscenti else \"//\") + \"\"\" OR EXISTS ( (p)-[]-(:Person)-[:PARTY_TO]->(:Crime) )  // Conoscenti dei criminali\n",
    "    RETURN id(p) as id',\n",
    "  \n",
    "  'MATCH (criminal)-[]-(conoscente:Person)\n",
    "    RETURN DISTINCT id(conoscente) as target,\n",
    "    CASE\n",
    "        WHEN EXISTS ( (conoscente)-[:KNOWS_LW]-(criminal) ) THEN 10\n",
    "        WHEN EXISTS ( (conoscente)-[:FAMILY_REL]-(criminal) ) THEN 8\n",
    "        // WHEN EXISTS ( (conoscente)-[:KNOWS]-(criminal) ) THEN 5\n",
    "        WHEN EXISTS ( (conoscente)-[:KNOWS_PHONE]-(criminal) ) THEN 4\n",
    "        WHEN EXISTS ( (conoscente)-[:KNOWS_SN]-(criminal) ) THEN 3\n",
    "    END AS peso, id(criminal) as source',\n",
    "  {validateRelationships:false}\n",
    "); \n",
    "\"\"\"\n",
    "graph.run(cq)\n",
    "print(\"Proiezione crata correttamente!\")"
   ]
  },
  {
   "attachments": {},
   "cell_type": "markdown",
   "metadata": {},
   "source": [
    "### Memory estimation"
   ]
  },
  {
   "cell_type": "code",
   "execution_count": 10,
   "metadata": {},
   "outputs": [
    {
     "data": {
      "text/html": [
       "<table><tr><th>algoritmo</th><th>nodeCount</th><th>relationshipCount</th><th>bytesMin</th><th>bytesMax</th><th>requiredMemory</th></tr><tr><td style=\"text-align:left\">labelPropagation</td><td style=\"text-align:right\">29</td><td style=\"text-align:right\">30</td><td style=\"text-align:right\">2288</td><td style=\"text-align:right\">5872</td><td style=\"text-align:left\">[2288 Bytes ... 5872 Bytes]</td></tr><tr><td style=\"text-align:left\">louvain</td><td style=\"text-align:right\">29</td><td style=\"text-align:right\">30</td><td style=\"text-align:right\">7153</td><td style=\"text-align:right\">566272</td><td style=\"text-align:left\">[7153 Bytes ... 553 KiB]</td></tr></table>"
      ],
      "text/plain": [
       " algoritmo        | nodeCount | relationshipCount | bytesMin | bytesMax | requiredMemory              \n",
       "------------------|-----------|-------------------|----------|----------|-----------------------------\n",
       " labelPropagation |        29 |                30 |     2288 |     5872 | [2288 Bytes ... 5872 Bytes] \n",
       " louvain          |        29 |                30 |     7153 |   566272 | [7153 Bytes ... 553 KiB]    "
      ]
     },
     "execution_count": 10,
     "metadata": {},
     "output_type": "execute_result"
    }
   ],
   "source": [
    "graph.run(\"\"\" \n",
    "CALL gds.labelPropagation.write.estimate('\"\"\" + NOME_GRAPH_CRIMINALS+ \"\"\"', { writeProperty: 'community' })\n",
    "YIELD nodeCount, relationshipCount, bytesMin, bytesMax, requiredMemory\n",
    "RETURN \"labelPropagation\" as algoritmo, nodeCount, relationshipCount, bytesMin, bytesMax, requiredMemory\n",
    "\n",
    "UNION ALL\n",
    "\n",
    "CALL gds.louvain.write.estimate('\"\"\" + NOME_GRAPH_CRIMINALS+ \"\"\"', { writeProperty: 'community' })\n",
    "YIELD nodeCount, relationshipCount, bytesMin, bytesMax, requiredMemory\n",
    "RETURN \"louvain\" as algoritmo, nodeCount, relationshipCount, bytesMin, bytesMax, requiredMemory\n",
    "\n",
    "\"\"\" )\n"
   ]
  },
  {
   "attachments": {},
   "cell_type": "markdown",
   "metadata": {},
   "source": [
    "### Algoritmo di Louvain"
   ]
  },
  {
   "cell_type": "code",
   "execution_count": 26,
   "metadata": {},
   "outputs": [],
   "source": [
    "\n",
    "def print_in_columns(my_list):\n",
    "    columns = 2  #if len(my_list)>10 else 3\n",
    "    len_max = str(max([len(i) for i in my_list]) + 4)\n",
    "    for i in range(0, len(my_list), columns):\n",
    "        print(\"  \", end=\"\")\n",
    "        [eval('print(f\"{i:'+len_max+'}\", end=\"\")') for i in my_list[i:i+columns]]\n",
    "        print(\"\")\n",
    "\n",
    "def print_id_gruppo(query_results):\n",
    "  for (communityId, gruppo) in query_results:\n",
    "      print(\"---------- Gruppo \"+str(communityId)+\" ----------\")\n",
    "      # print(gruppo)\n",
    "      print_in_columns(gruppo)\n",
    "      print(\"\")\n"
   ]
  },
  {
   "cell_type": "code",
   "execution_count": 28,
   "metadata": {},
   "outputs": [
    {
     "name": "stdout",
     "output_type": "stream",
     "text": [
      "---------- Gruppo 28 ----------\n",
      "  Diana Murray (900-41-3309)          Jessica Kelly (311-75-6483)         \n",
      "  Kathleen Peters (250-75-5238)       Phillip Williamson (337-28-4424)    \n",
      "  Raymond Walker (879-22-8665)        \n",
      "\n",
      "---------- Gruppo 17 ----------\n",
      "  Alan Ward (881-20-2396)        Brian Morales (335-71-7747)    \n",
      "  Jack Powell (249-54-6589)      \n",
      "\n",
      "---------- Gruppo 24 ----------\n",
      "  Billy Moore (846-48-9238)         Lillian Martinez (397-28-4474)    \n",
      "\n",
      "---------- Gruppo 25 ----------\n",
      "  Andrea Montgomery (351-83-4608)    Donald Robinson (873-28-7561)      \n",
      "\n"
     ]
    }
   ],
   "source": [
    "cq = \"\"\" \n",
    "CALL gds.louvain.stream('\"\"\" + NOME_GRAPH_CRIMINALS + \"\"\"', {relationshipWeightProperty: 'peso' })\n",
    "  YIELD nodeId, communityId\n",
    "WITH gds.util.asNode(nodeId) AS node, communityId\n",
    "WITH communityId, apoc.coll.sort(collect(node.name + \" \" + node.surname + \" (\" + node.nhs_no+\")\")) AS gruppo\n",
    "WHERE size(gruppo)>1  \n",
    "RETURN *\n",
    "\"\"\"\n",
    "print_id_gruppo(graph.run(cq))"
   ]
  },
  {
   "attachments": {},
   "cell_type": "markdown",
   "metadata": {},
   "source": [
    "### Modularity Optimization"
   ]
  },
  {
   "cell_type": "code",
   "execution_count": 13,
   "metadata": {},
   "outputs": [
    {
     "name": "stdout",
     "output_type": "stream",
     "text": [
      "---------- Gruppo 14 ----------\n",
      "  Diana Murray (900-41-3309)       Kathleen Peters (250-75-5238)    \n",
      "  Raymond Walker (879-22-8665)     \n",
      "\n",
      "---------- Gruppo 17 ----------\n",
      "  Alan Ward (881-20-2396)        Brian Morales (335-71-7747)    \n",
      "  Jack Powell (249-54-6589)      \n",
      "\n",
      "---------- Gruppo 24 ----------\n",
      "  Billy Moore (846-48-9238)         Lillian Martinez (397-28-4474)    \n",
      "\n",
      "---------- Gruppo 25 ----------\n",
      "  Andrea Montgomery (351-83-4608)    Donald Robinson (873-28-7561)      \n",
      "\n",
      "---------- Gruppo 28 ----------\n",
      "  Jessica Kelly (311-75-6483)         Phillip Williamson (337-28-4424)    \n",
      "\n"
     ]
    }
   ],
   "source": [
    "cq = \"\"\" \n",
    "CALL gds.beta.modularityOptimization.stream('\"\"\" + NOME_GRAPH_CRIMINALS + \"\"\"', {relationshipWeightProperty: 'peso' })\n",
    "  YIELD nodeId, communityId\n",
    "WITH gds.util.asNode(nodeId) AS node, communityId\n",
    "WITH communityId, apoc.coll.sort(collect(node.name + \" \" + node.surname + \" (\" + node.nhs_no+\")\")) AS gruppo\n",
    "WHERE size(gruppo)>1  \n",
    "RETURN *\n",
    "\"\"\"\n",
    "print_id_gruppo(graph.run(cq))"
   ]
  },
  {
   "attachments": {},
   "cell_type": "markdown",
   "metadata": {},
   "source": [
    "### Weakly Connected Components"
   ]
  },
  {
   "cell_type": "code",
   "execution_count": 20,
   "metadata": {},
   "outputs": [
    {
     "name": "stdout",
     "output_type": "stream",
     "text": [
      "---------- Gruppo 13 ----------\n",
      "  Alan Ward (881-20-2396)             Brian Morales (335-71-7747)         \n",
      "  Diana Murray (900-41-3309)          Jack Powell (249-54-6589)           \n",
      "  Jessica Kelly (311-75-6483)         Kathleen Peters (250-75-5238)       \n",
      "  Phillip Williamson (337-28-4424)    Raymond Walker (879-22-8665)        \n",
      "\n",
      "---------- Gruppo 19 ----------\n",
      "  Billy Moore (846-48-9238)         Lillian Martinez (397-28-4474)    \n",
      "\n",
      "---------- Gruppo 20 ----------\n",
      "  Andrea Montgomery (351-83-4608)    Donald Robinson (873-28-7561)      \n",
      "\n"
     ]
    }
   ],
   "source": [
    "cq = \"\"\" \n",
    "CALL gds.wcc.stream('\"\"\" + NOME_GRAPH_CRIMINALS + \"\"\"', {relationshipWeightProperty: 'peso' })\n",
    "  YIELD nodeId, componentId\n",
    "WITH gds.util.asNode(nodeId) AS node, componentId\n",
    "WITH componentId, apoc.coll.sort(collect(node.name + \" \" + node.surname + \" (\" + node.nhs_no+\")\")) AS gruppo\n",
    "WHERE size(gruppo)>1  \n",
    "RETURN *\n",
    "\"\"\"\n",
    "print_id_gruppo(graph.run(cq))"
   ]
  },
  {
   "attachments": {},
   "cell_type": "markdown",
   "metadata": {},
   "source": [
    "### Strongly Connected Components \n"
   ]
  },
  {
   "cell_type": "code",
   "execution_count": 24,
   "metadata": {},
   "outputs": [
    {
     "name": "stdout",
     "output_type": "stream",
     "text": [
      "---------- Gruppo 13 ----------\n",
      "  Alan Ward (881-20-2396)             Brian Morales (335-71-7747)         \n",
      "  Diana Murray (900-41-3309)          Jack Powell (249-54-6589)           \n",
      "  Jessica Kelly (311-75-6483)         Kathleen Peters (250-75-5238)       \n",
      "  Phillip Williamson (337-28-4424)    Raymond Walker (879-22-8665)        \n",
      "\n",
      "---------- Gruppo 19 ----------\n",
      "  Billy Moore (846-48-9238)         Lillian Martinez (397-28-4474)    \n",
      "\n",
      "---------- Gruppo 20 ----------\n",
      "  Andrea Montgomery (351-83-4608)    Donald Robinson (873-28-7561)      \n",
      "\n"
     ]
    }
   ],
   "source": [
    "cq = \"\"\" \n",
    "CALL gds.alpha.scc.stream('\"\"\" + NOME_GRAPH_CRIMINALS + \"\"\"')\n",
    "  YIELD nodeId, componentId\n",
    "WITH gds.util.asNode(nodeId) AS node, componentId\n",
    "WITH componentId, apoc.coll.sort(collect(node.name + \" \" + node.surname + \" (\" + node.nhs_no+\")\")) AS gruppo\n",
    "WHERE size(gruppo)>1  \n",
    "RETURN *\n",
    "\"\"\"\n",
    "print_id_gruppo(graph.run(cq))"
   ]
  },
  {
   "attachments": {},
   "cell_type": "markdown",
   "metadata": {},
   "source": [
    "### Conclusioni\n",
    "..."
   ]
  },
  {
   "attachments": {},
   "cell_type": "markdown",
   "metadata": {},
   "source": [
    "## 3. Shortest path tra persone con precedenti di spaccio o possesso di armi\n",
    "Fare lo shortest path per cercare possibili connessioni e raggruppare in base alla posizione geografica"
   ]
  },
  {
   "cell_type": "code",
   "execution_count": 15,
   "metadata": {},
   "outputs": [],
   "source": [
    "NOME_GRAPH_SHORTEST_PATH = \"criminals2\"\n",
    "if graph.run(\"call gds.graph.exists('\"+NOME_GRAPH_SHORTEST_PATH+\"')\").data()[0][\"exists\"]:\n",
    "  graph.run('call gds.graph.drop(\"'+NOME_GRAPH_SHORTEST_PATH+'\")')\n",
    "\n",
    "\n",
    "# graph.run(\"\"\" \n",
    "# CALL gds.graph.project.cypher(\n",
    "#     '\"\"\" +NOME_GRAPH_SHORTEST_PATH+\"\"\"',\n",
    "#     'MATCH (p:Person) RETURN id(p) as id', \n",
    "#     '\n",
    "#       MATCH p=(root)-[]->(friend_or_home)-[*0..2]->(loc:Location)\n",
    "#       WHERE (friend_or_home:Person OR friend_or_home:Location) AND id(root)=2\n",
    "#       RETURN p\n",
    "#     ')\n",
    "# \"\"\")"
   ]
  },
  {
   "cell_type": "code",
   "execution_count": 16,
   "metadata": {},
   "outputs": [
    {
     "data": {
      "text/html": [
       "<table><tr><th>p</th></tr><tr><td style=\"text-align:left\">(Benjamin)-[:KNOWS {}]-&gt;(Frances)-[:CURRENT_ADDRESS {}]-&gt;(_753)</td></tr><tr><td style=\"text-align:left\">(Benjamin)-[:KNOWS_PHONE {}]-&gt;(Frances)-[:CURRENT_ADDRESS {}]-&gt;(_753)</td></tr><tr><td style=\"text-align:left\">(Benjamin)-[:KNOWS_SN {}]-&gt;(Brandon)-[:CURRENT_ADDRESS {}]-&gt;(_854)</td></tr></table>"
      ],
      "text/plain": [
       " p                                                                     \n",
       "-----------------------------------------------------------------------\n",
       " (Benjamin)-[:KNOWS {}]->(Frances)-[:CURRENT_ADDRESS {}]->(_753)       \n",
       " (Benjamin)-[:KNOWS_PHONE {}]->(Frances)-[:CURRENT_ADDRESS {}]->(_753) \n",
       " (Benjamin)-[:KNOWS_SN {}]->(Brandon)-[:CURRENT_ADDRESS {}]->(_854)    "
      ]
     },
     "execution_count": 16,
     "metadata": {},
     "output_type": "execute_result"
    }
   ],
   "source": [
    "graph.run(\"\"\" \n",
    "MATCH p=(root)-[]->(friend_or_home)-[*0..2]->(loc:Location)\n",
    "      WHERE (friend_or_home:Person OR friend_or_home:Location) AND id(root)=2\n",
    "      RETURN p\n",
    "\n",
    "\"\"\")"
   ]
  },
  {
   "cell_type": "code",
   "execution_count": 17,
   "metadata": {},
   "outputs": [
    {
     "data": {
      "text/html": [
       "<table><tr><th>c1</th><th>p</th><th>loc</th><th>c2</th></tr><tr><td style=\"text-align:left\">(_1332:Crime {date: &#039;31/08/2017&#039;, id: &#039;04b0d2f1b563a455d55b2f2c24ef86564f1146630fc7d392e657ecf5f47303da&#039;, last_outcome: &#039;Investigation complete; no suspect identified&#039;, type: &#039;Robbery&#039;})</td><td style=\"text-align:left\">(_214:Person {name: &#039;Rebecca&#039;, nhs_no: &#039;785-79-1645&#039;, surname: &#039;Long&#039;})</td><td style=\"text-align:left\">(_2840:Location {address: &#039;173 Park Hill Street&#039;, latitude: 53.582779, longitude: -2.443191, postcode: &#039;BL1 4AR&#039;})</td><td style=\"text-align:left\">(_32724:Crime {date: &#039;11/08/2017&#039;, id: &#039;0739499f54f4870d877750641425068e1faadf1ca3326390cd6090f539cb5f7e&#039;, last_outcome: &#039;Unable to prosecute suspect&#039;, type: &#039;Violence and sexual offences&#039;})</td></tr><tr><td style=\"text-align:left\">(_1332:Crime {date: &#039;31/08/2017&#039;, id: &#039;04b0d2f1b563a455d55b2f2c24ef86564f1146630fc7d392e657ecf5f47303da&#039;, last_outcome: &#039;Investigation complete; no suspect identified&#039;, type: &#039;Robbery&#039;})</td><td style=\"text-align:left\">(_214:Person {name: &#039;Rebecca&#039;, nhs_no: &#039;785-79-1645&#039;, surname: &#039;Long&#039;})</td><td style=\"text-align:left\">(_2840:Location {address: &#039;173 Park Hill Street&#039;, latitude: 53.582779, longitude: -2.443191, postcode: &#039;BL1 4AR&#039;})</td><td style=\"text-align:left\">(_32705:Crime {date: &#039;26/08/2017&#039;, id: &#039;641be159fa3babeb0bf1e29d66ffabe6c394e6035f55aaee004f4b827c57d316&#039;, last_outcome: &#039;Investigation complete; no suspect identified&#039;, type: &#039;Criminal damage and arson&#039;})</td></tr><tr><td style=\"text-align:left\">(_1329:Crime {date: &#039;19/08/2017&#039;, id: &#039;34f309ebafbd1c46b5c4832f63321a10330835a5ae323952419439b69633bb2c&#039;, last_outcome: &#039;Unable to prosecute suspect&#039;, type: &#039;Public order&#039;})</td><td style=\"text-align:left\">(_630:Person {name: &#039;Amanda&#039;, nhs_no: &#039;455-19-0708&#039;, surname: &#039;Robertson&#039;})</td><td style=\"text-align:left\">(_2838:Location {address: &#039;139 Back Russell Close&#039;, latitude: 53.582117, longitude: -2.447263, postcode: &#039;BL1 4BA&#039;})</td><td style=\"text-align:left\">(_32702:Crime {date: &#039;9/08/2017&#039;, id: &#039;ce587a21f0961ba1c829efae6ef35dc746fa689f6df0a1c1074d138e8df7a2e6&#039;, last_outcome: &#039;Under investigation&#039;, type: &#039;Burglary&#039;})</td></tr></table>"
      ],
      "text/plain": [
       " c1                                                                                                                                                                                         | p                                                                           | loc                                                                                                                  | c2                                                                                                                                                                                                            \n",
       "--------------------------------------------------------------------------------------------------------------------------------------------------------------------------------------------|-----------------------------------------------------------------------------|----------------------------------------------------------------------------------------------------------------------|---------------------------------------------------------------------------------------------------------------------------------------------------------------------------------------------------------------\n",
       " (_1332:Crime {date: '31/08/2017', id: '04b0d2f1b563a455d55b2f2c24ef86564f1146630fc7d392e657ecf5f47303da', last_outcome: 'Investigation complete; no suspect identified', type: 'Robbery'}) | (_214:Person {name: 'Rebecca', nhs_no: '785-79-1645', surname: 'Long'})     | (_2840:Location {address: '173 Park Hill Street', latitude: 53.582779, longitude: -2.443191, postcode: 'BL1 4AR'})   | (_32724:Crime {date: '11/08/2017', id: '0739499f54f4870d877750641425068e1faadf1ca3326390cd6090f539cb5f7e', last_outcome: 'Unable to prosecute suspect', type: 'Violence and sexual offences'})                \n",
       " (_1332:Crime {date: '31/08/2017', id: '04b0d2f1b563a455d55b2f2c24ef86564f1146630fc7d392e657ecf5f47303da', last_outcome: 'Investigation complete; no suspect identified', type: 'Robbery'}) | (_214:Person {name: 'Rebecca', nhs_no: '785-79-1645', surname: 'Long'})     | (_2840:Location {address: '173 Park Hill Street', latitude: 53.582779, longitude: -2.443191, postcode: 'BL1 4AR'})   | (_32705:Crime {date: '26/08/2017', id: '641be159fa3babeb0bf1e29d66ffabe6c394e6035f55aaee004f4b827c57d316', last_outcome: 'Investigation complete; no suspect identified', type: 'Criminal damage and arson'}) \n",
       " (_1329:Crime {date: '19/08/2017', id: '34f309ebafbd1c46b5c4832f63321a10330835a5ae323952419439b69633bb2c', last_outcome: 'Unable to prosecute suspect', type: 'Public order'})              | (_630:Person {name: 'Amanda', nhs_no: '455-19-0708', surname: 'Robertson'}) | (_2838:Location {address: '139 Back Russell Close', latitude: 53.582117, longitude: -2.447263, postcode: 'BL1 4BA'}) | (_32702:Crime {date: '9/08/2017', id: 'ce587a21f0961ba1c829efae6ef35dc746fa689f6df0a1c1074d138e8df7a2e6', last_outcome: 'Under investigation', type: 'Burglary'})                                             "
      ]
     },
     "execution_count": 17,
     "metadata": {},
     "output_type": "execute_result"
    }
   ],
   "source": [
    "graph.run (\"\"\" \n",
    "//  crimini senza colpevole avvenuti in luoghi in cui altri crimini vennero commessi\n",
    "match (loc:Location)<--(c1:Crime)<--(p:Person), (loc)<--(c2:Crime)\n",
    "where c2<>c1 AND NOT EXISTS ( (c2)<--(:Person))\n",
    " return c1, p, loc, c2\n",
    "\"\"\")"
   ]
  }
 ],
 "metadata": {
  "kernelspec": {
   "display_name": "Python 3",
   "language": "python",
   "name": "python3"
  },
  "language_info": {
   "codemirror_mode": {
    "name": "ipython",
    "version": 3
   },
   "file_extension": ".py",
   "mimetype": "text/x-python",
   "name": "python",
   "nbconvert_exporter": "python",
   "pygments_lexer": "ipython3",
   "version": "3.11.0"
  },
  "orig_nbformat": 4,
  "vscode": {
   "interpreter": {
    "hash": "a29d3b88d3d770f4c6b76b3f467a825cd9493448f3062cde152f1e267121f11d"
   }
  }
 },
 "nbformat": 4,
 "nbformat_minor": 2
}

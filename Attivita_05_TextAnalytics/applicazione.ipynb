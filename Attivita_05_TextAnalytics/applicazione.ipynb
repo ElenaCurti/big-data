{
 "cells": [
  {
   "attachments": {},
   "cell_type": "markdown",
   "metadata": {},
   "source": [
    "<center>Progetto realizzato da Elena Curti (matr. 185431)\n",
    "\n",
    "# Sentiment analysis – Amazon reviews\n",
    "</center>"
   ]
  },
  {
   "attachments": {},
   "cell_type": "markdown",
   "metadata": {},
   "source": [
    "## Introduzione\n",
    "... realizzato con MongoDB ... \n"
   ]
  },
  {
   "cell_type": "code",
   "execution_count": 1,
   "metadata": {},
   "outputs": [],
   "source": [
    "# !pip install happiestfuntokenizing"
   ]
  },
  {
   "cell_type": "code",
   "execution_count": 40,
   "metadata": {},
   "outputs": [],
   "source": [
    "import nltk\n",
    "import random\n",
    "from nltk.classify import NaiveBayesClassifier\n",
    "from nltk.sentiment.util import mark_negation, extract_unigram_feats\n",
    "from nltk.corpus import wordnet as wn\n",
    "from pymongo import MongoClient\n",
    "from happiestfuntokenizing.happiestfuntokenizing import Tokenizer\n",
    "from sklearn.model_selection import ShuffleSplit, cross_val_score\n",
    "from sklearn.model_selection import train_test_split\n",
    "from sklearn.feature_extraction.text import CountVectorizer, TfidfTransformer\n",
    "# from sklearn.naive_bayes import MultinomialNB\n",
    "from sklearn import svm\n",
    "from sklearn.pipeline import Pipeline\n",
    "from nltk.sentiment.sentiment_analyzer import SentimentAnalyzer\n",
    "\n",
    "\n",
    "client = MongoClient('192.168.202.128', 27017)      # TODO mettere localhost\n",
    "db = client.test"
   ]
  },
  {
   "cell_type": "code",
   "execution_count": 3,
   "metadata": {},
   "outputs": [],
   "source": [
    "import os, sys\n",
    "\n",
    "class HiddenPrints:\n",
    "    \"\"\" Classe usata per evitare alcune print \"\"\"\n",
    "    def __enter__(self):\n",
    "        self._original_stdout = sys.stdout\n",
    "        sys.stdout = open(os.devnull, 'w')\n",
    "\n",
    "    def __exit__(self, exc_type, exc_val, exc_tb):\n",
    "        sys.stdout.close()\n",
    "        sys.stdout = self._original_stdout\n"
   ]
  },
  {
   "cell_type": "code",
   "execution_count": 34,
   "metadata": {},
   "outputs": [],
   "source": [
    "def getReviewData(database,  lista_overall, limite=1000, field=\"reviewText\", funzione_tokenize=None):\n",
    "    reviews = []\n",
    "    for overall in lista_overall:\n",
    "        for review in database.reviews.find({\"overall\": overall}).limit(limite):\n",
    "            if funzione_tokenize == None:\n",
    "                reviews.append((review[field],str(overall))) \n",
    "            else:\n",
    "                reviews.append(([i.lower() for i in funzione_tokenize(review[field])],str(overall))) \n",
    "            \n",
    "    random.shuffle(reviews) \n",
    "    return reviews  \n",
    "\n",
    "def perform_cross_validation(classifier, train_set):\n",
    "    data = [i for (i, _) in train_set]\n",
    "    target = [j for (_, j) in train_set]\n",
    "    cv = ShuffleSplit(n_splits=10, test_size=0.2, random_state=0)\n",
    "    scores = train_test_split(classifier, data, target)\n",
    "    return sum(scores)/len(scores)\n",
    "   \n",
    "def get_classifier_and_sentiment_analyzer(reviews, unigramFeats=[]):\n",
    "    sentimAnalyzer = SentimentAnalyzer()\n",
    "    allWordsNeg = sentimAnalyzer.all_words([mark_negation(doc) for doc in reviews])    \n",
    "    \n",
    "    if unigramFeats == []:\n",
    "        unigramFeats = sentimAnalyzer.unigram_word_feats(allWordsNeg, min_freq=4)   \n",
    "    sentimAnalyzer.add_feat_extractor(extract_unigram_feats, unigrams=unigramFeats)\n",
    "    featureSets = sentimAnalyzer.apply_features(reviews)\n",
    "\n",
    "    # print(len(featureSets))\n",
    "    \n",
    "    dim = 100 #int(len(reviews)/3)-1\n",
    "    accuracy = []\n",
    "    get_random_item_from_featureset = lambda : [featureSets[random.randrange(len(featureSets))] for _ in range(dim)]\n",
    "    \n",
    "    for i in range(50):\n",
    "        trainSet, testSet = get_random_item_from_featureset() , get_random_item_from_featureset() #random.sample(list(featureSets), dim)# featureSets[dim:], featureSets[:dim]\n",
    "        # trainSet, testSet = featureSets[dim:], featureSets[:dim]  \n",
    "        with HiddenPrints():\n",
    "            classifier = sentimAnalyzer.train(NaiveBayesClassifier.train, trainSet)\n",
    "            evalu = sentimAnalyzer.evaluate(testSet)\n",
    "        accuracy.append(evalu[\"Accuracy\"])\n",
    "    \n",
    "    return classifier, round(sum(accuracy)/len(accuracy), 2) #perform_cross_validation(classifier, trainSet) #dict(sorted(sentimAnalyzer.evaluate(testSet).items()))\n",
    "    # else:\n",
    "    #     dev_test = [ (reviews[i][0], featureSets[i][0], featureSets[i][1]) for i in range(dim,len(reviews)-dim)]\n",
    "    #     return classifier, dev_test\n",
    "\n",
    "def print_accuracy(diz):\n",
    "    print(\"Accuracy:\", diz[\"Accuracy\"])\n",
    "\n",
    "    return\n",
    "    for key,value in list_items:\n",
    "        print('{0}: {1}'.format(key, value))"
   ]
  },
  {
   "attachments": {},
   "cell_type": "markdown",
   "metadata": {},
   "source": [
    "## Versione 1 (originale): World tokenizer di nltk con due classi"
   ]
  },
  {
   "cell_type": "code",
   "execution_count": 5,
   "metadata": {},
   "outputs": [
    {
     "name": "stdout",
     "output_type": "stream",
     "text": [
      "0.69\n"
     ]
    }
   ],
   "source": [
    "# TODO rimuovi commenti\n",
    "reviews1 = getReviewData(db, [1.0, 5.0], funzione_tokenize=nltk.word_tokenize)\n",
    "classifier1, accuracy1 = get_classifier_and_sentiment_analyzer(reviews1)\n",
    "print(accuracy1)"
   ]
  },
  {
   "attachments": {},
   "cell_type": "markdown",
   "metadata": {},
   "source": [
    "## Versione 2: Sentiment tokenizer di Christopher Potts con due classi"
   ]
  },
  {
   "cell_type": "code",
   "execution_count": 6,
   "metadata": {},
   "outputs": [
    {
     "name": "stdout",
     "output_type": "stream",
     "text": [
      "0.7\n"
     ]
    }
   ],
   "source": [
    "reviews2 = getReviewData(db, [1.0, 5.0], funzione_tokenize=Tokenizer().tokenize)\n",
    "classifier2, accuracy2 = get_classifier_and_sentiment_analyzer(reviews2)\n",
    "print(accuracy2)"
   ]
  },
  {
   "attachments": {},
   "cell_type": "markdown",
   "metadata": {},
   "source": [
    "## Versione 3: Classificazione a cinque classi"
   ]
  },
  {
   "cell_type": "code",
   "execution_count": 7,
   "metadata": {},
   "outputs": [
    {
     "name": "stdout",
     "output_type": "stream",
     "text": [
      "0.39\n"
     ]
    }
   ],
   "source": [
    "# TODO rimuovi limite di 100 \n",
    "reviews3 = getReviewData(db, [float(i) for i in range(1,6)],limite=100, funzione_tokenize=nltk.word_tokenize)\n",
    "classifier3, accuracy3 = get_classifier_and_sentiment_analyzer(reviews3)\n",
    "print(accuracy3)"
   ]
  },
  {
   "attachments": {},
   "cell_type": "markdown",
   "metadata": {},
   "source": [
    "## Confronto tra le versioni\n",
    "L'accuracy migliore è stata ottenuta con il sentiment tokenizer di Christopher Potts (<MARK>METTERE VALORE MEDIO</mark>). <br>\n",
    "L'accuracy peggiore, invece, è stata ottenuta con la versione a cinque classi  (<MARK>METTERE VALORE MEDIO</mark>). <br>\n",
    "L'accuracy della versione originale a due classi con nltk è a metà tra le due precedenti  (<MARK>METTERE VALORE MEDIO</mark>). "
   ]
  },
  {
   "cell_type": "code",
   "execution_count": 13,
   "metadata": {},
   "outputs": [
    {
     "data": {
      "image/png": "[encoded data removed]",
      "text/plain": [
       "<Figure size 640x480 with 1 Axes>"
      ]
     },
     "metadata": {},
     "output_type": "display_data"
    }
   ],
   "source": [
    "import matplotlib.pyplot as plt\n",
    "x_plot = [\"Versione 1\", \"Versione 2\", \"Versione 3\"]\n",
    "y_plot = [accuracy1, accuracy2, accuracy3]\n",
    "plt.plot(x_plot, y_plot, label = \"line 2\")\n",
    "plt.title('Accuracy delle versioni')\n",
    "plt.grid()\n"
   ]
  },
  {
   "attachments": {},
   "cell_type": "markdown",
   "metadata": {},
   "source": [
    "## Cambio di feature\n",
    "Per cercare di aumentare la accuracy, proverò ora a cambiare le feature.\n",
    "\n",
    "### Versione 4: Uso del field \"summary\""
   ]
  },
  {
   "cell_type": "code",
   "execution_count": 8,
   "metadata": {},
   "outputs": [
    {
     "name": "stdout",
     "output_type": "stream",
     "text": [
      "0.68\n"
     ]
    }
   ],
   "source": [
    "reviews4 = getReviewData(db, [1.0, 5.0],field=\"summary\", funzione_tokenize=nltk.word_tokenize)\n",
    "classifier4, accuracy4 = get_classifier_and_sentiment_analyzer(reviews4)\n",
    "print(accuracy4)"
   ]
  },
  {
   "attachments": {},
   "cell_type": "markdown",
   "metadata": {},
   "source": [
    "### Versione 5: uso dei soli aggettivi"
   ]
  },
  {
   "cell_type": "code",
   "execution_count": 9,
   "metadata": {},
   "outputs": [
    {
     "name": "stdout",
     "output_type": "stream",
     "text": [
      "0.55\n"
     ]
    }
   ],
   "source": [
    "reviews5 = []\n",
    "for (lista_parole,classe) in reviews1:\n",
    "    solo_aggettivi = []\n",
    "    for par in lista_parole:\n",
    "        tmp = wn.synsets(par)\n",
    "        if len(tmp) > 0 and tmp[0].pos() == \"a\":\n",
    "            solo_aggettivi.append(par)\n",
    "    if solo_aggettivi != []:\n",
    "        reviews5.append((solo_aggettivi,classe)) \n",
    "\n",
    "classifier5, accuracy5 = get_classifier_and_sentiment_analyzer(reviews5)\n",
    "print(accuracy5)"
   ]
  },
  {
   "attachments": {},
   "cell_type": "markdown",
   "metadata": {},
   "source": [
    "### Versione 6: uso della frequency word invece della occurrence\n",
    "<mark> TODO"
   ]
  },
  {
   "attachments": {},
   "cell_type": "markdown",
   "metadata": {},
   "source": [
    "## Cambio di classificatore\n",
    "Nelle versioni viste finora, ho sempre fatto uso del classificatore Naive Bayes di nltk. Proverò ora a modificarlo, per cercare di migliorare l'accuracy."
   ]
  },
  {
   "attachments": {},
   "cell_type": "markdown",
   "metadata": {},
   "source": [
    "### Versione 7: classificatore Support Vector Machines (SVM)\n"
   ]
  },
  {
   "cell_type": "code",
   "execution_count": 43,
   "metadata": {},
   "outputs": [
    {
     "name": "stdout",
     "output_type": "stream",
     "text": [
      "0.53\n"
     ]
    }
   ],
   "source": [
    "# Creo il train e test set\n",
    "reviews7 = getReviewData(db, [1.0, 5.0])\n",
    "train_set, test_set = reviews7[100:], reviews7[:100]\n",
    "train_data, train_target = list(map(list, zip(*train_set)))\n",
    "test_data, test_target = list(map(list, zip(*test_set)))\n",
    "\n",
    "# Classificatore\n",
    "text_clf = Pipeline([('vect', CountVectorizer()), ('tfidf', TfidfTransformer()),('clf', svm.SVC()),])\n",
    "text_clf.fit(train_data, train_target)\n",
    "predicted = text_clf.predict(test_data)\n",
    "\n",
    "# Cross-validation\n",
    "cv = ShuffleSplit(n_splits=10, test_size=0.2, random_state=0)\n",
    "scores = cross_val_score(text_clf, test_data, test_target, cv=cv)\n",
    "accuracy7 = round(sum(scores)/len(scores), 2)\n",
    "print(accuracy7)\n"
   ]
  }
 ],
 "metadata": {
  "kernelspec": {
   "display_name": "Python 3",
   "language": "python",
   "name": "python3"
  },
  "language_info": {
   "codemirror_mode": {
    "name": "ipython",
    "version": 3
   },
   "file_extension": ".py",
   "mimetype": "text/x-python",
   "name": "python",
   "nbconvert_exporter": "python",
   "pygments_lexer": "ipython3",
   "version": "3.11.0"
  },
  "orig_nbformat": 4,
  "vscode": {
   "interpreter": {
    "hash": "a29d3b88d3d770f4c6b76b3f467a825cd9493448f3062cde152f1e267121f11d"
   }
  }
 },
 "nbformat": 4,
 "nbformat_minor": 2
}

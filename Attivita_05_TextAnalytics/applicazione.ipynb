{
 "cells": [
  {
   "attachments": {},
   "cell_type": "markdown",
   "metadata": {},
   "source": [
    "<center>Progetto realizzato da Elena Curti (matr. 185431)\n",
    "\n",
    "# Sentiment analysis – Amazon reviews\n",
    "</center>"
   ]
  },
  {
   "attachments": {},
   "cell_type": "markdown",
   "metadata": {},
   "source": [
    "## Introduzione\n",
    "... realizzato con MongoDB ... \n"
   ]
  },
  {
   "cell_type": "code",
   "execution_count": 1,
   "metadata": {},
   "outputs": [],
   "source": [
    "# !pip install happiestfuntokenizing"
   ]
  },
  {
   "cell_type": "code",
   "execution_count": 2,
   "metadata": {},
   "outputs": [],
   "source": [
    "import nltk\n",
    "import random\n",
    "from nltk.classify import NaiveBayesClassifier\n",
    "from nltk.sentiment.util import mark_negation, extract_unigram_feats\n",
    "from nltk.corpus import wordnet as wn\n",
    "from pymongo import MongoClient\n",
    "from happiestfuntokenizing.happiestfuntokenizing import Tokenizer\n",
    "\n",
    "\n",
    "client = MongoClient('192.168.202.128', 27017)      # TODO mettere localhost\n",
    "db = client.test"
   ]
  },
  {
   "cell_type": "code",
   "execution_count": 3,
   "metadata": {},
   "outputs": [],
   "source": [
    "def getReviewData(database, funzione_tokenize, lista_overall, limite=1000, field=\"reviewText\"):\n",
    "    reviews = []\n",
    "    for overall in lista_overall:\n",
    "        for review in database.reviews.find({\"overall\": overall}).limit(limite):\n",
    "            reviews.append((funzione_tokenize(review[field]),str(overall))) \n",
    "    random.shuffle(reviews) \n",
    "    return reviews  \n",
    "\n",
    "def get_classifier_and_sentiment_analyzer(reviews, unigramFeats=[]):\n",
    "    sentimAnalyzer = nltk.sentiment.SentimentAnalyzer()\n",
    "    allWordsNeg = sentimAnalyzer.all_words([mark_negation(doc) for doc in reviews])    \n",
    "    \n",
    "    if unigramFeats == []:\n",
    "        unigramFeats = sentimAnalyzer.unigram_word_feats(allWordsNeg, min_freq=4)   \n",
    "    sentimAnalyzer.add_feat_extractor(extract_unigram_feats, unigrams=unigramFeats)\n",
    "    featureSets = sentimAnalyzer.apply_features(reviews)\n",
    "    dim = int(len(reviews)/3)-1\n",
    "    trainSet, testSet = featureSets[len(reviews)-dim:], featureSets[:dim]\n",
    "\n",
    "    classifier = sentimAnalyzer.train(NaiveBayesClassifier.train, trainSet)\n",
    "    return classifier, dict(sorted(sentimAnalyzer.evaluate(testSet).items()))\n",
    "    # else:\n",
    "    #     dev_test = [ (reviews[i][0], featureSets[i][0], featureSets[i][1]) for i in range(dim,len(reviews)-dim)]\n",
    "    #     return classifier, dev_test\n",
    "\n",
    "def print_accuracy(diz):\n",
    "    print(\"Accuracy:\", diz[\"Accuracy\"])\n",
    "\n",
    "    return\n",
    "    for key,value in list_items:\n",
    "        print('{0}: {1}'.format(key, value))"
   ]
  },
  {
   "attachments": {},
   "cell_type": "markdown",
   "metadata": {},
   "source": [
    "## Versione 1: World tokenizer di nltk con due classi"
   ]
  },
  {
   "cell_type": "code",
   "execution_count": 4,
   "metadata": {},
   "outputs": [
    {
     "name": "stdout",
     "output_type": "stream",
     "text": [
      "Training classifier\n",
      "Evaluating NaiveBayesClassifier results...\n",
      "Accuracy: 0.8616541353383459\n"
     ]
    }
   ],
   "source": [
    "# TODO rimuovi commenti\n",
    "reviews1 = getReviewData(db, nltk.word_tokenize, [1.0, 5.0])\n",
    "classifier1, sent_analyzer1 = get_classifier_and_sentiment_analyzer(reviews1)\n",
    "print_accuracy(sent_analyzer1)"
   ]
  },
  {
   "attachments": {},
   "cell_type": "markdown",
   "metadata": {},
   "source": [
    "## Versione 2: Sentiment tokenizer di Christopher Potts con due classi"
   ]
  },
  {
   "cell_type": "code",
   "execution_count": 5,
   "metadata": {},
   "outputs": [
    {
     "name": "stdout",
     "output_type": "stream",
     "text": [
      "Training classifier\n",
      "Evaluating NaiveBayesClassifier results...\n",
      "Accuracy: 0.8030075187969925\n"
     ]
    }
   ],
   "source": [
    "reviews2 = getReviewData(db, Tokenizer().tokenize, [1.0, 5.0])\n",
    "classifier2, sent_analyzer2 = get_classifier_and_sentiment_analyzer(reviews2)\n",
    "print_accuracy(sent_analyzer2)"
   ]
  },
  {
   "attachments": {},
   "cell_type": "markdown",
   "metadata": {},
   "source": [
    "## Versione 3: Classificazione a cinque classi"
   ]
  },
  {
   "cell_type": "code",
   "execution_count": 6,
   "metadata": {},
   "outputs": [
    {
     "name": "stdout",
     "output_type": "stream",
     "text": [
      "Training classifier\n",
      "Evaluating NaiveBayesClassifier results...\n",
      "Accuracy: 0.30303030303030304\n"
     ]
    }
   ],
   "source": [
    "# TODO rimuovi commenti\n",
    "reviews3 = getReviewData(db, nltk.word_tokenize, [float(i) for i in range(1,6)],limite=100)\n",
    "classifier3, sent_analyzer3 = get_classifier_and_sentiment_analyzer(reviews3)\n",
    "print_accuracy(sent_analyzer3)"
   ]
  },
  {
   "attachments": {},
   "cell_type": "markdown",
   "metadata": {},
   "source": [
    "## Versione 4: Uso del field \"summary\""
   ]
  },
  {
   "cell_type": "code",
   "execution_count": 7,
   "metadata": {},
   "outputs": [
    {
     "name": "stdout",
     "output_type": "stream",
     "text": [
      "Training classifier\n",
      "Evaluating NaiveBayesClassifier results...\n",
      "Accuracy: 0.7052631578947368\n"
     ]
    }
   ],
   "source": [
    "reviews4 = getReviewData(db, nltk.word_tokenize, [1.0, 5.0],field=\"summary\")\n",
    "classifier4, sent_analyzer4 = get_classifier_and_sentiment_analyzer(reviews4)\n",
    "print_accuracy(sent_analyzer4)"
   ]
  },
  {
   "attachments": {},
   "cell_type": "markdown",
   "metadata": {},
   "source": [
    "## Versione 5: uso dei soli aggettivi"
   ]
  },
  {
   "cell_type": "code",
   "execution_count": 8,
   "metadata": {},
   "outputs": [
    {
     "name": "stdout",
     "output_type": "stream",
     "text": [
      "Training classifier\n",
      "Evaluating NaiveBayesClassifier results...\n",
      "Accuracy: 0.5725190839694656\n"
     ]
    }
   ],
   "source": [
    "reviews5 = []\n",
    "for (lista_parole,classe) in reviews1:\n",
    "    solo_aggettivi = []\n",
    "    for par in lista_parole:\n",
    "        tmp = wn.synsets(par)\n",
    "        if len(tmp) > 0 and tmp[0].pos() == \"a\":\n",
    "            solo_aggettivi.append(par)\n",
    "    if solo_aggettivi != []:\n",
    "        reviews5.append((solo_aggettivi,classe)) \n",
    "\n",
    "classifier5, sent_analyzer5 = get_classifier_and_sentiment_analyzer(reviews5)\n",
    "print_accuracy(sent_analyzer5)"
   ]
  },
  {
   "attachments": {},
   "cell_type": "markdown",
   "metadata": {},
   "source": [
    "## Confronto tra le versioni\n",
    "L'accuracy migliore è stata ottenuta con il sentiment tokenizer di Christopher Potts (<MARK>METTERE VALORE MEDIO</mark>). <br>\n",
    "L'accuracy peggiore, invece, è stata ottenuta con la versione a cinque classi  (<MARK>METTERE VALORE MEDIO</mark>). <br>\n",
    "L'accuracy della versione originale a due classi con nltk è a metà tra le due precedenti  (<MARK>METTERE VALORE MEDIO</mark>). "
   ]
  },
  {
   "cell_type": "code",
   "execution_count": 9,
   "metadata": {},
   "outputs": [
    {
     "name": "stdout",
     "output_type": "stream",
     "text": [
      "Versione 1:\n",
      "Most Informative Features\n",
      "         contains(waste) = True              1.0 : 5.0    =     14.3 : 1.0\n",
      "            contains(64) = True              1.0 : 5.0    =     12.4 : 1.0\n",
      "            contains(Do) = True              1.0 : 5.0    =     12.1 : 1.0\n",
      "       contains(perfect) = True              5.0 : 1.0    =     11.4 : 1.0\n",
      "       contains(awesome) = True              5.0 : 1.0    =     10.7 : 1.0\n",
      "\n",
      "Versione 2:\n",
      "Most Informative Features\n",
      "         contains(money) = True              1.0 : 5.0    =     37.7 : 1.0\n",
      "         contains(waste) = True              1.0 : 5.0    =     25.5 : 1.0\n",
      "       contains(awesome) = True              5.0 : 1.0    =      9.1 : 1.0\n",
      "         contains(worst) = True              1.0 : 5.0    =      8.5 : 1.0\n",
      "          contains(fits) = True              5.0 : 1.0    =      8.3 : 1.0\n",
      "\n",
      "Versione 3:\n",
      "Most Informative Features\n",
      "          contains(what) = True              3.0 : 4.0    =      7.9 : 1.0\n",
      "         contains(would) = True              2.0 : 5.0    =      6.5 : 1.0\n",
      "           contains(n't) = True              4.0 : 5.0    =      6.2 : 1.0\n",
      "         contains(works) = True              3.0 : 1.0    =      6.1 : 1.0\n",
      "           contains(all) = True              3.0 : 5.0    =      5.9 : 1.0\n",
      "\n",
      "Versione 4:\n",
      "Most Informative Features\n",
      "         contains(Great) = True              5.0 : 1.0    =     24.8 : 1.0\n",
      "           contains(n't) = True              1.0 : 5.0    =     20.5 : 1.0\n",
      "         contains(great) = True              5.0 : 1.0    =     14.2 : 1.0\n",
      "          contains(This) = True              1.0 : 5.0    =     11.8 : 1.0\n",
      "           contains(Not) = True              1.0 : 5.0    =      9.8 : 1.0\n",
      "\n",
      "Versione 5:\n",
      "Most Informative Features\n",
      "          contains(easy) = True              5.0 : 1.0    =      4.4 : 1.0\n",
      "          contains(Easy) = True              5.0 : 1.0    =      4.3 : 1.0\n",
      "        contains(unable) = True              1.0 : 5.0    =      3.7 : 1.0\n",
      "   contains(comfortable) = True              5.0 : 1.0    =      3.5 : 1.0\n",
      "          contains(Most) = True              1.0 : 5.0    =      3.1 : 1.0\n"
     ]
    }
   ],
   "source": [
    "print(\"Versione 1:\")\n",
    "classifier1.show_most_informative_features(5)\n",
    "\n",
    "print(\"\\nVersione 2:\")\n",
    "classifier2.show_most_informative_features(5)\n",
    "\n",
    "print(\"\\nVersione 3:\")\n",
    "classifier3.show_most_informative_features(5)\n",
    "\n",
    "print(\"\\nVersione 4:\")\n",
    "classifier4.show_most_informative_features(5)\n",
    "\n",
    "print(\"\\nVersione 5:\")\n",
    "classifier5.show_most_informative_features(5)"
   ]
  },
  {
   "cell_type": "code",
   "execution_count": 10,
   "metadata": {},
   "outputs": [
    {
     "data": {
      "image/png": "[encoded data removed]",
      "text/plain": [
       "<Figure size 640x480 with 1 Axes>"
      ]
     },
     "metadata": {},
     "output_type": "display_data"
    }
   ],
   "source": [
    "import matplotlib.pyplot as plt\n",
    "x2 = [\"Versione 1\", \"Versione 2\", \"Versione 3\", \"Versione 4\", \"Versione 5\"]\n",
    "y2 = [sent_analyzer1[\"Accuracy\"],sent_analyzer2[\"Accuracy\"],sent_analyzer3[\"Accuracy\"], sent_analyzer4[\"Accuracy\"], sent_analyzer5[\"Accuracy\"]]\n",
    "plt.plot(x2, y2, label = \"line 2\")\n",
    "plt.title('Accuracy delle quattro versioni')\n",
    "plt.grid()\n"
   ]
  }
 ],
 "metadata": {
  "kernelspec": {
   "display_name": "Python 3",
   "language": "python",
   "name": "python3"
  },
  "language_info": {
   "codemirror_mode": {
    "name": "ipython",
    "version": 3
   },
   "file_extension": ".py",
   "mimetype": "text/x-python",
   "name": "python",
   "nbconvert_exporter": "python",
   "pygments_lexer": "ipython3",
   "version": "3.11.0"
  },
  "orig_nbformat": 4,
  "vscode": {
   "interpreter": {
    "hash": "a29d3b88d3d770f4c6b76b3f467a825cd9493448f3062cde152f1e267121f11d"
   }
  }
 },
 "nbformat": 4,
 "nbformat_minor": 2
}

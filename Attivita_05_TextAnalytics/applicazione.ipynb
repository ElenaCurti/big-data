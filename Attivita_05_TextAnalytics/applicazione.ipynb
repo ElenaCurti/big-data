{
 "cells": [
  {
   "attachments": {},
   "cell_type": "markdown",
   "metadata": {},
   "source": [
    "<center>Progetto realizzato da Elena Curti (matr. 185431)\n",
    "\n",
    "# Sentiment analysis – Amazon reviews\n",
    "</center>"
   ]
  },
  {
   "attachments": {},
   "cell_type": "markdown",
   "metadata": {},
   "source": [
    "## Introduzione\n",
    "L'obiettivo del progetto proposto è di creare un classificatore per fare sentiment analysis su un insieme di recensioni di Amazon. Partendo da una prima versione del classificatore, esso verrà gradualmente modificato con l'obiettivo di migliorarne l'accuratezza.  <br>\n",
    "\n",
    "\n",
    "## Requisiti\n",
    "Questo progetto è stato realizzato con Python 3.11. E' necessaria l'installazione di MongoDB e dei seguenti pacchetti python:"
   ]
  },
  {
   "cell_type": "code",
   "execution_count": 1,
   "metadata": {},
   "outputs": [],
   "source": [
    "import time # TODO togliere questa cella e l'ultima\n",
    "inizioo_tempo = time.time()"
   ]
  },
  {
   "cell_type": "code",
   "execution_count": 2,
   "metadata": {},
   "outputs": [],
   "source": [
    "# !pip install happiestfuntokenizing xgboost spacy\n",
    "# !python -m spacy download en_core_web_s"
   ]
  },
  {
   "attachments": {},
   "cell_type": "markdown",
   "metadata": {},
   "source": [
    "## Operazioni iniziali\n",
    "Mi collego al database"
   ]
  },
  {
   "cell_type": "code",
   "execution_count": 3,
   "metadata": {},
   "outputs": [],
   "source": [
    "from pymongo import MongoClient\n",
    "\n",
    "client = MongoClient('192.168.202.128', 27017)      # TODO mettere localhost\n",
    "DATABASE = client.test\n",
    "dizionario_plot = {}"
   ]
  },
  {
   "attachments": {},
   "cell_type": "markdown",
   "metadata": {},
   "source": [
    "Creo una classe usata per nascondere le print di alcune funzioni:"
   ]
  },
  {
   "cell_type": "code",
   "execution_count": 4,
   "metadata": {},
   "outputs": [],
   "source": [
    "import os, sys\n",
    "\n",
    "class HiddenPrints:\n",
    "    def __enter__(self):\n",
    "        self._original_stdout = sys.stdout\n",
    "        sys.stdout = open(os.devnull, 'w')\n",
    "\n",
    "    def __exit__(self, exc_type, exc_val, exc_tb):\n",
    "        sys.stdout.close()\n",
    "        sys.stdout = self._original_stdout"
   ]
  },
  {
   "attachments": {},
   "cell_type": "markdown",
   "metadata": {},
   "source": [
    "Creo due funzioni che verranno usate nel seguito per:\n",
    "- Recuperare le recensioni dal database\n",
    "- Trovare il classificatore e la relativa accuracy media (facendo 50 run)"
   ]
  },
  {
   "cell_type": "code",
   "execution_count": 5,
   "metadata": {},
   "outputs": [],
   "source": [
    "import nltk, random\n",
    "from nltk.sentiment.util import mark_negation, extract_unigram_feats\n",
    "from nltk.sentiment.sentiment_analyzer import SentimentAnalyzer\n",
    "from nltk.classify import NaiveBayesClassifier\n",
    "\n",
    "def getReviewData(lista_overall, limite=1000, field=\"reviewText\", funzione_tokenize=None):\n",
    "    \"\"\" \n",
    "    Questa funzione ritorna una lista di tuple (rec, classe) dove rec è la recensione e classe è la classificazione (es. 1.0 o 5.0).\n",
    "        - lista_overall è la lista delle classi (campo overall delle review)\n",
    "        - limite è il numero di recensioni che si desiderano ottenere\n",
    "        - field è il campo della review che si vuole ottenere\n",
    "        - funzione_tokenize è la funzione usata per tokenizzare il testo della review. Se non dato, la lista ritornata conterra' il contenuto del campo field\n",
    "    \"\"\"\n",
    "    reviews = []\n",
    "    for overall in lista_overall:\n",
    "        # for review in DATABASE.reviews.find({\"overall\": overall}).limit(limite):\n",
    "        for review in DATABASE.reviews.aggregate([\n",
    "            {'$match' :{\"overall\": overall}},  \n",
    "            { '$match': { '$expr': { '$lt': [0.5, {'$rand': {} } ] } } }, \n",
    "            {'$limit' : limite}]):\n",
    "            if funzione_tokenize == None:\n",
    "                reviews.append((review[field],str(overall))) \n",
    "            else:\n",
    "                reviews.append(([str(i).lower() for i in funzione_tokenize(review[field])],str(overall))) \n",
    "            \n",
    "    random.shuffle(reviews) \n",
    "    return reviews \n",
    "\n",
    "# TODO metti 50 run\n",
    "def get_classifier_and_mean_accuracy(lista_overall, limite=1000,  funzione_filtra_reviews=lambda x:x, feat_extractor=None,  num_run=50, min_freq=4, **kwargs):\n",
    "    \"\"\"\n",
    "    Questa funzione ritorna il classifier e la relativa accuracy media.  \n",
    "        - lista_overall è la lista delle classi (campo overall delle review)\n",
    "        - funzione_filtra_reviews è una funzione che viene chiamata per cambiare le reviews da esaminare. \n",
    "          funzione_filtra_reviews prende in ingresso le reviews estratte (lista di tuple (rec, classe)). \n",
    "          funzione_filtra_reviews può poi, ad esempio, selezionare solo alcune parole (es. solo gli aggettivi) dai testi delle recensioni.\n",
    "          Infine, essa deve ritornare le reviews modificate.\n",
    "        - feat_extractor è una funzione che viene usata nell'add_feat_extractor del sentiment analyzer. \n",
    "          Se omessa, viene usata extract_unigram_feats. In questo caso, si può dare in input un certo valore di min_freq da usare nella funzione.\n",
    "          Altrimenti, feat_extractor deve essere una funzione che prende in input i soli documenti\n",
    "        - num_run è il numero di run da eseguire per il calcolo dell'accuracy media\n",
    "        - i restanti parametri opzionali saranno dati in input a getReviewData\n",
    "    \"\"\"\n",
    "\n",
    "    # Run dei test e accuracy\n",
    "    accuracy = []\n",
    "\n",
    "    for i in range(num_run):\n",
    "        reviews = getReviewData(lista_overall, limite=limite, **kwargs)\n",
    "        reviews = funzione_filtra_reviews(reviews)\n",
    "        \n",
    "        # Sentiment analyzer e applicazione delle feature\n",
    "        sentimAnalyzer = SentimentAnalyzer() \n",
    "        if feat_extractor == None:\n",
    "            allWordsNeg = sentimAnalyzer.all_words([mark_negation(doc) for doc in reviews])    \n",
    "            unigramFeats = sentimAnalyzer.unigram_word_feats(allWordsNeg, min_freq=min_freq)   \n",
    "            sentimAnalyzer.add_feat_extractor(extract_unigram_feats, unigrams=unigramFeats)\n",
    "        else:\n",
    "            sentimAnalyzer.add_feat_extractor(feat_extractor)\n",
    "\n",
    "        featureSets = sentimAnalyzer.apply_features(reviews)\n",
    "    \n",
    "        # Per ogni classe, prendo 900 recensioni per il training set e metà per il test\n",
    "        # trainSet = []\n",
    "        # testSet = []\n",
    "        # half_limite = limite//10\n",
    "        # for i in range(0, len(reviews), limite):\n",
    "        #     feature_class = featureSets[i:i+limite]\n",
    "        #     trainSet += feature_class[:half_limite]\n",
    "        #     testSet += feature_class[half_limite:]\n",
    "\n",
    "        trainSet, testSet = featureSets[limite//10:], featureSets[:limite//10]\n",
    "        \n",
    "        # classi_count = {str(c):0 for c in lista_overall}\n",
    "        # for (feat, classe) in trainSet:\n",
    "        #     classi_count[classe] +=1\n",
    "        # print(\"trainset:\", classi_count)\n",
    "\n",
    "        # classi_count = {str(c):0 for c in lista_overall}\n",
    "        # for (feat, classe) in testSet:\n",
    "        #     classi_count[classe] +=1\n",
    "        # print(\"testSet:\", classi_count)\n",
    "\n",
    "\n",
    "        # Classificatore e accuracy\n",
    "        with HiddenPrints(): \n",
    "            classifier = sentimAnalyzer.train(NaiveBayesClassifier.train, trainSet)\n",
    "            evalu = sentimAnalyzer.evaluate(testSet)\n",
    "        accuracy.append(evalu[\"Accuracy\"])\n",
    "    # print(accuracy)\n",
    "    return classifier, round(sum(accuracy)/len(accuracy), 4) \n",
    "    return classifier, round(sum(accuracy)/len(accuracy), 2) "
   ]
  },
  {
   "attachments": {},
   "cell_type": "markdown",
   "metadata": {},
   "source": [
    "## Versione 1 (originale): Word tokenizer di nltk con due classi\n",
    "Questa è la prima versione del classificatore: uso la funzione  ```word_tokenize``` fornita da nltk e due classi per le recensioni positive (5) e negative (1)."
   ]
  },
  {
   "cell_type": "code",
   "execution_count": 6,
   "metadata": {},
   "outputs": [
    {
     "name": "stdout",
     "output_type": "stream",
     "text": [
      "Accuracy: 0.8574\n"
     ]
    }
   ],
   "source": [
    "classifier1, accuracy1 = get_classifier_and_mean_accuracy([1.0, 5.0], funzione_tokenize=nltk.word_tokenize)\n",
    "print(\"Accuracy:\", accuracy1)\n",
    "dizionario_plot[\"1.Originale\"] = accuracy1"
   ]
  },
  {
   "cell_type": "markdown",
   "metadata": {},
   "source": [
    "Abbiamo ottenuto una buona accuracy. Proviamo a vedere quali parole sono state le più significative per il classificatore:"
   ]
  },
  {
   "cell_type": "code",
   "execution_count": 7,
   "metadata": {},
   "outputs": [
    {
     "name": "stdout",
     "output_type": "stream",
     "text": [
      "Most Informative Features\n",
      "          contains(link) = True              5.0 : 1.0    =     19.5 : 1.0\n",
      "         contains(waste) = True              1.0 : 5.0    =     19.3 : 1.0\n",
      "         contains(worse) = True              1.0 : 5.0    =     19.2 : 1.0\n",
      "         contains(worst) = True              1.0 : 5.0    =     14.8 : 1.0\n",
      "          contains(lame) = True              1.0 : 5.0    =     13.8 : 1.0\n",
      "         contains(awful) = True              1.0 : 5.0    =     13.1 : 1.0\n",
      "         contains(loves) = True              5.0 : 1.0    =     12.9 : 1.0\n",
      "         contains(trash) = True              1.0 : 5.0    =     11.8 : 1.0\n",
      "    contains(atmosphere) = True              5.0 : 1.0    =     11.6 : 1.0\n",
      "     contains(depending) = True              5.0 : 1.0    =     11.6 : 1.0\n"
     ]
    }
   ],
   "source": [
    "classifier1.show_most_informative_features(10)"
   ]
  },
  {
   "cell_type": "markdown",
   "metadata": {},
   "source": [
    "Proviamo a cambiare il tokenizzatore per vedere come cambia l'accuracy."
   ]
  },
  {
   "attachments": {},
   "cell_type": "markdown",
   "metadata": {},
   "source": [
    "## Versione 2: Sentiment tokenizer di Christopher Potts con due classi\n",
    "Provo ora a usare la funzione ```tokenize``` di Christopher Potts, sempre con le due classi precedenti."
   ]
  },
  {
   "cell_type": "code",
   "execution_count": 8,
   "metadata": {},
   "outputs": [
    {
     "name": "stdout",
     "output_type": "stream",
     "text": [
      "Accuracy: 0.87\n"
     ]
    }
   ],
   "source": [
    "from happiestfuntokenizing.happiestfuntokenizing import Tokenizer\n",
    "classifier2, accuracy2 = get_classifier_and_mean_accuracy([1.0, 5.0], funzione_tokenize=Tokenizer().tokenize)\n",
    "print(\"Accuracy:\", accuracy2)\n",
    "dizionario_plot[\"2.ChrisPott\"] = accuracy2"
   ]
  },
  {
   "cell_type": "markdown",
   "metadata": {},
   "source": [
    "Questa volta abbiamo ottenuto una accuracy leggermente migliore. Di nuovo, stampo le features più significative nelle reviews:"
   ]
  },
  {
   "cell_type": "code",
   "execution_count": 9,
   "metadata": {},
   "outputs": [
    {
     "name": "stdout",
     "output_type": "stream",
     "text": [
      "Most Informative Features\n",
      "     contains(fantastic) = True              5.0 : 1.0    =     23.0 : 1.0\n",
      "         contains(worse) = True              1.0 : 5.0    =     21.7 : 1.0\n",
      "          contains(kart) = True              5.0 : 1.0    =     18.3 : 1.0\n",
      "         contains(waste) = True              1.0 : 5.0    =     15.6 : 1.0\n",
      "        contains(bosses) = True              5.0 : 1.0    =     15.0 : 1.0\n",
      "     contains(confusing) = True              1.0 : 5.0    =     13.0 : 1.0\n",
      "      contains(terrible) = True              1.0 : 5.0    =     12.5 : 1.0\n",
      "         contains(sucks) = True              1.0 : 5.0    =     11.9 : 1.0\n",
      "       contains(ocarina) = True              5.0 : 1.0    =     11.4 : 1.0\n",
      "          contains(tech) = True              1.0 : 5.0    =     11.0 : 1.0\n"
     ]
    }
   ],
   "source": [
    "classifier2.show_most_informative_features()"
   ]
  },
  {
   "attachments": {},
   "cell_type": "markdown",
   "metadata": {},
   "source": [
    "Notiamo subito che non c'è molta differenza tra le parole estratte in questa versione e nella precedente. In entrambi i casi, le features più significative sono le parole negative o positive (ad esempio waste, terrible, useless, ...)"
   ]
  },
  {
   "attachments": {},
   "cell_type": "markdown",
   "metadata": {},
   "source": [
    "## Versione 3: Classificazione a cinque classi\n",
    "Proverò questa volta ad aggiungere anche le recensioni con 2, 3 e 4 stelle. Userò la funzione ```tokenize``` di Christopher Potts, perché precedentemente ha restituito il miglior risultato."
   ]
  },
  {
   "cell_type": "code",
   "execution_count": 11,
   "metadata": {},
   "outputs": [
    {
     "name": "stdout",
     "output_type": "stream",
     "text": [
      "Accuracy: 0.4196\n"
     ]
    }
   ],
   "source": [
    "classifier3, accuracy3 = get_classifier_and_mean_accuracy([float(i) for i in range(1,6)], funzione_tokenize=Tokenizer().tokenize)\n",
    "print(\"Accuracy:\", accuracy3)\n",
    "dizionario_plot[\"3.Cinque classi\"] = accuracy3"
   ]
  },
  {
   "attachments": {},
   "cell_type": "markdown",
   "metadata": {},
   "source": [
    "Come ci si poteva aspettare, l'accuracy è drasticamente peggiorata. Infatti, il classificatore farà sicuramente più fatica a classificare una recensione con parole positive, perché essa potrebbe essere sia a 4 che a 5 stelle. Vale lo stesso per una recensione con parole negative o neutre."
   ]
  },
  {
   "cell_type": "code",
   "execution_count": 12,
   "metadata": {},
   "outputs": [
    {
     "name": "stdout",
     "output_type": "stream",
     "text": [
      "Most Informative Features\n",
      "          contains(dull) = True              2.0 : 5.0    =     19.9 : 1.0\n",
      "        contains(diablo) = True              3.0 : 5.0    =     19.8 : 1.0\n",
      "        contains(hoping) = True              2.0 : 5.0    =     17.2 : 1.0\n",
      "         contains(worst) = True              1.0 : 5.0    =     17.0 : 1.0\n",
      "     contains(fantastic) = True              5.0 : 1.0    =     17.0 : 1.0\n",
      "     contains(goldeneye) = True              5.0 : 1.0    =     15.4 : 1.0\n",
      "     contains(addictive) = True              4.0 : 1.0    =     15.0 : 1.0\n",
      "          contains(junk) = True              1.0 : 4.0    =     15.0 : 1.0\n",
      "          contains(fits) = True              5.0 : 2.0    =     14.8 : 1.0\n",
      "        contains(sister) = True              5.0 : 2.0    =     14.8 : 1.0\n"
     ]
    }
   ],
   "source": [
    "classifier3.show_most_informative_features()"
   ]
  },
  {
   "attachments": {},
   "cell_type": "markdown",
   "metadata": {},
   "source": [
    "A differenza dei preedenti classificatori, questa volta tra le feature più significative, sono presenti anche parole neutre (es. <i>park</i> o <i>wii</i>). Anche per questo mtivo probabilmente il classificatore sbaglierà più volte a classificare le recensioni."
   ]
  },
  {
   "attachments": {},
   "cell_type": "markdown",
   "metadata": {},
   "source": [
    "## Cambio delle feature\n",
    "Per ora ho sempre considerato come feature per il classificatore la presenza delle parole tokenizzate presenti nel field \"reviewText\" delle recensioni. Proverò ora a cambiare le features estratte, per cercare di aumentare l'accuracy del classificatore.\n",
    "\n",
    "### Versione 4: Uso del field \"summary\"\n",
    "Nelle reviews è presente un campo \"summary\" contenente poche parole che riassumono il testo della recensione. Proverò quindi ad usare questo invece dell'intero testo:"
   ]
  },
  {
   "cell_type": "code",
   "execution_count": 13,
   "metadata": {},
   "outputs": [
    {
     "name": "stdout",
     "output_type": "stream",
     "text": [
      "Accuracy: 0.7888\n"
     ]
    }
   ],
   "source": [
    "classifier4, accuracy4 = get_classifier_and_mean_accuracy([1.0, 5.0], field=\"summary\", funzione_tokenize=Tokenizer().tokenize)\n",
    "print(\"Accuracy:\", accuracy4)\n",
    "dizionario_plot[\"4.Summary\"] = accuracy4"
   ]
  },
  {
   "cell_type": "code",
   "execution_count": 14,
   "metadata": {},
   "outputs": [
    {
     "name": "stdout",
     "output_type": "stream",
     "text": [
      "Most Informative Features\n",
      "         contains(money) = True              1.0 : 5.0    =     25.0 : 1.0\n",
      "          contains(best) = True              5.0 : 1.0    =     20.2 : 1.0\n",
      "         contains(works) = True              5.0 : 1.0    =     19.7 : 1.0\n",
      "         contains(don't) = True              1.0 : 5.0    =     18.6 : 1.0\n",
      "         contains(zelda) = True              5.0 : 1.0    =     15.7 : 1.0\n",
      "         contains(great) = True              5.0 : 1.0    =     15.3 : 1.0\n",
      "       contains(classic) = True              5.0 : 1.0    =     14.6 : 1.0\n",
      "           contains(not) = True              1.0 : 5.0    =     11.3 : 1.0\n",
      "         contains(mario) = True              5.0 : 1.0    =     10.3 : 1.0\n",
      "      contains(terrible) = True              1.0 : 5.0    =      9.0 : 1.0\n"
     ]
    }
   ],
   "source": [
    "classifier4.show_most_informative_features()"
   ]
  },
  {
   "attachments": {},
   "cell_type": "markdown",
   "metadata": {},
   "source": [
    "Anche in questo caso l'accuracy è leggermente peggiorata rispetto alla versione originale. Questo probabilmente perché il summary potrebbe non essere significativo rispetto all'intero testo. Esempio: esiste una recensione con summary <i>\"Lana's opinion\"</i> e reviewText <i>\"Gift for my granddaughter.  Likes the game a lot, but prefers to just listen to the music & sounds.  We use it at my house on a separate computer (just for Lana).  Money well spent--provides hours of amusement & education\"</i>"
   ]
  },
  {
   "attachments": {},
   "cell_type": "markdown",
   "metadata": {},
   "source": [
    "### Versione 5: uso dei soli aggettivi\n",
    "Nella versione originale, nella lista delle feature più importanti, si possono osservare alcuni aggettivi. Proviamo quindi a selezionare dai testi delle recensioni solo gli aggettivi."
   ]
  },
  {
   "cell_type": "code",
   "execution_count": 15,
   "metadata": {},
   "outputs": [
    {
     "name": "stdout",
     "output_type": "stream",
     "text": [
      "Accuracy: 0.5978\n"
     ]
    }
   ],
   "source": [
    "from nltk.corpus import wordnet as wn\n",
    "\n",
    "def filtra_solo_aggettivi(reviews):\n",
    "    new_reviews = []\n",
    "    for (lista_parole,classe) in reviews:\n",
    "        solo_aggettivi = []\n",
    "        for par in lista_parole:\n",
    "            tmp = wn.synsets(par)\n",
    "            if len(tmp) > 0 and tmp[0].pos() == \"a\":\n",
    "                solo_aggettivi.append(par)\n",
    "        if solo_aggettivi != []:\n",
    "            new_reviews.append((solo_aggettivi,classe)) \n",
    "    return new_reviews\n",
    "\n",
    "classifier5, accuracy5 = get_classifier_and_mean_accuracy([1.0, 5.0], funzione_tokenize=Tokenizer().tokenize, funzione_filtra_reviews=filtra_solo_aggettivi)\n",
    "print(\"Accuracy:\", accuracy5)\n",
    "dizionario_plot[\"5.Solo aggettivi\"] = accuracy5"
   ]
  },
  {
   "attachments": {},
   "cell_type": "markdown",
   "metadata": {},
   "source": [
    "Anche in questo caso l'accuracy è peggiorata. "
   ]
  },
  {
   "attachments": {},
   "cell_type": "markdown",
   "metadata": {},
   "source": [
    "### Versione 6: uso della word frequency \n",
    "Proviamo questa volta ad usare come feature la frequenza delle parole nel testo della recensione."
   ]
  },
  {
   "cell_type": "code",
   "execution_count": 16,
   "metadata": {},
   "outputs": [
    {
     "name": "stdout",
     "output_type": "stream",
     "text": [
      "Accuracy: 0.8724\n"
     ]
    }
   ],
   "source": [
    "def conta_parole(words):\n",
    "    wfreq=[words.count(w) for w in words]\n",
    "    return dict(zip(words,wfreq))\n",
    "\n",
    "classifier6, accuracy6 = get_classifier_and_mean_accuracy([1.0, 5.0], funzione_tokenize=Tokenizer().tokenize, feat_extractor=conta_parole)\n",
    "print(\"Accuracy:\", accuracy6)\n",
    "dizionario_plot[\"6.Frequency word\"] = accuracy6"
   ]
  },
  {
   "attachments": {},
   "cell_type": "markdown",
   "metadata": {},
   "source": [
    "Anche in questo caso l'accuracy è leggermente peggiorata.  <br>\n",
    "Lasciamo quindi come feature extractor la word occurrency e come testo il campo reviewText."
   ]
  },
  {
   "attachments": {},
   "cell_type": "markdown",
   "metadata": {},
   "source": [
    "## Lemmatize invece di tokenize\n",
    "Analizzando le precedenti feature significative, si può notare che alcune parole come worst e worse derivano entrambe da bad. Se quindi <i>contains(\"worst\")=True</i> è una feature significativa per le recensioni della classe negativa (1 stella), allora probabilmente anche <i>contains(\"bad\")=True</i> lo è.\n",
    "<BR>\n",
    "Per implementare ciò, ho usato le funzioni di lemmatize invece del tokenize. Ho inoltre rimosso le stop words perchè la loro presenta è inutile nel feature set."
   ]
  },
  {
   "attachments": {},
   "cell_type": "markdown",
   "metadata": {},
   "source": [
    "### Versione 7: WordNetLemmatizer\n",
    "Testo inizialmente il lemmatizer WordNetLemmatizer di nltk."
   ]
  },
  {
   "cell_type": "code",
   "execution_count": 17,
   "metadata": {},
   "outputs": [
    {
     "name": "stdout",
     "output_type": "stream",
     "text": [
      "Accuracy: 0.8366\n"
     ]
    }
   ],
   "source": [
    "from nltk.stem import WordNetLemmatizer\n",
    "from nltk.corpus import stopwords\n",
    "import re\n",
    "\n",
    "stop_words = sorted(stopwords.words('english'))\n",
    "wnl = WordNetLemmatizer()\n",
    "def filtra_non_stop_words(reviews):\n",
    "    reviews = [([wnl.lemmatize(parola) for parola in testo_recensione.split(\" \") if parola not in stop_words], classe) for (testo_recensione,classe) in reviews]\n",
    "    return reviews\n",
    "\n",
    "classifier7, accuracy7 = get_classifier_and_mean_accuracy([1.0, 5.0], funzione_filtra_reviews=filtra_non_stop_words)\n",
    "print(\"Accuracy:\", accuracy7)\n",
    "dizionario_plot[\"7.WordNetLemmatizer\"] = accuracy7"
   ]
  },
  {
   "attachments": {},
   "cell_type": "markdown",
   "metadata": {},
   "source": [
    "Ho ottenuto pressoché la stessa accuracy della versione originale."
   ]
  },
  {
   "attachments": {},
   "cell_type": "markdown",
   "metadata": {},
   "source": [
    "### Versione 8: Spicy\n",
    "Provo adesso il lemmatizer di spacy."
   ]
  },
  {
   "cell_type": "code",
   "execution_count": 18,
   "metadata": {},
   "outputs": [
    {
     "name": "stdout",
     "output_type": "stream",
     "text": [
      "Accuracy: 0.8342\n"
     ]
    }
   ],
   "source": [
    "import spacy\n",
    "\n",
    "# Load English tokenizer, tagger, parser and NER\n",
    "nlp = spacy.load(\"en_core_web_sm\")\n",
    "\n",
    "def seleziona_solo_nomi(reviews):   # TODO cambia nome in lemmatizer\n",
    "    \n",
    "    new_reviews = []\n",
    "    for (testo, classe) in reviews:\n",
    "        lemmas = []\n",
    "        doc = nlp(testo)\n",
    "        lemmas = [token.lemma_ for token in doc if token.lemma_ not in stop_words] \n",
    "        new_reviews.append((lemmas, classe))    \n",
    "        \n",
    "\n",
    "    # reviews = [([chunk.text for chunk in nlp(i).noun_chunks]+[token.lemma_ for token in nlp(i) if token.pos_ == \"VERB\"], j) for (i,j) in reviews] \n",
    "    # reviews = [([tmp for tmp in nltk.word_tokenize(i)], j) for (i,j) in reviews] \n",
    "    # print(reviews[0])\n",
    "    return new_reviews\n",
    "    \n",
    "\n",
    "classifier8, accuracy8 = get_classifier_and_mean_accuracy([1.0, 5.0], funzione_filtra_reviews=seleziona_solo_nomi)# funzione_tokenize=nlp)\n",
    "print(\"Accuracy:\", accuracy8)\n",
    "dizionario_plot[\"8.Spacy\"] = accuracy8"
   ]
  },
  {
   "attachments": {},
   "cell_type": "markdown",
   "metadata": {},
   "source": [
    "Anche in questo caso l'accuracy è molto simile alla versione originale."
   ]
  },
  {
   "attachments": {},
   "cell_type": "markdown",
   "metadata": {},
   "source": [
    "### Versione 9: lemmatize e opinion_lexicon\n",
    "Infine, analizzando le feature estratte nelle versioni precedenti, ho notato che alcune parole non venivano correttamente tokenizzate/lemmatizzate. Ad esempio \"game.I\" non veniva divisa in una lista [\"game\", \"I\"]. Per risolvere ciò e per cercare di aumentare l'accuracy, ho integrato le due librerie nltk e spacy. Ho deciso di:\n",
    "- rimuovere la punteggiatura dal testo delle recensioni e rimpiazzarla con uno spazio\n",
    "- memorizzare come documento la lista di parole più importanti (ad esempio i verbi, i nomi, gli avverbi, gli aggettivi) ed escludendo quindi le stop word\n",
    "- rimuovere i duplicati dalla lista delle parole\n",
    "- selezionare solo le parole positive o negative. Per fare ciò ho usato le funzioni negative() e positive() fornite opinion_lexicon (nltk.corpus). In questo modo vado ad eliminare le parole neutre che comunque probabilmente non mi diranno niente di utile sulle recensioni.\n",
    "\n",
    "Infine, setto la min_freq=0 perché ..."
   ]
  },
  {
   "cell_type": "code",
   "execution_count": 19,
   "metadata": {},
   "outputs": [
    {
     "name": "stdout",
     "output_type": "stream",
     "text": [
      "Accuracy: 0.8336\n"
     ]
    }
   ],
   "source": [
    "from string import punctuation\n",
    "\n",
    "import spacy\n",
    "nlp = spacy.load(\"en_core_web_sm\")\n",
    "\n",
    "from nltk.corpus import opinion_lexicon\n",
    "neg_words = sorted(opinion_lexicon.negative())\n",
    "pos_word = sorted(opinion_lexicon.positive())\n",
    "\n",
    "def get_keywords_in_text(text):\n",
    "\n",
    "    # Cambio le stringhe del tipo:\n",
    "    #   \"game.I\"        --> \"game I\" \n",
    "    #   \"play--thought\" --> \"play  thought\"\n",
    "    for punteggiatura in punctuation:\n",
    "        text = text.replace(punteggiatura, \" \", -1)   \n",
    "    \n",
    "    # result = []\n",
    "    # pos_tag = {'VERB':\"v\", 'NOUN':\"n\", 'ADV':\"r\", 'ADJ':\"a\", 'INTJ':\"n\", 'PROPN':\"n\"} \n",
    "    # doc = nlp(text.lower()) \n",
    "    # for token in doc:\n",
    "    #     if (not token.text in stop_words ) and (token.pos_ in pos_tag.keys()):\n",
    "    #         result.append((token.lemma_, token.pos_))   \n",
    "    # result = list(set([i for (i, _) in result]))\n",
    "    # result = [wnl.lemmatize(keyword, pos=pos_tag[pos_keyword]) for (keyword, pos_keyword) in result]\n",
    "\n",
    "    doc = nlp(text.lower()) \n",
    "    pos_tag = {'VERB','NOUN','ADV', 'ADJ'}  \n",
    "    result = [token.lemma_ for token in doc if (not token.text in stop_words ) and (token.pos_ in pos_tag)]\n",
    "    result = list(set(result))\n",
    "    result = [token for token in result if (token in neg_words or token in pos_word)]\n",
    "    return result\n",
    "\n",
    "    \n",
    "\n",
    "\n",
    "def mio_filtra_parole(reviews):\n",
    "    # print(reviews[1])\n",
    "    # print([token for token in get_keyword_in_text(reviews[1][0]) if (token in neg_words or token in pos_word)] )\n",
    "    for i in range(len(reviews)):\n",
    "        # print(i, end=\" \")\n",
    "        reviews[i] = (get_keywords_in_text(reviews[i][0]), reviews[i][1])\n",
    "    # reviews = [(get_keyword_in_text(rec), classe) for (rec, classe) in reviews]\n",
    "    return reviews\n",
    "\n",
    "# TODO toglimi -> impiega circa 33 sec a run\n",
    "classifier9, accuracy9 = get_classifier_and_mean_accuracy([1.0, 5.0],funzione_filtra_reviews=mio_filtra_parole, min_freq=0)\n",
    "print(\"Accuracy:\", accuracy9)\n",
    "# [(print(k), print(v, \"\\n\\n\\n\")) for (k,v) in lista_tok_pos.items()]\n",
    "dizionario_plot[\"9.lemmatize,opinion_lexicon\"] = accuracy9\n"
   ]
  },
  {
   "attachments": {},
   "cell_type": "markdown",
   "metadata": {},
   "source": [
    "## Uso della libreria Scikit-learn\n",
    "Proverò ora ad usare la libreria <i>Scikit-learn</I>. <br>\n",
    "Creo innanzitutto una funzione che ritorni i dati e i target del train set e del test set:"
   ]
  },
  {
   "cell_type": "code",
   "execution_count": 43,
   "metadata": {},
   "outputs": [
    {
     "name": "stdout",
     "output_type": "stream",
     "text": [
      "trainset: {'5.0': 948, '1.0': 952}\n",
      "testSet: {'5.0': 52, '1.0': 48}\n"
     ]
    }
   ],
   "source": [
    "def get_train_test_data_target(reviews):\n",
    "    # TODO eventualmente togli i controlli e metti \n",
    "    classi = list(set(list({x[1] for x in reviews})))\n",
    "    limite = len(reviews)//len(classi)\n",
    "    trainSet, testSet = reviews[limite//10:], reviews[:limite//10]\n",
    "\n",
    "    classi_count = {str(c):0 for c in classi}\n",
    "    for (feat, classe) in trainSet:\n",
    "        classi_count[classe] +=1\n",
    "    print(\"trainset:\", classi_count)\n",
    "\n",
    "    classi_count = {str(c):0 for c in classi}\n",
    "    for (feat, classe) in testSet:\n",
    "        classi_count[classe] +=1\n",
    "    print(\"testSet:\", classi_count)\n",
    "    \n",
    "\n",
    "    \n",
    "    \"\"\"\n",
    "    Questa funzione ritorna: train_data, train_target, test_data e test_target delle reviews in input.\n",
    "        - train_data, test_data sono i \"documenti\" del trainset e testset rispettivamente\n",
    "        - train_target, test_target sono le classi del trainset e testset rispettivamente\n",
    "    \"\"\"\n",
    "    # classi = list(set(list({x[1] for x in reviews})))\n",
    "    \n",
    "    # # Creo un dizionario con chiavi le classi e valori una lista di indici delle review di tale classe\n",
    "    # diz_classe_indice = {c:[] for c in classi}\n",
    "    # cont = 0 \n",
    "    # for (r,c) in reviews:\n",
    "    #     diz_classe_indice[c].append(cont)\n",
    "    #     cont += 1\n",
    "    \n",
    "    # # Inserisco nel train set e nel test set un numero \n",
    "    # trainSet = []\n",
    "    # testSet = []\n",
    "    # for (c, indici) in diz_classe_indice.items():\n",
    "    #     indexes = random.sample(indici, len(indici))\n",
    "    #     int_index = int(len(indici)/2)\n",
    "    #     trainSet += [reviews[i] for i in indexes[:int_index]] \n",
    "    #     testSet += [reviews[i] for i in indexes[int_index:]]\n",
    "    \n",
    "    train_data, train_target = list(map(list, zip(*trainSet)))\n",
    "    test_data, test_target = list(map(list, zip(*testSet)))\n",
    "\n",
    "    \n",
    "    return train_data, train_target, test_data, test_target\n",
    "\n",
    "\n",
    "reviews_tmp= getReviewData([1.0, 5.0])\n",
    "train_data, train_target, test_data, test_target = get_train_test_data_target(reviews_tmp)"
   ]
  },
  {
   "attachments": {},
   "cell_type": "markdown",
   "metadata": {},
   "source": [
    "### Versione 10: Classificatore Support Vector Machines (SVM)\n",
    "Nelle versioni viste finora, ho sempre fatto uso del classificatore Naive Bayes di nltk. Andrò ora a modificarlo, usando il Support Vector Machines (SVM) di Scikit-learn. \n",
    "Uso inoltre la pipeline, per:\n",
    "- effettuare la pre-elaborazione del testo, il tokenizing e l'eliminazione delle stopwords (mediante il CountVectorizer)\n",
    "- contare le tf-idf frequencies (usando TfidfTransformer)\n",
    "- fare il train del classificatore \n",
    "\n",
    "Inoltre, questa volta uso cross_val_score per effettuare direttamente 50 run. "
   ]
  },
  {
   "cell_type": "code",
   "execution_count": 20,
   "metadata": {},
   "outputs": [
    {
     "name": "stdout",
     "output_type": "stream",
     "text": [
      "Accuracy: 0.88\n"
     ]
    }
   ],
   "source": [
    "from sklearn.model_selection import ShuffleSplit, cross_val_score\n",
    "from sklearn.feature_extraction.text import CountVectorizer, TfidfTransformer\n",
    "from sklearn.naive_bayes import MultinomialNB\n",
    "from sklearn import svm\n",
    "from sklearn.pipeline import Pipeline\n",
    "\n",
    "# Creo il train e test set\n",
    "reviews10 = getReviewData([1.0, 5.0])\n",
    "\n",
    "train_data, train_target, test_data, test_target = get_train_test_data_target(reviews10)\n",
    "\n",
    "# Classificatore\n",
    "text_clf = Pipeline([('vect', CountVectorizer()), ('tfidf', TfidfTransformer()),('clf', svm.SVC()),])\n",
    "text_clf.fit(train_data, train_target)\n",
    "predicted = text_clf.predict(test_data)\n",
    "\n",
    "# Cross-validation\n",
    "cv = ShuffleSplit(n_splits=50, test_size=0.2, random_state=0)\n",
    "scores = cross_val_score(text_clf, test_data, test_target, cv=cv)\n",
    "accuracy10 = round(sum(scores)/len(scores), 2)\n",
    "print(\"Accuracy:\", accuracy10)\n",
    "dizionario_plot[\"10.SVM\"] = accuracy10"
   ]
  },
  {
   "attachments": {},
   "cell_type": "markdown",
   "metadata": {},
   "source": [
    "### Versione 11: Hyperlane\n",
    "Effettuo gli stessi passaggi di prima, ma stavolta uso il classificatore SGDClassifier."
   ]
  },
  {
   "cell_type": "code",
   "execution_count": 21,
   "metadata": {},
   "outputs": [
    {
     "name": "stdout",
     "output_type": "stream",
     "text": [
      "Accuracy: 0.88\n"
     ]
    }
   ],
   "source": [
    "from sklearn.linear_model import SGDClassifier\n",
    "\n",
    "# Creo il train e test set\n",
    "reviews11 = getReviewData([1.0, 5.0])\n",
    "train_data, train_target, test_data, test_target = get_train_test_data_target(reviews11)\n",
    "\n",
    "# Classificatore\n",
    "text_clf = Pipeline([('vect', CountVectorizer()), ('tfidf', TfidfTransformer()), ('clf', SGDClassifier(loss='hinge', penalty='l2', alpha=1e-3, random_state=42, max_iter=5, tol=None)),])\n",
    "text_clf.fit(train_data, train_target)\n",
    "predicted = text_clf.predict(test_data)\n",
    "\n",
    "# Cross-validation\n",
    "cv = ShuffleSplit(n_splits=50, test_size=0.2, random_state=0)\n",
    "scores = cross_val_score(text_clf, test_data, test_target, cv=cv)\n",
    "accuracy11 = round(sum(scores)/len(scores), 2)\n",
    "print(\"Accuracy:\", accuracy11)\n",
    "dizionario_plot[\"11.Hyperlane\"] = accuracy11\n"
   ]
  },
  {
   "attachments": {},
   "cell_type": "markdown",
   "metadata": {},
   "source": [
    "### Versione 12: Grid-search\n",
    "Proverò stavolta a usare la grid search (GridSearchCV) di sklearn."
   ]
  },
  {
   "cell_type": "code",
   "execution_count": 22,
   "metadata": {},
   "outputs": [
    {
     "name": "stdout",
     "output_type": "stream",
     "text": [
      "Accuracy:  0.87\n"
     ]
    }
   ],
   "source": [
    "from sklearn.model_selection import GridSearchCV\n",
    "\n",
    "reviews12 = getReviewData([1.0, 5.0])\n",
    "train_data, train_target, test_data, test_target = get_train_test_data_target(reviews12)\n",
    "\n",
    "\n",
    "text_clf = Pipeline([('vect', CountVectorizer()), ('tfidf', TfidfTransformer()), ('clf', MultinomialNB())])\n",
    "text_clf.fit(train_data, train_target)\n",
    "\n",
    "parameters = {'vect__ngram_range': [(1, 1), (1, 2)], 'tfidf__use_idf': (True, False), 'clf__alpha': (1e-2, 1e-3),}\n",
    "cv = ShuffleSplit(n_splits=50, test_size=0.2, random_state=0)\n",
    "\n",
    "gs_clf = GridSearchCV(text_clf, parameters, cv=cv, n_jobs=-1) # TODO questo e' inutile\n",
    "gs_clf.fit(train_data, train_target)\n",
    "predicted = gs_clf.predict(test_data)\n",
    "\n",
    "scores = cross_val_score(text_clf, test_data, test_target, cv=cv)\n",
    "accuracy12 = round(sum(scores)/len(scores), 2)\n",
    "\n",
    "print(\"Accuracy: \", accuracy12)\n",
    "dizionario_plot[\"12.Grid-search\"] = accuracy12\n"
   ]
  },
  {
   "attachments": {},
   "cell_type": "markdown",
   "metadata": {},
   "source": [
    "## Versione 13: Uso di XGBoost\n",
    "Proverò infine a usare la ibreria XGBoost "
   ]
  },
  {
   "cell_type": "code",
   "execution_count": 23,
   "metadata": {},
   "outputs": [
    {
     "name": "stdout",
     "output_type": "stream",
     "text": [
      "Accuracy: 0.817\n"
     ]
    }
   ],
   "source": [
    "import xgboost as xgb\n",
    "import numpy as np\n",
    "from sklearn.metrics import accuracy_score\n",
    "\n",
    "reviews13 = getReviewData([1.0, 5.0])\n",
    "train_data, train_target, test_data, test_target = get_train_test_data_target(reviews13)\n",
    "\n",
    "cv = CountVectorizer(binary = True)\n",
    "cv.fit(train_data, train_target)\n",
    "train_transform = cv.transform(train_data)\n",
    "test_transform = cv.transform(test_data)\n",
    "\n",
    "# Trasformo i target del trainset e testset in un formato adatto a xgboost\n",
    "train_target = [0 if target==\"1.0\" else 1 for target in train_target]\n",
    "test_target = [0 if target==\"1.0\" else 1 for target in test_target]\n",
    "\n",
    "## Training and Predicting\n",
    "train_matrix = xgb.DMatrix(train_transform, train_target)      \n",
    "test_matrix = xgb.DMatrix(test_transform, test_target)\n",
    "# param = {'eta': 0.75, 'max_depth': 50, 'objective': 'binary:logitraw'}\n",
    "param = {'objective': 'binary:hinge'}       # Mette in  predicted_test solo valori 0 o 1 \n",
    "# param = {}\n",
    "# binary:hinge\n",
    "# TODO fare 50 run\n",
    "classifier13 = xgb.train(param, train_matrix, num_boost_round = 30)\n",
    "predicted_test = classifier13.predict(test_matrix).tolist()\n",
    "# predicted_test = [1 if x>0.5 else 0 for x in predicted_test]\n",
    "\n",
    "# Accuracy\n",
    "accuracy13 = accuracy_score(test_target, predicted_test)\n",
    "print(\"Accuracy:\",  accuracy13)# 0.9247195373643664\n",
    "\n",
    "dizionario_plot[\"13.Xgboost\"] = accuracy13"
   ]
  },
  {
   "attachments": {},
   "cell_type": "markdown",
   "metadata": {},
   "source": [
    "## Risultati e conclusioni\n",
    "TODO"
   ]
  },
  {
   "cell_type": "code",
   "execution_count": 24,
   "metadata": {},
   "outputs": [
    {
     "data": {
      "image/png": "[encoded data removed]",
      "text/plain": [
       "<Figure size 2400x700 with 1 Axes>"
      ]
     },
     "metadata": {},
     "output_type": "display_data"
    }
   ],
   "source": [
    "import matplotlib.pyplot as plt\n",
    "\n",
    "x_titoli , y_accuracy = list(dizionario_plot.keys()), list(dizionario_plot.values())\n",
    "plt.rcParams[\"figure.figsize\"] = (24,7)\n",
    "\n",
    "plt.plot(x_titoli, y_accuracy)\n",
    "for i in range(len(x_titoli)):\n",
    "    if y_accuracy[i] == max(y_accuracy):\n",
    "        plt.text(x_titoli[i], y_accuracy[i], str(y_accuracy[i]), color=\"red\", weight='bold')\n",
    "    else:\n",
    "        plt.text(x_titoli[i], y_accuracy[i], str(y_accuracy[i]))\n",
    "\n",
    "plt.title('Accuracy delle versioni')\n",
    "plt.grid()\n"
   ]
  },
  {
   "cell_type": "code",
   "execution_count": 25,
   "metadata": {},
   "outputs": [
    {
     "name": "stdout",
     "output_type": "stream",
     "text": [
      "con 1 run, il tempo totale e': 11815.868950366974\n"
     ]
    }
   ],
   "source": [
    "print(\"con 1 run, il tempo totale e':\", time.time()-inizioo_tempo) "
   ]
  },
  {
   "cell_type": "code",
   "execution_count": null,
   "metadata": {},
   "outputs": [],
   "source": []
  }
 ],
 "metadata": {
  "kernelspec": {
   "display_name": "Python 3",
   "language": "python",
   "name": "python3"
  },
  "language_info": {
   "codemirror_mode": {
    "name": "ipython",
    "version": 3
   },
   "file_extension": ".py",
   "mimetype": "text/x-python",
   "name": "python",
   "nbconvert_exporter": "python",
   "pygments_lexer": "ipython3",
   "version": "3.11.0"
  },
  "orig_nbformat": 4,
  "vscode": {
   "interpreter": {
    "hash": "a29d3b88d3d770f4c6b76b3f467a825cd9493448f3062cde152f1e267121f11d"
   }
  }
 },
 "nbformat": 4,
 "nbformat_minor": 2
}

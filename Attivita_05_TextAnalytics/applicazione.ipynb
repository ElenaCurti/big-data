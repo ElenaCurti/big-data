{
 "cells": [
  {
   "attachments": {},
   "cell_type": "markdown",
   "metadata": {},
   "source": [
    "<center>Progetto realizzato da Elena Curti (matr. 185431)\n",
    "\n",
    "# Sentiment analysis – Amazon reviews\n",
    "</center>"
   ]
  },
  {
   "attachments": {},
   "cell_type": "markdown",
   "metadata": {},
   "source": [
    "## Introduzione\n",
    "... realizzato con MongoDB ... \n"
   ]
  },
  {
   "cell_type": "code",
   "execution_count": 1,
   "metadata": {},
   "outputs": [],
   "source": [
    "# !pip install happiestfuntokenizing"
   ]
  },
  {
   "cell_type": "code",
   "execution_count": 2,
   "metadata": {},
   "outputs": [],
   "source": [
    "import nltk\n",
    "import random\n",
    "from nltk.classify import NaiveBayesClassifier\n",
    "from nltk.sentiment.util import mark_negation, extract_unigram_feats\n",
    "from nltk.corpus import wordnet as wn\n",
    "from pymongo import MongoClient\n",
    "from happiestfuntokenizing.happiestfuntokenizing import Tokenizer\n",
    "from sklearn.model_selection import ShuffleSplit, cross_val_score\n",
    "from sklearn.model_selection import train_test_split\n",
    "from sklearn.feature_extraction.text import CountVectorizer, TfidfTransformer\n",
    "# from sklearn.naive_bayes import MultinomialNB\n",
    "from sklearn import svm\n",
    "from sklearn.pipeline import Pipeline\n",
    "from nltk.sentiment.sentiment_analyzer import SentimentAnalyzer\n",
    "from nltk.sentiment.util import demo_liu_hu_lexicon\n",
    "from io import StringIO\n",
    "import sys\n",
    "\n",
    "client = MongoClient('192.168.202.128', 27017)      # TODO mettere localhost\n",
    "db = client.test"
   ]
  },
  {
   "cell_type": "code",
   "execution_count": 3,
   "metadata": {},
   "outputs": [],
   "source": [
    "import os, sys\n",
    "\n",
    "class HiddenPrints:\n",
    "    \"\"\" Classe usata per evitare alcune print \"\"\"\n",
    "    def __enter__(self):\n",
    "        self._original_stdout = sys.stdout\n",
    "        sys.stdout = open(os.devnull, 'w')\n",
    "\n",
    "    def __exit__(self, exc_type, exc_val, exc_tb):\n",
    "        sys.stdout.close()\n",
    "        sys.stdout = self._original_stdout\n"
   ]
  },
  {
   "cell_type": "code",
   "execution_count": 15,
   "metadata": {},
   "outputs": [],
   "source": [
    "def getReviewData(database, lista_overall, limite=100, field=\"reviewText\", funzione_tokenize=None):\n",
    "    reviews = []\n",
    "    for overall in lista_overall:\n",
    "        for review in database.reviews.find({\"overall\": overall}).limit(limite):\n",
    "            if funzione_tokenize == None:\n",
    "                reviews.append((review[field],str(overall))) \n",
    "            else:\n",
    "                reviews.append(([i.lower() for i in funzione_tokenize(review[field])],str(overall))) \n",
    "            \n",
    "    random.shuffle(reviews) \n",
    "    return reviews  \n",
    "\n",
    "def perform_cross_validation(classifier, train_set):\n",
    "    data = [i for (i, _) in train_set]\n",
    "    target = [j for (_, j) in train_set]\n",
    "    cv = ShuffleSplit(n_splits=10, test_size=0.2, random_state=0)\n",
    "    scores = train_test_split(classifier, data, target)\n",
    "    return sum(scores)/len(scores)\n",
    "   \n",
    "def get_classifier_and_mean_accuracy(reviews, feature=1):\n",
    "    \"\"\"Questa funzione ritorna il classifier e la relativa accuracy media (test eseguiti su 50 run).  \n",
    "    In input è richiesta la lista delle reviews. \n",
    "    Se feature e' 1 (default) viene usata la funzione extract_unigram_feats. \n",
    "    TODO Se feature e' 2 viene usato nltk.sentiment.util.demo_liu_hu_lexicon. In questo caso:\n",
    "        - sono permesse solo le due classi 1.0 e 5.0. \n",
    "        - reviews deve essere una lista di tuple del tipo (testo_della_recensione, classe) dove testo_della_recensione e' una stringa.\n",
    "    \"\"\"\n",
    "    # Run dei test e accuracy\n",
    "    dim = 100 #int(len(reviews)/3)-1\n",
    "    accuracy = []\n",
    "\n",
    "    classi = list(set(list({x[1] for x in reviews})[-5:]))\n",
    "    classe_indice = {c:[] for c in classi}\n",
    "    cont =0 \n",
    "    for (r,c) in reviews:\n",
    "        classe_indice[c].append(cont)\n",
    "        cont += 1\n",
    "\n",
    "    \n",
    "    \n",
    "\n",
    "    # Sentiment analyzer e applicazione delle feature\n",
    "    sentimAnalyzer = SentimentAnalyzer() \n",
    "    allWordsNeg = sentimAnalyzer.all_words([mark_negation(doc) for doc in reviews])    \n",
    "    unigramFeats = sentimAnalyzer.unigram_word_feats(allWordsNeg, min_freq=4)   \n",
    "    sentimAnalyzer.add_feat_extractor(extract_unigram_feats, unigrams=unigramFeats)\n",
    "    featureSets = sentimAnalyzer.apply_features(reviews)\n",
    "    for i in range(50):   # TODO metti 50\n",
    "        trainSet = []\n",
    "        testSet = []\n",
    "        for (c, indici) in classe_indice.items():\n",
    "            indexes = random.sample(indici, len(indici))\n",
    "            int_index = int(len(indici)/2)\n",
    "            trainSet += [featureSets[i] for i in indexes[:int_index]] \n",
    "            testSet += [featureSets[i] for i in indexes[int_index:]]\n",
    "         \n",
    "        # trainSet, testSet = featureSets[dim:], featureSets[:dim]  \n",
    "        with HiddenPrints():\n",
    "            classifier = sentimAnalyzer.train(NaiveBayesClassifier.train, trainSet)\n",
    "            evalu = sentimAnalyzer.evaluate(testSet)\n",
    "        accuracy.append(evalu[\"Accuracy\"])\n",
    "    \n",
    "    return classifier, round(sum(accuracy)/len(accuracy), 2) #perform_cross_validation(classifier, trainSet) #dict(sorted(sentimAnalyzer.evaluate(testSet).items()))\n",
    "    # else:\n",
    "    #     dev_test = [ (reviews[i][0], featureSets[i][0], featureSets[i][1]) for i in range(dim,len(reviews)-dim)]\n",
    "    #     return classifier, dev_test\n",
    "\n",
    "def print_accuracy(diz):\n",
    "    print(\"Accuracy:\", diz[\"Accuracy\"])\n",
    "\n",
    "    return\n",
    "    for key,value in list_items:\n",
    "        print('{0}: {1}'.format(key, value))"
   ]
  },
  {
   "attachments": {},
   "cell_type": "markdown",
   "metadata": {},
   "source": [
    "## Versione 1 (originale): World tokenizer di nltk con due classi"
   ]
  },
  {
   "cell_type": "code",
   "execution_count": 5,
   "metadata": {},
   "outputs": [
    {
     "name": "stdout",
     "output_type": "stream",
     "text": [
      "0.81\n"
     ]
    }
   ],
   "source": [
    "# TODO rimuovi commenti\n",
    "reviews1 = getReviewData(db, [1.0, 5.0], funzione_tokenize=nltk.word_tokenize)\n",
    "classifier1, accuracy1 = get_classifier_and_mean_accuracy(reviews1)\n",
    "print(accuracy1)"
   ]
  },
  {
   "attachments": {},
   "cell_type": "markdown",
   "metadata": {},
   "source": [
    "## Versione 2: Sentiment tokenizer di Christopher Potts con due classi"
   ]
  },
  {
   "cell_type": "code",
   "execution_count": 6,
   "metadata": {},
   "outputs": [
    {
     "name": "stdout",
     "output_type": "stream",
     "text": [
      "0.79\n"
     ]
    }
   ],
   "source": [
    "reviews2 = getReviewData(db, [1.0, 5.0], funzione_tokenize=Tokenizer().tokenize)\n",
    "classifier2, accuracy2 = get_classifier_and_mean_accuracy(reviews2)\n",
    "print(accuracy2)"
   ]
  },
  {
   "attachments": {},
   "cell_type": "markdown",
   "metadata": {},
   "source": [
    "## Versione 3: Classificazione a cinque classi"
   ]
  },
  {
   "cell_type": "code",
   "execution_count": 7,
   "metadata": {},
   "outputs": [
    {
     "name": "stdout",
     "output_type": "stream",
     "text": [
      "0.39\n"
     ]
    }
   ],
   "source": [
    "# TODO rimuovi limite di 100 \n",
    "reviews3 = getReviewData(db, [float(i) for i in range(1,6)],limite=100, funzione_tokenize=nltk.word_tokenize)\n",
    "classifier3, accuracy3 = get_classifier_and_mean_accuracy(reviews3)\n",
    "print(accuracy3)"
   ]
  },
  {
   "attachments": {},
   "cell_type": "markdown",
   "metadata": {},
   "source": [
    "## Confronto tra le versioni\n",
    "L'accuracy migliore è stata ottenuta con il sentiment tokenizer di Christopher Potts (<MARK>METTERE VALORE MEDIO</mark>). <br>\n",
    "L'accuracy peggiore, invece, è stata ottenuta con la versione a cinque classi  (<MARK>METTERE VALORE MEDIO</mark>). <br>\n",
    "L'accuracy della versione originale a due classi con nltk è a metà tra le due precedenti  (<MARK>METTERE VALORE MEDIO</mark>). "
   ]
  },
  {
   "cell_type": "code",
   "execution_count": 8,
   "metadata": {},
   "outputs": [
    {
     "data": {
      "image/png": "[encoded data removed]",
      "text/plain": [
       "<Figure size 640x480 with 1 Axes>"
      ]
     },
     "metadata": {},
     "output_type": "display_data"
    }
   ],
   "source": [
    "import matplotlib.pyplot as plt\n",
    "x_plot = [\"Versione 1\", \"Versione 2\", \"Versione 3\"]\n",
    "y_plot = [accuracy1, accuracy2, accuracy3]\n",
    "plt.plot(x_plot, y_plot, label = \"line 2\")\n",
    "plt.title('Accuracy delle versioni')\n",
    "plt.grid()\n"
   ]
  },
  {
   "attachments": {},
   "cell_type": "markdown",
   "metadata": {},
   "source": [
    "## Cambio di feature\n",
    "Per cercare di aumentare la accuracy, proverò ora a cambiare le feature.\n",
    "\n",
    "### Versione 4: Uso del field \"summary\""
   ]
  },
  {
   "cell_type": "code",
   "execution_count": 9,
   "metadata": {},
   "outputs": [
    {
     "name": "stdout",
     "output_type": "stream",
     "text": [
      "0.69\n"
     ]
    }
   ],
   "source": [
    "reviews4 = getReviewData(db, [1.0, 5.0],field=\"summary\", funzione_tokenize=nltk.word_tokenize)\n",
    "classifier4, accuracy4 = get_classifier_and_mean_accuracy(reviews4)\n",
    "print(accuracy4)"
   ]
  },
  {
   "attachments": {},
   "cell_type": "markdown",
   "metadata": {},
   "source": [
    "### Versione 5: uso dei soli aggettivi"
   ]
  },
  {
   "cell_type": "code",
   "execution_count": 10,
   "metadata": {},
   "outputs": [
    {
     "name": "stdout",
     "output_type": "stream",
     "text": [
      "0.55\n"
     ]
    }
   ],
   "source": [
    "reviews5 = []\n",
    "for (lista_parole,classe) in reviews1:\n",
    "    solo_aggettivi = []\n",
    "    for par in lista_parole:\n",
    "        tmp = wn.synsets(par)\n",
    "        if len(tmp) > 0 and tmp[0].pos() == \"a\":\n",
    "            solo_aggettivi.append(par)\n",
    "    if solo_aggettivi != []:\n",
    "        reviews5.append((solo_aggettivi,classe)) \n",
    "\n",
    "classifier5, accuracy5 = get_classifier_and_mean_accuracy(reviews5)\n",
    "print(accuracy5)"
   ]
  },
  {
   "attachments": {},
   "cell_type": "markdown",
   "metadata": {},
   "source": [
    "### Versione 6: uso della frequency word invece della occurrence\n",
    "<mark> TODO"
   ]
  },
  {
   "cell_type": "code",
   "execution_count": 11,
   "metadata": {},
   "outputs": [
    {
     "data": {
      "text/plain": [
       "0.8"
      ]
     },
     "execution_count": 11,
     "metadata": {},
     "output_type": "execute_result"
    }
   ],
   "source": [
    "reviews6 = getReviewData(db, [1.0, 5.0], funzione_tokenize=Tokenizer().tokenize)\n",
    "\n",
    "classifier, accuracy6 = get_classifier_and_mean_accuracy(reviews6, feature=2)\n",
    "accuracy6\n"
   ]
  },
  {
   "attachments": {},
   "cell_type": "markdown",
   "metadata": {},
   "source": [
    "## Uso della libreria Scikit-learn\n",
    "Proverò ora a passare alla libreria \"Scikit-learn\". \n"
   ]
  },
  {
   "attachments": {},
   "cell_type": "markdown",
   "metadata": {},
   "source": [
    "### Versione 7: Classificatore Support Vector Machines (SVM)\n",
    "Nelle versioni viste finora, ho sempre fatto uso del classificatore Naive Bayes di nltk. Proverò ora a modificarlo, per cercare di migliorare l'accuracy."
   ]
  },
  {
   "cell_type": "code",
   "execution_count": 16,
   "metadata": {},
   "outputs": [
    {
     "name": "stdout",
     "output_type": "stream",
     "text": [
      "0.59\n"
     ]
    }
   ],
   "source": [
    "# Creo il train e test set\n",
    "reviews7 = getReviewData(db, [1.0, 5.0], limite=1000)\n",
    "train_set, test_set = reviews7[100:], reviews7[:100]\n",
    "train_data, train_target = list(map(list, zip(*train_set)))\n",
    "test_data, test_target = list(map(list, zip(*test_set)))\n",
    "\n",
    "# Classificatore\n",
    "text_clf = Pipeline([('vect', CountVectorizer()), ('tfidf', TfidfTransformer()),('clf', svm.SVC()),])\n",
    "text_clf.fit(train_data, train_target)\n",
    "predicted = text_clf.predict(test_data)\n",
    "\n",
    "# Cross-validation\n",
    "cv = ShuffleSplit(n_splits=50, test_size=0.2, random_state=0)\n",
    "scores = cross_val_score(text_clf, test_data, test_target, cv=cv)\n",
    "accuracy7 = round(sum(scores)/len(scores), 2)\n",
    "print(accuracy7)\n"
   ]
  },
  {
   "attachments": {},
   "cell_type": "markdown",
   "metadata": {},
   "source": [
    "### Versione 8: Grid-search"
   ]
  },
  {
   "cell_type": "code",
   "execution_count": 17,
   "metadata": {},
   "outputs": [
    {
     "name": "stdout",
     "output_type": "stream",
     "text": [
      "Accuracy:  0.71\n"
     ]
    }
   ],
   "source": [
    "from sklearn.model_selection import GridSearchCV\n",
    "from sklearn.naive_bayes import MultinomialNB\n",
    "\n",
    "reviews8 = getReviewData(db, [1.0, 5.0])\n",
    "train_set, test_set = reviews8[100:], reviews8[:100]\n",
    "train_data, train_target = list(map(list, zip(*train_set)))\n",
    "test_data, test_target = list(map(list, zip(*test_set)))\n",
    "\n",
    "text_clf = Pipeline([('vect', CountVectorizer()), ('tfidf', TfidfTransformer()),('clf', MultinomialNB()),])\n",
    "text_clf.fit(train_data, train_target)\n",
    "\n",
    "parameters = {'vect__ngram_range': [(1, 1), (1, 2)], 'tfidf__use_idf': (True, False), 'clf__alpha': (1e-2, 1e-3),}\n",
    "cv = ShuffleSplit(n_splits=50, test_size=0.2, random_state=0)\n",
    "\n",
    "gs_clf = GridSearchCV(text_clf, parameters, cv=cv, n_jobs=-1)\n",
    "gs_clf = gs_clf.fit(train_data, train_target)\n",
    "predicted = gs_clf.predict(test_data)\n",
    "\n",
    "scores = cross_val_score(text_clf, test_data, test_target, cv=cv)\n",
    "accuracy8 = round(sum(scores)/len(scores), 2)\n",
    "\n",
    "print(\"Accuracy: \", accuracy8)"
   ]
  },
  {
   "cell_type": "code",
   "execution_count": null,
   "metadata": {},
   "outputs": [],
   "source": [
    "# def mio_demo_liu_hu_lexicon(sentence):\n",
    "#     \"\"\" Questo codice e' lo stesso della funzione nltk.sentiment.util.demo_liu_hu_lexicon, ma al \n",
    "#     posto di print(\"Positive\") ho messo return \"Positive\". Stessa cosa per \"Negative\" e \"Neutral\". \n",
    "#     Inoltre, ho permesso di dare in input alla funzione una lista di stringhe, invece che una stringa\n",
    "#     \"\"\"\n",
    "#     from nltk.corpus import opinion_lexicon\n",
    "#     from nltk.tokenize import treebank\n",
    "\n",
    "    \n",
    "#     tokenizer = treebank.TreebankWordTokenizer()\n",
    "#     pos_words = 0\n",
    "#     neg_words = 0\n",
    "\n",
    "#     if not type(sentence) is list:\n",
    "#         tokenized_sent = [word.lower() for word in tokenizer.tokenize(sentence)]\n",
    "#     else:\n",
    "#         tokenized_sent = [word.lower() for word in sentence]\n",
    "\n",
    "#     x = list(range(len(tokenized_sent)))  # x axis for the plot\n",
    "#     y = []\n",
    "\n",
    "#     for word in tokenized_sent:\n",
    "#         if word in opinion_lexicon.positive():\n",
    "#             pos_words += 1\n",
    "#             y.append(1)  # positive\n",
    "#         elif word in opinion_lexicon.negative():\n",
    "#             neg_words += 1\n",
    "#             y.append(-1)  # negative\n",
    "#         else:\n",
    "#             y.append(0)  # neutral\n",
    "\n",
    "#     if pos_words > neg_words:\n",
    "#         return {\"sent\":\"Positive\"}\n",
    "#     elif pos_words < neg_words:\n",
    "#         return {\"sent\":\"Negative\"}\n",
    "#     elif pos_words == neg_words:\n",
    "#         return {\"sent\":\"Neutral\"}\n",
    "\n",
    "\n",
    "# reviews9 = getReviewData(db, [1.0, 5.0])\n",
    "\n",
    "\n",
    "# dim = 100\n",
    "# accuracy = []\n",
    "    \n",
    "# sentimAnalyzer = SentimentAnalyzer() \n",
    "# # allWordsNeg = sentimAnalyzer.all_words([mark_negation(doc) for doc in reviews9])    \n",
    "# # unigramFeats = sentimAnalyzer.unigram_word_feats(allWordsNeg, min_freq=4)   \n",
    "# # sentimAnalyzer.add_feat_extractor(extract_unigram_feats, unigrams=unigramFeats)\n",
    "# sentimAnalyzer.add_feat_extractor(mio_demo_liu_hu_lexicon)\n",
    "# featureSets = sentimAnalyzer.apply_features(reviews9, labeled=True)\n",
    "\n",
    "\n",
    "\n",
    "# # print(featureSets)\n",
    "# for i in range(1):   # TODO metti 50\n",
    "#     indexes = random.sample(range(len(featureSets)), dim*2)\n",
    "#     trainSet, testSet = [featureSets[i] for i in indexes[:dim]] , [featureSets[i] for i in indexes[dim:]] #random.sample(list(featureSets), dim)# featureSets[dim:], featureSets[:dim]\n",
    "    \n",
    "#     # trainSet, testSet = featureSets[dim:], featureSets[:dim]  \n",
    "#     with HiddenPrints():\n",
    "#         classifier = sentimAnalyzer.train(NaiveBayesClassifier.train, trainSet)\n",
    "#         evalu = sentimAnalyzer.evaluate(testSet)\n",
    "#     accuracy.append(evalu[\"Accuracy\"])\n",
    "\n",
    "# classifier, accuracy9 = classifier, round(sum(accuracy)/len(accuracy), 2) #perform_cross_validation(classifier, trainSet) #dict(sorted(sentimAnalyzer.evaluate(testSet).items()))\n",
    "# accuracy9\n",
    "\n",
    "# # reviews9\n"
   ]
  },
  {
   "attachments": {},
   "cell_type": "markdown",
   "metadata": {},
   "source": [
    "## Risultati"
   ]
  },
  {
   "cell_type": "code",
   "execution_count": 18,
   "metadata": {},
   "outputs": [
    {
     "data": {
      "image/png": "[encoded data removed]",
      "text/plain": [
       "<Figure size 1000x500 with 1 Axes>"
      ]
     },
     "metadata": {},
     "output_type": "display_data"
    }
   ],
   "source": [
    "num_versioni = 8\n",
    "x_titoli = []\n",
    "y_accuracy = []\n",
    "for i in range(1, num_versioni+1):\n",
    "    eval(\"x_titoli.append('Versione \"+str(i)+\"')\")\n",
    "    eval(\"y_accuracy.append(accuracy\"+str(i)+\")\")\n",
    "plt.rcParams[\"figure.figsize\"] = (10,5)\n",
    "\n",
    "plt.plot(x_titoli, y_accuracy)\n",
    "for i in range(num_versioni):\n",
    "    if y_accuracy[i] == max(y_accuracy):\n",
    "        plt.text(x_titoli[i], y_accuracy[i], str(y_accuracy[i]), color=\"red\", weight='bold')\n",
    "    else:\n",
    "        plt.text(x_titoli[i], y_accuracy[i], str(y_accuracy[i]))\n",
    "\n",
    "plt.title('Accuracy delle versioni')\n",
    "plt.grid()\n"
   ]
  },
  {
   "cell_type": "code",
   "execution_count": null,
   "metadata": {},
   "outputs": [],
   "source": []
  }
 ],
 "metadata": {
  "kernelspec": {
   "display_name": "Python 3",
   "language": "python",
   "name": "python3"
  },
  "language_info": {
   "codemirror_mode": {
    "name": "ipython",
    "version": 3
   },
   "file_extension": ".py",
   "mimetype": "text/x-python",
   "name": "python",
   "nbconvert_exporter": "python",
   "pygments_lexer": "ipython3",
   "version": "3.11.0"
  },
  "orig_nbformat": 4,
  "vscode": {
   "interpreter": {
    "hash": "a29d3b88d3d770f4c6b76b3f467a825cd9493448f3062cde152f1e267121f11d"
   }
  }
 },
 "nbformat": 4,
 "nbformat_minor": 2
}

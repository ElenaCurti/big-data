{
 "cells": [
  {
   "attachments": {},
   "cell_type": "markdown",
   "metadata": {},
   "source": [
    "<center>Progetto realizzato da Elena Curti (matr. 185431)\n",
    "\n",
    "# Sentiment analysis – Amazon reviews\n",
    "</center>"
   ]
  },
  {
   "attachments": {},
   "cell_type": "markdown",
   "metadata": {},
   "source": [
    "## Introduzione\n",
    "... realizzato con MongoDB. richiesto python 3.6 - 3.10. ... \n"
   ]
  },
  {
   "cell_type": "code",
   "execution_count": 1,
   "metadata": {},
   "outputs": [],
   "source": [
    "# !pip install happiestfuntokenizing xgboost\n"
   ]
  },
  {
   "cell_type": "code",
   "execution_count": 2,
   "metadata": {},
   "outputs": [],
   "source": [
    "import nltk\n",
    "import random\n",
    "from nltk.classify import NaiveBayesClassifier\n",
    "from nltk.sentiment.util import mark_negation, extract_unigram_feats\n",
    "from nltk.corpus import wordnet as wn\n",
    "from pymongo import MongoClient\n",
    "from happiestfuntokenizing.happiestfuntokenizing import Tokenizer\n",
    "from sklearn.model_selection import ShuffleSplit, cross_val_score\n",
    "from sklearn.model_selection import train_test_split\n",
    "from sklearn.feature_extraction.text import CountVectorizer, TfidfTransformer\n",
    "# from sklearn.naive_bayes import MultinomialNB\n",
    "from sklearn import svm\n",
    "from sklearn.pipeline import Pipeline\n",
    "from nltk.sentiment.sentiment_analyzer import SentimentAnalyzer\n",
    "from nltk.sentiment.util import demo_liu_hu_lexicon\n",
    "from io import StringIO\n",
    "import sys\n",
    "\n",
    "client = MongoClient('192.168.202.128', 27017)      # TODO mettere localhost\n",
    "DATABASE = client.test"
   ]
  },
  {
   "cell_type": "code",
   "execution_count": 3,
   "metadata": {},
   "outputs": [],
   "source": [
    "import os, sys\n",
    "\n",
    "class HiddenPrints:\n",
    "    \"\"\" Classe usata per evitare print di alcune funzioni \"\"\"\n",
    "    def __enter__(self):\n",
    "        self._original_stdout = sys.stdout\n",
    "        sys.stdout = open(os.devnull, 'w')\n",
    "\n",
    "    def __exit__(self, exc_type, exc_val, exc_tb):\n",
    "        sys.stdout.close()\n",
    "        sys.stdout = self._original_stdout\n"
   ]
  },
  {
   "cell_type": "code",
   "execution_count": 4,
   "metadata": {},
   "outputs": [],
   "source": [
    "def get_train_test_data_target(reviews):\n",
    "    classi = list(set(list({x[1] for x in reviews})))\n",
    "    \n",
    "    # Creo un dizionario con chiavi le classi e valori una lista di indici delle review di tale classe\n",
    "    diz_classe_indice = {c:[] for c in classi}\n",
    "    cont = 0 \n",
    "    for (r,c) in reviews:\n",
    "        diz_classe_indice[c].append(cont)\n",
    "        cont += 1\n",
    "    \n",
    "    # Inserisco nel train set e nel test set un numero \n",
    "    trainSet = []\n",
    "    testSet = []\n",
    "    for (c, indici) in diz_classe_indice.items():\n",
    "        indexes = random.sample(indici, len(indici))\n",
    "        int_index = int(len(indici)/2)\n",
    "        trainSet += [reviews[i] for i in indexes[:int_index]] \n",
    "        testSet += [reviews[i] for i in indexes[int_index:]]\n",
    "    \n",
    "    train_data, train_target = list(map(list, zip(*trainSet)))\n",
    "    test_data, test_target = list(map(list, zip(*testSet)))\n",
    "    return train_data, train_target, test_data, test_target\n",
    "\n",
    "    \n",
    "def getReviewData(lista_overall, limite=500, field=\"reviewText\", funzione_tokenize=None):\n",
    "    reviews = []\n",
    "    for overall in lista_overall:\n",
    "        # for review in DATABASE.reviews.find({\"overall\": overall}).limit(limite):\n",
    "        for review in DATABASE.reviews.aggregate([\n",
    "            {'$match' :{\"overall\": overall}},  \n",
    "            { '$match': { '$expr': { '$lt': [0.5, {'$rand': {} } ] } } }, \n",
    "            {'$limit' : limite}]):\n",
    "            if funzione_tokenize == None:\n",
    "                reviews.append((review[field],str(overall))) \n",
    "            else:\n",
    "                reviews.append(([i.lower() for i in funzione_tokenize(review[field])],str(overall))) \n",
    "            \n",
    "    # random.shuffle(reviews) \n",
    "    return reviews  \n",
    "   \n",
    "def get_classifier_and_mean_accuracy(lista_overall, limite=500,  funzione_filtra_reviews=lambda x:x, feat_extractor=None,  **kwargs):\n",
    "    \"\"\"Questa funzione ritorna il classifier e la relativa accuracy media (test eseguiti su 50 run).  \n",
    "    In input è richiesta la lista delle reviews. \n",
    "    Se feature e' 1 (default) viene usata la funzione extract_unigram_feats. \n",
    "    TODO Se feature e' 2 viene usato nltk.sentiment.util.demo_liu_hu_lexicon. In questo caso:\n",
    "        - sono permesse solo le due classi 1.0 e 5.0. \n",
    "        - reviews deve essere una lista di tuple del tipo (testo_della_recensione, classe) dove testo_della_recensione e' una stringa.\n",
    "    \"\"\"\n",
    "\n",
    "    # Run dei test e accuracy\n",
    "    accuracy = []\n",
    "\n",
    "    for i in range(50):   # TODO metti 50\n",
    "        reviews = getReviewData(lista_overall, limite=limite, **kwargs)\n",
    "        reviews = funzione_filtra_reviews(reviews)\n",
    "        \n",
    "        # Sentiment analyzer e applicazione delle feature\n",
    "        sentimAnalyzer = SentimentAnalyzer() \n",
    "        if feat_extractor == None:\n",
    "            allWordsNeg = sentimAnalyzer.all_words([mark_negation(doc) for doc in reviews])    \n",
    "            unigramFeats = sentimAnalyzer.unigram_word_feats(allWordsNeg, min_freq=4)   \n",
    "            sentimAnalyzer.add_feat_extractor(extract_unigram_feats, unigrams=unigramFeats)\n",
    "        else:\n",
    "            sentimAnalyzer.add_feat_extractor(feat_extractor)\n",
    "\n",
    "        featureSets = sentimAnalyzer.apply_features(reviews)\n",
    "    \n",
    "        # Per ogni classe, prendo metà recensioni per il training set e metà per il test\n",
    "        trainSet = []\n",
    "        testSet = []\n",
    "        half_limite = limite//2\n",
    "        for i in range(0, len(reviews), limite):\n",
    "            feature_class = featureSets[i:i+limite]\n",
    "            trainSet += feature_class[:half_limite]\n",
    "            testSet += feature_class[half_limite:]\n",
    "\n",
    "        # Classificatore e accuracy\n",
    "        with HiddenPrints():\n",
    "            classifier = sentimAnalyzer.train(NaiveBayesClassifier.train, trainSet)\n",
    "            evalu = sentimAnalyzer.evaluate(testSet)\n",
    "        accuracy.append(evalu[\"Accuracy\"])\n",
    "    \n",
    "    return classifier, round(sum(accuracy)/len(accuracy), 2) "
   ]
  },
  {
   "attachments": {},
   "cell_type": "markdown",
   "metadata": {},
   "source": [
    "## Versione 1 (originale): World tokenizer di nltk con due classi"
   ]
  },
  {
   "cell_type": "code",
   "execution_count": 5,
   "metadata": {},
   "outputs": [
    {
     "name": "stdout",
     "output_type": "stream",
     "text": [
      "0.69\n"
     ]
    }
   ],
   "source": [
    "classifier1, accuracy1 = get_classifier_and_mean_accuracy([1.0, 5.0], funzione_tokenize=nltk.word_tokenize)\n",
    "print(accuracy1)"
   ]
  },
  {
   "cell_type": "code",
   "execution_count": 6,
   "metadata": {},
   "outputs": [
    {
     "name": "stdout",
     "output_type": "stream",
     "text": [
      "Most Informative Features\n",
      "         contains(money) = True              1.0 : 5.0    =     17.0 : 1.0\n",
      "         contains(worst) = True              1.0 : 5.0    =     13.0 : 1.0\n",
      "        contains(boring) = True              1.0 : 5.0    =     11.7 : 1.0\n",
      "           contains(bad) = True              1.0 : 5.0    =     11.0 : 1.0\n",
      "       contains(awesome) = True              5.0 : 1.0    =     10.3 : 1.0\n",
      "   contains(playstation) = True              1.0 : 5.0    =      9.7 : 1.0\n",
      "         contains(loves) = True              5.0 : 1.0    =      8.3 : 1.0\n",
      "          contains(star) = True              1.0 : 5.0    =      8.3 : 1.0\n",
      "         contains(later) = True              1.0 : 5.0    =      7.7 : 1.0\n",
      "    contains(completely) = True              1.0 : 5.0    =      6.3 : 1.0\n"
     ]
    }
   ],
   "source": [
    "classifier1.show_most_informative_features(10)"
   ]
  },
  {
   "attachments": {},
   "cell_type": "markdown",
   "metadata": {},
   "source": [
    "## Versione 2: Sentiment tokenizer di Christopher Potts con due classi"
   ]
  },
  {
   "cell_type": "code",
   "execution_count": 7,
   "metadata": {},
   "outputs": [
    {
     "name": "stdout",
     "output_type": "stream",
     "text": [
      "0.67\n"
     ]
    }
   ],
   "source": [
    "classifier2, accuracy2 = get_classifier_and_mean_accuracy([1.0, 5.0], funzione_tokenize=Tokenizer().tokenize)\n",
    "print(accuracy2)"
   ]
  },
  {
   "cell_type": "code",
   "execution_count": 8,
   "metadata": {},
   "outputs": [
    {
     "name": "stdout",
     "output_type": "stream",
     "text": [
      "Most Informative Features\n",
      "         contains(waste) = True              1.0 : 5.0    =     17.7 : 1.0\n",
      "           contains(bad) = True              1.0 : 5.0    =     13.0 : 1.0\n",
      "        contains(boring) = True              1.0 : 5.0    =     10.3 : 1.0\n",
      "       contains(awesome) = True              5.0 : 1.0    =      9.7 : 1.0\n",
      "         contains(money) = True              1.0 : 5.0    =      7.2 : 1.0\n",
      "        contains(action) = True              1.0 : 5.0    =      7.0 : 1.0\n",
      "         contains(sucks) = True              1.0 : 5.0    =      7.0 : 1.0\n",
      "         contains(thank) = True              5.0 : 1.0    =      7.0 : 1.0\n",
      "       contains(thought) = True              1.0 : 5.0    =      7.0 : 1.0\n",
      "        contains(cannot) = True              1.0 : 5.0    =      6.3 : 1.0\n"
     ]
    }
   ],
   "source": [
    "classifier2.show_most_informative_features(10)"
   ]
  },
  {
   "attachments": {},
   "cell_type": "markdown",
   "metadata": {},
   "source": [
    "## Versione 3: Classificazione a cinque classi"
   ]
  },
  {
   "cell_type": "code",
   "execution_count": 9,
   "metadata": {},
   "outputs": [
    {
     "name": "stdout",
     "output_type": "stream",
     "text": [
      "0.32\n"
     ]
    }
   ],
   "source": [
    "classifier3, accuracy3 = get_classifier_and_mean_accuracy([float(i) for i in range(1,6)],limite=100, funzione_tokenize=nltk.word_tokenize)\n",
    "print(accuracy3)"
   ]
  },
  {
   "attachments": {},
   "cell_type": "markdown",
   "metadata": {},
   "source": [
    "## Confronto tra le versioni\n",
    "L'accuracy migliore è stata ottenuta con il sentiment tokenizer di Christopher Potts (<MARK>METTERE VALORE MEDIO</mark>). <br>\n",
    "L'accuracy peggiore, invece, è stata ottenuta con la versione a cinque classi  (<MARK>METTERE VALORE MEDIO</mark>). <br>\n",
    "L'accuracy della versione originale a due classi con nltk è a metà tra le due precedenti  (<MARK>METTERE VALORE MEDIO</mark>). "
   ]
  },
  {
   "cell_type": "code",
   "execution_count": 10,
   "metadata": {},
   "outputs": [
    {
     "data": {
      "image/png": "[encoded data removed]",
      "text/plain": [
       "<Figure size 640x480 with 1 Axes>"
      ]
     },
     "metadata": {},
     "output_type": "display_data"
    }
   ],
   "source": [
    "import matplotlib.pyplot as plt\n",
    "x_plot = [\"Versione 1\", \"Versione 2\", \"Versione 3\"]\n",
    "y_plot = [accuracy1, accuracy2, accuracy3]\n",
    "plt.plot(x_plot, y_plot, label = \"line 2\")\n",
    "plt.title('Accuracy delle versioni')\n",
    "plt.grid()\n"
   ]
  },
  {
   "attachments": {},
   "cell_type": "markdown",
   "metadata": {},
   "source": [
    "## Cambio di feature\n",
    "Per cercare di aumentare la accuracy, proverò ora a cambiare le feature.\n",
    "\n",
    "### Versione 4: Uso del field \"summary\""
   ]
  },
  {
   "cell_type": "code",
   "execution_count": 11,
   "metadata": {},
   "outputs": [
    {
     "name": "stdout",
     "output_type": "stream",
     "text": [
      "0.69\n"
     ]
    }
   ],
   "source": [
    "classifier4, accuracy4 = get_classifier_and_mean_accuracy([1.0, 5.0], field=\"summary\", funzione_tokenize=nltk.word_tokenize)\n",
    "print(accuracy4)"
   ]
  },
  {
   "attachments": {},
   "cell_type": "markdown",
   "metadata": {},
   "source": [
    "### Versione 5: uso dei soli aggettivi"
   ]
  },
  {
   "cell_type": "code",
   "execution_count": 12,
   "metadata": {},
   "outputs": [
    {
     "name": "stdout",
     "output_type": "stream",
     "text": [
      "0.57\n"
     ]
    }
   ],
   "source": [
    "def filtra_reviews(reviews):\n",
    "    reviews5 = []\n",
    "    for (lista_parole,classe) in reviews:\n",
    "        solo_aggettivi = []\n",
    "        for par in lista_parole:\n",
    "            tmp = wn.synsets(par)\n",
    "            if len(tmp) > 0 and tmp[0].pos() == \"a\":\n",
    "                solo_aggettivi.append(par)\n",
    "        if solo_aggettivi != []:\n",
    "            reviews5.append((solo_aggettivi,classe)) \n",
    "    return reviews5\n",
    "\n",
    "classifier5, accuracy5 = get_classifier_and_mean_accuracy([1.0, 5.0], funzione_tokenize=nltk.word_tokenize, funzione_filtra_reviews=filtra_reviews)\n",
    "print(accuracy5)"
   ]
  },
  {
   "attachments": {},
   "cell_type": "markdown",
   "metadata": {},
   "source": [
    "### Versione 6: uso della frequency word invece della occurrence"
   ]
  },
  {
   "cell_type": "code",
   "execution_count": 13,
   "metadata": {},
   "outputs": [
    {
     "data": {
      "text/plain": [
       "0.64"
      ]
     },
     "execution_count": 13,
     "metadata": {},
     "output_type": "execute_result"
    }
   ],
   "source": [
    "def conta_parole(words):\n",
    "    wfreq=[words.count(w) for w in words]\n",
    "    return dict(zip(words,wfreq))\n",
    "\n",
    "classifier6, accuracy6 = get_classifier_and_mean_accuracy([1.0, 5.0], funzione_tokenize=nltk.word_tokenize, feat_extractor=conta_parole)\n",
    "accuracy6"
   ]
  },
  {
   "attachments": {},
   "cell_type": "markdown",
   "metadata": {},
   "source": [
    "## Uso della libreria Scikit-learn\n",
    "Proverò ora a passare alla libreria \"Scikit-learn\". \n"
   ]
  },
  {
   "attachments": {},
   "cell_type": "markdown",
   "metadata": {},
   "source": [
    "### Versione 7: Classificatore Support Vector Machines (SVM)\n",
    "Nelle versioni viste finora, ho sempre fatto uso del classificatore Naive Bayes di nltk. Proverò ora a modificarlo, per cercare di migliorare l'accuracy."
   ]
  },
  {
   "cell_type": "code",
   "execution_count": 14,
   "metadata": {},
   "outputs": [
    {
     "name": "stdout",
     "output_type": "stream",
     "text": [
      "0.88\n"
     ]
    }
   ],
   "source": [
    "# Creo il train e test set\n",
    "reviews7 = getReviewData([1.0, 5.0], limite=1000)\n",
    "\n",
    "train_data, train_target, test_data, test_target = get_train_test_data_target(reviews7)\n",
    "\n",
    "# Classificatore\n",
    "text_clf = Pipeline([('vect', CountVectorizer()), ('tfidf', TfidfTransformer()),('clf', svm.SVC()),])\n",
    "text_clf.fit(train_data, train_target)\n",
    "predicted = text_clf.predict(test_data)\n",
    "\n",
    "# Cross-validation\n",
    "cv = ShuffleSplit(n_splits=50, test_size=0.2, random_state=0)\n",
    "scores = cross_val_score(text_clf, test_data, test_target, cv=cv)\n",
    "accuracy7 = round(sum(scores)/len(scores), 2)\n",
    "print(accuracy7)\n"
   ]
  },
  {
   "attachments": {},
   "cell_type": "markdown",
   "metadata": {},
   "source": [
    "### Versione 8: Grid-search"
   ]
  },
  {
   "cell_type": "code",
   "execution_count": 15,
   "metadata": {},
   "outputs": [
    {
     "name": "stdout",
     "output_type": "stream",
     "text": [
      "Accuracy:  0.89\n"
     ]
    }
   ],
   "source": [
    "from sklearn.model_selection import GridSearchCV\n",
    "from sklearn.naive_bayes import MultinomialNB\n",
    "\n",
    "reviews8 = getReviewData([1.0, 5.0], limite=1000)\n",
    "train_data, train_target, test_data, test_target = get_train_test_data_target(reviews8)\n",
    "\n",
    "\n",
    "text_clf = Pipeline([('vect', CountVectorizer()), ('tfidf', TfidfTransformer()),('clf', MultinomialNB()),])\n",
    "text_clf.fit(train_data, train_target)\n",
    "\n",
    "parameters = {'vect__ngram_range': [(1, 1), (1, 2)], 'tfidf__use_idf': (True, False), 'clf__alpha': (1e-2, 1e-3),}\n",
    "cv = ShuffleSplit(n_splits=50, test_size=0.2, random_state=0)\n",
    "\n",
    "gs_clf = GridSearchCV(text_clf, parameters, cv=cv, n_jobs=-1)\n",
    "gs_clf = gs_clf.fit(train_data, train_target)\n",
    "predicted = gs_clf.predict(test_data)\n",
    "\n",
    "scores = cross_val_score(text_clf, test_data, test_target, cv=cv)\n",
    "accuracy8 = round(sum(scores)/len(scores), 2)\n",
    "\n",
    "print(\"Accuracy: \", accuracy8)"
   ]
  },
  {
   "attachments": {},
   "cell_type": "markdown",
   "metadata": {},
   "source": [
    "### Versione 9: uso di demo_liu_hu_lexicon come feture extractor \n",
    "<mark> TODO mettere questo capitolo da un'altra parte spostare da qui"
   ]
  },
  {
   "cell_type": "code",
   "execution_count": 16,
   "metadata": {},
   "outputs": [],
   "source": [
    "def mio_demo_liu_hu_lexicon(sentence):\n",
    "    \"\"\" Questo codice e' lo stesso della funzione nltk.sentiment.util.demo_liu_hu_lexicon, ma: \n",
    "    - al posto di print(\"Positive\") ho messo return {\"sent\":\"Positive\"}. Stessa cosa per \"Negative\" e \"Neutral\". \n",
    "    - Inoltre, ho permesso di dare in input alla funzione una lista di stringhe, invece che una stringa TODO scrivi meglio\n",
    "    \"\"\"\n",
    "    from nltk.corpus import opinion_lexicon\n",
    "    from nltk.tokenize import treebank\n",
    "\n",
    "    \n",
    "    tokenizer = treebank.TreebankWordTokenizer()\n",
    "    pos_words = 0\n",
    "    neg_words = 0\n",
    "\n",
    "    if not type(sentence) is list:\n",
    "        tokenized_sent = [word.lower() for word in tokenizer.tokenize(sentence)]\n",
    "    else:\n",
    "        tokenized_sent = [word.lower() for word in sentence]\n",
    "\n",
    "    x = list(range(len(tokenized_sent)))  # x axis for the plot\n",
    "    y = []\n",
    "\n",
    "    for word in tokenized_sent:\n",
    "        if word in opinion_lexicon.positive():\n",
    "            pos_words += 1\n",
    "            y.append(1)  # positive\n",
    "        elif word in opinion_lexicon.negative():\n",
    "            neg_words += 1\n",
    "            y.append(-1)  # negative\n",
    "        else:\n",
    "            y.append(0)  # neutral\n",
    "\n",
    "    if pos_words > neg_words:\n",
    "        return {\"sent\":\"Positive\"}\n",
    "    elif pos_words < neg_words:\n",
    "        return {\"sent\":\"Negative\"}\n",
    "    elif pos_words == neg_words:\n",
    "        return {\"sent\":\"Neutral\"}"
   ]
  },
  {
   "cell_type": "code",
   "execution_count": 17,
   "metadata": {},
   "outputs": [
    {
     "data": {
      "text/plain": [
       "0.77"
      ]
     },
     "execution_count": 17,
     "metadata": {},
     "output_type": "execute_result"
    }
   ],
   "source": [
    "classifier9, accuracy9 = get_classifier_and_mean_accuracy([1.0, 5.0],feat_extractor=mio_demo_liu_hu_lexicon, limite=10)\n",
    "accuracy9"
   ]
  },
  {
   "attachments": {},
   "cell_type": "markdown",
   "metadata": {},
   "source": [
    "### Versione 10: Hyperlane"
   ]
  },
  {
   "cell_type": "code",
   "execution_count": 18,
   "metadata": {},
   "outputs": [
    {
     "name": "stdout",
     "output_type": "stream",
     "text": [
      "0.86\n"
     ]
    }
   ],
   "source": [
    "from sklearn.linear_model import SGDClassifier\n",
    "\n",
    "# Creo il train e test set\n",
    "reviews10 = getReviewData([1.0, 5.0], limite=1000)\n",
    "train_data, train_target, test_data, test_target = get_train_test_data_target(reviews10)\n",
    "\n",
    "# Classificatore\n",
    "text_clf = Pipeline([('vect', CountVectorizer()), ('tfidf', TfidfTransformer()), ('clf', SGDClassifier(loss='hinge', penalty='l2', alpha=1e-3, random_state=42, max_iter=5, tol=None)),])\n",
    "text_clf.fit(train_data, train_target)\n",
    "predicted = text_clf.predict(test_data)\n",
    "\n",
    "# Cross-validation\n",
    "cv = ShuffleSplit(n_splits=50, test_size=0.2, random_state=0)\n",
    "scores = cross_val_score(text_clf, test_data, test_target, cv=cv)\n",
    "accuracy10 = round(sum(scores)/len(scores), 2)\n",
    "print(accuracy10)\n"
   ]
  },
  {
   "attachments": {},
   "cell_type": "markdown",
   "metadata": {},
   "source": [
    "### Versione 11: lemmatizer invece di tokenizer"
   ]
  },
  {
   "cell_type": "code",
   "execution_count": 19,
   "metadata": {},
   "outputs": [
    {
     "name": "stdout",
     "output_type": "stream",
     "text": [
      "0.69\n"
     ]
    }
   ],
   "source": [
    "from nltk.stem import WordNetLemmatizer\n",
    "from nltk.corpus import stopwords\n",
    "import re\n",
    "\n",
    "stop_words = stopwords.words('english')\n",
    "wnl = WordNetLemmatizer()\n",
    "def filtra_non_stop_words(reviews):\n",
    "    reviews = [(re.sub(\"@\\S+|https?:\\S+|http?:\\S|[^A-Za-z0-9]+\", ' ', str(testo_recensione).lower()).strip(), classe) for (testo_recensione, classe) in reviews]\n",
    "    reviews = [([wnl.lemmatize(parola) for parola in testo_recensione.split(\" \") if parola not in stop_words], classe) for (testo_recensione,classe) in reviews]\n",
    "    return reviews\n",
    "\n",
    "classifier11, accuracy11 = get_classifier_and_mean_accuracy([1.0, 5.0], funzione_filtra_reviews=filtra_non_stop_words)\n",
    "# print([ for i in \"hi how are you\".split(\" \")])\n",
    "print(accuracy11)"
   ]
  },
  {
   "attachments": {},
   "cell_type": "markdown",
   "metadata": {},
   "source": [
    "## Uso di XGBoost"
   ]
  },
  {
   "cell_type": "code",
   "execution_count": 20,
   "metadata": {},
   "outputs": [
    {
     "name": "stdout",
     "output_type": "stream",
     "text": [
      "Accuracy: 0.785\n"
     ]
    }
   ],
   "source": [
    "import xgboost as xgb\n",
    "import numpy as np\n",
    "from sklearn.metrics import accuracy_score\n",
    "\n",
    "reviews12 = getReviewData([1.0, 5.0], limite=1000)\n",
    "train_data, train_target, test_data, test_target = get_train_test_data_target(reviews12)\n",
    "\n",
    "cv = CountVectorizer(binary = True)\n",
    "cv.fit(train_data)\n",
    "train_transform = cv.transform(train_data)\n",
    "test_transform = cv.transform(test_data)\n",
    "\n",
    "# Trasformo i target del trainset e testset in un formato adatto a xgboost\n",
    "train_target = [0 if target==\"1.0\" else 1 for target in train_target]\n",
    "test_target = [0 if target==\"1.0\" else 1 for target in test_target]\n",
    "\n",
    "## Training and Predicting\n",
    "train_matrix = xgb.DMatrix(train_transform, train_target)      \n",
    "test_matrix = xgb.DMatrix(test_transform, test_target)\n",
    "# param = {'eta': 0.75, 'max_depth': 50, 'objective': 'binary:logitraw'}\n",
    "param = {'objective': 'binary:hinge'}    \n",
    "# param = {}\n",
    "# binary:hinge\n",
    "classifier12 = xgb.train(param, train_matrix, num_boost_round = 30)\n",
    "predicted_test = classifier12.predict(test_matrix).tolist()\n",
    "# predicted_test = [1 if x>0.5 else 0 for x in predicted_test]\n",
    "\n",
    "# Accuracy\n",
    "accuracy12 = accuracy_score(test_target, predicted_test)\n",
    "print(\"Accuracy:\",  accuracy12)# 0.9247195373643664"
   ]
  },
  {
   "attachments": {},
   "cell_type": "markdown",
   "metadata": {},
   "source": [
    "## Risultati"
   ]
  },
  {
   "cell_type": "code",
   "execution_count": 21,
   "metadata": {},
   "outputs": [
    {
     "data": {
      "image/png": "[encoded data removed]",
      "text/plain": [
       "<Figure size 1000x500 with 1 Axes>"
      ]
     },
     "metadata": {},
     "output_type": "display_data"
    }
   ],
   "source": [
    "\n",
    "num_versioni = 12\n",
    "x_titoli = []\n",
    "y_accuracy = []\n",
    "for i in range(1, num_versioni+1):\n",
    "    eval(\"x_titoli.append('Versione \"+str(i)+\"')\")\n",
    "    eval(\"y_accuracy.append(accuracy\"+str(i)+\")\")\n",
    "plt.rcParams[\"figure.figsize\"] = (10,5)\n",
    "\n",
    "plt.plot(x_titoli, y_accuracy)\n",
    "for i in range(num_versioni):\n",
    "    if y_accuracy[i] == max(y_accuracy):\n",
    "        plt.text(x_titoli[i], y_accuracy[i], str(y_accuracy[i]), color=\"red\", weight='bold')\n",
    "    else:\n",
    "        plt.text(x_titoli[i], y_accuracy[i], str(y_accuracy[i]))\n",
    "\n",
    "plt.title('Accuracy delle versioni')\n",
    "plt.grid()\n"
   ]
  },
  {
   "cell_type": "code",
   "execution_count": null,
   "metadata": {},
   "outputs": [],
   "source": []
  }
 ],
 "metadata": {
  "kernelspec": {
   "display_name": "Python 3",
   "language": "python",
   "name": "python3"
  },
  "language_info": {
   "codemirror_mode": {
    "name": "ipython",
    "version": 3
   },
   "file_extension": ".py",
   "mimetype": "text/x-python",
   "name": "python",
   "nbconvert_exporter": "python",
   "pygments_lexer": "ipython3",
   "version": "3.11.0"
  },
  "orig_nbformat": 4,
  "vscode": {
   "interpreter": {
    "hash": "a29d3b88d3d770f4c6b76b3f467a825cd9493448f3062cde152f1e267121f11d"
   }
  }
 },
 "nbformat": 4,
 "nbformat_minor": 2
}

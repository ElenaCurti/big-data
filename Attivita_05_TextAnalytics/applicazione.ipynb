{
 "cells": [
  {
   "attachments": {},
   "cell_type": "markdown",
   "metadata": {},
   "source": [
    "<center>Progetto realizzato da Elena Curti (matr. 185431)\n",
    "\n",
    "# Sentiment analysis – Amazon reviews\n",
    "</center>"
   ]
  },
  {
   "attachments": {},
   "cell_type": "markdown",
   "metadata": {},
   "source": [
    "## Introduzione\n",
    "L'obiettivo del progetto proposto è di creare un classificatore di sentiment analysis su un insieme di recensioni di Amazon. Partendo da una prima versione del classificatore, esso verrà gradualmente modificato con l'obiettivo di migliorarne l'accuratezza.  <br>\n",
    "\n",
    "\n",
    "## Requisiti\n",
    "Questo progetto è stato realizzato con Python 3.11. E' necessaria l'installazione di MongoDB e dei seguenti pacchetti python:"
   ]
  },
  {
   "cell_type": "code",
   "execution_count": 1,
   "metadata": {},
   "outputs": [],
   "source": [
    "# !pip install happiestfuntokenizing xgboost spacy\n",
    "# !python -m spacy download en_core_web_s"
   ]
  },
  {
   "attachments": {},
   "cell_type": "markdown",
   "metadata": {},
   "source": [
    "## Operazioni iniziali\n",
    "Uso il seguente script per collegarmi al database con le recensioni:"
   ]
  },
  {
   "cell_type": "code",
   "execution_count": 2,
   "metadata": {},
   "outputs": [],
   "source": [
    "from pymongo import MongoClient\n",
    "\n",
    "client = MongoClient('localhost', 27017)\n",
    "DATABASE = client.test"
   ]
  },
  {
   "attachments": {},
   "cell_type": "markdown",
   "metadata": {},
   "source": [
    "Creo una classe usata per nascondere le print di alcune funzioni:"
   ]
  },
  {
   "cell_type": "code",
   "execution_count": 3,
   "metadata": {},
   "outputs": [],
   "source": [
    "import os, sys\n",
    "\n",
    "class HiddenPrints:\n",
    "    def __enter__(self):\n",
    "        self._original_stdout = sys.stdout\n",
    "        sys.stdout = open(os.devnull, 'w')\n",
    "\n",
    "    def __exit__(self, exc_type, exc_val, exc_tb):\n",
    "        sys.stdout.close()\n",
    "        sys.stdout = self._original_stdout"
   ]
  },
  {
   "attachments": {},
   "cell_type": "markdown",
   "metadata": {},
   "source": [
    "Creo due funzioni che verranno usate nel seguito per:\n",
    "- Recuperare le recensioni dal database\n",
    "- Trovare il classificatore e la relativa accuracy media (facendo 50 run)"
   ]
  },
  {
   "cell_type": "code",
   "execution_count": 4,
   "metadata": {},
   "outputs": [],
   "source": [
    "import nltk, random\n",
    "from nltk.sentiment.util import mark_negation, extract_unigram_feats\n",
    "from nltk.sentiment.sentiment_analyzer import SentimentAnalyzer\n",
    "from nltk.classify import NaiveBayesClassifier\n",
    "\n",
    "NUM_RUN = 50\n",
    "REVIEWS_PER_CLASSE = 1000\n",
    "REVIEWS_PER_CLASSE_TEST = 100\n",
    "\n",
    "def getReviewData(lista_overall,  field=\"reviewText\", funzione_tokenize=None):\n",
    "    \"\"\" \n",
    "    Questa funzione ritorna una lista di tuple (rec, classe) dove rec è la recensione e classe è la classificazione (es. 1.0 o 5.0).\n",
    "        - lista_overall è la lista delle classi (campo overall delle review)\n",
    "        - field è il campo della review che si vuole ottenere\n",
    "        - funzione_tokenize è la funzione usata per tokenizzare il testo della review. Se non dato, la lista ritornata conterra' il contenuto del campo field\n",
    "    \"\"\"\n",
    "    reviews = []\n",
    "    for overall in lista_overall:\n",
    "        for review in DATABASE.reviews.find({\"overall\": overall}).limit(REVIEWS_PER_CLASSE):\n",
    "        # for review in DATABASE.reviews.aggregate([\n",
    "        #     { '$match' :{\"overall\": overall}},  \n",
    "        #     { '$match': { '$expr': { '$lt': [0.5, {'$rand': {} } ] } } },   # Prendo le reviews in modo random ogni volta\n",
    "        #     { '$limit' : REVIEWS_PER_CLASSE}]):\n",
    "            if funzione_tokenize == None:\n",
    "                reviews.append((review[field],str(overall))) \n",
    "            else:\n",
    "                reviews.append(([str(i).lower() for i in funzione_tokenize(review[field])],str(overall))) \n",
    "            \n",
    "    random.shuffle(reviews) \n",
    "    return reviews \n",
    "\n",
    "def get_classifier_and_mean_accuracy(lista_overall, funzione_filtra_reviews=lambda x:x, feat_extractor=None,  **kwargs):\n",
    "    \"\"\"\n",
    "    Questa funzione ritorna il classifier e la relativa accuracy media.  \n",
    "        - lista_overall è la lista delle classi (campo overall delle review)\n",
    "        - funzione_filtra_reviews è una funzione che viene chiamata per cambiare le reviews da esaminare. \n",
    "          funzione_filtra_reviews prende in ingresso le reviews estratte (lista di tuple (rec, classe)). \n",
    "          funzione_filtra_reviews può poi, ad esempio, selezionare solo alcune parole (es. solo gli aggettivi) dai testi delle recensioni.\n",
    "          Infine, essa deve ritornare le reviews modificate.\n",
    "        - feat_extractor è una funzione che viene usata nell'add_feat_extractor del sentiment analyzer. \n",
    "          Se omessa, viene usata extract_unigram_feats. \n",
    "          Altrimenti, feat_extractor deve essere una funzione che prende in input i soli documenti\n",
    "        - i restanti parametri opzionali saranno dati in input a getReviewData\n",
    "    \"\"\"\n",
    "\n",
    "    # Run dei test e accuracy\n",
    "    accuracy = []\n",
    "\n",
    "    # Prendo le reviews\n",
    "    reviews = getReviewData(lista_overall, **kwargs)\n",
    "    reviews = funzione_filtra_reviews(reviews)\n",
    "    sentimAnalyzer = SentimentAnalyzer() \n",
    "\n",
    "    # e le features\n",
    "    if feat_extractor == None:\n",
    "        allWordsNeg = sentimAnalyzer.all_words([mark_negation(doc) for doc in reviews])    \n",
    "        unigramFeats = sentimAnalyzer.unigram_word_feats(allWordsNeg, min_freq=4)   \n",
    "        sentimAnalyzer.add_feat_extractor(extract_unigram_feats, unigrams=unigramFeats)\n",
    "    else:\n",
    "        sentimAnalyzer.add_feat_extractor(feat_extractor)\n",
    "\n",
    "    featureSets = list(sentimAnalyzer.apply_features(reviews))\n",
    "\n",
    "    for i in range(NUM_RUN):\n",
    "        \n",
    "        random.shuffle(featureSets) \n",
    "        trainSet, testSet = featureSets[REVIEWS_PER_CLASSE_TEST:], featureSets[:REVIEWS_PER_CLASSE_TEST]\n",
    "\n",
    "        # Classificatore e accuracy\n",
    "        with HiddenPrints(): \n",
    "            classifier = sentimAnalyzer.train(NaiveBayesClassifier.train, trainSet)\n",
    "            evalu = sentimAnalyzer.evaluate(testSet)\n",
    "\n",
    "        accuracy.append(evalu[\"Accuracy\"])\n",
    "\n",
    "    return classifier, round(sum(accuracy)/len(accuracy), 4) "
   ]
  },
  {
   "attachments": {},
   "cell_type": "markdown",
   "metadata": {},
   "source": [
    "## Versione 1 (originale): Word tokenizer di nltk con due classi\n",
    "Per questa prima versione:\n",
    "- recupero il campo \"reviewText\" delle recensioni positive (5 stelle) e negative (1 stella)\n",
    "- uso la funzione  ```word_tokenize``` fornita da nltk per tokenizzare il testo\n",
    "- uso come feature la word occurrency\n",
    "- trovo il classificatore e l'accuracy media"
   ]
  },
  {
   "cell_type": "code",
   "execution_count": 5,
   "metadata": {},
   "outputs": [
    {
     "name": "stdout",
     "output_type": "stream",
     "text": [
      "Accuracy: 0.8551\n"
     ]
    }
   ],
   "source": [
    "classifier1, accuracy1 = get_classifier_and_mean_accuracy([1.0, 5.0], funzione_tokenize=nltk.word_tokenize)\n",
    "print(\"Accuracy:\", accuracy1)\n",
    "\n",
    "dizionario_plot = {}   # Dizionario usato alla fine per stampare i risultati graficamente\n",
    "dizionario_plot[\"1.Originale\"] = accuracy1"
   ]
  },
  {
   "cell_type": "markdown",
   "metadata": {},
   "source": [
    "Abbiamo ottenuto una buona accuracy. Proviamo a vedere quali parole sono state le più significative per il classificatore:"
   ]
  },
  {
   "cell_type": "code",
   "execution_count": 6,
   "metadata": {},
   "outputs": [
    {
     "name": "stdout",
     "output_type": "stream",
     "text": [
      "Most Informative Features\n",
      "         contains(sucks) = True              1.0 : 5.0    =     29.2 : 1.0\n",
      "         contains(waste) = True              1.0 : 5.0    =     22.5 : 1.0\n",
      "     contains(computers) = True              1.0 : 5.0    =     14.5 : 1.0\n",
      "     contains(fantastic) = True              5.0 : 1.0    =     12.9 : 1.0\n",
      "       contains(stopped) = True              1.0 : 5.0    =     11.8 : 1.0\n",
      "          contains(lame) = True              1.0 : 5.0    =     11.1 : 1.0\n",
      "        contains(unable) = True              1.0 : 5.0    =     11.1 : 1.0\n",
      "        contains(wasted) = True              1.0 : 5.0    =     10.4 : 1.0\n",
      "         contains(worst) = True              1.0 : 5.0    =     10.3 : 1.0\n",
      "   contains(comfortable) = True              5.0 : 1.0    =     10.2 : 1.0\n"
     ]
    }
   ],
   "source": [
    "classifier1.show_most_informative_features()"
   ]
  },
  {
   "attachments": {},
   "cell_type": "markdown",
   "metadata": {},
   "source": [
    "Come facilmente intuibile, se una recensione contiene parole negative (es. waste, horrible) sarà più probabilmente negativa. Stessa cosa vale per le parole positive."
   ]
  },
  {
   "attachments": {},
   "cell_type": "markdown",
   "metadata": {},
   "source": [
    "## Versione 2: Sentiment tokenizer di Christopher Potts con due classi\n",
    "Provo ora a modificare la versione precedente usando la funzione ```tokenize``` di Christopher Potts al posto di ```nltk.word_tokenize```:"
   ]
  },
  {
   "cell_type": "code",
   "execution_count": 7,
   "metadata": {},
   "outputs": [
    {
     "name": "stdout",
     "output_type": "stream",
     "text": [
      "Accuracy: 0.8628\n"
     ]
    }
   ],
   "source": [
    "from happiestfuntokenizing.happiestfuntokenizing import Tokenizer\n",
    "classifier2, accuracy2 = get_classifier_and_mean_accuracy([1.0, 5.0], funzione_tokenize=Tokenizer().tokenize)\n",
    "print(\"Accuracy:\", accuracy2)\n",
    "dizionario_plot[\"2.ChrisPott\"] = accuracy2"
   ]
  },
  {
   "attachments": {},
   "cell_type": "markdown",
   "metadata": {},
   "source": [
    "Questa volta abbiamo ottenuto una accuracy peggiore (la differenza tra le due è comunque minima). Di nuovo, stampo le features più significative nelle reviews:"
   ]
  },
  {
   "cell_type": "code",
   "execution_count": 8,
   "metadata": {},
   "outputs": [
    {
     "name": "stdout",
     "output_type": "stream",
     "text": [
      "Most Informative Features\n",
      "         contains(sucks) = True              1.0 : 5.0    =     31.9 : 1.0\n",
      "         contains(waste) = True              1.0 : 5.0    =     27.7 : 1.0\n",
      "     contains(computers) = True              1.0 : 5.0    =     14.4 : 1.0\n",
      "         contains(worst) = True              1.0 : 5.0    =     11.7 : 1.0\n",
      "       contains(stopped) = True              1.0 : 5.0    =     11.7 : 1.0\n",
      "   contains(comfortable) = True              5.0 : 1.0    =     11.6 : 1.0\n",
      "           contains(ff7) = True              1.0 : 5.0    =     11.1 : 1.0\n",
      "          contains(lame) = True              1.0 : 5.0    =     11.1 : 1.0\n",
      "         contains(rings) = True              1.0 : 5.0    =     11.1 : 1.0\n",
      "          contains(grip) = True              5.0 : 1.0    =     10.5 : 1.0\n"
     ]
    }
   ],
   "source": [
    "classifier2.show_most_informative_features()"
   ]
  },
  {
   "attachments": {},
   "cell_type": "markdown",
   "metadata": {},
   "source": [
    "Notiamo subito che non c'è molta differenza tra le parole estratte in questa versione e nella precedente. In entrambi i casi, le features più significative sono le parole negative o positive. Questo è probabilmente il motivo per cui i due classificatori hanno un'accuracy molto simile."
   ]
  },
  {
   "attachments": {},
   "cell_type": "markdown",
   "metadata": {},
   "source": [
    "## Versione 3: Classificazione a cinque classi\n",
    "Proverò questa volta ad aggiungere anche le recensioni con 2, 3 e 4 stelle:"
   ]
  },
  {
   "cell_type": "code",
   "execution_count": 9,
   "metadata": {},
   "outputs": [
    {
     "name": "stdout",
     "output_type": "stream",
     "text": [
      "Accuracy: 0.4322\n"
     ]
    }
   ],
   "source": [
    "classifier3, accuracy3 = get_classifier_and_mean_accuracy([float(i) for i in range(1,6)], funzione_tokenize=Tokenizer().tokenize)\n",
    "print(\"Accuracy:\", accuracy3)\n",
    "dizionario_plot[\"3.Cinque classi\"] = accuracy3"
   ]
  },
  {
   "attachments": {},
   "cell_type": "markdown",
   "metadata": {},
   "source": [
    "Come ci si poteva aspettare, l'accuracy è drasticamente peggiorata. Infatti, il classificatore farà sicuramente più fatica a classificare una recensione con parole positive, perché essa potrebbe essere sia a 4 che a 5 stelle. Vale lo stesso per una recensione con parole negative."
   ]
  },
  {
   "cell_type": "code",
   "execution_count": 10,
   "metadata": {},
   "outputs": [
    {
     "name": "stdout",
     "output_type": "stream",
     "text": [
      "Most Informative Features\n",
      "         contains(sucks) = True              1.0 : 5.0    =     33.5 : 1.0\n",
      "         contains(cloud) = True              1.0 : 4.0    =     26.4 : 1.0\n",
      "       contains(collect) = True              4.0 : 1.0    =     25.0 : 1.0\n",
      "         contains(waste) = True              1.0 : 5.0    =     22.0 : 1.0\n",
      "        contains(roller) = True              3.0 : 4.0    =     19.1 : 1.0\n",
      "      contains(superman) = True              1.0 : 2.0    =     19.0 : 1.0\n",
      "         contains(areas) = True              2.0 : 1.0    =     18.4 : 1.0\n",
      "          contains(bugs) = True              2.0 : 5.0    =     18.3 : 1.0\n",
      "           contains(wii) = True              5.0 : 2.0    =     18.2 : 1.0\n",
      "       contains(coaster) = True              3.0 : 5.0    =     17.7 : 1.0\n"
     ]
    }
   ],
   "source": [
    "classifier3.show_most_informative_features()"
   ]
  },
  {
   "attachments": {},
   "cell_type": "markdown",
   "metadata": {},
   "source": [
    "A differenza dei precedenti classificatori, stavolta tra le feature più significative sono presenti anche parole neutre (es. <i>kart</i> o <i>zombies</i>). Anche per questo motivo probabilmente il classificatore sbaglia a classificare le recensioni. <br>\n",
    "Non avendo migliorato l'accuracy, nel seguito continuerò ad usare le sole recensioni a cinque e a una stella."
   ]
  },
  {
   "attachments": {},
   "cell_type": "markdown",
   "metadata": {},
   "source": [
    "## Cambio delle feature\n",
    "Fin ora ho sempre considerato come feature la presenza (word occurrency) di tutte le parole tokenizzate del field \"reviewText\" delle recensioni. Proverò in questo paragrafo a cambiare le features estratte, per cercare di aumentare l'accuracy del classificatore.\n",
    "\n",
    "### Versione 4: Uso del field \"summary\"\n",
    "Nelle reviews è presente un campo \"summary\" contenente poche parole che riassumono il testo della recensione. Proverò quindi ad usare questo campo invece dell'intero testo:"
   ]
  },
  {
   "cell_type": "code",
   "execution_count": 11,
   "metadata": {},
   "outputs": [
    {
     "name": "stdout",
     "output_type": "stream",
     "text": [
      "Accuracy: 0.7704\n"
     ]
    }
   ],
   "source": [
    "classifier4, accuracy4 = get_classifier_and_mean_accuracy([1.0, 5.0], field=\"summary\", funzione_tokenize=Tokenizer().tokenize)\n",
    "print(\"Accuracy:\", accuracy4)\n",
    "dizionario_plot[\"4.Summary\"] = accuracy4"
   ]
  },
  {
   "cell_type": "code",
   "execution_count": 12,
   "metadata": {},
   "outputs": [
    {
     "name": "stdout",
     "output_type": "stream",
     "text": [
      "Most Informative Features\n",
      "         contains(works) = True              5.0 : 1.0    =     41.2 : 1.0\n",
      "         contains(don't) = True              1.0 : 5.0    =     30.5 : 1.0\n",
      "       contains(awesome) = True              5.0 : 1.0    =     21.7 : 1.0\n",
      "         contains(great) = True              5.0 : 1.0    =     16.2 : 1.0\n",
      "           contains(did) = True              1.0 : 5.0    =     12.0 : 1.0\n",
      "        contains(didn't) = True              1.0 : 5.0    =     12.0 : 1.0\n",
      "         contains(never) = True              1.0 : 5.0    =     11.3 : 1.0\n",
      "         contains(money) = True              1.0 : 5.0    =     10.9 : 1.0\n",
      "           contains(not) = True              1.0 : 5.0    =     10.6 : 1.0\n",
      "      contains(fighting) = True              5.0 : 1.0    =      8.8 : 1.0\n"
     ]
    }
   ],
   "source": [
    "classifier4.show_most_informative_features()"
   ]
  },
  {
   "attachments": {},
   "cell_type": "markdown",
   "metadata": {},
   "source": [
    "Anche in questo caso l'accuracy è leggermente peggiorata rispetto alla versione originale. Questo probabilmente perché il summary potrebbe non essere significativo rispetto all'intero testo. Per esempio esiste una recensione con summary <i>\"Lana's opinion\"</i> e reviewText <i>\"Gift for my granddaughter.  Likes the game a lot, but prefers to just listen to the music & sounds.  We use it at my house on a separate computer (just for Lana).  Money well spent--provides hours of amusement & education\"</i>"
   ]
  },
  {
   "attachments": {},
   "cell_type": "markdown",
   "metadata": {},
   "source": [
    "### Versione 5: uso dei soli aggettivi\n",
    "Provo questa volta a selezionare dai testi delle recensioni solo gli aggettivi. Partendo dalla lista di parole tokenizzate, per estrarne gli aggettivi userò wordnet (nltk.corpus)."
   ]
  },
  {
   "cell_type": "code",
   "execution_count": 13,
   "metadata": {},
   "outputs": [
    {
     "name": "stdout",
     "output_type": "stream",
     "text": [
      "Accuracy: 0.6112\n"
     ]
    }
   ],
   "source": [
    "from nltk.corpus import wordnet as wn\n",
    "\n",
    "def filtra_solo_aggettivi(reviews):\n",
    "    new_reviews = []\n",
    "    for (lista_parole,classe) in reviews:\n",
    "        solo_aggettivi = []\n",
    "        for par in lista_parole:\n",
    "            tmp = wn.synsets(par)\n",
    "            if len(tmp) > 0 and tmp[0].pos() == \"a\":\n",
    "                solo_aggettivi.append(par)\n",
    "        if solo_aggettivi != []:\n",
    "            new_reviews.append((solo_aggettivi,classe)) \n",
    "    return new_reviews\n",
    "\n",
    "classifier5, accuracy5 = get_classifier_and_mean_accuracy([1.0, 5.0], funzione_tokenize=Tokenizer().tokenize, funzione_filtra_reviews=filtra_solo_aggettivi)\n",
    "print(\"Accuracy:\", accuracy5)\n",
    "dizionario_plot[\"5.Solo aggettivi\"] = accuracy5"
   ]
  },
  {
   "cell_type": "code",
   "execution_count": 14,
   "metadata": {},
   "outputs": [
    {
     "name": "stdout",
     "output_type": "stream",
     "text": [
      "Most Informative Features\n",
      "   contains(comfortable) = True              5.0 : 1.0    =     12.0 : 1.0\n",
      "        contains(unable) = True              1.0 : 5.0    =     11.3 : 1.0\n",
      "     contains(addictive) = True              5.0 : 1.0    =      7.2 : 1.0\n",
      "       contains(intense) = True              5.0 : 1.0    =      6.5 : 1.0\n",
      "           contains(hot) = True              5.0 : 1.0    =      5.8 : 1.0\n",
      "   contains(inexpensive) = True              5.0 : 1.0    =      5.1 : 1.0\n",
      "          contains(wide) = True              5.0 : 1.0    =      4.5 : 1.0\n",
      "    contains(compatible) = True              1.0 : 5.0    =      4.3 : 1.0\n",
      "        contains(harder) = True              5.0 : 1.0    =      3.9 : 1.0\n",
      "    contains(protective) = True              5.0 : 1.0    =      3.8 : 1.0\n"
     ]
    }
   ],
   "source": [
    "classifier5.show_most_informative_features()"
   ]
  },
  {
   "attachments": {},
   "cell_type": "markdown",
   "metadata": {},
   "source": [
    "L'accuracy è peggiorata, quindi è necessaria anche l'inclusione di altre parole (sostantivi, verbi, ...) per ottenere una buona accuracy."
   ]
  },
  {
   "attachments": {},
   "cell_type": "markdown",
   "metadata": {},
   "source": [
    "### Versione 6: uso della word frequency \n",
    "Proviamo questa volta ad usare come feature la frequenza delle parole, invece che la sola presenza:"
   ]
  },
  {
   "cell_type": "code",
   "execution_count": 15,
   "metadata": {},
   "outputs": [
    {
     "name": "stdout",
     "output_type": "stream",
     "text": [
      "Accuracy: 0.8594\n"
     ]
    }
   ],
   "source": [
    "def conta_parole(words):\n",
    "    wfreq=[words.count(w) for w in words]\n",
    "    return dict(zip(words,wfreq))\n",
    "\n",
    "classifier6, accuracy6 = get_classifier_and_mean_accuracy([1.0, 5.0], funzione_tokenize=Tokenizer().tokenize, feat_extractor=conta_parole)\n",
    "print(\"Accuracy:\", accuracy6)\n",
    "dizionario_plot[\"6.Frequency word\"] = accuracy6"
   ]
  },
  {
   "cell_type": "code",
   "execution_count": 16,
   "metadata": {},
   "outputs": [
    {
     "name": "stdout",
     "output_type": "stream",
     "text": [
      "Most Informative Features\n",
      "                   sucks = 1                 1.0 : 5.0    =     29.0 : 1.0\n",
      "                   waste = 1                 1.0 : 5.0    =     20.6 : 1.0\n",
      "                     bad = 2                 1.0 : 5.0    =     19.7 : 1.0\n",
      "                    grip = 1                 5.0 : 1.0    =     14.3 : 1.0\n",
      "               computers = 1                 1.0 : 5.0    =     13.7 : 1.0\n",
      "             comfortable = 1                 5.0 : 1.0    =     11.7 : 1.0\n",
      "             recommended = 1                 5.0 : 1.0    =     11.0 : 1.0\n",
      "                   saved = 1                 1.0 : 5.0    =     11.0 : 1.0\n",
      "                  unable = 1                 1.0 : 5.0    =     11.0 : 1.0\n",
      "                  length = 1                 5.0 : 1.0    =     10.3 : 1.0\n"
     ]
    }
   ],
   "source": [
    "classifier6.show_most_informative_features()"
   ]
  },
  {
   "attachments": {},
   "cell_type": "markdown",
   "metadata": {},
   "source": [
    "In questo caso l'accuracy è leggermente migliorata. Come si può vedere, infatti, alcune feature significative riguardano parole che compaiono più volte nel testo (es. <i>great</i>). \n",
    "Nel seguito, quindi, userò la word frequency."
   ]
  },
  {
   "attachments": {},
   "cell_type": "markdown",
   "metadata": {},
   "source": [
    "## Lemmatize invece di tokenize\n",
    "Analizzando le precedenti feature significative, si può notare che alcune parole come <i>worst</i> e <i>worse</i> derivino entrambe da <i>bad</i>. Se quindi la presenza di <i>worst</i> è una feature significativa per le recensioni della classe negativa (1 stella), allora probabilmente anche la presenza di <i>bad</i> lo sarà. <BR>\n",
    "Per implementare ciò, ho usato le funzioni per lemmatizzare il testo, invece che tokenizzarlo. Ho inoltre rimosso le stop words perchè la loro presenza è inutile nel feature set."
   ]
  },
  {
   "attachments": {},
   "cell_type": "markdown",
   "metadata": {},
   "source": [
    "### Versione 7: WordNetLemmatizer\n",
    "Testo inizialmente il lemmatizer WordNetLemmatizer di nltk.stem:"
   ]
  },
  {
   "cell_type": "code",
   "execution_count": 17,
   "metadata": {},
   "outputs": [
    {
     "name": "stdout",
     "output_type": "stream",
     "text": [
      "Accuracy: 0.8614\n"
     ]
    }
   ],
   "source": [
    "from nltk.stem import WordNetLemmatizer\n",
    "from nltk.corpus import stopwords\n",
    "import re\n",
    "\n",
    "stop_words = sorted(stopwords.words('english'))\n",
    "wnl = WordNetLemmatizer()\n",
    "\n",
    "def filtra_non_stop_words(reviews):\n",
    "    reviews = [([wnl.lemmatize(parola) for parola in rec if parola not in stop_words], classe) for (rec,classe) in reviews]\n",
    "    return reviews\n",
    "    \n",
    "classifier7, accuracy7 = get_classifier_and_mean_accuracy([1.0, 5.0], funzione_tokenize=Tokenizer().tokenize,  funzione_filtra_reviews=filtra_non_stop_words)\n",
    "print(\"Accuracy:\", accuracy7)\n",
    "dizionario_plot[\"7.WordNetLemmatizer\"] = accuracy7"
   ]
  },
  {
   "cell_type": "code",
   "execution_count": 18,
   "metadata": {},
   "outputs": [
    {
     "name": "stdout",
     "output_type": "stream",
     "text": [
      "Most Informative Features\n",
      "         contains(waste) = True              1.0 : 5.0    =     28.7 : 1.0\n",
      "         contains(cloud) = True              1.0 : 5.0    =     24.1 : 1.0\n",
      "      contains(wireless) = True              5.0 : 1.0    =     11.8 : 1.0\n",
      "          contains(lame) = True              1.0 : 5.0    =     11.3 : 1.0\n",
      "       contains(stopped) = True              1.0 : 5.0    =     10.9 : 1.0\n",
      "        contains(stupid) = True              1.0 : 5.0    =     10.9 : 1.0\n",
      "          contains(suck) = True              1.0 : 5.0    =     10.9 : 1.0\n",
      "        contains(unable) = True              1.0 : 5.0    =     10.9 : 1.0\n",
      "   contains(comfortable) = True              5.0 : 1.0    =     10.4 : 1.0\n",
      "   contains(recommended) = True              5.0 : 1.0    =     10.4 : 1.0\n"
     ]
    }
   ],
   "source": [
    "classifier7.show_most_informative_features()"
   ]
  },
  {
   "attachments": {},
   "cell_type": "markdown",
   "metadata": {},
   "source": [
    "### Versione 8: Spacy\n",
    "Provo adesso il lemmatizer di spacy."
   ]
  },
  {
   "cell_type": "code",
   "execution_count": 19,
   "metadata": {},
   "outputs": [
    {
     "name": "stdout",
     "output_type": "stream",
     "text": [
      "Accuracy: 0.8692\n"
     ]
    }
   ],
   "source": [
    "import spacy\n",
    "\n",
    "nlp = spacy.load(\"en_core_web_sm\")\n",
    "\n",
    "def spacy_lemmatizer(reviews):    \n",
    "    new_reviews = []\n",
    "    for (testo, classe) in reviews:\n",
    "        doc = nlp(testo.lower())\n",
    "        lemmas = [token.lemma_ for token in doc if token.lemma_ not in stop_words] \n",
    "        new_reviews.append((lemmas, classe))    \n",
    "    return new_reviews\n",
    "    \n",
    "classifier8, accuracy8 = get_classifier_and_mean_accuracy([1.0, 5.0],funzione_filtra_reviews=spacy_lemmatizer)\n",
    "print(\"Accuracy:\", accuracy8)\n",
    "dizionario_plot[\"8.Spacy\"] = accuracy8"
   ]
  },
  {
   "cell_type": "code",
   "execution_count": 20,
   "metadata": {},
   "outputs": [
    {
     "name": "stdout",
     "output_type": "stream",
     "text": [
      "Most Informative Features\n",
      "         contains(waste) = True              1.0 : 5.0    =     25.7 : 1.0\n",
      "         contains(cloud) = True              1.0 : 5.0    =     24.4 : 1.0\n",
      "          contains(lame) = True              1.0 : 5.0    =     17.7 : 1.0\n",
      "          contains(lara) = True              5.0 : 1.0    =     15.0 : 1.0\n",
      "        contains(freeze) = True              1.0 : 5.0    =     14.4 : 1.0\n",
      "  contains(disappointed) = True              1.0 : 5.0    =     14.2 : 1.0\n",
      "       contains(excited) = True              1.0 : 5.0    =     13.0 : 1.0\n",
      "      contains(horrible) = True              1.0 : 5.0    =     11.9 : 1.0\n",
      "     contains(fantastic) = True              5.0 : 1.0    =     11.6 : 1.0\n",
      "            contains(ff) = True              1.0 : 5.0    =     11.0 : 1.0\n"
     ]
    }
   ],
   "source": [
    "classifier8.show_most_informative_features()"
   ]
  },
  {
   "attachments": {},
   "cell_type": "markdown",
   "metadata": {},
   "source": [
    "L'accuracy dei due lemmatizer è molto simile e nel primo caso è leggermente aumentata rispetto a quella originale."
   ]
  },
  {
   "attachments": {},
   "cell_type": "markdown",
   "metadata": {},
   "source": [
    "### Versione 9: lemmatize e opinion_lexicon\n",
    "Infine, ho integrato le due librerie nltk e Spacy. Ho deciso di:\n",
    "- rimuovere la punteggiatura dal testo delle recensioni e rimpiazzarla con uno spazio. Analizzando le feature estratte nelle versioni precedenti, infatti, ho notato che alcune parole non venivano correttamente tokenizzate/lemmatizzate. Ad esempio \"game.I\" non veniva divisa in [\"game\", \"I\"]. Ho quindi implementato questa modifica per risolvere il problema. \n",
    "- memorizzare come documento la lista di parole più importanti (ad esempio i verbi, i nomi, gli avverbi, gli aggettivi) ed escludendo quindi le stop word\n",
    "- selezionare solo le parole positive o negative. Per fare ciò ho usato le funzioni negative() e positive() fornite da opinion_lexicon (nltk.corpus). In questo modo vado ad eliminare le parole neutre che potrebbero non dirmi niente di utile sulle recensioni.\n",
    "<!-- - rimuovere i duplicati dalla lista delle parole -->"
   ]
  },
  {
   "cell_type": "code",
   "execution_count": 21,
   "metadata": {},
   "outputs": [
    {
     "name": "stdout",
     "output_type": "stream",
     "text": [
      "Accuracy: 0.8346\n"
     ]
    }
   ],
   "source": [
    "from string import punctuation\n",
    "from nltk.corpus import opinion_lexicon\n",
    "\n",
    "nlp = spacy.load(\"en_core_web_sm\")\n",
    "\n",
    "neg_words = sorted(opinion_lexicon.negative())\n",
    "pos_word = sorted(opinion_lexicon.positive())\n",
    "pos_tag = {'VERB','NOUN','ADV', 'ADJ'}  \n",
    "\n",
    "def get_keywords_in_text(text):\n",
    "    for punteggiatura in punctuation:\n",
    "        text = text.replace(punteggiatura, \" \", -1)   \n",
    "        \n",
    "    doc = nlp(text.lower()) \n",
    "    result = [token.lemma_ for token in doc if (not token.text in stop_words ) and (token.pos_ in pos_tag)]\n",
    "    result = [token for token in result if (token in neg_words or token in pos_word)]\n",
    "    return result\n",
    "\n",
    "def seleziona_keyword(reviews):\n",
    "    # reviews = [(get_keyword_in_text(rec), classe) for (rec, classe) in reviews]\n",
    "    for i in range(len(reviews)):\n",
    "        # print(i, end=\" \")\n",
    "        reviews[i] = (get_keywords_in_text(reviews[i][0]), reviews[i][1])\n",
    "    return reviews\n",
    "\n",
    "classifier9, accuracy9 = get_classifier_and_mean_accuracy([1.0, 5.0], funzione_filtra_reviews=seleziona_keyword) \n",
    "print(\"Accuracy:\", accuracy9)\n",
    "dizionario_plot[\"9.lemmatize,opinion_lexicon\"] = accuracy9\n"
   ]
  },
  {
   "cell_type": "code",
   "execution_count": 22,
   "metadata": {},
   "outputs": [
    {
     "name": "stdout",
     "output_type": "stream",
     "text": [
      "Most Informative Features\n",
      "         contains(cloud) = True              1.0 : 5.0    =     20.8 : 1.0\n",
      "         contains(waste) = True              1.0 : 5.0    =     20.5 : 1.0\n",
      "        contains(freeze) = True              1.0 : 5.0    =     14.9 : 1.0\n",
      "  contains(disappointed) = True              1.0 : 5.0    =     12.5 : 1.0\n",
      "          contains(lame) = True              1.0 : 5.0    =     12.5 : 1.0\n",
      "          contains(suck) = True              1.0 : 5.0    =     11.5 : 1.0\n",
      "   contains(comfortable) = True              5.0 : 1.0    =     11.1 : 1.0\n",
      "        contains(unable) = True              1.0 : 5.0    =     10.9 : 1.0\n",
      "         contains(trash) = True              1.0 : 5.0    =     10.2 : 1.0\n",
      "       contains(garbage) = True              1.0 : 5.0    =      9.6 : 1.0\n"
     ]
    }
   ],
   "source": [
    "classifier9.show_most_informative_features()"
   ]
  },
  {
   "attachments": {},
   "cell_type": "markdown",
   "metadata": {},
   "source": [
    "Anche in questo caso ho leggermente migliorato l'accuracy."
   ]
  },
  {
   "attachments": {},
   "cell_type": "markdown",
   "metadata": {},
   "source": [
    "## Uso della libreria Scikit-learn\n",
    "Proverò ora ad usare la libreria <i>Scikit-learn</I>. <br>\n",
    "Creo innanzitutto una funzione che ritorni i dati e i target del train set e del test set:"
   ]
  },
  {
   "cell_type": "code",
   "execution_count": 23,
   "metadata": {},
   "outputs": [],
   "source": [
    "def get_train_test_data_target(reviews):\n",
    "    \"\"\"\n",
    "    Questa funzione ritorna: train_data, train_target, test_data e test_target delle reviews in input.\n",
    "        - train_data, test_data sono i \"documenti\" del trainset e testset rispettivamente\n",
    "        - train_target, test_target sono le classi del trainset e testset rispettivamente\n",
    "    \"\"\"\n",
    "    classi = list(set(list({x[1] for x in reviews})))\n",
    "    testSet= reviews[:REVIEWS_PER_CLASSE]  \n",
    "    trainSet = reviews[REVIEWS_PER_CLASSE:]\n",
    "\n",
    "    # classi_count = {str(c):0 for c in classi}\n",
    "    # for (feat, classe) in trainSet:\n",
    "    #     classi_count[classe] +=1\n",
    "    # print(\"trainset:\", classi_count)\n",
    "\n",
    "    # classi_count = {str(c):0 for c in classi}\n",
    "    # for (feat, classe) in testSet:\n",
    "    #     classi_count[classe] +=1\n",
    "    # print(\"testSet:\", classi_count)\n",
    "\n",
    "    \n",
    "    train_data, train_target = list(map(list, zip(*trainSet)))\n",
    "    test_data, test_target = list(map(list, zip(*testSet)))\n",
    "\n",
    "    return train_data, train_target, test_data, test_target"
   ]
  },
  {
   "attachments": {},
   "cell_type": "markdown",
   "metadata": {},
   "source": [
    "### Versione 10: Classificatore Support Vector Machines (SVM)\n",
    "Nelle versioni viste finora, ho sempre fatto uso del classificatore Naive Bayes di nltk. Andrò ora a modificarlo, usando il Support Vector Machines (SVM) di Scikit-learn. \n",
    "Uso inoltre la pipeline, per:\n",
    "- effettuare la pre-elaborazione del testo, il tokenizing e l'eliminazione delle stopwords (mediante il CountVectorizer)\n",
    "- contare le TF-IDF frequencies (usando TfidfTransformer)\n",
    "- fare il train del classificatore \n",
    "\n",
    "Inoltre, stavolta uso cross_val_score per effettuare direttamente 50 run. "
   ]
  },
  {
   "cell_type": "code",
   "execution_count": 24,
   "metadata": {},
   "outputs": [
    {
     "name": "stdout",
     "output_type": "stream",
     "text": [
      "Accuracy: 0.8785\n"
     ]
    }
   ],
   "source": [
    "from sklearn.model_selection import ShuffleSplit, cross_val_score\n",
    "from sklearn.feature_extraction.text import CountVectorizer, TfidfTransformer\n",
    "from sklearn.naive_bayes import MultinomialNB\n",
    "from sklearn import svm\n",
    "from sklearn.pipeline import Pipeline\n",
    "\n",
    "# Creo il train e test set\n",
    "reviews10 = getReviewData([1.0, 5.0])\n",
    "train_data, train_target, test_data, test_target = get_train_test_data_target(reviews10)\n",
    "\n",
    "# Classificatore\n",
    "text_clf = Pipeline([('vect', CountVectorizer()), ('tfidf', TfidfTransformer()),('clf', svm.SVC()),])\n",
    "text_clf.fit(train_data, train_target)\n",
    "predicted = text_clf.predict(test_data)\n",
    "\n",
    "# Cross-validation\n",
    "cv = ShuffleSplit(n_splits=NUM_RUN, test_size=0.2, random_state=0)\n",
    "scores = cross_val_score(text_clf, test_data, test_target, cv=cv)\n",
    "accuracy10 = round(sum(scores)/len(scores), 4)\n",
    "print(\"Accuracy:\", accuracy10)\n",
    "dizionario_plot[\"10.SVM\"] = accuracy10"
   ]
  },
  {
   "attachments": {},
   "cell_type": "markdown",
   "metadata": {},
   "source": [
    "Anche in questo caso l'accuracy è leggermente migliorata."
   ]
  },
  {
   "attachments": {},
   "cell_type": "markdown",
   "metadata": {},
   "source": [
    "### Versione 11: Hyperlane\n",
    "Effettuo gli stessi passaggi di prima, ma stavolta uso il classificatore SGDClassifier."
   ]
  },
  {
   "cell_type": "code",
   "execution_count": 25,
   "metadata": {},
   "outputs": [
    {
     "name": "stdout",
     "output_type": "stream",
     "text": [
      "Accuracy: 0.8845\n"
     ]
    }
   ],
   "source": [
    "from sklearn.linear_model import SGDClassifier\n",
    "\n",
    "# Creo il train e test set\n",
    "reviews11 = getReviewData([1.0, 5.0])\n",
    "train_data, train_target, test_data, test_target = get_train_test_data_target(reviews11)\n",
    "\n",
    "# Classificatore\n",
    "text_clf = Pipeline([('vect', CountVectorizer()), ('tfidf', TfidfTransformer()), ('clf', SGDClassifier(loss='hinge', penalty='l2', alpha=1e-3, random_state=42, max_iter=5, tol=None)),])\n",
    "text_clf.fit(train_data, train_target)\n",
    "predicted = text_clf.predict(test_data)\n",
    "\n",
    "# Cross-validation\n",
    "cv = ShuffleSplit(n_splits=NUM_RUN, test_size=0.2, random_state=0)\n",
    "scores = cross_val_score(text_clf, test_data, test_target, cv=cv)\n",
    "accuracy11 = round(sum(scores)/len(scores), 4)\n",
    "print(\"Accuracy:\", accuracy11)\n",
    "dizionario_plot[\"11.Hyperlane\"] = accuracy11\n"
   ]
  },
  {
   "attachments": {},
   "cell_type": "markdown",
   "metadata": {},
   "source": [
    "### Versione 12: Grid-search\n",
    "Proverò stavolta a usare la grid search (GridSearchCV) di sklearn."
   ]
  },
  {
   "cell_type": "code",
   "execution_count": 26,
   "metadata": {},
   "outputs": [
    {
     "name": "stdout",
     "output_type": "stream",
     "text": [
      "Accuracy:  0.8855\n"
     ]
    }
   ],
   "source": [
    "from sklearn.model_selection import GridSearchCV\n",
    "\n",
    "reviews12 = getReviewData([1.0, 5.0])\n",
    "train_data, train_target, test_data, test_target = get_train_test_data_target(reviews12)\n",
    "\n",
    "text_clf = Pipeline([('vect', CountVectorizer()), ('tfidf', TfidfTransformer()), ('clf', MultinomialNB())])\n",
    "text_clf.fit(train_data, train_target)\n",
    "\n",
    "parameters = {'vect__ngram_range': [(1, 1), (1, 2)], 'tfidf__use_idf': (True, False), 'clf__alpha': (1e-2, 1e-3),}\n",
    "cv = ShuffleSplit(n_splits=NUM_RUN, test_size=0.2, random_state=0)\n",
    "\n",
    "gs_clf = GridSearchCV(text_clf, parameters, cv=cv, n_jobs=-1)\n",
    "gs_clf.fit(train_data, train_target)\n",
    "predicted = gs_clf.predict(test_data)\n",
    "\n",
    "scores = cross_val_score(text_clf, test_data, test_target, cv=cv)\n",
    "accuracy12 = round(sum(scores)/len(scores), 4)\n",
    "\n",
    "print(\"Accuracy: \", accuracy12)\n",
    "dizionario_plot[\"12.Grid-search\"] = accuracy12\n"
   ]
  },
  {
   "attachments": {},
   "cell_type": "markdown",
   "metadata": {},
   "source": [
    "## Versione 13: Uso di XGBoost\n",
    "Proverò infine a usare la ibreria XGBoost "
   ]
  },
  {
   "cell_type": "code",
   "execution_count": 27,
   "metadata": {},
   "outputs": [
    {
     "name": "stdout",
     "output_type": "stream",
     "text": [
      "Accuracy: 0.7874\n"
     ]
    }
   ],
   "source": [
    "import xgboost as xgb\n",
    "import numpy as np\n",
    "from sklearn.metrics import accuracy_score\n",
    "\n",
    "accuracy13 = []\n",
    "for _ in range(NUM_RUN):\n",
    "    reviews13 = getReviewData([1.0, 5.0])\n",
    "    train_data, train_target, test_data, test_target = get_train_test_data_target(reviews13)\n",
    "\n",
    "    cv = CountVectorizer(binary = True)\n",
    "    cv.fit(train_data, train_target)\n",
    "    train_transform = cv.transform(train_data)\n",
    "    test_transform = cv.transform(test_data)\n",
    "\n",
    "    # Trasformo i target del trainset e testset in un formato adatto a xgboost\n",
    "    train_target = [0 if target==\"1.0\" else 1 for target in train_target]\n",
    "    test_target = [0 if target==\"1.0\" else 1 for target in test_target]\n",
    "\n",
    "    # Training and Predicting\n",
    "    train_matrix = xgb.DMatrix(train_transform, train_target)      \n",
    "    test_matrix = xgb.DMatrix(test_transform, test_target)\n",
    "\n",
    "    param = {'objective': 'binary:hinge'}       # Mette in  predicted_test solo valori 0 o 1 \n",
    "    classifier13 = xgb.train(param, train_matrix, num_boost_round = 30)\n",
    "    predicted_test = classifier13.predict(test_matrix).tolist()\n",
    "\n",
    "    # Accuracy\n",
    "    accuracy13 += [accuracy_score(test_target, predicted_test)]\n",
    "\n",
    "accuracy13 = round(sum(accuracy13)/len(accuracy13), 4)\n",
    "print(\"Accuracy:\",  accuracy13)\n",
    "dizionario_plot[\"13.Xgboost\"] = accuracy13"
   ]
  },
  {
   "attachments": {},
   "cell_type": "markdown",
   "metadata": {},
   "source": [
    "## Risultati e conclusioni\n",
    "Vado ora ad analizzare le accuracy ottenute:"
   ]
  },
  {
   "cell_type": "code",
   "execution_count": 28,
   "metadata": {},
   "outputs": [
    {
     "data": {
      "image/png": "[encoded data removed]",
      "text/plain": [
       "<Figure size 2400x700 with 1 Axes>"
      ]
     },
     "metadata": {},
     "output_type": "display_data"
    }
   ],
   "source": [
    "import matplotlib.pyplot as plt\n",
    "\n",
    "x_titoli , y_accuracy = list(dizionario_plot.keys()), list(dizionario_plot.values())\n",
    "plt.rcParams[\"figure.figsize\"] = (24,7)\n",
    "\n",
    "plt.plot(x_titoli, y_accuracy)\n",
    "for i in range(len(x_titoli)):\n",
    "    if y_accuracy[i] == max(y_accuracy):\n",
    "        plt.text(x_titoli[i], y_accuracy[i], str(y_accuracy[i]), color=\"red\", weight='bold')\n",
    "    else:\n",
    "        plt.text(x_titoli[i], y_accuracy[i], str(y_accuracy[i]))\n",
    "\n",
    "plt.title('Accuracy delle versioni')\n",
    "plt.grid()\n"
   ]
  },
  {
   "attachments": {},
   "cell_type": "markdown",
   "metadata": {},
   "source": [
    "Sono riuscita a migliorare leggermente l'accuracy del classificatore. I classificatori che hanno restituito i migliori risultati sono il grid-search di sklearn e quello con frequency word come feature. <br>\n",
    "I peggiori sono invece quelli con la classificazione a 5 classi e quello che usa i soli aggettivi."
   ]
  }
 ],
 "metadata": {
  "kernelspec": {
   "display_name": "Python 3",
   "language": "python",
   "name": "python3"
  },
  "language_info": {
   "codemirror_mode": {
    "name": "ipython",
    "version": 3
   },
   "file_extension": ".py",
   "mimetype": "text/x-python",
   "name": "python",
   "nbconvert_exporter": "python",
   "pygments_lexer": "ipython3",
   "version": "3.11.0"
  },
  "orig_nbformat": 4,
  "vscode": {
   "interpreter": {
    "hash": "a29d3b88d3d770f4c6b76b3f467a825cd9493448f3062cde152f1e267121f11d"
   }
  }
 },
 "nbformat": 4,
 "nbformat_minor": 2
}

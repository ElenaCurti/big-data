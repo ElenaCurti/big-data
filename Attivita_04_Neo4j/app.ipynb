{
 "cells": [
  {
   "attachments": {},
   "cell_type": "markdown",
   "metadata": {},
   "source": [
    "<center>Progetto realizzato da Elena Curti (matr. 185431)\n",
    "\n",
    "# Ricette\n",
    "</center>\n",
    "\n",
    "## Introduzione \n",
    "In questo progetto viene realizzato un database con Neo4j. In esso verranno memorizzate delle ricette, i relativi ingredienti, autori, categorie e tipi di dieta. La struttura del database è stata realizzata partendo dallo usecase \"Recipe\" fornito da Neo4j.\n",
    "<br>\n",
    "Nel seguito, verranno inizialmente spiegate le operazioni iniziali per il corretto funzionamento dell'applicazione. Verranno poi mostrati lo schema e i dati dello use case  originale. Verrà spiegato come è stato modificato lo schema e quali dati sono stati aggiunti e rimossi. Infine, verranno mostrate delle interrogazioni, modifiche e cancellazioni dei dati."
   ]
  },
  {
   "attachments": {},
   "cell_type": "markdown",
   "metadata": {},
   "source": [
    "## Requisiti\n",
    "Questo progetto è stato realizzato con Python 3.11. E' necessaria l'installazione di Neo4j e dei seguenti pacchetti:"
   ]
  },
  {
   "cell_type": "code",
   "execution_count": 1,
   "metadata": {},
   "outputs": [],
   "source": [
    "# %pip install py2neo neo4j-driver pandas"
   ]
  },
  {
   "attachments": {},
   "cell_type": "markdown",
   "metadata": {},
   "source": [
    "## Operazioni iniziali\n",
    "Per il corretto funzionamento del progetto proposto, è necessario:\n",
    "- Creare un nuovo progetto Neo4j \n",
    "- Creare all'interno del progetto un DMBS (scegliendo come nome \"neo4j\", come password \"pass\" e come versione 5.2.0)\n",
    "- Aggiungere il plugin APOC.\n",
    "- Premere su Start.\n",
    "\n",
    "Eseguire poi le celle di codice, nell'ordine proposto."
   ]
  },
  {
   "attachments": {},
   "cell_type": "markdown",
   "metadata": {},
   "source": [
    "## Connessione e autenticazione\n",
    "Per effettuare la connessione al database, eseguire il seguente script:"
   ]
  },
  {
   "cell_type": "code",
   "execution_count": 2,
   "metadata": {},
   "outputs": [
    {
     "name": "stdout",
     "output_type": "stream",
     "text": [
      "Connessione al database eseguita correttamente!\n"
     ]
    }
   ],
   "source": [
    "from py2neo import Graph\n",
    "graph = Graph(\"bolt://localhost:7687\",  auth=(\"neo4j\", \"pass\"))\n",
    "\n",
    "print(\"Connessione al database eseguita correttamente!\")"
   ]
  },
  {
   "attachments": {},
   "cell_type": "markdown",
   "metadata": {},
   "source": [
    "## Schema e dati originali\n",
    "Lo use case originale è stato trovato sul sito [Recipes Neo4j](https://neo4j.com/graphgists/dd3dedcf-c377-4575-84f4-4d0d30b2a4c5/). Ha la seguente struttura:\n",
    "```\n",
    "    call db.schema.visualization()\n",
    "```"
   ]
  },
  {
   "attachments": {},
   "cell_type": "markdown",
   "metadata": {},
   "source": [
    "![schema](img/db_schema.png)"
   ]
  },
  {
   "attachments": {},
   "cell_type": "markdown",
   "metadata": {},
   "source": [
    "I nodi Ingredient, Author, Collection, DietType, Keyword hanno un solo campo \"name\" che ne rappresenta il nome. <br>\n",
    "Il nodo Recipe ha le seguenti proprietà:\n",
    "<ul>\n",
    "    <li>id: campo che identifica univocamente la ricetta </li>\n",
    "    <li>cookingTime: tempo di cottura </li>\n",
    "    <li>description: descrizione della ricetta </li>\n",
    "    <li>name: nome della ricetta </li>\n",
    "    <li>preparationTime: tempo di preparazione </li>\n",
    "    <li>skillLevel: difficoltà </li>\n",
    "</ul>\n",
    "Gli archi non hanno proprietà. <br><br>\n",
    "\n",
    "Per importare i dati e aggiungere gli indici ho usato il seguente script. <br>\n",
    "Lo usecase originale ha previsto i seguenti indici per migliorare la performance delle cypher query:\n",
    "    <ul>\n",
    "        <li><i>id</i> su Recipe</li>\n",
    "        <li><i>name</i> su Ingredient</li>\n",
    "        <li><i>name</i> su Keyword</li>\n",
    "        <li><i>name</i> su DietType</li>\n",
    "        <li><i>name</i> su Author</li>\n",
    "        <li><i>name</i> su Collection</li>\n",
    "    </ul>\n",
    "\n",
    "### Descrizione dei comandi di import\n",
    "Il comando ```CALL apoc.load.json('path_file') YIELD value``` serve per leggere il file in formato JSON in input. Se il file dato:\n",
    "- è memorizzato in locale, allora va inserito nella cartella \"import\" del DBMS. Va inoltre inserito nella cartella \"conf\" un file \"apoc.conf\" con scritto \"apoc.import.file.enabled=true\" (e riavviato il database). Infine, il percorso deve essere in formato [URI](https://en.wikipedia.org/wiki/File_URI_scheme).\n",
    "- è memorizzato in rete (come in questo caso), il comando funziona in automatico, se il computer è connesso ad Internet.\n",
    "\n",
    "Il comando ```MERGE ``` serve eventualmente a creare un nodo (o un arco) e a selezionarlo. E' una sorta di combinazione di ```MATCH``` e ```CREATE```.\n",
    "\n",
    "Il comando ```FOREACH (elem IN list | codice )``` serve a eseguire il codice per ogni elemento ```elem``` nella lista ```list```.\n",
    "\n",
    "Il comando ```CREATE INDEX IF NOT EXISTS FOR (n:Recipe) ON (n.id)``` è equivalente a ```CREATE INDEX IF NOT EXISTS ON :Recipe(id)```. Il primo, però, è compatibile con la versione 5.2.0 di Neo4j."
   ]
  },
  {
   "cell_type": "code",
   "execution_count": 3,
   "metadata": {},
   "outputs": [
    {
     "name": "stdout",
     "output_type": "stream",
     "text": [
      "Inserimento dei dati in corso... \n",
      "Tutti i dati sono stati importati correttamente!\n"
     ]
    }
   ],
   "source": [
    "print(\"Inserimento dei dati in corso... \")\n",
    "\n",
    "# Ricette\n",
    "graph.run(\"\"\" \n",
    "CALL apoc.load.json('https://raw.githubusercontent.com/neo4j-examples/graphgists/master/browser-guides/data/stream_clean.json') YIELD value\n",
    "WITH value.page.article.id AS id,\n",
    "       value.page.title AS title,\n",
    "       value.page.article.description AS description,\n",
    "       value.page.recipe.cooking_time AS cookingTime,\n",
    "       value.page.recipe.prep_time AS preparationTime,\n",
    "       value.page.recipe.skill_level AS skillLevel\n",
    "MERGE (r:Recipe {id: id})\n",
    "SET r.cookingTime = cookingTime,\n",
    "    r.preparationTime = preparationTime,\n",
    "    r.name = title,\n",
    "    r.description = description,\n",
    "    r.skillLevel = skillLevel;\n",
    "\"\"\")\n",
    "graph.run(\"\"\" CREATE INDEX IF NOT EXISTS FOR (n:Recipe) ON (n.id);        // CREATE INDEX IF NOT EXISTS ON :Recipe(id)  \"\"\")\n",
    "\n",
    "# Autori\n",
    "graph.run(\"\"\"\n",
    "//import authors and connect to recipes\n",
    "CALL apoc.load.json('https://raw.githubusercontent.com/neo4j-examples/graphgists/master/browser-guides/data/stream_clean.json') YIELD value\n",
    "WITH value.page.article.id AS id,\n",
    "       value.page.article.author AS author\n",
    "MERGE (a:Author {name: author})\n",
    "WITH a,id\n",
    "MATCH (r:Recipe {id:id})\n",
    "MERGE (a)-[:WROTE]->(r);\n",
    "\"\"\")\n",
    "graph.run(\"\"\"CREATE INDEX IF NOT EXISTS FOR (n:Author) ON (n.name);\"\"\" )\n",
    "\n",
    "# Ingredienti\n",
    "graph.run(\"\"\"//import ingredients and connect to recipes\n",
    "CALL apoc.load.json('https://raw.githubusercontent.com/neo4j-examples/graphgists/master/browser-guides/data/stream_clean.json') YIELD value\n",
    "WITH value.page.article.id AS id,\n",
    "       value.page.recipe.ingredients AS ingredients\n",
    "MATCH (r:Recipe {id:id})\n",
    "FOREACH (ingredient IN ingredients |\n",
    "  MERGE (i:Ingredient {name: ingredient})\n",
    "  MERGE (r)-[:CONTAINS_INGREDIENT]->(i)\n",
    ");\"\"\" )\n",
    "graph.run(\"\"\"CREATE INDEX IF NOT EXISTS FOR (n:Ingredient) ON (n.name);\"\"\" )\n",
    "\n",
    "# DietType\n",
    "graph.run(\"\"\"//import dietTypes and connect to recipes\n",
    "CALL apoc.load.json('https://raw.githubusercontent.com/neo4j-examples/graphgists/master/browser-guides/data/stream_clean.json') YIELD value\n",
    "WITH value.page.article.id AS id,\n",
    "       value.page.recipe.diet_types AS dietTypes\n",
    "MATCH (r:Recipe {id:id})\n",
    "FOREACH (dietType IN dietTypes |\n",
    "  MERGE (d:DietType {name: dietType})\n",
    "  MERGE (r)-[:DIET_TYPE]->(d)\n",
    ");\"\"\" )\n",
    "graph.run(\"\"\"CREATE INDEX IF NOT EXISTS FOR (n:DietType) ON (n.name);\"\"\" )\n",
    "\n",
    "# Collections\n",
    "graph.run(\"\"\"//import collections and connect to recipes\n",
    "CALL apoc.load.json('https://raw.githubusercontent.com/neo4j-examples/graphgists/master/browser-guides/data/stream_clean.json') YIELD value\n",
    "WITH value.page.article.id AS id,\n",
    "       value.page.recipe.collections AS collections\n",
    "MATCH (r:Recipe {id:id})\n",
    "FOREACH (collection IN collections |\n",
    "  MERGE (c:Collection {name: collection})\n",
    "  MERGE (r)-[:COLLECTION]->(c)\n",
    ");\"\"\" )\n",
    "graph.run(\"\"\"CREATE INDEX IF NOT EXISTS FOR (n:Collection) ON (n.name);\"\"\" )\n",
    "\n",
    "# Keyword\n",
    "cq = \"\"\"//import keywords and connect to recipes\n",
    "CALL apoc.load.json('https://raw.githubusercontent.com/neo4j-examples/graphgists/master/browser-guides/data/stream_clean.json') YIELD value\n",
    "WITH value.page.article.id AS id,\n",
    "       value.page.recipe.keywords AS keywords\n",
    "MATCH (r:Recipe {id:id})\n",
    "FOREACH (keyword IN keywords |\n",
    "  MERGE (k:Keyword {name: keyword})\n",
    "  MERGE (r)-[:KEYWORD]->(k)\n",
    ");\"\"\"\n",
    "# graph.run(cq)\n",
    "cq = \"\"\"CREATE INDEX IF NOT EXISTS FOR (n:Keyword) ON (n.name);\"\"\" \n",
    "# graph.run(cq)\n",
    "\n",
    "\n",
    "print(\"Tutti i dati sono stati importati correttamente!\")"
   ]
  },
  {
   "attachments": {},
   "cell_type": "markdown",
   "metadata": {},
   "source": [
    "## Modifiche effettuate\n",
    "Per arricchire il progetto ho deciso di aggiungere dei dati presi da Kaggle e di eseguire alcune modifiche allo schema originale. "
   ]
  },
  {
   "cell_type": "code",
   "execution_count": 4,
   "metadata": {},
   "outputs": [
    {
     "name": "stdout",
     "output_type": "stream",
     "text": [
      "Cartella import del DMBS: D:\\Elena\\_Elena\\Shared\\Universita\\Magistrale\\Big_data\\Neo4J\\relate-data\\dbmss\\dbms-108c38bb-8fe4-4c95-b4e6-d1b3bbdad61e\\import\n"
     ]
    }
   ],
   "source": [
    "# Definisco un'eccezione usata nel seguito\n",
    "class MiaStopExecution(Exception):\n",
    "    \"\"\"Il raise di questa classe provoca l'interruzione dell'esecizione della cella, senza interrompere il kernel\"\"\"\n",
    "    def _render_traceback_(self):\n",
    "        pass\n",
    "\n",
    "# Prima di effettuare le modifiche, copio i file necessari nella cartella \"import\" del DBMS, mediante il seguente script:\n",
    "import os \n",
    "import shutil\n",
    "DATA_FOLDER =\"data\"+os.path.sep\n",
    "\n",
    "cq =\"\"\"CALL dbms.listConfig() YIELD name, value\n",
    "    WHERE name=\"server.directories.import\"\n",
    "    RETURN value\"\"\"\n",
    "DIRECTORY_IMPORT = graph.run(cq).evaluate()\n",
    "print(\"Cartella import del DMBS: \" + DIRECTORY_IMPORT)\n",
    "\n",
    "def copy_in_import_dir(file_name):\n",
    "    source = DATA_FOLDER + file_name\n",
    "    destination = DIRECTORY_IMPORT + os.path.sep + file_name\n",
    "    shutil.copy(source, destination)\n",
    "\n",
    "copy_in_import_dir(\"FoodData.csv\") \n",
    "copy_in_import_dir(\"gz_recipe.csv\") \n"
   ]
  },
  {
   "attachments": {},
   "cell_type": "markdown",
   "metadata": {},
   "source": [
    "### 1. Rimozione di Keyword\n",
    "Ho deciso di rimuovere il nodo Keyword. Ho quindi evitato di eseguire le ultime due cypher query nello script precedente. Alternativamente, avrei potuto anche usare il seguente comando: "
   ]
  },
  {
   "cell_type": "code",
   "execution_count": 5,
   "metadata": {},
   "outputs": [
    {
     "data": {
      "text/html": [
       "(No data)"
      ],
      "text/plain": [
       "(No data)"
      ]
     },
     "execution_count": 5,
     "metadata": {},
     "output_type": "execute_result"
    }
   ],
   "source": [
    "graph.run(\"MATCH (n:Keyword) DETACH DELETE n\")"
   ]
  },
  {
   "attachments": {},
   "cell_type": "markdown",
   "metadata": {},
   "source": [
    "### 2. Aggiunta di altre ricette\n",
    "Per arricchire il dataset, ho deciso di inserire altre ricette al database. Ho quindi scaricato il file [gz_recipe.csv](data/gz_recipe.csv) da https://www.kaggle.com/datasets/edoardoscarpaci/italian-food-recipes, contenente delle ricette estratte dal sito [GialloZafferano](https://www.giallozafferano.it/). <br>\n",
    "Il file scaricato contiene i seguenti campi:\n",
    "- id: id che identifica univocamente la ricetta (intero da 0 a 5938).\n",
    "- Nome: nome del piatto\n",
    "- Categoria: categoria della ricetta (Primi, Secondi, ...)\n",
    "- Link: link della ricetta\n",
    "- Persone/Pezzi: numero di persone o pezzi della ricetta\n",
    "- Ingredienti: lista di ingredienti e relative quantità. Ad esempio: [['Mascarpone', '750g'], ['Uova', '260g']]\n",
    "- Steps: contenuto della ricetta\n",
    "\n",
    "Per integrare questi dati ho deciso di: \n",
    "- Aggiungere a Recipe le proprietà \n",
    "    - \"fonte\" che avrà il valore \"GialloZafferano\" o \"BBC GoodFood\"\n",
    "    - \"persone_pezzi\" per indicare il numero di persone o pezzi\n",
    "- Aggiungere a CONTAINS_INGREDIENTS una proprietà \"quantita\", contenente la quantità di un ingrediente in una ricetta\n",
    "- Aggiungere a Recipe un controllo sull'univocità degli id. Nonostante gli id delle Recipe siano univoci, non è presente nel database nessun controllo che impedisca all'utente di inserire più ricette con lo stesso id. Dovendo andare ad unire un dataset esterno, potrebbero esserci dei conflitti sull'id. Ho quindi deciso di aggiungere tale controllo aggiungendo un constraint."
   ]
  },
  {
   "cell_type": "code",
   "execution_count": 6,
   "metadata": {},
   "outputs": [
    {
     "data": {
      "text/html": [
       "(No data)"
      ],
      "text/plain": [
       "(No data)"
      ]
     },
     "execution_count": 6,
     "metadata": {},
     "output_type": "execute_result"
    }
   ],
   "source": [
    "# Aggiungo le ricette di GialloZafferano. \n",
    "\n",
    "# Tolgo il \"vecchio\" indice. Inserisco un CONSTRAINT per verificare l'univocità dell'id.\n",
    "# Il nuovo indice su id è inserito insieme al CONSTRAINT\n",
    "if len(graph.run(\"SHOW CONSTRAINT WHERE name='id_ricetta_univoco'\").data())==0: # Questo if serve per non avere errori se questa cella dovesse essere eseguita più volte\n",
    "    cq = \"SHOW INDEXES WHERE labelsOrTypes=['Recipe'] AND properties=['id']\"\n",
    "    nome_indice_id_ricette = graph.run(cq).data()[0][\"name\"]\n",
    "    # cq = \"DROP CONSTRAINT id_ricetta_univoco IF EXISTS\"\n",
    "    # graph.run(cq)\n",
    "    cq = \"DROP INDEX \"+nome_indice_id_ricette+\" IF EXISTS\"\n",
    "    graph.run(cq)\n",
    "    cq = \"CREATE CONSTRAINT id_ricetta_univoco IF NOT EXISTS FOR (r:Recipe) REQUIRE r.id IS UNIQUE\"\n",
    "    graph.run(cq)\n",
    "\n",
    "# Controllo che non ci siano già ricette con gli stessi id\n",
    "cq=\"\"\"\n",
    "LOAD CSV WITH HEADERS FROM 'file:///gz_recipe.csv' AS value\n",
    "MATCH (r:Recipe {id:value[\"id\"]})\n",
    "WHERE r.fonte IS NULL OR r.fonte<>\"GialloZafferano\"\n",
    "return count(r.id)\n",
    "\"\"\"\n",
    "num_id_comuni = graph.run(cq).evaluate()\n",
    "if  num_id_comuni!= 0:\n",
    "    print(\"Le ricette di BBC e quelle di GialloZafferano hanno \"+str(num_id_comuni)+\" id in comune!\")\n",
    "    raise(MiaStopExecution)\n",
    "\n",
    "# Inserisco le ricette\n",
    "cq=\"\"\"\n",
    "LOAD CSV WITH HEADERS FROM 'file:///gz_recipe.csv' AS value\n",
    "MERGE (r:Recipe {id: value[\"id\"]})\n",
    "SET r.name = value[\"Nome\"],\n",
    "    r.description = value[\"Steps\"],\n",
    "    r.persone_pezzi = value[\"Persone/Pezzi\"],\n",
    "    r.fonte = \"GialloZafferano\"\n",
    "\"\"\"\n",
    "graph.run(cq)\n",
    "\n",
    "cq=\"\"\"MATCH (r:Recipe) WHERE r.fonte IS NULL SET r.fonte=\"BBC GoodFood\" \"\"\"\n",
    "graph.run(cq)\n",
    "\n",
    "# Inserisco gli ingredienti\n",
    "cq=\"\"\"\n",
    "LOAD CSV WITH HEADERS FROM 'file:///gz_recipe.csv' AS value\n",
    "WITH value[\"id\"] AS id, replace(value[\"Ingredienti\"], '\"', \"\") AS ris1\n",
    "WITH id, replace(ris1, \"[[\", \"\") AS ris2\n",
    "WITH id,replace(ris2, \"]]\", \"\") AS ris3\n",
    "WITH id,replace(ris3, \"'\", \"\") AS ris4\n",
    "WITH id,split(ris4, \"], [\") AS ingrs_list\n",
    "MATCH (r:Recipe {id:id})\n",
    "WHERE ingrs_list[0]<>\"[]\"   // Alcune ricette non hanno ingredienti nè descrizione (es. Churros red velvet)\n",
    "FOREACH (ingr_quantita_string IN ingrs_list |\n",
    "    MERGE (i:Ingredient {name: split(ingr_quantita_string, \", \")[0]})\n",
    "    MERGE (r)-[:CONTAINS_INGREDIENT {quantita: split(ingr_quantita_string, \", \")[1]}]->(i)\n",
    ")\n",
    "\"\"\" \n",
    "graph.run(cq)\n",
    "\n",
    "\n",
    "# Creo le categorie \n",
    "cq=\"\"\"\n",
    "LOAD CSV WITH HEADERS FROM 'file:///gz_recipe.csv' AS value\n",
    "MATCH (r:Recipe {id:value[\"id\"]})\n",
    "WHERE value[\"Categoria\"] IS NOT NULL\n",
    "MERGE (c:Collection {name: value[\"Categoria\"]})\n",
    "MERGE (r)-[:COLLECTION]->(c)\n",
    "\"\"\"\n",
    "graph.run(cq)\n",
    "\n"
   ]
  },
  {
   "attachments": {},
   "cell_type": "markdown",
   "metadata": {},
   "source": [
    "### 3. Inserimento degli allergeni\n",
    "Ho aggiunto un campo \"is_allergene\" al nodo Ingredient. Ho scaricato da Kaggle due file:\n",
    "- [allergens.json](data/allergens.json) (https://www.kaggle.com/datasets/elenacivati/allergensjson): contenente un elenco non molto ampio di allergeni in italiano, inglese e altre lingue.\n",
    "- [FoodData.csv](data/FoodData.csv) (https://www.kaggle.com/datasets/boltcutters/food-allergens-and-allergies): contenente un elenco più ampio ma solo in inglese\n",
    "\n",
    "Ho quindi impostato gli ingredienti contenuti nei file con is_allergene=True. Ho invece settato is_allergene=False per i restanti ingredienti. "
   ]
  },
  {
   "cell_type": "code",
   "execution_count": 7,
   "metadata": {},
   "outputs": [
    {
     "data": {
      "text/html": [
       "(No data)"
      ],
      "text/plain": [
       "(No data)"
      ]
     },
     "execution_count": 7,
     "metadata": {},
     "output_type": "execute_result"
    }
   ],
   "source": [
    "# Prendo dal file allergens.json i nomi degli ingredienti in inglese e italiano. \n",
    "# Converto poi in csv, in modo da semplificare la lettura del file successivamente\n",
    "import pandas as pd\n",
    "df_allergens = pd.read_json(DATA_FOLDER + \"allergens.json\").transpose()\n",
    "df_allergens[\"en\"]=df_allergens.index\n",
    "df_allergens[\"en\"]=df_allergens[\"en\"].apply(lambda x: x[3:])\n",
    "df_allergens[\"it\"]=df_allergens[\"name\"].apply(lambda x: x[\"it\"])\n",
    "df_allergens=df_allergens[[\"en\", \"it\"]]\n",
    "df_allergens.to_csv(DATA_FOLDER + \"allergens.csv\", index=False)\n",
    "copy_in_import_dir(\"allergens.csv\")\n",
    "\n",
    "# Setto gli allergeni\n",
    "cq=\"\"\"\n",
    "LOAD CSV WITH HEADERS FROM 'file:///FoodData.csv' AS value\n",
    "LOAD CSV WITH HEADERS FROM 'file:///allergens.csv' AS value2\n",
    "MATCH (i:Ingredient)\n",
    "WHERE \n",
    "    toLower(i.name) CONTAINS toLower(value[\"Food\"])  OR \n",
    "    toLower(i.name) CONTAINS toLower(value2[\"en\"])  OR \n",
    "    toLower(i.name) CONTAINS toLower(value2[\"it\"])  \n",
    "SET i.is_allergene=True;\"\"\"\n",
    "graph.run(cq)\n",
    "\n",
    "# Setto i restanti ingredienti come non allergeni\n",
    "cq=\"\"\"\n",
    "MATCH (i:Ingredient)\n",
    "WHERE i.is_allergene IS NULL\n",
    "SET i.is_allergene=False; \"\"\"\n",
    "graph.run(cq)\n"
   ]
  },
  {
   "attachments": {},
   "cell_type": "markdown",
   "metadata": {},
   "source": [
    "### 4. Nuovo indice\n",
    "Per velocizzare in futuro la ricerca delle ricette in base al nome, ho deciso di inserire un nuovo indice sulla proprietà name di Recipe."
   ]
  },
  {
   "cell_type": "code",
   "execution_count": 8,
   "metadata": {},
   "outputs": [
    {
     "data": {
      "text/html": [
       "(No data)"
      ],
      "text/plain": [
       "(No data)"
      ]
     },
     "execution_count": 8,
     "metadata": {},
     "output_type": "execute_result"
    }
   ],
   "source": [
    "graph.run(\" CREATE INDEX IF NOT EXISTS FOR (n:Recipe) ON (n.name);\")"
   ]
  },
  {
   "attachments": {},
   "cell_type": "markdown",
   "metadata": {},
   "source": [
    "### Schema finale\n",
    "Dopo le modifiche, lo schema finale è il seguente:"
   ]
  },
  {
   "attachments": {},
   "cell_type": "markdown",
   "metadata": {},
   "source": [
    "![schema](img/db_schema_finale.png)"
   ]
  },
  {
   "cell_type": "code",
   "execution_count": 9,
   "metadata": {},
   "outputs": [
    {
     "data": {
      "text/html": [
       "<table><tr><th>nodeType</th><th>nodeLabels</th><th>propertyName</th><th>propertyTypes</th><th>mandatory</th></tr><tr><td style=\"text-align:left\">:`Author`</td><td style=\"text-align:left\">[&#039;Author&#039;]</td><td style=\"text-align:left\">name</td><td style=\"text-align:left\">[&#039;String&#039;]</td><td style=\"text-align:left\">true</td></tr><tr><td style=\"text-align:left\">:`Ingredient`</td><td style=\"text-align:left\">[&#039;Ingredient&#039;]</td><td style=\"text-align:left\">name</td><td style=\"text-align:left\">[&#039;String&#039;]</td><td style=\"text-align:left\">true</td></tr><tr><td style=\"text-align:left\">:`Ingredient`</td><td style=\"text-align:left\">[&#039;Ingredient&#039;]</td><td style=\"text-align:left\">is_allergene</td><td style=\"text-align:left\">[&#039;Boolean&#039;]</td><td style=\"text-align:left\">true</td></tr><tr><td style=\"text-align:left\">:`DietType`</td><td style=\"text-align:left\">[&#039;DietType&#039;]</td><td style=\"text-align:left\">name</td><td style=\"text-align:left\">[&#039;String&#039;]</td><td style=\"text-align:left\">true</td></tr><tr><td style=\"text-align:left\">:`Collection`</td><td style=\"text-align:left\">[&#039;Collection&#039;]</td><td style=\"text-align:left\">name</td><td style=\"text-align:left\">[&#039;String&#039;]</td><td style=\"text-align:left\">true</td></tr><tr><td style=\"text-align:left\">:`Recipe`</td><td style=\"text-align:left\">[&#039;Recipe&#039;]</td><td style=\"text-align:left\">id</td><td style=\"text-align:left\">[&#039;String&#039;]</td><td style=\"text-align:left\">true</td></tr><tr><td style=\"text-align:left\">:`Recipe`</td><td style=\"text-align:left\">[&#039;Recipe&#039;]</td><td style=\"text-align:left\">cookingTime</td><td style=\"text-align:left\">[&#039;Long&#039;]</td><td style=\"text-align:left\">false</td></tr><tr><td style=\"text-align:left\">:`Recipe`</td><td style=\"text-align:left\">[&#039;Recipe&#039;]</td><td style=\"text-align:left\">preparationTime</td><td style=\"text-align:left\">[&#039;Long&#039;]</td><td style=\"text-align:left\">false</td></tr><tr><td style=\"text-align:left\">:`Recipe`</td><td style=\"text-align:left\">[&#039;Recipe&#039;]</td><td style=\"text-align:left\">name</td><td style=\"text-align:left\">[&#039;String&#039;]</td><td style=\"text-align:left\">true</td></tr><tr><td style=\"text-align:left\">:`Recipe`</td><td style=\"text-align:left\">[&#039;Recipe&#039;]</td><td style=\"text-align:left\">description</td><td style=\"text-align:left\">[&#039;String&#039;]</td><td style=\"text-align:left\">false</td></tr><tr><td style=\"text-align:left\">:`Recipe`</td><td style=\"text-align:left\">[&#039;Recipe&#039;]</td><td style=\"text-align:left\">skillLevel</td><td style=\"text-align:left\">[&#039;String&#039;]</td><td style=\"text-align:left\">false</td></tr><tr><td style=\"text-align:left\">:`Recipe`</td><td style=\"text-align:left\">[&#039;Recipe&#039;]</td><td style=\"text-align:left\">persone_pezzi</td><td style=\"text-align:left\">[&#039;String&#039;]</td><td style=\"text-align:left\">false</td></tr><tr><td style=\"text-align:left\">:`Recipe`</td><td style=\"text-align:left\">[&#039;Recipe&#039;]</td><td style=\"text-align:left\">fonte</td><td style=\"text-align:left\">[&#039;String&#039;]</td><td style=\"text-align:left\">true</td></tr></table>"
      ],
      "text/plain": [
       " nodeType      | nodeLabels     | propertyName    | propertyTypes | mandatory \n",
       "---------------|----------------|-----------------|---------------|-----------\n",
       " :`Author`     | ['Author']     | name            | ['String']    | true      \n",
       " :`Ingredient` | ['Ingredient'] | name            | ['String']    | true      \n",
       " :`Ingredient` | ['Ingredient'] | is_allergene    | ['Boolean']   | true      \n",
       " :`DietType`   | ['DietType']   | name            | ['String']    | true      \n",
       " :`Collection` | ['Collection'] | name            | ['String']    | true      \n",
       " :`Recipe`     | ['Recipe']     | id              | ['String']    | true      \n",
       " :`Recipe`     | ['Recipe']     | cookingTime     | ['Long']      | false     \n",
       " :`Recipe`     | ['Recipe']     | preparationTime | ['Long']      | false     \n",
       " :`Recipe`     | ['Recipe']     | name            | ['String']    | true      \n",
       " :`Recipe`     | ['Recipe']     | description     | ['String']    | false     \n",
       " :`Recipe`     | ['Recipe']     | skillLevel      | ['String']    | false     \n",
       " :`Recipe`     | ['Recipe']     | persone_pezzi   | ['String']    | false     \n",
       " :`Recipe`     | ['Recipe']     | fonte           | ['String']    | true      "
      ]
     },
     "execution_count": 9,
     "metadata": {},
     "output_type": "execute_result"
    }
   ],
   "source": [
    "def print_first_n(cq, n=1000):\n",
    "    ris = graph.run(cq)\n",
    "    ris.sample_size = n\n",
    "    return ris\n",
    "\n",
    "print_first_n(\"CALL db.schema.nodeTypeProperties\")"
   ]
  },
  {
   "cell_type": "code",
   "execution_count": 10,
   "metadata": {},
   "outputs": [
    {
     "data": {
      "text/html": [
       "<table><tr><th>relType</th><th>propertyName</th><th>propertyTypes</th><th>mandatory</th></tr><tr><td style=\"text-align:left\">:`WROTE`</td><td style=\"text-align:left\">null</td><td style=\"text-align:left\">null</td><td style=\"text-align:left\">false</td></tr><tr><td style=\"text-align:left\">:`CONTAINS_INGREDIENT`</td><td style=\"text-align:left\">quantita</td><td style=\"text-align:left\">[&#039;String&#039;]</td><td style=\"text-align:left\">false</td></tr><tr><td style=\"text-align:left\">:`DIET_TYPE`</td><td style=\"text-align:left\">null</td><td style=\"text-align:left\">null</td><td style=\"text-align:left\">false</td></tr><tr><td style=\"text-align:left\">:`COLLECTION`</td><td style=\"text-align:left\">null</td><td style=\"text-align:left\">null</td><td style=\"text-align:left\">false</td></tr></table>"
      ],
      "text/plain": [
       " relType                | propertyName | propertyTypes | mandatory \n",
       "------------------------|--------------|---------------|-----------\n",
       " :`WROTE`               | null         | null          | false     \n",
       " :`CONTAINS_INGREDIENT` | quantita     | ['String']    | false     \n",
       " :`DIET_TYPE`           | null         | null          | false     \n",
       " :`COLLECTION`          | null         | null          | false     "
      ]
     },
     "execution_count": 10,
     "metadata": {},
     "output_type": "execute_result"
    }
   ],
   "source": [
    "print_first_n(\"CALL db.schema.relTypeProperties\")"
   ]
  },
  {
   "cell_type": "code",
   "execution_count": 11,
   "metadata": {},
   "outputs": [
    {
     "data": {
      "text/html": [
       "<table><tr><th>id</th><th>name</th><th>state</th><th>populationPercent</th><th>type</th><th>entityType</th><th>labelsOrTypes</th><th>properties</th><th>indexProvider</th><th>owningConstraint</th></tr><tr><td style=\"text-align:right\">8</td><td style=\"text-align:left\">id_ricetta_univoco</td><td style=\"text-align:left\">ONLINE</td><td style=\"text-align:right\">100.0</td><td style=\"text-align:left\">RANGE</td><td style=\"text-align:left\">NODE</td><td style=\"text-align:left\">[&#039;Recipe&#039;]</td><td style=\"text-align:left\">[&#039;id&#039;]</td><td style=\"text-align:left\">range-1.0</td><td style=\"text-align:left\">id_ricetta_univoco</td></tr><tr><td style=\"text-align:right\">7</td><td style=\"text-align:left\">index_217e8412</td><td style=\"text-align:left\">ONLINE</td><td style=\"text-align:right\">100.0</td><td style=\"text-align:left\">RANGE</td><td style=\"text-align:left\">NODE</td><td style=\"text-align:left\">[&#039;Collection&#039;]</td><td style=\"text-align:left\">[&#039;name&#039;]</td><td style=\"text-align:left\">range-1.0</td><td style=\"text-align:left\">null</td></tr><tr><td style=\"text-align:right\">1</td><td style=\"text-align:left\">index_343aff4e</td><td style=\"text-align:left\">ONLINE</td><td style=\"text-align:right\">100.0</td><td style=\"text-align:left\">LOOKUP</td><td style=\"text-align:left\">NODE</td><td style=\"text-align:left\">null</td><td style=\"text-align:left\">null</td><td style=\"text-align:left\">token-lookup-1.0</td><td style=\"text-align:left\">null</td></tr><tr><td style=\"text-align:right\">6</td><td style=\"text-align:left\">index_6ba4d9f7</td><td style=\"text-align:left\">ONLINE</td><td style=\"text-align:right\">100.0</td><td style=\"text-align:left\">RANGE</td><td style=\"text-align:left\">NODE</td><td style=\"text-align:left\">[&#039;DietType&#039;]</td><td style=\"text-align:left\">[&#039;name&#039;]</td><td style=\"text-align:left\">range-1.0</td><td style=\"text-align:left\">null</td></tr><tr><td style=\"text-align:right\">3</td><td style=\"text-align:left\">index_ac0200dd</td><td style=\"text-align:left\">ONLINE</td><td style=\"text-align:right\">100.0</td><td style=\"text-align:left\">RANGE</td><td style=\"text-align:left\">NODE</td><td style=\"text-align:left\">[&#039;Recipe&#039;]</td><td style=\"text-align:left\">[&#039;name&#039;]</td><td style=\"text-align:left\">range-1.0</td><td style=\"text-align:left\">null</td></tr><tr><td style=\"text-align:right\">4</td><td style=\"text-align:left\">index_bf1e25cf</td><td style=\"text-align:left\">ONLINE</td><td style=\"text-align:right\">100.0</td><td style=\"text-align:left\">RANGE</td><td style=\"text-align:left\">NODE</td><td style=\"text-align:left\">[&#039;Author&#039;]</td><td style=\"text-align:left\">[&#039;name&#039;]</td><td style=\"text-align:left\">range-1.0</td><td style=\"text-align:left\">null</td></tr><tr><td style=\"text-align:right\">5</td><td style=\"text-align:left\">index_f492b287</td><td style=\"text-align:left\">ONLINE</td><td style=\"text-align:right\">100.0</td><td style=\"text-align:left\">RANGE</td><td style=\"text-align:left\">NODE</td><td style=\"text-align:left\">[&#039;Ingredient&#039;]</td><td style=\"text-align:left\">[&#039;name&#039;]</td><td style=\"text-align:left\">range-1.0</td><td style=\"text-align:left\">null</td></tr><tr><td style=\"text-align:right\">2</td><td style=\"text-align:left\">index_f7700477</td><td style=\"text-align:left\">ONLINE</td><td style=\"text-align:right\">100.0</td><td style=\"text-align:left\">LOOKUP</td><td style=\"text-align:left\">RELATIONSHIP</td><td style=\"text-align:left\">null</td><td style=\"text-align:left\">null</td><td style=\"text-align:left\">token-lookup-1.0</td><td style=\"text-align:left\">null</td></tr></table>"
      ],
      "text/plain": [
       " id | name               | state  | populationPercent | type   | entityType   | labelsOrTypes  | properties | indexProvider    | owningConstraint   \n",
       "----|--------------------|--------|-------------------|--------|--------------|----------------|------------|------------------|--------------------\n",
       "  8 | id_ricetta_univoco | ONLINE |             100.0 | RANGE  | NODE         | ['Recipe']     | ['id']     | range-1.0        | id_ricetta_univoco \n",
       "  7 | index_217e8412     | ONLINE |             100.0 | RANGE  | NODE         | ['Collection'] | ['name']   | range-1.0        | null               \n",
       "  1 | index_343aff4e     | ONLINE |             100.0 | LOOKUP | NODE         | null           | null       | token-lookup-1.0 | null               \n",
       "  6 | index_6ba4d9f7     | ONLINE |             100.0 | RANGE  | NODE         | ['DietType']   | ['name']   | range-1.0        | null               \n",
       "  3 | index_ac0200dd     | ONLINE |             100.0 | RANGE  | NODE         | ['Recipe']     | ['name']   | range-1.0        | null               \n",
       "  4 | index_bf1e25cf     | ONLINE |             100.0 | RANGE  | NODE         | ['Author']     | ['name']   | range-1.0        | null               \n",
       "  5 | index_f492b287     | ONLINE |             100.0 | RANGE  | NODE         | ['Ingredient'] | ['name']   | range-1.0        | null               \n",
       "  2 | index_f7700477     | ONLINE |             100.0 | LOOKUP | RELATIONSHIP | null           | null       | token-lookup-1.0 | null               "
      ]
     },
     "execution_count": 11,
     "metadata": {},
     "output_type": "execute_result"
    }
   ],
   "source": [
    "print_first_n(\"SHOW INDEX\")"
   ]
  },
  {
   "cell_type": "code",
   "execution_count": 12,
   "metadata": {},
   "outputs": [
    {
     "data": {
      "text/html": [
       "<table><tr><th>id</th><th>name</th><th>type</th><th>entityType</th><th>labelsOrTypes</th><th>properties</th><th>ownedIndex</th></tr><tr><td style=\"text-align:right\">9</td><td style=\"text-align:left\">id_ricetta_univoco</td><td style=\"text-align:left\">UNIQUENESS</td><td style=\"text-align:left\">NODE</td><td style=\"text-align:left\">[&#039;Recipe&#039;]</td><td style=\"text-align:left\">[&#039;id&#039;]</td><td style=\"text-align:left\">id_ricetta_univoco</td></tr></table>"
      ],
      "text/plain": [
       " id | name               | type       | entityType | labelsOrTypes | properties | ownedIndex         \n",
       "----|--------------------|------------|------------|---------------|------------|--------------------\n",
       "  9 | id_ricetta_univoco | UNIQUENESS | NODE       | ['Recipe']    | ['id']     | id_ricetta_univoco "
      ]
     },
     "execution_count": 12,
     "metadata": {},
     "output_type": "execute_result"
    }
   ],
   "source": [
    "print_first_n(\"SHOW CONSTRAINT\")"
   ]
  },
  {
   "attachments": {},
   "cell_type": "markdown",
   "metadata": {},
   "source": [
    "## Interrogazioni"
   ]
  },
  {
   "attachments": {},
   "cell_type": "markdown",
   "metadata": {},
   "source": [
    "### Quali ricette contengono due ingredienti (scelti dall'utente)?"
   ]
  },
  {
   "cell_type": "code",
   "execution_count": 13,
   "metadata": {},
   "outputs": [
    {
     "name": "stdout",
     "output_type": "stream",
     "text": [
      "************ Stampa una ricetta con due ingredienti ************ \n",
      "Qualche suggerimento per la scelta degli ingredienti: \n"
     ]
    },
    {
     "data": {
      "text/html": [
       "<table><tr><th>ingrediente</th><th>is_allergene</th></tr><tr><td style=\"text-align:left\">raw cacao powder</td><td style=\"text-align:left\">false</td></tr><tr><td style=\"text-align:left\">puffed wheat</td><td style=\"text-align:left\">true</td></tr><tr><td style=\"text-align:left\">Aroma allarancia</td><td style=\"text-align:left\">false</td></tr><tr><td style=\"text-align:left\">pain de campagne</td><td style=\"text-align:left\">false</td></tr><tr><td style=\"text-align:left\">rice vinegar</td><td style=\"text-align:left\">true</td></tr></table>"
      ],
      "text/plain": [
       " ingrediente      | is_allergene \n",
       "------------------|--------------\n",
       " raw cacao powder | false        \n",
       " puffed wheat     | true         \n",
       " Aroma allarancia | false        \n",
       " pain de campagne | false        \n",
       " rice vinegar     | true         "
      ]
     },
     "metadata": {},
     "output_type": "display_data"
    },
    {
     "name": "stdout",
     "output_type": "stream",
     "text": [
      "Ecco 5 ingredienti usati spesso con Confettura di prugne\n"
     ]
    },
    {
     "data": {
      "text/html": [
       "<table><tr><th>ingrediente_raccomandato</th><th>is_allergene</th></tr><tr><td style=\"text-align:left\">Uova</td><td style=\"text-align:left\">true</td></tr><tr><td style=\"text-align:left\">Farina 00</td><td style=\"text-align:left\">false</td></tr><tr><td style=\"text-align:left\">Zucchero</td><td style=\"text-align:left\">false</td></tr><tr><td style=\"text-align:left\">Sale fino</td><td style=\"text-align:left\">false</td></tr><tr><td style=\"text-align:left\">Latte intero</td><td style=\"text-align:left\">true</td></tr></table>"
      ],
      "text/plain": [
       " ingrediente_raccomandato | is_allergene \n",
       "--------------------------|--------------\n",
       " Uova                     | true         \n",
       " Farina 00                | false        \n",
       " Zucchero                 | false        \n",
       " Sale fino                | false        \n",
       " Latte intero             | true         "
      ]
     },
     "metadata": {},
     "output_type": "display_data"
    },
    {
     "name": "stdout",
     "output_type": "stream",
     "text": [
      "\n",
      "Ricette trovate con gli ingredienti Confettura di prugne ,  uova: \n",
      "\t Crostata alla crema e prugne\n",
      "\t Treccine di sfoglia\n",
      "\t Girelle alla marmellata\n"
     ]
    }
   ],
   "source": [
    "# Cerco le ricette con due ingredienti\n",
    "print(\"************ Stampa una ricetta con due ingredienti ************ \")\n",
    "\n",
    "# Stampo qualche suggerimento\n",
    "print(\"Qualche suggerimento per la scelta degli ingredienti: \")\n",
    "cq = \"\"\" \n",
    "MATCH (i:Ingredient)\n",
    "WITH i, rand() as num\n",
    "RETURN i.name AS ingrediente, i.is_allergene AS is_allergene\n",
    "ORDER BY num\n",
    "LIMIT 5\n",
    "\"\"\"\n",
    "display(print_first_n(cq))\n",
    "\n",
    "# Chiedo il primo ingrediente e stampo gli ingredienti più usati con esso\n",
    "ingrediente1=\"\"\n",
    "while ingrediente1==\"\":\n",
    "    ingrediente1=input(\"Inserisci primo ingrediente: \")\n",
    "# ingrediente1=\"Confettura di prugne\"\n",
    "\n",
    "print(\"Ecco 5 ingredienti usati spesso con \" +ingrediente1)\n",
    "cq = \"\"\" \n",
    "MATCH (i_scelto:Ingredient)<-[:CONTAINS_INGREDIENT]-(:Recipe)-[:CONTAINS_INGREDIENT]->(i2:Ingredient)\n",
    "WHERE toLower(i_scelto.name) CONTAINS toLower('\"\"\"+ingrediente1+\"\"\"')\n",
    "WITH i2,  COUNT(i2) AS num\n",
    "RETURN i2.name AS ingrediente_raccomandato, i2.is_allergene AS is_allergene\n",
    "ORDER BY num DESC\n",
    "LIMIT 5\n",
    "\"\"\"\n",
    "display(print_first_n(cq))\n",
    "\n",
    "\n",
    "# Chiedo il secondo ingrediente\n",
    "ingrediente2=\"\"\n",
    "while ingrediente2==\"\": \n",
    "    ingrediente2=input(\"Inserisci secondo ingrediente: \")\n",
    "# ingrediente2=\"Uova\"\n",
    "\n",
    "# Cerco i risultati...\n",
    "cq = \"\"\" \n",
    "MATCH (i1:Ingredient)<-[:CONTAINS_INGREDIENT]-(r:Recipe)-[:CONTAINS_INGREDIENT]->(i2:Ingredient)\n",
    "WHERE \n",
    "    toLower(i1.name) CONTAINS toLower('\"\"\"+ingrediente1+\"\"\"') AND \n",
    "    toLower(i2.name) CONTAINS toLower('\"\"\"+ingrediente2+\"\"\"') \n",
    "RETURN r\n",
    "\"\"\"\n",
    "recipe_list = graph.run(cq)\n",
    "\n",
    "# ... e li stampo\n",
    "print(\"\\nRicette trovate con gli ingredienti\",ingrediente1, \", \" ,ingrediente2,\"\\b: \")\n",
    "ricetta_trovata = False\n",
    "for r in recipe_list:\n",
    "    ricetta_trovata = True\n",
    "    node_recipe = r[r.keys()[0]]\n",
    "    print(\"\\t\", node_recipe.get(\"name\", \"\\b\"))\n",
    "if not ricetta_trovata:\n",
    "    print(\"------ Nessuna ricetta! ------\")\n",
    "    "
   ]
  },
  {
   "attachments": {},
   "cell_type": "markdown",
   "metadata": {},
   "source": [
    "### Stampa i dettagli di una ricetta"
   ]
  },
  {
   "cell_type": "code",
   "execution_count": 14,
   "metadata": {},
   "outputs": [
    {
     "name": "stdout",
     "output_type": "stream",
     "text": [
      "Ricetta scelta: Limoncello\n",
      "---------------\n",
      "fonte: BBC GoodFood\n",
      "name: Limoncello\n",
      "preparationTime: 900\n",
      "description: Make up a batch of this boozy lemony drink - it's great as a homemade gift or poured over ice cream\n",
      "id: 102024\n",
      "skillLevel: Easy\n",
      "cookingTime: 0\n",
      "Categorie: ['Our top 25 drink', 'Lemon', \"New Year's Eve cocktails\"]\n",
      "Ingredienti: ['caster sugar (Allergene!) ', 'water ', 'lemon (Allergene!) ', 'vodka ']\n",
      "---------------\n",
      "persone_pezzi: 10\n",
      "fonte: GialloZafferano\n",
      "name: Limoncello\n",
      "description: Per realizzare il limoncello lavate i limoni sotto il getto dell’acqua corrente sfregate la buccia con una spugnetta nuova per eliminare eventuali impurità, quindi asciugate i limoni con un canovaccio Sbucciate i limoni con un pelapatate, dovrete prelevare solo la scorza gialla e non la parte bianca che risulterebbe amara Prendete un recipiente di vetro con chiusura ermetica, versate all’interno l’alcol richiudete il barattolo Trascorsi i 30 giorni recuperate le scorze e preparate lo sciroppo: in un tegame versate l’acqua portate al bollore lo sciroppo e, una volta raggiunto il bollore spegnete il fuoco, versate lo sciroppo in una brocca Agitate il barattolo per mescolare lo sciroppo, quindi lasciatelo ancora riposare Trascorso il tempo di riposo riprendete il barattolo con il liquore, agitatelo e poi filtratelo attraverso un colino (13-14) e raccogliete il liquore all’interno di una bottiglia. Il vostro limoncello fatto in casa è pronto per essere degustato \n",
      "id: 385\n",
      "Categorie: ['Bevande']\n",
      "Ingredienti: ['Limoni 5', 'Zucchero 600g', 'Alcol puro 500ml', 'Acqua 750ml']\n"
     ]
    }
   ],
   "source": [
    "# Chiedo il nome della ricetta\n",
    "nome_ricetta=\"\"\n",
    "while nome_ricetta==\"\": \n",
    "    nome_ricetta=input(\"Inserisci nome della ricetta: \")\n",
    "print(\"Ricetta scelta:\", nome_ricetta)\n",
    "#nome_ricetta=\"Limoncello\"\n",
    "\n",
    "# Cerco la ricetta e tutti i relativi dati\n",
    "cq = \"\"\"\n",
    "MATCH (r:Recipe) \n",
    "WHERE toLower(r.name) = toLower('\"\"\"+nome_ricetta+\"\"\"')\n",
    "OPTIONAL MATCH (a:Author)-[:WROTE]->(r)\n",
    "OPTIONAL MATCH (c:Collection)<-[:COLLECTION]-(r)\n",
    "OPTIONAL MATCH (d:DietType)<-[:DIET_TYPE]-(r)\n",
    "OPTIONAL MATCH (i:Ingredient)<-[r_i:CONTAINS_INGREDIENT]-(r)\n",
    "RETURN r AS ricetta, COLLECT(DISTINCT c) AS categorie, COLLECT(DISTINCT i) AS ingredienti, COLLECT(DISTINCT d) AS tipi_dieta, COLLECT(DISTINCT r_i) AS quantita_ingredienti\n",
    "\"\"\"\n",
    "list_recipes = graph.run(cq)\n",
    "\n",
    "# Stampo i risultati\n",
    "ricetta_trovata=False\n",
    "for res in list_recipes:\n",
    "    ricetta_trovata = True\n",
    "\n",
    "    tmp = dict(res)\n",
    "    print(\"---------------\")\n",
    "\n",
    "    if tmp.__contains__(\"ricetta\"):\n",
    "        for k,v in tmp[\"ricetta\"].items():\n",
    "            print(k, \"\\b:\",v)\n",
    "    \n",
    "    if tmp.__contains__(\"categorie\"):\n",
    "        categorie = tmp[\"categorie\"]\n",
    "        print(\"Categorie:\", [v for c in categorie for _,v in c.items()])\n",
    "    \n",
    "    if tmp.__contains__(\"ingredienti\"):\n",
    "        ingredienti =  [c[\"name\"] + (\" (Allergene!)\" if c[\"is_allergene\"] else \"\") for c in tmp[\"ingredienti\"]]\n",
    "    \n",
    "    if tmp.__contains__(\"quantita_ingredienti\"):\n",
    "        quantita_ingredienti = [dict(q_i).get(\"quantita\", \"\") for q_i in tmp[\"quantita_ingredienti\"]]\n",
    "        tmp2 = []\n",
    "        for i in range(len(ingredienti)):\n",
    "            tmp2.append( ingredienti[i] + \" \" + quantita_ingredienti[i])\n",
    "        ingredienti = tmp2\n",
    "    \n",
    "    print(\"Ingredienti:\", ingredienti)\n",
    "\n",
    "if not ricetta_trovata:\n",
    "    print(\"--- Nessuna ricetta trovata --- \")\n"
   ]
  },
  {
   "attachments": {},
   "cell_type": "markdown",
   "metadata": {},
   "source": [
    "### Quali sono le ricette più veloci da preparare?"
   ]
  },
  {
   "cell_type": "code",
   "execution_count": 15,
   "metadata": {},
   "outputs": [
    {
     "name": "stdout",
     "output_type": "stream",
     "text": [
      "Scegli un'opzione. Ricetta piu' veloce in base a: \n",
      "\t1. Tempo di preparazione\n",
      "\t2. Tempo di cottura\n",
      "\t3. Tempo totale\n",
      "Opzione scelta: tempo_preparazione\n"
     ]
    },
    {
     "data": {
      "text/html": [
       "<table><tr><th>ricetta</th><th>tempo_cottura</th><th>tempo_preparazione</th><th>tempo_totale</th></tr><tr><td style=\"text-align:left\">Lighter Cornish pasties</td><td style=\"text-align:right\">3000</td><td style=\"text-align:right\">60</td><td style=\"text-align:right\">3060</td></tr><tr><td style=\"text-align:left\">Christmas spice latte</td><td style=\"text-align:right\">180</td><td style=\"text-align:right\">60</td><td style=\"text-align:right\">240</td></tr><tr><td style=\"text-align:left\">Creamy yogurt porridge</td><td style=\"text-align:right\">180</td><td style=\"text-align:right\">60</td><td style=\"text-align:right\">240</td></tr></table>"
      ],
      "text/plain": [
       " ricetta                 | tempo_cottura | tempo_preparazione | tempo_totale \n",
       "-------------------------|---------------|--------------------|--------------\n",
       " Lighter Cornish pasties |          3000 |                 60 |         3060 \n",
       " Christmas spice latte   |           180 |                 60 |          240 \n",
       " Creamy yogurt porridge  |           180 |                 60 |          240 "
      ]
     },
     "execution_count": 15,
     "metadata": {},
     "output_type": "execute_result"
    }
   ],
   "source": [
    "print(\"Scegli un'opzione. Ricetta piu' veloce in base a: \\n\\t1. Tempo di preparazione\\n\\t2. Tempo di cottura\\n\\t3. Tempo totale\")\n",
    "# opzione = \"1\"\n",
    "opzione=\"\"\n",
    "while opzione==\"\":\n",
    "    opzione=input(\">> \")\n",
    "    opzione = \"tempo_preparazione\" if opzione==\"1\" else (\"tempo_cottura\" if opzione==\"2\" else (\"tempo_totale\" if opzione==\"3\" else \"\"))\n",
    "print(\"Opzione scelta: \" + opzione)\n",
    "\n",
    "cq = \"\"\"MATCH (r:Recipe)\n",
    "WHERE r.preparationTime<>0\n",
    "RETURN r.name AS ricetta, r.cookingTime AS tempo_cottura, r.preparationTime as tempo_preparazione, r.cookingTime+r.preparationTime AS tempo_totale\n",
    "ORDER BY \"\"\" + opzione + \" LIMIT 3\"\n",
    "graph.run(cq)\n"
   ]
  },
  {
   "attachments": {},
   "cell_type": "markdown",
   "metadata": {},
   "source": [
    "### Chi ha scritto più ricette?"
   ]
  },
  {
   "cell_type": "code",
   "execution_count": 16,
   "metadata": {},
   "outputs": [
    {
     "data": {
      "text/html": [
       "<table><tr><th>a.name</th><th>num_ricette</th><th>alcune_ricette</th></tr><tr><td style=\"text-align:left\">Good Food</td><td style=\"text-align:right\">3441</td><td style=\"text-align:left\">[&#039;Tandoori tilapia with spicy sweet potato mash &amp; tomato salad&#039;, &#039;Best ever tiramisu&#039;, &#039;Duck, apricot &amp; pine nut pastilla&#039;, &#039;Raspberry tiramisu &#039;, &#039;Classic smoked salmon crostini&#039;]</td></tr><tr><td style=\"text-align:left\">Sara Buenfeld</td><td style=\"text-align:right\">664</td><td style=\"text-align:left\">[&#039;Thai curry fish cakes with sweet chilli dressing&#039;, &#039;Cranberry &amp; clementine jelly&#039;, &#039;Jam &amp; white chocolate roly-poly&#039;, &#039;South Indian coconut &amp; prawn curry&#039;, &#039;Turkey salad on rye&#039;]</td></tr><tr><td style=\"text-align:left\">Barney Desmazery</td><td style=\"text-align:right\">646</td><td style=\"text-align:left\">[&#039;Crispy bacon-basted turkey&#039;, &#039;Burnt butter cabbage&#039;, &#039;Tea-smoked salmon with herb mayonnaise&#039;, &#039;Poached plums&#039;, &#039;Creamy cucumber with gravadlax&#039;]</td></tr><tr><td style=\"text-align:left\">Cassie Best</td><td style=\"text-align:right\">638</td><td style=\"text-align:left\">[&#039;English rose cake&#039;, &#039;Gingerbread B\\u00c3\\u00bbche de No\\u00c3\\u00abl&#039;, &#039;Crunchy prawn &amp; noodle salad&#039;, &#039;Spanish meatball &amp; butter bean stew&#039;, &#039;Golden couscous with apricots &amp; crispy onions&#039;]</td></tr><tr><td style=\"text-align:left\">Sarah Cook</td><td style=\"text-align:right\">515</td><td style=\"text-align:left\">[&#039;Spring chicken paella&#039;, &#039;Iced trifle slice&#039;, &#039;Potato curry with lime &amp; cucumber raita&#039;, &#039;Salted caramel &amp; macadamia pralines&#039;, &#039;Shredded greens salad&#039;]</td></tr></table>"
      ],
      "text/plain": [
       " a.name           | num_ricette | alcune_ricette                                                                                                                                                                                   \n",
       "------------------|-------------|--------------------------------------------------------------------------------------------------------------------------------------------------------------------------------------------------\n",
       " Good Food        |        3441 | ['Tandoori tilapia with spicy sweet potato mash & tomato salad', 'Best ever tiramisu', 'Duck, apricot & pine nut pastilla', 'Raspberry tiramisu ', 'Classic smoked salmon crostini']             \n",
       " Sara Buenfeld    |         664 | ['Thai curry fish cakes with sweet chilli dressing', 'Cranberry & clementine jelly', 'Jam & white chocolate roly-poly', 'South Indian coconut & prawn curry', 'Turkey salad on rye']             \n",
       " Barney Desmazery |         646 | ['Crispy bacon-basted turkey', 'Burnt butter cabbage', 'Tea-smoked salmon with herb mayonnaise', 'Poached plums', 'Creamy cucumber with gravadlax']                                              \n",
       " Cassie Best      |         638 | ['English rose cake', 'Gingerbread B\\u00c3\\u00bbche de No\\u00c3\\u00abl', 'Crunchy prawn & noodle salad', 'Spanish meatball & butter bean stew', 'Golden couscous with apricots & crispy onions'] \n",
       " Sarah Cook       |         515 | ['Spring chicken paella', 'Iced trifle slice', 'Potato curry with lime & cucumber raita', 'Salted caramel & macadamia pralines', 'Shredded greens salad']                                        "
      ]
     },
     "metadata": {},
     "output_type": "display_data"
    }
   ],
   "source": [
    "cq = \"\"\"MATCH (a:Author)-[:WROTE]->(r:Recipe)\n",
    "WITH a, COUNT(r) AS num_ricette, COLLECT(r.name)[..5] AS alcune_ricette // Seleziono solo le prime cinque ricette\n",
    "RETURN a.name, num_ricette, alcune_ricette\n",
    "ORDER BY num_ricette DESC\n",
    "LIMIT 5\n",
    "\"\"\"\n",
    "display(print_first_n(cq))"
   ]
  },
  {
   "attachments": {},
   "cell_type": "markdown",
   "metadata": {},
   "source": [
    "### Stampa le ricette suggerite\n",
    "Partendo da una ricetta ('Chocolate chia pudding'), il seguente script stampa le ricette suggerite, in base alle categorie, ai tipi di dieta e all'autore/autrice comuni.\n"
   ]
  },
  {
   "cell_type": "code",
   "execution_count": 17,
   "metadata": {},
   "outputs": [
    {
     "data": {
      "text/html": [
       "<table><tr><th>ricetta_suggerita</th><th>categorie_comuni</th><th>diete_comuni</th><th>n_dati_comuni</th><th>autore_comune</th></tr><tr><td style=\"text-align:left\">Quinoa stew with squash, prunes &amp; pomegranate</td><td style=\"text-align:left\">[&#039;Easy vegan&#039;, &#039;Healthy vegan&#039;, &#039;Vegan gluten-free&#039;]</td><td style=\"text-align:left\">[&#039;Vegan&#039;, &#039;Dairy-free&#039;, &#039;Vegetarian&#039;, &#039;Gluten-free&#039;, &#039;Healthy&#039;]</td><td style=\"text-align:right\">15</td><td style=\"text-align:left\">null</td></tr><tr><td style=\"text-align:left\">Guacamole &amp; mango salad with black beans</td><td style=\"text-align:left\">[&#039;Vegan summer&#039;, &#039;Healthy vegan&#039;, &#039;Vegan gluten-free&#039;]</td><td style=\"text-align:left\">[&#039;Vegan&#039;, &#039;Low-calorie&#039;, &#039;Gluten-free&#039;, &#039;Vegetarian&#039;, &#039;Healthy&#039;]</td><td style=\"text-align:right\">15</td><td style=\"text-align:left\">null</td></tr><tr><td style=\"text-align:left\">Chargrilled vegetable tacos with smoky salsa</td><td style=\"text-align:left\">[&#039;Easy vegan&#039;, &#039;Vegan summer&#039;, &#039;Healthy vegan&#039;]</td><td style=\"text-align:left\">[&#039;Vegan&#039;, &#039;Low-calorie&#039;, &#039;Healthy&#039;, &#039;Vegetarian&#039;]</td><td style=\"text-align:right\">12</td><td style=\"text-align:left\">null</td></tr><tr><td style=\"text-align:left\">Vegan chickpea curry jacket potatoes</td><td style=\"text-align:left\">[&#039;Easy vegan&#039;, &#039;Healthy vegan&#039;, &#039;Vegan gluten-free&#039;]</td><td style=\"text-align:left\">[&#039;Vegetarian&#039;, &#039;Vegan&#039;, &#039;Gluten-free&#039;, &#039;Healthy&#039;]</td><td style=\"text-align:right\">12</td><td style=\"text-align:left\">null</td></tr><tr><td style=\"text-align:left\">Vegan Eton mess</td><td style=\"text-align:left\">[&#039;Vegan summer&#039;, &#039;Vegan gluten-free&#039;]</td><td style=\"text-align:left\">[&#039;Gluten-free&#039;, &#039;Vegan&#039;, &#039;Vegetarian&#039;, &#039;Dairy-free&#039;, &#039;Egg-free&#039;]</td><td style=\"text-align:right\">10</td><td style=\"text-align:left\">Sophie Godwin</td></tr></table>"
      ],
      "text/plain": [
       " ricetta_suggerita                             | categorie_comuni                                       | diete_comuni                                                     | n_dati_comuni | autore_comune \n",
       "-----------------------------------------------|--------------------------------------------------------|------------------------------------------------------------------|---------------|---------------\n",
       " Quinoa stew with squash, prunes & pomegranate | ['Easy vegan', 'Healthy vegan', 'Vegan gluten-free']   | ['Vegan', 'Dairy-free', 'Vegetarian', 'Gluten-free', 'Healthy']  |            15 | null          \n",
       " Guacamole & mango salad with black beans      | ['Vegan summer', 'Healthy vegan', 'Vegan gluten-free'] | ['Vegan', 'Low-calorie', 'Gluten-free', 'Vegetarian', 'Healthy'] |            15 | null          \n",
       " Chargrilled vegetable tacos with smoky salsa  | ['Easy vegan', 'Vegan summer', 'Healthy vegan']        | ['Vegan', 'Low-calorie', 'Healthy', 'Vegetarian']                |            12 | null          \n",
       " Vegan chickpea curry jacket potatoes          | ['Easy vegan', 'Healthy vegan', 'Vegan gluten-free']   | ['Vegetarian', 'Vegan', 'Gluten-free', 'Healthy']                |            12 | null          \n",
       " Vegan Eton mess                               | ['Vegan summer', 'Vegan gluten-free']                  | ['Gluten-free', 'Vegan', 'Vegetarian', 'Dairy-free', 'Egg-free'] |            10 | Sophie Godwin "
      ]
     },
     "metadata": {},
     "output_type": "display_data"
    }
   ],
   "source": [
    "ricetta = \"Chocolate chia pudding\"\n",
    "cq = \"\"\" \n",
    "MATCH (r:Recipe {name:'\"\"\"+ ricetta +\"\"\"'})-[:COLLECTION]->(c:Collection)<-[:COLLECTION]-(r2:Recipe)\n",
    "OPTIONAL MATCH (r)-[:DIET_TYPE]->(d:DietType)<-[:DIET_TYPE]-(r2)\n",
    "OPTIONAL MATCH (r)<-[:WROTE]-(a:Author)-[:WROTE]->(r2)\n",
    "WITH r2, COUNT(*) AS n_dati_comuni, COLLECT(DISTINCT d.name) AS diete_comuni,COLLECT(DISTINCT c.name) AS categorie_comuni, a.name AS autore_comune\n",
    "RETURN r2.name AS ricetta_suggerita, categorie_comuni, diete_comuni, n_dati_comuni, autore_comune\n",
    "ORDER BY n_dati_comuni DESC, autore_comune IS NULL \n",
    "LIMIT 5\n",
    "\"\"\"\n",
    "display(print_first_n(cq))"
   ]
  },
  {
   "attachments": {},
   "cell_type": "markdown",
   "metadata": {},
   "source": [
    "### Quali ingredienti sono usati più spesso con la pasta? "
   ]
  },
  {
   "cell_type": "code",
   "execution_count": 18,
   "metadata": {},
   "outputs": [
    {
     "data": {
      "text/html": [
       "<table><tr><th>ingrediente</th><th>frequenza</th></tr><tr><td style=\"text-align:left\">olive oil</td><td style=\"text-align:right\">65</td></tr><tr><td style=\"text-align:left\">parmesan</td><td style=\"text-align:right\">44</td></tr><tr><td style=\"text-align:left\">garlic clove</td><td style=\"text-align:right\">41</td></tr><tr><td style=\"text-align:left\">onion</td><td style=\"text-align:right\">25</td></tr><tr><td style=\"text-align:left\">lemon</td><td style=\"text-align:right\">23</td></tr><tr><td style=\"text-align:left\">pesto</td><td style=\"text-align:right\">17</td></tr><tr><td style=\"text-align:left\">parsley</td><td style=\"text-align:right\">14</td></tr><tr><td style=\"text-align:left\">chopped tomato</td><td style=\"text-align:right\">12</td></tr><tr><td style=\"text-align:left\">basil</td><td style=\"text-align:right\">12</td></tr><tr><td style=\"text-align:left\">tomato</td><td style=\"text-align:right\">11</td></tr></table>"
      ],
      "text/plain": [
       " ingrediente    | frequenza \n",
       "----------------|-----------\n",
       " olive oil      |        65 \n",
       " parmesan       |        44 \n",
       " garlic clove   |        41 \n",
       " onion          |        25 \n",
       " lemon          |        23 \n",
       " pesto          |        17 \n",
       " parsley        |        14 \n",
       " chopped tomato |        12 \n",
       " basil          |        12 \n",
       " tomato         |        11 "
      ]
     },
     "metadata": {},
     "output_type": "display_data"
    }
   ],
   "source": [
    "cq =\"\"\" \n",
    "MATCH (pasta:Ingredient)<-[:CONTAINS_INGREDIENT]-()-[:CONTAINS_INGREDIENT]->(i:Ingredient)\n",
    "WHERE toLower(pasta.name)=\"pasta\"\n",
    "WITH i, count(*) as frequenza\n",
    "RETURN i.name AS ingrediente, frequenza\n",
    "ORDER BY frequenza DESC \n",
    "LIMIT 10\n",
    "\"\"\"\n",
    "display(print_first_n(cq))"
   ]
  },
  {
   "attachments": {},
   "cell_type": "markdown",
   "metadata": {},
   "source": [
    "### Ricette presenti sia su GialloZafferano, sia su BBC GoodFood"
   ]
  },
  {
   "cell_type": "code",
   "execution_count": 19,
   "metadata": {},
   "outputs": [
    {
     "name": "stdout",
     "output_type": "stream",
     "text": [
      "Numero di ricette comuni trovate: 47\n",
      "Nomi delle ricette:\n",
      "   Banoffee pie                  Pulled pork                   Alfajores\n",
      "   Limoncello                    Pakora                        Harissa\n",
      "   Hot cross buns                Colcannon                     Ceviche\n",
      "   Caponata                      Pierogi                       Tarte tatin\n",
      "   Acquacotta                    Coq au vin                    Fish tacos\n",
      "   Ratatouille                   Cake pops                     Patatas bravas\n",
      "   Key lime pie                  Quiche Lorraine               Croque madame\n",
      "   Monkey bread                  Tzatziki                      Irish coffee\n",
      "   Irish stew                    Raclette                      Lebkuchen\n",
      "   Panettone                     Cosmopolitan                  Raita\n",
      "   Tequila sunrise               Ciabatta                      Cranachan\n",
      "   Baci di dama                  Bouillabaisse                 Cinnamon rolls\n",
      "   Macarons                      Panforte                      French toast\n",
      "   Cornbread                     Lemon curd                    Lemon bars\n",
      "   Spaghetti alle vongole        Crumpets                      Salmorejo\n"
     ]
    }
   ],
   "source": [
    "def print_columns(lista, n_colonne):\n",
    "    # max_len = max([len(i) for i in lista])\n",
    "    if n_colonne == 2:\n",
    "        for a,b in zip(lista[::2],lista[1::2]):\n",
    "            print('   {:<60}{:<}'.format(a,b))\n",
    "    if n_colonne == 3:\n",
    "        for a,b,c in zip(lista[::3],lista[1::3],lista[2::3]):\n",
    "            print('   {:<30}{:<30}{:<}'.format(a,b,c))\n",
    "\n",
    "\n",
    "cq = \"\"\" \n",
    "MATCH (r_gz:Recipe {fonte:\"GialloZafferano\"}), (r_bbc:Recipe {fonte:\"BBC GoodFood\"})\n",
    "WITH apoc.coll.intersection(COLLECT(DISTINCT r_gz.name), COLLECT(DISTINCT r_bbc.name)) as ricette_comuni //WHERE r_gz.name=r_bbc.name\n",
    "RETURN size(ricette_comuni) AS num_ricette_comuni, ricette_comuni\n",
    "\"\"\"\n",
    "ris = graph.run(cq)\n",
    "\n",
    "# Stampo il numero di risultati\n",
    "diz_ris = ris.data()[0]\n",
    "print(\"Numero di ricette comuni trovate:\", diz_ris[\"num_ricette_comuni\"])\n",
    "\n",
    "# Stampo le ricette su tre colonne\n",
    "print(\"Nomi delle ricette:\")\n",
    "lista_ricette = diz_ris[\"ricette_comuni\"]\n",
    "print_columns(lista_ricette, 3)\n",
    "    "
   ]
  },
  {
   "attachments": {},
   "cell_type": "markdown",
   "metadata": {},
   "source": [
    "### Quali ricette non contengono allergeni?"
   ]
  },
  {
   "cell_type": "code",
   "execution_count": 24,
   "metadata": {},
   "outputs": [
    {
     "data": {
      "text/html": [
       "<table><tr><th>ricetta</th><th>ingredienti</th></tr><tr><td style=\"text-align:left\">Parfait alle mandorle</td><td style=\"text-align:left\">[&#039;Zucchero&#039;, &#039;Zucchero&#039;, &#039;Burro&#039;, &#039;Tuorli&#039;, &#039;Acqua&#039;, &#039;Acqua&#039;, &#039;Panna fresca liquida&#039;, &#039;Cioccolato fondente&#039;, &#039;Mandorle pelate&#039;]</td></tr><tr><td style=\"text-align:left\">Crostoni al formaggio</td><td style=\"text-align:left\">[&#039;Burro&#039;, &#039;Pepe nero&#039;, &#039;Panna fresca liquida&#039;, &#039;Rosmarino&#039;, &#039;Grana Padano DOP&#039;, &#039;Pane casereccio&#039;, &#039;Edamer&#039;, &#039;Emmentaler&#039;]</td></tr><tr><td style=\"text-align:left\">Pasteis de nata</td><td style=\"text-align:left\">[&#039;Zucchero&#039;, &#039;Farina 00&#039;, &#039;Burro&#039;, &#039;Sale fino&#039;, &#039;Tuorli&#039;, &#039;Acqua&#039;, &#039;Farina Manitoba&#039;, &#039;Panna fresca liquida&#039;]</td></tr><tr><td style=\"text-align:left\">Pettole</td><td style=\"text-align:left\">[&#039;Zucchero&#039;, &#039;Farina 00&#039;, &#039;Acqua&#039;, &#039;Lievito di birra fresco&#039;, &#039;Miele&#039;, &#039;Sale grosso&#039;, &#039;Olio di semi&#039;, &#039;Olive nere&#039;, &#039;Olive verdi&#039;]</td></tr><tr><td style=\"text-align:left\">Fusilloni con salsiccia, datterini gialli e provolone</td><td style=\"text-align:left\">[&#039;Sale fino&#039;, &#039;Olio extravergine doliva&#039;, &#039;Pepe nero&#039;, &#039;Vino bianco&#039;, &#039;Timo&#039;, &#039;Salsiccia&#039;, &#039;Scalogno&#039;, &#039;Provolone&#039;, &#039;Pomodorini datterini&#039;, &#039;Fusilloni&#039;]</td></tr></table>"
      ],
      "text/plain": [
       " ricetta                                               | ingredienti                                                                                                                                              \n",
       "-------------------------------------------------------|----------------------------------------------------------------------------------------------------------------------------------------------------------\n",
       " Parfait alle mandorle                                 | ['Zucchero', 'Zucchero', 'Burro', 'Tuorli', 'Acqua', 'Acqua', 'Panna fresca liquida', 'Cioccolato fondente', 'Mandorle pelate']                          \n",
       " Crostoni al formaggio                                 | ['Burro', 'Pepe nero', 'Panna fresca liquida', 'Rosmarino', 'Grana Padano DOP', 'Pane casereccio', 'Edamer', 'Emmentaler']                               \n",
       " Pasteis de nata                                       | ['Zucchero', 'Farina 00', 'Burro', 'Sale fino', 'Tuorli', 'Acqua', 'Farina Manitoba', 'Panna fresca liquida']                                            \n",
       " Pettole                                               | ['Zucchero', 'Farina 00', 'Acqua', 'Lievito di birra fresco', 'Miele', 'Sale grosso', 'Olio di semi', 'Olive nere', 'Olive verdi']                       \n",
       " Fusilloni con salsiccia, datterini gialli e provolone | ['Sale fino', 'Olio extravergine doliva', 'Pepe nero', 'Vino bianco', 'Timo', 'Salsiccia', 'Scalogno', 'Provolone', 'Pomodorini datterini', 'Fusilloni'] "
      ]
     },
     "metadata": {},
     "output_type": "display_data"
    }
   ],
   "source": [
    "cq = \"\"\"\n",
    "MATCH (r:Recipe)-[:CONTAINS_INGREDIENT]->(i:Ingredient)\n",
    "WITH r, COLLECT(i.is_allergene) AS are_allergeni, COLLECT(i.name) AS ingredienti\n",
    "WHERE all(x IN are_allergeni WHERE NOT x)\n",
    "RETURN r.name AS ricetta, ingredienti\n",
    "ORDER BY rand()\n",
    "LIMIT 5 \"\"\"\n",
    "display(print_first_n(cq))"
   ]
  },
  {
   "attachments": {},
   "cell_type": "markdown",
   "metadata": {},
   "source": [
    "## Modifiche\n",
    "Come si può notare, alcuni ingredienti che sono allergeni non sono impostati come tali nel database (es. farina). Ho quindi creato il seguente script per dare la possibilità all'utente di cambiare la property is_allergene di un certo ingrediente. "
   ]
  },
  {
   "cell_type": "code",
   "execution_count": 25,
   "metadata": {},
   "outputs": [
    {
     "name": "stdout",
     "output_type": "stream",
     "text": [
      "Ecco gli ingredienti trovati per la ricerca 'farina'\n",
      "   Farina 00                                                   Farina Manitoba\n",
      "   Farina di grano saraceno                                    Farina 0\n",
      "   Farina di ceci                                              Farina di mandorle\n",
      "   Farina                                                      Farina di nocciole\n",
      "   Farina di mais                                              Farina di mais fioretto\n",
      "   Farina di pistacchi                                         Farina di castagne\n",
      "   Farina integrale                                            Tortillas di farina\n",
      "   Farina di riso                                              Farina 1\n",
      "   Farina di frumento                                          Farina per pinsa\n",
      "   Farina per polenta taragna                                  Farina di farro integrale\n",
      "   Farina istantanea per polenta                               Farina di mais bramata\n",
      "   Farina 2                                                    Farina di farro\n",
      "   Farina di Kamut®                                            Farina di grano duro\n",
      "   Farina di mais giallo                                       Farina istantanea per polenta taragna\n",
      "   Farina di segale                                            Farina di cocco\n",
      "   Farina di semi di carrube                                   Farina di mais integrale per polenta istantanea\n",
      "   Farina di riso senza glutine                                Farina per chapati\n",
      "   Farina di mais bianco                                       Farina di avena\n",
      "   Farina di tapioca                                           Farina di mais e cereali per polenta istantanea\n",
      "   Farina di mais bramata bianca                               Farina di mais senza glutine\n",
      "   Farina di grano saraceno senza glutine                      Farina di grano arso\n",
      "   Farina di riso integrale                                    Farina di lupini\n",
      "   Farina di mais fumetto                                      Farina di teff\n",
      "   Farina per pane senza glutine                               Farina di riso venere\n",
      "   Farina di castagne senza glutine                            Farina di amaranto\n",
      "   Farina di mais integrale                                    Farina di quinoa\n",
      "   Farina integrale di miglio                                  Farina di enkir\n",
      "   Chicchi di farina di legumi (lenticchie rosse e ceci)       Chicchi di farina di legumi (lenticchie rosse\n",
      "   Farina di canapa                                            Chicchi di farina di legumi (lenticchie rosse e piselli)\n",
      "\n",
      "\n",
      "Hai scelto di impostare come allergene l'ingrediente Farina 00. \n"
     ]
    },
    {
     "data": {
      "text/html": [
       "(No data)"
      ],
      "text/plain": [
       "(No data)"
      ]
     },
     "execution_count": 25,
     "metadata": {},
     "output_type": "execute_result"
    }
   ],
   "source": [
    "ingrediente=\"\"\n",
    "while ingrediente==\"\":\n",
    "    ingrediente=input(\"Inserisci nome dell'ingrediente da modificare: \").lower()\n",
    "# ingrediente=\"farina\"\n",
    "\n",
    "print(\"Ecco gli ingredienti trovati per la ricerca '\"+ingrediente+\"'\")\n",
    "cq = \"MATCH (i:Ingredient) WHERE toLower(i.name) CONTAINS '\"+ingrediente+\"' RETURN i.name AS ingrediente\" \n",
    "ris = graph.run(cq).data()\n",
    "ris = [i[\"ingrediente\"] for i in ris]\n",
    "print_columns(ris, 2)\n",
    "\n",
    "ingrediente2=\"\"\n",
    "while ingrediente2==\"\":\n",
    "    ingrediente2=input(\"Inserisci il nome dell'ingrediente da modificare, oppure inserisci 0 per modificare tutti quelli stampati: \")\n",
    "# ingrediente2 = \"Farina 00\"\n",
    "\n",
    "opzione_allergene=\"\"\n",
    "while opzione_allergene == \"\":\n",
    "    opzione_allergene=input(\"Modificare l'ingrediente/gli ingredienti come: \\n1. Allergene/i\\n2. Non allergene/i\\n\")\n",
    "    opzione_allergene = True if opzione_allergene==\"1\" else (False if opzione_allergene==\"2\" else \"\")\n",
    "\n",
    "print(\"\\n\\nHai scelto di impostare\" + \\\n",
    "        \" come\" + (\" non\" if not opzione_allergene else \"\") + \" allergen\" + \n",
    "        (\"e l'ingrediente \" + ingrediente2 if ingrediente2 != \"0\" else \"i gli ingredienti: \" + str(ris)) +\n",
    "        \". \"\n",
    "        )\n",
    "\n",
    "where_clause = \"toLower(i.name) CONTAINS '\"+ingrediente+\"'\"  if ingrediente2==\"0\" else \"i.name='\"+ingrediente2+\"'\"\n",
    "cq = \"MATCH (i:Ingredient) WHERE \"+where_clause+\" SET i.is_allergene=\"+str(opzione_allergene)\n",
    "graph.run(cq)"
   ]
  },
  {
   "attachments": {},
   "cell_type": "markdown",
   "metadata": {},
   "source": [
    "## Cancellazioni\n",
    "Ho inserito il seguente script per dare la possibilità all'utente di cancellare una ricetta. Ho inserito ```DETACH``` per eliminare anche gli archi legati al nodo da eliminare."
   ]
  },
  {
   "cell_type": "code",
   "execution_count": 22,
   "metadata": {},
   "outputs": [
    {
     "name": "stdout",
     "output_type": "stream",
     "text": [
      "Ricetta Tiramisù eliminata correttamente!\n"
     ]
    }
   ],
   "source": [
    "nome_ricetta=input(\"Inserisci nome della ricetta che desideri eliminare: \")\n",
    "cq = \"MATCH (r:Recipe {name: '\"+nome_ricetta+\"'})  DETACH DELETE (r)\"\n",
    "graph.run(cq)\n",
    "print(\"Ricetta \" + nome_ricetta + \" eliminata correttamente!\")"
   ]
  }
 ],
 "metadata": {
  "kernelspec": {
   "display_name": "Python 3",
   "language": "python",
   "name": "python3"
  },
  "language_info": {
   "codemirror_mode": {
    "name": "ipython",
    "version": 3
   },
   "file_extension": ".py",
   "mimetype": "text/x-python",
   "name": "python",
   "nbconvert_exporter": "python",
   "pygments_lexer": "ipython3",
   "version": "3.11.0"
  },
  "orig_nbformat": 4,
  "vscode": {
   "interpreter": {
    "hash": "a29d3b88d3d770f4c6b76b3f467a825cd9493448f3062cde152f1e267121f11d"
   }
  }
 },
 "nbformat": 4,
 "nbformat_minor": 2
}

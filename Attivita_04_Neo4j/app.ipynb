{
 "cells": [
  {
   "attachments": {},
   "cell_type": "markdown",
   "metadata": {},
   "source": [
    "<center>Progetto realizzato da Elena Curti (matr. 185431)\n",
    "\n",
    "# Recipes\n",
    "</center>"
   ]
  },
  {
   "attachments": {},
   "cell_type": "markdown",
   "metadata": {},
   "source": [
    "## Requisiti\n",
    "Questo progetto è stato realizzato con Python 3.11 e Neo4j. E' necessaria l'installazione dei seguenti pacchetti:"
   ]
  },
  {
   "cell_type": "code",
   "execution_count": 1,
   "metadata": {},
   "outputs": [],
   "source": [
    "# %pip install py2neo neo4j-driver"
   ]
  },
  {
   "attachments": {},
   "cell_type": "markdown",
   "metadata": {},
   "source": [
    "## Operazioni iniziali\n",
    "Per il corretto funzionamento del progetto proposto, è necessario:\n",
    "- Creare un nuovo progetto Neo4j \n",
    "- Creare all'interno del progetto un DMBS (scegliendo come nome \"neo4j\", come password \"pass\" e come versione 5.2.0)\n",
    "- Aggiungere il plugin APOC.\n",
    "- Premere su Start.\n",
    "<!-- \n",
    "DBMS e importarci i dati, seguendo i seguenti passi. <br>\n",
    "Da Neo4j creare un nuovo progetto. Scegliere una tra le seguenti alternative:\n",
    "- Dal progetto appena creato, aggiungere al progetto il file [neo4j.dump](data/neo4j.dump). Creare poi un nuovo DBMS dal file dump (scegliendo come nome \"neo4j\", come password \"pass\" e come versione 5.2.0). Aggiungere il plugin APOC. Premere su Start.\n",
    "- Dal progetto appena creato, aggiungere un DBMS locale (scegliendo come nome, password e versione i valori indicati al punto sopra). Aggiungere il plugin APOC. Premere su Start e poi su Open. Eseguire tutti i comandi riportati nel file [import_commands.txt](data/import_commands.txt).\n",
    "<br>-->\n",
    "Eseguire poi le celle di codice, nell'ordine proposto "
   ]
  },
  {
   "attachments": {},
   "cell_type": "markdown",
   "metadata": {},
   "source": [
    "## Connessione e autenticazione"
   ]
  },
  {
   "cell_type": "code",
   "execution_count": 1,
   "metadata": {},
   "outputs": [
    {
     "name": "stdout",
     "output_type": "stream",
     "text": [
      "Connessione al database riuscita!\n"
     ]
    }
   ],
   "source": [
    "from py2neo import Graph\n",
    "graph = Graph(\"bolt://localhost:7687\",  auth=(\"neo4j\", \"pass\"))\n",
    "\n",
    "print(\"Connessione al database riuscita!\")\n",
    "\n",
    "#  \\nEcco 5 ricette d'esempio:\")\n",
    "# cq = \"MATCH (p:Recipe) RETURN p.name LIMIT 5\"\n",
    "# for rec in graph.run(cq):\n",
    "    # print(\"\\t\",str(rec)[1:-1])"
   ]
  },
  {
   "attachments": {},
   "cell_type": "markdown",
   "metadata": {},
   "source": [
    "# Schema iniziale\n",
    "Lo use case originale è stato trovato sul sito [Recipes Neo4j](https://neo4j.com/graphgists/dd3dedcf-c377-4575-84f4-4d0d30b2a4c5/). Ha la seguente struttura iniziale:\n",
    "```\n",
    "    call db.schema.visualization()\n",
    "```"
   ]
  },
  {
   "attachments": {},
   "cell_type": "markdown",
   "metadata": {},
   "source": [
    "![schema](img/db_schema2.png)"
   ]
  },
  {
   "attachments": {},
   "cell_type": "markdown",
   "metadata": {},
   "source": [
    "I nodi Ingredient, Author, Collection, DietType, Keyword ha un solo campo \"name\" che rappresenta il nome dell'ingrediente. <br>\n",
    "Il nodo Recipe ha le seguenti proprietà:\n",
    "<ul>\n",
    "    <li>id: campo che identifica univocamente la ricetta </li>\n",
    "    <li>cookingTime: tempo di cottura </li>\n",
    "    <li>description: descrizione della ricetta </li>\n",
    "    <li>name: nome della ricetta </li>\n",
    "    <li>preparationTime: tempo di preparazione </li>\n",
    "    <li>skillLevel: difficoltà </li>\n",
    "</ul>\n",
    "Gli archi non hanno proprietà."
   ]
  },
  {
   "attachments": {},
   "cell_type": "markdown",
   "metadata": {},
   "source": [
    "## Import dei dati"
   ]
  },
  {
   "cell_type": "code",
   "execution_count": 9,
   "metadata": {},
   "outputs": [
    {
     "name": "stdout",
     "output_type": "stream",
     "text": [
      "Inserimento dei dati in corso... \n",
      "Tutti i dati sono stati importati correttamente!\n"
     ]
    }
   ],
   "source": [
    "print(\"Inserimento dei dati in corso... \")\n",
    "\n",
    "# Ricette\n",
    "graph.run(\"\"\" \n",
    "CALL apoc.load.json('https://raw.githubusercontent.com/neo4j-examples/graphgists/master/browser-guides/data/stream_clean.json') YIELD value\n",
    "WITH value.page.article.id AS id,\n",
    "       value.page.title AS title,\n",
    "       value.page.article.description AS description,\n",
    "       value.page.recipe.cooking_time AS cookingTime,\n",
    "       value.page.recipe.prep_time AS preparationTime,\n",
    "       value.page.recipe.skill_level AS skillLevel\n",
    "MERGE (r:Recipe {id: id})\n",
    "SET r.cookingTime = cookingTime,\n",
    "    r.preparationTime = preparationTime,\n",
    "    r.name = title,\n",
    "    r.description = description,\n",
    "    r.skillLevel = skillLevel;\n",
    "\"\"\")\n",
    "graph.run(\"\"\" CREATE INDEX IF NOT EXISTS FOR (n:Recipe) ON (n.id);        // CREATE INDEX IF NOT EXISTS ON :Recipe(name)  \"\"\")\n",
    "\n",
    "# Autori\n",
    "graph.run(\"\"\"\n",
    "//import authors and connect to recipes\n",
    "CALL apoc.load.json('https://raw.githubusercontent.com/neo4j-examples/graphgists/master/browser-guides/data/stream_clean.json') YIELD value\n",
    "WITH value.page.article.id AS id,\n",
    "       value.page.article.author AS author\n",
    "MERGE (a:Author {name: author})\n",
    "WITH a,id\n",
    "MATCH (r:Recipe {id:id})\n",
    "MERGE (a)-[:WROTE]->(r);\n",
    "\"\"\")\n",
    "graph.run(\"\"\"CREATE INDEX IF NOT EXISTS FOR (n:Author) ON (n.name);\"\"\" )\n",
    "\n",
    "# Ingredienti\n",
    "graph.run(\"\"\"//import ingredients and connect to recipes\n",
    "CALL apoc.load.json('https://raw.githubusercontent.com/neo4j-examples/graphgists/master/browser-guides/data/stream_clean.json') YIELD value\n",
    "WITH value.page.article.id AS id,\n",
    "       value.page.recipe.ingredients AS ingredients\n",
    "MATCH (r:Recipe {id:id})\n",
    "FOREACH (ingredient IN ingredients |\n",
    "  MERGE (i:Ingredient {name: ingredient})\n",
    "  MERGE (r)-[:CONTAINS_INGREDIENT]->(i)\n",
    ");\"\"\" )\n",
    "graph.run(\"\"\"CREATE INDEX IF NOT EXISTS FOR (n:Ingredient) ON (n.name);\"\"\" )\n",
    "\n",
    "# DietType\n",
    "graph.run(\"\"\"//import dietTypes and connect to recipes\n",
    "CALL apoc.load.json('https://raw.githubusercontent.com/neo4j-examples/graphgists/master/browser-guides/data/stream_clean.json') YIELD value\n",
    "WITH value.page.article.id AS id,\n",
    "       value.page.recipe.diet_types AS dietTypes\n",
    "MATCH (r:Recipe {id:id})\n",
    "FOREACH (dietType IN dietTypes |\n",
    "  MERGE (d:DietType {name: dietType})\n",
    "  MERGE (r)-[:DIET_TYPE]->(d)\n",
    ");\"\"\" )\n",
    "graph.run(\"\"\"CREATE INDEX IF NOT EXISTS FOR (n:DietType) ON (n.name);\"\"\" )\n",
    "\n",
    "# Collections\n",
    "graph.run(\"\"\"//import collections and connect to recipes\n",
    "CALL apoc.load.json('https://raw.githubusercontent.com/neo4j-examples/graphgists/master/browser-guides/data/stream_clean.json') YIELD value\n",
    "WITH value.page.article.id AS id,\n",
    "       value.page.recipe.collections AS collections\n",
    "MATCH (r:Recipe {id:id})\n",
    "FOREACH (collection IN collections |\n",
    "  MERGE (c:Collection {name: collection})\n",
    "  MERGE (r)-[:COLLECTION]->(c)\n",
    ");\"\"\" )\n",
    "graph.run(\"\"\"CREATE INDEX IF NOT EXISTS FOR (n:Collection) ON (n.name);\"\"\" )\n",
    "\n",
    "print(\"Tutti i dati sono stati importati correttamente!\")"
   ]
  },
  {
   "attachments": {},
   "cell_type": "markdown",
   "metadata": {},
   "source": [
    "## Aggiunta degli indici\n",
    "Per migliorare la performance delle cypher query sono stati aggiunti i seguenti indici: \n",
    "    <ul>\n",
    "        <li><i>id</i> su Recipe</li>\n",
    "        <li><i>name</i> su Ingredient</li>\n",
    "        <li><i>name</i> su Keyword</li>\n",
    "        <li><i>name</i> su DietType</li>\n",
    "        <li><i>name</i> su Author</li>\n",
    "        <li><i>name</i> su Collection</li>\n",
    "    </ul>\n",
    "Per creare gli indici è stato usato il seguente script. Il comando ```CREATE INDEX IF NOT EXISTS FOR (n:Recipe) ON (n.id)``` è equivalente a ```CREATE INDEX IF NOT EXISTS ON :Recipe(name)```. Il primo, però, è compatibile con la versione 5.2.0 di Neo4j."
   ]
  },
  {
   "cell_type": "code",
   "execution_count": 6,
   "metadata": {},
   "outputs": [],
   "source": [
    "def run_multiple_query(multiple_query):\n",
    "    for query in multiple_query.splitlines():\n",
    "        if query == \"\": continue\n",
    "        graph.run(query)\n",
    "\n",
    "cq_versione5= \"\"\"\n",
    "CREATE INDEX IF NOT EXISTS FOR (n:Recipe) ON (n.id);        // CREATE INDEX IF NOT EXISTS ON :Recipe(name) \n",
    "CREATE INDEX IF NOT EXISTS FOR (n:Ingredient) ON (n.name);\n",
    "CREATE INDEX IF NOT EXISTS FOR (n:DietType) ON (n.name);\n",
    "CREATE INDEX IF NOT EXISTS FOR (n:Author) ON (n.name);\n",
    "CREATE INDEX IF NOT EXISTS FOR (n:Collection) ON (n.name);\n",
    "\"\"\" \n",
    "run_multiple_query(cq_versione5)"
   ]
  },
  {
   "attachments": {},
   "cell_type": "markdown",
   "metadata": {},
   "source": [
    "## Aggiunta di dati e modifiche allo schema originale\n",
    "Per arricchire il progetto ho deciso di aggiungere dei dati presi da Kaggle e di eseguire le seguenti modifiche allo schema originale. \n",
    "<br>\n",
    "[OK] Aggiunto il campo is_allergene negli ingredienti. (TODO andrà messo dopo)<br>\n",
    "[ok] Rimosse le keyword<br>\n",
    "Aggiunte le altre ricette e la proprieta persone_pezzi, link, bbc_or_gf nella ricetta<br>\n",
    "aggiunto campo quantita in contains_ingredients<br>\n",
    "aggiunti altri campi dal file originale  <br>\n",
    "\n",
    "<MARK> TODO ARRIVATA QUI  -> Aggiungere https://www.kaggle.com/datasets/edoardoscarpaci/italian-food-recipes"
   ]
  },
  {
   "attachments": {},
   "cell_type": "markdown",
   "metadata": {},
   "source": [
    "### 1. Copia dei file \n",
    "Prima di effettuare le modifiche, copio i file necessari nella cartella \"import\" del DBMS, mediante il seguente script:"
   ]
  },
  {
   "cell_type": "code",
   "execution_count": 2,
   "metadata": {},
   "outputs": [
    {
     "name": "stdout",
     "output_type": "stream",
     "text": [
      "Cartella import del DMBS: D:\\Elena\\_Elena\\Shared\\Universita\\Magistrale\\Big_data\\Anno_22_23\\TO_DEL_QUANDO_ESAME_DATO\\Neo4J\\relate-data\\dbmss\\dbms-b3e0a01c-d1be-4257-8d27-97054bc0e187\\import\n"
     ]
    }
   ],
   "source": [
    "import os \n",
    "import shutil\n",
    "\n",
    "DATA_FOLDER =\"data\"+os.path.sep\n",
    "cq =\"\"\"CALL dbms.listConfig() YIELD name, value\n",
    "WHERE name=\"server.directories.import\"\n",
    "RETURN value\"\"\"\n",
    "dir_import = graph.run(cq).evaluate()\n",
    "print(\"Cartella import del DMBS: \" + dir_import)\n",
    "\n",
    "for file_name in [\"FoodData.csv\", \"gz_recipe.csv\"]:#os.listdir(DATA_FOLDER):\n",
    "    source = DATA_FOLDER + file_name\n",
    "    destination = dir_import + os.path.sep + file_name\n",
    "    shutil.copy(source, destination)\n",
    "\n"
   ]
  },
  {
   "attachments": {},
   "cell_type": "markdown",
   "metadata": {},
   "source": [
    "### 2. Rimuovo il nodo Keyword\n",
    "Ho deciso di rimuovere il nodo keyword, mediante il seguente script:"
   ]
  },
  {
   "cell_type": "code",
   "execution_count": 4,
   "metadata": {},
   "outputs": [
    {
     "data": {
      "text/html": [
       "(No data)"
      ],
      "text/plain": [
       "(No data)"
      ]
     },
     "execution_count": 4,
     "metadata": {},
     "output_type": "execute_result"
    }
   ],
   "source": [
    "cq=\"\"\"\n",
    "MATCH (n:Keyword) DETACH DELETE n\n",
    "\"\"\"\n",
    "graph.run(cq)"
   ]
  },
  {
   "attachments": {},
   "cell_type": "markdown",
   "metadata": {},
   "source": [
    "### 3. Aggiunta di altre ricette\n",
    "Per arricchire il dataset, ho deciso di inserire altre ricette al database. Ho quindi scaricato il file ([gz_recipe.csv](data/gz_recipe.csv)) da https://www.kaggle.com/datasets/edoardoscarpaci/italian-food-recipes, contenente delle ricette estratte dal sito [GialloZafferano](https://www.giallozafferano.it/). <br>\n",
    "Il file scaricato contiene i seguenti campi:\n",
    "- Nome: nome del piatto\n",
    "- Categoria: categoria della ricetta (Primi, Secondi, ...)\n",
    "- Link: link della ricetta\n",
    "- Persone/Pezzi: per quante persone è la \"calibrata\" la ricetta/numero di pezzi\n",
    "- Ingredienti: lista di ingredienti e relative quantità. Ad esempio: [['Mascarpone', '750g'], ['Uova', '260g']]\n",
    "- Steps: contenuto della ricetta\n",
    "Per i inserire questi dati ho deciso di:\n",
    "- Aggiungere a Recipe le proprietà \n",
    "    - \"fonte\" che avrà il valore \"GialloZafferano\" o \"BBC GoodFood\"\n",
    "    - \"persone_pezzi\" per indicare il numero di persone o pezzi\n",
    "- Aggiungere a CONTAINS_INGREDIENTS una proprietà \"quantita\"\n",
    "- Creare un nodo Collection per ogni categoria\n"
   ]
  },
  {
   "cell_type": "code",
   "execution_count": 49,
   "metadata": {},
   "outputs": [
    {
     "data": {
      "text/html": [
       "(No data)"
      ],
      "text/plain": [
       "(No data)"
      ]
     },
     "execution_count": 49,
     "metadata": {},
     "output_type": "execute_result"
    }
   ],
   "source": [
    "\n"
   ]
  },
  {
   "cell_type": "code",
   "execution_count": 9,
   "metadata": {},
   "outputs": [],
   "source": [
    "class MiaStopExecution(Exception):\n",
    "    \"\"\"Il raise di questa classe provoca l'interruzione dell'esecizione della cella, senza interrompere il kernel\"\"\"\n",
    "    def _render_traceback_(self):\n",
    "        pass"
   ]
  },
  {
   "cell_type": "code",
   "execution_count": 10,
   "metadata": {},
   "outputs": [
    {
     "name": "stdout",
     "output_type": "stream",
     "text": [
      "Le ricette sono gia' state inserite\n"
     ]
    }
   ],
   "source": [
    "# Aggiungo le ricette di GialloZafferano. \n",
    "\n",
    "# Controllo che non ci siano ricette già presenti nel database con lo stesso id. \n",
    "# Se questa cella di codice viene eseguita più di una volta, le ricette non vengono reinserite\n",
    "cq=\"\"\"\n",
    "LOAD CSV WITH HEADERS FROM 'file:///gz_recipe.csv' AS value\n",
    "MATCH (r:Recipe {id:value[\"id\"]})\n",
    "return count(r)\n",
    "\"\"\"\n",
    "if graph.run(cq).evaluate() != 0:\n",
    "    print(\"Le ricette sono gia' state inserite!\")\n",
    "    raise(MiaStopExecution)\n",
    "\n",
    "# Inserisco le ricette\n",
    "cq=\"\"\"\n",
    "LOAD CSV WITH HEADERS FROM 'file:///gz_recipe.csv' AS value\n",
    "MERGE (r:Recipe {id: value[\"id\"]})\n",
    "SET r.name = value[\"Nome\"],\n",
    "    r.description = value[\"Steps\"],\n",
    "    r.persone_pezzi = value[\"Persone/Pezzi\"],\n",
    "    r.fonte = \"GialloZafferano\"\n",
    "\"\"\"\n",
    "graph.run(cq)\n",
    "\n",
    "# Inserisco gli ingredienti\n",
    "\n",
    "cq=\"\"\"\n",
    "LOAD CSV WITH HEADERS FROM 'file:///gz_recipe.csv' AS value\n",
    "WITH value[\"id\"] AS id,\n",
    "WITH replace(value[\"Ingredienti\"], \"[[\", \"\") AS ris1\n",
    "WITH replace(ris1, \"]]\", \"\") AS ris2\n",
    "WITH split(ris2, \"], [\") AS ingr_list\n",
    "\n",
    "MATCH (r:Recipe {id:id})\n",
    "FOREACH (ingredient IN ingredients |\n",
    "  MERGE (i:Ingredient {name: ingredient})\n",
    "  MERGE (r)-[:CONTAINS_INGREDIENT]->(i)\n",
    ");\n",
    "\"\"\" \n",
    "\n",
    "\n",
    "# Creo le categorie \n",
    "cq=\"\"\"LOAD CSV WITH HEADERS FROM 'file:///gz_recipe.csv' AS value\n",
    "CREATE (n:Collection {name: value[\"Categoria\"]})\n",
    "\"\"\"\n",
    "\n"
   ]
  },
  {
   "cell_type": "code",
   "execution_count": null,
   "metadata": {},
   "outputs": [],
   "source": [
    "cq=\"\"\" \n",
    "LOAD CSV WITH HEADERS FROM 'file:///gz_recipe.csv' AS value\n",
    "//MATCH (r:Recipe )\n",
    "return value[\"id\"] as id\n",
    "ORDER BY id \n",
    "\"\"\"\n",
    "for i in graph.run(cq):\n",
    "    print(i)"
   ]
  },
  {
   "cell_type": "code",
   "execution_count": null,
   "metadata": {},
   "outputs": [],
   "source": [
    "cq=\"\"\"LOAD CSV WITH HEADERS FROM 'file:///gz_recipe.csv' AS value\n",
    "WITH replace(value[\"Ingredienti\"], \"[[\", \"\") AS ris1\n",
    "WITH replace(ris1, \"]]\", \"\") AS ris2\n",
    "WITH split(ris2, \"], [\") AS ingr_list\n",
    "RETURN ingr_list\n",
    "\"\"\"\n",
    "tmp = graph.run(cq)\n",
    "for i in graph.run(cq):\n",
    "    print(i)\n",
    "    print()"
   ]
  },
  {
   "attachments": {},
   "cell_type": "markdown",
   "metadata": {},
   "source": [
    "### 1. Ingredienti\n",
    "Ho aggiunto un campo \"is_allergene\" al nodo Ingredient. Ho inizialmente scaricato da https://www.kaggle.com/datasets/boltcutters/food-allergens-and-allergies un file ([FoodData.csv](data/FoodData.csv)) con l'elenco degli allergeni. Ho quindi impostato gli ingredienti contenuti nel file con is_allergene=True. Ho invece settato is_allergene=False per i restanti ingredienti. "
   ]
  },
  {
   "cell_type": "code",
   "execution_count": 4,
   "metadata": {},
   "outputs": [
    {
     "data": {
      "text/html": [
       "(No data)"
      ],
      "text/plain": [
       "(No data)"
      ]
     },
     "execution_count": 4,
     "metadata": {},
     "output_type": "execute_result"
    }
   ],
   "source": [
    "# Setto gli allergeni\n",
    "cq=\"\"\"LOAD CSV WITH HEADERS FROM 'file:///FoodData.csv' AS value\n",
    "MATCH (i:Ingredient)\n",
    "WHERE toLower(i.name) CONTAINS toLower(value[\"Food\"]) \n",
    "SET i.is_allergene=True;\"\"\"\n",
    "graph.run(cq)\n",
    "\n",
    "# Setto i restanti ingredienti come non allergeni\n",
    "cq=\"\"\"\n",
    "MATCH (i:Ingredient)\n",
    "WHERE i.is_allergene IS NULL\n",
    "SET i.is_allergene=False; \"\"\"\n",
    "graph.run(cq)\n"
   ]
  },
  {
   "cell_type": "code",
   "execution_count": 5,
   "metadata": {},
   "outputs": [
    {
     "data": {
      "text/html": [
       "(No data)"
      ],
      "text/plain": [
       "(No data)"
      ]
     },
     "execution_count": 5,
     "metadata": {},
     "output_type": "execute_result"
    }
   ],
   "source": []
  },
  {
   "cell_type": "code",
   "execution_count": 7,
   "metadata": {},
   "outputs": [],
   "source": [
    "cq = \"MATCH (d:Recipe) RETURN d\"\n",
    "# print(cq)\n",
    "# for i in graph.run(cq):\n",
    "#     print(i)"
   ]
  },
  {
   "cell_type": "code",
   "execution_count": null,
   "metadata": {},
   "outputs": [],
   "source": []
  }
 ],
 "metadata": {
  "kernelspec": {
   "display_name": "Python 3",
   "language": "python",
   "name": "python3"
  },
  "language_info": {
   "codemirror_mode": {
    "name": "ipython",
    "version": 3
   },
   "file_extension": ".py",
   "mimetype": "text/x-python",
   "name": "python",
   "nbconvert_exporter": "python",
   "pygments_lexer": "ipython3",
   "version": "3.11.0"
  },
  "orig_nbformat": 4,
  "vscode": {
   "interpreter": {
    "hash": "a29d3b88d3d770f4c6b76b3f467a825cd9493448f3062cde152f1e267121f11d"
   }
  }
 },
 "nbformat": 4,
 "nbformat_minor": 2
}

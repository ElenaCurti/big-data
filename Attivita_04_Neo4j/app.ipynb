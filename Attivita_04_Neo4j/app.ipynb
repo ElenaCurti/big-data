{
 "cells": [
  {
   "attachments": {},
   "cell_type": "markdown",
   "metadata": {},
   "source": [
    "# Women’s World Cup 2019"
   ]
  },
  {
   "attachments": {},
   "cell_type": "markdown",
   "metadata": {},
   "source": [
    "## Requisiti\n",
    "Neo4j, Python 3.11"
   ]
  },
  {
   "cell_type": "code",
   "execution_count": null,
   "metadata": {},
   "outputs": [],
   "source": [
    "% pip install py2neo neo4j-driver"
   ]
  },
  {
   "attachments": {},
   "cell_type": "markdown",
   "metadata": {},
   "source": [
    "Connessione e autenticazione:"
   ]
  },
  {
   "cell_type": "code",
   "execution_count": 3,
   "metadata": {},
   "outputs": [
    {
     "name": "stdout",
     "output_type": "stream",
     "text": [
      " team      \n",
      "-----------\n",
      " Argentina \n",
      " Australia \n",
      " Brazil    \n",
      "\n"
     ]
    }
   ],
   "source": [
    "from py2neo import Graph\n",
    "\n",
    "graph = Graph(\"bolt://52.54.222.44:7687\", auth=(\"neo4j\", \"effort-watts-restriction\"))\n",
    "cypher = \"\"\"\n",
    "MATCH (t:Tournament {year: 2019})<-[:PARTICIPATED_IN]-(team)\n",
    "RETURN team.name as team\n",
    "\"\"\"\n",
    "print (graph. run(cypher))"
   ]
  },
  {
   "cell_type": "code",
   "execution_count": 12,
   "metadata": {},
   "outputs": [
    {
     "name": "stdout",
     "output_type": "stream",
     "text": [
      "['__bool__', '__class__', '__delattr__', '__dict__', '__dir__', '__doc__', '__eq__', '__format__', '__ge__', '__getattribute__', '__getstate__', '__gt__', '__hash__', '__init__', '__init_subclass__', '__le__', '__len__', '__lt__', '__module__', '__name__', '__ne__', '__new__', '__nonzero__', '__reduce__', '__reduce_ex__', '__repr__', '__setattr__', '__sizeof__', '__str__', '__subclasshook__', '__weakref__', '_procedures', '_update', 'auto', 'begin', 'call', 'commit', 'create', 'delete', 'delete_all', 'evaluate', 'exists', 'match', 'match_one', 'merge', 'name', 'nodes', 'pull', 'push', 'query', 'read', 'relationships', 'rollback', 'run', 'schema', 'separate', 'service', 'update']\n"
     ]
    }
   ],
   "source": [
    "print(dir(graph))"
   ]
  }
 ],
 "metadata": {
  "kernelspec": {
   "display_name": "Python 3",
   "language": "python",
   "name": "python3"
  },
  "language_info": {
   "codemirror_mode": {
    "name": "ipython",
    "version": 3
   },
   "file_extension": ".py",
   "mimetype": "text/x-python",
   "name": "python",
   "nbconvert_exporter": "python",
   "pygments_lexer": "ipython3",
   "version": "3.11.0"
  },
  "orig_nbformat": 4,
  "vscode": {
   "interpreter": {
    "hash": "a29d3b88d3d770f4c6b76b3f467a825cd9493448f3062cde152f1e267121f11d"
   }
  }
 },
 "nbformat": 4,
 "nbformat_minor": 2
}

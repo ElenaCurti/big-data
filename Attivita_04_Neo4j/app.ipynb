{
 "cells": [
  {
   "attachments": {},
   "cell_type": "markdown",
   "metadata": {},
   "source": [
    "<center>Progetto realizzato da Elena Curti (matr. 185431)\n",
    "\n",
    "# Recipes\n",
    "</center>"
   ]
  },
  {
   "attachments": {},
   "cell_type": "markdown",
   "metadata": {},
   "source": [
    "## Requisiti\n",
    "Questo progetto è stato realizzato con Python 3.11 e Neo4j. E' necessaria l'installazione dei seguenti pacchetti:"
   ]
  },
  {
   "cell_type": "code",
   "execution_count": 1,
   "metadata": {},
   "outputs": [],
   "source": [
    "# %pip install py2neo neo4j-driver"
   ]
  },
  {
   "attachments": {},
   "cell_type": "markdown",
   "metadata": {},
   "source": [
    "## Operazioni iniziali\n",
    "Per il corretto funzionamento del progetto proposto, è necessario creare il DBMS e importarci i dati, seguendo i seguenti passi. <br>\n",
    "Da Neo4j creare un nuovo progetto. Scegliere una tra le seguenti alternative:\n",
    "- Dal progetto appena creato, aggiungere al progetto il file [neo4j.dump](data/neo4j.dump). Creare poi un nuovo DBMS dal file dump (scegliendo come nome \"neo4j\", come password \"pass\" e come versione 5.2.0). Aggiungere il plugin APOC. Premere su Start.\n",
    "- Dal progetto appena creato, aggiungere un DBMS locale (scegliendo come nome, password e versione i valori indicati al punto sopra). Aggiungere il plugin APOC. Premere su Start e poi su Open. Eseguire tutti i comandi riportati nel file [import_commands.txt](data/import_commands.txt).\n",
    "<br>\n",
    "Eseguire poi le celle di codice, nell'ordine proposto\n",
    "\n",
    "## Connessione e autenticazione"
   ]
  },
  {
   "cell_type": "code",
   "execution_count": 2,
   "metadata": {},
   "outputs": [
    {
     "name": "stdout",
     "output_type": "stream",
     "text": [
      "Connessione al database riuscita! \n",
      "Ecco 5 ricette d'esempio:\n",
      "\t Tomato & mozzarella couscous salad\n",
      "\t Baked nectarines & raspberries with almonds & honey\n",
      "\t Chocolate & caramel ombre cake\n",
      "\t Chicken, goat's cheese & cherry tomato bake\n",
      "\t Chipotle chicken tacos with pineapple salsa\n"
     ]
    }
   ],
   "source": [
    "from py2neo import Graph\n",
    "graph = Graph(\"bolt://localhost:7687\",  auth=(\"neo4j\", \"pass\"))\n",
    "\n",
    "print(\"Connessione al database riuscita! \\nEcco 5 ricette d'esempio:\")\n",
    "cq = \"MATCH (p:Recipe) RETURN p.name LIMIT 5\"\n",
    "for rec in graph.run(cq):\n",
    "    print(\"\\t\",str(rec)[1:-1])"
   ]
  },
  {
   "attachments": {},
   "cell_type": "markdown",
   "metadata": {},
   "source": [
    "# Schema iniziale\n",
    "Lo use case originale è stato trovato sul sito [Recipes Neo4j](https://neo4j.com/graphgists/dd3dedcf-c377-4575-84f4-4d0d30b2a4c5/). Ha la seguente struttura iniziale:\n",
    "```\n",
    "    call db.schema.visualization()\n",
    "```"
   ]
  },
  {
   "attachments": {},
   "cell_type": "markdown",
   "metadata": {},
   "source": [
    "![schema](img/db_schema2.png)"
   ]
  },
  {
   "attachments": {},
   "cell_type": "markdown",
   "metadata": {},
   "source": [
    "I nodi Ingredient, Author, Collection, DietType, Keyword ha un solo campo \"name\" che rappresenta il nome dell'ingrediente. <br>\n",
    "Il nodo Recipe ha le seguenti proprietà:\n",
    "<ul>\n",
    "    <li>id: campo che identifica univocamente la ricetta </li>\n",
    "    <li>cookingTime: tempo di cottura </li>\n",
    "    <li>description: descrizione della ricetta </li>\n",
    "    <li>name: nome della ricetta </li>\n",
    "    <li>preparationTime: tempo di preparazione </li>\n",
    "    <li>skillLevel: difficoltà </li>\n",
    "</ul>\n",
    "Gli archi non hanno proprietà."
   ]
  },
  {
   "attachments": {},
   "cell_type": "markdown",
   "metadata": {},
   "source": [
    "## Aggiunta di dati e modifiche allo schema originale\n",
    "Per arricchire il progetto ho deciso di aggiungere dei dati presi da Kaggle e di eseguire le seguenti modifiche allo schema originale. \n",
    "<br>\n",
    "[OK] Aggiunto il campo is_allergene negli ingredienti. (TODO andrà messo dopo)<br>\n",
    "[ok] Rimosse le keyword<br>\n",
    "Aggiunta la proprieta persone_pezzi, link, bbc_or_gf nella ricetta<br>\n",
    "aggiunto campo quantita in contains_ingredients<br>\n",
    "aggiunto campo  <br>\n",
    "\n",
    "<MARK> TODO ARRIVATA QUI  -> Aggiungere https://www.kaggle.com/datasets/edoardoscarpaci/italian-food-recipes"
   ]
  },
  {
   "attachments": {},
   "cell_type": "markdown",
   "metadata": {},
   "source": [
    "### 0. Copiamo i files necessari \n",
    "Prima di effettuare modifiche, copio i file che verranno usati nella cartella di Neo4j con gli import"
   ]
  },
  {
   "cell_type": "code",
   "execution_count": 3,
   "metadata": {},
   "outputs": [
    {
     "name": "stdout",
     "output_type": "stream",
     "text": [
      "D:\\Elena\\_Elena\\Shared\\Universita\\Magistrale\\Big_data\\Anno_22_23\\TO_DEL_QUANDO_ESAME_DATO\\Neo4J\\relate-data\\dbmss\\dbms-bcc1bfb5-d8f3-420f-9a93-21eedafd8b70\\import\n"
     ]
    }
   ],
   "source": [
    "cq =\"\"\"CALL dbms.listConfig() YIELD name, value\n",
    "WHERE name=\"server.directories.import\"\n",
    "RETURN value\"\"\"\n",
    "import os \n",
    "DATA_FOLDER =\"data\"+os.path.sep\n",
    "dir_import = graph.run(cq).evaluate()\n",
    "# print(type(dir_import))\n",
    "print(dir_import)\n",
    "\n",
    "import shutil\n",
    "for file_name in os.listdir(DATA_FOLDER):\n",
    "    # construct full file path\n",
    "    source = DATA_FOLDER + file_name\n",
    "    destination = dir_import + os.path.sep + file_name\n",
    "    if os.path.isfile(source):\n",
    "        shutil.copy(source, destination)\n",
    "        #print('copied', file_name)\n",
    "\n"
   ]
  },
  {
   "attachments": {},
   "cell_type": "markdown",
   "metadata": {},
   "source": [
    "### 1. Ingredienti\n",
    "Ho aggiunto un campo \"is_allergene\" al nodo Ingredient. Ho inizialmente scaricato da https://www.kaggle.com/datasets/boltcutters/food-allergens-and-allergies un file ([FoodData.csv](data/FoodData.csv)) con l'elenco degli allergeni. Ho poi impostato gli ingredienti contenuti nel file con is_allergene=True. Ho poi settato is_allergene=False per i restanti ingredienti. "
   ]
  },
  {
   "cell_type": "code",
   "execution_count": 4,
   "metadata": {},
   "outputs": [],
   "source": [
    "IMPORT_FOLDER=r\"D:\\Elena\\_Elena\\Shared\\Universita\\Magistrale\\Big_data\\Anno_22_23\\TO_DEL_QUANDO_ESAME_DATO\\Neo4J\\relate-data\\dbmss\\dbms-4f6affc1-7465-4512-8d5d-bf6bd4552aa3\\import\""
   ]
  },
  {
   "cell_type": "code",
   "execution_count": 5,
   "metadata": {},
   "outputs": [
    {
     "data": {
      "text/html": [
       "(No data)"
      ],
      "text/plain": [
       "(No data)"
      ]
     },
     "execution_count": 5,
     "metadata": {},
     "output_type": "execute_result"
    }
   ],
   "source": [
    "# Setto gli allergeni\n",
    "cq=\"\"\"LOAD CSV FROM 'file:///FoodData.csv' AS value\n",
    "MATCH (i:Ingredient)\n",
    "WHERE toLower(i.name) CONTAINS toLower(value[3]) AND value[3]<>\"Food\"\n",
    "SET i.is_allergene=True;\"\"\"\n",
    "graph.run(cq)\n",
    "\n",
    "# Setto i restanti ingredienti come non allergeni\n",
    "cq=\"\"\"\n",
    "MATCH (i:Ingredient)\n",
    "WHERE i.is_allergene IS NULL\n",
    "SET i.is_allergene=False; \"\"\"\n",
    "graph.run(cq)\n"
   ]
  },
  {
   "attachments": {},
   "cell_type": "markdown",
   "metadata": {},
   "source": [
    "### 2. Rimuovo il nodo Keyword\n"
   ]
  },
  {
   "cell_type": "code",
   "execution_count": 6,
   "metadata": {},
   "outputs": [
    {
     "data": {
      "text/html": [
       "(No data)"
      ],
      "text/plain": [
       "(No data)"
      ]
     },
     "execution_count": 6,
     "metadata": {},
     "output_type": "execute_result"
    }
   ],
   "source": [
    "cq=\"\"\"\n",
    "MATCH (n:Keyword) DETACH DELETE n\n",
    "\"\"\"\n",
    "graph.run(cq)"
   ]
  },
  {
   "attachments": {},
   "cell_type": "markdown",
   "metadata": {},
   "source": [
    "Copio il file appena creato nella cartella import "
   ]
  },
  {
   "attachments": {},
   "cell_type": "markdown",
   "metadata": {},
   "source": [
    "## Aggiunta degli indici\n",
    "Per migliorare la performance delle cypher query sono stati aggiunti i seguenti indici: \n",
    "    <ul>\n",
    "        <li><i>id</i> su Recipe</li>\n",
    "        <li><i>name</i> su Ingredient</li>\n",
    "        <li><i>name</i> su Keyword</li>\n",
    "        <li><i>name</i> su DietType</li>\n",
    "        <li><i>name</i> su Author</li>\n",
    "        <li><i>name</i> su Collection</li>\n",
    "    </ul>\n",
    "Per creare gli indici è stato usato il seguente script. Il comando ```CREATE INDEX IF NOT EXISTS FOR (n:Recipe) ON (n.id)``` è equivalente a ```CREATE INDEX IF NOT EXISTS ON :Recipe(name)```. Il primo, però, è compatibile con la versione 5.2.0 di Neo4j."
   ]
  },
  {
   "cell_type": "code",
   "execution_count": 7,
   "metadata": {},
   "outputs": [],
   "source": [
    "def run_multiple_query(multiple_query):\n",
    "    for query in multiple_query.splitlines():\n",
    "        if query == \"\": continue\n",
    "        graph.run(query)\n",
    "\n",
    "cq_versione5= \"\"\"\n",
    "CREATE INDEX IF NOT EXISTS FOR (n:Recipe) ON (n.id);        // CREATE INDEX IF NOT EXISTS ON :Recipe(name) \n",
    "CREATE INDEX IF NOT EXISTS FOR (n:Ingredient) ON (n.name);\n",
    "CREATE INDEX IF NOT EXISTS FOR (n:Keyword) ON (n.name);\n",
    "CREATE INDEX IF NOT EXISTS FOR (n:DietType) ON (n.name);\n",
    "CREATE INDEX IF NOT EXISTS FOR (n:Author) ON (n.name);\n",
    "CREATE INDEX IF NOT EXISTS FOR (n:Collection) ON (n.name);\n",
    "\"\"\" \n",
    "run_multiple_query(cq_versione5)"
   ]
  },
  {
   "cell_type": "code",
   "execution_count": 8,
   "metadata": {},
   "outputs": [],
   "source": [
    "cq = \"MATCH (d:Recipe) RETURN d\"\n",
    "# print(cq)\n",
    "# for i in graph.run(cq):\n",
    "#     print(i)"
   ]
  },
  {
   "cell_type": "code",
   "execution_count": null,
   "metadata": {},
   "outputs": [],
   "source": []
  }
 ],
 "metadata": {
  "kernelspec": {
   "display_name": "Python 3",
   "language": "python",
   "name": "python3"
  },
  "language_info": {
   "codemirror_mode": {
    "name": "ipython",
    "version": 3
   },
   "file_extension": ".py",
   "mimetype": "text/x-python",
   "name": "python",
   "nbconvert_exporter": "python",
   "pygments_lexer": "ipython3",
   "version": "3.11.0"
  },
  "orig_nbformat": 4,
  "vscode": {
   "interpreter": {
    "hash": "a29d3b88d3d770f4c6b76b3f467a825cd9493448f3062cde152f1e267121f11d"
   }
  }
 },
 "nbformat": 4,
 "nbformat_minor": 2
}

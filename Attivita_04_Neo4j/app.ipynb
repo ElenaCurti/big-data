{
 "cells": [
  {
   "attachments": {},
   "cell_type": "markdown",
   "metadata": {},
   "source": [
    "<center>Progetto realizzato da Elena Curti (matr. 185431)\n",
    "\n",
    "# Recipes\n",
    "</center>"
   ]
  },
  {
   "attachments": {},
   "cell_type": "markdown",
   "metadata": {},
   "source": [
    "## Requisiti\n",
    "Questo progetto è stato realizzato con Python 3.11 e Neo4j. E' necessaria l'installazione dei seguenti pacchetti:"
   ]
  },
  {
   "cell_type": "code",
   "execution_count": 1,
   "metadata": {},
   "outputs": [],
   "source": [
    "# %pip install py2neo neo4j-driver"
   ]
  },
  {
   "attachments": {},
   "cell_type": "markdown",
   "metadata": {},
   "source": [
    "## Operazioni iniziali\n",
    "Per il corretto funzionamento del progetto proposto, è necessario creare il DBMS e importarci i dati, seguendo i seguenti passi. <br>\n",
    "Da Neo4j creare un nuovo progetto. Scegliere una tra le seguenti alternative:\n",
    "- Dal progetto appena creato, aggiungere al progetto il file [neo4j.dump](data/neo4j.dump). Creare poi un nuovo DBMS dal file dump (scegliendo come nome \"neo4j\", come password \"pass\" e come versione 5.2.0). Aggiungere il plugin APOC. Premere su Start.\n",
    "- Dal progetto appena creato, aggiungere un DBMS locale (scegliendo come nome, password e versione i valori indicati al punto sopra). Aggiungere il plugin APOC. Premere su Start e poi su Open. Eseguire tutti i comandi riportati nel file [import_commands.txt](data/import_commands.txt).\n",
    "<br>\n",
    "Eseguire poi le celle di codice, nell'ordine proposto\n",
    "\n",
    "## Connessione e autenticazione"
   ]
  },
  {
   "cell_type": "code",
   "execution_count": 3,
   "metadata": {},
   "outputs": [
    {
     "name": "stdout",
     "output_type": "stream",
     "text": [
      "Connessione al database riuscita! \n",
      "Ecco 5 ricette d'esempio:\n",
      "\t Tomato & mozzarella couscous salad\n",
      "\t Baked nectarines & raspberries with almonds & honey\n",
      "\t Chocolate & caramel ombre cake\n",
      "\t Chicken, goat's cheese & cherry tomato bake\n",
      "\t Chipotle chicken tacos with pineapple salsa\n"
     ]
    }
   ],
   "source": [
    "from py2neo import Graph\n",
    "graph = Graph(\"bolt://localhost:7687\",  auth=(\"neo4j\", \"pass\"))\n",
    "\n",
    "print(\"Connessione al database riuscita! \\nEcco 5 ricette d'esempio:\")\n",
    "cq = \"MATCH (p:Recipe) RETURN p.name LIMIT 5\"\n",
    "for rec in graph.run(cq):\n",
    "    print(\"\\t\",str(rec)[1:-1])"
   ]
  },
  {
   "attachments": {},
   "cell_type": "markdown",
   "metadata": {},
   "source": [
    "# Schema\n",
    "Di seguito è riportata la visualizzazione sottoforma di grafo del comando:\n",
    "```\n",
    "    call db.schema.visualization()\n",
    "```"
   ]
  },
  {
   "attachments": {},
   "cell_type": "markdown",
   "metadata": {},
   "source": [
    "![schema](img/db_schema2.png)"
   ]
  },
  {
   "attachments": {},
   "cell_type": "markdown",
   "metadata": {},
   "source": [
    "## Aggiunta degli indici\n",
    "Per migliorare la performance delle cypher query sono stati aggiunti i seguenti indici: \n",
    "    <ul>\n",
    "        <li><i>id</i> su Recipe</li>\n",
    "        <li><i>name</i> su Ingredient</li>\n",
    "        <li><i>name</i> su Keyword</li>\n",
    "        <li><i>name</i> su DietType</li>\n",
    "        <li><i>name</i> su Author</li>\n",
    "        <li><i>name</i> su Collection</li>\n",
    "    </ul>\n",
    "Per creare gli indici è stato usato il seguente script. Il comando ```CREATE INDEX IF NOT EXISTS FOR (n:Recipe) ON (n.id)``` è equivalente a ```CREATE INDEX IF NOT EXISTS ON :Recipe(name)```. Il primo, però, è compatibile con la versione 5.2.0 di Neo4j."
   ]
  },
  {
   "cell_type": "code",
   "execution_count": 4,
   "metadata": {},
   "outputs": [],
   "source": [
    "def run_multiple_query(multiple_query):\n",
    "    for query in multiple_query.splitlines():\n",
    "        if query == \"\": continue\n",
    "        graph.run(query)\n",
    "\n",
    "cq_versione5= \"\"\"\n",
    "CREATE INDEX IF NOT EXISTS FOR (n:Recipe) ON (n.id);        // CREATE INDEX IF NOT EXISTS ON :Recipe(name) \n",
    "CREATE INDEX IF NOT EXISTS FOR (n:Ingredient) ON (n.name);\n",
    "CREATE INDEX IF NOT EXISTS FOR (n:Keyword) ON (n.name);\n",
    "CREATE INDEX IF NOT EXISTS FOR (n:DietType) ON (n.name);\n",
    "CREATE INDEX IF NOT EXISTS FOR (n:Author) ON (n.name);\n",
    "CREATE INDEX IF NOT EXISTS FOR (n:Collection) ON (n.name);\n",
    "\"\"\" \n",
    "run_multiple_query(cq_versione5)"
   ]
  }
 ],
 "metadata": {
  "kernelspec": {
   "display_name": "Python 3",
   "language": "python",
   "name": "python3"
  },
  "language_info": {
   "codemirror_mode": {
    "name": "ipython",
    "version": 3
   },
   "file_extension": ".py",
   "mimetype": "text/x-python",
   "name": "python",
   "nbconvert_exporter": "python",
   "pygments_lexer": "ipython3",
   "version": "3.11.0"
  },
  "orig_nbformat": 4,
  "vscode": {
   "interpreter": {
    "hash": "a29d3b88d3d770f4c6b76b3f467a825cd9493448f3062cde152f1e267121f11d"
   }
  }
 },
 "nbformat": 4,
 "nbformat_minor": 2
}

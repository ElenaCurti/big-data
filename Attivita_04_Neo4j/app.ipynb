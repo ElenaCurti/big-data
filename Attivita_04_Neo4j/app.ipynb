{
 "cells": [
  {
   "attachments": {},
   "cell_type": "markdown",
   "metadata": {},
   "source": [
    "<center>Progetto realizzato da Elena Curti (matr. 185431)\n",
    "\n",
    "# Ricette\n",
    "</center>\n",
    "\n",
    "## Introduzione\n"
   ]
  },
  {
   "attachments": {},
   "cell_type": "markdown",
   "metadata": {},
   "source": [
    "## Requisiti\n",
    "Questo progetto è stato realizzato con Python 3.11 e Neo4j. E' necessaria l'installazione dei seguenti pacchetti:"
   ]
  },
  {
   "cell_type": "code",
   "execution_count": 2,
   "metadata": {},
   "outputs": [],
   "source": [
    "# %pip install py2neo neo4j-driver pandas"
   ]
  },
  {
   "attachments": {},
   "cell_type": "markdown",
   "metadata": {},
   "source": [
    "## Operazioni iniziali\n",
    "Per il corretto funzionamento del progetto proposto, è necessario:\n",
    "- Creare un nuovo progetto Neo4j \n",
    "- Creare all'interno del progetto un DMBS (scegliendo come nome \"neo4j\", come password \"pass\" e come versione 5.2.0)\n",
    "- Aggiungere il plugin APOC.\n",
    "- Premere su Start.\n",
    "<!-- \n",
    "Da Neo4j creare un nuovo progetto. Scegliere una tra le seguenti alternative:\n",
    "- Dal progetto appena creato, aggiungere al progetto il file [neo4j.dump](data/neo4j.dump). Creare poi un nuovo DBMS dal file dump (scegliendo come nome \"neo4j\", come password \"pass\" e come versione 5.2.0). Aggiungere il plugin APOC. Premere su Start.\n",
    "- Dal progetto appena creato, aggiungere un DBMS locale (scegliendo come nome, password e versione i valori indicati al punto sopra). Aggiungere il plugin APOC. Premere su Start e poi su Open. Eseguire tutti i comandi riportati nel file [import_commands.txt](data/import_commands.txt).\n",
    "<br>-->\n",
    "Eseguire poi le celle di codice, nell'ordine proposto "
   ]
  },
  {
   "attachments": {},
   "cell_type": "markdown",
   "metadata": {},
   "source": [
    "## Connessione e autenticazione\n",
    "Per effettuare la connessione al database, eseguire il seguente script:"
   ]
  },
  {
   "cell_type": "code",
   "execution_count": 1,
   "metadata": {},
   "outputs": [
    {
     "name": "stdout",
     "output_type": "stream",
     "text": [
      "Connessione al database eseguita correttamente!\n"
     ]
    }
   ],
   "source": [
    "from py2neo import Graph\n",
    "graph = Graph(\"bolt://localhost:7687\",  auth=(\"neo4j\", \"pass\"))\n",
    "\n",
    "print(\"Connessione al database eseguita correttamente!\")"
   ]
  },
  {
   "attachments": {},
   "cell_type": "markdown",
   "metadata": {},
   "source": [
    "# Schema e dati originali\n",
    "Lo use case originale è stato trovato sul sito [Recipes Neo4j](https://neo4j.com/graphgists/dd3dedcf-c377-4575-84f4-4d0d30b2a4c5/). Ha la seguente struttura iniziale:\n",
    "```\n",
    "    call db.schema.visualization()\n",
    "```"
   ]
  },
  {
   "attachments": {},
   "cell_type": "markdown",
   "metadata": {},
   "source": [
    "![schema](img/db_schema2.png)"
   ]
  },
  {
   "attachments": {},
   "cell_type": "markdown",
   "metadata": {},
   "source": [
    "I nodi Ingredient, Author, Collection, DietType, Keyword hanno un solo campo \"name\" che ne rappresenta il nome. <br>\n",
    "Il nodo Recipe ha le seguenti proprietà:\n",
    "<ul>\n",
    "    <li>id: campo che identifica univocamente la ricetta </li>\n",
    "    <li>cookingTime: tempo di cottura </li>\n",
    "    <li>description: descrizione della ricetta </li>\n",
    "    <li>name: nome della ricetta </li>\n",
    "    <li>preparationTime: tempo di preparazione </li>\n",
    "    <li>skillLevel: difficoltà </li>\n",
    "</ul>\n",
    "Gli archi non hanno proprietà. <br><br>\n",
    "\n",
    "Per importare i dati e aggiungere gli indici ho usato il seguente script. <br>\n",
    "Lo usecase originale ha previsto i seguenti indici per migliorare la performance delle cypher query:\n",
    "    <ul>\n",
    "        <li><i>id</i> su Recipe</li>\n",
    "        <li><i>name</i> su Ingredient</li>\n",
    "        <li><i>name</i> su Keyword</li>\n",
    "        <li><i>name</i> su DietType</li>\n",
    "        <li><i>name</i> su Author</li>\n",
    "        <li><i>name</i> su Collection</li>\n",
    "    </ul>\n",
    "Il comando ```CREATE INDEX IF NOT EXISTS FOR (n:Recipe) ON (n.id)``` è equivalente a ```CREATE INDEX IF NOT EXISTS ON :Recipe(id)```. Il primo, però, è compatibile con la versione 5.2.0 di Neo4j."
   ]
  },
  {
   "cell_type": "code",
   "execution_count": 4,
   "metadata": {},
   "outputs": [
    {
     "name": "stdout",
     "output_type": "stream",
     "text": [
      "Inserimento dei dati in corso... \n",
      "Tutti i dati sono stati importati correttamente!\n"
     ]
    }
   ],
   "source": [
    "print(\"Inserimento dei dati in corso... \")\n",
    "\n",
    "# Ricette\n",
    "graph.run(\"\"\" \n",
    "CALL apoc.load.json('https://raw.githubusercontent.com/neo4j-examples/graphgists/master/browser-guides/data/stream_clean.json') YIELD value\n",
    "WITH value.page.article.id AS id,\n",
    "       value.page.title AS title,\n",
    "       value.page.article.description AS description,\n",
    "       value.page.recipe.cooking_time AS cookingTime,\n",
    "       value.page.recipe.prep_time AS preparationTime,\n",
    "       value.page.recipe.skill_level AS skillLevel\n",
    "MERGE (r:Recipe {id: id})\n",
    "SET r.cookingTime = cookingTime,\n",
    "    r.preparationTime = preparationTime,\n",
    "    r.name = title,\n",
    "    r.description = description,\n",
    "    r.skillLevel = skillLevel;\n",
    "\"\"\")\n",
    "graph.run(\"\"\" CREATE INDEX IF NOT EXISTS FOR (n:Recipe) ON (n.id);        // CREATE INDEX IF NOT EXISTS ON :Recipe(id)  \"\"\")\n",
    "\n",
    "# Autori\n",
    "graph.run(\"\"\"\n",
    "//import authors and connect to recipes\n",
    "CALL apoc.load.json('https://raw.githubusercontent.com/neo4j-examples/graphgists/master/browser-guides/data/stream_clean.json') YIELD value\n",
    "WITH value.page.article.id AS id,\n",
    "       value.page.article.author AS author\n",
    "MERGE (a:Author {name: author})\n",
    "WITH a,id\n",
    "MATCH (r:Recipe {id:id})\n",
    "MERGE (a)-[:WROTE]->(r);\n",
    "\"\"\")\n",
    "graph.run(\"\"\"CREATE INDEX IF NOT EXISTS FOR (n:Author) ON (n.name);\"\"\" )\n",
    "\n",
    "# Ingredienti\n",
    "graph.run(\"\"\"//import ingredients and connect to recipes\n",
    "CALL apoc.load.json('https://raw.githubusercontent.com/neo4j-examples/graphgists/master/browser-guides/data/stream_clean.json') YIELD value\n",
    "WITH value.page.article.id AS id,\n",
    "       value.page.recipe.ingredients AS ingredients\n",
    "MATCH (r:Recipe {id:id})\n",
    "FOREACH (ingredient IN ingredients |\n",
    "  MERGE (i:Ingredient {name: ingredient})\n",
    "  MERGE (r)-[:CONTAINS_INGREDIENT]->(i)\n",
    ");\"\"\" )\n",
    "graph.run(\"\"\"CREATE INDEX IF NOT EXISTS FOR (n:Ingredient) ON (n.name);\"\"\" )\n",
    "\n",
    "# DietType\n",
    "graph.run(\"\"\"//import dietTypes and connect to recipes\n",
    "CALL apoc.load.json('https://raw.githubusercontent.com/neo4j-examples/graphgists/master/browser-guides/data/stream_clean.json') YIELD value\n",
    "WITH value.page.article.id AS id,\n",
    "       value.page.recipe.diet_types AS dietTypes\n",
    "MATCH (r:Recipe {id:id})\n",
    "FOREACH (dietType IN dietTypes |\n",
    "  MERGE (d:DietType {name: dietType})\n",
    "  MERGE (r)-[:DIET_TYPE]->(d)\n",
    ");\"\"\" )\n",
    "graph.run(\"\"\"CREATE INDEX IF NOT EXISTS FOR (n:DietType) ON (n.name);\"\"\" )\n",
    "\n",
    "# Collections\n",
    "graph.run(\"\"\"//import collections and connect to recipes\n",
    "CALL apoc.load.json('https://raw.githubusercontent.com/neo4j-examples/graphgists/master/browser-guides/data/stream_clean.json') YIELD value\n",
    "WITH value.page.article.id AS id,\n",
    "       value.page.recipe.collections AS collections\n",
    "MATCH (r:Recipe {id:id})\n",
    "FOREACH (collection IN collections |\n",
    "  MERGE (c:Collection {name: collection})\n",
    "  MERGE (r)-[:COLLECTION]->(c)\n",
    ");\"\"\" )\n",
    "graph.run(\"\"\"CREATE INDEX IF NOT EXISTS FOR (n:Collection) ON (n.name);\"\"\" )\n",
    "\n",
    "# Keyword\n",
    "cq = \"\"\"//import keywords and connect to recipes\n",
    "CALL apoc.load.json('https://raw.githubusercontent.com/neo4j-examples/graphgists/master/browser-guides/data/stream_clean.json') YIELD value\n",
    "WITH value.page.article.id AS id,\n",
    "       value.page.recipe.keywords AS keywords\n",
    "MATCH (r:Recipe {id:id})\n",
    "FOREACH (keyword IN keywords |\n",
    "  MERGE (k:Keyword {name: keyword})\n",
    "  MERGE (r)-[:KEYWORD]->(k)\n",
    ");\"\"\"\n",
    "# graph.run(cq)\n",
    "cq = \"\"\"CREATE INDEX IF NOT EXISTS FOR (n:Keyword) ON (n.name);\"\"\" \n",
    "# graph.run(cq)\n",
    "\n",
    "\n",
    "print(\"Tutti i dati sono stati importati correttamente!\")"
   ]
  },
  {
   "attachments": {},
   "cell_type": "markdown",
   "metadata": {},
   "source": [
    "## Modifiche effettuate\n",
    "Per arricchire il progetto ho deciso di aggiungere dei dati presi da Kaggle e di eseguire alcune modifiche allo schema originale. \n",
    "<br>\n",
    "<mark>TODOaggiunti altri campi dal file originale  <br>\n",
    "\n"
   ]
  },
  {
   "cell_type": "code",
   "execution_count": 5,
   "metadata": {},
   "outputs": [
    {
     "name": "stdout",
     "output_type": "stream",
     "text": [
      "Cartella import del DMBS: D:\\Elena\\_Elena\\Shared\\Universita\\Magistrale\\Big_data\\Anno_22_23\\TO_DEL_QUANDO_ESAME_DATO\\Neo4J\\relate-data\\dbmss\\dbms-b3e0a01c-d1be-4257-8d27-97054bc0e187\\import\n"
     ]
    }
   ],
   "source": [
    "# Definisco un'eccezione usata nel seguito\n",
    "class MiaStopExecution(Exception):\n",
    "    \"\"\"Il raise di questa classe provoca l'interruzione dell'esecizione della cella, senza interrompere il kernel\"\"\"\n",
    "    def _render_traceback_(self):\n",
    "        pass\n",
    "\n",
    "# Prima di effettuare le modifiche, copio i file necessari nella cartella \"import\" del DBMS, mediante il seguente script:\n",
    "import os \n",
    "import shutil\n",
    "DATA_FOLDER =\"data\"+os.path.sep\n",
    "\n",
    "cq =\"\"\"CALL dbms.listConfig() YIELD name, value\n",
    "    WHERE name=\"server.directories.import\"\n",
    "    RETURN value\"\"\"\n",
    "DIRECTORY_IMPORT = graph.run(cq).evaluate()\n",
    "print(\"Cartella import del DMBS: \" + DIRECTORY_IMPORT)\n",
    "\n",
    "def copy_in_import_dir(file_name):\n",
    "    source = DATA_FOLDER + file_name\n",
    "    destination = DIRECTORY_IMPORT + os.path.sep + file_name\n",
    "    shutil.copy(source, destination)\n",
    "\n",
    "copy_in_import_dir(\"FoodData.csv\") \n",
    "copy_in_import_dir(\"gz_recipe.csv\") \n"
   ]
  },
  {
   "attachments": {},
   "cell_type": "markdown",
   "metadata": {},
   "source": [
    "### 1. Rimozione di Keyword\n",
    "Ho deciso di rimuovere il nodo Keyword. Ho quindi evitato di eseguire le ultime due cypher query nello script precedente. Alternativamente, avrei potuto anche usare il seguente comando: "
   ]
  },
  {
   "cell_type": "code",
   "execution_count": 6,
   "metadata": {},
   "outputs": [
    {
     "data": {
      "text/html": [
       "(No data)"
      ],
      "text/plain": [
       "(No data)"
      ]
     },
     "execution_count": 6,
     "metadata": {},
     "output_type": "execute_result"
    }
   ],
   "source": [
    "graph.run(\"MATCH (n:Keyword) DETACH DELETE n\")"
   ]
  },
  {
   "attachments": {},
   "cell_type": "markdown",
   "metadata": {},
   "source": [
    "### 2. Aggiunta di altre ricette\n",
    "Per arricchire il dataset, ho deciso di inserire altre ricette al database. Ho quindi scaricato il file [gz_recipe.csv](data/gz_recipe.csv) da https://www.kaggle.com/datasets/edoardoscarpaci/italian-food-recipes, contenente delle ricette estratte dal sito [GialloZafferano](https://www.giallozafferano.it/). <br>\n",
    "Il file scaricato contiene i seguenti campi:\n",
    "- id: id che identifica univocamente la ricetta (intero da 0 a 5938).\n",
    "- Nome: nome del piatto\n",
    "- Categoria: categoria della ricetta (Primi, Secondi, ...)\n",
    "- Link: link della ricetta\n",
    "- Persone/Pezzi: numero di persone o pezzi della ricetta\n",
    "- Ingredienti: lista di ingredienti e relative quantità. Ad esempio: [['Mascarpone', '750g'], ['Uova', '260g']]\n",
    "- Steps: contenuto della ricetta"
   ]
  },
  {
   "attachments": {},
   "cell_type": "markdown",
   "metadata": {},
   "source": [
    "Per i inserire questi dati ho deciso di:\n",
    "- Aggiungere a Recipe le proprietà \n",
    "    - \"fonte\" che avrà il valore \"GialloZafferano\" o \"BBC GoodFood\"\n",
    "    - \"persone_pezzi\" per indicare il numero di persone o pezzi\n",
    "- Aggiungere a CONTAINS_INGREDIENTS una proprietà \"quantita\", contenente la quantità di un ingrediente in una ricetta"
   ]
  },
  {
   "attachments": {},
   "cell_type": "markdown",
   "metadata": {},
   "source": [
    "Come precedentemente spiegato, il campo id di Recipe è univoco nelle ricette già inserite. Aggiungendo i dati da un altra sorgente, si potrebbero avere dei record con lo stesso id. Prima di inserire le nuove ricette, quindi, controllo che gli id delle nuove ricette siano tutti diversi da quelli delle ricette già inserite. In questo caso, per fortuna, non ci sono conflitti sugli id e si può procedere con gli inserimenti. "
   ]
  },
  {
   "cell_type": "code",
   "execution_count": 7,
   "metadata": {},
   "outputs": [
    {
     "data": {
      "text/html": [
       "(No data)"
      ],
      "text/plain": [
       "(No data)"
      ]
     },
     "execution_count": 7,
     "metadata": {},
     "output_type": "execute_result"
    }
   ],
   "source": [
    "# Aggiungo le ricette di GialloZafferano. \n",
    "\n",
    "# Controllo che non ci siano già ricette con gli stessi id\n",
    "cq=\"\"\"\n",
    "LOAD CSV WITH HEADERS FROM 'file:///gz_recipe.csv' AS value\n",
    "MATCH (r:Recipe {id:value[\"id\"]})\n",
    "WHERE r.fonte IS NULL OR r.fonte<>\"GialloZafferano\"\n",
    "return count(r)\n",
    "\"\"\"\n",
    "if graph.run(cq).evaluate() != 0:\n",
    "    print(\"Le ricette di BBC e quelle di GialloZafferano hanno degli id in comune!\")\n",
    "    raise(MiaStopExecution)\n",
    "\n",
    "# Inserisco le ricette\n",
    "cq=\"\"\"\n",
    "LOAD CSV WITH HEADERS FROM 'file:///gz_recipe.csv' AS value\n",
    "MERGE (r:Recipe {id: value[\"id\"]})\n",
    "SET r.name = value[\"Nome\"],\n",
    "    r.description = value[\"Steps\"],\n",
    "    r.persone_pezzi = value[\"Persone/Pezzi\"],\n",
    "    r.fonte = \"GialloZafferano\"\n",
    "\"\"\"\n",
    "graph.run(cq)\n",
    "\n",
    "cq=\"\"\"MATCH (r:Recipe) WHERE r.fonte IS NULL SET r.fonte=\"BBC GoodFood\" \"\"\"\n",
    "graph.run(cq)\n",
    "\n",
    "# Inserisco gli ingredienti\n",
    "cq=\"\"\"\n",
    "LOAD CSV WITH HEADERS FROM 'file:///gz_recipe.csv' AS value\n",
    "WITH value[\"id\"] AS id, replace(value[\"Ingredienti\"], '\"', \"\") AS ris1\n",
    "WITH id, replace(ris1, \"[[\", \"\") AS ris2\n",
    "WITH id,replace(ris2, \"]]\", \"\") AS ris3\n",
    "WITH id,replace(ris3, \"'\", \"\") AS ris4\n",
    "WITH id,split(ris4, \"], [\") AS ingrs_list\n",
    "MATCH (r:Recipe {id:id})\n",
    "WHERE ingrs_list[0]<>\"[]\"   // Alcune ricette non hanno ingredienti nè descrizione (es. Churros red velvet)\n",
    "FOREACH (ingr_quantita_string IN ingrs_list |\n",
    "    MERGE (i:Ingredient {name: split(ingr_quantita_string, \", \")[0]})\n",
    "    MERGE (r)-[:CONTAINS_INGREDIENT {quantita: split(ingr_quantita_string, \", \")[1]}]->(i)\n",
    ")\n",
    "\"\"\" \n",
    "graph.run(cq)\n",
    "\n",
    "\n",
    "# Creo le categorie \n",
    "cq=\"\"\"\n",
    "LOAD CSV WITH HEADERS FROM 'file:///gz_recipe.csv' AS value\n",
    "MATCH (r:Recipe {id:value[\"id\"]})\n",
    "WHERE value[\"Categoria\"] IS NOT NULL\n",
    "MERGE (c:Collection {name: value[\"Categoria\"]})\n",
    "MERGE (r)-[:COLLECTION]->(c)\n",
    "\"\"\"\n",
    "graph.run(cq)\n",
    "\n"
   ]
  },
  {
   "attachments": {},
   "cell_type": "markdown",
   "metadata": {},
   "source": [
    "### 3. Inserimento degli allergeni\n",
    "Ho aggiunto un campo \"is_allergene\" al nodo Ingredient. Ho scaricato da Kaggle due file:\n",
    "- [allergens.json](data/allergens.json) (https://www.kaggle.com/datasets/elenacivati/allergensjson): contenente un elenco non molto ampio di allergeni in italiano, inglese e altre lingue.\n",
    "- [FoodData.csv](data/FoodData.csv) (https://www.kaggle.com/datasets/boltcutters/food-allergens-and-allergies): contenente un elenco più ampio ma solo in inglese\n",
    "\n",
    "Ho quindi impostato gli ingredienti contenuti nei file con is_allergene=True. Ho invece settato is_allergene=False per i restanti ingredienti. "
   ]
  },
  {
   "cell_type": "code",
   "execution_count": 8,
   "metadata": {},
   "outputs": [
    {
     "data": {
      "text/html": [
       "(No data)"
      ],
      "text/plain": [
       "(No data)"
      ]
     },
     "execution_count": 8,
     "metadata": {},
     "output_type": "execute_result"
    }
   ],
   "source": [
    "# Prendo dal file allergens.json i nomi degli ingredienti in inglese e italiano. \n",
    "# Converto poi in csv, in modo da semplificare la lettura del file successivamente\n",
    "import pandas as pd\n",
    "df_allergens = pd.read_json(DATA_FOLDER + \"allergens.json\").transpose()\n",
    "df_allergens[\"en\"]=df_allergens.index\n",
    "df_allergens[\"en\"]=df_allergens[\"en\"].apply(lambda x: x[3:])\n",
    "df_allergens[\"it\"]=df_allergens[\"name\"].apply(lambda x: x[\"it\"])\n",
    "df_allergens=df_allergens[[\"en\", \"it\"]]\n",
    "df_allergens.to_csv(DATA_FOLDER + \"allergens.csv\", index=False)\n",
    "copy_in_import_dir(\"allergens.csv\")\n",
    "\n",
    "# Setto gli allergeni\n",
    "cq=\"\"\"\n",
    "LOAD CSV WITH HEADERS FROM 'file:///FoodData.csv' AS value\n",
    "LOAD CSV WITH HEADERS FROM 'file:///allergens.csv' AS value2\n",
    "MATCH (i:Ingredient)\n",
    "WHERE \n",
    "    toLower(i.name) CONTAINS toLower(value[\"Food\"])  OR \n",
    "    toLower(i.name) CONTAINS toLower(value2[\"en\"])  OR \n",
    "    toLower(i.name) CONTAINS toLower(value2[\"it\"])  \n",
    "SET i.is_allergene=True;\"\"\"\n",
    "graph.run(cq)\n",
    "\n",
    "# Setto i restanti ingredienti come non allergeni\n",
    "cq=\"\"\"\n",
    "MATCH (i:Ingredient)\n",
    "WHERE i.is_allergene IS NULL\n",
    "SET i.is_allergene=False; \"\"\"\n",
    "graph.run(cq)\n"
   ]
  },
  {
   "attachments": {},
   "cell_type": "markdown",
   "metadata": {},
   "source": [
    "### 4. Nuovo indice\n",
    "Per velocizzare in futuro la ricerca delle ricette in base al nome, ho deciso di inserire un nuovo indice sulla proprietà name di Recipe."
   ]
  },
  {
   "cell_type": "code",
   "execution_count": 9,
   "metadata": {},
   "outputs": [
    {
     "data": {
      "text/html": [
       "(No data)"
      ],
      "text/plain": [
       "(No data)"
      ]
     },
     "execution_count": 9,
     "metadata": {},
     "output_type": "execute_result"
    }
   ],
   "source": [
    "graph.run(\" CREATE INDEX IF NOT EXISTS FOR (n:Recipe) ON (n.name);\")"
   ]
  },
  {
   "attachments": {},
   "cell_type": "markdown",
   "metadata": {},
   "source": [
    "### Schema finale\n",
    "Dopo le modifiche, lo schema finale è il seguente:"
   ]
  },
  {
   "attachments": {},
   "cell_type": "markdown",
   "metadata": {},
   "source": [
    "![schema](img/db_schema_finale.png)"
   ]
  },
  {
   "cell_type": "code",
   "execution_count": 125,
   "metadata": {},
   "outputs": [
    {
     "data": {
      "text/html": [
       "<table><tr><th>nodeType</th><th>nodeLabels</th><th>propertyName</th><th>propertyTypes</th><th>mandatory</th></tr><tr><td style=\"text-align:left\">:`Author`</td><td style=\"text-align:left\">[&#039;Author&#039;]</td><td style=\"text-align:left\">name</td><td style=\"text-align:left\">[&#039;String&#039;]</td><td style=\"text-align:left\">true</td></tr><tr><td style=\"text-align:left\">:`Ingredient`</td><td style=\"text-align:left\">[&#039;Ingredient&#039;]</td><td style=\"text-align:left\">name</td><td style=\"text-align:left\">[&#039;String&#039;]</td><td style=\"text-align:left\">true</td></tr><tr><td style=\"text-align:left\">:`Ingredient`</td><td style=\"text-align:left\">[&#039;Ingredient&#039;]</td><td style=\"text-align:left\">is_allergene</td><td style=\"text-align:left\">[&#039;Boolean&#039;]</td><td style=\"text-align:left\">true</td></tr><tr><td style=\"text-align:left\">:`DietType`</td><td style=\"text-align:left\">[&#039;DietType&#039;]</td><td style=\"text-align:left\">name</td><td style=\"text-align:left\">[&#039;String&#039;]</td><td style=\"text-align:left\">true</td></tr><tr><td style=\"text-align:left\">:`Collection`</td><td style=\"text-align:left\">[&#039;Collection&#039;]</td><td style=\"text-align:left\">name</td><td style=\"text-align:left\">[&#039;String&#039;]</td><td style=\"text-align:left\">true</td></tr><tr><td style=\"text-align:left\">:`Recipe`</td><td style=\"text-align:left\">[&#039;Recipe&#039;]</td><td style=\"text-align:left\">id</td><td style=\"text-align:left\">[&#039;String&#039;]</td><td style=\"text-align:left\">true</td></tr><tr><td style=\"text-align:left\">:`Recipe`</td><td style=\"text-align:left\">[&#039;Recipe&#039;]</td><td style=\"text-align:left\">cookingTime</td><td style=\"text-align:left\">[&#039;Long&#039;]</td><td style=\"text-align:left\">false</td></tr><tr><td style=\"text-align:left\">:`Recipe`</td><td style=\"text-align:left\">[&#039;Recipe&#039;]</td><td style=\"text-align:left\">preparationTime</td><td style=\"text-align:left\">[&#039;Long&#039;]</td><td style=\"text-align:left\">false</td></tr><tr><td style=\"text-align:left\">:`Recipe`</td><td style=\"text-align:left\">[&#039;Recipe&#039;]</td><td style=\"text-align:left\">name</td><td style=\"text-align:left\">[&#039;String&#039;]</td><td style=\"text-align:left\">true</td></tr><tr><td style=\"text-align:left\">:`Recipe`</td><td style=\"text-align:left\">[&#039;Recipe&#039;]</td><td style=\"text-align:left\">description</td><td style=\"text-align:left\">[&#039;String&#039;]</td><td style=\"text-align:left\">false</td></tr><tr><td style=\"text-align:left\">:`Recipe`</td><td style=\"text-align:left\">[&#039;Recipe&#039;]</td><td style=\"text-align:left\">skillLevel</td><td style=\"text-align:left\">[&#039;String&#039;]</td><td style=\"text-align:left\">false</td></tr><tr><td style=\"text-align:left\">:`Recipe`</td><td style=\"text-align:left\">[&#039;Recipe&#039;]</td><td style=\"text-align:left\">persone_pezzi</td><td style=\"text-align:left\">[&#039;String&#039;]</td><td style=\"text-align:left\">false</td></tr><tr><td style=\"text-align:left\">:`Recipe`</td><td style=\"text-align:left\">[&#039;Recipe&#039;]</td><td style=\"text-align:left\">fonte</td><td style=\"text-align:left\">[&#039;String&#039;]</td><td style=\"text-align:left\">true</td></tr></table>"
      ],
      "text/plain": [
       " nodeType      | nodeLabels     | propertyName    | propertyTypes | mandatory \n",
       "---------------|----------------|-----------------|---------------|-----------\n",
       " :`Author`     | ['Author']     | name            | ['String']    | true      \n",
       " :`Ingredient` | ['Ingredient'] | name            | ['String']    | true      \n",
       " :`Ingredient` | ['Ingredient'] | is_allergene    | ['Boolean']   | true      \n",
       " :`DietType`   | ['DietType']   | name            | ['String']    | true      \n",
       " :`Collection` | ['Collection'] | name            | ['String']    | true      \n",
       " :`Recipe`     | ['Recipe']     | id              | ['String']    | true      \n",
       " :`Recipe`     | ['Recipe']     | cookingTime     | ['Long']      | false     \n",
       " :`Recipe`     | ['Recipe']     | preparationTime | ['Long']      | false     \n",
       " :`Recipe`     | ['Recipe']     | name            | ['String']    | true      \n",
       " :`Recipe`     | ['Recipe']     | description     | ['String']    | false     \n",
       " :`Recipe`     | ['Recipe']     | skillLevel      | ['String']    | false     \n",
       " :`Recipe`     | ['Recipe']     | persone_pezzi   | ['String']    | false     \n",
       " :`Recipe`     | ['Recipe']     | fonte           | ['String']    | true      "
      ]
     },
     "execution_count": 125,
     "metadata": {},
     "output_type": "execute_result"
    }
   ],
   "source": [
    "ris = graph.run(\"CALL db.schema.nodeTypeProperties\")\n",
    "ris.sample_size = 1000\n",
    "ris"
   ]
  },
  {
   "cell_type": "code",
   "execution_count": 132,
   "metadata": {},
   "outputs": [
    {
     "data": {
      "text/html": [
       "<table><tr><th>relType</th><th>propertyName</th><th>propertyTypes</th><th>mandatory</th></tr><tr><td style=\"text-align:left\">:`WROTE`</td><td style=\"text-align:left\">null</td><td style=\"text-align:left\">null</td><td style=\"text-align:left\">false</td></tr><tr><td style=\"text-align:left\">:`CONTAINS_INGREDIENT`</td><td style=\"text-align:left\">quantita</td><td style=\"text-align:left\">[&#039;String&#039;]</td><td style=\"text-align:left\">false</td></tr><tr><td style=\"text-align:left\">:`DIET_TYPE`</td><td style=\"text-align:left\">null</td><td style=\"text-align:left\">null</td><td style=\"text-align:left\">false</td></tr><tr><td style=\"text-align:left\">:`COLLECTION`</td><td style=\"text-align:left\">null</td><td style=\"text-align:left\">null</td><td style=\"text-align:left\">false</td></tr></table>"
      ],
      "text/plain": [
       " relType                | propertyName | propertyTypes | mandatory \n",
       "------------------------|--------------|---------------|-----------\n",
       " :`WROTE`               | null         | null          | false     \n",
       " :`CONTAINS_INGREDIENT` | quantita     | ['String']    | false     \n",
       " :`DIET_TYPE`           | null         | null          | false     \n",
       " :`COLLECTION`          | null         | null          | false     "
      ]
     },
     "execution_count": 132,
     "metadata": {},
     "output_type": "execute_result"
    }
   ],
   "source": [
    "\n",
    "ris = graph.run(\"CALL db.schema.relTypeProperties\")\n",
    "ris.sample_size = 1000\n",
    "ris"
   ]
  },
  {
   "attachments": {},
   "cell_type": "markdown",
   "metadata": {},
   "source": [
    "## Interrogazioni\n",
    "[ok] - Cerca le ricette con due ingredienti scelti\n",
    "[ok] - Cerca una ricetta in base al nome \n",
    "[ok] - Ricetta più veloce da preparare\n",
    "[ok] - Cerca lo chef che ha scritto più ricette\n",
    "[ok] - Stampa le ricette senza allergeni\n",
    "[ok] - Partendo da una ricetta, mostra i suggerimenti (collection, diet type, autore, skilLevel, fonte)\n",
    "- Rimettere Keyword e \"The Top 5 tags co-occurring with keyword ..., with respective frequency count\"\n",
    "\n"
   ]
  },
  {
   "attachments": {},
   "cell_type": "markdown",
   "metadata": {},
   "source": [
    "### Quali ricette contengono due ingredienti (scelti dall'utente)?"
   ]
  },
  {
   "cell_type": "code",
   "execution_count": 279,
   "metadata": {},
   "outputs": [
    {
     "name": "stdout",
     "output_type": "stream",
     "text": [
      "************ Stampa una ricetta con due ingredienti ************ \n",
      "Qualche suggerimento per la scelta degli ingredienti: \n"
     ]
    },
    {
     "data": {
      "text/html": [
       "<table><tr><th>ingrediente</th><th>is_allergene</th></tr><tr><td style=\"text-align:left\">frozen petit pois</td><td style=\"text-align:left\">false</td></tr><tr><td style=\"text-align:left\">Indivia belga</td><td style=\"text-align:left\">false</td></tr><tr><td style=\"text-align:left\">cases</td><td style=\"text-align:left\">false</td></tr><tr><td style=\"text-align:left\">Cocomero (anguria)</td><td style=\"text-align:left\">false</td></tr><tr><td style=\"text-align:left\">Zucca</td><td style=\"text-align:left\">false</td></tr></table>"
      ],
      "text/plain": [
       " ingrediente        | is_allergene \n",
       "--------------------|--------------\n",
       " frozen petit pois  | false        \n",
       " Indivia belga      | false        \n",
       " cases              | false        \n",
       " Cocomero (anguria) | false        \n",
       " Zucca              | false        "
      ]
     },
     "metadata": {},
     "output_type": "display_data"
    },
    {
     "name": "stdout",
     "output_type": "stream",
     "text": [
      "Ecco 5 ingredienti usati spesso con Confettura di prugne\n"
     ]
    },
    {
     "data": {
      "text/html": [
       "<table><tr><th>ingrediente_raccomandato</th><th>is_allergene</th></tr><tr><td style=\"text-align:left\">Uova</td><td style=\"text-align:left\">true</td></tr><tr><td style=\"text-align:left\">Farina 00</td><td style=\"text-align:left\">false</td></tr><tr><td style=\"text-align:left\">Zucchero</td><td style=\"text-align:left\">false</td></tr><tr><td style=\"text-align:left\">Sale fino</td><td style=\"text-align:left\">false</td></tr><tr><td style=\"text-align:left\">Latte intero</td><td style=\"text-align:left\">true</td></tr></table>"
      ],
      "text/plain": [
       " ingrediente_raccomandato | is_allergene \n",
       "--------------------------|--------------\n",
       " Uova                     | true         \n",
       " Farina 00                | false        \n",
       " Zucchero                 | false        \n",
       " Sale fino                | false        \n",
       " Latte intero             | true         "
      ]
     },
     "metadata": {},
     "output_type": "display_data"
    },
    {
     "name": "stdout",
     "output_type": "stream",
     "text": [
      "\n",
      "Ricette trovate con gli ingredienti Confettura di prugne ,  Uova: \n",
      "\t Crostata alla crema e prugne\n",
      "\t Girelle alla marmellata\n",
      "\t Treccine di sfoglia\n"
     ]
    }
   ],
   "source": [
    "# Cerco le ricette con due ingredienti\n",
    "print(\"************ Stampa una ricetta con due ingredienti ************ \")\n",
    "\n",
    "# Stampo qualche suggerimento\n",
    "print(\"Qualche suggerimento per la scelta degli ingredienti: \")\n",
    "cq = \"\"\" \n",
    "MATCH (i:Ingredient)\n",
    "WITH i, rand() as num\n",
    "RETURN i.name AS ingrediente, i.is_allergene AS is_allergene\n",
    "ORDER BY num\n",
    "LIMIT 5\n",
    "\"\"\"\n",
    "ris = graph.run(cq)\n",
    "ris.sample_size = 5\n",
    "display(ris)\n",
    "\n",
    "# Chiedo il primo ingrediente e stampo gli ingredienti più usati con esso\n",
    "ingrediente1=\"\"\n",
    "while ingrediente1==\"\":\n",
    "    ingrediente1=input(\"Inserisci primo ingrediente: \")\n",
    "# ingrediente1=\"Confettura di prugne\"\n",
    "\n",
    "print(\"Ecco 5 ingredienti usati spesso con \" +ingrediente1)\n",
    "cq = \"\"\" \n",
    "MATCH (i_scelto:Ingredient)<-[:CONTAINS_INGREDIENT]-(:Recipe)-[:CONTAINS_INGREDIENT]->(i2:Ingredient)\n",
    "WHERE toLower(i_scelto.name) CONTAINS toLower('\"\"\"+ingrediente1+\"\"\"')\n",
    "WITH i2,  COUNT(i2) AS num\n",
    "RETURN i2.name AS ingrediente_raccomandato, i2.is_allergene AS is_allergene\n",
    "ORDER BY num DESC\n",
    "LIMIT 5\n",
    "\"\"\"\n",
    "ris = graph.run(cq)\n",
    "ris.sample_size = 5\n",
    "display(ris)\n",
    "\n",
    "# Chiedo il secondo ingrediente\n",
    "ingrediente2=\"\"\n",
    "while ingrediente2==\"\": \n",
    "    ingrediente2=input(\"Inserisci secondo ingrediente: \")\n",
    "# ingrediente2=\"Uova\"\n",
    "\n",
    "# Cerco i risultati...\n",
    "cq = \"\"\" \n",
    "MATCH (i1:Ingredient)<-[:CONTAINS_INGREDIENT]-(r:Recipe)-[:CONTAINS_INGREDIENT]->(i2:Ingredient)\n",
    "WHERE \n",
    "    toLower(i1.name) CONTAINS toLower('\"\"\"+ingrediente1+\"\"\"') AND \n",
    "    toLower(i2.name) CONTAINS toLower('\"\"\"+ingrediente2+\"\"\"') \n",
    "RETURN r\n",
    "\"\"\"\n",
    "recipe_list = graph.run(cq)\n",
    "\n",
    "# ... e li stampo\n",
    "print(\"\\nRicette trovate con gli ingredienti\",ingrediente1, \", \" ,ingrediente2,\"\\b: \")\n",
    "ricetta_trovata = False\n",
    "for r in recipe_list:\n",
    "    ricetta_trovata = True\n",
    "    node_recipe = r[r.keys()[0]]\n",
    "    print(\"\\t\", node_recipe.get(\"name\", \"\\b\"))\n",
    "if not ricetta_trovata:\n",
    "    print(\"------ Nessuna ricetta! ------\")\n",
    "    "
   ]
  },
  {
   "attachments": {},
   "cell_type": "markdown",
   "metadata": {},
   "source": [
    "### Stampa i dettagli di una ricetta"
   ]
  },
  {
   "cell_type": "code",
   "execution_count": 284,
   "metadata": {},
   "outputs": [
    {
     "name": "stdout",
     "output_type": "stream",
     "text": [
      "Ricetta scelta: Chocolate chia pudding\n",
      "---------------\n",
      "fonte: BBC GoodFood\n",
      "name: Chocolate chia pudding\n",
      "preparationTime: 300\n",
      "description: Make a tasty, healthy chocolate pudding in just five minutes. It's low-calorie and vegan, too, and the chia seeds are a great source of omega-3 fatty acids\n",
      "id: 7544031\n",
      "skillLevel: Easy\n",
      "cookingTime: 0\n",
      "Categorie: ['Easy vegan', 'Vegan gluten-free', 'Vegan summer', 'Healthy vegan']\n",
      "Ingredienti: ['chia seeds ', 'vanilla extract ', 'cacao powder ', 'maple syrup ', 'cacao nibs ', 'berries ', 'almond milk (Allergene!) ']\n"
     ]
    }
   ],
   "source": [
    "# Chiedo il nome della ricetta\n",
    "nome_ricetta=\"\"\n",
    "while nome_ricetta==\"\": \n",
    "    nome_ricetta=input(\"Inserisci nome della ricetta: \")\n",
    "print(\"Ricetta scelta:\", nome_ricetta)\n",
    "\n",
    "# Cerco la ricetta e tutti i relativi dati\n",
    "cq = \"\"\"MATCH (r:Recipe) \n",
    "WHERE toLower(r.name) = toLower('\"\"\"+nome_ricetta+\"\"\"')\n",
    "OPTIONAL MATCH (a:Author)-[:WROTE]->(r)\n",
    "OPTIONAL MATCH (c:Collection)<-[:COLLECTION]-(r)\n",
    "OPTIONAL MATCH (d:DietType)<-[:DIET_TYPE]-(r)\n",
    "OPTIONAL MATCH (i:Ingredient)<-[r_i:CONTAINS_INGREDIENT]-(r)\n",
    "RETURN r AS ricetta, COLLECT(DISTINCT c) AS categorie, COLLECT(DISTINCT i) AS ingredienti, COLLECT(DISTINCT d) AS tipi_dieta, COLLECT(DISTINCT r_i) AS quantita_ingredienti\n",
    "\"\"\"\n",
    "list_recipes = graph.run(cq)\n",
    "\n",
    "# Stampo i risultati\n",
    "ricetta_trovata=False\n",
    "for res in list_recipes:\n",
    "    ricetta_trovata = True\n",
    "\n",
    "    tmp = dict(res)\n",
    "    print(\"---------------\")\n",
    "\n",
    "    if tmp.__contains__(\"ricetta\"):\n",
    "        for k,v in tmp[\"ricetta\"].items():\n",
    "            print(k, \"\\b:\",v)\n",
    "    \n",
    "    if tmp.__contains__(\"categorie\"):\n",
    "        categorie = tmp[\"categorie\"]\n",
    "        print(\"Categorie:\", [v for c in categorie for _,v in c.items()])\n",
    "    \n",
    "    if tmp.__contains__(\"ingredienti\"):\n",
    "        ingredienti =  [c[\"name\"] + (\" (Allergene!)\" if c[\"is_allergene\"] else \"\") for c in tmp[\"ingredienti\"]]\n",
    "    \n",
    "    if tmp.__contains__(\"quantita_ingredienti\"):\n",
    "        quantita_ingredienti = [dict(q_i).get(\"quantita\", \"\") for q_i in tmp[\"quantita_ingredienti\"]]\n",
    "        tmp2 = []\n",
    "        for i in range(len(ingredienti)):\n",
    "            tmp2.append( ingredienti[i] + \" \" + quantita_ingredienti[i])\n",
    "        ingredienti = tmp2\n",
    "    \n",
    "    print(\"Ingredienti:\", ingredienti)\n",
    "\n",
    "if not ricetta_trovata:\n",
    "    print(\"--- Nessuna ricetta trovata --- \")\n"
   ]
  },
  {
   "attachments": {},
   "cell_type": "markdown",
   "metadata": {},
   "source": [
    "### Quali sono le ricette più veloci da preparare?"
   ]
  },
  {
   "cell_type": "code",
   "execution_count": 285,
   "metadata": {},
   "outputs": [
    {
     "name": "stdout",
     "output_type": "stream",
     "text": [
      "Scegli un'opzione. Ricetta piu' veloce in base a: \n",
      "\t1. Tempo di preparazione\n",
      "\t2. Tempo di cottura\n",
      "\t3. Tempo totale\n",
      "Opzione scelta: tempo_totale\n"
     ]
    },
    {
     "data": {
      "text/html": [
       "<table><tr><th>ricetta</th><th>tempo_cottura</th><th>tempo_preparazione</th><th>tempo_totale</th></tr><tr><td style=\"text-align:left\">Spiced almonds</td><td style=\"text-align:right\">0</td><td style=\"text-align:right\">60</td><td style=\"text-align:right\">60</td></tr><tr><td style=\"text-align:left\">Fruit &amp; seed yogurt</td><td style=\"text-align:right\">0</td><td style=\"text-align:right\">60</td><td style=\"text-align:right\">60</td></tr><tr><td style=\"text-align:left\">Apple crunch</td><td style=\"text-align:right\">0</td><td style=\"text-align:right\">60</td><td style=\"text-align:right\">60</td></tr></table>"
      ],
      "text/plain": [
       " ricetta             | tempo_cottura | tempo_preparazione | tempo_totale \n",
       "---------------------|---------------|--------------------|--------------\n",
       " Spiced almonds      |             0 |                 60 |           60 \n",
       " Fruit & seed yogurt |             0 |                 60 |           60 \n",
       " Apple crunch        |             0 |                 60 |           60 "
      ]
     },
     "execution_count": 285,
     "metadata": {},
     "output_type": "execute_result"
    }
   ],
   "source": [
    "print(\"Scegli un'opzione. Ricetta piu' veloce in base a: \\n\\t1. Tempo di preparazione\\n\\t2. Tempo di cottura\\n\\t3. Tempo totale\")\n",
    "opzione=\"\"\n",
    "while opzione==\"\":\n",
    "    opzione=input(\">> \")\n",
    "    opzione = \"tempo_preparazione\" if opzione==\"1\" else (\"tempo_cottura\" if opzione==\"2\" else (\"tempo_totale\" if opzione==\"3\" else \"\"))\n",
    "print(\"Opzione scelta: \" + opzione)\n",
    "\n",
    "cq = \"\"\"MATCH (r:Recipe)\n",
    "WHERE r.preparationTime<>0\n",
    "RETURN r.name AS ricetta, r.cookingTime AS tempo_cottura, r.preparationTime as tempo_preparazione, r.cookingTime+r.preparationTime AS tempo_totale\n",
    "ORDER BY \"\"\" + opzione + \" LIMIT 3\"\n",
    "graph.run(cq)\n"
   ]
  },
  {
   "attachments": {},
   "cell_type": "markdown",
   "metadata": {},
   "source": [
    "### Chi ha scritto più ricette?"
   ]
  },
  {
   "cell_type": "code",
   "execution_count": 286,
   "metadata": {},
   "outputs": [
    {
     "data": {
      "text/html": [
       "<table><tr><th>a.name</th><th>num_ricette</th><th>alcune_ricette</th></tr><tr><td style=\"text-align:left\">Good Food</td><td style=\"text-align:right\">3441</td><td style=\"text-align:left\">[&#039;Gratin of carrots &amp; root vegetables&#039;, &#039;Broccoli pesto pasta&#039;, &#039;Party vol-au-vents&#039;, &#039;Mocha fondant puddings&#039;, &#039;Tomato tart with cheddar crust&#039;]</td></tr><tr><td style=\"text-align:left\">Sara Buenfeld</td><td style=\"text-align:right\">664</td><td style=\"text-align:left\">[&#039;Steaks with goulash sauce &amp; sweet potato fries&#039;, &#039;Rhubarb &amp; orange cake&#039;, &quot;Chicken with goat&#039;s cheese &amp; tarragon&quot;, &#039;Avocado &amp; bean triangles&#039;, &#039;Sausage &amp; mash pies&#039;]</td></tr><tr><td style=\"text-align:left\">Barney Desmazery</td><td style=\"text-align:right\">646</td><td style=\"text-align:left\">[&#039;Pears roasted in red wine&#039;, &#039;Wild garlic &amp; nettle soup&#039;, &#039;Pumpkin curry with chickpeas&#039;, &#039;Herby lamb cobbler&#039;, &#039;Stuffed courgette flowers&#039;]</td></tr><tr><td style=\"text-align:left\">Cassie Best</td><td style=\"text-align:right\">638</td><td style=\"text-align:left\">[&#039;Heirloom beetroot &amp; feta salad&#039;, &#039;Strawberry &amp; elderflower gateau&#039;, &#039;Soft polenta with roast squash, kale &amp; hazelnuts&#039;, &#039;Slow cooker butter chicken&#039;, &#039;Spiced lamb pie&#039;]</td></tr><tr><td style=\"text-align:left\">Sarah Cook</td><td style=\"text-align:right\">515</td><td style=\"text-align:left\">[&#039;Caramelised figgy bread &amp; butter pudding&#039;, &#039;Cappuccino cake&#039;, &#039;Treacle tart bars&#039;, &#039;Summer ham &amp; pea broth&#039;, &#039;Roly-poly bread &amp; butter pud&#039;]</td></tr></table>"
      ],
      "text/plain": [
       " a.name           | num_ricette | alcune_ricette                                                                                                                                                             \n",
       "------------------|-------------|----------------------------------------------------------------------------------------------------------------------------------------------------------------------------\n",
       " Good Food        |        3441 | ['Gratin of carrots & root vegetables', 'Broccoli pesto pasta', 'Party vol-au-vents', 'Mocha fondant puddings', 'Tomato tart with cheddar crust']                          \n",
       " Sara Buenfeld    |         664 | ['Steaks with goulash sauce & sweet potato fries', 'Rhubarb & orange cake', \"Chicken with goat's cheese & tarragon\", 'Avocado & bean triangles', 'Sausage & mash pies']    \n",
       " Barney Desmazery |         646 | ['Pears roasted in red wine', 'Wild garlic & nettle soup', 'Pumpkin curry with chickpeas', 'Herby lamb cobbler', 'Stuffed courgette flowers']                              \n",
       " Cassie Best      |         638 | ['Heirloom beetroot & feta salad', 'Strawberry & elderflower gateau', 'Soft polenta with roast squash, kale & hazelnuts', 'Slow cooker butter chicken', 'Spiced lamb pie'] \n",
       " Sarah Cook       |         515 | ['Caramelised figgy bread & butter pudding', 'Cappuccino cake', 'Treacle tart bars', 'Summer ham & pea broth', 'Roly-poly bread & butter pud']                             "
      ]
     },
     "metadata": {},
     "output_type": "display_data"
    }
   ],
   "source": [
    "cq = \"\"\"MATCH (a:Author)-[:WROTE]->(r:Recipe)\n",
    "WITH a, COUNT(r) AS num_ricette, COLLECT(r.name)[..5] AS alcune_ricette // Seleziono solo le prime cinque, per nons\n",
    "RETURN a.name, num_ricette, alcune_ricette\n",
    "ORDER BY num_ricette DESC\n",
    "LIMIT 5\n",
    "\"\"\"\n",
    "res = graph.run(cq)\n",
    "res.sample_size = 5\n",
    "display(res)"
   ]
  },
  {
   "attachments": {},
   "cell_type": "markdown",
   "metadata": {},
   "source": [
    "### Quali ricette non contengono allergeni?"
   ]
  },
  {
   "cell_type": "code",
   "execution_count": 287,
   "metadata": {},
   "outputs": [
    {
     "data": {
      "text/html": [
       "<table><tr><th>ricetta</th><th>ingredienti</th></tr><tr><td style=\"text-align:left\">Bavette ai carciofi e sardine</td><td style=\"text-align:left\">[&#039;Olio extravergine doliva&#039;, &#039;Succo di limone&#039;, &#039;Prezzemolo&#039;, &#039;Vino bianco&#039;, &#039;Pinoli&#039;, &#039;Linguine&#039;, &#039;Cipollotti&#039;, &#039;Carciofi&#039;, &#039;Sardine&#039;]</td></tr><tr><td style=\"text-align:left\">Burro di mandorle</td><td style=\"text-align:left\">[&#039;Sale fino&#039;, &#039;Cannella in polvere&#039;, &#039;Miele millefiori&#039;, &#039;Mandorle pelate&#039;, &#039;Olio di sesamo&#039;]</td></tr><tr><td style=\"text-align:left\">Coni di bresaola e formaggio</td><td style=\"text-align:left\">[&#039;Formaggio fresco spalmabile&#039;, &#039;Pepe bianco&#039;, &#039;Erba cipollina&#039;, &#039;Rucola&#039;, &#039;Bresaola&#039;]</td></tr><tr><td style=\"text-align:left\">Vellutata di zucca e carote</td><td style=\"text-align:left\">[&#039;Sale fino&#039;, &#039;Acqua&#039;, &#039;Carote&#039;, &#039;Olio extravergine doliva&#039;, &#039;Pepe nero&#039;, &#039;Panna acida&#039;, &#039;Rosmarino&#039;, &#039;Timo&#039;, &#039;Zucca&#039;, &#039;Salvia&#039;, &#039;Scalogno&#039;, &#039;Semi di zucca&#039;]</td></tr><tr><td style=\"text-align:left\">Confettura di fichi</td><td style=\"text-align:left\">[&#039;Zucchero&#039;, &#039;Acqua&#039;, &#039;Limoni&#039;, &#039;Fichi&#039;]</td></tr></table>"
      ],
      "text/plain": [
       " ricetta                       | ingredienti                                                                                                                                                   \n",
       "-------------------------------|---------------------------------------------------------------------------------------------------------------------------------------------------------------\n",
       " Bavette ai carciofi e sardine | ['Olio extravergine doliva', 'Succo di limone', 'Prezzemolo', 'Vino bianco', 'Pinoli', 'Linguine', 'Cipollotti', 'Carciofi', 'Sardine']                       \n",
       " Burro di mandorle             | ['Sale fino', 'Cannella in polvere', 'Miele millefiori', 'Mandorle pelate', 'Olio di sesamo']                                                                 \n",
       " Coni di bresaola e formaggio  | ['Formaggio fresco spalmabile', 'Pepe bianco', 'Erba cipollina', 'Rucola', 'Bresaola']                                                                        \n",
       " Vellutata di zucca e carote   | ['Sale fino', 'Acqua', 'Carote', 'Olio extravergine doliva', 'Pepe nero', 'Panna acida', 'Rosmarino', 'Timo', 'Zucca', 'Salvia', 'Scalogno', 'Semi di zucca'] \n",
       " Confettura di fichi           | ['Zucchero', 'Acqua', 'Limoni', 'Fichi']                                                                                                                      "
      ]
     },
     "execution_count": 287,
     "metadata": {},
     "output_type": "execute_result"
    }
   ],
   "source": [
    "num_ricette = 5\n",
    "cq = \"\"\"\n",
    "MATCH (r:Recipe)-[:CONTAINS_INGREDIENT]->(i:Ingredient)\n",
    "WITH r, COLLECT(i.is_allergene) AS are_allergeni, COLLECT(i.name) AS ingredienti\n",
    "WHERE all(x IN are_allergeni WHERE NOT x)\n",
    "RETURN r.name AS ricetta, ingredienti\n",
    "ORDER BY rand()\n",
    "LIMIT \"\"\" + str(num_ricette)\n",
    "ris = graph.run(cq)\n",
    "ris.sample_size = num_ricette\n",
    "ris\n"
   ]
  },
  {
   "attachments": {},
   "cell_type": "markdown",
   "metadata": {},
   "source": [
    "### Stampa le ricette suggerite\n",
    "Partendo da una ricetta ('Chocolate chia pudding'), il seguente script stampa le ricette suggerite, in base alle categorie, ai tipi di dieta e all'autore/autrice in comune.\n"
   ]
  },
  {
   "cell_type": "code",
   "execution_count": 288,
   "metadata": {},
   "outputs": [
    {
     "data": {
      "text/html": [
       "<table><tr><th>ricetta_suggerita</th><th>categorie_comuni</th><th>diete_comuni</th><th>n_dati_comuni</th><th>autore_comune</th></tr><tr><td style=\"text-align:left\">Guacamole &amp; mango salad with black beans</td><td style=\"text-align:left\">[&#039;Vegan gluten-free&#039;, &#039;Vegan summer&#039;, &#039;Healthy vegan&#039;]</td><td style=\"text-align:left\">[&#039;Healthy&#039;, &#039;Gluten-free&#039;, &#039;Vegetarian&#039;, &#039;Low-calorie&#039;, &#039;Vegan&#039;]</td><td style=\"text-align:right\">15</td><td style=\"text-align:left\">null</td></tr><tr><td style=\"text-align:left\">Quinoa stew with squash, prunes &amp; pomegranate</td><td style=\"text-align:left\">[&#039;Easy vegan&#039;, &#039;Vegan gluten-free&#039;, &#039;Healthy vegan&#039;]</td><td style=\"text-align:left\">[&#039;Healthy&#039;, &#039;Vegan&#039;, &#039;Gluten-free&#039;, &#039;Vegetarian&#039;, &#039;Dairy-free&#039;]</td><td style=\"text-align:right\">15</td><td style=\"text-align:left\">null</td></tr><tr><td style=\"text-align:left\">Vegan chickpea curry jacket potatoes</td><td style=\"text-align:left\">[&#039;Easy vegan&#039;, &#039;Vegan gluten-free&#039;, &#039;Healthy vegan&#039;]</td><td style=\"text-align:left\">[&#039;Gluten-free&#039;, &#039;Vegetarian&#039;, &#039;Vegan&#039;, &#039;Healthy&#039;]</td><td style=\"text-align:right\">12</td><td style=\"text-align:left\">null</td></tr><tr><td style=\"text-align:left\">Chargrilled vegetable tacos with smoky salsa</td><td style=\"text-align:left\">[&#039;Easy vegan&#039;, &#039;Vegan summer&#039;, &#039;Healthy vegan&#039;]</td><td style=\"text-align:left\">[&#039;Vegan&#039;, &#039;Low-calorie&#039;, &#039;Vegetarian&#039;, &#039;Healthy&#039;]</td><td style=\"text-align:right\">12</td><td style=\"text-align:left\">null</td></tr><tr><td style=\"text-align:left\">Avocado hummus &amp; cruditÃ©s</td><td style=\"text-align:left\">[&#039;Easy vegan&#039;, &#039;Vegan summer&#039;]</td><td style=\"text-align:left\">[&#039;Gluten-free&#039;, &#039;Vegetarian&#039;, &#039;Low-calorie&#039;, &#039;Vegan&#039;, &#039;Healthy&#039;]</td><td style=\"text-align:right\">10</td><td style=\"text-align:left\">Sophie Godwin</td></tr></table>"
      ],
      "text/plain": [
       " ricetta_suggerita                             | categorie_comuni                                       | diete_comuni                                                     | n_dati_comuni | autore_comune \n",
       "-----------------------------------------------|--------------------------------------------------------|------------------------------------------------------------------|---------------|---------------\n",
       " Guacamole & mango salad with black beans      | ['Vegan gluten-free', 'Vegan summer', 'Healthy vegan'] | ['Healthy', 'Gluten-free', 'Vegetarian', 'Low-calorie', 'Vegan'] |            15 | null          \n",
       " Quinoa stew with squash, prunes & pomegranate | ['Easy vegan', 'Vegan gluten-free', 'Healthy vegan']   | ['Healthy', 'Vegan', 'Gluten-free', 'Vegetarian', 'Dairy-free']  |            15 | null          \n",
       " Vegan chickpea curry jacket potatoes          | ['Easy vegan', 'Vegan gluten-free', 'Healthy vegan']   | ['Gluten-free', 'Vegetarian', 'Vegan', 'Healthy']                |            12 | null          \n",
       " Chargrilled vegetable tacos with smoky salsa  | ['Easy vegan', 'Vegan summer', 'Healthy vegan']        | ['Vegan', 'Low-calorie', 'Vegetarian', 'Healthy']                |            12 | null          \n",
       " Avocado hummus & cruditÃ©s                    | ['Easy vegan', 'Vegan summer']                         | ['Gluten-free', 'Vegetarian', 'Low-calorie', 'Vegan', 'Healthy'] |            10 | Sophie Godwin "
      ]
     },
     "execution_count": 288,
     "metadata": {},
     "output_type": "execute_result"
    }
   ],
   "source": [
    "ricetta = \"Chocolate chia pudding\"\n",
    "cq = \"\"\" \n",
    "MATCH (r:Recipe {name:'\"\"\"+ ricetta +\"\"\"'})-[:COLLECTION]->(c:Collection)<-[:COLLECTION]-(r2:Recipe)\n",
    "OPTIONAL MATCH (r)-[:DIET_TYPE]->(d:DietType)<-[:DIET_TYPE]-(r2)\n",
    "OPTIONAL MATCH (r)<-[:WROTE]-(a:Author)-[:WROTE]->(r2)\n",
    "WITH r2, COUNT(*) AS n_dati_comuni, COLLECT(DISTINCT d.name) AS diete_comuni,COLLECT(DISTINCT c.name) AS categorie_comuni, a.name AS autore_comune\n",
    "RETURN r2.name AS ricetta_suggerita, categorie_comuni, diete_comuni, n_dati_comuni, autore_comune\n",
    "ORDER BY n_dati_comuni DESC \n",
    "LIMIT 5\n",
    "\"\"\"\n",
    "ris = graph.run(cq)\n",
    "ris.sample_size = 5\n",
    "ris"
   ]
  },
  {
   "attachments": {},
   "cell_type": "markdown",
   "metadata": {},
   "source": [
    "### Ricerca una ricetta in base a una keyword\n",
    "<mark> TODO arrivata qui\n",
    "The Top 5 tags co-occurring with la parola Pasta, with respective frequency count"
   ]
  },
  {
   "attachments": {},
   "cell_type": "markdown",
   "metadata": {},
   "source": [
    "## Inserimenti\n"
   ]
  },
  {
   "attachments": {},
   "cell_type": "markdown",
   "metadata": {},
   "source": [
    "## Modifiche"
   ]
  },
  {
   "attachments": {},
   "cell_type": "markdown",
   "metadata": {},
   "source": [
    "## Cancellazioni\n"
   ]
  }
 ],
 "metadata": {
  "kernelspec": {
   "display_name": "Python 3",
   "language": "python",
   "name": "python3"
  },
  "language_info": {
   "codemirror_mode": {
    "name": "ipython",
    "version": 3
   },
   "file_extension": ".py",
   "mimetype": "text/x-python",
   "name": "python",
   "nbconvert_exporter": "python",
   "pygments_lexer": "ipython3",
   "version": "3.11.0"
  },
  "orig_nbformat": 4,
  "vscode": {
   "interpreter": {
    "hash": "a29d3b88d3d770f4c6b76b3f467a825cd9493448f3062cde152f1e267121f11d"
   }
  }
 },
 "nbformat": 4,
 "nbformat_minor": 2
}

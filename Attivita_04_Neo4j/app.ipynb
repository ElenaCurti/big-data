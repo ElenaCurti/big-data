{
 "cells": [
  {
   "attachments": {},
   "cell_type": "markdown",
   "metadata": {},
   "source": [
    "<center>Progetto realizzato da Elena Curti (matr. 185431)\n",
    "\n",
    "# Ricette\n",
    "</center>\n",
    "\n",
    "## Introduzione\n"
   ]
  },
  {
   "attachments": {},
   "cell_type": "markdown",
   "metadata": {},
   "source": [
    "## Requisiti\n",
    "Questo progetto è stato realizzato con Python 3.11 e Neo4j. E' necessaria l'installazione dei seguenti pacchetti:"
   ]
  },
  {
   "cell_type": "code",
   "execution_count": 5,
   "metadata": {},
   "outputs": [],
   "source": [
    "# %pip install py2neo neo4j-driver pandas"
   ]
  },
  {
   "attachments": {},
   "cell_type": "markdown",
   "metadata": {},
   "source": [
    "## Operazioni iniziali\n",
    "Per il corretto funzionamento del progetto proposto, è necessario:\n",
    "- Creare un nuovo progetto Neo4j \n",
    "- Creare all'interno del progetto un DMBS (scegliendo come nome \"neo4j\", come password \"pass\" e come versione 5.2.0)\n",
    "- Aggiungere il plugin APOC.\n",
    "- Premere su Start.\n",
    "<!-- \n",
    "Da Neo4j creare un nuovo progetto. Scegliere una tra le seguenti alternative:\n",
    "- Dal progetto appena creato, aggiungere al progetto il file [neo4j.dump](data/neo4j.dump). Creare poi un nuovo DBMS dal file dump (scegliendo come nome \"neo4j\", come password \"pass\" e come versione 5.2.0). Aggiungere il plugin APOC. Premere su Start.\n",
    "- Dal progetto appena creato, aggiungere un DBMS locale (scegliendo come nome, password e versione i valori indicati al punto sopra). Aggiungere il plugin APOC. Premere su Start e poi su Open. Eseguire tutti i comandi riportati nel file [import_commands.txt](data/import_commands.txt).\n",
    "<br>-->\n",
    "Eseguire poi le celle di codice, nell'ordine proposto "
   ]
  },
  {
   "attachments": {},
   "cell_type": "markdown",
   "metadata": {},
   "source": [
    "## Connessione e autenticazione\n",
    "Per effettuare la connessione al database, eseguire il seguente script:"
   ]
  },
  {
   "cell_type": "code",
   "execution_count": 6,
   "metadata": {},
   "outputs": [
    {
     "name": "stdout",
     "output_type": "stream",
     "text": [
      "Connessione al database eseguita correttamente!\n"
     ]
    }
   ],
   "source": [
    "from py2neo import Graph\n",
    "graph = Graph(\"bolt://localhost:7687\",  auth=(\"neo4j\", \"pass\"))\n",
    "\n",
    "print(\"Connessione al database eseguita correttamente!\")"
   ]
  },
  {
   "attachments": {},
   "cell_type": "markdown",
   "metadata": {},
   "source": [
    "# Schema e dati originali\n",
    "Lo use case originale è stato trovato sul sito [Recipes Neo4j](https://neo4j.com/graphgists/dd3dedcf-c377-4575-84f4-4d0d30b2a4c5/). Ha la seguente struttura iniziale:\n",
    "```\n",
    "    call db.schema.visualization()\n",
    "```"
   ]
  },
  {
   "attachments": {},
   "cell_type": "markdown",
   "metadata": {},
   "source": [
    "![schema](img/db_schema2.png)"
   ]
  },
  {
   "attachments": {},
   "cell_type": "markdown",
   "metadata": {},
   "source": [
    "I nodi Ingredient, Author, Collection, DietType, Keyword hanno un solo campo \"name\" che ne rappresenta il nome. <br>\n",
    "Il nodo Recipe ha le seguenti proprietà:\n",
    "<ul>\n",
    "    <li>id: campo che identifica univocamente la ricetta </li>\n",
    "    <li>cookingTime: tempo di cottura </li>\n",
    "    <li>description: descrizione della ricetta </li>\n",
    "    <li>name: nome della ricetta </li>\n",
    "    <li>preparationTime: tempo di preparazione </li>\n",
    "    <li>skillLevel: difficoltà </li>\n",
    "</ul>\n",
    "Gli archi non hanno proprietà. <br><br>\n",
    "\n",
    "Per importare i dati e aggiungere gli indici ho usato il seguente script. <br>\n",
    "Lo usecase originale ha previsto i seguenti indici per migliorare la performance delle cypher query:\n",
    "    <ul>\n",
    "        <li><i>id</i> su Recipe</li>\n",
    "        <li><i>name</i> su Ingredient</li>\n",
    "        <li><i>name</i> su Keyword</li>\n",
    "        <li><i>name</i> su DietType</li>\n",
    "        <li><i>name</i> su Author</li>\n",
    "        <li><i>name</i> su Collection</li>\n",
    "    </ul>\n",
    "Il comando ```CREATE INDEX IF NOT EXISTS FOR (n:Recipe) ON (n.id)``` è equivalente a ```CREATE INDEX IF NOT EXISTS ON :Recipe(id)```. Il primo, però, è compatibile con la versione 5.2.0 di Neo4j."
   ]
  },
  {
   "cell_type": "code",
   "execution_count": 7,
   "metadata": {},
   "outputs": [
    {
     "name": "stdout",
     "output_type": "stream",
     "text": [
      "Inserimento dei dati in corso... \n",
      "Tutti i dati sono stati importati correttamente!\n"
     ]
    }
   ],
   "source": [
    "print(\"Inserimento dei dati in corso... \")\n",
    "\n",
    "# Ricette\n",
    "graph.run(\"\"\" \n",
    "CALL apoc.load.json('https://raw.githubusercontent.com/neo4j-examples/graphgists/master/browser-guides/data/stream_clean.json') YIELD value\n",
    "WITH value.page.article.id AS id,\n",
    "       value.page.title AS title,\n",
    "       value.page.article.description AS description,\n",
    "       value.page.recipe.cooking_time AS cookingTime,\n",
    "       value.page.recipe.prep_time AS preparationTime,\n",
    "       value.page.recipe.skill_level AS skillLevel\n",
    "MERGE (r:Recipe {id: id})\n",
    "SET r.cookingTime = cookingTime,\n",
    "    r.preparationTime = preparationTime,\n",
    "    r.name = title,\n",
    "    r.description = description,\n",
    "    r.skillLevel = skillLevel;\n",
    "\"\"\")\n",
    "graph.run(\"\"\" CREATE INDEX IF NOT EXISTS FOR (n:Recipe) ON (n.id);        // CREATE INDEX IF NOT EXISTS ON :Recipe(id)  \"\"\")\n",
    "\n",
    "# Autori\n",
    "graph.run(\"\"\"\n",
    "//import authors and connect to recipes\n",
    "CALL apoc.load.json('https://raw.githubusercontent.com/neo4j-examples/graphgists/master/browser-guides/data/stream_clean.json') YIELD value\n",
    "WITH value.page.article.id AS id,\n",
    "       value.page.article.author AS author\n",
    "MERGE (a:Author {name: author})\n",
    "WITH a,id\n",
    "MATCH (r:Recipe {id:id})\n",
    "MERGE (a)-[:WROTE]->(r);\n",
    "\"\"\")\n",
    "graph.run(\"\"\"CREATE INDEX IF NOT EXISTS FOR (n:Author) ON (n.name);\"\"\" )\n",
    "\n",
    "# Ingredienti\n",
    "graph.run(\"\"\"//import ingredients and connect to recipes\n",
    "CALL apoc.load.json('https://raw.githubusercontent.com/neo4j-examples/graphgists/master/browser-guides/data/stream_clean.json') YIELD value\n",
    "WITH value.page.article.id AS id,\n",
    "       value.page.recipe.ingredients AS ingredients\n",
    "MATCH (r:Recipe {id:id})\n",
    "FOREACH (ingredient IN ingredients |\n",
    "  MERGE (i:Ingredient {name: ingredient})\n",
    "  MERGE (r)-[:CONTAINS_INGREDIENT]->(i)\n",
    ");\"\"\" )\n",
    "graph.run(\"\"\"CREATE INDEX IF NOT EXISTS FOR (n:Ingredient) ON (n.name);\"\"\" )\n",
    "\n",
    "# DietType\n",
    "graph.run(\"\"\"//import dietTypes and connect to recipes\n",
    "CALL apoc.load.json('https://raw.githubusercontent.com/neo4j-examples/graphgists/master/browser-guides/data/stream_clean.json') YIELD value\n",
    "WITH value.page.article.id AS id,\n",
    "       value.page.recipe.diet_types AS dietTypes\n",
    "MATCH (r:Recipe {id:id})\n",
    "FOREACH (dietType IN dietTypes |\n",
    "  MERGE (d:DietType {name: dietType})\n",
    "  MERGE (r)-[:DIET_TYPE]->(d)\n",
    ");\"\"\" )\n",
    "graph.run(\"\"\"CREATE INDEX IF NOT EXISTS FOR (n:DietType) ON (n.name);\"\"\" )\n",
    "\n",
    "# Collections\n",
    "graph.run(\"\"\"//import collections and connect to recipes\n",
    "CALL apoc.load.json('https://raw.githubusercontent.com/neo4j-examples/graphgists/master/browser-guides/data/stream_clean.json') YIELD value\n",
    "WITH value.page.article.id AS id,\n",
    "       value.page.recipe.collections AS collections\n",
    "MATCH (r:Recipe {id:id})\n",
    "FOREACH (collection IN collections |\n",
    "  MERGE (c:Collection {name: collection})\n",
    "  MERGE (r)-[:COLLECTION]->(c)\n",
    ");\"\"\" )\n",
    "graph.run(\"\"\"CREATE INDEX IF NOT EXISTS FOR (n:Collection) ON (n.name);\"\"\" )\n",
    "\n",
    "# Keyword\n",
    "cq = \"\"\"//import keywords and connect to recipes\n",
    "CALL apoc.load.json('https://raw.githubusercontent.com/neo4j-examples/graphgists/master/browser-guides/data/stream_clean.json') YIELD value\n",
    "WITH value.page.article.id AS id,\n",
    "       value.page.recipe.keywords AS keywords\n",
    "MATCH (r:Recipe {id:id})\n",
    "FOREACH (keyword IN keywords |\n",
    "  MERGE (k:Keyword {name: keyword})\n",
    "  MERGE (r)-[:KEYWORD]->(k)\n",
    ");\"\"\"\n",
    "# graph.run(cq)\n",
    "cq = \"\"\"CREATE INDEX IF NOT EXISTS FOR (n:Keyword) ON (n.name);\"\"\" \n",
    "# graph.run(cq)\n",
    "\n",
    "\n",
    "print(\"Tutti i dati sono stati importati correttamente!\")"
   ]
  },
  {
   "attachments": {},
   "cell_type": "markdown",
   "metadata": {},
   "source": [
    "## Modifiche effettuate\n",
    "Per arricchire il progetto ho deciso di aggiungere dei dati presi da Kaggle e di eseguire alcune modifiche allo schema originale. \n",
    "<br>\n",
    "<mark>TODOaggiunti altri campi dal file originale  <br>\n",
    "\n"
   ]
  },
  {
   "cell_type": "code",
   "execution_count": 8,
   "metadata": {},
   "outputs": [
    {
     "name": "stdout",
     "output_type": "stream",
     "text": [
      "Cartella import del DMBS: D:\\Elena\\_Elena\\Shared\\Universita\\Magistrale\\Big_data\\Anno_22_23\\TO_DEL_QUANDO_ESAME_DATO\\Neo4J\\relate-data\\dbmss\\dbms-b3e0a01c-d1be-4257-8d27-97054bc0e187\\import\n"
     ]
    }
   ],
   "source": [
    "# Definisco un'eccezione usata nel seguito\n",
    "class MiaStopExecution(Exception):\n",
    "    \"\"\"Il raise di questa classe provoca l'interruzione dell'esecizione della cella, senza interrompere il kernel\"\"\"\n",
    "    def _render_traceback_(self):\n",
    "        pass\n",
    "\n",
    "# Prima di effettuare le modifiche, copio i file necessari nella cartella \"import\" del DBMS, mediante il seguente script:\n",
    "import os \n",
    "import shutil\n",
    "DATA_FOLDER =\"data\"+os.path.sep\n",
    "\n",
    "cq =\"\"\"CALL dbms.listConfig() YIELD name, value\n",
    "    WHERE name=\"server.directories.import\"\n",
    "    RETURN value\"\"\"\n",
    "DIRECTORY_IMPORT = graph.run(cq).evaluate()\n",
    "print(\"Cartella import del DMBS: \" + DIRECTORY_IMPORT)\n",
    "\n",
    "def copy_in_import_dir(file_name):\n",
    "    source = DATA_FOLDER + file_name\n",
    "    destination = DIRECTORY_IMPORT + os.path.sep + file_name\n",
    "    shutil.copy(source, destination)\n",
    "\n",
    "copy_in_import_dir(\"FoodData.csv\") \n",
    "copy_in_import_dir(\"gz_recipe.csv\") \n"
   ]
  },
  {
   "attachments": {},
   "cell_type": "markdown",
   "metadata": {},
   "source": [
    "### 1. Rimozione di Keyword\n",
    "Ho deciso di rimuovere il nodo Keyword. Ho quindi evitato di eseguire le ultime due cypher query nello script precedente. Alternativamente, avrei potuto anche usare il seguente comando: "
   ]
  },
  {
   "cell_type": "code",
   "execution_count": 9,
   "metadata": {},
   "outputs": [
    {
     "data": {
      "text/html": [
       "(No data)"
      ],
      "text/plain": [
       "(No data)"
      ]
     },
     "execution_count": 9,
     "metadata": {},
     "output_type": "execute_result"
    }
   ],
   "source": [
    "graph.run(\"MATCH (n:Keyword) DETACH DELETE n\")"
   ]
  },
  {
   "attachments": {},
   "cell_type": "markdown",
   "metadata": {},
   "source": [
    "### 2. Aggiunta di altre ricette\n",
    "Per arricchire il dataset, ho deciso di inserire altre ricette al database. Ho quindi scaricato il file [gz_recipe.csv](data/gz_recipe.csv) da https://www.kaggle.com/datasets/edoardoscarpaci/italian-food-recipes, contenente delle ricette estratte dal sito [GialloZafferano](https://www.giallozafferano.it/). <br>\n",
    "Il file scaricato contiene i seguenti campi:\n",
    "- id: id che identifica univocamente la ricetta (intero da 0 a 5938).\n",
    "- Nome: nome del piatto\n",
    "- Categoria: categoria della ricetta (Primi, Secondi, ...)\n",
    "- Link: link della ricetta\n",
    "- Persone/Pezzi: numero di persone o pezzi della ricetta\n",
    "- Ingredienti: lista di ingredienti e relative quantità. Ad esempio: [['Mascarpone', '750g'], ['Uova', '260g']]\n",
    "- Steps: contenuto della ricetta"
   ]
  },
  {
   "attachments": {},
   "cell_type": "markdown",
   "metadata": {},
   "source": [
    "Per i inserire questi dati ho deciso di:\n",
    "- Aggiungere a Recipe le proprietà \n",
    "    - \"fonte\" che avrà il valore \"GialloZafferano\" o \"BBC GoodFood\"\n",
    "    - \"persone_pezzi\" per indicare il numero di persone o pezzi\n",
    "- Aggiungere a CONTAINS_INGREDIENTS una proprietà \"quantita\", contenente la quantità di un ingrediente in una ricetta"
   ]
  },
  {
   "attachments": {},
   "cell_type": "markdown",
   "metadata": {},
   "source": [
    "Come precedentemente spiegato, il campo id di Recipe è univoco nelle ricette già inserite. Aggiungendo i dati da un altra sorgente, si potrebbero avere dei record con lo stesso id. Prima di inserire le nuove ricette, quindi, controllo che gli id delle nuove ricette siano tutti diversi da quelli delle ricette già inserite. In questo caso, per fortuna, non ci sono conflitti sugli id e si può procedere con gli inserimenti. "
   ]
  },
  {
   "cell_type": "code",
   "execution_count": 10,
   "metadata": {},
   "outputs": [
    {
     "data": {
      "text/html": [
       "(No data)"
      ],
      "text/plain": [
       "(No data)"
      ]
     },
     "execution_count": 10,
     "metadata": {},
     "output_type": "execute_result"
    }
   ],
   "source": [
    "# Aggiungo le ricette di GialloZafferano. \n",
    "\n",
    "# Controllo che non ci siano già ricette con gli id\n",
    "cq=\"\"\"\n",
    "LOAD CSV WITH HEADERS FROM 'file:///gz_recipe.csv' AS value\n",
    "MATCH (r:Recipe {id:value[\"id\"]})\n",
    "WHERE r.fonte IS NULL OR r.fonte<>\"GialloZafferano\"\n",
    "return count(r)\n",
    "\"\"\"\n",
    "if graph.run(cq).evaluate() != 0:\n",
    "    print(\"Le ricette di BBC e quelle di GialloZafferano hanno degli id in comune!\")\n",
    "    raise(MiaStopExecution)\n",
    "\n",
    "# Inserisco le ricette\n",
    "cq=\"\"\"\n",
    "LOAD CSV WITH HEADERS FROM 'file:///gz_recipe.csv' AS value\n",
    "MERGE (r:Recipe {id: value[\"id\"]})\n",
    "SET r.name = value[\"Nome\"],\n",
    "    r.description = value[\"Steps\"],\n",
    "    r.persone_pezzi = value[\"Persone/Pezzi\"],\n",
    "    r.fonte = \"GialloZafferano\"\n",
    "\"\"\"\n",
    "graph.run(cq)\n",
    "\n",
    "cq=\"\"\"MATCH (r:Recipe) WHERE r.fonte IS NULL SET r.fonte=\"BBC GoodFood\" \"\"\"\n",
    "graph.run(cq)\n",
    "\n",
    "# Inserisco gli ingredienti\n",
    "cq=\"\"\"\n",
    "LOAD CSV WITH HEADERS FROM 'file:///gz_recipe.csv' AS value\n",
    "WITH value[\"id\"] AS id, replace(value[\"Ingredienti\"], '\"', \"\") AS ris1\n",
    "WITH id, replace(ris1, \"[[\", \"\") AS ris2\n",
    "WITH id,replace(ris2, \"]]\", \"\") AS ris3\n",
    "WITH id,replace(ris3, \"'\", \"\") AS ris4\n",
    "WITH id,split(ris4, \"], [\") AS ingrs_list\n",
    "MATCH (r:Recipe {id:id})\n",
    "WHERE ingrs_list[0]<>\"[]\"   // Alcune ricette non hanno ingredienti nè descrizione (es. Churros red velvet)\n",
    "FOREACH (ingr_quantita_string IN ingrs_list |\n",
    "    MERGE (i:Ingredient {name: split(ingr_quantita_string, \", \")[0]})\n",
    "    MERGE (r)-[:CONTAINS_INGREDIENT {quantita: split(ingr_quantita_string, \", \")[1]}]->(i)\n",
    ")\n",
    "\"\"\" \n",
    "graph.run(cq)\n",
    "\n",
    "\n",
    "# Creo le categorie \n",
    "cq=\"\"\"\n",
    "LOAD CSV WITH HEADERS FROM 'file:///gz_recipe.csv' AS value\n",
    "MATCH (r:Recipe {id:value[\"id\"]})\n",
    "WHERE value[\"Categoria\"] IS NOT NULL\n",
    "MERGE (c:Collection {name: value[\"Categoria\"]})\n",
    "MERGE (r)-[:COLLECTION]->(c)\n",
    "\"\"\"\n",
    "graph.run(cq)\n",
    "\n"
   ]
  },
  {
   "attachments": {},
   "cell_type": "markdown",
   "metadata": {},
   "source": [
    "### 3. Inserimento degli allergeni\n",
    "Ho aggiunto un campo \"is_allergene\" al nodo Ingredient. Ho scaricato da Kaggle due file:\n",
    "- [allergens.json](data/allergens.json) (https://www.kaggle.com/datasets/elenacivati/allergensjson): contenente un elenco non molto ampio di allergeni in italiano, inglese e altre lingue.\n",
    "- [FoodData.csv](data/FoodData.csv) (https://www.kaggle.com/datasets/boltcutters/food-allergens-and-allergies): contenente un elenco più ampio ma solo in inglese\n",
    "\n",
    "Ho quindi impostato gli ingredienti contenuti nei file con is_allergene=True. Ho invece settato is_allergene=False per i restanti ingredienti. "
   ]
  },
  {
   "cell_type": "code",
   "execution_count": 11,
   "metadata": {},
   "outputs": [
    {
     "data": {
      "text/html": [
       "(No data)"
      ],
      "text/plain": [
       "(No data)"
      ]
     },
     "execution_count": 11,
     "metadata": {},
     "output_type": "execute_result"
    }
   ],
   "source": [
    "# Prendo dal file allergens.json i nomi degli ingredienti in inglese e italiano. \n",
    "# Converto poi in csv, in modo da semplificare la lettura del file successivamente\n",
    "import pandas as pd\n",
    "df_allergens = pd.read_json(DATA_FOLDER + \"allergens.json\").transpose()\n",
    "df_allergens[\"en\"]=df_allergens.index\n",
    "df_allergens[\"en\"]=df_allergens[\"en\"].apply(lambda x: x[3:])\n",
    "df_allergens[\"it\"]=df_allergens[\"name\"].apply(lambda x: x[\"it\"])\n",
    "df_allergens=df_allergens[[\"en\", \"it\"]]\n",
    "df_allergens.to_csv(DATA_FOLDER + \"allergens.csv\", index=False)\n",
    "copy_in_import_dir(\"allergens.csv\")\n",
    "\n",
    "# Setto gli allergeni\n",
    "cq=\"\"\"\n",
    "LOAD CSV WITH HEADERS FROM 'file:///FoodData.csv' AS value\n",
    "LOAD CSV WITH HEADERS FROM 'file:///allergens.csv' AS value2\n",
    "MATCH (i:Ingredient)\n",
    "WHERE \n",
    "    toLower(i.name) CONTAINS toLower(value[\"Food\"])  OR \n",
    "    toLower(i.name) CONTAINS toLower(value2[\"en\"])  OR \n",
    "    toLower(i.name) CONTAINS toLower(value2[\"it\"])  \n",
    "SET i.is_allergene=True;\"\"\"\n",
    "graph.run(cq)\n",
    "\n",
    "# Setto i restanti ingredienti come non allergeni\n",
    "cq=\"\"\"\n",
    "MATCH (i:Ingredient)\n",
    "WHERE i.is_allergene IS NULL\n",
    "SET i.is_allergene=False; \"\"\"\n",
    "graph.run(cq)\n"
   ]
  },
  {
   "attachments": {},
   "cell_type": "markdown",
   "metadata": {},
   "source": [
    "### 4. Nuovo indice\n",
    "Per velocizzare in futuro la ricerca dei nomi delle ricette, ho deciso di inserire un nuovo indice sulla proprietà name di Recipe."
   ]
  },
  {
   "cell_type": "code",
   "execution_count": 12,
   "metadata": {},
   "outputs": [
    {
     "data": {
      "text/html": [
       "(No data)"
      ],
      "text/plain": [
       "(No data)"
      ]
     },
     "execution_count": 12,
     "metadata": {},
     "output_type": "execute_result"
    }
   ],
   "source": [
    "graph.run(\" CREATE INDEX IF NOT EXISTS FOR (n:Recipe) ON (n.name);\")"
   ]
  },
  {
   "attachments": {},
   "cell_type": "markdown",
   "metadata": {},
   "source": [
    "### Schema finale\n",
    "Dopo le modifiche, lo schema finale è il seguente:"
   ]
  },
  {
   "attachments": {},
   "cell_type": "markdown",
   "metadata": {},
   "source": [
    "![schema](img/db_schema_finale.png)"
   ]
  },
  {
   "cell_type": "code",
   "execution_count": 13,
   "metadata": {},
   "outputs": [
    {
     "name": "stdout",
     "output_type": "stream",
     "text": [
      "nodeType                 nodeLabels               propertyName             propertyTypes            mandatory                \n",
      "-----------------------------------------------------------------------------------------------------------------------------\n",
      ":`Author`                ['Author']               name                     ['String']               True                     \n",
      ":`Ingredient`            ['Ingredient']           name                     ['String']               True                     \n",
      ":`Ingredient`            ['Ingredient']           is_allergene             ['Boolean']              True                     \n",
      ":`DietType`              ['DietType']             name                     ['String']               True                     \n",
      ":`Collection`            ['Collection']           name                     ['String']               True                     \n",
      ":`Recipe`                ['Recipe']               id                       ['String']               True                     \n",
      ":`Recipe`                ['Recipe']               cookingTime              ['Long']                 False                    \n",
      ":`Recipe`                ['Recipe']               preparationTime          ['Long']                 False                    \n",
      ":`Recipe`                ['Recipe']               name                     ['String']               True                     \n",
      ":`Recipe`                ['Recipe']               description              ['String']               False                    \n",
      ":`Recipe`                ['Recipe']               skillLevel               ['String']               False                    \n",
      ":`Recipe`                ['Recipe']               persone_pezzi            ['String']               False                    \n",
      ":`Recipe`                ['Recipe']               fonte                    ['String']               True                     \n"
     ]
    }
   ],
   "source": [
    "def print_full_table(query):\n",
    "    g_run = graph.run(query)\n",
    "    # Stampo l'intestazione\n",
    "    intestazione=g_run.keys()\n",
    "    [print(f\"{i:25}\", end=\"\") for i in intestazione]\n",
    "    print()\n",
    "    [print(\"-\", end=\"\") for _ in range(25) for _ in range(len(intestazione))]\n",
    "    print()\n",
    "\n",
    "    # Stampo i dati\n",
    "    data = g_run.data()\n",
    "    for d in data: \n",
    "        for k,v in d.items():\n",
    "            print(f\"{str(v):25}\", end=\"\")\n",
    "        print()\n",
    "\n",
    "print_full_table(\"CALL db.schema.nodeTypeProperties\")"
   ]
  },
  {
   "cell_type": "code",
   "execution_count": 14,
   "metadata": {},
   "outputs": [
    {
     "name": "stdout",
     "output_type": "stream",
     "text": [
      "relType                  propertyName             propertyTypes            mandatory                \n",
      "----------------------------------------------------------------------------------------------------\n",
      ":`WROTE`                 None                     None                     False                    \n",
      ":`CONTAINS_INGREDIENT`   quantita                 ['String']               False                    \n",
      ":`DIET_TYPE`             None                     None                     False                    \n",
      ":`COLLECTION`            None                     None                     False                    \n"
     ]
    }
   ],
   "source": [
    "print_full_table(\"CALL db.schema.relTypeProperties\")"
   ]
  },
  {
   "attachments": {},
   "cell_type": "markdown",
   "metadata": {},
   "source": [
    "## Interrogazioni\n",
    "- Cerca le ricette con due ingredienti scelti\n",
    "- Cerca una ricetta in base al nome \n",
    "- Ricetta più veloce da preparare\n",
    "- Cerca lo chef che ha scritto più ricette\n",
    "- Stampa le ricette senza allergeni\n",
    "- Partendo da una ricetta, mostra i suggerimenti (collection, diet type, autore, skilLevel, fonte)\n",
    "- Rimettere Keyword e \"The Top 5 tags co-occurring with keyword ..., with respective frequency count\"\n",
    "\n"
   ]
  },
  {
   "cell_type": "code",
   "execution_count": 42,
   "metadata": {},
   "outputs": [],
   "source": [
    "def print_recipes(recipe_list, short_print=\"y\"):\n",
    "    print(\"\\nRicette trovate: \")\n",
    "    ricetta_trovata = False\n",
    "    cont = 0\n",
    "    for r in recipe_list:\n",
    "        ricetta_trovata = True\n",
    "        # if short_print=='-':\n",
    "        #     short_print = input(\"Stampare anche i dettagli della/e ricetta/e (y/n)? \") \n",
    "        import pprint\n",
    "        pprint.pprint(r.items())\n",
    "        node_recipe = r[r.keys()[0]]\n",
    "\n",
    "        if short_print == 'y':\n",
    "            node_recipe = r[r.keys()[0]]\n",
    "            if dict(node_recipe).__contains__(\"name\"):\n",
    "                print(\"\\t\", node_recipe[\"name\"])\n",
    "                continue\n",
    "        \n",
    "        print(\"------ Ricetta numero\", node_recipe.get(\"id\", \"\"), \"------\")\n",
    "        if dict(node_recipe).__contains__(\"name\"):\n",
    "            print(\"name:\", node_recipe[\"name\"])\n",
    "        for k,v in node_recipe.items():\n",
    "            if k!=\"name\":\n",
    "                print(k, \"\\b:\", v)\n",
    "\n",
    "        # TODO aggiungere altri campi (ingrediente, autore, collection, diettype)\n",
    "\n",
    "        cont += 1\n",
    "        if cont == 3:\n",
    "            if input(\"Stampare altre 3 ricette (y/n)?\")=='y':\n",
    "                cont = 0\n",
    "            else:\n",
    "                break\n",
    "        \n",
    "    if not ricetta_trovata:\n",
    "        print(\"------Nessuna ricetta!------\")\n",
    "\n",
    "    \n",
    "def print_ingredients(ingr_list):\n",
    "    trovato = False\n",
    "    for r in ingr_list:\n",
    "        trovato = True\n",
    "        node_ingr = r[r.keys()[0]]\n",
    "        print(\"\\t\",node_ingr[\"name\"])\n",
    "        \n",
    "    if not trovato:\n",
    "        print(\"------Nessun ingrediente!------\")\n",
    "\n",
    "\n"
   ]
  },
  {
   "attachments": {},
   "cell_type": "markdown",
   "metadata": {},
   "source": [
    "### Stampa una ricetta con due ingredienti\n",
    "Il seguente codice stampa una ricetta che abbia almeno due ingredienti scelti dall'utente."
   ]
  },
  {
   "cell_type": "code",
   "execution_count": 27,
   "metadata": {},
   "outputs": [
    {
     "name": "stdout",
     "output_type": "stream",
     "text": [
      "************ Stampa una ricetta con due ingredienti ************ \n",
      "Qualche suggerimento per la scelta degli ingredienti. Ecco 5 ingredienti casuali: \n",
      "\t wholegrain basmati rice\n",
      "\t sprinkles and stars\n",
      "\t silver pearl balls\n",
      "\t Sciroppo di latte di mandorla\n",
      "\t Ortiche\n",
      "\n",
      "Ecco 5 ingredienti usati spesso con wholegrain basmati rice\n",
      "\t garlic clove\n",
      "\t onion\n",
      "\t ground cumin\n",
      "\t coriander\n",
      "\t flaked almond\n",
      "\n",
      "Ricette trovate: \n",
      "\t Bone broth\n",
      "\t Turkish pilaf with saffron & goji berries\n"
     ]
    }
   ],
   "source": [
    "# Cerco le ricette con un ingrediente\n",
    "print(\"************ Stampa una ricetta con due ingredienti ************ \")\n",
    "\n",
    "print(\"Qualche suggerimento per la scelta degli ingredienti. Ecco 5 ingredienti casuali: \")\n",
    "cq = \"\"\" \n",
    "MATCH (i:Ingredient)\n",
    "WITH i, rand() as num\n",
    "RETURN i.name AS name, i.is_allergene AS is_allergene\n",
    "ORDER BY num\n",
    "LIMIT 5\n",
    "\"\"\"\n",
    "for i in graph.run(cq):\n",
    "    print(\"\\t\", i[\"name\"])\n",
    "print()\n",
    "\n",
    "# Chiedo il primo ingrediente e stampo gli ingredienti più usati con esso\n",
    "ingrediente1=\"\"\n",
    "while ingrediente1==\"\":\n",
    "    ingrediente1=input(\"Inserisci primo ingrediente: \")\n",
    "# ingrediente1=\"mascarpone\"\n",
    "\n",
    "print(\"Ecco 5 ingredienti usati spesso con \" +ingrediente1)\n",
    "cq = \"\"\" \n",
    "MATCH (i_scelto:Ingredient)<-[:CONTAINS_INGREDIENT]-(:Recipe)-[:CONTAINS_INGREDIENT]->(i_raccomandato:Ingredient)\n",
    "WHERE toLower(i_scelto.name) CONTAINS toLower('\"\"\"+ingrediente1+\"\"\"')\n",
    "WITH i_raccomandato,  COUNT(i_raccomandato) AS num\n",
    "RETURN i_raccomandato, num\n",
    "ORDER BY num DESC\n",
    "LIMIT 5\n",
    "\"\"\"\n",
    "print_ingredients(graph.run(cq))\n",
    "\n",
    "ingrediente2=\"\"\n",
    "while ingrediente2==\"\": \n",
    "    ingrediente2=input(\"Inserisci secondo ingrediente: \")\n",
    "# ingrediente2=\"Zucchero\"\n",
    "\n",
    "cq = \"\"\" \n",
    "MATCH (i1:Ingredient)<-[:CONTAINS_INGREDIENT]-(r:Recipe)-[:CONTAINS_INGREDIENT]->(i2:Ingredient)\n",
    "WHERE \n",
    "    toLower(i1.name) CONTAINS toLower('\"\"\"+ingrediente1+\"\"\"') AND \n",
    "    toLower(i2.name) CONTAINS toLower('\"\"\"+ingrediente2+\"\"\"') \n",
    "RETURN r\n",
    "\"\"\"\n",
    "# for i in graph.run(cq):\n",
    "#     print(i[\"r.name\"])\n",
    "print_recipes(graph.run(cq))"
   ]
  },
  {
   "attachments": {},
   "cell_type": "markdown",
   "metadata": {},
   "source": [
    "### Stampa i dettagli di una ricetta\n",
    "Quando l'utente ha trovato la ricetta desiderata, può decidere di visionarne i dettagli con il seguente script:"
   ]
  },
  {
   "cell_type": "code",
   "execution_count": 160,
   "metadata": {},
   "outputs": [
    {
     "name": "stdout",
     "output_type": "stream",
     "text": [
      "---------------\n",
      "persone_pezzi: 8\n",
      "fonte: GialloZafferano\n",
      "name: Tiramisù\n",
      "description: Per preparare il tiramisù preparate il caffé con la moka per ottenerne 300 g, poi zuccherate a piacere (noi abbiamo messo un cucchiaino) e lasciatelo raffreddare in una ciotolina bassa e ampia. Separate le uova dividendo gli albumi dai tuorli ricordando che per montare bene gli albumi non dovranno presentare alcuna traccia di tuorlo. Montate i tuorli con le fruste elettriche, versando solo metà dose di zucchero Non appena il composto sarà diventato chiaro e spumoso, e con le fruste ancora in funzione, potrete aggiungere il mascarpone, poco alla volta Incorporato tutto il formaggio avrete ottenuto una crema densa e compatta Quando saranno schiumosi versate il restante zucchero un po’ alla volta Dovrete montarli a neve ben ferma così stempererete il composto. Dopodiché procedete ad aggiungere la restante parte di albumi, poco alla volta mescolando molto delicatamente dal basso verso l'alto La crema al mascarpone è ora pronta Distribuitene una generosa cucchiaiata sul fondo di una pirofila di vetro, grande 30x19,5cm e distribuite per bene su tutta la base. Inzuppate per pochi istanti i savoiardi nel caffè freddo prima da un lato e poi dall’altro Man mano distribuite i savoiardi imbevuti nella pirofila, cercando di sistemarli tutti in un verso, così da ottenere un primo strato di biscotti Aggiungete altra crema al mascarpone e livellatela in modo da coprirli completamente E continuate a distribuire i savoiardi imbevuti nel caffè poi realizzate un altro strato di crema Trasferite la crema rimasta in un sac-à-poche con beccuccio liscio di diametro 12 mm e realizzare dei ciuffetti per tutta la dimensione della teglia Spolverizzatela con del cacao amaro in polvere Il vostro tiramisù è pronto per essere gustato!\n",
      "id: 0\n",
      "Categorie: ['Dolci']\n",
      "Ingredienti: ['Mascarpone (Allergene!) 750g', 'Savoiardi (Allergene!) 250g', 'Cacao amaro in polvere (Allergene!) q.b.', 'Caffè (Allergene!) 300g', 'Zucchero (Allergene!) 120g', 'Uova 260g']\n",
      "---------------\n",
      "fonte: BBC GoodFood\n",
      "name: Bone broth\n",
      "preparationTime: 1200\n",
      "description: Packed with nutrients for healthy bones, hair and nails, this soup is made with selenium and zinc-rich chicken bones and antioxidant-rich coriander\n",
      "id: 5354046\n",
      "skillLevel: More effort\n",
      "cookingTime: 2700\n",
      "Categorie: ['Low-calorie soup', 'Soup', 'Immune-friendly', 'Healthy soup']\n",
      "Ingredienti: ['chicken ', 'wholegrain basmati rice ', 'onion ', 'garlic clove ', 'bay leaf (Allergene!) ', 'ground coriander (Allergene!) ', 'red chillies (Allergene!) ', 'ground cumin (Allergene!) ', 'coriander (Allergene!) ', 'lemon ']\n"
     ]
    }
   ],
   "source": [
    "nome_ricetta=\"Bone broth\"\n",
    "while nome_ricetta==\"\": \n",
    "    nome_ricetta=input(\"Inserisci nome della ricetta: \")\n",
    "\n",
    "\n",
    "# cq = \"MATCH (a:Author)-[:WROTE]->(r:Recipe {name: '\"+nome_ricetta+\"\"\"'})  \n",
    "cq = \"\"\"  \n",
    "MATCH (r:Recipe)\n",
    "WHERE r.name='Tiramisù' OR r.name='Bone broth'\n",
    "OPTIONAL MATCH (a:Author)-[:WROTE]->(r)\n",
    "OPTIONAL MATCH (c:Collection)<-[:COLLECTION]-(r)\n",
    "OPTIONAL MATCH (d:DietType)<-[:DIET_TYPE]-(r)\n",
    "OPTIONAL MATCH (i:Ingredient)<-[r_i:CONTAINS_INGREDIENT]-(r)\n",
    "RETURN r AS ricetta, COLLECT(DISTINCT c) AS categorie, COLLECT(DISTINCT i) AS ingredienti, COLLECT(DISTINCT d) AS tipi_dieta, COLLECT(DISTINCT r_i) AS quantita_ingredienti\n",
    "\"\"\"\n",
    "\n",
    "\n",
    "list_recipes = graph.run(cq)\n",
    "# list_recipes.sample_size = len(graph.run(cq).data())\n",
    "\n",
    "# display(list_recipes)#[\"num_results\"])\n",
    "\n",
    "for res in list_recipes:\n",
    "    tmp = dict(res)\n",
    "    ricetta = tmp[\"ricetta\"]\n",
    "    print(\"---------------\")\n",
    "    for k,v in ricetta.items():\n",
    "        print(k, \"\\b:\",v)\n",
    "    \n",
    "    if tmp.__contains__(\"categorie\"):\n",
    "        categorie = tmp[\"categorie\"]\n",
    "        print(\"Categorie:\", [v for c in categorie for _,v in c.items()])\n",
    "    \n",
    "\n",
    "    if tmp.__contains__(\"ingredienti\"):\n",
    "    \n",
    "        ingredienti =  [c[\"name\"] + (\"\" if c[\"is_allergene\"] else \" (Allergene!)\") for c in tmp[\"ingredienti\"]]\n",
    "    \n",
    "    # print(\"Ingredienti:\", [c[\"name\"] + (\"\" if c[\"is_allergene\"] else \" (Allergene!)\") for c in ingredienti])\n",
    "    if tmp.__contains__(\"quantita_ingredienti\"):\n",
    "    \n",
    "        quantita_ingredienti = [dict(q_i).get(\"quantita\", \"\") for q_i in tmp[\"quantita_ingredienti\"]]\n",
    "        # print(len(ingredienti), len(quantita_ingredienti))\n",
    "\n",
    "        res_ingr = []\n",
    "        for i in range(len(ingredienti)):\n",
    "            res_ingr.append( ingredienti[i] + \" \" + quantita_ingredienti[i])\n",
    "    else:\n",
    "        res_ingr = ingredienti\n",
    "    print(\"Ingredienti:\", res_ingr)\n",
    "\n",
    "\n",
    "    # import pprint\n",
    "    # pprint.pprint(tmp)\n",
    "    # print()\n",
    "\n",
    "# if list_recipes.data() == []:\n",
    "#     print(\"--- Nessuna ricetta trovata --- \")\n",
    "# else:\n",
    "# for r in list_recipes:\n",
    "# # if short_print=='-':\n",
    "# #     short_print = input(\"Stampare anche i dettagli della/e ricetta/e (y/n)? \") \n",
    "#     import pprint\n",
    "#     pprint.pprint(r.items())\n",
    "#     # node_recipe = r[r.keys()[0]]"
   ]
  },
  {
   "attachments": {},
   "cell_type": "markdown",
   "metadata": {},
   "source": [
    "## Inserimenti\n"
   ]
  },
  {
   "attachments": {},
   "cell_type": "markdown",
   "metadata": {},
   "source": [
    "## Modifiche"
   ]
  },
  {
   "attachments": {},
   "cell_type": "markdown",
   "metadata": {},
   "source": [
    "## Cancellazioni\n"
   ]
  }
 ],
 "metadata": {
  "kernelspec": {
   "display_name": "Python 3",
   "language": "python",
   "name": "python3"
  },
  "language_info": {
   "codemirror_mode": {
    "name": "ipython",
    "version": 3
   },
   "file_extension": ".py",
   "mimetype": "text/x-python",
   "name": "python",
   "nbconvert_exporter": "python",
   "pygments_lexer": "ipython3",
   "version": "3.11.0"
  },
  "orig_nbformat": 4,
  "vscode": {
   "interpreter": {
    "hash": "a29d3b88d3d770f4c6b76b3f467a825cd9493448f3062cde152f1e267121f11d"
   }
  }
 },
 "nbformat": 4,
 "nbformat_minor": 2
}

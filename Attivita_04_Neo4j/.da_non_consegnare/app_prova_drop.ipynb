{
 "cells": [
  {
   "attachments": {},
   "cell_type": "markdown",
   "metadata": {},
   "source": [
    "<center>Progetto realizzato da Elena Curti (matr. 185431)\n",
    "\n",
    "# Ricette\n",
    "</center>\n",
    "\n",
    "## Introduzione\n"
   ]
  },
  {
   "attachments": {},
   "cell_type": "markdown",
   "metadata": {},
   "source": [
    "## Requisiti\n",
    "Questo progetto è stato realizzato con Python 3.11 e Neo4j. E' necessaria l'installazione dei seguenti pacchetti:"
   ]
  },
  {
   "cell_type": "code",
   "execution_count": 1,
   "metadata": {},
   "outputs": [],
   "source": [
    "# %pip install py2neo neo4j-driver pandas"
   ]
  },
  {
   "attachments": {},
   "cell_type": "markdown",
   "metadata": {},
   "source": [
    "## Operazioni iniziali\n",
    "Per il corretto funzionamento del progetto proposto, è necessario:\n",
    "- Creare un nuovo progetto Neo4j \n",
    "- Creare all'interno del progetto un DMBS (scegliendo come nome \"neo4j\", come password \"pass\" e come versione 5.2.0)\n",
    "- Aggiungere il plugin APOC.\n",
    "- Premere su Start.\n",
    "<!-- \n",
    "Da Neo4j creare un nuovo progetto. Scegliere una tra le seguenti alternative:\n",
    "- Dal progetto appena creato, aggiungere al progetto il file [neo4j.dump](data/neo4j.dump). Creare poi un nuovo DBMS dal file dump (scegliendo come nome \"neo4j\", come password \"pass\" e come versione 5.2.0). Aggiungere il plugin APOC. Premere su Start.\n",
    "- Dal progetto appena creato, aggiungere un DBMS locale (scegliendo come nome, password e versione i valori indicati al punto sopra). Aggiungere il plugin APOC. Premere su Start e poi su Open. Eseguire tutti i comandi riportati nel file [import_commands.txt](data/import_commands.txt).\n",
    "<br>-->\n",
    "Eseguire poi le celle di codice, nell'ordine proposto "
   ]
  },
  {
   "attachments": {},
   "cell_type": "markdown",
   "metadata": {},
   "source": [
    "## Connessione e autenticazione\n",
    "Per effettuare la connessione al database, eseguire il seguente script:"
   ]
  },
  {
   "cell_type": "code",
   "execution_count": 2,
   "metadata": {},
   "outputs": [
    {
     "name": "stdout",
     "output_type": "stream",
     "text": [
      "Connessione al database eseguita correttamente!\n"
     ]
    }
   ],
   "source": [
    "from py2neo import Graph\n",
    "graph = Graph(\"bolt://localhost:7687\",  auth=(\"neo4j\", \"pass\"))\n",
    "\n",
    "print(\"Connessione al database eseguita correttamente!\")"
   ]
  },
  {
   "attachments": {},
   "cell_type": "markdown",
   "metadata": {},
   "source": [
    "# Schema e dati originali\n",
    "Lo use case originale è stato trovato sul sito [Recipes Neo4j](https://neo4j.com/graphgists/dd3dedcf-c377-4575-84f4-4d0d30b2a4c5/). Ha la seguente struttura iniziale:\n",
    "```\n",
    "    call db.schema.visualization()\n",
    "```"
   ]
  },
  {
   "attachments": {},
   "cell_type": "markdown",
   "metadata": {},
   "source": [
    "![schema](img/db_schema2.png)"
   ]
  },
  {
   "attachments": {},
   "cell_type": "markdown",
   "metadata": {},
   "source": [
    "I nodi Ingredient, Author, Collection, DietType, Keyword hanno un solo campo \"name\" che ne rappresenta il nome. <br>\n",
    "Il nodo Recipe ha le seguenti proprietà:\n",
    "<ul>\n",
    "    <li>id: campo che identifica univocamente la ricetta </li>\n",
    "    <li>cookingTime: tempo di cottura </li>\n",
    "    <li>description: descrizione della ricetta </li>\n",
    "    <li>name: nome della ricetta </li>\n",
    "    <li>preparationTime: tempo di preparazione </li>\n",
    "    <li>skillLevel: difficoltà </li>\n",
    "</ul>\n",
    "Gli archi non hanno proprietà. <br><br>\n",
    "\n",
    "Per importare i dati e aggiungere gli indici ho usato il seguente script. <br>\n",
    "Lo usecase originale ha previsto i seguenti indici per migliorare la performance delle cypher query:\n",
    "    <ul>\n",
    "        <li><i>id</i> su Recipe</li>\n",
    "        <li><i>name</i> su Ingredient</li>\n",
    "        <li><i>name</i> su Keyword</li>\n",
    "        <li><i>name</i> su DietType</li>\n",
    "        <li><i>name</i> su Author</li>\n",
    "        <li><i>name</i> su Collection</li>\n",
    "    </ul>\n",
    "Il comando ```CREATE INDEX IF NOT EXISTS FOR (n:Recipe) ON (n.id)``` è equivalente a ```CREATE INDEX IF NOT EXISTS ON :Recipe(id)```. Il primo, però, è compatibile con la versione 5.2.0 di Neo4j."
   ]
  },
  {
   "cell_type": "code",
   "execution_count": 2,
   "metadata": {},
   "outputs": [
    {
     "name": "stdout",
     "output_type": "stream",
     "text": [
      "Inserimento dei dati in corso... \n",
      "Tutti i dati sono stati importati correttamente!\n"
     ]
    }
   ],
   "source": [
    "print(\"Inserimento dei dati in corso... \")\n",
    "\n",
    "# Ricette\n",
    "graph.run(\"\"\" \n",
    "CALL apoc.load.json('https://raw.githubusercontent.com/neo4j-examples/graphgists/master/browser-guides/data/stream_clean.json') YIELD value\n",
    "WITH value.page.article.id AS id,\n",
    "       value.page.title AS title,\n",
    "       value.page.article.description AS description,\n",
    "       value.page.recipe.cooking_time AS cookingTime,\n",
    "       value.page.recipe.prep_time AS preparationTime,\n",
    "       value.page.recipe.skill_level AS skillLevel\n",
    "MERGE (r:Recipe {id: id})\n",
    "SET r.cookingTime = cookingTime,\n",
    "    r.preparationTime = preparationTime,\n",
    "    r.name = title,\n",
    "    r.description = description,\n",
    "    r.skillLevel = skillLevel;\n",
    "\"\"\")\n",
    "graph.run(\"\"\" CREATE INDEX IF NOT EXISTS FOR (n:Recipe) ON (n.id);        // CREATE INDEX IF NOT EXISTS ON :Recipe(id)  \"\"\")\n",
    "\n",
    "# Autori\n",
    "graph.run(\"\"\"\n",
    "//import authors and connect to recipes\n",
    "CALL apoc.load.json('https://raw.githubusercontent.com/neo4j-examples/graphgists/master/browser-guides/data/stream_clean.json') YIELD value\n",
    "WITH value.page.article.id AS id,\n",
    "       value.page.article.author AS author\n",
    "MERGE (a:Author {name: author})\n",
    "WITH a,id\n",
    "MATCH (r:Recipe {id:id})\n",
    "MERGE (a)-[:WROTE]->(r);\n",
    "\"\"\")\n",
    "graph.run(\"\"\"CREATE INDEX IF NOT EXISTS FOR (n:Author) ON (n.name);\"\"\" )\n",
    "\n",
    "# Ingredienti\n",
    "graph.run(\"\"\"//import ingredients and connect to recipes\n",
    "CALL apoc.load.json('https://raw.githubusercontent.com/neo4j-examples/graphgists/master/browser-guides/data/stream_clean.json') YIELD value\n",
    "WITH value.page.article.id AS id,\n",
    "       value.page.recipe.ingredients AS ingredients\n",
    "MATCH (r:Recipe {id:id})\n",
    "FOREACH (ingredient IN ingredients |\n",
    "  MERGE (i:Ingredient {name: ingredient})\n",
    "  MERGE (r)-[:CONTAINS_INGREDIENT]->(i)\n",
    ");\"\"\" )\n",
    "graph.run(\"\"\"CREATE INDEX IF NOT EXISTS FOR (n:Ingredient) ON (n.name);\"\"\" )\n",
    "\n",
    "# DietType\n",
    "graph.run(\"\"\"//import dietTypes and connect to recipes\n",
    "CALL apoc.load.json('https://raw.githubusercontent.com/neo4j-examples/graphgists/master/browser-guides/data/stream_clean.json') YIELD value\n",
    "WITH value.page.article.id AS id,\n",
    "       value.page.recipe.diet_types AS dietTypes\n",
    "MATCH (r:Recipe {id:id})\n",
    "FOREACH (dietType IN dietTypes |\n",
    "  MERGE (d:DietType {name: dietType})\n",
    "  MERGE (r)-[:DIET_TYPE]->(d)\n",
    ");\"\"\" )\n",
    "graph.run(\"\"\"CREATE INDEX IF NOT EXISTS FOR (n:DietType) ON (n.name);\"\"\" )\n",
    "\n",
    "# Collections\n",
    "graph.run(\"\"\"//import collections and connect to recipes\n",
    "CALL apoc.load.json('https://raw.githubusercontent.com/neo4j-examples/graphgists/master/browser-guides/data/stream_clean.json') YIELD value\n",
    "WITH value.page.article.id AS id,\n",
    "       value.page.recipe.collections AS collections\n",
    "MATCH (r:Recipe {id:id})\n",
    "FOREACH (collection IN collections |\n",
    "  MERGE (c:Collection {name: collection})\n",
    "  MERGE (r)-[:COLLECTION]->(c)\n",
    ");\"\"\" )\n",
    "graph.run(\"\"\"CREATE INDEX IF NOT EXISTS FOR (n:Collection) ON (n.name);\"\"\" )\n",
    "\n",
    "# Keyword\n",
    "cq = \"\"\"//import keywords and connect to recipes\n",
    "CALL apoc.load.json('https://raw.githubusercontent.com/neo4j-examples/graphgists/master/browser-guides/data/stream_clean.json') YIELD value\n",
    "WITH value.page.article.id AS id,\n",
    "       value.page.recipe.keywords AS keywords\n",
    "MATCH (r:Recipe {id:id})\n",
    "FOREACH (keyword IN keywords |\n",
    "  MERGE (k:Keyword {name: keyword})\n",
    "  MERGE (r)-[:KEYWORD]->(k)\n",
    ");\"\"\"\n",
    "# graph.run(cq)\n",
    "cq = \"\"\"CREATE INDEX IF NOT EXISTS FOR (n:Keyword) ON (n.name);\"\"\" \n",
    "# graph.run(cq)\n",
    "\n",
    "\n",
    "print(\"Tutti i dati sono stati importati correttamente!\")"
   ]
  },
  {
   "attachments": {},
   "cell_type": "markdown",
   "metadata": {},
   "source": [
    "## Modifiche effettuate\n",
    "Per arricchire il progetto ho deciso di aggiungere dei dati presi da Kaggle e di eseguire alcune modifiche allo schema originale. \n",
    "<br>\n",
    "<mark>TODOaggiunti altri campi dal file originale  <br>\n",
    "\n"
   ]
  },
  {
   "cell_type": "code",
   "execution_count": 3,
   "metadata": {},
   "outputs": [
    {
     "name": "stdout",
     "output_type": "stream",
     "text": [
      "Cartella import del DMBS: D:\\Elena\\_Elena\\Shared\\Universita\\Magistrale\\Big_data\\Anno_22_23\\TO_DEL_QUANDO_ESAME_DATO\\Neo4J\\relate-data\\dbmss\\dbms-b3e0a01c-d1be-4257-8d27-97054bc0e187\\import\n"
     ]
    }
   ],
   "source": [
    "# Definisco un'eccezione usata nel seguito\n",
    "class MiaStopExecution(Exception):\n",
    "    \"\"\"Il raise di questa classe provoca l'interruzione dell'esecizione della cella, senza interrompere il kernel\"\"\"\n",
    "    def _render_traceback_(self):\n",
    "        pass\n",
    "\n",
    "# Prima di effettuare le modifiche, copio i file necessari nella cartella \"import\" del DBMS, mediante il seguente script:\n",
    "import os \n",
    "import shutil\n",
    "DATA_FOLDER =\"data\"+os.path.sep\n",
    "\n",
    "cq =\"\"\"CALL dbms.listConfig() YIELD name, value\n",
    "    WHERE name=\"server.directories.import\"\n",
    "    RETURN value\"\"\"\n",
    "DIRECTORY_IMPORT = graph.run(cq).evaluate()\n",
    "print(\"Cartella import del DMBS: \" + DIRECTORY_IMPORT)\n",
    "\n",
    "def copy_in_import_dir(file_name):\n",
    "    source = DATA_FOLDER + file_name\n",
    "    destination = DIRECTORY_IMPORT + os.path.sep + file_name\n",
    "    shutil.copy(source, destination)\n",
    "\n",
    "copy_in_import_dir(\"FoodData.csv\") \n",
    "copy_in_import_dir(\"gz_recipe.csv\") \n"
   ]
  },
  {
   "attachments": {},
   "cell_type": "markdown",
   "metadata": {},
   "source": [
    "### 1. Rimozione di Keyword\n",
    "Ho deciso di rimuovere il nodo Keyword. Ho quindi evitato di eseguire le ultime due cypher query nello script precedente. Alternativamente, avrei potuto anche usare il seguente comando: "
   ]
  },
  {
   "cell_type": "code",
   "execution_count": 4,
   "metadata": {},
   "outputs": [
    {
     "data": {
      "text/html": [
       "(No data)"
      ],
      "text/plain": [
       "(No data)"
      ]
     },
     "execution_count": 4,
     "metadata": {},
     "output_type": "execute_result"
    }
   ],
   "source": [
    "graph.run(\"MATCH (n:Keyword) DETACH DELETE n\")"
   ]
  },
  {
   "attachments": {},
   "cell_type": "markdown",
   "metadata": {},
   "source": [
    "### 2. Aggiunta di altre ricette\n",
    "Per arricchire il dataset, ho deciso di inserire altre ricette al database. Ho quindi scaricato il file [gz_recipe.csv](data/gz_recipe.csv) da https://www.kaggle.com/datasets/edoardoscarpaci/italian-food-recipes, contenente delle ricette estratte dal sito [GialloZafferano](https://www.giallozafferano.it/). <br>\n",
    "Il file scaricato contiene i seguenti campi:\n",
    "- id: id che identifica univocamente la ricetta (intero da 0 a 5938).\n",
    "- Nome: nome del piatto\n",
    "- Categoria: categoria della ricetta (Primi, Secondi, ...)\n",
    "- Link: link della ricetta\n",
    "- Persone/Pezzi: numero di persone o pezzi della ricetta\n",
    "- Ingredienti: lista di ingredienti e relative quantità. Ad esempio: [['Mascarpone', '750g'], ['Uova', '260g']]\n",
    "- Steps: contenuto della ricetta\n",
    "\n",
    "Per i inserire questi dati ho deciso di:\n",
    "- Aggiungere un nodo Fonte con una sola property name (univoco) per indicare la fonte della ricetta (\"GialloZafferano\" o \"BBC GoodFood\"). \n",
    "- Unire Fonte a Recipe \n",
    "- Aggiungere a Recipe le proprietà \n",
    "    - \"persone_pezzi\" per indicare il numero di persone o pezzi\n",
    "    - \"link\" contenente il link <mark> TODO </mark>\n",
    "- Aggiungere a CONTAINS_INGREDIENTS una proprietà \"quantita\", contenente la quantità di un ingrediente in una ricetta\n",
    "\n",
    "Come precedentemente spiegato, il campo id di Recipe è univoco nelle ricette già inserite. Aggiungendo i dati da un altra sorgente, si potrebbero avere dei record con lo stesso id. Prima di inserire le nuove ricette, quindi, controllo che gli id delle nuove ricette siano tutti diversi da quelli delle ricette già inserite. In questo caso, per fortuna, non ci sono conflitti sugli id e si può procedere con gli inserimenti. "
   ]
  },
  {
   "cell_type": "code",
   "execution_count": 5,
   "metadata": {},
   "outputs": [
    {
     "data": {
      "text/html": [
       "(No data)"
      ],
      "text/plain": [
       "(No data)"
      ]
     },
     "execution_count": 5,
     "metadata": {},
     "output_type": "execute_result"
    }
   ],
   "source": [
    "# Aggiungo le ricette di GialloZafferano. \n",
    "\n",
    "# Controllo che non ci siano già ricette con gli stessi id\n",
    "cq=\"\"\"\n",
    "LOAD CSV WITH HEADERS FROM 'file:///gz_recipe.csv' AS value\n",
    "MATCH (r:Recipe {id:value[\"id\"]})\n",
    "WHERE NOT EXISTS ( (r)-[:FONTE]-(:Fonte {name:\"GialloZafferano\"}) )\n",
    "return count(r)\n",
    "\"\"\"\n",
    "if graph.run(cq).evaluate() != 0:\n",
    "    print(\"Le ricette di BBC e quelle di GialloZafferano hanno degli id in comune!\")\n",
    "    raise(MiaStopExecution)\n",
    "\n",
    "# Creo il nodo Fonte con: name univoco, indice su name. Creo poi le due fonti\n",
    "cq = [\"CREATE CONSTRAINT nome_fonte_univoco IF NOT EXISTS FOR (f:Fonte) REQUIRE f.name IS UNIQUE\"]\n",
    "cq += [\"MERGE (n:Fonte {name:'GialloZafferano'})\"]\n",
    "cq += [\"MERGE (n:Fonte {name:'BBC GoodFood'})\"]\n",
    "[graph.run(i) for i in cq]\n",
    "\n",
    "\n",
    "# Inserisco le ricette\n",
    "cq=\"\"\"\n",
    "LOAD CSV WITH HEADERS FROM 'file:///gz_recipe.csv' AS value\n",
    "MATCH (f:Fonte {name:\"GialloZafferano\"})\n",
    "MERGE (r:Recipe {id: value[\"id\"]})<-[:FONTE]-(f)\n",
    "SET r.name = value[\"Nome\"],\n",
    "    r.description = value[\"Steps\"],\n",
    "    r.persone_pezzi = value[\"Persone/Pezzi\"]\n",
    "\"\"\"\n",
    "graph.run(cq)\n",
    "\n",
    "cq=\"\"\"\n",
    "MATCH (gz:Fonte {name:\"GialloZafferano\"}),(bbc:Fonte {name:\"BBC GoodFood\"}), (r:Recipe) \n",
    "WHERE NOT EXISTS ( (r)<-[:FONTE]-(gz) ) \n",
    "MERGE (r)<-[:FONTE]-(bbc)\n",
    "\"\"\"\n",
    "graph.run(cq)\n",
    "\n",
    "# Inserisco gli ingredienti\n",
    "cq=\"\"\"\n",
    "LOAD CSV WITH HEADERS FROM 'file:///gz_recipe.csv' AS value\n",
    "WITH value[\"id\"] AS id, replace(value[\"Ingredienti\"], '\"', \"\") AS ris1\n",
    "WITH id, replace(ris1, \"[[\", \"\") AS ris2\n",
    "WITH id,replace(ris2, \"]]\", \"\") AS ris3\n",
    "WITH id,replace(ris3, \"'\", \"\") AS ris4\n",
    "WITH id,split(ris4, \"], [\") AS ingrs_list\n",
    "MATCH (r:Recipe {id:id})\n",
    "WHERE ingrs_list[0]<>\"[]\"   // Alcune ricette non hanno ingredienti nè descrizione (es. Churros red velvet)\n",
    "FOREACH (ingr_quantita_string IN ingrs_list |\n",
    "    MERGE (i:Ingredient {name: split(ingr_quantita_string, \", \")[0]})\n",
    "    MERGE (r)-[:CONTAINS_INGREDIENT {quantita: split(ingr_quantita_string, \", \")[1]}]->(i)\n",
    ")\n",
    "\"\"\" \n",
    "graph.run(cq)\n",
    "\n",
    "\n",
    "# Creo le categorie \n",
    "cq=\"\"\"\n",
    "LOAD CSV WITH HEADERS FROM 'file:///gz_recipe.csv' AS value\n",
    "MATCH (r:Recipe {id:value[\"id\"]})\n",
    "WHERE value[\"Categoria\"] IS NOT NULL\n",
    "MERGE (c:Collection {name: value[\"Categoria\"]})\n",
    "MERGE (r)-[:COLLECTION]->(c)\n",
    "\"\"\"\n",
    "graph.run(cq)\n",
    "\n"
   ]
  },
  {
   "attachments": {},
   "cell_type": "markdown",
   "metadata": {},
   "source": [
    "### 3. Inserimento degli allergeni\n",
    "Ho aggiunto un campo \"is_allergene\" al nodo Ingredient. Ho scaricato da Kaggle due file:\n",
    "- [allergens.json](data/allergens.json) (https://www.kaggle.com/datasets/elenacivati/allergensjson): contenente un elenco non molto ampio di allergeni in italiano, inglese e altre lingue.\n",
    "- [FoodData.csv](data/FoodData.csv) (https://www.kaggle.com/datasets/boltcutters/food-allergens-and-allergies): contenente un elenco più ampio ma solo in inglese\n",
    "\n",
    "Ho quindi impostato gli ingredienti contenuti nei file con is_allergene=True. Ho invece settato is_allergene=False per i restanti ingredienti. "
   ]
  },
  {
   "cell_type": "code",
   "execution_count": 101,
   "metadata": {},
   "outputs": [
    {
     "data": {
      "text/html": [
       "(No data)"
      ],
      "text/plain": [
       "(No data)"
      ]
     },
     "execution_count": 101,
     "metadata": {},
     "output_type": "execute_result"
    }
   ],
   "source": [
    "# Prendo dal file allergens.json i nomi degli ingredienti in inglese e italiano. \n",
    "# Converto poi in csv, in modo da semplificare la lettura del file successivamente\n",
    "import pandas as pd\n",
    "df_allergens = pd.read_json(DATA_FOLDER + \"allergens.json\").transpose()\n",
    "df_allergens[\"en\"]=df_allergens.index\n",
    "df_allergens[\"en\"]=df_allergens[\"en\"].apply(lambda x: x[3:])\n",
    "df_allergens[\"it\"]=df_allergens[\"name\"].apply(lambda x: x[\"it\"])\n",
    "df_allergens=df_allergens[[\"en\", \"it\"]]\n",
    "df_allergens.to_csv(DATA_FOLDER + \"allergens.csv\", index=False)\n",
    "copy_in_import_dir(\"allergens.csv\")\n",
    "\n",
    "# Setto gli allergeni\n",
    "cq=\"\"\"\n",
    "LOAD CSV WITH HEADERS FROM 'file:///FoodData.csv' AS value\n",
    "LOAD CSV WITH HEADERS FROM 'file:///allergens.csv' AS value2\n",
    "MATCH (i:Ingredient)\n",
    "WHERE \n",
    "    toLower(i.name) CONTAINS toLower(value[\"Food\"])  OR \n",
    "    toLower(i.name) CONTAINS toLower(value2[\"en\"])  OR \n",
    "    toLower(i.name) CONTAINS toLower(value2[\"it\"])  \n",
    "SET i.is_allergene=True;\"\"\"\n",
    "graph.run(cq)\n",
    "\n",
    "# Setto i restanti ingredienti come non allergeni\n",
    "cq=\"\"\"\n",
    "MATCH (i:Ingredient)\n",
    "WHERE i.is_allergene IS NULL\n",
    "SET i.is_allergene=False; \"\"\"\n",
    "graph.run(cq)\n"
   ]
  },
  {
   "attachments": {},
   "cell_type": "markdown",
   "metadata": {},
   "source": [
    "### 4. Nuovo indice\n",
    "Per velocizzare in futuro la ricerca delle ricette in base al nome, ho deciso di inserire un nuovo indice sulla proprietà name di Recipe."
   ]
  },
  {
   "cell_type": "code",
   "execution_count": 8,
   "metadata": {},
   "outputs": [
    {
     "data": {
      "text/html": [
       "(No data)"
      ],
      "text/plain": [
       "(No data)"
      ]
     },
     "execution_count": 8,
     "metadata": {},
     "output_type": "execute_result"
    }
   ],
   "source": [
    "graph.run(\" CREATE INDEX IF NOT EXISTS FOR (n:Recipe) ON (n.name);\")"
   ]
  },
  {
   "attachments": {},
   "cell_type": "markdown",
   "metadata": {},
   "source": [
    "### Schema finale\n",
    "Dopo le modifiche, lo schema finale è il seguente:"
   ]
  },
  {
   "attachments": {},
   "cell_type": "markdown",
   "metadata": {},
   "source": [
    "![schema](img/db_schema_finale.png)"
   ]
  },
  {
   "cell_type": "code",
   "execution_count": 89,
   "metadata": {},
   "outputs": [
    {
     "data": {
      "text/html": [
       "<table><tr><th>nodeType</th><th>nodeLabels</th><th>propertyName</th><th>propertyTypes</th><th>mandatory</th></tr><tr><td style=\"text-align:left\">:`Author`</td><td style=\"text-align:left\">[&#039;Author&#039;]</td><td style=\"text-align:left\">name</td><td style=\"text-align:left\">[&#039;String&#039;]</td><td style=\"text-align:left\">true</td></tr><tr><td style=\"text-align:left\">:`Ingredient`</td><td style=\"text-align:left\">[&#039;Ingredient&#039;]</td><td style=\"text-align:left\">name</td><td style=\"text-align:left\">[&#039;String&#039;]</td><td style=\"text-align:left\">true</td></tr><tr><td style=\"text-align:left\">:`Ingredient`</td><td style=\"text-align:left\">[&#039;Ingredient&#039;]</td><td style=\"text-align:left\">is_allergene</td><td style=\"text-align:left\">[&#039;Boolean&#039;]</td><td style=\"text-align:left\">true</td></tr><tr><td style=\"text-align:left\">:`DietType`</td><td style=\"text-align:left\">[&#039;DietType&#039;]</td><td style=\"text-align:left\">name</td><td style=\"text-align:left\">[&#039;String&#039;]</td><td style=\"text-align:left\">true</td></tr><tr><td style=\"text-align:left\">:`Collection`</td><td style=\"text-align:left\">[&#039;Collection&#039;]</td><td style=\"text-align:left\">name</td><td style=\"text-align:left\">[&#039;String&#039;]</td><td style=\"text-align:left\">true</td></tr><tr><td style=\"text-align:left\">:`Recipe`</td><td style=\"text-align:left\">[&#039;Recipe&#039;]</td><td style=\"text-align:left\">id</td><td style=\"text-align:left\">[&#039;String&#039;]</td><td style=\"text-align:left\">true</td></tr><tr><td style=\"text-align:left\">:`Recipe`</td><td style=\"text-align:left\">[&#039;Recipe&#039;]</td><td style=\"text-align:left\">cookingTime</td><td style=\"text-align:left\">[&#039;Long&#039;]</td><td style=\"text-align:left\">false</td></tr><tr><td style=\"text-align:left\">:`Recipe`</td><td style=\"text-align:left\">[&#039;Recipe&#039;]</td><td style=\"text-align:left\">preparationTime</td><td style=\"text-align:left\">[&#039;Long&#039;]</td><td style=\"text-align:left\">false</td></tr><tr><td style=\"text-align:left\">:`Recipe`</td><td style=\"text-align:left\">[&#039;Recipe&#039;]</td><td style=\"text-align:left\">name</td><td style=\"text-align:left\">[&#039;String&#039;]</td><td style=\"text-align:left\">true</td></tr><tr><td style=\"text-align:left\">:`Recipe`</td><td style=\"text-align:left\">[&#039;Recipe&#039;]</td><td style=\"text-align:left\">description</td><td style=\"text-align:left\">[&#039;String&#039;]</td><td style=\"text-align:left\">false</td></tr><tr><td style=\"text-align:left\">:`Recipe`</td><td style=\"text-align:left\">[&#039;Recipe&#039;]</td><td style=\"text-align:left\">skillLevel</td><td style=\"text-align:left\">[&#039;String&#039;]</td><td style=\"text-align:left\">false</td></tr><tr><td style=\"text-align:left\">:`Recipe`</td><td style=\"text-align:left\">[&#039;Recipe&#039;]</td><td style=\"text-align:left\">persone_pezzi</td><td style=\"text-align:left\">[&#039;String&#039;]</td><td style=\"text-align:left\">false</td></tr><tr><td style=\"text-align:left\">:`Recipe`</td><td style=\"text-align:left\">[&#039;Recipe&#039;]</td><td style=\"text-align:left\">fonte</td><td style=\"text-align:left\">[&#039;String&#039;]</td><td style=\"text-align:left\">true</td></tr></table>"
      ],
      "text/plain": [
       " nodeType      | nodeLabels     | propertyName    | propertyTypes | mandatory \n",
       "---------------|----------------|-----------------|---------------|-----------\n",
       " :`Author`     | ['Author']     | name            | ['String']    | true      \n",
       " :`Ingredient` | ['Ingredient'] | name            | ['String']    | true      \n",
       " :`Ingredient` | ['Ingredient'] | is_allergene    | ['Boolean']   | true      \n",
       " :`DietType`   | ['DietType']   | name            | ['String']    | true      \n",
       " :`Collection` | ['Collection'] | name            | ['String']    | true      \n",
       " :`Recipe`     | ['Recipe']     | id              | ['String']    | true      \n",
       " :`Recipe`     | ['Recipe']     | cookingTime     | ['Long']      | false     \n",
       " :`Recipe`     | ['Recipe']     | preparationTime | ['Long']      | false     \n",
       " :`Recipe`     | ['Recipe']     | name            | ['String']    | true      \n",
       " :`Recipe`     | ['Recipe']     | description     | ['String']    | false     \n",
       " :`Recipe`     | ['Recipe']     | skillLevel      | ['String']    | false     \n",
       " :`Recipe`     | ['Recipe']     | persone_pezzi   | ['String']    | false     \n",
       " :`Recipe`     | ['Recipe']     | fonte           | ['String']    | true      "
      ]
     },
     "execution_count": 89,
     "metadata": {},
     "output_type": "execute_result"
    }
   ],
   "source": [
    "def print_first_n(cq, n=1000):\n",
    "    ris = graph.run(cq)\n",
    "    ris.sample_size = n\n",
    "    return ris\n",
    "\n",
    "print_first_n(\"CALL db.schema.nodeTypeProperties\")"
   ]
  },
  {
   "cell_type": "code",
   "execution_count": 10,
   "metadata": {},
   "outputs": [
    {
     "data": {
      "text/html": [
       "<table><tr><th>relType</th><th>propertyName</th><th>propertyTypes</th><th>mandatory</th></tr><tr><td style=\"text-align:left\">:`WROTE`</td><td style=\"text-align:left\">null</td><td style=\"text-align:left\">null</td><td style=\"text-align:left\">false</td></tr><tr><td style=\"text-align:left\">:`CONTAINS_INGREDIENT`</td><td style=\"text-align:left\">quantita</td><td style=\"text-align:left\">[&#039;String&#039;]</td><td style=\"text-align:left\">false</td></tr><tr><td style=\"text-align:left\">:`DIET_TYPE`</td><td style=\"text-align:left\">null</td><td style=\"text-align:left\">null</td><td style=\"text-align:left\">false</td></tr><tr><td style=\"text-align:left\">:`COLLECTION`</td><td style=\"text-align:left\">null</td><td style=\"text-align:left\">null</td><td style=\"text-align:left\">false</td></tr></table>"
      ],
      "text/plain": [
       " relType                | propertyName | propertyTypes | mandatory \n",
       "------------------------|--------------|---------------|-----------\n",
       " :`WROTE`               | null         | null          | false     \n",
       " :`CONTAINS_INGREDIENT` | quantita     | ['String']    | false     \n",
       " :`DIET_TYPE`           | null         | null          | false     \n",
       " :`COLLECTION`          | null         | null          | false     "
      ]
     },
     "execution_count": 10,
     "metadata": {},
     "output_type": "execute_result"
    }
   ],
   "source": [
    "print_first_n(\"CALL db.schema.relTypeProperties\")"
   ]
  },
  {
   "attachments": {},
   "cell_type": "markdown",
   "metadata": {},
   "source": [
    "## Interrogazioni\n",
    "[ok] - Cerca le ricette con due ingredienti scelti\n",
    "[ok] - Cerca una ricetta in base al nome \n",
    "[ok] - Ricetta più veloce da preparare\n",
    "[ok] - Cerca lo chef che ha scritto più ricette\n",
    "[ok] - Stampa le ricette senza allergeni\n",
    "[ok] - Partendo da una ricetta, mostra i suggerimenti (collection, diet type, autore, skilLevel, fonte)\n",
    "- Rimettere Keyword e \"The Top 5 tags co-occurring with keyword ..., with respective frequency count\"\n",
    "\n"
   ]
  },
  {
   "attachments": {},
   "cell_type": "markdown",
   "metadata": {},
   "source": [
    "### Quali ricette contengono due ingredienti (scelti dall'utente)?"
   ]
  },
  {
   "cell_type": "code",
   "execution_count": 90,
   "metadata": {},
   "outputs": [
    {
     "name": "stdout",
     "output_type": "stream",
     "text": [
      "************ Stampa una ricetta con due ingredienti ************ \n",
      "Qualche suggerimento per la scelta degli ingredienti: \n"
     ]
    },
    {
     "data": {
      "text/html": [
       "<table><tr><th>ingrediente</th><th>is_allergene</th></tr><tr><td style=\"text-align:left\">mixed spice</td><td style=\"text-align:left\">false</td></tr><tr><td style=\"text-align:left\">Risotto allo zafferano</td><td style=\"text-align:left\">false</td></tr><tr><td style=\"text-align:left\">Mele Cotogne</td><td style=\"text-align:left\">false</td></tr><tr><td style=\"text-align:left\">cream cracker</td><td style=\"text-align:left\">true</td></tr><tr><td style=\"text-align:left\">Barolo</td><td style=\"text-align:left\">false</td></tr></table>"
      ],
      "text/plain": [
       " ingrediente            | is_allergene \n",
       "------------------------|--------------\n",
       " mixed spice            | false        \n",
       " Risotto allo zafferano | false        \n",
       " Mele Cotogne           | false        \n",
       " cream cracker          | true         \n",
       " Barolo                 | false        "
      ]
     },
     "metadata": {},
     "output_type": "display_data"
    },
    {
     "name": "stdout",
     "output_type": "stream",
     "text": [
      "Ecco 5 ingredienti usati spesso con Confettura di Prugne\n"
     ]
    },
    {
     "data": {
      "text/html": [
       "<table><tr><th>ingrediente_raccomandato</th><th>is_allergene</th></tr><tr><td style=\"text-align:left\">Uova</td><td style=\"text-align:left\">true</td></tr><tr><td style=\"text-align:left\">Farina 00</td><td style=\"text-align:left\">false</td></tr><tr><td style=\"text-align:left\">Zucchero</td><td style=\"text-align:left\">false</td></tr><tr><td style=\"text-align:left\">Sale fino</td><td style=\"text-align:left\">false</td></tr><tr><td style=\"text-align:left\">Latte intero</td><td style=\"text-align:left\">true</td></tr></table>"
      ],
      "text/plain": [
       " ingrediente_raccomandato | is_allergene \n",
       "--------------------------|--------------\n",
       " Uova                     | true         \n",
       " Farina 00                | false        \n",
       " Zucchero                 | false        \n",
       " Sale fino                | false        \n",
       " Latte intero             | true         "
      ]
     },
     "metadata": {},
     "output_type": "display_data"
    },
    {
     "name": "stdout",
     "output_type": "stream",
     "text": [
      "\n",
      "Ricette trovate con gli ingredienti Confettura di Prugne ,  Zucchero: \n",
      "\t Girelle alla marmellata\n",
      "\t Treccine di sfoglia\n",
      "\t Crostata alla crema e prugne\n",
      "\t Crostata alla crema e prugne\n"
     ]
    }
   ],
   "source": [
    "# Cerco le ricette con due ingredienti\n",
    "print(\"************ Stampa una ricetta con due ingredienti ************ \")\n",
    "\n",
    "# Stampo qualche suggerimento\n",
    "print(\"Qualche suggerimento per la scelta degli ingredienti: \")\n",
    "cq = \"\"\" \n",
    "MATCH (i:Ingredient)\n",
    "WITH i, rand() as num\n",
    "RETURN i.name AS ingrediente, i.is_allergene AS is_allergene\n",
    "ORDER BY num\n",
    "LIMIT 5\n",
    "\"\"\"\n",
    "display(print_first_n(cq))\n",
    "\n",
    "# Chiedo il primo ingrediente e stampo gli ingredienti più usati con esso\n",
    "ingrediente1=\"\"\n",
    "while ingrediente1==\"\":\n",
    "    ingrediente1=input(\"Inserisci primo ingrediente: \")\n",
    "# ingrediente1=\"Confettura di prugne\"\n",
    "\n",
    "print(\"Ecco 5 ingredienti usati spesso con \" +ingrediente1)\n",
    "cq = \"\"\" \n",
    "MATCH (i_scelto:Ingredient)<-[:CONTAINS_INGREDIENT]-(:Recipe)-[:CONTAINS_INGREDIENT]->(i2:Ingredient)\n",
    "WHERE toLower(i_scelto.name) CONTAINS toLower('\"\"\"+ingrediente1+\"\"\"')\n",
    "WITH i2,  COUNT(i2) AS num\n",
    "RETURN i2.name AS ingrediente_raccomandato, i2.is_allergene AS is_allergene\n",
    "ORDER BY num DESC\n",
    "LIMIT 5\n",
    "\"\"\"\n",
    "display(print_first_n(cq))\n",
    "\n",
    "\n",
    "# Chiedo il secondo ingrediente\n",
    "ingrediente2=\"\"\n",
    "while ingrediente2==\"\": \n",
    "    ingrediente2=input(\"Inserisci secondo ingrediente: \")\n",
    "# ingrediente2=\"Uova\"\n",
    "\n",
    "# Cerco i risultati...\n",
    "cq = \"\"\" \n",
    "MATCH (i1:Ingredient)<-[:CONTAINS_INGREDIENT]-(r:Recipe)-[:CONTAINS_INGREDIENT]->(i2:Ingredient)\n",
    "WHERE \n",
    "    toLower(i1.name) CONTAINS toLower('\"\"\"+ingrediente1+\"\"\"') AND \n",
    "    toLower(i2.name) CONTAINS toLower('\"\"\"+ingrediente2+\"\"\"') \n",
    "RETURN r\n",
    "\"\"\"\n",
    "recipe_list = graph.run(cq)\n",
    "\n",
    "# ... e li stampo\n",
    "print(\"\\nRicette trovate con gli ingredienti\",ingrediente1, \", \" ,ingrediente2,\"\\b: \")\n",
    "ricetta_trovata = False\n",
    "for r in recipe_list:\n",
    "    ricetta_trovata = True\n",
    "    node_recipe = r[r.keys()[0]]\n",
    "    print(\"\\t\", node_recipe.get(\"name\", \"\\b\"))\n",
    "if not ricetta_trovata:\n",
    "    print(\"------ Nessuna ricetta! ------\")\n",
    "    "
   ]
  },
  {
   "attachments": {},
   "cell_type": "markdown",
   "metadata": {},
   "source": [
    "### Stampa i dettagli di una ricetta"
   ]
  },
  {
   "cell_type": "code",
   "execution_count": 12,
   "metadata": {},
   "outputs": [
    {
     "name": "stdout",
     "output_type": "stream",
     "text": [
      "Ricetta scelta: chocoloate chia pudding\n",
      "--- Nessuna ricetta trovata --- \n"
     ]
    }
   ],
   "source": [
    "# Chiedo il nome della ricetta\n",
    "nome_ricetta=\"\"\n",
    "while nome_ricetta==\"\": \n",
    "    nome_ricetta=input(\"Inserisci nome della ricetta: \")\n",
    "print(\"Ricetta scelta:\", nome_ricetta)\n",
    "\n",
    "# Cerco la ricetta e tutti i relativi dati\n",
    "cq = \"\"\"MATCH (r:Recipe) \n",
    "WHERE toLower(r.name) = toLower('\"\"\"+nome_ricetta+\"\"\"')\n",
    "OPTIONAL MATCH (a:Author)-[:WROTE]->(r)\n",
    "OPTIONAL MATCH (c:Collection)<-[:COLLECTION]-(r)\n",
    "OPTIONAL MATCH (d:DietType)<-[:DIET_TYPE]-(r)\n",
    "OPTIONAL MATCH (i:Ingredient)<-[r_i:CONTAINS_INGREDIENT]-(r)\n",
    "RETURN r AS ricetta, COLLECT(DISTINCT c) AS categorie, COLLECT(DISTINCT i) AS ingredienti, COLLECT(DISTINCT d) AS tipi_dieta, COLLECT(DISTINCT r_i) AS quantita_ingredienti\n",
    "\"\"\"\n",
    "list_recipes = graph.run(cq)\n",
    "\n",
    "# Stampo i risultati\n",
    "ricetta_trovata=False\n",
    "for res in list_recipes:\n",
    "    ricetta_trovata = True\n",
    "\n",
    "    tmp = dict(res)\n",
    "    print(\"---------------\")\n",
    "\n",
    "    if tmp.__contains__(\"ricetta\"):\n",
    "        for k,v in tmp[\"ricetta\"].items():\n",
    "            print(k, \"\\b:\",v)\n",
    "    \n",
    "    if tmp.__contains__(\"categorie\"):\n",
    "        categorie = tmp[\"categorie\"]\n",
    "        print(\"Categorie:\", [v for c in categorie for _,v in c.items()])\n",
    "    \n",
    "    if tmp.__contains__(\"ingredienti\"):\n",
    "        ingredienti =  [c[\"name\"] + (\" (Allergene!)\" if c[\"is_allergene\"] else \"\") for c in tmp[\"ingredienti\"]]\n",
    "    \n",
    "    if tmp.__contains__(\"quantita_ingredienti\"):\n",
    "        quantita_ingredienti = [dict(q_i).get(\"quantita\", \"\") for q_i in tmp[\"quantita_ingredienti\"]]\n",
    "        tmp2 = []\n",
    "        for i in range(len(ingredienti)):\n",
    "            tmp2.append( ingredienti[i] + \" \" + quantita_ingredienti[i])\n",
    "        ingredienti = tmp2\n",
    "    \n",
    "    print(\"Ingredienti:\", ingredienti)\n",
    "\n",
    "if not ricetta_trovata:\n",
    "    print(\"--- Nessuna ricetta trovata --- \")\n"
   ]
  },
  {
   "attachments": {},
   "cell_type": "markdown",
   "metadata": {},
   "source": [
    "### Quali sono le ricette più veloci da preparare?"
   ]
  },
  {
   "cell_type": "code",
   "execution_count": 88,
   "metadata": {},
   "outputs": [
    {
     "name": "stdout",
     "output_type": "stream",
     "text": [
      "Scegli un'opzione. Ricetta piu' veloce in base a: \n",
      "\t1. Tempo di preparazione\n",
      "\t2. Tempo di cottura\n",
      "\t3. Tempo totale\n",
      "Opzione scelta: tempo_preparazione\n"
     ]
    },
    {
     "data": {
      "text/html": [
       "<table><tr><th>ricetta</th><th>tempo_cottura</th><th>tempo_preparazione</th><th>tempo_totale</th></tr><tr><td style=\"text-align:left\">Lighter Cornish pasties</td><td style=\"text-align:right\">3000</td><td style=\"text-align:right\">60</td><td style=\"text-align:right\">3060</td></tr><tr><td style=\"text-align:left\">Christmas spice latte</td><td style=\"text-align:right\">180</td><td style=\"text-align:right\">60</td><td style=\"text-align:right\">240</td></tr><tr><td style=\"text-align:left\">Creamy yogurt porridge</td><td style=\"text-align:right\">180</td><td style=\"text-align:right\">60</td><td style=\"text-align:right\">240</td></tr></table>"
      ],
      "text/plain": [
       " ricetta                 | tempo_cottura | tempo_preparazione | tempo_totale \n",
       "-------------------------|---------------|--------------------|--------------\n",
       " Lighter Cornish pasties |          3000 |                 60 |         3060 \n",
       " Christmas spice latte   |           180 |                 60 |          240 \n",
       " Creamy yogurt porridge  |           180 |                 60 |          240 "
      ]
     },
     "execution_count": 88,
     "metadata": {},
     "output_type": "execute_result"
    }
   ],
   "source": [
    "print(\"Scegli un'opzione. Ricetta piu' veloce in base a: \\n\\t1. Tempo di preparazione\\n\\t2. Tempo di cottura\\n\\t3. Tempo totale\")\n",
    "opzione=\"\"\n",
    "while opzione==\"\":\n",
    "    opzione=input(\">> \")\n",
    "    opzione = \"tempo_preparazione\" if opzione==\"1\" else (\"tempo_cottura\" if opzione==\"2\" else (\"tempo_totale\" if opzione==\"3\" else \"\"))\n",
    "print(\"Opzione scelta: \" + opzione)\n",
    "\n",
    "cq = \"\"\"MATCH (r:Recipe)\n",
    "WHERE r.preparationTime<>0\n",
    "RETURN r.name AS ricetta, r.cookingTime AS tempo_cottura, r.preparationTime as tempo_preparazione, r.cookingTime+r.preparationTime AS tempo_totale\n",
    "ORDER BY \"\"\" + opzione + \" LIMIT 3\"\n",
    "graph.run(cq)\n"
   ]
  },
  {
   "attachments": {},
   "cell_type": "markdown",
   "metadata": {},
   "source": [
    "### Chi ha scritto più ricette?"
   ]
  },
  {
   "cell_type": "code",
   "execution_count": 91,
   "metadata": {},
   "outputs": [
    {
     "data": {
      "text/html": [
       "<table><tr><th>a.name</th><th>num_ricette</th><th>alcune_ricette</th></tr><tr><td style=\"text-align:left\">Good Food</td><td style=\"text-align:right\">3441</td><td style=\"text-align:left\">[&#039;Zesty lentil &amp; haddock pilaf&#039;, &#039;Fruity figgy flapjacks&#039;, &#039;Beef &amp; mozzarella meatballs&#039;, &#039;Stuffed summer tomatoes&#039;, &#039;Lamb kebabs &amp; Greek salad&#039;]</td></tr><tr><td style=\"text-align:left\">Sara Buenfeld</td><td style=\"text-align:right\">664</td><td style=\"text-align:left\">[&#039;Very simple Margherita pizza&#039;, &#039;Sweet &amp; spicy apricot chicken&#039;, &#039;Healthy tuna lettuce wraps&#039;, &#039;Prawn &amp; fennel bisque&#039;, &#039;Blueberry soured cream cake with cheesecake frosting&#039;]</td></tr><tr><td style=\"text-align:left\">Barney Desmazery</td><td style=\"text-align:right\">646</td><td style=\"text-align:left\">[&#039;Christmas poussin&#039;, &#039;Stuffed pork medallions&#039;, &#039;Cheese &amp; Marmite sausage rolls&#039;, &#039;Violet creams&#039;, &#039;Next level apple crumble&#039;]</td></tr><tr><td style=\"text-align:left\">Cassie Best</td><td style=\"text-align:right\">638</td><td style=\"text-align:left\">[&#039;Pear, nut &amp; blackberry Bircher&#039;, &#039;Chicken with mustard lentils&#039;, &#039;Pea &amp; bacon pasties&#039;, &#039;Pepper, pesto &amp; sweetcorn calzones&#039;, &#039;Mini Christmas cake&#039;]</td></tr><tr><td style=\"text-align:left\">Sarah Cook</td><td style=\"text-align:right\">515</td><td style=\"text-align:left\">[&#039;Leftover veg &amp; orange cake&#039;, &#039;Free-form asparagus &amp; potato tart&#039;, &#039;Baked camembert pie for sharing&#039;, &#039;Chicken, apricot &amp; pork pie&#039;, &#039;Malted walnut seed loaf&#039;]</td></tr></table>"
      ],
      "text/plain": [
       " a.name           | num_ricette | alcune_ricette                                                                                                                                                                   \n",
       "------------------|-------------|----------------------------------------------------------------------------------------------------------------------------------------------------------------------------------\n",
       " Good Food        |        3441 | ['Zesty lentil & haddock pilaf', 'Fruity figgy flapjacks', 'Beef & mozzarella meatballs', 'Stuffed summer tomatoes', 'Lamb kebabs & Greek salad']                                \n",
       " Sara Buenfeld    |         664 | ['Very simple Margherita pizza', 'Sweet & spicy apricot chicken', 'Healthy tuna lettuce wraps', 'Prawn & fennel bisque', 'Blueberry soured cream cake with cheesecake frosting'] \n",
       " Barney Desmazery |         646 | ['Christmas poussin', 'Stuffed pork medallions', 'Cheese & Marmite sausage rolls', 'Violet creams', 'Next level apple crumble']                                                  \n",
       " Cassie Best      |         638 | ['Pear, nut & blackberry Bircher', 'Chicken with mustard lentils', 'Pea & bacon pasties', 'Pepper, pesto & sweetcorn calzones', 'Mini Christmas cake']                           \n",
       " Sarah Cook       |         515 | ['Leftover veg & orange cake', 'Free-form asparagus & potato tart', 'Baked camembert pie for sharing', 'Chicken, apricot & pork pie', 'Malted walnut seed loaf']                 "
      ]
     },
     "metadata": {},
     "output_type": "display_data"
    }
   ],
   "source": [
    "cq = \"\"\"MATCH (a:Author)-[:WROTE]->(r:Recipe)\n",
    "WITH a, COUNT(r) AS num_ricette, COLLECT(r.name)[..5] AS alcune_ricette // Seleziono solo le prime cinque ricette\n",
    "RETURN a.name, num_ricette, alcune_ricette\n",
    "ORDER BY num_ricette DESC\n",
    "LIMIT 5\n",
    "\"\"\"\n",
    "display(print_first_n(cq))"
   ]
  },
  {
   "attachments": {},
   "cell_type": "markdown",
   "metadata": {},
   "source": [
    "### Quali ricette non contengono allergeni?"
   ]
  },
  {
   "cell_type": "code",
   "execution_count": 92,
   "metadata": {},
   "outputs": [
    {
     "data": {
      "text/html": [
       "<table><tr><th>ricetta</th><th>ingredienti</th></tr><tr><td style=\"text-align:left\">Quick &amp; easy party nibbles</td><td style=\"text-align:left\">[&#039;ingredient&#039;]</td></tr><tr><td style=\"text-align:left\">Pollo piri piri </td><td style=\"text-align:left\">[&#039;Sale fino&#039;, &#039;Olio extravergine doliva&#039;, &#039;Aglio&#039;, &#039;Peperoncino fresco&#039;, &#039;Limoni&#039;, &#039;Paprika dolce&#039;, &#039;Pollo&#039;, &#039;Aceto di mele&#039;]</td></tr><tr><td style=\"text-align:left\">Cheesecake golosa con fragole</td><td style=\"text-align:left\">[&#039;Mascarpone&#039;, &#039;Burro&#039;, &#039;Zucchero a velo&#039;, &#039;Panna fresca liquida&#039;, &#039;Baccello di vaniglia&#039;, &#039;Gelatina in fogli&#039;, &#039;Ricotta vaccina&#039;, &#039;Biscotti secchi&#039;, &#039;Confettura di fragole&#039;]</td></tr><tr><td style=\"text-align:left\">Culurgiones di patate viola</td><td style=\"text-align:left\">[&#039;Farina 00&#039;, &#039;Sale fino&#039;, &#039;Sale fino&#039;, &#039;Acqua&#039;, &#039;Acqua&#039;, &#039;Semola di grano duro rimacinata&#039;, &#039;Olio extravergine doliva&#039;, &#039;Olio extravergine doliva&#039;, &#039;Olio extravergine doliva&#039;, &#039;Pepe nero&#039;, &#039;Menta&#039;, &#039;Aglio&#039;, &#039;Limoni&#039;, &#039;Pecorino sardo&#039;, &#039;Carciofi&#039;, &#039;Patate viola&#039;]</td></tr><tr><td style=\"text-align:left\">Risotto con carote e salsiccia</td><td style=\"text-align:left\">[&#039;Sale fino&#039;, &#039;Carote&#039;, &#039;Pepe nero&#039;, &#039;Nocciole intere spellate&#039;, &#039;Salsiccia&#039;, &#039;Brodo di carne&#039;, &#039;Toma&#039;, &#039;Riso integrale&#039;]</td></tr></table>"
      ],
      "text/plain": [
       " ricetta                        | ingredienti                                                                                                                                                                                                                                                             \n",
       "--------------------------------|-------------------------------------------------------------------------------------------------------------------------------------------------------------------------------------------------------------------------------------------------------------------------\n",
       " Quick & easy party nibbles     | ['ingredient']                                                                                                                                                                                                                                                          \n",
       " Pollo piri piri                | ['Sale fino', 'Olio extravergine doliva', 'Aglio', 'Peperoncino fresco', 'Limoni', 'Paprika dolce', 'Pollo', 'Aceto di mele']                                                                                                                                           \n",
       " Cheesecake golosa con fragole  | ['Mascarpone', 'Burro', 'Zucchero a velo', 'Panna fresca liquida', 'Baccello di vaniglia', 'Gelatina in fogli', 'Ricotta vaccina', 'Biscotti secchi', 'Confettura di fragole']                                                                                          \n",
       " Culurgiones di patate viola    | ['Farina 00', 'Sale fino', 'Sale fino', 'Acqua', 'Acqua', 'Semola di grano duro rimacinata', 'Olio extravergine doliva', 'Olio extravergine doliva', 'Olio extravergine doliva', 'Pepe nero', 'Menta', 'Aglio', 'Limoni', 'Pecorino sardo', 'Carciofi', 'Patate viola'] \n",
       " Risotto con carote e salsiccia | ['Sale fino', 'Carote', 'Pepe nero', 'Nocciole intere spellate', 'Salsiccia', 'Brodo di carne', 'Toma', 'Riso integrale']                                                                                                                                               "
      ]
     },
     "metadata": {},
     "output_type": "display_data"
    }
   ],
   "source": [
    "cq = \"\"\"\n",
    "MATCH (r:Recipe)-[:CONTAINS_INGREDIENT]->(i:Ingredient)\n",
    "WITH r, COLLECT(i.is_allergene) AS are_allergeni, COLLECT(i.name) AS ingredienti\n",
    "WHERE all(x IN are_allergeni WHERE NOT x)\n",
    "RETURN r.name AS ricetta, ingredienti\n",
    "ORDER BY rand()\n",
    "LIMIT 5 \"\"\"\n",
    "display(print_first_n(cq))\n"
   ]
  },
  {
   "attachments": {},
   "cell_type": "markdown",
   "metadata": {},
   "source": [
    "### Stampa le ricette suggerite\n",
    "Partendo da una ricetta ('Chocolate chia pudding'), il seguente script stampa le ricette suggerite, in base alle categorie, ai tipi di dieta e all'autore/autrice in comune.\n"
   ]
  },
  {
   "cell_type": "code",
   "execution_count": 93,
   "metadata": {},
   "outputs": [
    {
     "data": {
      "text/html": [
       "<table><tr><th>ricetta_suggerita</th><th>categorie_comuni</th><th>diete_comuni</th><th>n_dati_comuni</th><th>autore_comune</th></tr><tr><td style=\"text-align:left\">Quinoa stew with squash, prunes &amp; pomegranate</td><td style=\"text-align:left\">[&#039;Easy vegan&#039;, &#039;Healthy vegan&#039;, &#039;Vegan gluten-free&#039;]</td><td style=\"text-align:left\">[&#039;Gluten-free&#039;, &#039;Vegan&#039;, &#039;Dairy-free&#039;, &#039;Vegetarian&#039;, &#039;Healthy&#039;]</td><td style=\"text-align:right\">15</td><td style=\"text-align:left\">null</td></tr><tr><td style=\"text-align:left\">Guacamole &amp; mango salad with black beans</td><td style=\"text-align:left\">[&#039;Healthy vegan&#039;, &#039;Vegan summer&#039;, &#039;Vegan gluten-free&#039;]</td><td style=\"text-align:left\">[&#039;Gluten-free&#039;, &#039;Healthy&#039;, &#039;Vegan&#039;, &#039;Low-calorie&#039;, &#039;Vegetarian&#039;]</td><td style=\"text-align:right\">15</td><td style=\"text-align:left\">null</td></tr><tr><td style=\"text-align:left\">Vegan chickpea curry jacket potatoes</td><td style=\"text-align:left\">[&#039;Easy vegan&#039;, &#039;Healthy vegan&#039;, &#039;Vegan gluten-free&#039;]</td><td style=\"text-align:left\">[&#039;Healthy&#039;, &#039;Vegan&#039;, &#039;Vegetarian&#039;, &#039;Gluten-free&#039;]</td><td style=\"text-align:right\">12</td><td style=\"text-align:left\">null</td></tr><tr><td style=\"text-align:left\">Chargrilled vegetable tacos with smoky salsa</td><td style=\"text-align:left\">[&#039;Easy vegan&#039;, &#039;Healthy vegan&#039;, &#039;Vegan summer&#039;]</td><td style=\"text-align:left\">[&#039;Vegan&#039;, &#039;Low-calorie&#039;, &#039;Healthy&#039;, &#039;Vegetarian&#039;]</td><td style=\"text-align:right\">12</td><td style=\"text-align:left\">null</td></tr><tr><td style=\"text-align:left\">Avocado hummus &amp; cruditÃ©s</td><td style=\"text-align:left\">[&#039;Easy vegan&#039;, &#039;Vegan summer&#039;]</td><td style=\"text-align:left\">[&#039;Vegetarian&#039;, &#039;Gluten-free&#039;, &#039;Healthy&#039;, &#039;Vegan&#039;, &#039;Low-calorie&#039;]</td><td style=\"text-align:right\">10</td><td style=\"text-align:left\">Sophie Godwin</td></tr></table>"
      ],
      "text/plain": [
       " ricetta_suggerita                             | categorie_comuni                                       | diete_comuni                                                     | n_dati_comuni | autore_comune \n",
       "-----------------------------------------------|--------------------------------------------------------|------------------------------------------------------------------|---------------|---------------\n",
       " Quinoa stew with squash, prunes & pomegranate | ['Easy vegan', 'Healthy vegan', 'Vegan gluten-free']   | ['Gluten-free', 'Vegan', 'Dairy-free', 'Vegetarian', 'Healthy']  |            15 | null          \n",
       " Guacamole & mango salad with black beans      | ['Healthy vegan', 'Vegan summer', 'Vegan gluten-free'] | ['Gluten-free', 'Healthy', 'Vegan', 'Low-calorie', 'Vegetarian'] |            15 | null          \n",
       " Vegan chickpea curry jacket potatoes          | ['Easy vegan', 'Healthy vegan', 'Vegan gluten-free']   | ['Healthy', 'Vegan', 'Vegetarian', 'Gluten-free']                |            12 | null          \n",
       " Chargrilled vegetable tacos with smoky salsa  | ['Easy vegan', 'Healthy vegan', 'Vegan summer']        | ['Vegan', 'Low-calorie', 'Healthy', 'Vegetarian']                |            12 | null          \n",
       " Avocado hummus & cruditÃ©s                    | ['Easy vegan', 'Vegan summer']                         | ['Vegetarian', 'Gluten-free', 'Healthy', 'Vegan', 'Low-calorie'] |            10 | Sophie Godwin "
      ]
     },
     "metadata": {},
     "output_type": "display_data"
    }
   ],
   "source": [
    "ricetta = \"Chocolate chia pudding\"\n",
    "cq = \"\"\" \n",
    "MATCH (r:Recipe {name:'\"\"\"+ ricetta +\"\"\"'})-[:COLLECTION]->(c:Collection)<-[:COLLECTION]-(r2:Recipe)\n",
    "OPTIONAL MATCH (r)-[:DIET_TYPE]->(d:DietType)<-[:DIET_TYPE]-(r2)\n",
    "OPTIONAL MATCH (r)<-[:WROTE]-(a:Author)-[:WROTE]->(r2)\n",
    "WITH r2, COUNT(*) AS n_dati_comuni, COLLECT(DISTINCT d.name) AS diete_comuni,COLLECT(DISTINCT c.name) AS categorie_comuni, a.name AS autore_comune\n",
    "RETURN r2.name AS ricetta_suggerita, categorie_comuni, diete_comuni, n_dati_comuni, autore_comune\n",
    "ORDER BY n_dati_comuni DESC \n",
    "LIMIT 5\n",
    "\"\"\"\n",
    "display(print_first_n(cq))"
   ]
  },
  {
   "attachments": {},
   "cell_type": "markdown",
   "metadata": {},
   "source": [
    "### Quali ingredienti sono usati più spesso con la pasta? "
   ]
  },
  {
   "cell_type": "code",
   "execution_count": 94,
   "metadata": {},
   "outputs": [
    {
     "data": {
      "text/html": [
       "<table><tr><th>ingrediente</th><th>frequenza</th></tr><tr><td style=\"text-align:left\">olive oil</td><td style=\"text-align:right\">65</td></tr><tr><td style=\"text-align:left\">parmesan</td><td style=\"text-align:right\">44</td></tr><tr><td style=\"text-align:left\">garlic clove</td><td style=\"text-align:right\">41</td></tr><tr><td style=\"text-align:left\">onion</td><td style=\"text-align:right\">25</td></tr><tr><td style=\"text-align:left\">lemon</td><td style=\"text-align:right\">23</td></tr><tr><td style=\"text-align:left\">pesto</td><td style=\"text-align:right\">17</td></tr><tr><td style=\"text-align:left\">parsley</td><td style=\"text-align:right\">14</td></tr><tr><td style=\"text-align:left\">chopped tomato</td><td style=\"text-align:right\">12</td></tr><tr><td style=\"text-align:left\">basil</td><td style=\"text-align:right\">12</td></tr><tr><td style=\"text-align:left\">tomato</td><td style=\"text-align:right\">11</td></tr></table>"
      ],
      "text/plain": [
       " ingrediente    | frequenza \n",
       "----------------|-----------\n",
       " olive oil      |        65 \n",
       " parmesan       |        44 \n",
       " garlic clove   |        41 \n",
       " onion          |        25 \n",
       " lemon          |        23 \n",
       " pesto          |        17 \n",
       " parsley        |        14 \n",
       " chopped tomato |        12 \n",
       " basil          |        12 \n",
       " tomato         |        11 "
      ]
     },
     "metadata": {},
     "output_type": "display_data"
    }
   ],
   "source": [
    "cq =\"\"\" \n",
    "MATCH (pasta:Ingredient)<-[:CONTAINS_INGREDIENT]-()-[:CONTAINS_INGREDIENT]->(i:Ingredient)\n",
    "WHERE toLower(pasta.name)=\"pasta\"\n",
    "WITH i, count(*) as frequenza\n",
    "RETURN i.name AS ingrediente, frequenza\n",
    "ORDER BY frequenza DESC \n",
    "LIMIT 10\n",
    "\"\"\"\n",
    "display(print_first_n(cq))"
   ]
  },
  {
   "attachments": {},
   "cell_type": "markdown",
   "metadata": {},
   "source": [
    "### Ricette presenti sia su GialloZafferano, sia su BBC GoodFood"
   ]
  },
  {
   "cell_type": "code",
   "execution_count": 3,
   "metadata": {},
   "outputs": [],
   "source": [
    "cq = \"\"\" \n",
    "MATCH (r_gz:Recipe {fonte:\"GialloZafferano\"}), (r_bbc:Recipe {fonte:\"BBC GoodFood\"})\n",
    "WITH apoc.coll.intersection(COLLECT(DISTINCT r_gz.name), COLLECT(DISTINCT r_bbc.name)) as ricette_comuni\n",
    "RETURN size(ricette_comuni) AS num_ricette_comuni, ricette_comuni\n",
    "\"\"\"\n",
    "ris = graph.run(cq)"
   ]
  },
  {
   "cell_type": "code",
   "execution_count": 8,
   "metadata": {},
   "outputs": [
    {
     "name": "stdout",
     "output_type": "stream",
     "text": [
      "Numero di ricette comuni trovate: 47\n",
      "Nomi delle ricette:\n",
      "   Banoffee pie                  Pulled pork                   Alfajores\n",
      "   Limoncello                    Pakora                        Harissa\n",
      "   Hot cross buns                Colcannon                     Ceviche\n",
      "   Caponata                      Pierogi                       Tarte tatin\n",
      "   Acquacotta                    Coq au vin                    Fish tacos\n",
      "   Ratatouille                   Cake pops                     Patatas bravas\n",
      "   Key lime pie                  Quiche Lorraine               Croque madame\n",
      "   Monkey bread                  Tzatziki                      Irish coffee\n",
      "   Irish stew                    Raclette                      Lebkuchen\n",
      "   Panettone                     Cosmopolitan                  Raita\n",
      "   Tequila sunrise               Ciabatta                      Cranachan\n",
      "   Baci di dama                  Bouillabaisse                 Cinnamon rolls\n",
      "   Macarons                      Panforte                      French toast\n",
      "   Cornbread                     Lemon curd                    Lemon bars\n",
      "   Spaghetti alle vongole        Crumpets                      Salmorejo\n"
     ]
    }
   ],
   "source": [
    "cq = \"\"\" \n",
    "MATCH (f_gz:Fonte {name:\"GialloZafferano\"}), (f_bbc:Fonte {name:\"BBC GoodFood\"})\n",
    "MATCH (r_gz:Recipe)<-[:FONTE]-(f_gz), (r_bbc:Recipe)<-[:FONTE]-(f_bbc)\n",
    "WITH apoc.coll.intersection(COLLECT(DISTINCT r_gz.name), COLLECT(DISTINCT r_bbc.name)) as ricette_comuni\n",
    "RETURN size(ricette_comuni) AS num_ricette_comuni, ricette_comuni\n",
    "\"\"\"\n",
    "ris = graph.run(cq)\n",
    "\n",
    "# Stampo il numero di risultati\n",
    "diz_ris = ris.data()[0]\n",
    "print(\"Numero di ricette comuni trovate:\", diz_ris[\"num_ricette_comuni\"])\n",
    "\n",
    "# Stampo le ricette su tre colonne\n",
    "print(\"Nomi delle ricette:\")\n",
    "lista_ricette = diz_ris[\"ricette_comuni\"]\n",
    "for a,b,c in zip(lista_ricette[::3],lista_ricette[1::3],lista_ricette[2::3]):\n",
    "    print('   {:<30}{:<30}{:<}'.format(a,b,c))\n",
    "    "
   ]
  },
  {
   "attachments": {},
   "cell_type": "markdown",
   "metadata": {},
   "source": [
    "## Modifiche"
   ]
  },
  {
   "attachments": {},
   "cell_type": "markdown",
   "metadata": {},
   "source": [
    "## Cancellazioni\n"
   ]
  }
 ],
 "metadata": {
  "kernelspec": {
   "display_name": "Python 3",
   "language": "python",
   "name": "python3"
  },
  "language_info": {
   "codemirror_mode": {
    "name": "ipython",
    "version": 3
   },
   "file_extension": ".py",
   "mimetype": "text/x-python",
   "name": "python",
   "nbconvert_exporter": "python",
   "pygments_lexer": "ipython3",
   "version": "3.11.0 (main, Oct 24 2022, 18:26:48) [MSC v.1933 64 bit (AMD64)]"
  },
  "orig_nbformat": 4,
  "vscode": {
   "interpreter": {
    "hash": "a29d3b88d3d770f4c6b76b3f467a825cd9493448f3062cde152f1e267121f11d"
   }
  }
 },
 "nbformat": 4,
 "nbformat_minor": 2
}

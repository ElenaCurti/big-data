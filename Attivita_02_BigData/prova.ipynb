{
 "cells": [
  {
   "cell_type": "code",
   "execution_count": 7,
   "metadata": {},
   "outputs": [
    {
     "name": "stdout",
     "output_type": "stream",
     "text": [
      "Requirement already satisfied: redis in c:\\users\\utente\\appdata\\local\\programs\\python\\python311\\lib\\site-packages (4.3.4)\n",
      "Requirement already satisfied: deprecated>=1.2.3 in c:\\users\\utente\\appdata\\local\\programs\\python\\python311\\lib\\site-packages (from redis) (1.2.13)\n",
      "Requirement already satisfied: packaging>=20.4 in c:\\users\\utente\\appdata\\local\\programs\\python\\python311\\lib\\site-packages (from redis) (21.3)\n",
      "Requirement already satisfied: async-timeout>=4.0.2 in c:\\users\\utente\\appdata\\local\\programs\\python\\python311\\lib\\site-packages (from redis) (4.0.2)\n",
      "Requirement already satisfied: wrapt<2,>=1.10 in c:\\users\\utente\\appdata\\local\\programs\\python\\python311\\lib\\site-packages (from deprecated>=1.2.3->redis) (1.14.1)\n",
      "Requirement already satisfied: pyparsing!=3.0.5,>=2.0.2 in c:\\users\\utente\\appdata\\local\\programs\\python\\python311\\lib\\site-packages (from packaging>=20.4->redis) (3.0.9)\n"
     ]
    },
    {
     "name": "stderr",
     "output_type": "stream",
     "text": [
      "\n",
      "[notice] A new release of pip available: 22.3 -> 22.3.1\n",
      "[notice] To update, run: python.exe -m pip install --upgrade pip\n"
     ]
    }
   ],
   "source": [
    "!pip install redis"
   ]
  },
  {
   "cell_type": "code",
   "execution_count": 1,
   "metadata": {},
   "outputs": [
    {
     "name": "stdout",
     "output_type": "stream",
     "text": [
      "['name', 'lastSeen', 'loggedOut']\n"
     ]
    }
   ],
   "source": [
    "import redis\n",
    "\n",
    "r= redis.Redis()\n",
    "r.set(\"frase\", \"prova\")\n",
    "r.append(\"frase\", \"ciao\")\n",
    "\n",
    "print(r.json().objkeys(\"obj\"))"
   ]
  }
 ],
 "metadata": {
  "kernelspec": {
   "display_name": "Python 3.11.0 64-bit",
   "language": "python",
   "name": "python3"
  },
  "language_info": {
   "codemirror_mode": {
    "name": "ipython",
    "version": 3
   },
   "file_extension": ".py",
   "mimetype": "text/x-python",
   "name": "python",
   "nbconvert_exporter": "python",
   "pygments_lexer": "ipython3",
   "version": "3.11.0"
  },
  "orig_nbformat": 4,
  "vscode": {
   "interpreter": {
    "hash": "a29d3b88d3d770f4c6b76b3f467a825cd9493448f3062cde152f1e267121f11d"
   }
  }
 },
 "nbformat": 4,
 "nbformat_minor": 2
}

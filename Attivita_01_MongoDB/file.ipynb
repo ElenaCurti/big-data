{
 "cells": [
  {
   "cell_type": "markdown",
   "metadata": {},
   "source": [
    "# Applicazione Python \"Premi Nobel\"\n",
    "\n",
    "Attività scelta: 3. MongoDB Usecase e applicazione Python\n",
    "Progetto realizzato da Elena Curti (matricola: 146539 <mark>FORSE DA CAMBIARE?</mark>) con Python 3.11.0\n",
    "\n",
    "Ho usato i seguenti file JSON pubblici: <br>\n",
    "    <ul> \n",
    "      <li> nobelPrizes.json: https://masterdataapi.nobelprize.org/2.1/nobelPrizes?offset=0&limit=664 </li>\n",
    "      <li> laureates.json: https://masterdataapi.nobelprize.org/2.1/laureates?offset=0&limit=981 </li>\n",
    "    </ul>\n",
    "Essi contengono informazioni sui premi Nobel ed i relativi vincitori.\n",
    "\n",
    "Ho modificato il primo \n"
   ]
  },
  {
   "cell_type": "code",
   "execution_count": 1,
   "metadata": {},
   "outputs": [
    {
     "name": "stdout",
     "output_type": "stream",
     "text": [
      "ciao\n"
     ]
    }
   ],
   "source": [
    "print(\"ciao\")"
   ]
  }
 ],
 "metadata": {
  "kernelspec": {
   "display_name": "Python 3.9.13 ('base')",
   "language": "python",
   "name": "python3"
  },
  "language_info": {
   "name": "python",
   "version": "3.9.13"
  },
  "orig_nbformat": 4,
  "vscode": {
   "interpreter": {
    "hash": "e22643f84482d14816e82b9220943e4f049420cd30f37e95345ed589071eb480"
   }
  }
 },
 "nbformat": 4,
 "nbformat_minor": 2
}

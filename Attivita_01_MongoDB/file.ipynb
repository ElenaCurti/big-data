{
 "cells": [
  {
   "cell_type": "markdown",
   "metadata": {},
   "source": [
    "# Applicazione Python \"Premi Nobel\"\n",
    "\n",
    "Attività scelta: 3. MongoDB Usecase e applicazione Python\n",
    "Progetto realizzato da Elena Curti (matricola: 146539 <mark>FORSE DA CAMBIARE?</mark>) con Python 3.11.0\n",
    "\n",
    "Ho usato i seguenti file JSON pubblici: <br>\n",
    "    <ul> \n",
    "      <li> nobelPrizes.json: https://masterdataapi.nobelprize.org/2.1/nobelPrizes?offset=0&limit=664 </li>\n",
    "      <li> laureates.json: https://masterdataapi.nobelprize.org/2.1/laureates?offset=0&limit=981 </li>\n",
    "    </ul>\n",
    "Essi contengono informazioni sui premi Nobel ed i relativi vincitori.\n",
    "\n",
    "## Documentazione \n",
    "Documentazione dei dataset: https://app.swaggerhub.com/apis/NobelMedia/NobelMasterData/2.1\n",
    "\n",
    "\n",
    "## File nobelPrizes.json\n",
    "Ho modificato il file nobelPrizes.json in modo da realizzare un file contenente l'elenco dei premi Nobel, con la seguente struttura d'esempio:\n",
    "{\n",
    "    \"awardYear\": \"2021\",\n",
    "    \"category\": \"Economic Sciences\",\n",
    "    \"categoryFullName\": \"The Sveriges Riksbank Prize in Economic Sciences in Memory of Alfred Nobel\",\n",
    "    \"dateAwarded\": \"2021-10-11\",\n",
    "    \"topMotivation\": \"for contributions ...\",\n",
    "    \"prizeAmount\": 10000000,\n",
    "    \"prizeAmountAdjusted\": 10000000,\n",
    "    \"laureates\": [\n",
    "        {\n",
    "            \"id\": \"1007\",\n",
    "            \"knownName\": \"David Card\",\n",
    "            \"fullName\": \"David Card\",\n",
    "            \"portion\": \"1/2\",\n",
    "            \"sortOrder\": \"1\",\n",
    "            \"motivation\": \"for his empirical contributions to labour economics\"\n",
    "        },\n",
    "        { ... }\n",
    "    ]\n",
    "}\n",
    "\n",
    "\n",
    "<br>\n",
    "\n"
   ]
  },
  {
   "cell_type": "code",
   "execution_count": 1,
   "metadata": {},
   "outputs": [
    {
     "name": "stdout",
     "output_type": "stream",
     "text": [
      "ciao\n"
     ]
    }
   ],
   "source": [
    "print(\"ciao\")"
   ]
  }
 ],
 "metadata": {
  "kernelspec": {
   "display_name": "Python 3.9.13 ('base')",
   "language": "python",
   "name": "python3"
  },
  "language_info": {
   "name": "python",
   "version": "3.9.13"
  },
  "orig_nbformat": 4,
  "vscode": {
   "interpreter": {
    "hash": "e22643f84482d14816e82b9220943e4f049420cd30f37e95345ed589071eb480"
   }
  }
 },
 "nbformat": 4,
 "nbformat_minor": 2
}

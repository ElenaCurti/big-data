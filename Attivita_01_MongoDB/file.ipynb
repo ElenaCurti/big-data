{
 "cells": [
  {
   "cell_type": "markdown",
   "metadata": {},
   "source": [
    "# Applicazione Python \"Premi Nobel\"\n",
    "\n",
    "Attività scelta: 3. MongoDB Usecase e applicazione Python <br>\n",
    "Progetto realizzato da Elena Curti (matricola: 146539 <mark>FORSE DA CAMBIARE?</mark>) con Python 3.11.0\n",
    "\n",
    "Ho usato i seguenti file JSON pubblici: <br>\n",
    "    <ul> \n",
    "      <li> nobelPrizes.json: https://masterdataapi.nobelprize.org/2.1/nobelPrizes?offset=0&limit=664 </li>\n",
    "      <li> laureates.json: https://masterdataapi.nobelprize.org/2.1/laureates?offset=0&limit=981 </li>\n",
    "    </ul>\n",
    "Essi contengono informazioni sui premi Nobel ed i relativi vincitori.\n",
    "\n",
    "## Documentazione \n",
    "Documentazione dei dataset: https://app.swaggerhub.com/apis/NobelMedia/NobelMasterData/2.1\n",
    "\n",
    "\n",
    "## File nobelPrizes.json\n",
    "Ho modificato il file nobelPrizes.json in modo da realizzare un file contenente l'elenco dei premi Nobel, con la seguente struttura d'esempio:"
   ]
  },
  {
   "cell_type": "code",
   "execution_count": null,
   "metadata": {},
   "outputs": [],
   "source": [
    "{\n",
    "    \"awardYear\": \"2021\",\n",
    "    \"category\": \"Economic Sciences\",\n",
    "    \"categoryFullName\": \"The Sveriges Riksbank Prize in Economic Sciences in Memory of Alfred Nobel\",\n",
    "    \"dateAwarded\": \"2021-10-11\",\n",
    "    \"topMotivation\": \"for contributions ...\",\n",
    "    \"prizeAmount\": 10000000,\n",
    "    \"prizeAmountAdjusted\": 10000000,\n",
    "    \"laureates\": [\n",
    "        {\n",
    "            \"id\": \"1007\",\n",
    "            \"knownName\": \"David Card\",\n",
    "            \"fullName\": \"David Card\",\n",
    "            \"portion\": \"1/2\",\n",
    "            \"sortOrder\": \"1\",\n",
    "            \"motivation\": \"for his empirical contributions to labour economics\"\n",
    "        },\n",
    "        { ... }\n",
    "    ]\n",
    "}"
   ]
  },
  {
   "cell_type": "markdown",
   "metadata": {},
   "source": [
    "Modifiche <mark> DA SISTEMARE </mark> \n",
    "ho rimosso sezioni usate dal sito web con il file JSON originale e ho rimosso le lingue\n",
    "\n",
    "<br>\n"
   ]
  },
  {
   "cell_type": "code",
   "execution_count": 2,
   "metadata": {},
   "outputs": [
    {
     "ename": "ModuleNotFoundError",
     "evalue": "No module named 'pymongo'",
     "output_type": "error",
     "traceback": [
      "\u001b[1;31m---------------------------------------------------------------------------\u001b[0m",
      "\u001b[1;31mModuleNotFoundError\u001b[0m                       Traceback (most recent call last)",
      "\u001b[1;32m~\\AppData\\Local\\Temp\\ipykernel_17124\\3082552258.py\u001b[0m in \u001b[0;36m<module>\u001b[1;34m\u001b[0m\n\u001b[1;32m----> 1\u001b[1;33m \u001b[1;32mfrom\u001b[0m \u001b[0mpymongo\u001b[0m \u001b[1;32mimport\u001b[0m \u001b[0mMongoClient\u001b[0m\u001b[1;33m\u001b[0m\u001b[1;33m\u001b[0m\u001b[0m\n\u001b[0m\u001b[0;32m      2\u001b[0m \u001b[1;33m\u001b[0m\u001b[0m\n\u001b[0;32m      3\u001b[0m \u001b[1;31m# connect to local server\u001b[0m\u001b[1;33m\u001b[0m\u001b[1;33m\u001b[0m\u001b[0m\n\u001b[0;32m      4\u001b[0m \u001b[0mclient\u001b[0m \u001b[1;33m=\u001b[0m \u001b[0mMongoClient\u001b[0m\u001b[1;33m(\u001b[0m\u001b[1;34m'localhost'\u001b[0m\u001b[1;33m,\u001b[0m \u001b[1;36m27017\u001b[0m\u001b[1;33m)\u001b[0m\u001b[1;33m\u001b[0m\u001b[1;33m\u001b[0m\u001b[0m\n\u001b[0;32m      5\u001b[0m \u001b[0mdb\u001b[0m \u001b[1;33m=\u001b[0m \u001b[0mclient\u001b[0m\u001b[1;33m.\u001b[0m\u001b[0madmin\u001b[0m\u001b[1;33m\u001b[0m\u001b[1;33m\u001b[0m\u001b[0m\n",
      "\u001b[1;31mModuleNotFoundError\u001b[0m: No module named 'pymongo'"
     ]
    }
   ],
   "source": [
    "from pymongo import MongoClient\n",
    "\n",
    "# connect to local server\n",
    "client = MongoClient('localhost', 27017)\n",
    "db = client.admin\n",
    "reviews = db.laureates2\n",
    "\n",
    "\n",
    "print(reviews.find_one({\"knownName\":\"Alfonso García Robles\"}))"
   ]
  }
 ],
 "metadata": {
  "kernelspec": {
   "display_name": "Python 3.9.13 ('base')",
   "language": "python",
   "name": "python3"
  },
  "language_info": {
   "codemirror_mode": {
    "name": "ipython",
    "version": 3
   },
   "file_extension": ".py",
   "mimetype": "text/x-python",
   "name": "python",
   "nbconvert_exporter": "python",
   "pygments_lexer": "ipython3",
   "version": "3.9.13"
  },
  "orig_nbformat": 4,
  "vscode": {
   "interpreter": {
    "hash": "e22643f84482d14816e82b9220943e4f049420cd30f37e95345ed589071eb480"
   }
  }
 },
 "nbformat": 4,
 "nbformat_minor": 2
}

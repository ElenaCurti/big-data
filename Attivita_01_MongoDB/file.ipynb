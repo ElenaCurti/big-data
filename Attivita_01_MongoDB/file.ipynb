{
 "cells": [
  {
   "cell_type": "markdown",
   "metadata": {},
   "source": [
    "# Applicazione Python \"Premi Nobel\"\n",
    "\n",
    "Attività scelta: 3. MongoDB Usecase e applicazione Python <br>\n",
    "Progetto realizzato da Elena Curti (matricola: 146539 <mark>FORSE DA CAMBIARE?</mark>) con <mark> Python 3.11.0 (installato) oppure Python 3.9.13 (anaconda) ?\n",
    "\n",
    "Ho usato i seguenti file JSON pubblici: <br>\n",
    "    <ul> \n",
    "      <li> nobelPrizes.json: https://masterdataapi.nobelprize.org/2.1/nobelPrizes?offset=0&limit=664 </li>\n",
    "      <li> laureates.json: https://masterdataapi.nobelprize.org/2.1/laureates?offset=0&limit=981 </li>\n",
    "    </ul>\n",
    "Essi contengono informazioni sui premi Nobel ed i relativi vincitori.\n",
    "\n",
    "## Documentazione \n",
    "Documentazione dei dataset: https://app.swaggerhub.com/apis/NobelMedia/NobelMasterData/2.1\n",
    "\n",
    "## File con i premi Nobel\n",
    "Il file <i>JSON_Files/modificati/nobelPrizes2.json</i> contiene l'elenco dei premi Nobel, con la seguente struttura d'esempio:"
   ]
  },
  {
   "cell_type": "markdown",
   "metadata": {},
   "source": [
    "```\n",
    "{\n",
    "    \"awardYear\": 2021,\n",
    "    \"category\": \"Economic Sciences\",\n",
    "    \"categoryFullName\": \"The Sveriges Riksbank Prize in Economic Sciences in Memory of Alfred Nobel\",\n",
    "    \"dateAwarded\": \"2021-10-11\",\n",
    "    \"topMotivation\": \"for contributions ...\",\n",
    "    \"prizeAmount\": 10000000,\n",
    "    \"prizeAmountAdjusted\": 10000000,\n",
    "    \"laureates\": [\n",
    "        {\n",
    "            \"id\": \"1007\",\n",
    "            \"knownName\": \"David Card\", // Solo per le persone\n",
    "            \"orgName\": \"Institute of International Law\", // Solo per le organizzazioni\n",
    "            \"portion\": \"1/2\",\n",
    "            \"sortOrder\": \"1\",\n",
    "            \"motivation\": \"for his empirical contributions to labour economics\"\n",
    "        },\n",
    "        { ... }\n",
    "    ]\n",
    "}\n",
    "```"
   ]
  },
  {
   "cell_type": "markdown",
   "metadata": {},
   "source": [
    "### Modifiche effettuate\n",
    "Rispetto al file JSON originale (contenuto in <i>JSON_Files/originali/nobelPrizes.json</i>): \n",
    "<ul>\n",
    "    <li> Ho rimosso i sottoalberi \"/link\" e \"/meta\" perchè contenenti informazioni non inerenti ai premi Nobel. <br></li>\n",
    "    <li> \n",
    "        Ho rimosso la traduzione di alcuni campi. La struttura originale di tali campi era la seguente: "
   ]
  },
  {
   "cell_type": "markdown",
   "metadata": {},
   "source": [
    "```\n",
    "\"nome\": {\n",
    "    \"en\": \"termine_inglese\",\n",
    "    \"no\": \"termine_svedese\",\n",
    "    \"se\": \"termine_norvegese\"\n",
    "}\n",
    "\n",
    "```"
   ]
  },
  {
   "cell_type": "markdown",
   "metadata": {},
   "source": [
    "<ul> \n",
    "<li style=\"list-style-type: none; \">\n",
    "    Ho deciso di lasciare solo il termine inglese, trasformando quindi i campi in formato testuale. <br> \n",
    "    Ho eseguito questa modifica per i campi: \"category\", \"categoryFullName\", \"laureates.knownName\" e \"laureates.motivation\".\n",
    "</li>\n",
    "<li> Ho trasformato \"awardYear\" in un campo intero (originariamente testuale)</li>\n",
    "<li> Ho rimosso i campi \"laureates.fullName\" e \"laureates.nativeName\" (il motivo è spiegato in seguito) </li>\n",
    "</ul>"
   ]
  },
  {
   "cell_type": "markdown",
   "metadata": {},
   "source": [
    "## File con i vincitori\n",
    "Il file <i>JSON_Files/modificati/laureates2.json</i> contiene l'elenco dei vincitori dei premi Nobel, con la seguente struttura d'esempio:"
   ]
  },
  {
   "cell_type": "markdown",
   "metadata": {},
   "source": [
    "```\n",
    "// Per le persone\n",
    "{\n",
    "    \"id\": \"102\",\n",
    "    \"knownName\": \"Aage N. Bohr\",\n",
    "    \"givenName\": \"Aage N.\",\n",
    "    \"familyName\": \"Bohr\",\n",
    "    \"fullName\": \"Aage Niels Bohr\",\n",
    "    \"gender\": \"male\",\n",
    "    \"birth\": {\n",
    "        \"date\": \"1922-06-19\",\n",
    "        \"place\": {\n",
    "            \"cityNow\": \"Copenhagen\",\n",
    "            \"countryNow\": \"Denmark\"\n",
    "        }\n",
    "    },\n",
    "    \"death\": {\n",
    "        \"date\": \"2009-09-08\",\n",
    "        \"place\": {\n",
    "            \"cityNow\": \"Copenhagen\",\n",
    "            \"countryNow\": \"Denmark\"\n",
    "        }\n",
    "    },\n",
    "    \"wikipedia\": \"https://en.wikipedia.org/wiki/Aage_Bohr\"\n",
    "} \n",
    "\n",
    "// Per le organizzazioni\n",
    "{\n",
    "    \"id\": \"537\",\n",
    "    \"orgName\": \"Amnesty International\",\n",
    "    \"nativeName\": \"Amnesty International\",\n",
    "    \"founded\": {\n",
    "        \"date\": \"1961-00-00\",\n",
    "        \"place\": {\n",
    "            \"cityNow\": \"London\",\n",
    "            \"countryNow\": \"United Kingdom\"\n",
    "        }\n",
    "    },\n",
    "    \"wikipedia\": \"https://en.wikipedia.org/wiki/Amnesty_International\"\n",
    "}\n",
    "```"
   ]
  },
  {
   "cell_type": "markdown",
   "metadata": {},
   "source": [
    "### Modifiche effettuate\n",
    "Rispetto al file JSON originale (contenuto in <i>JSON_Files/originali/laureates.json</i>): \n",
    "<ul>\n",
    "    <li>  \n",
    "        Ho rimosso i sottoalberi \"/link\" e \"/meta\" perchè contenenti informazioni non inerenti ai vincitori.\n",
    "    </li>\n",
    "    <li> \n",
    "        Come prima, ho rimosso la traduzione svedese e norvegese dei seguenti campi (lasciando solo quella inglese): \"knownName\", \"givenName\", \"givenName\", \"fullName\", \"cityNow\", \"countryNow\", \"orgName\"\n",
    "    </li>\n",
    "    <li>\n",
    "        Ho modificato i campi \"birth.place\", \"death.place\" e \"founded.place\" rimuovendo i sotto-campi \"city\", \"country\", \"continent\" e \"locationString\". In questo modo ho semplificato la struttura del file, rimuovendo informazioni molto specifiche sui luoghi geografici e non inerenti al vincitore del premio.\n",
    "    </li>\n",
    "    <li> Ho rimosso il campo \"nobelPrizes\", contenente l'elenco dei premi Nobel vinti dalla persona/organizzazione, perchè già memorizzati nel file nobelPrizes2.json.\n",
    "</ul>"
   ]
  },
  {
   "cell_type": "markdown",
   "metadata": {},
   "source": [
    "## Struttura delle Collection\n",
    "Nelle interrogazioni proposte nell'applicazione, ho dato la possibilità all'utente di scegliere se visionare i vincitori dei premi in modo sintetico (solo il nome) o dettagliato (tutti i campi). Quindi, ho deciso di non unire i file laureates2.json e nobelPrizes2.json, ma di tenerli distinti. Ho deciso, inoltre, di lasciare in nobelPrizes2.json solo i campi \"laureates.knownName\" e \"laureates.orgName\", rimuovendo quindi fullName e nativeName. <br>\n",
    "<mark> DA FARE </mark>\n",
    "ho inserito i seguenti indici perche ... <br>"
   ]
  },
  {
   "cell_type": "markdown",
   "metadata": {},
   "source": [
    "## Applicazione"
   ]
  },
  {
   "cell_type": "markdown",
   "metadata": {},
   "source": [
    "<mark> Creare il database e importare i file, inserire gli indici, ... "
   ]
  },
  {
   "cell_type": "code",
   "execution_count": 26,
   "metadata": {},
   "outputs": [],
   "source": [
    "# *************************************************\n",
    "# Configurazioni:\n",
    "path_cartella_file_json = 'C:\\\\Users\\\\utente\\\\Desktop\\\\JSON_Nobel\\\\'\n",
    "# *************************************************"
   ]
  },
  {
   "cell_type": "markdown",
   "metadata": {},
   "source": [
    "<mark> CAMBIA I NOMI DEI FILE DELLE COSTATI"
   ]
  },
  {
   "cell_type": "code",
   "execution_count": 42,
   "metadata": {},
   "outputs": [
    {
     "name": "stdout",
     "output_type": "stream",
     "text": [
      "Database inizializzato correttamente. Eseguire l'applicazione...\n"
     ]
    }
   ],
   "source": [
    "import json\n",
    "from pymongo import MongoClient\n",
    "\n",
    "def carica_dati(nomeFile, collection):\n",
    "    ''' Funzione che carica il file json nella collection. '''\n",
    "    collection.drop()\n",
    "    with open(path_cartella_file_json+nomeFile, encoding='utf8') as file:\n",
    "        file_data = json.load(file)\n",
    "    collection.insert_many(file_data) \n",
    "\n",
    "\n",
    "# Costanti\n",
    "FILE_LAUREATES = \"desktop_laureates2.json\"\n",
    "FILE_NOBEL_PRICES = \"desktop_nobelPrizes2.json\"\n",
    "\n",
    "# Inizializzazione del database\n",
    "myclient = MongoClient(\"mongodb://localhost:27017/\")\n",
    "db = myclient[\"premi_nobel\"]\n",
    "db_laureates2 = db[\"laureates2\"]\n",
    "db_nobelPrices2 = db[\"nobelPrizes2\"]\n",
    "\n",
    "carica_dati(FILE_LAUREATES, db_laureates2)\n",
    "carica_dati(FILE_NOBEL_PRICES, db_nobelPrices2)\n",
    "\n",
    "print(\"Database inizializzato correttamente. Eseguire l'applicazione...\")"
   ]
  },
  {
   "cell_type": "code",
   "execution_count": null,
   "metadata": {},
   "outputs": [],
   "source": [
    "from pprint import pprint\n",
    "from pymongo import MongoClient\n",
    "\n",
    "# connessione al database\n",
    "client = MongoClient('localhost', 27017)\n",
    "db = client[nomeDatabase]\n",
    "reviews = db.laureates2\n",
    "\n",
    "\n",
    "continuare = True\n",
    "while(continuare):\n",
    "    print ('********************')\n",
    "    print ('1 -- Option 1' )\n",
    "    print ('2 -- Option 2' )\n",
    "    print ('3 -- Option 3' )\n",
    "    print ('0 -- Exit' )\n",
    "    option = input('Enter your choice: ')\n",
    "\n",
    "    #Check what choice was entered and act accordingly\n",
    "    if option == \"0\":\n",
    "        print(\"Applicazione terminata\")\n",
    "        continuare = False\n",
    "    elif option == \"1\":\n",
    "        \n",
    "        print(\"Hai scelto: 1\")\n",
    "        pprint(reviews.find_one({\"knownName\":\"Alfonso García Robles\"}))\n",
    "\n",
    "    elif option == \"2\":\n",
    "        print(\"Hai scelto: 2\")\n",
    "    elif option == \"Hai scelto: 3\":\n",
    "        print(\"3\")\n",
    "    else:\n",
    "        print('Invalid option. Please enter a number between 1 and 4.')"
   ]
  }
 ],
 "metadata": {
  "kernelspec": {
   "display_name": "Python 3.9.13 ('base')",
   "language": "python",
   "name": "python3"
  },
  "language_info": {
   "codemirror_mode": {
    "name": "ipython",
    "version": 3
   },
   "file_extension": ".py",
   "mimetype": "text/x-python",
   "name": "python",
   "nbconvert_exporter": "python",
   "pygments_lexer": "ipython3",
   "version": "3.9.13"
  },
  "orig_nbformat": 4,
  "vscode": {
   "interpreter": {
    "hash": "e22643f84482d14816e82b9220943e4f049420cd30f37e95345ed589071eb480"
   }
  }
 },
 "nbformat": 4,
 "nbformat_minor": 2
}

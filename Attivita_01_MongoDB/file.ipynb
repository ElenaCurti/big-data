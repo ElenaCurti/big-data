{
 "cells": [
  {
   "cell_type": "markdown",
   "metadata": {},
   "source": [
    "# Applicazione Python \"Premi Nobel\"\n",
    "\n",
    "Attività scelta: 3. MongoDB Usecase e applicazione Python <br>\n",
    "Progetto realizzato da Elena Curti (matricola: 146539 <mark>FORSE DA CAMBIARE?</mark>) con <mark> Python 3.11.0 (installato) oppure Python 3.9.13 (anaconda) ?\n",
    "\n",
    "Ho usato i seguenti file JSON pubblici: <br>\n",
    "    <ul> \n",
    "      <li> nobelPrizes.json: https://masterdataapi.nobelprize.org/2.1/nobelPrizes?offset=0&limit=664 </li>\n",
    "      <li> laureates.json: https://masterdataapi.nobelprize.org/2.1/laureates?offset=0&limit=981 </li>\n",
    "    </ul>\n",
    "Essi contengono informazioni sui premi Nobel ed i relativi vincitori.\n",
    "\n",
    "## Documentazione \n",
    "Documentazione dei dataset: https://app.swaggerhub.com/apis/NobelMedia/NobelMasterData/2.1\n",
    "\n",
    "## File con i premi Nobel\n",
    "Il file <i>JSON_Files/modificati/nobelPrizes2.json</i> contiene l'elenco dei premi Nobel, con la seguente struttura d'esempio:"
   ]
  },
  {
   "cell_type": "markdown",
   "metadata": {},
   "source": [
    "```\n",
    "{\n",
    "    \"awardYear\": 2021,\n",
    "    \"category\": \"Economic Sciences\",\n",
    "    \"categoryFullName\": \"The Sveriges Riksbank Prize in Economic Sciences in Memory of Alfred Nobel\",\n",
    "    \"dateAwarded\": \"2021-10-11\",\n",
    "    \"topMotivation\": \"for contributions ...\",\n",
    "    \"prizeAmount\": 10000000,\n",
    "    \"prizeAmountAdjusted\": 10000000,\n",
    "    \"laureates\": [\n",
    "        {\n",
    "            \"id\": \"1007\",\n",
    "            \"knownName\": \"David Card\",\n",
    "            \"fullName\": \"David Card\",\n",
    "            \"portion\": \"1/2\",\n",
    "            \"sortOrder\": \"1\",\n",
    "            \"motivation\": \"for his empirical contributions to labour economics\"\n",
    "        },\n",
    "        { ... }\n",
    "    ]\n",
    "}\n",
    "```"
   ]
  },
  {
   "cell_type": "markdown",
   "metadata": {},
   "source": [
    "### Modifiche effettuate\n",
    "Rispetto al file JSON originale (contenuto in <i>JSON_Files/originali/nobelPrizes.json</i>): \n",
    "<ul>\n",
    "    <li> Ho rimosso i sottoalberi \"/link\" e \"/meta\" perchè contenenti informazioni non inerenti ai premi Nobel. <br></li>\n",
    "    <li> \n",
    "        Ho rimosso la traduzione di alcuni campi. Per esempio, la struttura originale di \"category\" è la seguente: "
   ]
  },
  {
   "cell_type": "markdown",
   "metadata": {},
   "source": [
    "```\n",
    "\"category\": {\n",
    "    \"en\": \"termine_inglese\",\n",
    "    \"no\": \"termine_svedese\",\n",
    "    \"se\": \"termine_norvegese\"\n",
    "}\n",
    "\n",
    "```"
   ]
  },
  {
   "cell_type": "markdown",
   "metadata": {},
   "source": [
    "<ul> \n",
    "<li style=\"list-style-type: none; \">\n",
    "    Ho deciso di lasciare solo il termine inglese, trasformando quindi i campi in campi testuali. <br> \n",
    "    Ho eseguito questa modifica per i campi: \"category\", \"categoryFullName\", \"laureates.knownName\", \"laureates.fullName\", \"laureates.motivation\"\n",
    "</li>\n",
    "<li> Ho trasformato \"awardYear\" in un campo intero (originariamente testuale)</li>\n",
    "</ul>"
   ]
  },
  {
   "cell_type": "markdown",
   "metadata": {},
   "source": [
    "## File con i vincitori\n",
    "Il file <i>JSON_Files/modificati/laureates2.json</i> contiene l'elenco dei vincitori dei premi Nobel, con la seguente struttura d'esempio:"
   ]
  },
  {
   "cell_type": "markdown",
   "metadata": {},
   "source": [
    "```\n",
    "// Per le persone\n",
    "{\n",
    "    \"id\": \"102\",\n",
    "    \"knownName\": \"Aage N. Bohr\",\n",
    "    \"givenName\": \"Aage N.\",\n",
    "    \"familyName\": \"Bohr\",\n",
    "    \"fullName\": \"Aage Niels Bohr\",\n",
    "    \"gender\": \"male\",\n",
    "    \"birth\": {\n",
    "        \"date\": \"1922-06-19\",\n",
    "        \"place\": {\n",
    "            \"cityNow\": \"Copenhagen\",\n",
    "            \"countryNow\": \"Denmark\"\n",
    "        }\n",
    "    },\n",
    "    \"death\": {\n",
    "        \"date\": \"2009-09-08\",\n",
    "        \"place\": {\n",
    "            \"cityNow\": \"Copenhagen\",\n",
    "            \"countryNow\": \"Denmark\"\n",
    "        }\n",
    "    },\n",
    "    \"wikipedia\": \"https://en.wikipedia.org/wiki/Aage_Bohr\"\n",
    "} \n",
    "// Per le organizzazioni\n",
    "{\n",
    "    \"id\": \"537\",\n",
    "    \"orgName\": \"Amnesty International\",\n",
    "    \"nativeName\": \"Amnesty International\",\n",
    "    \"founded\": {\n",
    "        \"date\": \"1961-00-00\",\n",
    "        \"place\": {\n",
    "            \"cityNow\": \"London\",\n",
    "            \"countryNow\": \"United Kingdom\"\n",
    "        }\n",
    "    },\n",
    "    \"wikipedia\": \"https://en.wikipedia.org/wiki/Amnesty_International\"\n",
    "}\n",
    "```"
   ]
  },
  {
   "cell_type": "markdown",
   "metadata": {},
   "source": [
    "### Modifiche effettuate\n",
    "Rispetto al file JSON originale (contenuto in <i>JSON_Files/originali/laureates.json</i>): \n",
    "<ul>\n",
    "    <li> <mark> ARRIVATA QUI</li>\n",
    "</ul>"
   ]
  },
  {
   "cell_type": "markdown",
   "metadata": {},
   "source": [
    "## Struttura\n",
    "<mark> da scrivere meglio </mark> <br>\n",
    "I file hanno in comune i campi id. <br>\n",
    "ho deciso di lasciare fullName in nobelsPrizes.JSON perchè ...<br>\n",
    "\n",
    "Ho integrato i file perchè<br>\n",
    "ho inserito i seguenti indici perche ... <br>"
   ]
  },
  {
   "cell_type": "markdown",
   "metadata": {},
   "source": [
    "## Applicazione"
   ]
  },
  {
   "cell_type": "code",
   "execution_count": 6,
   "metadata": {},
   "outputs": [
    {
     "name": "stdout",
     "output_type": "stream",
     "text": [
      "{'_id': ObjectId('6367b48bd22cfa7c999abf94'), 'id': '544', 'knownName': 'Alfonso García Robles', 'givenName': 'Alfonso', 'familyName': 'García Robles', 'fullName': 'Alfonso García Robles', 'gender': 'male', 'birth': {'date': '1911-03-20', 'place': {'cityNow': 'Zamora', 'countryNow': 'Mexico'}}, 'death': {'date': '1991-09-02', 'place': {'cityNow': 'Mexico City', 'countryNow': 'Mexico'}}, 'wikipedia': 'https://en.wikipedia.org/wiki/Alfonso_García_Robles'}\n"
     ]
    }
   ],
   "source": [
    "from pymongo import MongoClient\n",
    "\n",
    "# connect to local server\n",
    "client = MongoClient('localhost', 27017)\n",
    "db = client.admin\n",
    "reviews = db.laureates2\n",
    "\n",
    "\n",
    "print(reviews.find_one({\"knownName\":\"Alfonso García Robles\"}))"
   ]
  }
 ],
 "metadata": {
  "kernelspec": {
   "display_name": "Python 3.9.13 ('base')",
   "language": "python",
   "name": "python3"
  },
  "language_info": {
   "codemirror_mode": {
    "name": "ipython",
    "version": 3
   },
   "file_extension": ".py",
   "mimetype": "text/x-python",
   "name": "python",
   "nbconvert_exporter": "python",
   "pygments_lexer": "ipython3",
   "version": "3.9.13"
  },
  "orig_nbformat": 4,
  "vscode": {
   "interpreter": {
    "hash": "e22643f84482d14816e82b9220943e4f049420cd30f37e95345ed589071eb480"
   }
  }
 },
 "nbformat": 4,
 "nbformat_minor": 2
}

{
 "cells": [
  {
   "cell_type": "markdown",
   "metadata": {},
   "source": [
    "# Applicazione Python \"Premi Nobel\"\n",
    "\n",
    "Attività scelta: 3. MongoDB Usecase e applicazione Python <br>\n",
    "Progetto realizzato da Elena Curti (matricola: 146539 <mark>FORSE DA CAMBIARE?</mark>) con <mark> Python 3.11.0 (installato) oppure Python 3.9.13 (anaconda) ?\n",
    "\n",
    "Ho usato i seguenti file JSON pubblici: <br>\n",
    "    <ul> \n",
    "      <li> nobelPrizes.json: https://masterdataapi.nobelprize.org/2.1/nobelPrizes?offset=0&limit=664 </li>\n",
    "      <li> laureates.json: https://masterdataapi.nobelprize.org/2.1/laureates?offset=0&limit=981 </li>\n",
    "    </ul>\n",
    "Essi contengono informazioni sui premi Nobel ed i relativi vincitori.\n",
    "\n",
    "## Documentazione \n",
    "Documentazione dei dataset: https://app.swaggerhub.com/apis/NobelMedia/NobelMasterData/2.1"
   ]
  },
  {
   "cell_type": "markdown",
   "metadata": {},
   "source": [
    "## File con i premi Nobel\n",
    "Il file <i>JSON_Files/modificati/nobelPrizes2.json</i> contiene l'elenco dei premi Nobel, con la seguente struttura d'esempio:"
   ]
  },
  {
   "cell_type": "markdown",
   "metadata": {},
   "source": [
    "```\n",
    "{\n",
    "    \"awardYear\": 2021,\n",
    "    \"category\": \"Economic Sciences\",\n",
    "    \"categoryFullName\": \"The Sveriges Riksbank Prize in Economic Sciences in Memory of Alfred Nobel\",\n",
    "    \"dateAwarded\": \"2021-10-11\",\n",
    "    \"topMotivation\": \"for contributions ...\",\n",
    "    \"prizeAmount\": 10000000,\n",
    "    \"laureates\": [\n",
    "        {\n",
    "            \"id\": \"1007\",\n",
    "            \"knownName\": \"David Card\", // Solo per le persone\n",
    "            \"orgName\": \"Institute of International Law\", // Solo per le organizzazioni\n",
    "            \"portion\": \"1/2\",\n",
    "            \"sortOrder\": \"1\",\n",
    "            \"motivation\": \"for his empirical contributions to labour economics\"\n",
    "        },\n",
    "        { ... }\n",
    "    ]\n",
    "}\n",
    "```"
   ]
  },
  {
   "cell_type": "markdown",
   "metadata": {},
   "source": [
    "### Modifiche effettuate\n",
    "Rispetto al file JSON originale (contenuto in <i>JSON_Files/originali/nobelPrizes.json</i>): \n",
    "<ul>\n",
    "    <li> Ho rimosso i sottoalberi \"/link\" e \"/meta\" perchè contenenti informazioni non inerenti ai premi Nobel. <br></li>\n",
    "    <li> \n",
    "        Ho rimosso la traduzione di alcuni campi. La struttura originale di tali campi era la seguente: "
   ]
  },
  {
   "cell_type": "markdown",
   "metadata": {},
   "source": [
    "```\n",
    "\"nome\": {\n",
    "    \"en\": \"termine_inglese\",\n",
    "    \"no\": \"termine_svedese\",\n",
    "    \"se\": \"termine_norvegese\"\n",
    "}\n",
    "\n",
    "```"
   ]
  },
  {
   "cell_type": "markdown",
   "metadata": {},
   "source": [
    "<ul> \n",
    "<li style=\"list-style-type: none; \">\n",
    "    Ho deciso di lasciare solo il termine inglese, trasformando quindi i campi in formato testuale. <br> \n",
    "    Ho eseguito questa modifica per i campi: \"category\", \"categoryFullName\", \"laureates.knownName\" e \"laureates.motivation\".\n",
    "</li>\n",
    "<li> Ho trasformato \"awardYear\" in un campo intero (originariamente testuale)</li>\n",
    "<li> Ho rimosso i campi \"laureates.fullName\" e \"laureates.nativeName\" (il motivo è spiegato in seguito) </li>\n",
    "</ul>"
   ]
  },
  {
   "cell_type": "markdown",
   "metadata": {},
   "source": [
    "## File con i vincitori\n",
    "Il file <i>JSON_Files/modificati/laureates2.json</i> contiene l'elenco dei vincitori dei premi Nobel, con la seguente struttura d'esempio:"
   ]
  },
  {
   "cell_type": "markdown",
   "metadata": {},
   "source": [
    "```\n",
    "// Per le persone\n",
    "{\n",
    "    \"id\": \"102\",\n",
    "    \"knownName\": \"Aage N. Bohr\",\n",
    "    \"givenName\": \"Aage N.\",\n",
    "    \"familyName\": \"Bohr\",\n",
    "    \"fullName\": \"Aage Niels Bohr\",\n",
    "    \"gender\": \"male\",\n",
    "    \"birth\": {\n",
    "        \"date\": \"1922-06-19\",\n",
    "        \"place\": {\n",
    "            \"cityNow\": \"Copenhagen\",\n",
    "            \"countryNow\": \"Denmark\"\n",
    "        }\n",
    "    },\n",
    "    \"death\": {\n",
    "        \"date\": \"2009-09-08\",\n",
    "        \"place\": {\n",
    "            \"cityNow\": \"Copenhagen\",\n",
    "            \"countryNow\": \"Denmark\"\n",
    "        }\n",
    "    },\n",
    "    \"wikipedia\": \"https://en.wikipedia.org/wiki/Aage_Bohr\"\n",
    "} \n",
    "\n",
    "// Per le organizzazioni\n",
    "{\n",
    "    \"id\": \"537\",\n",
    "    \"orgName\": \"Amnesty International\",\n",
    "    \"nativeName\": \"Amnesty International\",\n",
    "    \"founded\": {\n",
    "        \"date\": \"1961-00-00\",\n",
    "        \"place\": {\n",
    "            \"cityNow\": \"London\",\n",
    "            \"countryNow\": \"United Kingdom\"\n",
    "        }\n",
    "    },\n",
    "    \"wikipedia\": \"https://en.wikipedia.org/wiki/Amnesty_International\"\n",
    "}\n",
    "```"
   ]
  },
  {
   "cell_type": "markdown",
   "metadata": {},
   "source": [
    "### Modifiche effettuate\n",
    "Rispetto al file JSON originale (contenuto in <i>JSON_Files/originali/laureates.json</i>): \n",
    "<ul>\n",
    "    <li>  \n",
    "        Ho rimosso i sottoalberi \"/link\" e \"/meta\" perchè contenenti informazioni non inerenti ai vincitori.\n",
    "    </li>\n",
    "    <li> \n",
    "        Come prima, ho rimosso la traduzione svedese e norvegese dei seguenti campi (lasciando solo quella inglese): \"knownName\", \"givenName\", \"givenName\", \"fullName\", \"cityNow\", \"countryNow\", \"orgName\"\n",
    "    </li>\n",
    "    <li>\n",
    "        Ho modificato i campi \"birth.place\", \"death.place\" e \"founded.place\" rimuovendo i sotto-campi \"city\", \"country\", \"continent\" e \"locationString\". In questo modo ho semplificato la struttura del file, rimuovendo informazioni molto specifiche sui luoghi geografici e non inerenti al vincitore del premio.\n",
    "    </li>\n",
    "    <li> Ho rimosso il campo \"nobelPrizes\", contenente l'elenco dei premi Nobel vinti dalla persona/organizzazione, perchè già memorizzati nel file nobelPrizes2.json.\n",
    "</ul>"
   ]
  },
  {
   "cell_type": "markdown",
   "metadata": {},
   "source": [
    "## Struttura delle Collection\n",
    "Nelle interrogazioni proposte nell'applicazione, ho dato la possibilità all'utente di scegliere se visionare i vincitori dei premi in modo sintetico (solo il nome) o dettagliato (tutti i campi). Quindi, ho deciso di non unire i file laureates2.json e nobelPrizes2.json, ma di tenerli distinti. Ho deciso, inoltre, di lasciare in nobelPrizes2.json solo i campi \"laureates.knownName\" e \"laureates.orgName\", rimuovendo quindi fullName e nativeName. <br>\n",
    "<mark> DA FARE </mark>\n",
    "ho inserito i seguenti indici perche ... <br>"
   ]
  },
  {
   "cell_type": "markdown",
   "metadata": {},
   "source": [
    "## Applicazione\n",
    "Eseguire il codice nelle celle, seguendo l'ordine proposto. <br>"
   ]
  },
  {
   "cell_type": "markdown",
   "metadata": {},
   "source": [
    "### Operazioni iniziali e definizione di funzioni"
   ]
  },
  {
   "cell_type": "markdown",
   "metadata": {
    "tags": []
   },
   "source": [
    "Inserire nella seguente variabile il path della cartella con i file JSON:"
   ]
  },
  {
   "cell_type": "code",
   "execution_count": 2,
   "metadata": {},
   "outputs": [],
   "source": [
    "path_cartella_file_json = 'C:\\\\Users\\\\utente\\\\Desktop\\\\JSON_Nobel\\\\'"
   ]
  },
  {
   "cell_type": "markdown",
   "metadata": {},
   "source": [
    "<mark> CAMBIA I NOMI DEI FILE DELLE COSTATI"
   ]
  },
  {
   "cell_type": "markdown",
   "metadata": {},
   "source": [
    "Il seguente codice crea ed inizializza un database chiamato <i>premi_nobel</i>, formato dalle due collections <i>laureates2</i> e <i>nobelPrizes2</i> (contenenti i dati memorizzati nei relativi file JSON). <br>\n",
    "<b>NB: Eseguedo questo codice, gli eventuali dati memorizzati nelle collections e non presenti nei file JSON saranno eliminati. </b> Eseguire quindi il codice nel primo avvio dell'applicazione o quando si vuole ripristinare il database."
   ]
  },
  {
   "cell_type": "code",
   "execution_count": 37,
   "metadata": {},
   "outputs": [
    {
     "name": "stdout",
     "output_type": "stream",
     "text": [
      "Database inizializzato correttamente\n"
     ]
    }
   ],
   "source": [
    "import json, sys\n",
    "from pymongo import MongoClient\n",
    "\n",
    "def carica_dati(nomeFile, collection):\n",
    "    ''' Funzione che carica il file json nella collection. '''\n",
    "    collection.drop()\n",
    "    try:\n",
    "        with open(path_cartella_file_json+nomeFile, encoding='utf8') as file:\n",
    "            file_data = json.load(file)\n",
    "    except FileNotFoundError:\n",
    "        print(\"Path inserito non valido! Assicurarsi di aver messo / o \\\\\\\\ alla fine.\", file=sys.stderr)\n",
    "        return False\n",
    "    collection.insert_many(file_data) \n",
    "    return True\n",
    "\n",
    "# Costanti\n",
    "FILE_LAUREATES = \"desktop_laureates2.json\"\n",
    "FILE_NOBEL_PRICES = \"desktop_nobelPrizes2.json\"\n",
    "LOOKUP_JOIN_COLLECTIONS = { \n",
    "            '$lookup': { \n",
    "                \"localField\": \"laureates.id\",\n",
    "                \"from\": \"laureates2\",\n",
    "                \"foreignField\": \"id\", \n",
    "                \"as\": \"laureates\" \n",
    "            } \n",
    "        }\n",
    "\n",
    "# Inizializzazione del database\n",
    "myclient = MongoClient(\"mongodb://localhost:27017/\")\n",
    "db = myclient[\"premi_nobel\"]\n",
    "collection_laureates2 = db[\"laureates2\"]\n",
    "collection_nobelPrices2 = db[\"nobelPrizes2\"]\n",
    "\n",
    "if (carica_dati(FILE_LAUREATES, collection_laureates2) and carica_dati(FILE_NOBEL_PRICES, collection_nobelPrices2)):\n",
    "    print(\"Database inizializzato correttamente\")"
   ]
  },
  {
   "cell_type": "markdown",
   "metadata": {},
   "source": [
    "<mark> DA INSERIRE GLI ALTRI CAMPI SOTTO laureates (portion, sortOrder, motivation)"
   ]
  },
  {
   "cell_type": "code",
   "execution_count": 38,
   "metadata": {},
   "outputs": [],
   "source": [
    "def print_nobels(nobel_list, stampa_dettagli):\n",
    "    \"\"\"Funzione che stampa il nobel dato in input (in modo dettagliato se stampa_dettagli e' true).\"\"\"\n",
    "    def get_info_event(dizionario):\n",
    "        ret_str = \"\"\n",
    "        if \"date\" in dizionario:\n",
    "            ret_str += dizionario[\"date\"]\n",
    "        if \"place\" in dizionario:\n",
    "            ret_str += \" a \"+ dizionario[\"place\"].get(\"cityNow\", \"\") + \", \" +dizionario[\"place\"].get(\"countryNow\", \"\")\n",
    "        return ret_str\n",
    "    \n",
    "    def print_nobel(nobel):\n",
    "        print(\"Anno: \" + str(nobel.get('awardYear', \"-\")))\n",
    "        print(\"Categoria: \" + str(nobel.get('category', \"-\")) + \" - anche detta \" + str(nobel.get('categoryFullName', \"\")))\n",
    "        print(\"Data: \" + str(nobel.get('dateAwarded', \"-\")))\n",
    "        print(\"Motivazione: \" + str(nobel.get('topMotivation', \"-\")))\n",
    "        print(\"Importo del premio (in corone svedesi): \" + str(nobel.get('prizeAmount', \"-\")))\n",
    "        laureates = nobel.get('laureates', [])\n",
    "        for l in laureates:\n",
    "            if \"knownName\" in l:\n",
    "                print(\"Persona: \" + str(l[\"knownName\"]))\n",
    "            if \"orgName\" in l:\n",
    "                print(\"Organizzazione: \" + str(l[\"orgName\"]))\n",
    "\n",
    "            if not stampa_dettagli:\n",
    "                continue\n",
    "            # Dettagli persone\n",
    "            if \"givenName\" in l or \"familyName\" in l or \"fullName\" in l:\n",
    "                print(\"\\tAltri nomi: \" + str(l.get(\"fullName\", '')) + \" - \" + str(l.get(\"givenName\", '')) +\" - \" + str(l.get(\"familyName\", '')))\n",
    "            if \"gender\" in l:\n",
    "                print(\"\\tSesso: \" + str(l[\"gender\"]))\n",
    "            if \"birth\" in l:\n",
    "                print(\"\\tNato/a il \" + get_info_event(l[\"birth\"]))\n",
    "            if \"death\" in l:\n",
    "                print(\"\\tMorto/a il \" + get_info_event(l[\"death\"]))\n",
    "            \n",
    "            # Dettagli organizzazioni\n",
    "            if \"nativeName\" in l:\n",
    "                print(\"\\tAltri nomi: \" + str(l[\"nativeName\"]))\n",
    "            if \"founded\" in l:\n",
    "                print(\"\\tFondato/a il \" + get_info_event(l[\"founded\"]))\n",
    "            \n",
    "            # Dettagli comuni\n",
    "            if \"wikipedia\" in l:\n",
    "                print(\"\\tWikipedia: \" + str(l[\"wikipedia\"]))\n",
    "    \n",
    "    \n",
    "    for nobel in nobel_list:\n",
    "        print(\"*************\")\n",
    "        print_nobel(nobel)\n"
   ]
  },
  {
   "cell_type": "markdown",
   "metadata": {},
   "source": [
    "### Interrogazioni"
   ]
  },
  {
   "cell_type": "markdown",
   "metadata": {},
   "source": [
    "#### 1. Cercare tutti i vincitori dei premi Nobel di una categoria"
   ]
  },
  {
   "cell_type": "code",
   "execution_count": null,
   "metadata": {},
   "outputs": [],
   "source": [
    "print(\"Cercare tutti i vincitori dei premi Nobel di una categoria\")\n",
    "\n",
    "# Stampa delle categorie e richiesta degli input\n",
    "print(\"Quale categoria? \")\n",
    "lista_categorie = collection_nobelPrices2.distinct(\"category\") \n",
    "i = 0\n",
    "for cat in lista_categorie:\n",
    "    print(str(i)+ \" -- \" + cat)\n",
    "    i+=1\n",
    "num_categoria = int(input(\">> \"))\n",
    "stampa_dettagli = input(\"Stampare anche i dettagli dei vincitori (y/n)?\").lower()=='y'\n",
    "\n",
    "# Controllo dei dati in input\n",
    "try:\n",
    "    print(\"Scelta: \" + lista_categorie[num_categoria] + \" \"+(\"con\" if stampa_dettagli else \"senza\" ) + \" dettagli\")\n",
    "except IndexError:\n",
    "    print(\"Numero inserito non valido!\")\n",
    "    exit()\n",
    "\n",
    "# Interrogazione e stampa dei risultati\n",
    "lista_filtri = [{'$match': {\"category\":lista_categorie[num_categoria]}}]\n",
    "if stampa_dettagli:\n",
    "    lista_filtri += [LOOKUP_JOIN_COLLECTIONS]\n",
    "lista_nobel = collection_nobelPrices2.aggregate(lista_filtri)\n",
    "\n",
    "print_nobels(lista_nobel, stampa_dettagli)"
   ]
  },
  {
   "cell_type": "markdown",
   "metadata": {},
   "source": [
    "#### 2. Seconda interrogazione\n",
    "Stampare i primi 10 nobel in ordine di:\n",
    "1. Prize Amout\n",
    "2. data"
   ]
  },
  {
   "cell_type": "markdown",
   "metadata": {},
   "source": [
    "#### 3. Terza interrogazione\n",
    "Quanti Nobel sono stati vinti in tutte le categorie"
   ]
  },
  {
   "cell_type": "markdown",
   "metadata": {},
   "source": [
    "#### 4. Quarta interrogazione\n",
    "Con comandi non visti a lezione oppure persone che hanno vinto piu' di un nobel"
   ]
  },
  {
   "cell_type": "markdown",
   "metadata": {},
   "source": [
    "#### 5. Quinta interrogazione\n",
    "Con comandi non visti a lezione"
   ]
  },
  {
   "cell_type": "markdown",
   "metadata": {},
   "source": [
    "### Scritture e modifiche"
   ]
  },
  {
   "cell_type": "markdown",
   "metadata": {},
   "source": [
    "#### 1. Inserire un premio nobel ed eventualmente dati del laureates"
   ]
  },
  {
   "cell_type": "markdown",
   "metadata": {},
   "source": [
    "#### 2. Modifica/aggiunta di campi di un premio nobel"
   ]
  }
 ],
 "metadata": {
  "kernelspec": {
   "display_name": "Python 3.9.13 ('base')",
   "language": "python",
   "name": "python3"
  },
  "language_info": {
   "codemirror_mode": {
    "name": "ipython",
    "version": 3
   },
   "file_extension": ".py",
   "mimetype": "text/x-python",
   "name": "python",
   "nbconvert_exporter": "python",
   "pygments_lexer": "ipython3",
   "version": "3.9.13"
  },
  "orig_nbformat": 4,
  "vscode": {
   "interpreter": {
    "hash": "e22643f84482d14816e82b9220943e4f049420cd30f37e95345ed589071eb480"
   }
  }
 },
 "nbformat": 4,
 "nbformat_minor": 2
}

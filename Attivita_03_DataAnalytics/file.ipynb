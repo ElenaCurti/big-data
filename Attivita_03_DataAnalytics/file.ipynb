{
 "cells": [
  {
   "cell_type": "markdown",
   "metadata": {},
   "source": [
    "# Cambiamenti climatici"
   ]
  },
  {
   "cell_type": "markdown",
   "metadata": {},
   "source": [
    "## 1. Data collection\n",
    "I dati usati in questa applicazione si trovano nella cartella [data](applicazione/data/). \n",
    "<ul>\n",
    "    <li>In original si trovano i file originali trovati su internet</li>\n",
    "    <li>In modified si trovano i file \"processati\"</li>\n",
    "</ul>\n",
    "\n",
    "## Dati sulle temperature e sulle stazioni geografiche\n",
    "I file contenenti i dati relativi alle temperature ([temperatures.dat](applicazione/data/original/temperatures.dat)) e alle stazioni geografiche ([stations.inv](applicazione/data/original/stations.inv)) sono stati trovati sul sito [National Centers for Environmental Information](https://www.ncei.noaa.gov/). Sono scaricabili al seguente link: https://www.ncei.noaa.gov/pub/data/ghcn/v4/ghcnm.tavg.latest.qcu.tar.gz <br>\n",
    "\n",
    "\n",
    "## Dati sui Paesi\n",
    "I file contenenti informazioni sui Paesi sono stati trovati su due repository di github: <br>\n",
    "- [fips_to_iso_country_codes.csv](applicazione/data/original/fips_to_iso_country_codes.csv) trovato al seguente link: https://github.com/mysociety/gaze/blob/master/data/fips-10-4-to-iso-country-codes.csv <br>\n",
    "- [countries_info.csv](applicazione/data/original/countries_info.csv) trovato al seguente link https://github.com/lukes/ISO-3166-Countries-with-Regional-Codes/blob/master/all/all.csv <br>"
   ]
  },
  {
   "cell_type": "markdown",
   "metadata": {},
   "source": [
    "## 2. Data processing"
   ]
  },
  {
   "cell_type": "code",
   "execution_count": 29,
   "metadata": {},
   "outputs": [],
   "source": [
    "import pandas as pd\n",
    "import os\n",
    "\n",
    "DATA_FOLDER = \"applicazione\" + os.path.sep + \"data\" + os.path.sep\n",
    "DATA_ORIGINAL_FOLDER = DATA_FOLDER + \"original\"+ os.path.sep\n",
    "DATA_MODIFIED_FOLDER = DATA_FOLDER + \"modified\"+ os.path.sep\n",
    "\n",
    "def aggiungi_linea_iniziale(path_file1, path_file2, headers=\"-\"):\n",
    "    \"\"\"Funzione che inserisce nel file path_file2 una linea vuota e il contenuto del file path_file1 \"\"\"\n",
    "    with open(path_file1, 'r') as file, open(path_file2, 'a') as file2: \n",
    "        originalContent = file.read() \n",
    "        file.seek(0, 0) # Prima posizione            \n",
    "        file2.write(headers + \"\\n\")\n",
    "        file2.write(originalContent) \n",
    "\n",
    "def crea_file_csv(file_originale, file_modificato, list_width, headers=\"\"):\n",
    "    \"\"\"Funzione che crea un file CSV partendo da un Fixed Width Text File. \n",
    "    In input sono richiesti: \n",
    "    - Il path del file originale\n",
    "    - Il path del file CSV che verra' creat\n",
    "    - Lista delle lunghezze delle colonne di file_originale\"\"\"\n",
    "    if os.path.exists(file_modificato):\n",
    "        return\n",
    "    print(\"Creo file csv partendo da\",file_originale,\"...\")\n",
    "    file_tmp = file_originale + \"tmp\"\n",
    "    aggiungi_linea_iniziale(file_originale, file_tmp)\n",
    "    df = pd.read_fwf(file_tmp, widths=list_width)   \n",
    "    df.to_csv(file_modificato, index=False, header=False)\n",
    "    if headers != \"\":\n",
    "        aggiungi_linea_iniziale(file_modificato, file_modificato, headers)\n",
    "\n",
    "    os.remove(file_tmp)"
   ]
  },
  {
   "cell_type": "markdown",
   "metadata": {},
   "source": [
    "### Stazioni e temperature\n",
    "I file [stations.inv](applicazione/data/original/stations.inv) e [temperatures.dat](applicazione/data/original/temperatures.dat) trovati su internet sono Fixed Width Text File. Ho deciso di modificarli e convertirli in file CSV ([stations_created.csv](applicazione/data/modified/stations_created.csv), [tempetatures_created.csv](applicazione/data/modified/tempetatures_created.csv)) con la seguente struttura: <br>\n",
    "\n",
    "#### Stations file:\n",
    "\n",
    "\n"
   ]
  },
  {
   "cell_type": "code",
   "execution_count": 31,
   "metadata": {},
   "outputs": [
    {
     "name": "stdout",
     "output_type": "stream",
     "text": [
      "Creo file csv partendo da applicazione\\data\\original\\stations.inv ...\n",
      "Files creati correttamente!\n"
     ]
    }
   ],
   "source": [
    "# File con le stazioni\n",
    "FILE_ORIGINALE_STATIONS = DATA_ORIGINAL_FOLDER + \"stations.inv\"\n",
    "FILE_CSV_STATIONS = DATA_MODIFIED_FOLDER + \"stations_created.csv\"\n",
    "\n",
    "crea_file_csv(FILE_ORIGINALE_STATIONS, FILE_CSV_STATIONS, [11,9,10,7,31])\n",
    "\n",
    "# File con le temperature\n",
    "FILE_ORIGINALE_TEMPERATURES = DATA_ORIGINAL_FOLDER + \"temperatures.dat\"\n",
    "FILE_CSV_TEMPERATURES =DATA_MODIFIED_FOLDER + \"temperatures_created.csv\"\n",
    "\n",
    "list_width= [11,4,4]\n",
    "for _ in range(12):\n",
    "    list_width += [5,1,1,1]\n",
    "\n",
    "list_headers = [\"id\", \"year\",\"elem\"]\n",
    "for i in range(1,13):\n",
    "    list_headers += [\"month:\"+str(i)+\" value\",\"month:\"+str(i)+\" dm_flag\",\"month:\"+str(i)+\" qc_flag\",\"month:\"+str(i)+\" ds_flag\"]\n",
    "headers = \",\".join(list_headers)\n",
    "crea_file_csv(FILE_ORIGINALE_TEMPERATURES, FILE_CSV_TEMPERATURES, list_width, headers)\n",
    "\n",
    "print(\"Files creati correttamente!\")\n",
    "\n"
   ]
  }
 ],
 "metadata": {
  "kernelspec": {
   "display_name": "Python 3.11.0 64-bit",
   "language": "python",
   "name": "python3"
  },
  "language_info": {
   "codemirror_mode": {
    "name": "ipython",
    "version": 3
   },
   "file_extension": ".py",
   "mimetype": "text/x-python",
   "name": "python",
   "nbconvert_exporter": "python",
   "pygments_lexer": "ipython3",
   "version": "3.11.0"
  },
  "orig_nbformat": 4,
  "vscode": {
   "interpreter": {
    "hash": "a29d3b88d3d770f4c6b76b3f467a825cd9493448f3062cde152f1e267121f11d"
   }
  }
 },
 "nbformat": 4,
 "nbformat_minor": 2
}

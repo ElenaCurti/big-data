{
 "cells": [
  {
   "cell_type": "markdown",
   "metadata": {},
   "source": [
    "# Cambiamenti climatici"
   ]
  },
  {
   "cell_type": "markdown",
   "metadata": {},
   "source": [
    "## Requisiti:"
   ]
  },
  {
   "cell_type": "code",
   "execution_count": 12,
   "metadata": {},
   "outputs": [
    {
     "name": "stdout",
     "output_type": "stream",
     "text": [
      "Requirement already satisfied: pandas in c:\\users\\utente\\appdata\\local\\programs\\python\\python311\\lib\\site-packages (1.5.1)\n",
      "Requirement already satisfied: python-dateutil>=2.8.1 in c:\\users\\utente\\appdata\\local\\programs\\python\\python311\\lib\\site-packages (from pandas) (2.8.2)\n",
      "Requirement already satisfied: pytz>=2020.1 in c:\\users\\utente\\appdata\\local\\programs\\python\\python311\\lib\\site-packages (from pandas) (2022.6)\n",
      "Requirement already satisfied: numpy>=1.21.0 in c:\\users\\utente\\appdata\\local\\programs\\python\\python311\\lib\\site-packages (from pandas) (1.23.5)\n",
      "Requirement already satisfied: six>=1.5 in c:\\users\\utente\\appdata\\local\\programs\\python\\python311\\lib\\site-packages (from python-dateutil>=2.8.1->pandas) (1.16.0)\n"
     ]
    },
    {
     "name": "stderr",
     "output_type": "stream",
     "text": [
      "\n",
      "[notice] A new release of pip available: 22.3 -> 22.3.1\n",
      "[notice] To update, run: python.exe -m pip install --upgrade pip\n"
     ]
    },
    {
     "name": "stdout",
     "output_type": "stream",
     "text": [
      "Requirement already satisfied: tabulate in c:\\users\\utente\\appdata\\local\\programs\\python\\python311\\lib\\site-packages (0.9.0)\n"
     ]
    },
    {
     "name": "stderr",
     "output_type": "stream",
     "text": [
      "\n",
      "[notice] A new release of pip available: 22.3 -> 22.3.1\n",
      "[notice] To update, run: python.exe -m pip install --upgrade pip\n"
     ]
    }
   ],
   "source": [
    "!pip install pandas\n",
    "!pip install tabulate"
   ]
  },
  {
   "cell_type": "markdown",
   "metadata": {},
   "source": [
    "## 1. Data collection\n",
    "I dati usati in questa applicazione si trovano nella cartella [data](applicazione/data/). \n",
    "<ul>\n",
    "    <li>In original si trovano i file originali trovati su internet</li>\n",
    "    <li>In modified si trovano i file \"processati\"</li>\n",
    "</ul>\n",
    "\n",
    "## Dati sulle temperature e sulle stazioni geografiche\n",
    "I file contenenti i dati relativi alle temperature ([temperatures.dat](applicazione/data/original/temperatures.dat)) e alle stazioni geografiche ([stations.inv](applicazione/data/original/stations.inv)) sono stati trovati sul sito [National Centers for Environmental Information](https://www.ncei.noaa.gov/). Sono scaricabili al seguente link: https://www.ncei.noaa.gov/pub/data/ghcn/v4/ghcnm.tavg.latest.qcf.tar.gz <br>\n",
    "\n",
    "\n",
    "## Dati sui Paesi\n",
    "I file contenenti informazioni sui Paesi sono stati trovati su due repository di github: <br>\n",
    "- [fips_to_iso_country_codes.csv](applicazione/data/original/fips_to_iso_country_codes.csv) trovato al seguente link: https://github.com/mysociety/gaze/blob/master/data/fips-10-4-to-iso-country-codes.csv <br>\n",
    "- [countries_info.csv](applicazione/data/original/countries_info.csv) trovato al seguente link https://github.com/lukes/ISO-3166-Countries-with-Regional-Codes/blob/master/all/all.csv <br>"
   ]
  },
  {
   "cell_type": "markdown",
   "metadata": {},
   "source": [
    "## 2. Data processing"
   ]
  },
  {
   "cell_type": "code",
   "execution_count": 13,
   "metadata": {},
   "outputs": [],
   "source": [
    "import pandas as pd\n",
    "import os\n",
    "\n",
    "DATA_FOLDER = \"applicazione\" + os.path.sep + \"data\" + os.path.sep\n",
    "DATA_ORIGINAL_FOLDER = DATA_FOLDER + \"original\"+ os.path.sep\n",
    "DATA_MODIFIED_FOLDER = DATA_FOLDER + \"modified\"+ os.path.sep"
   ]
  },
  {
   "cell_type": "markdown",
   "metadata": {},
   "source": [
    "### Stazioni e temperature\n",
    "I file [stations.inv](applicazione/data/original/stations.inv) e [temperatures.dat](applicazione/data/original/temperatures.dat) trovati su internet sono Fixed Width Text File. Ho deciso di modificarli e convertirli in file CSV ([stations_created.csv](applicazione/data/modified/stations_created.csv), [tempetatures_created.csv](applicazione/data/modified/tempetatures_created.csv)). In questo modo creo due file CSV con i dati già \"puliti\" e pronti per essere letti. Inoltre, la funzione read_csv per leggere file CSV è molto più veloce di read_fwf per leggere file Fixed Width, quindi <mark> continua... </mark>\n",
    "<br>\n",
    "\n",
    "#### Stazioni\n",
    "Il file [stations_created.csv](applicazione/data/modified/stations_created.csv) ha la seguente struttura:\n",
    "|Campo| Significato|\n",
    "|:-|:-|\n",
    "|station_id| Codice identificativo della stazione. I primi due caratteri sono il codice FIPS del Paese|\n",
    "|latitude| Latitudine della stazione in gradi decimali|\n",
    "|longitude| Longitudine della stazione in gradi decimali|\n",
    "|station_elev| Altitudine della stazione in metri; <mark> FORSE NON E' COSI' il valore -999.0 indica un dato mancante|\n",
    "|station_name| Nome della stazione|\n",
    "|fips| Codice FIPS del Paese|\n",
    "\n",
    "Ho creato uno script per creare il file:"
   ]
  },
  {
   "cell_type": "code",
   "execution_count": 48,
   "metadata": {},
   "outputs": [
    {
     "name": "stdout",
     "output_type": "stream",
     "text": [
      "Creo file csv partendo da applicazione\\data\\original\\stations.inv ...\n",
      "File creato correttamente!\n"
     ]
    }
   ],
   "source": [
    "import calendar\n",
    "\n",
    "# File con le stazioni\n",
    "FILE_ORIGINALE_STATIONS = DATA_ORIGINAL_FOLDER + \"stations.inv\"\n",
    "FILE_CSV_STATIONS = DATA_MODIFIED_FOLDER + \"stations_created.csv\"\n",
    "HEADERS_STATIONS = [\"station_id\",\"latitude\",\"longitude\",\"station_elev\",\"station_name\"]\n",
    "\n",
    "if not os.path.exists(FILE_CSV_STATIONS):\n",
    "    print(\"Creo file csv partendo da\",FILE_ORIGINALE_STATIONS,\"...\")\n",
    "    \n",
    "    # Leggo il file\n",
    "    df = pd.read_fwf(FILE_ORIGINALE_STATIONS,widths=[11,9,10,7,31], header=None, names=HEADERS_STATIONS)\n",
    "    \n",
    "    # Aggiungo il campo fips\n",
    "    df['fips'] = df[\"station_id\"].apply(lambda x : x[0:2])\n",
    "    HEADERS_STATIONS += [\"fips\"]\n",
    "    \n",
    "    # Trasformo i valori -999.0 di station_elev in Nan\n",
    "    df[\"station_elev\"] = df[\"station_elev\"].apply(lambda x: pd.NA if x == 9999 else x)\n",
    "\n",
    "    # Converto in formato CSV\n",
    "    df.to_csv(FILE_CSV_STATIONS, index=False)\n",
    "print(\"File creato correttamente!\")"
   ]
  },
  {
   "cell_type": "markdown",
   "metadata": {},
   "source": [
    "#### tempetatures_created.csv\n",
    "Il file [tempetatures_created.csv](applicazione/data/modified/stations_created.csv) ha la seguente struttura:\n",
    "|Campo| Significato|\n",
    "|:-|:-|\n",
    "|station_id| Codice identificativo della stazione. I primi due caratteri sono il codice FIPS del Paese|\n",
    "|year| Anno in cui sono state misurate le temperature|\n",
    "|month_value| Valore della temperatura del mese \"month\". I valori della temperatura sono in centesimi di grado Celsius, ma sono espressi come numeri interi (ad es. dividere per 100,0 per ottenere gradi Celsius interi). <br>Il valore -9999 indica un dato mancante. |\n",
    "|<mark>TOLTO month_dm_flag| data measurement flag (indicatore della misurazione dei dati). <br>Se è vuoto -> nessuna informazione di misurazione applicabile <br> Se è una lettera tra a-i -> numero di giorni mancanti nel calcolo della temperatura media mensile |\n",
    "|<mark>CAMBIATO month_qc_flag| quality control flag del mese \"month\". <br> Se è vuoto, non c'è stato nessun fallimento del controllo di qualità oppure il valore non può essere valutato. <br> Per gli altri valori, consultare la [documentazione dei dataset]((https://www.ncei.noaa.gov/pub/data/ghcn/v4/readme.txt)) |\n",
    "|<mark>TOLTO month_ds_flag| Indica l'origine dati per il valore del mese \"month\". Per avere altre informazioni, consultare la [documentazione di tale campo](https://www.ncei.noaa.gov/pub/data/ghcn/v4/ghcnm-flags.txt)|\n",
    "\n",
    "Ho creato uno script per creare il file:\n"
   ]
  },
  {
   "cell_type": "code",
   "execution_count": 50,
   "metadata": {},
   "outputs": [
    {
     "name": "stdout",
     "output_type": "stream",
     "text": [
      "Creo file csv partendo da applicazione\\data\\original\\temperatures.dat ...\n",
      "File creato correttamente!\n"
     ]
    }
   ],
   "source": [
    "# File con le temperature\n",
    "FILE_ORIGINALE_TEMPERATURES = DATA_ORIGINAL_FOLDER + \"temperatures.dat\"\n",
    "FILE_CSV_TEMPERATURES = DATA_MODIFIED_FOLDER + \"temperatures_created.csv\"\n",
    "\n",
    "# Creo due liste: una con le lunghezze dei campi e una con i nomi delle colonne\n",
    "list_width= [11,4,4] + [j for i in [[5,1,1,1] for _ in range(12)] for j in i] \n",
    "len(list_width)\n",
    "HEADERS_TEMPERATURES = [\"station_id\", \"year\", \"DEL_ME\"]\n",
    "for i in range(1,13):\n",
    "    month_name = calendar.month_name[i]\n",
    "    HEADERS_TEMPERATURES += [month_name+\"_value\",\"DEL_ME\"+str(i)+\"a\",month_name+\"_qc_flag\",\"DEL_ME\"+str(i)+\"b\"]\n",
    "\n",
    "if not os.path.exists(FILE_CSV_TEMPERATURES):\n",
    "    print(\"Creo file csv partendo da\",FILE_ORIGINALE_TEMPERATURES,\"...\")\n",
    "    \n",
    "    # Leggo il file\n",
    "    df = pd.read_fwf(FILE_ORIGINALE_TEMPERATURES, widths=list_width,header=None, names=HEADERS_TEMPERATURES)\n",
    "    \n",
    "    # Elimino le colonne non necessarie\n",
    "    HEADERS_TEMPERATURES = [i for i in HEADERS_TEMPERATURES if not i.__contains__(\"DEL_ME\")]\n",
    "    df = df[HEADERS_TEMPERATURES]\n",
    "\n",
    "    # Cambio i valori valori \"vuoti\" di month_qc_flag con un trattino. Questi valori vuoti, indicano che \n",
    "    # non ci sono stati problemi durante la rilevazione dei dati, non indicano dati mancanti.\n",
    "    # Cambio i valori -9999 di month_value con NaN. Trasformo anche i valori validi in gradi decimali. \n",
    "    for i in range(1,13):\n",
    "        month_name = calendar.month_name[i]\n",
    "        df[month_name+\"_qc_flag\"] = df[month_name+\"_qc_flag\"].apply(lambda x: \"-\" if pd.isna(x) else x)\n",
    "        df[month_name+\"_value\"] = df[month_name+\"_value\"].apply(lambda x: pd.NA if str(x) == \"-9999\" else x/100)\n",
    "\n",
    "    # Converto in formato CSV\n",
    "    df.to_csv(FILE_CSV_TEMPERATURES, index=False)\n",
    "\n",
    "print(\"File creato correttamente!\")"
   ]
  },
  {
   "cell_type": "markdown",
   "metadata": {},
   "source": [
    "### Paesi\n",
    "Per quanto riguarda le informazioni sui paesi, ho unito i due file [country_info.csv](applicazione/data/original/countries_info.csv) e [fips_to_iso_country_codes.csv](applicazione/data/original/fips_to_iso_country_codes.csv) in un unico file [countries_created.csv](applicazione/data/original/countries_created.csv) con la seguente struttura:\n",
    "\n",
    "|Campo|Significato|\n",
    "|:-|:-|\n",
    "|fips| Codice FIPS del paese|\n",
    "|name_country| Nome del Paese|\n",
    "|region| Continente di appartenenza|\n",
    "|sub-region| Zona del continente (nord, sud, est, ovest)|\n",
    "|region-code| Codice di region|\n",
    "|sub-region-code| Codice di sub-region|\n",
    "\n",
    "Ho creato uno script per creare il file:"
   ]
  },
  {
   "cell_type": "code",
   "execution_count": null,
   "metadata": {},
   "outputs": [
    {
     "name": "stdout",
     "output_type": "stream",
     "text": [
      "File creato correttamente!\n"
     ]
    }
   ],
   "source": [
    "# File dei paesi\n",
    "FILE_ORIGINALE_FIPS_TO_ISO = DATA_ORIGINAL_FOLDER + \"fips_to_iso_country_codes.csv\"\n",
    "FILE_ORIGINALE_COUNTRY_INFO = DATA_ORIGINAL_FOLDER + \"countries_info.csv\"\n",
    "FILE_CSV_COUNTRIES_CREATED = DATA_MODIFIED_FOLDER + \"countries_created.csv\"\n",
    "\n",
    "if not os.path.exists(FILE_CSV_COUNTRIES_CREATED):\n",
    "    print(\"Creo file csv partendo da\",FILE_ORIGINALE_FIPS_TO_ISO, \"e\", FILE_ORIGINALE_COUNTRY_INFO,\"...\")\n",
    "\n",
    "    # Leggo i files originali\n",
    "    df_fips = pd.read_csv(FILE_ORIGINALE_FIPS_TO_ISO)\n",
    "    df_country = pd.read_csv(FILE_ORIGINALE_COUNTRY_INFO)\n",
    "\n",
    "    # Faccio il join sul codice alpha-2\n",
    "    merged = pd.merge(df_fips, df_country, how='left',left_on='ISO 3166', right_on='alpha-2')\n",
    "\n",
    "    # Elimino le colonne non necessarie e rinomino le altre\n",
    "    merged = merged.drop(['ISO 3166','iso_3166-2', 'alpha-3', 'alpha-2', 'country-code', 'intermediate-region', 'intermediate-region-code'], axis=1)\n",
    "    merged['name_country'] = merged.apply(lambda x : str(x['Name'] if pd.isna(x[\"name\"]) else x['name']), axis=1)\n",
    "    merged = merged.drop([ 'name', 'Name'], axis=1)\n",
    "    merged = merged.rename(columns={\"FIPS 10-4\":\"fips\"})\n",
    "\n",
    "    # e creo un nuovo file\n",
    "    merged.to_csv(FILE_CSV_COUNTRIES_CREATED, index=False, header=True)\n",
    "\n",
    "print(\"File creato correttamente!\")"
   ]
  },
  {
   "cell_type": "markdown",
   "metadata": {},
   "source": [
    "## 3. Elaborazione dei dati <mark>(?)"
   ]
  },
  {
   "cell_type": "markdown",
   "metadata": {},
   "source": [
    "Una volta creati tutti i file CSV, per usarli basterà leggerli e fare il join sul campo 'fips' e 'station_id':"
   ]
  },
  {
   "cell_type": "code",
   "execution_count": null,
   "metadata": {},
   "outputs": [],
   "source": [
    "df_temperatues = pd.read_csv(FILE_CSV_TEMPERATURES)\n",
    "df_stations = pd.read_csv(FILE_CSV_STATIONS)\n",
    "df_country = pd.read_csv(FILE_CSV_COUNTRIES_CREATED)"
   ]
  },
  {
   "cell_type": "code",
   "execution_count": 35,
   "metadata": {},
   "outputs": [
    {
     "data": {
      "text/html": [
       "<table>\n",
       "<thead>\n",
       "<tr><th style=\"text-align: right;\">     </th><th>station_id  </th><th style=\"text-align: right;\">  year</th><th>station_name       </th><th style=\"text-align: right;\">  latitude</th><th style=\"text-align: right;\">  longitude</th><th style=\"text-align: right;\">  station_elev</th><th style=\"text-align: right;\">  region</th><th style=\"text-align: right;\">  January_value</th><th style=\"text-align: right;\">  February_value</th><th style=\"text-align: right;\">  March_value</th><th style=\"text-align: right;\">  April_value</th><th style=\"text-align: right;\">  May_value</th><th style=\"text-align: right;\">  June_value</th><th style=\"text-align: right;\">  July_value</th><th style=\"text-align: right;\">  August_value</th><th style=\"text-align: right;\">  September_value</th><th style=\"text-align: right;\">  October_value</th><th style=\"text-align: right;\">  November_value</th><th style=\"text-align: right;\">  December_value</th></tr>\n",
       "</thead>\n",
       "<tbody>\n",
       "<tr><td style=\"text-align: right;\">92097</td><td>AYM00089606 </td><td style=\"text-align: right;\">  1960</td><td>VOSTOK             </td><td style=\"text-align: right;\">    -78.45</td><td style=\"text-align: right;\">    106.867</td><td style=\"text-align: right;\">          3488</td><td style=\"text-align: right;\">     nan</td><td style=\"text-align: right;\">          -3609</td><td style=\"text-align: right;\">           -4445</td><td style=\"text-align: right;\">        -6210</td><td style=\"text-align: right;\">        -6794</td><td style=\"text-align: right;\">      -6800</td><td style=\"text-align: right;\">       -7075</td><td style=\"text-align: right;\">       -6814</td><td style=\"text-align: right;\">         -7135</td><td style=\"text-align: right;\">            -6630</td><td style=\"text-align: right;\">          -5905</td><td style=\"text-align: right;\">           -4600</td><td style=\"text-align: right;\">           -3434</td></tr>\n",
       "<tr><td style=\"text-align: right;\">92110</td><td>AYM00089606 </td><td style=\"text-align: right;\">  1974</td><td>VOSTOK             </td><td style=\"text-align: right;\">    -78.45</td><td style=\"text-align: right;\">    106.867</td><td style=\"text-align: right;\">          3488</td><td style=\"text-align: right;\">     nan</td><td style=\"text-align: right;\">          -2959</td><td style=\"text-align: right;\">           -4705</td><td style=\"text-align: right;\">        -6169</td><td style=\"text-align: right;\">        -6860</td><td style=\"text-align: right;\">      -6725</td><td style=\"text-align: right;\">       -6244</td><td style=\"text-align: right;\">       -6590</td><td style=\"text-align: right;\">         -6830</td><td style=\"text-align: right;\">            -6815</td><td style=\"text-align: right;\">          -5495</td><td style=\"text-align: right;\">           -4250</td><td style=\"text-align: right;\">           -3255</td></tr>\n",
       "<tr><td style=\"text-align: right;\">92000</td><td>AYM00089577 </td><td style=\"text-align: right;\">  2013</td><td>DOME_PLATEAU_DOME_A</td><td style=\"text-align: right;\">    -80.37</td><td style=\"text-align: right;\">     77.37 </td><td style=\"text-align: right;\">          4084</td><td style=\"text-align: right;\">     nan</td><td style=\"text-align: right;\">          -3420</td><td style=\"text-align: right;\">           -4743</td><td style=\"text-align: right;\">        -6168</td><td style=\"text-align: right;\">        -6489</td><td style=\"text-align: right;\">      -6665</td><td style=\"text-align: right;\">       -6029</td><td style=\"text-align: right;\">       -6708</td><td style=\"text-align: right;\">         -6222</td><td style=\"text-align: right;\">            -5819</td><td style=\"text-align: right;\">          -5409</td><td style=\"text-align: right;\">           -3972</td><td style=\"text-align: right;\">           -3083</td></tr>\n",
       "<tr><td style=\"text-align: right;\">92148</td><td>AYM00089606 </td><td style=\"text-align: right;\">  2013</td><td>VOSTOK             </td><td style=\"text-align: right;\">    -78.45</td><td style=\"text-align: right;\">    106.867</td><td style=\"text-align: right;\">          3488</td><td style=\"text-align: right;\">     nan</td><td style=\"text-align: right;\">          -3230</td><td style=\"text-align: right;\">           -4700</td><td style=\"text-align: right;\">        -6110</td><td style=\"text-align: right;\">        -6401</td><td style=\"text-align: right;\">      -6660</td><td style=\"text-align: right;\">       -6112</td><td style=\"text-align: right;\">       -6555</td><td style=\"text-align: right;\">         -6290</td><td style=\"text-align: right;\">            -5924</td><td style=\"text-align: right;\">          -5540</td><td style=\"text-align: right;\">           -3980</td><td style=\"text-align: right;\">           -3060</td></tr>\n",
       "<tr><td style=\"text-align: right;\">92001</td><td>AYM00089577 </td><td style=\"text-align: right;\">  2014</td><td>DOME_PLATEAU_DOME_A</td><td style=\"text-align: right;\">    -80.37</td><td style=\"text-align: right;\">     77.37 </td><td style=\"text-align: right;\">          4084</td><td style=\"text-align: right;\">     nan</td><td style=\"text-align: right;\">          -3209</td><td style=\"text-align: right;\">           -4521</td><td style=\"text-align: right;\">        -6074</td><td style=\"text-align: right;\">        -6474</td><td style=\"text-align: right;\">      -6151</td><td style=\"text-align: right;\">       -6330</td><td style=\"text-align: right;\">       -6783</td><td style=\"text-align: right;\">         -6408</td><td style=\"text-align: right;\">            -5974</td><td style=\"text-align: right;\">          -5555</td><td style=\"text-align: right;\">           -4105</td><td style=\"text-align: right;\">           -3291</td></tr>\n",
       "</tbody>\n",
       "</table>"
      ],
      "text/plain": [
       "'<table>\\n<thead>\\n<tr><th style=\"text-align: right;\">     </th><th>station_id  </th><th style=\"text-align: right;\">  year</th><th>station_name       </th><th style=\"text-align: right;\">  latitude</th><th style=\"text-align: right;\">  longitude</th><th style=\"text-align: right;\">  station_elev</th><th style=\"text-align: right;\">  region</th><th style=\"text-align: right;\">  January_value</th><th style=\"text-align: right;\">  February_value</th><th style=\"text-align: right;\">  March_value</th><th style=\"text-align: right;\">  April_value</th><th style=\"text-align: right;\">  May_value</th><th style=\"text-align: right;\">  June_value</th><th style=\"text-align: right;\">  July_value</th><th style=\"text-align: right;\">  August_value</th><th style=\"text-align: right;\">  September_value</th><th style=\"text-align: right;\">  October_value</th><th style=\"text-align: right;\">  November_value</th><th style=\"text-align: right;\">  December_value</th></tr>\\n</thead>\\n<tbody>\\n<tr><td style=\"text-align: right;\">92097</td><td>AYM00089606 </td><td style=\"text-align: right;\">  1960</td><td>VOSTOK             </td><td style=\"text-align: right;\">    -78.45</td><td style=\"text-align: right;\">    106.867</td><td style=\"text-align: right;\">          3488</td><td style=\"text-align: right;\">     nan</td><td style=\"text-align: right;\">          -3609</td><td style=\"text-align: right;\">           -4445</td><td style=\"text-align: right;\">        -6210</td><td style=\"text-align: right;\">        -6794</td><td style=\"text-align: right;\">      -6800</td><td style=\"text-align: right;\">       -7075</td><td style=\"text-align: right;\">       -6814</td><td style=\"text-align: right;\">         -7135</td><td style=\"text-align: right;\">            -6630</td><td style=\"text-align: right;\">          -5905</td><td style=\"text-align: right;\">           -4600</td><td style=\"text-align: right;\">           -3434</td></tr>\\n<tr><td style=\"text-align: right;\">92110</td><td>AYM00089606 </td><td style=\"text-align: right;\">  1974</td><td>VOSTOK             </td><td style=\"text-align: right;\">    -78.45</td><td style=\"text-align: right;\">    106.867</td><td style=\"text-align: right;\">          3488</td><td style=\"text-align: right;\">     nan</td><td style=\"text-align: right;\">          -2959</td><td style=\"text-align: right;\">           -4705</td><td style=\"text-align: right;\">        -6169</td><td style=\"text-align: right;\">        -6860</td><td style=\"text-align: right;\">      -6725</td><td style=\"text-align: right;\">       -6244</td><td style=\"text-align: right;\">       -6590</td><td style=\"text-align: right;\">         -6830</td><td style=\"text-align: right;\">            -6815</td><td style=\"text-align: right;\">          -5495</td><td style=\"text-align: right;\">           -4250</td><td style=\"text-align: right;\">           -3255</td></tr>\\n<tr><td style=\"text-align: right;\">92000</td><td>AYM00089577 </td><td style=\"text-align: right;\">  2013</td><td>DOME_PLATEAU_DOME_A</td><td style=\"text-align: right;\">    -80.37</td><td style=\"text-align: right;\">     77.37 </td><td style=\"text-align: right;\">          4084</td><td style=\"text-align: right;\">     nan</td><td style=\"text-align: right;\">          -3420</td><td style=\"text-align: right;\">           -4743</td><td style=\"text-align: right;\">        -6168</td><td style=\"text-align: right;\">        -6489</td><td style=\"text-align: right;\">      -6665</td><td style=\"text-align: right;\">       -6029</td><td style=\"text-align: right;\">       -6708</td><td style=\"text-align: right;\">         -6222</td><td style=\"text-align: right;\">            -5819</td><td style=\"text-align: right;\">          -5409</td><td style=\"text-align: right;\">           -3972</td><td style=\"text-align: right;\">           -3083</td></tr>\\n<tr><td style=\"text-align: right;\">92148</td><td>AYM00089606 </td><td style=\"text-align: right;\">  2013</td><td>VOSTOK             </td><td style=\"text-align: right;\">    -78.45</td><td style=\"text-align: right;\">    106.867</td><td style=\"text-align: right;\">          3488</td><td style=\"text-align: right;\">     nan</td><td style=\"text-align: right;\">          -3230</td><td style=\"text-align: right;\">           -4700</td><td style=\"text-align: right;\">        -6110</td><td style=\"text-align: right;\">        -6401</td><td style=\"text-align: right;\">      -6660</td><td style=\"text-align: right;\">       -6112</td><td style=\"text-align: right;\">       -6555</td><td style=\"text-align: right;\">         -6290</td><td style=\"text-align: right;\">            -5924</td><td style=\"text-align: right;\">          -5540</td><td style=\"text-align: right;\">           -3980</td><td style=\"text-align: right;\">           -3060</td></tr>\\n<tr><td style=\"text-align: right;\">92001</td><td>AYM00089577 </td><td style=\"text-align: right;\">  2014</td><td>DOME_PLATEAU_DOME_A</td><td style=\"text-align: right;\">    -80.37</td><td style=\"text-align: right;\">     77.37 </td><td style=\"text-align: right;\">          4084</td><td style=\"text-align: right;\">     nan</td><td style=\"text-align: right;\">          -3209</td><td style=\"text-align: right;\">           -4521</td><td style=\"text-align: right;\">        -6074</td><td style=\"text-align: right;\">        -6474</td><td style=\"text-align: right;\">      -6151</td><td style=\"text-align: right;\">       -6330</td><td style=\"text-align: right;\">       -6783</td><td style=\"text-align: right;\">         -6408</td><td style=\"text-align: right;\">            -5974</td><td style=\"text-align: right;\">          -5555</td><td style=\"text-align: right;\">           -4105</td><td style=\"text-align: right;\">           -3291</td></tr>\\n</tbody>\\n</table>'"
      ]
     },
     "metadata": {},
     "output_type": "display_data"
    }
   ],
   "source": [
    "import tabulate\n",
    "\n",
    "df_merged = df_temperatues.merge(df_stations, on='station_id')\n",
    "df_merged = df_merged.merge(df_country, on='fips')\n",
    "colonne = [\"station_id\", \"year\", \"station_name\", \"latitude\", \"longitude\", \"station_elev\", \"region\"] + [str(calendar.month_name[i]+\"_value\") for i in range(1,13)]\n",
    "df_merged = df_merged[colonne]\n",
    "\n",
    "\n",
    "table = tabulate.tabulate(df_merged.sort_values(by=\"March_value\").head(5), headers='keys', tablefmt='html')\n",
    "display(table)"
   ]
  },
  {
   "cell_type": "markdown",
   "metadata": {},
   "source": [
    "## "
   ]
  },
  {
   "cell_type": "code",
   "execution_count": null,
   "metadata": {},
   "outputs": [
    {
     "ename": "KeyboardInterrupt",
     "evalue": "",
     "output_type": "error",
     "traceback": [
      "\u001b[1;31m---------------------------------------------------------------------------\u001b[0m",
      "\u001b[1;31mKeyboardInterrupt\u001b[0m                         Traceback (most recent call last)",
      "Cell \u001b[1;32mIn [11], line 1\u001b[0m\n\u001b[1;32m----> 1\u001b[0m df_temperatues \u001b[39m=\u001b[39m pd\u001b[39m.\u001b[39;49mread_csv(FILE_CSV_TEMPERATURES)\n",
      "File \u001b[1;32mc:\\Users\\utente\\AppData\\Local\\Programs\\Python\\Python311\\Lib\\site-packages\\pandas\\util\\_decorators.py:211\u001b[0m, in \u001b[0;36mdeprecate_kwarg.<locals>._deprecate_kwarg.<locals>.wrapper\u001b[1;34m(*args, **kwargs)\u001b[0m\n\u001b[0;32m    209\u001b[0m     \u001b[39melse\u001b[39;00m:\n\u001b[0;32m    210\u001b[0m         kwargs[new_arg_name] \u001b[39m=\u001b[39m new_arg_value\n\u001b[1;32m--> 211\u001b[0m \u001b[39mreturn\u001b[39;00m func(\u001b[39m*\u001b[39;49margs, \u001b[39m*\u001b[39;49m\u001b[39m*\u001b[39;49mkwargs)\n",
      "File \u001b[1;32mc:\\Users\\utente\\AppData\\Local\\Programs\\Python\\Python311\\Lib\\site-packages\\pandas\\util\\_decorators.py:331\u001b[0m, in \u001b[0;36mdeprecate_nonkeyword_arguments.<locals>.decorate.<locals>.wrapper\u001b[1;34m(*args, **kwargs)\u001b[0m\n\u001b[0;32m    325\u001b[0m \u001b[39mif\u001b[39;00m \u001b[39mlen\u001b[39m(args) \u001b[39m>\u001b[39m num_allow_args:\n\u001b[0;32m    326\u001b[0m     warnings\u001b[39m.\u001b[39mwarn(\n\u001b[0;32m    327\u001b[0m         msg\u001b[39m.\u001b[39mformat(arguments\u001b[39m=\u001b[39m_format_argument_list(allow_args)),\n\u001b[0;32m    328\u001b[0m         \u001b[39mFutureWarning\u001b[39;00m,\n\u001b[0;32m    329\u001b[0m         stacklevel\u001b[39m=\u001b[39mfind_stack_level(),\n\u001b[0;32m    330\u001b[0m     )\n\u001b[1;32m--> 331\u001b[0m \u001b[39mreturn\u001b[39;00m func(\u001b[39m*\u001b[39;49margs, \u001b[39m*\u001b[39;49m\u001b[39m*\u001b[39;49mkwargs)\n",
      "File \u001b[1;32mc:\\Users\\utente\\AppData\\Local\\Programs\\Python\\Python311\\Lib\\site-packages\\pandas\\io\\parsers\\readers.py:950\u001b[0m, in \u001b[0;36mread_csv\u001b[1;34m(filepath_or_buffer, sep, delimiter, header, names, index_col, usecols, squeeze, prefix, mangle_dupe_cols, dtype, engine, converters, true_values, false_values, skipinitialspace, skiprows, skipfooter, nrows, na_values, keep_default_na, na_filter, verbose, skip_blank_lines, parse_dates, infer_datetime_format, keep_date_col, date_parser, dayfirst, cache_dates, iterator, chunksize, compression, thousands, decimal, lineterminator, quotechar, quoting, doublequote, escapechar, comment, encoding, encoding_errors, dialect, error_bad_lines, warn_bad_lines, on_bad_lines, delim_whitespace, low_memory, memory_map, float_precision, storage_options)\u001b[0m\n\u001b[0;32m    935\u001b[0m kwds_defaults \u001b[39m=\u001b[39m _refine_defaults_read(\n\u001b[0;32m    936\u001b[0m     dialect,\n\u001b[0;32m    937\u001b[0m     delimiter,\n\u001b[1;32m   (...)\u001b[0m\n\u001b[0;32m    946\u001b[0m     defaults\u001b[39m=\u001b[39m{\u001b[39m\"\u001b[39m\u001b[39mdelimiter\u001b[39m\u001b[39m\"\u001b[39m: \u001b[39m\"\u001b[39m\u001b[39m,\u001b[39m\u001b[39m\"\u001b[39m},\n\u001b[0;32m    947\u001b[0m )\n\u001b[0;32m    948\u001b[0m kwds\u001b[39m.\u001b[39mupdate(kwds_defaults)\n\u001b[1;32m--> 950\u001b[0m \u001b[39mreturn\u001b[39;00m _read(filepath_or_buffer, kwds)\n",
      "File \u001b[1;32mc:\\Users\\utente\\AppData\\Local\\Programs\\Python\\Python311\\Lib\\site-packages\\pandas\\io\\parsers\\readers.py:611\u001b[0m, in \u001b[0;36m_read\u001b[1;34m(filepath_or_buffer, kwds)\u001b[0m\n\u001b[0;32m    608\u001b[0m     \u001b[39mreturn\u001b[39;00m parser\n\u001b[0;32m    610\u001b[0m \u001b[39mwith\u001b[39;00m parser:\n\u001b[1;32m--> 611\u001b[0m     \u001b[39mreturn\u001b[39;00m parser\u001b[39m.\u001b[39;49mread(nrows)\n",
      "File \u001b[1;32mc:\\Users\\utente\\AppData\\Local\\Programs\\Python\\Python311\\Lib\\site-packages\\pandas\\io\\parsers\\readers.py:1795\u001b[0m, in \u001b[0;36mTextFileReader.read\u001b[1;34m(self, nrows)\u001b[0m\n\u001b[0;32m   1792\u001b[0m     \u001b[39melse\u001b[39;00m:\n\u001b[0;32m   1793\u001b[0m         new_rows \u001b[39m=\u001b[39m \u001b[39mlen\u001b[39m(index)\n\u001b[1;32m-> 1795\u001b[0m     df \u001b[39m=\u001b[39m DataFrame(col_dict, columns\u001b[39m=\u001b[39;49mcolumns, index\u001b[39m=\u001b[39;49mindex)\n\u001b[0;32m   1797\u001b[0m     \u001b[39mself\u001b[39m\u001b[39m.\u001b[39m_currow \u001b[39m+\u001b[39m\u001b[39m=\u001b[39m new_rows\n\u001b[0;32m   1799\u001b[0m \u001b[39mif\u001b[39;00m \u001b[39mself\u001b[39m\u001b[39m.\u001b[39msqueeze \u001b[39mand\u001b[39;00m \u001b[39mlen\u001b[39m(df\u001b[39m.\u001b[39mcolumns) \u001b[39m==\u001b[39m \u001b[39m1\u001b[39m:\n",
      "File \u001b[1;32mc:\\Users\\utente\\AppData\\Local\\Programs\\Python\\Python311\\Lib\\site-packages\\pandas\\core\\frame.py:662\u001b[0m, in \u001b[0;36mDataFrame.__init__\u001b[1;34m(self, data, index, columns, dtype, copy)\u001b[0m\n\u001b[0;32m    656\u001b[0m     mgr \u001b[39m=\u001b[39m \u001b[39mself\u001b[39m\u001b[39m.\u001b[39m_init_mgr(\n\u001b[0;32m    657\u001b[0m         data, axes\u001b[39m=\u001b[39m{\u001b[39m\"\u001b[39m\u001b[39mindex\u001b[39m\u001b[39m\"\u001b[39m: index, \u001b[39m\"\u001b[39m\u001b[39mcolumns\u001b[39m\u001b[39m\"\u001b[39m: columns}, dtype\u001b[39m=\u001b[39mdtype, copy\u001b[39m=\u001b[39mcopy\n\u001b[0;32m    658\u001b[0m     )\n\u001b[0;32m    660\u001b[0m \u001b[39melif\u001b[39;00m \u001b[39misinstance\u001b[39m(data, \u001b[39mdict\u001b[39m):\n\u001b[0;32m    661\u001b[0m     \u001b[39m# GH#38939 de facto copy defaults to False only in non-dict cases\u001b[39;00m\n\u001b[1;32m--> 662\u001b[0m     mgr \u001b[39m=\u001b[39m dict_to_mgr(data, index, columns, dtype\u001b[39m=\u001b[39;49mdtype, copy\u001b[39m=\u001b[39;49mcopy, typ\u001b[39m=\u001b[39;49mmanager)\n\u001b[0;32m    663\u001b[0m \u001b[39melif\u001b[39;00m \u001b[39misinstance\u001b[39m(data, ma\u001b[39m.\u001b[39mMaskedArray):\n\u001b[0;32m    664\u001b[0m     \u001b[39mimport\u001b[39;00m \u001b[39mnumpy\u001b[39;00m\u001b[39m.\u001b[39;00m\u001b[39mma\u001b[39;00m\u001b[39m.\u001b[39;00m\u001b[39mmrecords\u001b[39;00m \u001b[39mas\u001b[39;00m \u001b[39mmrecords\u001b[39;00m\n",
      "File \u001b[1;32mc:\\Users\\utente\\AppData\\Local\\Programs\\Python\\Python311\\Lib\\site-packages\\pandas\\core\\internals\\construction.py:493\u001b[0m, in \u001b[0;36mdict_to_mgr\u001b[1;34m(data, index, columns, dtype, typ, copy)\u001b[0m\n\u001b[0;32m    489\u001b[0m     \u001b[39melse\u001b[39;00m:\n\u001b[0;32m    490\u001b[0m         \u001b[39m# dtype check to exclude e.g. range objects, scalars\u001b[39;00m\n\u001b[0;32m    491\u001b[0m         arrays \u001b[39m=\u001b[39m [x\u001b[39m.\u001b[39mcopy() \u001b[39mif\u001b[39;00m \u001b[39mhasattr\u001b[39m(x, \u001b[39m\"\u001b[39m\u001b[39mdtype\u001b[39m\u001b[39m\"\u001b[39m) \u001b[39melse\u001b[39;00m x \u001b[39mfor\u001b[39;00m x \u001b[39min\u001b[39;00m arrays]\n\u001b[1;32m--> 493\u001b[0m \u001b[39mreturn\u001b[39;00m arrays_to_mgr(arrays, columns, index, dtype\u001b[39m=\u001b[39;49mdtype, typ\u001b[39m=\u001b[39;49mtyp, consolidate\u001b[39m=\u001b[39;49mcopy)\n",
      "File \u001b[1;32mc:\\Users\\utente\\AppData\\Local\\Programs\\Python\\Python311\\Lib\\site-packages\\pandas\\core\\internals\\construction.py:154\u001b[0m, in \u001b[0;36marrays_to_mgr\u001b[1;34m(arrays, columns, index, dtype, verify_integrity, typ, consolidate)\u001b[0m\n\u001b[0;32m    151\u001b[0m axes \u001b[39m=\u001b[39m [columns, index]\n\u001b[0;32m    153\u001b[0m \u001b[39mif\u001b[39;00m typ \u001b[39m==\u001b[39m \u001b[39m\"\u001b[39m\u001b[39mblock\u001b[39m\u001b[39m\"\u001b[39m:\n\u001b[1;32m--> 154\u001b[0m     \u001b[39mreturn\u001b[39;00m create_block_manager_from_column_arrays(\n\u001b[0;32m    155\u001b[0m         arrays, axes, consolidate\u001b[39m=\u001b[39;49mconsolidate\n\u001b[0;32m    156\u001b[0m     )\n\u001b[0;32m    157\u001b[0m \u001b[39melif\u001b[39;00m typ \u001b[39m==\u001b[39m \u001b[39m\"\u001b[39m\u001b[39marray\u001b[39m\u001b[39m\"\u001b[39m:\n\u001b[0;32m    158\u001b[0m     \u001b[39mreturn\u001b[39;00m ArrayManager(arrays, [index, columns])\n",
      "File \u001b[1;32mc:\\Users\\utente\\AppData\\Local\\Programs\\Python\\Python311\\Lib\\site-packages\\pandas\\core\\internals\\managers.py:2170\u001b[0m, in \u001b[0;36mcreate_block_manager_from_column_arrays\u001b[1;34m(arrays, axes, consolidate)\u001b[0m\n\u001b[0;32m   2168\u001b[0m     \u001b[39mraise\u001b[39;00m construction_error(\u001b[39mlen\u001b[39m(arrays), arrays[\u001b[39m0\u001b[39m]\u001b[39m.\u001b[39mshape, axes, e)\n\u001b[0;32m   2169\u001b[0m \u001b[39mif\u001b[39;00m consolidate:\n\u001b[1;32m-> 2170\u001b[0m     mgr\u001b[39m.\u001b[39;49m_consolidate_inplace()\n\u001b[0;32m   2171\u001b[0m \u001b[39mreturn\u001b[39;00m mgr\n",
      "File \u001b[1;32mc:\\Users\\utente\\AppData\\Local\\Programs\\Python\\Python311\\Lib\\site-packages\\pandas\\core\\internals\\managers.py:1847\u001b[0m, in \u001b[0;36mBlockManager._consolidate_inplace\u001b[1;34m(self)\u001b[0m\n\u001b[0;32m   1845\u001b[0m \u001b[39mif\u001b[39;00m \u001b[39mnot\u001b[39;00m \u001b[39mself\u001b[39m\u001b[39m.\u001b[39mis_consolidated():\n\u001b[0;32m   1846\u001b[0m     \u001b[39mif\u001b[39;00m \u001b[39mself\u001b[39m\u001b[39m.\u001b[39mrefs \u001b[39mis\u001b[39;00m \u001b[39mNone\u001b[39;00m:\n\u001b[1;32m-> 1847\u001b[0m         \u001b[39mself\u001b[39m\u001b[39m.\u001b[39mblocks \u001b[39m=\u001b[39m _consolidate(\u001b[39mself\u001b[39;49m\u001b[39m.\u001b[39;49mblocks)\n\u001b[0;32m   1848\u001b[0m     \u001b[39melse\u001b[39;00m:\n\u001b[0;32m   1849\u001b[0m         \u001b[39mself\u001b[39m\u001b[39m.\u001b[39mblocks, \u001b[39mself\u001b[39m\u001b[39m.\u001b[39mrefs \u001b[39m=\u001b[39m _consolidate_with_refs(\u001b[39mself\u001b[39m\u001b[39m.\u001b[39mblocks, \u001b[39mself\u001b[39m\u001b[39m.\u001b[39mrefs)\n",
      "File \u001b[1;32mc:\\Users\\utente\\AppData\\Local\\Programs\\Python\\Python311\\Lib\\site-packages\\pandas\\core\\internals\\managers.py:2295\u001b[0m, in \u001b[0;36m_consolidate\u001b[1;34m(blocks)\u001b[0m\n\u001b[0;32m   2293\u001b[0m new_blocks: \u001b[39mlist\u001b[39m[Block] \u001b[39m=\u001b[39m []\n\u001b[0;32m   2294\u001b[0m \u001b[39mfor\u001b[39;00m (_can_consolidate, dtype), group_blocks \u001b[39min\u001b[39;00m grouper:\n\u001b[1;32m-> 2295\u001b[0m     merged_blocks, _ \u001b[39m=\u001b[39m _merge_blocks(\n\u001b[0;32m   2296\u001b[0m         \u001b[39mlist\u001b[39;49m(group_blocks), dtype\u001b[39m=\u001b[39;49mdtype, can_consolidate\u001b[39m=\u001b[39;49m_can_consolidate\n\u001b[0;32m   2297\u001b[0m     )\n\u001b[0;32m   2298\u001b[0m     new_blocks \u001b[39m=\u001b[39m extend_blocks(merged_blocks, new_blocks)\n\u001b[0;32m   2299\u001b[0m \u001b[39mreturn\u001b[39;00m \u001b[39mtuple\u001b[39m(new_blocks)\n",
      "File \u001b[1;32mc:\\Users\\utente\\AppData\\Local\\Programs\\Python\\Python311\\Lib\\site-packages\\pandas\\core\\internals\\managers.py:2347\u001b[0m, in \u001b[0;36m_merge_blocks\u001b[1;34m(blocks, dtype, can_consolidate)\u001b[0m\n\u001b[0;32m   2340\u001b[0m new_values: ArrayLike\n\u001b[0;32m   2342\u001b[0m \u001b[39mif\u001b[39;00m \u001b[39misinstance\u001b[39m(blocks[\u001b[39m0\u001b[39m]\u001b[39m.\u001b[39mdtype, np\u001b[39m.\u001b[39mdtype):\n\u001b[0;32m   2343\u001b[0m     \u001b[39m# error: List comprehension has incompatible type List[Union[ndarray,\u001b[39;00m\n\u001b[0;32m   2344\u001b[0m     \u001b[39m# ExtensionArray]]; expected List[Union[complex, generic,\u001b[39;00m\n\u001b[0;32m   2345\u001b[0m     \u001b[39m# Sequence[Union[int, float, complex, str, bytes, generic]],\u001b[39;00m\n\u001b[0;32m   2346\u001b[0m     \u001b[39m# Sequence[Sequence[Any]], SupportsArray]]\u001b[39;00m\n\u001b[1;32m-> 2347\u001b[0m     new_values \u001b[39m=\u001b[39m np\u001b[39m.\u001b[39;49mvstack([b\u001b[39m.\u001b[39;49mvalues \u001b[39mfor\u001b[39;49;00m b \u001b[39min\u001b[39;49;00m blocks])  \u001b[39m# type: ignore[misc]\u001b[39;00m\n\u001b[0;32m   2348\u001b[0m \u001b[39melse\u001b[39;00m:\n\u001b[0;32m   2349\u001b[0m     bvals \u001b[39m=\u001b[39m [blk\u001b[39m.\u001b[39mvalues \u001b[39mfor\u001b[39;00m blk \u001b[39min\u001b[39;00m blocks]\n",
      "File \u001b[1;32m<__array_function__ internals>:180\u001b[0m, in \u001b[0;36mvstack\u001b[1;34m(*args, **kwargs)\u001b[0m\n",
      "\u001b[1;31mKeyboardInterrupt\u001b[0m: "
     ]
    }
   ],
   "source": [
    "df_temperatues = pd.read_csv(FILE_CSV_TEMPERATURES)"
   ]
  },
  {
   "cell_type": "code",
   "execution_count": null,
   "metadata": {},
   "outputs": [
    {
     "name": "stdout",
     "output_type": "stream",
     "text": [
      "********\n",
      "January 1345254\n",
      "********\n",
      "February 1343882\n",
      "********\n",
      "March 1344461\n",
      "********\n",
      "April 1343911\n",
      "********\n"
     ]
    },
    {
     "ename": "KeyboardInterrupt",
     "evalue": "",
     "output_type": "error",
     "traceback": [
      "\u001b[1;31m---------------------------------------------------------------------------\u001b[0m",
      "\u001b[1;31mKeyboardInterrupt\u001b[0m                         Traceback (most recent call last)",
      "Cell \u001b[1;32mIn [13], line 8\u001b[0m\n\u001b[0;32m      4\u001b[0m  new_df  \u001b[39m=\u001b[39m df_temperatues\n\u001b[0;32m      7\u001b[0m  new_df[month_name\u001b[39m+\u001b[39m\u001b[39m\"\u001b[39m\u001b[39m_qc_flag\u001b[39m\u001b[39m\"\u001b[39m] \u001b[39m=\u001b[39m df_temperatues[month_name\u001b[39m+\u001b[39m\u001b[39m\"\u001b[39m\u001b[39m_qc_flag\u001b[39m\u001b[39m\"\u001b[39m]\u001b[39m.\u001b[39mapply(\u001b[39mlambda\u001b[39;00m x: \u001b[39m\"\u001b[39m\u001b[39m-\u001b[39m\u001b[39m\"\u001b[39m \u001b[39mif\u001b[39;00m pd\u001b[39m.\u001b[39misna(x) \u001b[39melse\u001b[39;00m x)\n\u001b[1;32m----> 8\u001b[0m  prova \u001b[39m=\u001b[39m new_df[new_df[month_name\u001b[39m+\u001b[39;49m\u001b[39m\"\u001b[39;49m\u001b[39m_qc_flag\u001b[39;49m\u001b[39m\"\u001b[39;49m] \u001b[39m==\u001b[39;49m \u001b[39m\"\u001b[39;49m\u001b[39m-\u001b[39;49m\u001b[39m\"\u001b[39;49m]\n\u001b[0;32m      9\u001b[0m \u001b[39m# lista = list(set(prova.to_list()))\u001b[39;00m\n\u001b[0;32m     10\u001b[0m  \u001b[39mprint\u001b[39m(month_name, \u001b[39mlen\u001b[39m(prova))\n",
      "File \u001b[1;32mc:\\Users\\utente\\AppData\\Local\\Programs\\Python\\Python311\\Lib\\site-packages\\pandas\\core\\frame.py:3795\u001b[0m, in \u001b[0;36mDataFrame.__getitem__\u001b[1;34m(self, key)\u001b[0m\n\u001b[0;32m   3793\u001b[0m \u001b[39m# Do we have a (boolean) 1d indexer?\u001b[39;00m\n\u001b[0;32m   3794\u001b[0m \u001b[39mif\u001b[39;00m com\u001b[39m.\u001b[39mis_bool_indexer(key):\n\u001b[1;32m-> 3795\u001b[0m     \u001b[39mreturn\u001b[39;00m \u001b[39mself\u001b[39;49m\u001b[39m.\u001b[39;49m_getitem_bool_array(key)\n\u001b[0;32m   3797\u001b[0m \u001b[39m# We are left with two options: a single key, and a collection of keys,\u001b[39;00m\n\u001b[0;32m   3798\u001b[0m \u001b[39m# We interpret tuples as collections only for non-MultiIndex\u001b[39;00m\n\u001b[0;32m   3799\u001b[0m is_single_key \u001b[39m=\u001b[39m \u001b[39misinstance\u001b[39m(key, \u001b[39mtuple\u001b[39m) \u001b[39mor\u001b[39;00m \u001b[39mnot\u001b[39;00m is_list_like(key)\n",
      "File \u001b[1;32mc:\\Users\\utente\\AppData\\Local\\Programs\\Python\\Python311\\Lib\\site-packages\\pandas\\core\\frame.py:3850\u001b[0m, in \u001b[0;36mDataFrame._getitem_bool_array\u001b[1;34m(self, key)\u001b[0m\n\u001b[0;32m   3848\u001b[0m key \u001b[39m=\u001b[39m check_bool_indexer(\u001b[39mself\u001b[39m\u001b[39m.\u001b[39mindex, key)\n\u001b[0;32m   3849\u001b[0m indexer \u001b[39m=\u001b[39m key\u001b[39m.\u001b[39mnonzero()[\u001b[39m0\u001b[39m]\n\u001b[1;32m-> 3850\u001b[0m \u001b[39mreturn\u001b[39;00m \u001b[39mself\u001b[39;49m\u001b[39m.\u001b[39;49m_take_with_is_copy(indexer, axis\u001b[39m=\u001b[39;49m\u001b[39m0\u001b[39;49m)\n",
      "File \u001b[1;32mc:\\Users\\utente\\AppData\\Local\\Programs\\Python\\Python311\\Lib\\site-packages\\pandas\\core\\generic.py:3902\u001b[0m, in \u001b[0;36mNDFrame._take_with_is_copy\u001b[1;34m(self, indices, axis)\u001b[0m\n\u001b[0;32m   3894\u001b[0m \u001b[39mdef\u001b[39;00m \u001b[39m_take_with_is_copy\u001b[39m(\u001b[39mself\u001b[39m: NDFrameT, indices, axis\u001b[39m=\u001b[39m\u001b[39m0\u001b[39m) \u001b[39m-\u001b[39m\u001b[39m>\u001b[39m NDFrameT:\n\u001b[0;32m   3895\u001b[0m     \u001b[39m\"\"\"\u001b[39;00m\n\u001b[0;32m   3896\u001b[0m \u001b[39m    Internal version of the `take` method that sets the `_is_copy`\u001b[39;00m\n\u001b[0;32m   3897\u001b[0m \u001b[39m    attribute to keep track of the parent dataframe (using in indexing\u001b[39;00m\n\u001b[1;32m   (...)\u001b[0m\n\u001b[0;32m   3900\u001b[0m \u001b[39m    See the docstring of `take` for full explanation of the parameters.\u001b[39;00m\n\u001b[0;32m   3901\u001b[0m \u001b[39m    \"\"\"\u001b[39;00m\n\u001b[1;32m-> 3902\u001b[0m     result \u001b[39m=\u001b[39m \u001b[39mself\u001b[39;49m\u001b[39m.\u001b[39;49m_take(indices\u001b[39m=\u001b[39;49mindices, axis\u001b[39m=\u001b[39;49maxis)\n\u001b[0;32m   3903\u001b[0m     \u001b[39m# Maybe set copy if we didn't actually change the index.\u001b[39;00m\n\u001b[0;32m   3904\u001b[0m     \u001b[39mif\u001b[39;00m \u001b[39mnot\u001b[39;00m result\u001b[39m.\u001b[39m_get_axis(axis)\u001b[39m.\u001b[39mequals(\u001b[39mself\u001b[39m\u001b[39m.\u001b[39m_get_axis(axis)):\n",
      "File \u001b[1;32mc:\\Users\\utente\\AppData\\Local\\Programs\\Python\\Python311\\Lib\\site-packages\\pandas\\core\\generic.py:3884\u001b[0m, in \u001b[0;36mNDFrame._take\u001b[1;34m(self, indices, axis, convert_indices)\u001b[0m\n\u001b[0;32m   3873\u001b[0m \u001b[39mdef\u001b[39;00m \u001b[39m_take\u001b[39m(\n\u001b[0;32m   3874\u001b[0m     \u001b[39mself\u001b[39m: NDFrameT,\n\u001b[0;32m   3875\u001b[0m     indices,\n\u001b[0;32m   3876\u001b[0m     axis\u001b[39m=\u001b[39m\u001b[39m0\u001b[39m,\n\u001b[0;32m   3877\u001b[0m     convert_indices: bool_t \u001b[39m=\u001b[39m \u001b[39mTrue\u001b[39;00m,\n\u001b[0;32m   3878\u001b[0m ) \u001b[39m-\u001b[39m\u001b[39m>\u001b[39m NDFrameT:\n\u001b[0;32m   3879\u001b[0m     \u001b[39m\"\"\"\u001b[39;00m\n\u001b[0;32m   3880\u001b[0m \u001b[39m    Internal version of the `take` allowing specification of additional args.\u001b[39;00m\n\u001b[0;32m   3881\u001b[0m \n\u001b[0;32m   3882\u001b[0m \u001b[39m    See the docstring of `take` for full explanation of the parameters.\u001b[39;00m\n\u001b[0;32m   3883\u001b[0m \u001b[39m    \"\"\"\u001b[39;00m\n\u001b[1;32m-> 3884\u001b[0m     \u001b[39mself\u001b[39;49m\u001b[39m.\u001b[39;49m_consolidate_inplace()\n\u001b[0;32m   3886\u001b[0m     new_data \u001b[39m=\u001b[39m \u001b[39mself\u001b[39m\u001b[39m.\u001b[39m_mgr\u001b[39m.\u001b[39mtake(\n\u001b[0;32m   3887\u001b[0m         indices,\n\u001b[0;32m   3888\u001b[0m         axis\u001b[39m=\u001b[39m\u001b[39mself\u001b[39m\u001b[39m.\u001b[39m_get_block_manager_axis(axis),\n\u001b[0;32m   3889\u001b[0m         verify\u001b[39m=\u001b[39m\u001b[39mTrue\u001b[39;00m,\n\u001b[0;32m   3890\u001b[0m         convert_indices\u001b[39m=\u001b[39mconvert_indices,\n\u001b[0;32m   3891\u001b[0m     )\n\u001b[0;32m   3892\u001b[0m     \u001b[39mreturn\u001b[39;00m \u001b[39mself\u001b[39m\u001b[39m.\u001b[39m_constructor(new_data)\u001b[39m.\u001b[39m__finalize__(\u001b[39mself\u001b[39m, method\u001b[39m=\u001b[39m\u001b[39m\"\u001b[39m\u001b[39mtake\u001b[39m\u001b[39m\"\u001b[39m)\n",
      "File \u001b[1;32mc:\\Users\\utente\\AppData\\Local\\Programs\\Python\\Python311\\Lib\\site-packages\\pandas\\core\\generic.py:5980\u001b[0m, in \u001b[0;36mNDFrame._consolidate_inplace\u001b[1;34m(self)\u001b[0m\n\u001b[0;32m   5977\u001b[0m \u001b[39mdef\u001b[39;00m \u001b[39mf\u001b[39m():\n\u001b[0;32m   5978\u001b[0m     \u001b[39mself\u001b[39m\u001b[39m.\u001b[39m_mgr \u001b[39m=\u001b[39m \u001b[39mself\u001b[39m\u001b[39m.\u001b[39m_mgr\u001b[39m.\u001b[39mconsolidate()\n\u001b[1;32m-> 5980\u001b[0m \u001b[39mself\u001b[39;49m\u001b[39m.\u001b[39;49m_protect_consolidate(f)\n",
      "File \u001b[1;32mc:\\Users\\utente\\AppData\\Local\\Programs\\Python\\Python311\\Lib\\site-packages\\pandas\\core\\generic.py:5968\u001b[0m, in \u001b[0;36mNDFrame._protect_consolidate\u001b[1;34m(self, f)\u001b[0m\n\u001b[0;32m   5966\u001b[0m     \u001b[39mreturn\u001b[39;00m f()\n\u001b[0;32m   5967\u001b[0m blocks_before \u001b[39m=\u001b[39m \u001b[39mlen\u001b[39m(\u001b[39mself\u001b[39m\u001b[39m.\u001b[39m_mgr\u001b[39m.\u001b[39mblocks)\n\u001b[1;32m-> 5968\u001b[0m result \u001b[39m=\u001b[39m f()\n\u001b[0;32m   5969\u001b[0m \u001b[39mif\u001b[39;00m \u001b[39mlen\u001b[39m(\u001b[39mself\u001b[39m\u001b[39m.\u001b[39m_mgr\u001b[39m.\u001b[39mblocks) \u001b[39m!=\u001b[39m blocks_before:\n\u001b[0;32m   5970\u001b[0m     \u001b[39mself\u001b[39m\u001b[39m.\u001b[39m_clear_item_cache()\n",
      "File \u001b[1;32mc:\\Users\\utente\\AppData\\Local\\Programs\\Python\\Python311\\Lib\\site-packages\\pandas\\core\\generic.py:5978\u001b[0m, in \u001b[0;36mNDFrame._consolidate_inplace.<locals>.f\u001b[1;34m()\u001b[0m\n\u001b[0;32m   5977\u001b[0m \u001b[39mdef\u001b[39;00m \u001b[39mf\u001b[39m():\n\u001b[1;32m-> 5978\u001b[0m     \u001b[39mself\u001b[39m\u001b[39m.\u001b[39m_mgr \u001b[39m=\u001b[39m \u001b[39mself\u001b[39;49m\u001b[39m.\u001b[39;49m_mgr\u001b[39m.\u001b[39;49mconsolidate()\n",
      "File \u001b[1;32mc:\\Users\\utente\\AppData\\Local\\Programs\\Python\\Python311\\Lib\\site-packages\\pandas\\core\\internals\\managers.py:678\u001b[0m, in \u001b[0;36mBaseBlockManager.consolidate\u001b[1;34m(self)\u001b[0m\n\u001b[0;32m    676\u001b[0m bm \u001b[39m=\u001b[39m \u001b[39mtype\u001b[39m(\u001b[39mself\u001b[39m)(\u001b[39mself\u001b[39m\u001b[39m.\u001b[39mblocks, \u001b[39mself\u001b[39m\u001b[39m.\u001b[39maxes, \u001b[39mself\u001b[39m\u001b[39m.\u001b[39mrefs, verify_integrity\u001b[39m=\u001b[39m\u001b[39mFalse\u001b[39;00m)\n\u001b[0;32m    677\u001b[0m bm\u001b[39m.\u001b[39m_is_consolidated \u001b[39m=\u001b[39m \u001b[39mFalse\u001b[39;00m\n\u001b[1;32m--> 678\u001b[0m bm\u001b[39m.\u001b[39;49m_consolidate_inplace()\n\u001b[0;32m    679\u001b[0m \u001b[39mreturn\u001b[39;00m bm\n",
      "File \u001b[1;32mc:\\Users\\utente\\AppData\\Local\\Programs\\Python\\Python311\\Lib\\site-packages\\pandas\\core\\internals\\managers.py:1847\u001b[0m, in \u001b[0;36mBlockManager._consolidate_inplace\u001b[1;34m(self)\u001b[0m\n\u001b[0;32m   1845\u001b[0m \u001b[39mif\u001b[39;00m \u001b[39mnot\u001b[39;00m \u001b[39mself\u001b[39m\u001b[39m.\u001b[39mis_consolidated():\n\u001b[0;32m   1846\u001b[0m     \u001b[39mif\u001b[39;00m \u001b[39mself\u001b[39m\u001b[39m.\u001b[39mrefs \u001b[39mis\u001b[39;00m \u001b[39mNone\u001b[39;00m:\n\u001b[1;32m-> 1847\u001b[0m         \u001b[39mself\u001b[39m\u001b[39m.\u001b[39mblocks \u001b[39m=\u001b[39m _consolidate(\u001b[39mself\u001b[39;49m\u001b[39m.\u001b[39;49mblocks)\n\u001b[0;32m   1848\u001b[0m     \u001b[39melse\u001b[39;00m:\n\u001b[0;32m   1849\u001b[0m         \u001b[39mself\u001b[39m\u001b[39m.\u001b[39mblocks, \u001b[39mself\u001b[39m\u001b[39m.\u001b[39mrefs \u001b[39m=\u001b[39m _consolidate_with_refs(\u001b[39mself\u001b[39m\u001b[39m.\u001b[39mblocks, \u001b[39mself\u001b[39m\u001b[39m.\u001b[39mrefs)\n",
      "File \u001b[1;32mc:\\Users\\utente\\AppData\\Local\\Programs\\Python\\Python311\\Lib\\site-packages\\pandas\\core\\internals\\managers.py:2295\u001b[0m, in \u001b[0;36m_consolidate\u001b[1;34m(blocks)\u001b[0m\n\u001b[0;32m   2293\u001b[0m new_blocks: \u001b[39mlist\u001b[39m[Block] \u001b[39m=\u001b[39m []\n\u001b[0;32m   2294\u001b[0m \u001b[39mfor\u001b[39;00m (_can_consolidate, dtype), group_blocks \u001b[39min\u001b[39;00m grouper:\n\u001b[1;32m-> 2295\u001b[0m     merged_blocks, _ \u001b[39m=\u001b[39m _merge_blocks(\n\u001b[0;32m   2296\u001b[0m         \u001b[39mlist\u001b[39;49m(group_blocks), dtype\u001b[39m=\u001b[39;49mdtype, can_consolidate\u001b[39m=\u001b[39;49m_can_consolidate\n\u001b[0;32m   2297\u001b[0m     )\n\u001b[0;32m   2298\u001b[0m     new_blocks \u001b[39m=\u001b[39m extend_blocks(merged_blocks, new_blocks)\n\u001b[0;32m   2299\u001b[0m \u001b[39mreturn\u001b[39;00m \u001b[39mtuple\u001b[39m(new_blocks)\n",
      "File \u001b[1;32mc:\\Users\\utente\\AppData\\Local\\Programs\\Python\\Python311\\Lib\\site-packages\\pandas\\core\\internals\\managers.py:2358\u001b[0m, in \u001b[0;36m_merge_blocks\u001b[1;34m(blocks, dtype, can_consolidate)\u001b[0m\n\u001b[0;32m   2355\u001b[0m     new_mgr_locs \u001b[39m=\u001b[39m new_mgr_locs[argsort]\n\u001b[0;32m   2357\u001b[0m     bp \u001b[39m=\u001b[39m BlockPlacement(new_mgr_locs)\n\u001b[1;32m-> 2358\u001b[0m     \u001b[39mreturn\u001b[39;00m [new_block_2d(new_values, placement\u001b[39m=\u001b[39;49mbp)], \u001b[39mTrue\u001b[39;00m\n\u001b[0;32m   2360\u001b[0m \u001b[39m# can't consolidate --> no merge\u001b[39;00m\n\u001b[0;32m   2361\u001b[0m \u001b[39mreturn\u001b[39;00m blocks, \u001b[39mFalse\u001b[39;00m\n",
      "File \u001b[1;32mc:\\Users\\utente\\AppData\\Local\\Programs\\Python\\Python311\\Lib\\site-packages\\pandas\\core\\internals\\blocks.py:2159\u001b[0m, in \u001b[0;36mnew_block_2d\u001b[1;34m(values, placement)\u001b[0m\n\u001b[0;32m   2155\u001b[0m         \u001b[39mcls\u001b[39m \u001b[39m=\u001b[39m ObjectBlock\n\u001b[0;32m   2156\u001b[0m     \u001b[39mreturn\u001b[39;00m \u001b[39mcls\u001b[39m\n\u001b[1;32m-> 2159\u001b[0m \u001b[39mdef\u001b[39;00m \u001b[39mnew_block_2d\u001b[39m(values: ArrayLike, placement: BlockPlacement):\n\u001b[0;32m   2160\u001b[0m     \u001b[39m# new_block specialized to case with\u001b[39;00m\n\u001b[0;32m   2161\u001b[0m     \u001b[39m#  ndim=2\u001b[39;00m\n\u001b[0;32m   2162\u001b[0m     \u001b[39m#  isinstance(placement, BlockPlacement)\u001b[39;00m\n\u001b[0;32m   2163\u001b[0m     \u001b[39m#  check_ndim/ensure_block_shape already checked\u001b[39;00m\n\u001b[0;32m   2164\u001b[0m     klass \u001b[39m=\u001b[39m get_block_type(values\u001b[39m.\u001b[39mdtype)\n\u001b[0;32m   2166\u001b[0m     values \u001b[39m=\u001b[39m maybe_coerce_values(values)\n",
      "\u001b[1;31mKeyboardInterrupt\u001b[0m: "
     ]
    }
   ],
   "source": [
    "for i in range(1,13):\n",
    "    month_name = calendar.month_name[i]\n",
    "    print(\"********\")\n",
    "    new_df  = df_temperatues\n",
    "    \n",
    "    \n",
    "    new_df[month_name+\"_qc_flag\"] = df_temperatues[month_name+\"_qc_flag\"].apply(lambda x: \"-\" if pd.isna(x) else x)\n",
    "    prova = new_df[new_df[month_name+\"_qc_flag\"] == \"-\"]\n",
    "   # lista = list(set(prova.to_list()))\n",
    "    print(month_name, len(prova))\n",
    "\n",
    "    "
   ]
  },
  {
   "cell_type": "code",
   "execution_count": null,
   "metadata": {},
   "outputs": [],
   "source": [
    "\n",
    "# for index, row in merged.iterrows():\n",
    "#     print(f\"{index:5}\", f\"{row['name']:50}\",row['fips'])\n",
    "\n",
    "\n",
    "# print(merged)\n",
    "\n",
    "df_stations = pd.read_csv(FILE_CSV_STATIONS)\n",
    "# print(len(pd.unique(df_stations['fips'])))\n",
    "\n",
    "merged2 = df_stations.merge(merged, how='left', on='fips')\n",
    "# merged2 = merged2.drop(['name_country', 'region', 'sub-region', 'region-code', 'sub-region-code'], axis=1)\n",
    "merged2 = merged2.drop_duplicates() \n",
    "merged2 = merged2.reset_index()\n",
    "\n",
    "# print(merged2)\n",
    "for index, row in merged2.iterrows():\n",
    "    print(str(row).replace(\"\\n\",\"\\t\",-1))\n",
    "\n"
   ]
  }
 ],
 "metadata": {
  "kernelspec": {
   "display_name": "Python 3.11.0 64-bit",
   "language": "python",
   "name": "python3"
  },
  "language_info": {
   "codemirror_mode": {
    "name": "ipython",
    "version": 3
   },
   "file_extension": ".py",
   "mimetype": "text/x-python",
   "name": "python",
   "nbconvert_exporter": "python",
   "pygments_lexer": "ipython3",
   "version": "3.11.0"
  },
  "orig_nbformat": 4,
  "vscode": {
   "interpreter": {
    "hash": "a29d3b88d3d770f4c6b76b3f467a825cd9493448f3062cde152f1e267121f11d"
   }
  }
 },
 "nbformat": 4,
 "nbformat_minor": 2
}
